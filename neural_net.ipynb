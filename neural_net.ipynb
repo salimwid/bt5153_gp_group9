{
 "cells": [
  {
   "cell_type": "markdown",
   "id": "cce8321d-6519-46f1-9487-fb3046614b35",
   "metadata": {
    "id": "cce8321d-6519-46f1-9487-fb3046614b35"
   },
   "source": [
    "# Modelling\n",
    "\n",
    "Feature engineering, model training, tuning, selection and explanability."
   ]
  },
  {
   "cell_type": "markdown",
   "id": "002dbab7-58dd-4ba0-8481-7821e28aae8a",
   "metadata": {
    "id": "002dbab7-58dd-4ba0-8481-7821e28aae8a"
   },
   "source": [
    "# 0. Load Packages and Define Helper Functions"
   ]
  },
  {
   "cell_type": "code",
   "execution_count": 1,
   "id": "4569f689-b6f1-4bfc-af64-7d0fe9a0850c",
   "metadata": {
    "id": "4569f689-b6f1-4bfc-af64-7d0fe9a0850c"
   },
   "outputs": [],
   "source": [
    "import pandas as pd\n",
    "import numpy as np\n",
    "import matplotlib.pyplot as plt\n",
    "import seaborn as sns\n",
    "from random import randint, uniform\n",
    "from preprocessing import preprocess_df, get_amenities\n",
    "from sklearn.pipeline import Pipeline, make_pipeline\n",
    "from sklearn.inspection import permutation_importance\n",
    "from sklearn.ensemble import StackingRegressor\n",
    "\n",
    "import warnings\n",
    "warnings.filterwarnings('ignore')"
   ]
  },
  {
   "cell_type": "code",
   "execution_count": 2,
   "id": "9a922dad-858a-4ee9-9ac9-fd1ed80b3bab",
   "metadata": {
    "id": "9a922dad-858a-4ee9-9ac9-fd1ed80b3bab"
   },
   "outputs": [],
   "source": [
    "from sklearn.linear_model import LinearRegression, Lasso # baseline\n",
    "from sklearn.ensemble import RandomForestRegressor #good\n",
    "from xgboost import XGBRegressor #good\n",
    "from lightgbm import LGBMRegressor # goodest\n",
    "\n",
    "from sklearn.pipeline import Pipeline\n",
    "from sklearn.preprocessing import StandardScaler,OneHotEncoder, RobustScaler, QuantileTransformer\n",
    "from sklearn.compose import ColumnTransformer\n",
    "from sklearn import set_config\n",
    "set_config(display=\"diagram\")\n",
    "\n",
    "from sklearn.model_selection import train_test_split, cross_validate, GridSearchCV, RandomizedSearchCV\n",
    "from sklearn.metrics import mean_squared_error"
   ]
  },
  {
   "cell_type": "code",
   "execution_count": 38,
   "id": "25f3c021",
   "metadata": {},
   "outputs": [],
   "source": [
    "from sklearn.compose import make_column_selector\n",
    "from sklearn.compose import make_column_transformer\n",
    "from sklearn.pipeline import make_pipeline\n",
    "from sklearn.model_selection import train_test_split\n",
    "from sklearn.compose import make_column_selector\n",
    "from sklearn.compose import make_column_transformer\n",
    "from sklearn.pipeline import make_pipeline\n",
    "from sklearn.preprocessing import StandardScaler\n",
    "from sklearn.preprocessing import OneHotEncoder\n",
    "from sklearn import set_config\n",
    "set_config(display=\"diagram\")\n",
    "from keras.models import Sequential\n",
    "from keras.layers import Dense\n",
    "from keras.wrappers.scikit_learn import KerasRegressor\n",
    "from sklearn.model_selection import cross_val_score\n",
    "from sklearn.model_selection import KFold\n",
    "from sklearn.linear_model import LinearRegression\n",
    "from sklearn.metrics import mean_squared_error\n",
    "from sklearn.metrics import r2_score\n",
    "from sklearn.tree import DecisionTreeRegressor\n",
    "from keras import backend\n",
    "import warnings\n",
    "warnings.filterwarnings(\"ignore\")\n",
    "import pandas as pd\n",
    "import numpy as np"
   ]
  },
  {
   "cell_type": "code",
   "execution_count": 3,
   "id": "e7162e3f-b50c-4bfd-a76d-7459f22dc28c",
   "metadata": {
    "id": "e7162e3f-b50c-4bfd-a76d-7459f22dc28c"
   },
   "outputs": [],
   "source": [
    "def fit_and_score(model, X_train, X_test, y_train, y_test):\n",
    "    \n",
    "    model.fit(X_train, y_train)\n",
    "    \n",
    "    # Train metrics\n",
    "    pred_train= model.predict(X_train)\n",
    "    train_MSE = mean_squared_error(y_train, pred_train)\n",
    "    \n",
    "    # Cross validated metrics\n",
    "    cv_score = cross_validate(model, X_train, y_train, scoring=['r2', 'neg_mean_squared_error'],n_jobs=2, verbose=1, cv = 5) \n",
    "    \n",
    "    # Test metrics\n",
    "    pred_test= model.predict(X_test)\n",
    "    test_MSE = mean_squared_error(y_test, pred_test)\n",
    "    \n",
    "    print('Train R-sq', round(model.score(X_train, y_train),4))\n",
    "    print('Train MSE:', round(train_MSE,4))\n",
    "    print('')\n",
    "    print('CV R-sq', round(np.mean(cv_score['test_r2']),4))\n",
    "    print('CV MSE:', round(-np.mean(cv_score['test_neg_mean_squared_error']),4))\n",
    "    print('')\n",
    "    print('Test R-sq', round(model.score(X_test, y_test),4))\n",
    "    print('Test MSE:', round(test_MSE,4))\n",
    "    \n",
    "    return model\n",
    "\n",
    "\n",
    "def random_search_pipe(model, grid, X_train, y_train):\n",
    "    \n",
    "    search = RandomizedSearchCV(model, grid, cv=5,n_jobs=2, scoring='r2', n_iter = 100, verbose=1)\n",
    "    search.fit(X_train, y_train)\n",
    "    \n",
    "    print(\"Best params:\\n{}\".format(search.best_params_))\n",
    "    print(\"Best score:\\n{}\".format(search.best_score_)) #Mean cross-validated score of the best_estimator\n",
    "    \n",
    "    return search\n",
    "\n",
    "def grid_search_pipe(model, grid, X_train, y_train):\n",
    "    \n",
    "    search = GridSearchCV(model, grid, cv=5,n_jobs=2, scoring='r2', verbose=1)\n",
    "    search.fit(X_train, y_train)\n",
    "    \n",
    "    print(\"Best params:\\n{}\".format(search.best_params_))\n",
    "    print(\"Best score:\\n{}\".format(search.best_score_)) #Mean cross-validated score of the best_estimator\n",
    "    \n",
    "    return search"
   ]
  },
  {
   "cell_type": "code",
   "execution_count": 4,
   "id": "8e918cb1-8f31-43e9-bc56-9112bc09e10a",
   "metadata": {
    "id": "8e918cb1-8f31-43e9-bc56-9112bc09e10a"
   },
   "outputs": [],
   "source": [
    "def check_impact(df):\n",
    "    \n",
    "    print('Check accuracy at this step...')\n",
    "    \n",
    "    random_state = 12\n",
    "\n",
    "    dep_var = ['price_log']\n",
    "    to_drop = ['id', 'host_id', 'property_type', 'price', 'host_since', 'first_review', 'last_review']\n",
    "\n",
    "    X = df.fillna(0).drop(dep_var + to_drop, axis = 1)\n",
    "    y = df['price_log'].ravel()\n",
    "\n",
    "    X_train, X_test, y_train, y_test = train_test_split(X,y,test_size =0.2, random_state = random_state)\n",
    "\n",
    "    # Get numeric and categorical columns\n",
    "    num_cols = list(X.select_dtypes(include=np.number).columns)\n",
    "    cat_cols = list(set(X.columns)-set(X[num_cols].columns))\n",
    "\n",
    "    # Preprocess\n",
    "    preprocessor = ColumnTransformer(\n",
    "        transformers=[\n",
    "            ('num', StandardScaler(), num_cols ),\n",
    "            (\"cat\", Pipeline([('ohe', OneHotEncoder(handle_unknown='ignore'))]), cat_cols),\n",
    "        ]\n",
    "        , remainder='passthrough'\n",
    "    )\n",
    "\n",
    "    \n",
    "    lgbm_best = Pipeline([('preprocess', preprocessor),\n",
    "                    ('regressor', LGBMRegressor(random_state = random_state,\n",
    "                                               boosting_type = 'gbdt',\n",
    "                                               colsample_bytree = 0.5,\n",
    "                                               max_bin = 10,\n",
    "                                               max_depth = 12,\n",
    "                                               n_estimators = 350,\n",
    "                                               num_leaves = 30,\n",
    "                                               subsample = 0.50))\n",
    "                   ])\n",
    "\n",
    "\n",
    "    model = fit_and_score(model = lgbm_best, \n",
    "                                 X_train = X_train, \n",
    "                                 X_test = X_test,\n",
    "                                 y_train = y_train,\n",
    "                                 y_test = y_test)\n",
    "    \n",
    "    print('')\n",
    "    print('Shape of X: {}'.format(np.shape(X)))\n",
    "    "
   ]
  },
  {
   "cell_type": "markdown",
   "id": "b17ca18c-c8be-48a8-9a85-2bc1acbec670",
   "metadata": {
    "id": "b17ca18c-c8be-48a8-9a85-2bc1acbec670",
    "tags": []
   },
   "source": [
    "# 1. Load and Preprocess"
   ]
  },
  {
   "cell_type": "code",
   "execution_count": 5,
   "id": "1cec108c-c7b6-4139-8cd0-a1de147c5bd0",
   "metadata": {
    "id": "1cec108c-c7b6-4139-8cd0-a1de147c5bd0",
    "outputId": "a3c77061-edf5-4ca6-e99d-e2000ec8dc4c"
   },
   "outputs": [
    {
     "name": "stdout",
     "output_type": "stream",
     "text": [
      "Columns dropped ['listing_url', 'scrape_id', 'last_scraped', 'picture_url', 'host_about', 'host_picture_url', 'calendar_last_scraped', 'license', 'host_url', 'host_thumbnail_url', 'host_verifications', 'name', 'description', 'neighborhood_overview', 'host_name', 'calendar_updated', 'bathrooms', 'host_neighbourhood', 'neighbourhood', 'host_listings_count', 'beds', 'host_location', 'host_response_time', 'host_response_rate', 'host_acceptance_rate', 'calculated_host_listings_count', 'calculated_host_listings_count_entire_homes', 'calculated_host_listings_count_private_rooms', 'calculated_host_listings_count_shared_rooms', 'minimum_minimum_nights', 'maximum_minimum_nights', 'minimum_maximum_nights', 'maximum_maximum_nights', 'neighbourhood_cleansed']\n",
      "Before removing inactive listings, length = 66641\n",
      "After removing inactive listings, length = 33046\n",
      "After removing price = 0 listings, length = 33037\n",
      "Features bathroom_num and bathroom_sharing extracted.\n",
      "Int and float mv filled with 0, object mv filled with \"0\" and date mv filled with 2200-01-01.\n",
      "Before Log Transform to price, min = 8.0, max = 18557.0\n",
      "After Log Transform to price, min = 8.0, max = 18557.0\n",
      "bedrooms: 97 values above cutoff, value_cutoff = 5.0\n",
      "minimum_nights: 134 values above cutoff, value_cutoff = 90.0\n",
      "maximum_nights: 12 values above cutoff, value_cutoff = 1125.0\n",
      "minimum_nights_avg_ntm: 83 values above cutoff, value_cutoff = 179.2920000000042\n",
      "Preprocessing columns dropped ['bathrooms_text']\n"
     ]
    }
   ],
   "source": [
    "data = pd.read_csv('data/listings.csv.gz')\n",
    "df = preprocess_df(data = data, verbose = True)"
   ]
  },
  {
   "cell_type": "code",
   "execution_count": 6,
   "id": "a4467a62-6c91-4581-bdb6-7e49939a36a0",
   "metadata": {
    "id": "a4467a62-6c91-4581-bdb6-7e49939a36a0",
    "outputId": "76f60952-3a49-436b-a71e-431376d13d38"
   },
   "outputs": [
    {
     "data": {
      "text/plain": [
       "Index(['id', 'host_id', 'host_since', 'host_is_superhost',\n",
       "       'host_total_listings_count', 'host_has_profile_pic',\n",
       "       'host_identity_verified', 'neighbourhood_group_cleansed', 'latitude',\n",
       "       'longitude', 'property_type', 'room_type', 'accommodates', 'bedrooms',\n",
       "       'amenities', 'price', 'minimum_nights', 'maximum_nights',\n",
       "       'minimum_nights_avg_ntm', 'maximum_nights_avg_ntm', 'has_availability',\n",
       "       'availability_30', 'availability_60', 'availability_90',\n",
       "       'availability_365', 'number_of_reviews', 'number_of_reviews_ltm',\n",
       "       'number_of_reviews_l30d', 'first_review', 'last_review',\n",
       "       'review_scores_rating', 'review_scores_accuracy',\n",
       "       'review_scores_cleanliness', 'review_scores_checkin',\n",
       "       'review_scores_communication', 'review_scores_location',\n",
       "       'review_scores_value', 'instant_bookable', 'reviews_per_month',\n",
       "       'bathroom_num', 'bathroom_sharing', 'price_log'],\n",
       "      dtype='object')"
      ]
     },
     "execution_count": 6,
     "metadata": {},
     "output_type": "execute_result"
    }
   ],
   "source": [
    "df.columns"
   ]
  },
  {
   "cell_type": "code",
   "execution_count": 7,
   "id": "47cff3f3-8d46-4a99-8229-c42950bf4a89",
   "metadata": {
    "id": "47cff3f3-8d46-4a99-8229-c42950bf4a89",
    "outputId": "12789ae1-7488-44ab-fb23-d0fed31089f2"
   },
   "outputs": [
    {
     "name": "stdout",
     "output_type": "stream",
     "text": [
      "[('wifi', 32096), ('essentials', 31414), ('smoke alarm', 30603), ('heating', 29750), ('kitchen', 29321), ('hangers', 28388), ('long term stays allowed', 28070), ('iron', 27868), ('washer', 26852), ('hair dryer', 26387), ('hot water', 25305), ('shampoo', 23394), ('carbon monoxide alarm', 22656), ('dedicated workspace', 22473), ('dishes and silverware', 21126), ('cooking basics', 20499), ('refrigerator', 20424), ('bed linens', 18340), ('tv', 17925), ('microwave', 17588), ('oven', 17256), ('stove', 15436), ('dryer', 14012), ('first aid kit', 12522), ('fire extinguisher', 12352), ('coffee maker', 11651), ('dishwasher', 11275), ('private entrance', 9889), ('extra pillows and blankets', 9725), ('luggage dropoff allowed', 8066), ('host greets you', 7248), ('lockbox', 7143), ('bathtub', 7013), ('elevator', 6878), ('free parking on premises', 6310), ('shower gel', 6301), ('paid parking off premises', 5864), ('hot water kettle', 5738), ('backyard', 5698), ('free street parking', 5674), ('lock on bedroom door', 5604), ('cable tv', 5413), ('patio or balcony', 5369), ('freezer', 5126), ('tv with standard cable', 5090), ('cleaning products', 4846), ('toaster', 4640), ('dining table', 4194), ('wine glasses', 4070), ('room-darkening shades', 4002), ('body soap', 3667), ('breakfast', 3660), ('drying rack for clothing', 3585), ('single level home', 3324), ('security cameras on property', 3241), ('conditioner', 2649), ('indoor fireplace', 2563), ('portable fans', 2561), ('ethernet connection', 2550), ('outdoor furniture', 2502), ('laundromat nearby', 2501), ('pack ’n play/travel crib', 2434), ('crib', 2400), ('air conditioning', 2316), ('high chair', 2232), ('baking sheet', 2205), ('bbq grill', 2054), ('paid parking on premises', 1998), ('private patio or balcony', 1967), ('central heating', 1853), ('outdoor dining area', 1762), ('children’s books and toys', 1704), ('cleaning before checkout', 1598), ('clothing storage', 1424), ('clothing storage: closet', 1316), ('mini fridge', 1200), ('private fenced garden or backyard', 1120), ('building staff', 1111), ('paid street parking off premises', 1096), ('nespresso machine', 1053)]\n",
      "Preprocessing columns dropped ['amenities']\n"
     ]
    }
   ],
   "source": [
    "df = get_amenities(data = df, \n",
    "                   num_amenities =80, # best is to call 80 amenities and select from there\n",
    "                  verbose = True)"
   ]
  },
  {
   "cell_type": "code",
   "execution_count": 8,
   "id": "c70f530f-e242-4c05-8442-29d0644831c4",
   "metadata": {
    "id": "c70f530f-e242-4c05-8442-29d0644831c4",
    "outputId": "fdbdba12-20c8-4497-c426-a1e26f797d43"
   },
   "outputs": [
    {
     "data": {
      "text/html": [
       "<div>\n",
       "<style scoped>\n",
       "    .dataframe tbody tr th:only-of-type {\n",
       "        vertical-align: middle;\n",
       "    }\n",
       "\n",
       "    .dataframe tbody tr th {\n",
       "        vertical-align: top;\n",
       "    }\n",
       "\n",
       "    .dataframe thead th {\n",
       "        text-align: right;\n",
       "    }\n",
       "</style>\n",
       "<table border=\"1\" class=\"dataframe\">\n",
       "  <thead>\n",
       "    <tr style=\"text-align: right;\">\n",
       "      <th></th>\n",
       "      <th>id</th>\n",
       "      <th>host_id</th>\n",
       "      <th>host_since</th>\n",
       "      <th>host_is_superhost</th>\n",
       "      <th>host_total_listings_count</th>\n",
       "      <th>host_has_profile_pic</th>\n",
       "      <th>host_identity_verified</th>\n",
       "      <th>neighbourhood_group_cleansed</th>\n",
       "      <th>latitude</th>\n",
       "      <th>longitude</th>\n",
       "      <th>...</th>\n",
       "      <th>amenities_outdoor dining area</th>\n",
       "      <th>amenities_children’s books and toys</th>\n",
       "      <th>amenities_cleaning before checkout</th>\n",
       "      <th>amenities_clothing storage</th>\n",
       "      <th>amenities_clothing storage: closet</th>\n",
       "      <th>amenities_mini fridge</th>\n",
       "      <th>amenities_private fenced garden or backyard</th>\n",
       "      <th>amenities_building staff</th>\n",
       "      <th>amenities_paid street parking off premises</th>\n",
       "      <th>amenities_nespresso machine</th>\n",
       "    </tr>\n",
       "  </thead>\n",
       "  <tbody>\n",
       "    <tr>\n",
       "      <th>1</th>\n",
       "      <td>15400</td>\n",
       "      <td>60302</td>\n",
       "      <td>2020-03-16</td>\n",
       "      <td>0</td>\n",
       "      <td>1.0</td>\n",
       "      <td>1</td>\n",
       "      <td>1</td>\n",
       "      <td>0.0</td>\n",
       "      <td>51.48780</td>\n",
       "      <td>-0.16813</td>\n",
       "      <td>...</td>\n",
       "      <td>0</td>\n",
       "      <td>0</td>\n",
       "      <td>0</td>\n",
       "      <td>0</td>\n",
       "      <td>0</td>\n",
       "      <td>0</td>\n",
       "      <td>0</td>\n",
       "      <td>0</td>\n",
       "      <td>0</td>\n",
       "      <td>0</td>\n",
       "    </tr>\n",
       "    <tr>\n",
       "      <th>4</th>\n",
       "      <td>25123</td>\n",
       "      <td>103583</td>\n",
       "      <td>2020-03-15</td>\n",
       "      <td>0</td>\n",
       "      <td>3.0</td>\n",
       "      <td>1</td>\n",
       "      <td>1</td>\n",
       "      <td>0.0</td>\n",
       "      <td>51.57438</td>\n",
       "      <td>-0.21081</td>\n",
       "      <td>...</td>\n",
       "      <td>0</td>\n",
       "      <td>0</td>\n",
       "      <td>0</td>\n",
       "      <td>0</td>\n",
       "      <td>0</td>\n",
       "      <td>0</td>\n",
       "      <td>0</td>\n",
       "      <td>0</td>\n",
       "      <td>0</td>\n",
       "      <td>0</td>\n",
       "    </tr>\n",
       "    <tr>\n",
       "      <th>9</th>\n",
       "      <td>38610</td>\n",
       "      <td>165579</td>\n",
       "      <td>2020-08-12</td>\n",
       "      <td>1</td>\n",
       "      <td>2.0</td>\n",
       "      <td>1</td>\n",
       "      <td>1</td>\n",
       "      <td>0.0</td>\n",
       "      <td>51.50701</td>\n",
       "      <td>-0.23362</td>\n",
       "      <td>...</td>\n",
       "      <td>0</td>\n",
       "      <td>0</td>\n",
       "      <td>1</td>\n",
       "      <td>0</td>\n",
       "      <td>0</td>\n",
       "      <td>0</td>\n",
       "      <td>1</td>\n",
       "      <td>0</td>\n",
       "      <td>0</td>\n",
       "      <td>0</td>\n",
       "    </tr>\n",
       "    <tr>\n",
       "      <th>11</th>\n",
       "      <td>38995</td>\n",
       "      <td>167281</td>\n",
       "      <td>2020-02-21</td>\n",
       "      <td>0</td>\n",
       "      <td>1.0</td>\n",
       "      <td>1</td>\n",
       "      <td>1</td>\n",
       "      <td>0.0</td>\n",
       "      <td>51.47860</td>\n",
       "      <td>-0.06114</td>\n",
       "      <td>...</td>\n",
       "      <td>0</td>\n",
       "      <td>0</td>\n",
       "      <td>0</td>\n",
       "      <td>0</td>\n",
       "      <td>0</td>\n",
       "      <td>0</td>\n",
       "      <td>0</td>\n",
       "      <td>0</td>\n",
       "      <td>0</td>\n",
       "      <td>0</td>\n",
       "    </tr>\n",
       "    <tr>\n",
       "      <th>14</th>\n",
       "      <td>41311</td>\n",
       "      <td>103583</td>\n",
       "      <td>2020-01-18</td>\n",
       "      <td>0</td>\n",
       "      <td>3.0</td>\n",
       "      <td>1</td>\n",
       "      <td>1</td>\n",
       "      <td>0.0</td>\n",
       "      <td>51.57400</td>\n",
       "      <td>-0.21058</td>\n",
       "      <td>...</td>\n",
       "      <td>0</td>\n",
       "      <td>0</td>\n",
       "      <td>0</td>\n",
       "      <td>0</td>\n",
       "      <td>0</td>\n",
       "      <td>0</td>\n",
       "      <td>0</td>\n",
       "      <td>0</td>\n",
       "      <td>0</td>\n",
       "      <td>0</td>\n",
       "    </tr>\n",
       "  </tbody>\n",
       "</table>\n",
       "<p>5 rows × 121 columns</p>\n",
       "</div>"
      ],
      "text/plain": [
       "       id  host_id host_since  host_is_superhost  host_total_listings_count  \\\n",
       "1   15400    60302 2020-03-16                  0                        1.0   \n",
       "4   25123   103583 2020-03-15                  0                        3.0   \n",
       "9   38610   165579 2020-08-12                  1                        2.0   \n",
       "11  38995   167281 2020-02-21                  0                        1.0   \n",
       "14  41311   103583 2020-01-18                  0                        3.0   \n",
       "\n",
       "    host_has_profile_pic  host_identity_verified  \\\n",
       "1                      1                       1   \n",
       "4                      1                       1   \n",
       "9                      1                       1   \n",
       "11                     1                       1   \n",
       "14                     1                       1   \n",
       "\n",
       "    neighbourhood_group_cleansed  latitude  longitude  ...  \\\n",
       "1                            0.0  51.48780   -0.16813  ...   \n",
       "4                            0.0  51.57438   -0.21081  ...   \n",
       "9                            0.0  51.50701   -0.23362  ...   \n",
       "11                           0.0  51.47860   -0.06114  ...   \n",
       "14                           0.0  51.57400   -0.21058  ...   \n",
       "\n",
       "   amenities_outdoor dining area amenities_children’s books and toys  \\\n",
       "1                              0                                   0   \n",
       "4                              0                                   0   \n",
       "9                              0                                   0   \n",
       "11                             0                                   0   \n",
       "14                             0                                   0   \n",
       "\n",
       "    amenities_cleaning before checkout  amenities_clothing storage  \\\n",
       "1                                    0                           0   \n",
       "4                                    0                           0   \n",
       "9                                    1                           0   \n",
       "11                                   0                           0   \n",
       "14                                   0                           0   \n",
       "\n",
       "    amenities_clothing storage: closet  amenities_mini fridge  \\\n",
       "1                                    0                      0   \n",
       "4                                    0                      0   \n",
       "9                                    0                      0   \n",
       "11                                   0                      0   \n",
       "14                                   0                      0   \n",
       "\n",
       "    amenities_private fenced garden or backyard  amenities_building staff  \\\n",
       "1                                             0                         0   \n",
       "4                                             0                         0   \n",
       "9                                             1                         0   \n",
       "11                                            0                         0   \n",
       "14                                            0                         0   \n",
       "\n",
       "    amenities_paid street parking off premises  amenities_nespresso machine  \n",
       "1                                            0                            0  \n",
       "4                                            0                            0  \n",
       "9                                            0                            0  \n",
       "11                                           0                            0  \n",
       "14                                           0                            0  \n",
       "\n",
       "[5 rows x 121 columns]"
      ]
     },
     "execution_count": 8,
     "metadata": {},
     "output_type": "execute_result"
    }
   ],
   "source": [
    "df.head()"
   ]
  },
  {
   "cell_type": "code",
   "execution_count": 9,
   "id": "b3cc625a-ce6d-4364-9aac-73a232d0311b",
   "metadata": {
    "id": "b3cc625a-ce6d-4364-9aac-73a232d0311b",
    "outputId": "dd640d5d-6423-4277-8a86-160a1c89cf97"
   },
   "outputs": [
    {
     "data": {
      "text/plain": [
       "Entire home/apt    20083\n",
       "Private room       12646\n",
       "Shared room          142\n",
       "Hotel room           139\n",
       "Name: room_type, dtype: int64"
      ]
     },
     "execution_count": 9,
     "metadata": {},
     "output_type": "execute_result"
    }
   ],
   "source": [
    "df['room_type'].value_counts()"
   ]
  },
  {
   "cell_type": "markdown",
   "id": "59bfc1ca-887c-4e79-ae11-32e9f200fb14",
   "metadata": {
    "id": "59bfc1ca-887c-4e79-ae11-32e9f200fb14"
   },
   "source": [
    "## 1.1 Baseline Before Feature Engineering"
   ]
  },
  {
   "cell_type": "code",
   "execution_count": 10,
   "id": "adf22755-d982-4a4f-b9c2-c2735a9f1f29",
   "metadata": {
    "id": "adf22755-d982-4a4f-b9c2-c2735a9f1f29",
    "outputId": "fc425d19-1e13-4ffe-c979-6b4e5de200a6"
   },
   "outputs": [
    {
     "name": "stdout",
     "output_type": "stream",
     "text": [
      "Check accuracy at this step...\n"
     ]
    },
    {
     "name": "stderr",
     "output_type": "stream",
     "text": [
      "[Parallel(n_jobs=2)]: Using backend LokyBackend with 2 concurrent workers.\n",
      "[Parallel(n_jobs=2)]: Done   5 out of   5 | elapsed:    5.7s finished\n"
     ]
    },
    {
     "name": "stdout",
     "output_type": "stream",
     "text": [
      "Train R-sq 0.8698\n",
      "Train MSE: 0.0813\n",
      "\n",
      "CV R-sq 0.7841\n",
      "CV MSE: 0.1348\n",
      "\n",
      "Test R-sq 0.7954\n",
      "Test MSE: 0.1225\n",
      "\n",
      "Shape of X: (33010, 113)\n"
     ]
    }
   ],
   "source": [
    "check_impact(df=df)"
   ]
  },
  {
   "cell_type": "markdown",
   "id": "2df2543a-9ea3-4eaa-8591-b40b754837a2",
   "metadata": {
    "id": "2df2543a-9ea3-4eaa-8591-b40b754837a2",
    "jp-MarkdownHeadingCollapsed": true,
    "tags": []
   },
   "source": [
    "# 2. Feature Engineering"
   ]
  },
  {
   "cell_type": "markdown",
   "id": "d6bb4511-1e54-4433-b47f-93ecd80eb1a6",
   "metadata": {
    "id": "d6bb4511-1e54-4433-b47f-93ecd80eb1a6"
   },
   "source": [
    "## 2.1 Host Duration"
   ]
  },
  {
   "cell_type": "code",
   "execution_count": 11,
   "id": "3f72504c-4a94-43e9-ae31-189aafcb5366",
   "metadata": {
    "id": "3f72504c-4a94-43e9-ae31-189aafcb5366"
   },
   "outputs": [],
   "source": [
    "# Last scraped date = 2021-12-07 (7th Dec)\n",
    "df['host_duration'] = (pd.to_datetime('2021-12-10') - df['host_since']).dt.days"
   ]
  },
  {
   "cell_type": "code",
   "execution_count": 12,
   "id": "1fed5c80-90f5-4ead-8a5b-de602aa241d0",
   "metadata": {
    "id": "1fed5c80-90f5-4ead-8a5b-de602aa241d0",
    "outputId": "41eb6bf0-d3ce-4e49-86f7-9d23844de7b9"
   },
   "outputs": [
    {
     "data": {
      "image/png": "[encoded data removed]",
      "text/plain": [
       "<Figure size 432x288 with 1 Axes>"
      ]
     },
     "metadata": {
      "needs_background": "light"
     },
     "output_type": "display_data"
    }
   ],
   "source": [
    "sns.histplot(df['host_duration'])\n",
    "plt.show()"
   ]
  },
  {
   "cell_type": "code",
   "execution_count": 13,
   "id": "4544b46d-a572-4c43-b6c8-77f812432fed",
   "metadata": {
    "id": "4544b46d-a572-4c43-b6c8-77f812432fed",
    "outputId": "d4fec250-fbfc-46bc-c7a8-f6f4d23de315"
   },
   "outputs": [
    {
     "name": "stdout",
     "output_type": "stream",
     "text": [
      "Check accuracy at this step...\n"
     ]
    },
    {
     "name": "stderr",
     "output_type": "stream",
     "text": [
      "[Parallel(n_jobs=2)]: Using backend LokyBackend with 2 concurrent workers.\n",
      "[Parallel(n_jobs=2)]: Done   5 out of   5 | elapsed:    4.3s finished\n"
     ]
    },
    {
     "name": "stdout",
     "output_type": "stream",
     "text": [
      "Train R-sq 0.8701\n",
      "Train MSE: 0.0811\n",
      "\n",
      "CV R-sq 0.7861\n",
      "CV MSE: 0.1336\n",
      "\n",
      "Test R-sq 0.7954\n",
      "Test MSE: 0.1225\n",
      "\n",
      "Shape of X: (33010, 114)\n"
     ]
    }
   ],
   "source": [
    "check_impact(df=df)"
   ]
  },
  {
   "cell_type": "markdown",
   "id": "NL4KuH9r8MS9",
   "metadata": {
    "id": "NL4KuH9r8MS9"
   },
   "source": [
    "## 2.2 managed_property\n",
    "\n",
    "- Binary (0,1). 1 if properties managed by host id exceed the 95th percentile."
   ]
  },
  {
   "cell_type": "code",
   "execution_count": 14,
   "id": "D6UBXhAu8BUA",
   "metadata": {
    "id": "D6UBXhAu8BUA",
    "outputId": "d09f6820-e1e6-4812-e963-8e8ee704a721"
   },
   "outputs": [
    {
     "name": "stdout",
     "output_type": "stream",
     "text": [
      "Understand managed property percentiles beyond P75\n",
      "\n",
      "   percentile  rooms_threshold\n",
      "0        0.80              1.0\n",
      "1        0.85              2.0\n",
      "2        0.90              2.0\n",
      "3        0.95              3.0\n",
      "*****EXTRACT PROPERTIES MANAGED BY HOST ID *****\n"
     ]
    },
    {
     "data": {
      "text/html": [
       "<div>\n",
       "<style scoped>\n",
       "    .dataframe tbody tr th:only-of-type {\n",
       "        vertical-align: middle;\n",
       "    }\n",
       "\n",
       "    .dataframe tbody tr th {\n",
       "        vertical-align: top;\n",
       "    }\n",
       "\n",
       "    .dataframe thead th {\n",
       "        text-align: right;\n",
       "    }\n",
       "</style>\n",
       "<table border=\"1\" class=\"dataframe\">\n",
       "  <thead>\n",
       "    <tr style=\"text-align: right;\">\n",
       "      <th></th>\n",
       "      <th>properties</th>\n",
       "    </tr>\n",
       "    <tr>\n",
       "      <th>host_id</th>\n",
       "      <th></th>\n",
       "    </tr>\n",
       "  </thead>\n",
       "  <tbody>\n",
       "    <tr>\n",
       "      <th>4775</th>\n",
       "      <td>7</td>\n",
       "    </tr>\n",
       "    <tr>\n",
       "      <th>5653</th>\n",
       "      <td>1</td>\n",
       "    </tr>\n",
       "    <tr>\n",
       "      <th>6774</th>\n",
       "      <td>3</td>\n",
       "    </tr>\n",
       "    <tr>\n",
       "      <th>9323</th>\n",
       "      <td>1</td>\n",
       "    </tr>\n",
       "    <tr>\n",
       "      <th>10657</th>\n",
       "      <td>2</td>\n",
       "    </tr>\n",
       "    <tr>\n",
       "      <th>...</th>\n",
       "      <td>...</td>\n",
       "    </tr>\n",
       "    <tr>\n",
       "      <th>433334823</th>\n",
       "      <td>1</td>\n",
       "    </tr>\n",
       "    <tr>\n",
       "      <th>433435234</th>\n",
       "      <td>2</td>\n",
       "    </tr>\n",
       "    <tr>\n",
       "      <th>433572694</th>\n",
       "      <td>1</td>\n",
       "    </tr>\n",
       "    <tr>\n",
       "      <th>433837373</th>\n",
       "      <td>1</td>\n",
       "    </tr>\n",
       "    <tr>\n",
       "      <th>434015315</th>\n",
       "      <td>2</td>\n",
       "    </tr>\n",
       "  </tbody>\n",
       "</table>\n",
       "<p>21772 rows × 1 columns</p>\n",
       "</div>"
      ],
      "text/plain": [
       "           properties\n",
       "host_id              \n",
       "4775                7\n",
       "5653                1\n",
       "6774                3\n",
       "9323                1\n",
       "10657               2\n",
       "...               ...\n",
       "433334823           1\n",
       "433435234           2\n",
       "433572694           1\n",
       "433837373           1\n",
       "434015315           2\n",
       "\n",
       "[21772 rows x 1 columns]"
      ]
     },
     "execution_count": 14,
     "metadata": {},
     "output_type": "execute_result"
    }
   ],
   "source": [
    "# Understand how many properties are potentially property managed\n",
    "\n",
    "percentiles=[0.80,0.85,0.90,0.95]\n",
    "percentile_rooms=[]\n",
    "room_above=[]\n",
    "\n",
    "for p in percentiles:\n",
    "   percentile_rooms.append(df.host_id.value_counts().quantile(p))\n",
    "\n",
    "print('Understand managed property percentiles beyond P75\\n')\n",
    "print(pd.DataFrame({'percentile':percentiles,'rooms_threshold':percentile_rooms}))\n",
    "\n",
    "property_count=pd.DataFrame(df.groupby(['host_id'])['host_id'].count())\n",
    "property_count.columns=['properties']\n",
    "print('*****EXTRACT PROPERTIES MANAGED BY HOST ID *****')\n",
    "property_count"
   ]
  },
  {
   "cell_type": "code",
   "execution_count": 15,
   "id": "sYrGpc78Xb2u",
   "metadata": {
    "id": "sYrGpc78Xb2u",
    "outputId": "c2bcd085-9da5-40c8-8366-c1722876ed96"
   },
   "outputs": [
    {
     "data": {
      "text/plain": [
       "0    22496\n",
       "1    10514\n",
       "Name: prop_managed, dtype: int64"
      ]
     },
     "execution_count": 15,
     "metadata": {},
     "output_type": "execute_result"
    }
   ],
   "source": [
    "property_count['prop_managed']=property_count['properties'].map(lambda x: 1 if x>=percentile_rooms[3] else 0)\n",
    "df=pd.merge(df,property_count,on='host_id',how='inner')\n",
    "df.prop_managed.value_counts()"
   ]
  },
  {
   "cell_type": "code",
   "execution_count": 16,
   "id": "af639fa3-0be8-43c0-b8d2-9d8e04323d10",
   "metadata": {
    "id": "af639fa3-0be8-43c0-b8d2-9d8e04323d10",
    "outputId": "f4322561-212a-4953-e150-55cbeff3f1a2"
   },
   "outputs": [
    {
     "name": "stdout",
     "output_type": "stream",
     "text": [
      "Check accuracy at this step...\n"
     ]
    },
    {
     "name": "stderr",
     "output_type": "stream",
     "text": [
      "[Parallel(n_jobs=2)]: Using backend LokyBackend with 2 concurrent workers.\n",
      "[Parallel(n_jobs=2)]: Done   5 out of   5 | elapsed:    4.2s finished\n"
     ]
    },
    {
     "name": "stdout",
     "output_type": "stream",
     "text": [
      "Train R-sq 0.8743\n",
      "Train MSE: 0.0775\n",
      "\n",
      "CV R-sq 0.7879\n",
      "CV MSE: 0.1309\n",
      "\n",
      "Test R-sq 0.7871\n",
      "Test MSE: 0.1336\n",
      "\n",
      "Shape of X: (33010, 116)\n"
     ]
    }
   ],
   "source": [
    "check_impact(df=df)"
   ]
  },
  {
   "cell_type": "markdown",
   "id": "LL3VvIjn8Vr_",
   "metadata": {
    "id": "LL3VvIjn8Vr_"
   },
   "source": [
    "## 2.3 Occupancy Rate\n",
    "\n",
    "- short term proxy: avail30\n",
    "- mid term proxy: avail60-90\n",
    "- long term proxy: avail365"
   ]
  },
  {
   "cell_type": "code",
   "execution_count": 17,
   "id": "eFjbhhln8VJH",
   "metadata": {
    "id": "eFjbhhln8VJH",
    "outputId": "c4a7ea4c-b423-418d-9a48-3e8a896aeed7"
   },
   "outputs": [
    {
     "data": {
      "text/html": [
       "<div>\n",
       "<style scoped>\n",
       "    .dataframe tbody tr th:only-of-type {\n",
       "        vertical-align: middle;\n",
       "    }\n",
       "\n",
       "    .dataframe tbody tr th {\n",
       "        vertical-align: top;\n",
       "    }\n",
       "\n",
       "    .dataframe thead th {\n",
       "        text-align: right;\n",
       "    }\n",
       "</style>\n",
       "<table border=\"1\" class=\"dataframe\">\n",
       "  <thead>\n",
       "    <tr style=\"text-align: right;\">\n",
       "      <th></th>\n",
       "      <th>availability_30</th>\n",
       "      <th>availability_60</th>\n",
       "      <th>availability_90</th>\n",
       "      <th>availability_365</th>\n",
       "    </tr>\n",
       "  </thead>\n",
       "  <tbody>\n",
       "    <tr>\n",
       "      <th>count</th>\n",
       "      <td>33010.000000</td>\n",
       "      <td>33010.000000</td>\n",
       "      <td>33010.000000</td>\n",
       "      <td>33010.000000</td>\n",
       "    </tr>\n",
       "    <tr>\n",
       "      <th>mean</th>\n",
       "      <td>6.882187</td>\n",
       "      <td>18.561527</td>\n",
       "      <td>31.615177</td>\n",
       "      <td>121.371191</td>\n",
       "    </tr>\n",
       "    <tr>\n",
       "      <th>std</th>\n",
       "      <td>9.251464</td>\n",
       "      <td>20.881292</td>\n",
       "      <td>33.341793</td>\n",
       "      <td>134.103803</td>\n",
       "    </tr>\n",
       "    <tr>\n",
       "      <th>min</th>\n",
       "      <td>0.000000</td>\n",
       "      <td>0.000000</td>\n",
       "      <td>0.000000</td>\n",
       "      <td>0.000000</td>\n",
       "    </tr>\n",
       "    <tr>\n",
       "      <th>25%</th>\n",
       "      <td>0.000000</td>\n",
       "      <td>0.000000</td>\n",
       "      <td>0.000000</td>\n",
       "      <td>0.000000</td>\n",
       "    </tr>\n",
       "    <tr>\n",
       "      <th>50%</th>\n",
       "      <td>1.000000</td>\n",
       "      <td>7.000000</td>\n",
       "      <td>17.000000</td>\n",
       "      <td>66.000000</td>\n",
       "    </tr>\n",
       "    <tr>\n",
       "      <th>75%</th>\n",
       "      <td>12.000000</td>\n",
       "      <td>37.000000</td>\n",
       "      <td>65.000000</td>\n",
       "      <td>248.000000</td>\n",
       "    </tr>\n",
       "    <tr>\n",
       "      <th>max</th>\n",
       "      <td>30.000000</td>\n",
       "      <td>60.000000</td>\n",
       "      <td>90.000000</td>\n",
       "      <td>365.000000</td>\n",
       "    </tr>\n",
       "  </tbody>\n",
       "</table>\n",
       "</div>"
      ],
      "text/plain": [
       "       availability_30  availability_60  availability_90  availability_365\n",
       "count     33010.000000     33010.000000     33010.000000      33010.000000\n",
       "mean          6.882187        18.561527        31.615177        121.371191\n",
       "std           9.251464        20.881292        33.341793        134.103803\n",
       "min           0.000000         0.000000         0.000000          0.000000\n",
       "25%           0.000000         0.000000         0.000000          0.000000\n",
       "50%           1.000000         7.000000        17.000000         66.000000\n",
       "75%          12.000000        37.000000        65.000000        248.000000\n",
       "max          30.000000        60.000000        90.000000        365.000000"
      ]
     },
     "execution_count": 17,
     "metadata": {},
     "output_type": "execute_result"
    }
   ],
   "source": [
    "cols=['availability_30','availability_60', 'availability_90','availability_365']\n",
    "df[cols].describe()"
   ]
  },
  {
   "cell_type": "code",
   "execution_count": 18,
   "id": "fXe5XR0M_aA6",
   "metadata": {
    "id": "fXe5XR0M_aA6"
   },
   "outputs": [],
   "source": [
    "df['occ_30D']=1-round(df.availability_30/30,2)\n",
    "df['occ_6090D']=((1-round(df.availability_60/60,2))+(1-round(df.availability_90/90,2)))/2\n",
    "df['occ_365']=1-round(df.availability_365/365,2)\n",
    "\n",
    "df=df.drop(cols,axis=1) # do not drop"
   ]
  },
  {
   "cell_type": "code",
   "execution_count": 19,
   "id": "dee9bc75-4327-43aa-8f49-42fd4ba0cc2e",
   "metadata": {
    "id": "dee9bc75-4327-43aa-8f49-42fd4ba0cc2e",
    "outputId": "a1ebc58c-0f52-4728-a474-cf868fe9e17b"
   },
   "outputs": [
    {
     "data": {
      "text/plain": [
       "Index(['id', 'host_id', 'host_since', 'host_is_superhost',\n",
       "       'host_total_listings_count', 'host_has_profile_pic',\n",
       "       'host_identity_verified', 'neighbourhood_group_cleansed', 'latitude',\n",
       "       'longitude',\n",
       "       ...\n",
       "       'amenities_private fenced garden or backyard',\n",
       "       'amenities_building staff',\n",
       "       'amenities_paid street parking off premises',\n",
       "       'amenities_nespresso machine', 'host_duration', 'properties',\n",
       "       'prop_managed', 'occ_30D', 'occ_6090D', 'occ_365'],\n",
       "      dtype='object', length=123)"
      ]
     },
     "execution_count": 19,
     "metadata": {},
     "output_type": "execute_result"
    }
   ],
   "source": [
    "df.columns"
   ]
  },
  {
   "cell_type": "code",
   "execution_count": 20,
   "id": "ce2c875d-f570-4413-8c66-9cf207b899ee",
   "metadata": {
    "id": "ce2c875d-f570-4413-8c66-9cf207b899ee",
    "outputId": "162e9a58-7434-4c89-d833-4b4e2e9d8345"
   },
   "outputs": [
    {
     "name": "stdout",
     "output_type": "stream",
     "text": [
      "Check accuracy at this step...\n"
     ]
    },
    {
     "name": "stderr",
     "output_type": "stream",
     "text": [
      "[Parallel(n_jobs=2)]: Using backend LokyBackend with 2 concurrent workers.\n",
      "[Parallel(n_jobs=2)]: Done   5 out of   5 | elapsed:    4.3s finished\n"
     ]
    },
    {
     "name": "stdout",
     "output_type": "stream",
     "text": [
      "Train R-sq 0.873\n",
      "Train MSE: 0.0783\n",
      "\n",
      "CV R-sq 0.7854\n",
      "CV MSE: 0.1325\n",
      "\n",
      "Test R-sq 0.7872\n",
      "Test MSE: 0.1335\n",
      "\n",
      "Shape of X: (33010, 115)\n"
     ]
    }
   ],
   "source": [
    "check_impact(df=df)"
   ]
  },
  {
   "cell_type": "markdown",
   "id": "612jmldhWpUF",
   "metadata": {
    "id": "612jmldhWpUF"
   },
   "source": [
    "## 2.4 Location Variables"
   ]
  },
  {
   "cell_type": "code",
   "execution_count": 21,
   "id": "d9irpfFJWwxk",
   "metadata": {
    "id": "d9irpfFJWwxk",
    "outputId": "d3d5833a-f134-43c8-f989-bc4a151cb74e"
   },
   "outputs": [
    {
     "data": {
      "text/html": [
       "<div>\n",
       "<style scoped>\n",
       "    .dataframe tbody tr th:only-of-type {\n",
       "        vertical-align: middle;\n",
       "    }\n",
       "\n",
       "    .dataframe tbody tr th {\n",
       "        vertical-align: top;\n",
       "    }\n",
       "\n",
       "    .dataframe thead th {\n",
       "        text-align: right;\n",
       "    }\n",
       "</style>\n",
       "<table border=\"1\" class=\"dataframe\">\n",
       "  <thead>\n",
       "    <tr style=\"text-align: right;\">\n",
       "      <th></th>\n",
       "      <th>id</th>\n",
       "      <th>host_id</th>\n",
       "      <th>host_since</th>\n",
       "      <th>host_is_superhost</th>\n",
       "      <th>host_total_listings_count</th>\n",
       "      <th>host_has_profile_pic</th>\n",
       "      <th>host_identity_verified</th>\n",
       "      <th>neighbourhood_group_cleansed</th>\n",
       "      <th>latitude</th>\n",
       "      <th>longitude</th>\n",
       "      <th>...</th>\n",
       "      <th>amenities_nespresso machine</th>\n",
       "      <th>host_duration</th>\n",
       "      <th>properties</th>\n",
       "      <th>prop_managed</th>\n",
       "      <th>occ_30D</th>\n",
       "      <th>occ_6090D</th>\n",
       "      <th>occ_365</th>\n",
       "      <th>station</th>\n",
       "      <th>station_dist</th>\n",
       "      <th>walking_distance</th>\n",
       "    </tr>\n",
       "  </thead>\n",
       "  <tbody>\n",
       "    <tr>\n",
       "      <th>0</th>\n",
       "      <td>15400</td>\n",
       "      <td>60302</td>\n",
       "      <td>2020-03-16</td>\n",
       "      <td>0</td>\n",
       "      <td>1.0</td>\n",
       "      <td>1</td>\n",
       "      <td>1</td>\n",
       "      <td>0.0</td>\n",
       "      <td>51.48780</td>\n",
       "      <td>-0.16813</td>\n",
       "      <td>...</td>\n",
       "      <td>0</td>\n",
       "      <td>634</td>\n",
       "      <td>1</td>\n",
       "      <td>0</td>\n",
       "      <td>1.0</td>\n",
       "      <td>1.000</td>\n",
       "      <td>0.99</td>\n",
       "      <td>South Kensington</td>\n",
       "      <td>805.406363</td>\n",
       "      <td>0.0</td>\n",
       "    </tr>\n",
       "    <tr>\n",
       "      <th>1</th>\n",
       "      <td>25123</td>\n",
       "      <td>103583</td>\n",
       "      <td>2020-03-15</td>\n",
       "      <td>0</td>\n",
       "      <td>3.0</td>\n",
       "      <td>1</td>\n",
       "      <td>1</td>\n",
       "      <td>0.0</td>\n",
       "      <td>51.57438</td>\n",
       "      <td>-0.21081</td>\n",
       "      <td>...</td>\n",
       "      <td>0</td>\n",
       "      <td>635</td>\n",
       "      <td>3</td>\n",
       "      <td>1</td>\n",
       "      <td>1.0</td>\n",
       "      <td>1.000</td>\n",
       "      <td>1.00</td>\n",
       "      <td>Brent Cross</td>\n",
       "      <td>302.665825</td>\n",
       "      <td>1.0</td>\n",
       "    </tr>\n",
       "    <tr>\n",
       "      <th>2</th>\n",
       "      <td>41311</td>\n",
       "      <td>103583</td>\n",
       "      <td>2020-01-18</td>\n",
       "      <td>0</td>\n",
       "      <td>3.0</td>\n",
       "      <td>1</td>\n",
       "      <td>1</td>\n",
       "      <td>0.0</td>\n",
       "      <td>51.57400</td>\n",
       "      <td>-0.21058</td>\n",
       "      <td>...</td>\n",
       "      <td>0</td>\n",
       "      <td>692</td>\n",
       "      <td>3</td>\n",
       "      <td>1</td>\n",
       "      <td>0.9</td>\n",
       "      <td>0.960</td>\n",
       "      <td>0.99</td>\n",
       "      <td>Brent Cross</td>\n",
       "      <td>346.564965</td>\n",
       "      <td>1.0</td>\n",
       "    </tr>\n",
       "    <tr>\n",
       "      <th>3</th>\n",
       "      <td>19516454</td>\n",
       "      <td>103583</td>\n",
       "      <td>2020-03-20</td>\n",
       "      <td>0</td>\n",
       "      <td>3.0</td>\n",
       "      <td>1</td>\n",
       "      <td>1</td>\n",
       "      <td>0.0</td>\n",
       "      <td>51.57466</td>\n",
       "      <td>-0.20916</td>\n",
       "      <td>...</td>\n",
       "      <td>0</td>\n",
       "      <td>630</td>\n",
       "      <td>3</td>\n",
       "      <td>1</td>\n",
       "      <td>1.0</td>\n",
       "      <td>1.000</td>\n",
       "      <td>1.00</td>\n",
       "      <td>Brent Cross</td>\n",
       "      <td>361.025714</td>\n",
       "      <td>1.0</td>\n",
       "    </tr>\n",
       "    <tr>\n",
       "      <th>4</th>\n",
       "      <td>38610</td>\n",
       "      <td>165579</td>\n",
       "      <td>2020-08-12</td>\n",
       "      <td>1</td>\n",
       "      <td>2.0</td>\n",
       "      <td>1</td>\n",
       "      <td>1</td>\n",
       "      <td>0.0</td>\n",
       "      <td>51.50701</td>\n",
       "      <td>-0.23362</td>\n",
       "      <td>...</td>\n",
       "      <td>0</td>\n",
       "      <td>485</td>\n",
       "      <td>1</td>\n",
       "      <td>0</td>\n",
       "      <td>0.8</td>\n",
       "      <td>0.335</td>\n",
       "      <td>0.07</td>\n",
       "      <td>Shepherds Bush Market</td>\n",
       "      <td>449.743591</td>\n",
       "      <td>3.0</td>\n",
       "    </tr>\n",
       "  </tbody>\n",
       "</table>\n",
       "<p>5 rows × 126 columns</p>\n",
       "</div>"
      ],
      "text/plain": [
       "         id  host_id host_since  host_is_superhost  host_total_listings_count  \\\n",
       "0     15400    60302 2020-03-16                  0                        1.0   \n",
       "1     25123   103583 2020-03-15                  0                        3.0   \n",
       "2     41311   103583 2020-01-18                  0                        3.0   \n",
       "3  19516454   103583 2020-03-20                  0                        3.0   \n",
       "4     38610   165579 2020-08-12                  1                        2.0   \n",
       "\n",
       "   host_has_profile_pic  host_identity_verified  neighbourhood_group_cleansed  \\\n",
       "0                     1                       1                           0.0   \n",
       "1                     1                       1                           0.0   \n",
       "2                     1                       1                           0.0   \n",
       "3                     1                       1                           0.0   \n",
       "4                     1                       1                           0.0   \n",
       "\n",
       "   latitude  longitude  ... amenities_nespresso machine host_duration  \\\n",
       "0  51.48780   -0.16813  ...                           0           634   \n",
       "1  51.57438   -0.21081  ...                           0           635   \n",
       "2  51.57400   -0.21058  ...                           0           692   \n",
       "3  51.57466   -0.20916  ...                           0           630   \n",
       "4  51.50701   -0.23362  ...                           0           485   \n",
       "\n",
       "   properties  prop_managed  occ_30D  occ_6090D  occ_365  \\\n",
       "0           1             0      1.0      1.000     0.99   \n",
       "1           3             1      1.0      1.000     1.00   \n",
       "2           3             1      0.9      0.960     0.99   \n",
       "3           3             1      1.0      1.000     1.00   \n",
       "4           1             0      0.8      0.335     0.07   \n",
       "\n",
       "                 station  station_dist  walking_distance  \n",
       "0       South Kensington    805.406363               0.0  \n",
       "1            Brent Cross    302.665825               1.0  \n",
       "2            Brent Cross    346.564965               1.0  \n",
       "3            Brent Cross    361.025714               1.0  \n",
       "4  Shepherds Bush Market    449.743591               3.0  \n",
       "\n",
       "[5 rows x 126 columns]"
      ]
     },
     "execution_count": 21,
     "metadata": {},
     "output_type": "execute_result"
    }
   ],
   "source": [
    "# Load computed location features\n",
    "location_features = ['station', 'station_dist','walking_distance']\n",
    "df = df.merge(pd.read_csv('computed_features/london_nearest_tube.csv')[['id']+location_features],left_on='id', right_on='id',how='left')\n",
    "df.head()"
   ]
  },
  {
   "cell_type": "markdown",
   "id": "e6dbfe5c-e700-4844-bc9e-c630bd53949b",
   "metadata": {
    "id": "e6dbfe5c-e700-4844-bc9e-c630bd53949b"
   },
   "source": [
    "## 2.5 Sentiment"
   ]
  },
  {
   "cell_type": "code",
   "execution_count": 22,
   "id": "d81a39ef-a695-45a7-a9a4-9452038a4c86",
   "metadata": {
    "id": "d81a39ef-a695-45a7-a9a4-9452038a4c86",
    "outputId": "5ecbf465-b597-49fd-d4aa-85f54a1d56e9"
   },
   "outputs": [
    {
     "data": {
      "text/html": [
       "<div>\n",
       "<style scoped>\n",
       "    .dataframe tbody tr th:only-of-type {\n",
       "        vertical-align: middle;\n",
       "    }\n",
       "\n",
       "    .dataframe tbody tr th {\n",
       "        vertical-align: top;\n",
       "    }\n",
       "\n",
       "    .dataframe thead th {\n",
       "        text-align: right;\n",
       "    }\n",
       "</style>\n",
       "<table border=\"1\" class=\"dataframe\">\n",
       "  <thead>\n",
       "    <tr style=\"text-align: right;\">\n",
       "      <th></th>\n",
       "      <th>id_x</th>\n",
       "      <th>host_id</th>\n",
       "      <th>host_since</th>\n",
       "      <th>host_is_superhost</th>\n",
       "      <th>host_total_listings_count</th>\n",
       "      <th>host_has_profile_pic</th>\n",
       "      <th>host_identity_verified</th>\n",
       "      <th>neighbourhood_group_cleansed</th>\n",
       "      <th>latitude</th>\n",
       "      <th>longitude</th>\n",
       "      <th>...</th>\n",
       "      <th>walking_distance</th>\n",
       "      <th>Unnamed: 0</th>\n",
       "      <th>id_y</th>\n",
       "      <th>reviewer_id</th>\n",
       "      <th>comments_len</th>\n",
       "      <th>key_reviewer</th>\n",
       "      <th>negative</th>\n",
       "      <th>neutral</th>\n",
       "      <th>positive</th>\n",
       "      <th>compound</th>\n",
       "    </tr>\n",
       "  </thead>\n",
       "  <tbody>\n",
       "    <tr>\n",
       "      <th>0</th>\n",
       "      <td>15400</td>\n",
       "      <td>60302</td>\n",
       "      <td>2020-03-16</td>\n",
       "      <td>0</td>\n",
       "      <td>1.0</td>\n",
       "      <td>1</td>\n",
       "      <td>1</td>\n",
       "      <td>0.0</td>\n",
       "      <td>51.48780</td>\n",
       "      <td>-0.16813</td>\n",
       "      <td>...</td>\n",
       "      <td>0.0</td>\n",
       "      <td>1.0</td>\n",
       "      <td>8.029375e+07</td>\n",
       "      <td>2.695406e+07</td>\n",
       "      <td>78.062500</td>\n",
       "      <td>0.075000</td>\n",
       "      <td>0.016000</td>\n",
       "      <td>0.682400</td>\n",
       "      <td>0.301550</td>\n",
       "      <td>0.900261</td>\n",
       "    </tr>\n",
       "    <tr>\n",
       "      <th>1</th>\n",
       "      <td>25123</td>\n",
       "      <td>103583</td>\n",
       "      <td>2020-03-15</td>\n",
       "      <td>0</td>\n",
       "      <td>3.0</td>\n",
       "      <td>1</td>\n",
       "      <td>1</td>\n",
       "      <td>0.0</td>\n",
       "      <td>51.57438</td>\n",
       "      <td>-0.21081</td>\n",
       "      <td>...</td>\n",
       "      <td>1.0</td>\n",
       "      <td>3.0</td>\n",
       "      <td>8.898858e+07</td>\n",
       "      <td>3.434179e+07</td>\n",
       "      <td>61.970588</td>\n",
       "      <td>0.127451</td>\n",
       "      <td>0.011020</td>\n",
       "      <td>0.607324</td>\n",
       "      <td>0.381667</td>\n",
       "      <td>0.941062</td>\n",
       "    </tr>\n",
       "    <tr>\n",
       "      <th>2</th>\n",
       "      <td>41311</td>\n",
       "      <td>103583</td>\n",
       "      <td>2020-01-18</td>\n",
       "      <td>0</td>\n",
       "      <td>3.0</td>\n",
       "      <td>1</td>\n",
       "      <td>1</td>\n",
       "      <td>0.0</td>\n",
       "      <td>51.57400</td>\n",
       "      <td>-0.21058</td>\n",
       "      <td>...</td>\n",
       "      <td>1.0</td>\n",
       "      <td>10.0</td>\n",
       "      <td>1.066726e+08</td>\n",
       "      <td>3.536433e+07</td>\n",
       "      <td>71.552239</td>\n",
       "      <td>0.074627</td>\n",
       "      <td>0.007433</td>\n",
       "      <td>0.627463</td>\n",
       "      <td>0.365134</td>\n",
       "      <td>0.961803</td>\n",
       "    </tr>\n",
       "    <tr>\n",
       "      <th>3</th>\n",
       "      <td>19516454</td>\n",
       "      <td>103583</td>\n",
       "      <td>2020-03-20</td>\n",
       "      <td>0</td>\n",
       "      <td>3.0</td>\n",
       "      <td>1</td>\n",
       "      <td>1</td>\n",
       "      <td>0.0</td>\n",
       "      <td>51.57466</td>\n",
       "      <td>-0.20916</td>\n",
       "      <td>...</td>\n",
       "      <td>1.0</td>\n",
       "      <td>16621.0</td>\n",
       "      <td>4.596262e+08</td>\n",
       "      <td>1.034197e+08</td>\n",
       "      <td>44.500000</td>\n",
       "      <td>0.136364</td>\n",
       "      <td>0.003682</td>\n",
       "      <td>0.558909</td>\n",
       "      <td>0.437409</td>\n",
       "      <td>0.953786</td>\n",
       "    </tr>\n",
       "    <tr>\n",
       "      <th>4</th>\n",
       "      <td>38610</td>\n",
       "      <td>165579</td>\n",
       "      <td>2020-08-12</td>\n",
       "      <td>1</td>\n",
       "      <td>2.0</td>\n",
       "      <td>1</td>\n",
       "      <td>1</td>\n",
       "      <td>0.0</td>\n",
       "      <td>51.50701</td>\n",
       "      <td>-0.23362</td>\n",
       "      <td>...</td>\n",
       "      <td>3.0</td>\n",
       "      <td>7.0</td>\n",
       "      <td>3.235218e+08</td>\n",
       "      <td>8.901368e+07</td>\n",
       "      <td>86.068966</td>\n",
       "      <td>0.000000</td>\n",
       "      <td>0.007931</td>\n",
       "      <td>0.707483</td>\n",
       "      <td>0.284621</td>\n",
       "      <td>0.927310</td>\n",
       "    </tr>\n",
       "  </tbody>\n",
       "</table>\n",
       "<p>5 rows × 135 columns</p>\n",
       "</div>"
      ],
      "text/plain": [
       "       id_x  host_id host_since  host_is_superhost  host_total_listings_count  \\\n",
       "0     15400    60302 2020-03-16                  0                        1.0   \n",
       "1     25123   103583 2020-03-15                  0                        3.0   \n",
       "2     41311   103583 2020-01-18                  0                        3.0   \n",
       "3  19516454   103583 2020-03-20                  0                        3.0   \n",
       "4     38610   165579 2020-08-12                  1                        2.0   \n",
       "\n",
       "   host_has_profile_pic  host_identity_verified  neighbourhood_group_cleansed  \\\n",
       "0                     1                       1                           0.0   \n",
       "1                     1                       1                           0.0   \n",
       "2                     1                       1                           0.0   \n",
       "3                     1                       1                           0.0   \n",
       "4                     1                       1                           0.0   \n",
       "\n",
       "   latitude  longitude  ... walking_distance Unnamed: 0          id_y  \\\n",
       "0  51.48780   -0.16813  ...              0.0        1.0  8.029375e+07   \n",
       "1  51.57438   -0.21081  ...              1.0        3.0  8.898858e+07   \n",
       "2  51.57400   -0.21058  ...              1.0       10.0  1.066726e+08   \n",
       "3  51.57466   -0.20916  ...              1.0    16621.0  4.596262e+08   \n",
       "4  51.50701   -0.23362  ...              3.0        7.0  3.235218e+08   \n",
       "\n",
       "    reviewer_id  comments_len  key_reviewer  negative   neutral  positive  \\\n",
       "0  2.695406e+07     78.062500      0.075000  0.016000  0.682400  0.301550   \n",
       "1  3.434179e+07     61.970588      0.127451  0.011020  0.607324  0.381667   \n",
       "2  3.536433e+07     71.552239      0.074627  0.007433  0.627463  0.365134   \n",
       "3  1.034197e+08     44.500000      0.136364  0.003682  0.558909  0.437409   \n",
       "4  8.901368e+07     86.068966      0.000000  0.007931  0.707483  0.284621   \n",
       "\n",
       "   compound  \n",
       "0  0.900261  \n",
       "1  0.941062  \n",
       "2  0.961803  \n",
       "3  0.953786  \n",
       "4  0.927310  \n",
       "\n",
       "[5 rows x 135 columns]"
      ]
     },
     "execution_count": 22,
     "metadata": {},
     "output_type": "execute_result"
    }
   ],
   "source": [
    "############## Add sentiment features #################\n",
    "import pandas as pd\n",
    "df_sentiment = pd.read_csv('computed_features/nc_eng_with_sent.csv')\n",
    "# df_sentiment = df_sentiment.groupby('listing_id').mean()\n",
    "# df_sentiment = df_sentiment.reset_index()\n",
    "df=pd.merge(df,df_sentiment,left_on='id', right_on='listing_id',how='left')\n",
    "df = df.drop(['listing_id'], axis = 1)\n",
    "df = df.fillna(df.mean())\n",
    "df.head()"
   ]
  },
  {
   "cell_type": "markdown",
   "id": "0257fe2b",
   "metadata": {},
   "source": [
    "# 3. Feature selection"
   ]
  },
  {
   "cell_type": "code",
   "execution_count": 23,
   "id": "0bb82670",
   "metadata": {},
   "outputs": [],
   "source": [
    "from lightgbm import LGBMRegressor\n",
    "from lightgbm import plot_importance\n",
    "from sklearn.preprocessing import LabelEncoder\n",
    "\n",
    "\n",
    "def regression_scores(model, X_train, X_test, y_train, y_test):\n",
    "    \n",
    "     # Train metrics\n",
    "    pred_train= model.predict(X_train)\n",
    "    train_MSE = mean_squared_error(y_train, pred_train)\n",
    "    \n",
    "    # Cross validated metrics\n",
    "    cv_score = cross_validate(model, X_train, y_train, scoring=['r2', 'neg_mean_squared_error'], verbose=0, cv = 5) \n",
    "    \n",
    "    \n",
    "    print('Train R-sq', round(model.score(X_train, y_train),4))\n",
    "    print('Train MSE:', round(train_MSE,4))\n",
    "    print('')\n",
    "    print('CV R-sq', round(np.mean(cv_score['test_r2']),4))\n",
    "    print('CV MSE:', round(-np.mean(cv_score['test_neg_mean_squared_error']),4))\n",
    "    print('')\n",
    "\n",
    "def run_model(X, y):\n",
    "    \n",
    "    random_state = 42\n",
    "    \n",
    "    # Automatic label encoding\n",
    "    le = LabelEncoder()\n",
    "    for column_name in X.columns:\n",
    "        if X[column_name].dtype == object:\n",
    "            X[column_name] = le.fit_transform(X[column_name])\n",
    "        else:\n",
    "            pass\n",
    "\n",
    "    # Train-Test split\n",
    "    X_train, X_test, y_train, y_test = train_test_split(X, y, test_size=0.2, random_state=random_state)\n",
    "\n",
    "    \n",
    "    # Train Model\n",
    "    rf = RandomForestRegressor(n_jobs = -1, random_state = random_state)\n",
    "    \n",
    "    # Fit Model\n",
    "    rf.fit(X_train, y_train)\n",
    "\n",
    "    # Score model on test set\n",
    "    regression_scores(rf, X_train = X_train, X_test = X_test, y_train = y_train, y_test = y_test)"
   ]
  },
  {
   "cell_type": "code",
   "execution_count": 24,
   "id": "00c7b64e",
   "metadata": {},
   "outputs": [],
   "source": [
    "## LGBMReressor\n",
    "\n",
    "from numpy import sort\n",
    "from sklearn.feature_selection import SelectFromModel\n",
    "#Get a function to generally see feature importance\n",
    "def run_lgbm(X,y):\n",
    "    random_state = 42\n",
    "    \n",
    "     # Train-Test split\n",
    "    X_train, X_test, y_train, y_test = train_test_split(X, y, test_size=0.2, random_state=random_state)\n",
    "    \n",
    "    lgbm = LGBMRegressor(n_jobs=-1,random_state=random_state)\n",
    "    lgbm.fit(X_train,y_train)\n",
    "    print('Scores run on full number of features')\n",
    "    regression_scores(lgbm, X_train = X_train, X_test = X_test, y_train = y_train, y_test = y_test)\n",
    "\n",
    "    # plot feature importance\n",
    "    # choice of gain, weighted or cover\n",
    "    # use gain; weighted might give too much bias to numerical or high cardinality. \n",
    "    # this post explains it well:\n",
    "    # https://towardsdatascience.com/be-careful-when-interpreting-your-features-importance-in-xgboost-6e16132588e7\n",
    "    plot_importance(lgbm, importance_type=\"gain\")\n",
    "    plt.show()\n",
    "    \n",
    "    ## From prof's sample code\n",
    "    # The following block of codes will try to use importance score for features selection\n",
    "\n",
    "    # Fit model using each importance as a threshold\n",
    "    thresholds = sort(lgbm.feature_importances_) # sort the importance score\n",
    "\n",
    "    # select feaures by using importance score as threshold\n",
    "    for thresh in thresholds:\n",
    "        # select features using threshold\n",
    "        selection = SelectFromModel(lgbm, threshold=thresh, prefit=True)\n",
    "        select_X_train = selection.transform(X_train)\n",
    "        # train model\n",
    "        selection_model = LGBMRegressor(n_jobs=-1, random_state = 42)\n",
    "        selection_model.fit(select_X_train, y_train)\n",
    "        # eval model\n",
    "        cv_score = cross_validate(selection_model, select_X_train, y_train, scoring=['r2', 'neg_mean_squared_error'], verbose=0, cv = 5)\n",
    "        select_X_test = selection.transform(X_test)\n",
    "        y_pred = selection_model.predict(select_X_test)\n",
    "        predictions = [round(value) for value in y_pred]\n",
    "        #test_MSE = mean_squared_error(y_train, y_pred)\n",
    "        #print('CV R-sq', round(np.mean(cv_score['test_r2']),4))\n",
    "        #print('CV MSE:', round(-np.mean(cv_score['test_neg_mean_squared_error']),4))\n",
    "        print(\"Thresh=%.3f, n=%d, CV MSE: %.2f\" % (thresh, select_X_train.shape[1], round(-np.mean(cv_score['test_neg_mean_squared_error']),4)))\n",
    "    \n",
    "    return selection"
   ]
  },
  {
   "cell_type": "code",
   "execution_count": 52,
   "id": "c87e2a19",
   "metadata": {},
   "outputs": [],
   "source": [
    "## modify the func to run at threshold = xx\n",
    "import eli5\n",
    "from eli5.sklearn import PermutationImportance\n",
    "\n",
    "## LGBMReressor\n",
    "from lightgbm import LGBMRegressor\n",
    "from lightgbm import plot_importance\n",
    "\n",
    "from numpy import sort\n",
    "from sklearn.feature_selection import SelectFromModel\n",
    "\n",
    "#Re-write function to accept threshold value and also output the test MSE on the selected subset\n",
    "def thresh_run_lgbm(X,y,thresh):\n",
    "    random_state = 42\n",
    "    \n",
    "     # Automatic label encoding\n",
    "    le = LabelEncoder()\n",
    "    for column_name in X.columns:\n",
    "        if X[column_name].dtype == object:\n",
    "            X[column_name] = le.fit_transform(X[column_name])\n",
    "        else:\n",
    "            pass\n",
    "        \n",
    "     # Train-Test split\n",
    "    X_train, X_test, y_train, y_test = train_test_split(X, y, test_size=0.2, random_state=random_state)\n",
    "    \n",
    "    lgbm = LGBMRegressor(n_jobs=-1,random_state=random_state)\n",
    "    lgbm.fit(X_train,y_train)\n",
    "    \n",
    "\n",
    "    # Fit model using each importance as a threshold\n",
    "    thresholds = sort(lgbm.feature_importances_) # sort the importance score\n",
    "\n",
    "    # select features using threshold\n",
    "    selection = SelectFromModel(lgbm, threshold=thresh, prefit=True)\n",
    "    select_X_train = selection.transform(X_train)\n",
    "    # train model\n",
    "    selection_model = LGBMRegressor(n_jobs=-1, random_state = 42)\n",
    "    selection_model.fit(select_X_train, y_train)\n",
    "    # eval model on cv\n",
    "    cv_score = cross_validate(selection_model, X_train, y_train, scoring=['r2', 'neg_mean_squared_error'], verbose=0, cv = 5)\n",
    "    select_X_test = selection.transform(X_test)\n",
    "    y_pred = selection_model.predict(select_X_test)\n",
    "   \n",
    "   # CV_MSE = mean_squared_error(y_test, cv_score)\n",
    "    \n",
    "    print('Score from selected subset of features')\n",
    "    #Score of subset features (not all features)\n",
    "    regression_scores(selection_model, X_train = select_X_train, X_test = select_X_test, y_train = y_train, y_test = y_test)\n",
    "    \n",
    "    print(\"Thresh=%.3f, n=%d, CV:%.2f\" % (thresh, select_X_train.shape[1],round(-np.mean(cv_score['test_neg_mean_squared_error']),4)))\n",
    "    \n",
    "   \n",
    "    ##carry on from selection \n",
    "    include = selection.get_support()\n",
    "    headers = X_all.columns\n",
    "\n",
    "    fs = pd.DataFrame({'cols':headers,'include':include})\n",
    "    filters = (fs.include==True)\n",
    "    selected_col = fs[filters].cols.tolist()\n",
    "    \n",
    "    return selected_col"
   ]
  },
  {
   "cell_type": "code",
   "execution_count": 53,
   "id": "a12614d6",
   "metadata": {},
   "outputs": [],
   "source": [
    "import re\n",
    "df = df.rename(columns = lambda x:re.sub('[^A-Za-z0-9_]+', '', x))\n"
   ]
  },
  {
   "cell_type": "code",
   "execution_count": 54,
   "id": "d4b44927",
   "metadata": {},
   "outputs": [],
   "source": [
    "drop_cols=['id_x','host_id','host_has_profile_pic','price','price_log','id_y','reviewer_id','host_since','key_reviewer','first_review','last_review']\n",
    "X_all=df.drop(drop_cols,axis=1)\n",
    "y_all=df['price_log']"
   ]
  },
  {
   "cell_type": "code",
   "execution_count": 55,
   "id": "6bf44485",
   "metadata": {},
   "outputs": [
    {
     "name": "stdout",
     "output_type": "stream",
     "text": [
      "Score from selected subset of features\n",
      "Train R-sq 0.8357\n",
      "Train MSE: 0.1011\n",
      "\n",
      "CV R-sq 0.7801\n",
      "CV MSE: 0.1353\n",
      "\n",
      "Thresh=5.000, n=68, CV:0.14\n"
     ]
    }
   ],
   "source": [
    "lgbm_col = thresh_run_lgbm(X_all,y_all,5)"
   ]
  },
  {
   "cell_type": "code",
   "execution_count": 56,
   "id": "49d8f697",
   "metadata": {},
   "outputs": [
    {
     "data": {
      "text/plain": [
       "Index(['id_x', 'host_id', 'host_since', 'host_is_superhost',\n",
       "       'host_total_listings_count', 'host_has_profile_pic',\n",
       "       'host_identity_verified', 'neighbourhood_group_cleansed', 'latitude',\n",
       "       'longitude',\n",
       "       ...\n",
       "       'walking_distance', 'Unnamed0', 'id_y', 'reviewer_id', 'comments_len',\n",
       "       'key_reviewer', 'negative', 'neutral', 'positive', 'compound'],\n",
       "      dtype='object', length=135)"
      ]
     },
     "execution_count": 56,
     "metadata": {},
     "output_type": "execute_result"
    }
   ],
   "source": [
    "fs_cols=lgbm_col\n",
    "df_fs= df[fs_cols]\n",
    "df.columns"
   ]
  },
  {
   "cell_type": "markdown",
   "id": "NQGfGbAJDozM",
   "metadata": {
    "id": "NQGfGbAJDozM",
    "tags": []
   },
   "source": [
    "# 4. Models"
   ]
  },
  {
   "cell_type": "code",
   "execution_count": 57,
   "id": "5c00afa3-4071-473c-a410-0edcddcb2795",
   "metadata": {
    "id": "5c00afa3-4071-473c-a410-0edcddcb2795"
   },
   "outputs": [],
   "source": [
    "# Format columns\n",
    "import re\n",
    "df = df.rename(columns = lambda x:re.sub('[^A-Za-z0-9_]+', '', x))"
   ]
  },
  {
   "cell_type": "code",
   "execution_count": 58,
   "id": "216921e7",
   "metadata": {},
   "outputs": [
    {
     "data": {
      "text/plain": [
       "['id_x',\n",
       " 'host_id',\n",
       " 'host_since',\n",
       " 'host_is_superhost',\n",
       " 'host_total_listings_count',\n",
       " 'host_has_profile_pic',\n",
       " 'host_identity_verified',\n",
       " 'neighbourhood_group_cleansed',\n",
       " 'latitude',\n",
       " 'longitude',\n",
       " 'property_type',\n",
       " 'room_type',\n",
       " 'accommodates',\n",
       " 'bedrooms',\n",
       " 'price',\n",
       " 'minimum_nights',\n",
       " 'maximum_nights',\n",
       " 'minimum_nights_avg_ntm',\n",
       " 'maximum_nights_avg_ntm',\n",
       " 'has_availability',\n",
       " 'number_of_reviews',\n",
       " 'number_of_reviews_ltm',\n",
       " 'number_of_reviews_l30d',\n",
       " 'first_review',\n",
       " 'last_review',\n",
       " 'review_scores_rating',\n",
       " 'review_scores_accuracy',\n",
       " 'review_scores_cleanliness',\n",
       " 'review_scores_checkin',\n",
       " 'review_scores_communication',\n",
       " 'review_scores_location',\n",
       " 'review_scores_value',\n",
       " 'instant_bookable',\n",
       " 'reviews_per_month',\n",
       " 'bathroom_num',\n",
       " 'bathroom_sharing',\n",
       " 'price_log',\n",
       " 'amenities_wifi',\n",
       " 'amenities_essentials',\n",
       " 'amenities_smokealarm',\n",
       " 'amenities_heating',\n",
       " 'amenities_kitchen',\n",
       " 'amenities_hangers',\n",
       " 'amenities_longtermstaysallowed',\n",
       " 'amenities_iron',\n",
       " 'amenities_washer',\n",
       " 'amenities_hairdryer',\n",
       " 'amenities_hotwater',\n",
       " 'amenities_shampoo',\n",
       " 'amenities_carbonmonoxidealarm',\n",
       " 'amenities_dedicatedworkspace',\n",
       " 'amenities_dishesandsilverware',\n",
       " 'amenities_cookingbasics',\n",
       " 'amenities_refrigerator',\n",
       " 'amenities_bedlinens',\n",
       " 'amenities_tv',\n",
       " 'amenities_microwave',\n",
       " 'amenities_oven',\n",
       " 'amenities_stove',\n",
       " 'amenities_dryer',\n",
       " 'amenities_firstaidkit',\n",
       " 'amenities_fireextinguisher',\n",
       " 'amenities_coffeemaker',\n",
       " 'amenities_dishwasher',\n",
       " 'amenities_privateentrance',\n",
       " 'amenities_extrapillowsandblankets',\n",
       " 'amenities_luggagedropoffallowed',\n",
       " 'amenities_hostgreetsyou',\n",
       " 'amenities_lockbox',\n",
       " 'amenities_bathtub',\n",
       " 'amenities_elevator',\n",
       " 'amenities_freeparkingonpremises',\n",
       " 'amenities_showergel',\n",
       " 'amenities_paidparkingoffpremises',\n",
       " 'amenities_hotwaterkettle',\n",
       " 'amenities_backyard',\n",
       " 'amenities_freestreetparking',\n",
       " 'amenities_lockonbedroomdoor',\n",
       " 'amenities_cabletv',\n",
       " 'amenities_patioorbalcony',\n",
       " 'amenities_freezer',\n",
       " 'amenities_tvwithstandardcable',\n",
       " 'amenities_cleaningproducts',\n",
       " 'amenities_toaster',\n",
       " 'amenities_diningtable',\n",
       " 'amenities_wineglasses',\n",
       " 'amenities_roomdarkeningshades',\n",
       " 'amenities_bodysoap',\n",
       " 'amenities_breakfast',\n",
       " 'amenities_dryingrackforclothing',\n",
       " 'amenities_singlelevelhome',\n",
       " 'amenities_securitycamerasonproperty',\n",
       " 'amenities_conditioner',\n",
       " 'amenities_indoorfireplace',\n",
       " 'amenities_portablefans',\n",
       " 'amenities_ethernetconnection',\n",
       " 'amenities_outdoorfurniture',\n",
       " 'amenities_laundromatnearby',\n",
       " 'amenities_packnplaytravelcrib',\n",
       " 'amenities_crib',\n",
       " 'amenities_airconditioning',\n",
       " 'amenities_highchair',\n",
       " 'amenities_bakingsheet',\n",
       " 'amenities_bbqgrill',\n",
       " 'amenities_paidparkingonpremises',\n",
       " 'amenities_privatepatioorbalcony',\n",
       " 'amenities_centralheating',\n",
       " 'amenities_outdoordiningarea',\n",
       " 'amenities_childrensbooksandtoys',\n",
       " 'amenities_cleaningbeforecheckout',\n",
       " 'amenities_clothingstorage',\n",
       " 'amenities_clothingstoragecloset',\n",
       " 'amenities_minifridge',\n",
       " 'amenities_privatefencedgardenorbackyard',\n",
       " 'amenities_buildingstaff',\n",
       " 'amenities_paidstreetparkingoffpremises',\n",
       " 'amenities_nespressomachine',\n",
       " 'host_duration',\n",
       " 'properties',\n",
       " 'prop_managed',\n",
       " 'occ_30D',\n",
       " 'occ_6090D',\n",
       " 'occ_365',\n",
       " 'station',\n",
       " 'station_dist',\n",
       " 'walking_distance',\n",
       " 'Unnamed0',\n",
       " 'id_y',\n",
       " 'reviewer_id',\n",
       " 'comments_len',\n",
       " 'key_reviewer',\n",
       " 'negative',\n",
       " 'neutral',\n",
       " 'positive',\n",
       " 'compound']"
      ]
     },
     "execution_count": 58,
     "metadata": {},
     "output_type": "execute_result"
    }
   ],
   "source": [
    "df.columns.tolist()"
   ]
  },
  {
   "cell_type": "code",
   "execution_count": 59,
   "id": "139c0fc2-0338-4291-b2d4-4240fa34e303",
   "metadata": {
    "id": "139c0fc2-0338-4291-b2d4-4240fa34e303"
   },
   "outputs": [],
   "source": [
    "sentiment_features = [   'comments_len',\n",
    "                         'neutral',\n",
    "                         'negative',\n",
    "                         'positive']\n",
    "\n",
    "features_selected = ['host_total_listings_count',\n",
    "                         'neighbourhood_group_cleansed',\n",
    "                         'latitude',\n",
    "                         'longitude',\n",
    "                         'room_type',\n",
    "                         'accommodates',\n",
    "                         'bedrooms',\n",
    "                         'minimum_nights',\n",
    "                         'maximum_nights',\n",
    "                         'minimum_nights_avg_ntm',\n",
    "                         'maximum_nights_avg_ntm',\n",
    "                         'number_of_reviews',\n",
    "                         'number_of_reviews_ltm',\n",
    "                         'number_of_reviews_l30d',\n",
    "                         'review_scores_rating',\n",
    "                         'review_scores_accuracy',\n",
    "                         'review_scores_cleanliness',\n",
    "                         'review_scores_checkin',\n",
    "                         'review_scores_communication',\n",
    "                         'review_scores_location',\n",
    "                         'review_scores_value',\n",
    "                         'reviews_per_month',\n",
    "                         'bathroom_num',\n",
    "                         'bathroom_sharing',\n",
    "                        'amenities_wifi',\n",
    "                        'amenities_essentials',\n",
    "                        'amenities_smokealarm',\n",
    "                        'amenities_heating',\n",
    "                        'amenities_kitchen',\n",
    "                        'amenities_hangers',\n",
    "                        'amenities_longtermstaysallowed',\n",
    "                        'amenities_iron',\n",
    "                        'amenities_washer',\n",
    "                        'amenities_hairdryer',\n",
    "                        'amenities_hotwater',\n",
    "                        'amenities_shampoo',\n",
    "                        'amenities_carbonmonoxidealarm',\n",
    "                        'amenities_dedicatedworkspace',\n",
    "                        'amenities_dishesandsilverware',\n",
    "                        'amenities_cookingbasics',\n",
    "                        'amenities_refrigerator',\n",
    "                        'amenities_bedlinens',\n",
    "                        'amenities_tv',\n",
    "                        'amenities_microwave',\n",
    "                        'amenities_oven',\n",
    "                        'amenities_stove',\n",
    "                        'amenities_dryer',\n",
    "                        'amenities_firstaidkit',\n",
    "                        'amenities_fireextinguisher',\n",
    "                        'amenities_coffeemaker',\n",
    "                        'amenities_dishwasher',\n",
    "                        'amenities_privateentrance',\n",
    "                        'amenities_extrapillowsandblankets',\n",
    "                        'amenities_luggagedropoffallowed',\n",
    "                        'amenities_hostgreetsyou',\n",
    "                        'amenities_lockbox',\n",
    "                        'amenities_bathtub',\n",
    "                        'amenities_elevator',\n",
    "                        'amenities_freeparkingonpremises',\n",
    "                        'amenities_showergel',\n",
    "                        'amenities_paidparkingoffpremises',\n",
    "                        'amenities_hotwaterkettle',\n",
    "                        'amenities_backyard',\n",
    "                        'amenities_freestreetparking',\n",
    "                        'amenities_lockonbedroomdoor',\n",
    "                        'amenities_cabletv',\n",
    "                        'amenities_patioorbalcony',\n",
    "                        'amenities_freezer',\n",
    "                        'amenities_tvwithstandardcable',\n",
    "                        'amenities_cleaningproducts',\n",
    "                        'amenities_toaster',\n",
    "                        'amenities_diningtable',\n",
    "                        'amenities_wineglasses',\n",
    "                        'amenities_roomdarkeningshades',\n",
    "                        'amenities_bodysoap',\n",
    "                        'amenities_breakfast',\n",
    "                        'amenities_dryingrackforclothing',\n",
    "                        'amenities_singlelevelhome',\n",
    "                        'amenities_securitycamerasonproperty',\n",
    "                        'amenities_conditioner',\n",
    "                        'amenities_indoorfireplace',\n",
    "                        'amenities_portablefans',\n",
    "                        'amenities_ethernetconnection',\n",
    "                        'amenities_outdoorfurniture',\n",
    "                        'amenities_laundromatnearby',\n",
    "                        'amenities_packnplaytravelcrib',\n",
    "                        'amenities_crib',\n",
    "                        'amenities_airconditioning',\n",
    "                        'amenities_highchair',\n",
    "                        'amenities_bakingsheet',\n",
    "                        'amenities_bbqgrill',\n",
    "                        'amenities_paidparkingonpremises',\n",
    "                        'amenities_privatepatioorbalcony',\n",
    "                        'amenities_centralheating',\n",
    "                        'amenities_outdoordiningarea',\n",
    "                        'amenities_childrensbooksandtoys',\n",
    "                        'amenities_cleaningbeforecheckout',\n",
    "                        'amenities_clothingstorage',\n",
    "                        'amenities_clothingstoragecloset',\n",
    "                        'amenities_minifridge',\n",
    "                        'amenities_privatefencedgardenorbackyard',\n",
    "                        'amenities_buildingstaff',\n",
    "                        'amenities_paidstreetparkingoffpremises',\n",
    "                        'amenities_nespressomachine',\n",
    "                         'host_duration',\n",
    "                         'properties',\n",
    "                         'occ_30D',\n",
    "                         'occ_6090D',\n",
    "                         'occ_365'] + location_features + sentiment_features"
   ]
  },
  {
   "cell_type": "code",
   "execution_count": 60,
   "id": "f8c05f79-cf4f-4b08-9b98-78750d025f92",
   "metadata": {
    "id": "f8c05f79-cf4f-4b08-9b98-78750d025f92",
    "outputId": "ad469504-086b-4102-ae8a-8bbc479e0095"
   },
   "outputs": [
    {
     "name": "stdout",
     "output_type": "stream",
     "text": [
      "X shape: (33010, 116)\n",
      "y shape: (33010,)\n",
      "['bathroom_sharing', 'station', 'room_type']\n"
     ]
    }
   ],
   "source": [
    "random_state = 12\n",
    "\n",
    "dep_var = ['price_log']\n",
    "#to_drop = ['id', 'host_id', 'property_type', 'price', 'host_since', 'first_review', 'last_review']\n",
    "\n",
    "X = df[features_selected]\n",
    "y = df['price_log'].ravel()\n",
    "\n",
    "X_train, X_test, y_train, y_test = train_test_split(X,y,test_size =0.2, random_state = random_state)\n",
    "\n",
    "# Get numeric and categorical columns\n",
    "num_cols = list(X.select_dtypes(include=np.number).columns)\n",
    "cat_cols = list(set(X.columns)-set(X[num_cols].columns))\n",
    "\n",
    "print('X shape: {}'.format(np.shape(X)))\n",
    "print('y shape: {}'.format(np.shape(y)))\n",
    "print(cat_cols)"
   ]
  },
  {
   "cell_type": "code",
   "execution_count": 61,
   "id": "d774f380-f1b2-454b-83a2-94559511e333",
   "metadata": {
    "id": "d774f380-f1b2-454b-83a2-94559511e333",
    "outputId": "36f03c58-0aea-4488-cf12-b1002b7b6e0b"
   },
   "outputs": [
    {
     "data": {
      "text/html": [
       "<style>#sk-79bd1089-c526-46d5-be1a-a551ab09fbe9 {color: black;background-color: white;}#sk-79bd1089-c526-46d5-be1a-a551ab09fbe9 pre{padding: 0;}#sk-79bd1089-c526-46d5-be1a-a551ab09fbe9 div.sk-toggleable {background-color: white;}#sk-79bd1089-c526-46d5-be1a-a551ab09fbe9 label.sk-toggleable__label {cursor: pointer;display: block;width: 100%;margin-bottom: 0;padding: 0.3em;box-sizing: border-box;text-align: center;}#sk-79bd1089-c526-46d5-be1a-a551ab09fbe9 label.sk-toggleable__label-arrow:before {content: \"▸\";float: left;margin-right: 0.25em;color: #696969;}#sk-79bd1089-c526-46d5-be1a-a551ab09fbe9 label.sk-toggleable__label-arrow:hover:before {color: black;}#sk-79bd1089-c526-46d5-be1a-a551ab09fbe9 div.sk-estimator:hover label.sk-toggleable__label-arrow:before {color: black;}#sk-79bd1089-c526-46d5-be1a-a551ab09fbe9 div.sk-toggleable__content {max-height: 0;max-width: 0;overflow: hidden;text-align: left;background-color: #f0f8ff;}#sk-79bd1089-c526-46d5-be1a-a551ab09fbe9 div.sk-toggleable__content pre {margin: 0.2em;color: black;border-radius: 0.25em;background-color: #f0f8ff;}#sk-79bd1089-c526-46d5-be1a-a551ab09fbe9 input.sk-toggleable__control:checked~div.sk-toggleable__content {max-height: 200px;max-width: 100%;overflow: auto;}#sk-79bd1089-c526-46d5-be1a-a551ab09fbe9 input.sk-toggleable__control:checked~label.sk-toggleable__label-arrow:before {content: \"▾\";}#sk-79bd1089-c526-46d5-be1a-a551ab09fbe9 div.sk-estimator input.sk-toggleable__control:checked~label.sk-toggleable__label {background-color: #d4ebff;}#sk-79bd1089-c526-46d5-be1a-a551ab09fbe9 div.sk-label input.sk-toggleable__control:checked~label.sk-toggleable__label {background-color: #d4ebff;}#sk-79bd1089-c526-46d5-be1a-a551ab09fbe9 input.sk-hidden--visually {border: 0;clip: rect(1px 1px 1px 1px);clip: rect(1px, 1px, 1px, 1px);height: 1px;margin: -1px;overflow: hidden;padding: 0;position: absolute;width: 1px;}#sk-79bd1089-c526-46d5-be1a-a551ab09fbe9 div.sk-estimator {font-family: monospace;background-color: #f0f8ff;border: 1px dotted black;border-radius: 0.25em;box-sizing: border-box;margin-bottom: 0.5em;}#sk-79bd1089-c526-46d5-be1a-a551ab09fbe9 div.sk-estimator:hover {background-color: #d4ebff;}#sk-79bd1089-c526-46d5-be1a-a551ab09fbe9 div.sk-parallel-item::after {content: \"\";width: 100%;border-bottom: 1px solid gray;flex-grow: 1;}#sk-79bd1089-c526-46d5-be1a-a551ab09fbe9 div.sk-label:hover label.sk-toggleable__label {background-color: #d4ebff;}#sk-79bd1089-c526-46d5-be1a-a551ab09fbe9 div.sk-serial::before {content: \"\";position: absolute;border-left: 1px solid gray;box-sizing: border-box;top: 2em;bottom: 0;left: 50%;}#sk-79bd1089-c526-46d5-be1a-a551ab09fbe9 div.sk-serial {display: flex;flex-direction: column;align-items: center;background-color: white;padding-right: 0.2em;padding-left: 0.2em;}#sk-79bd1089-c526-46d5-be1a-a551ab09fbe9 div.sk-item {z-index: 1;}#sk-79bd1089-c526-46d5-be1a-a551ab09fbe9 div.sk-parallel {display: flex;align-items: stretch;justify-content: center;background-color: white;}#sk-79bd1089-c526-46d5-be1a-a551ab09fbe9 div.sk-parallel::before {content: \"\";position: absolute;border-left: 1px solid gray;box-sizing: border-box;top: 2em;bottom: 0;left: 50%;}#sk-79bd1089-c526-46d5-be1a-a551ab09fbe9 div.sk-parallel-item {display: flex;flex-direction: column;position: relative;background-color: white;}#sk-79bd1089-c526-46d5-be1a-a551ab09fbe9 div.sk-parallel-item:first-child::after {align-self: flex-end;width: 50%;}#sk-79bd1089-c526-46d5-be1a-a551ab09fbe9 div.sk-parallel-item:last-child::after {align-self: flex-start;width: 50%;}#sk-79bd1089-c526-46d5-be1a-a551ab09fbe9 div.sk-parallel-item:only-child::after {width: 0;}#sk-79bd1089-c526-46d5-be1a-a551ab09fbe9 div.sk-dashed-wrapped {border: 1px dashed gray;margin: 0 0.4em 0.5em 0.4em;box-sizing: border-box;padding-bottom: 0.4em;background-color: white;position: relative;}#sk-79bd1089-c526-46d5-be1a-a551ab09fbe9 div.sk-label label {font-family: monospace;font-weight: bold;background-color: white;display: inline-block;line-height: 1.2em;}#sk-79bd1089-c526-46d5-be1a-a551ab09fbe9 div.sk-label-container {position: relative;z-index: 2;text-align: center;}#sk-79bd1089-c526-46d5-be1a-a551ab09fbe9 div.sk-container {/* jupyter's `normalize.less` sets `[hidden] { display: none; }` but bootstrap.min.css set `[hidden] { display: none !important; }` so we also need the `!important` here to be able to override the default hidden behavior on the sphinx rendered scikit-learn.org. See: https://github.com/scikit-learn/scikit-learn/issues/21755 */display: inline-block !important;position: relative;}#sk-79bd1089-c526-46d5-be1a-a551ab09fbe9 div.sk-text-repr-fallback {display: none;}</style><div id=\"sk-79bd1089-c526-46d5-be1a-a551ab09fbe9\" class=\"sk-top-container\"><div class=\"sk-text-repr-fallback\"><pre>ColumnTransformer(remainder=&#x27;passthrough&#x27;,\n",
       "                  transformers=[(&#x27;num&#x27;, StandardScaler(),\n",
       "                                 [&#x27;host_total_listings_count&#x27;,\n",
       "                                  &#x27;neighbourhood_group_cleansed&#x27;, &#x27;latitude&#x27;,\n",
       "                                  &#x27;longitude&#x27;, &#x27;accommodates&#x27;, &#x27;bedrooms&#x27;,\n",
       "                                  &#x27;minimum_nights&#x27;, &#x27;maximum_nights&#x27;,\n",
       "                                  &#x27;minimum_nights_avg_ntm&#x27;,\n",
       "                                  &#x27;maximum_nights_avg_ntm&#x27;, &#x27;number_of_reviews&#x27;,\n",
       "                                  &#x27;number_of_reviews_ltm&#x27;,\n",
       "                                  &#x27;number_of_reviews_l30d&#x27;,\n",
       "                                  &#x27;review_...\n",
       "                                  &#x27;review_scores_value&#x27;, &#x27;reviews_per_month&#x27;,\n",
       "                                  &#x27;bathroom_num&#x27;, &#x27;amenities_wifi&#x27;,\n",
       "                                  &#x27;amenities_essentials&#x27;,\n",
       "                                  &#x27;amenities_smokealarm&#x27;, &#x27;amenities_heating&#x27;,\n",
       "                                  &#x27;amenities_kitchen&#x27;, &#x27;amenities_hangers&#x27;,\n",
       "                                  &#x27;amenities_longtermstaysallowed&#x27;,\n",
       "                                  &#x27;amenities_iron&#x27;, ...]),\n",
       "                                (&#x27;cat&#x27;,\n",
       "                                 Pipeline(steps=[(&#x27;ohe&#x27;,\n",
       "                                                  OneHotEncoder(handle_unknown=&#x27;ignore&#x27;))]),\n",
       "                                 [&#x27;bathroom_sharing&#x27;, &#x27;station&#x27;, &#x27;room_type&#x27;])])</pre><b>Please rerun this cell to show the HTML repr or trust the notebook.</b></div><div class=\"sk-container\" hidden><div class=\"sk-item sk-dashed-wrapped\"><div class=\"sk-label-container\"><div class=\"sk-label sk-toggleable\"><input class=\"sk-toggleable__control sk-hidden--visually\" id=\"877498df-92de-48e3-8757-a318c57e8a9e\" type=\"checkbox\" ><label for=\"877498df-92de-48e3-8757-a318c57e8a9e\" class=\"sk-toggleable__label sk-toggleable__label-arrow\">ColumnTransformer</label><div class=\"sk-toggleable__content\"><pre>ColumnTransformer(remainder=&#x27;passthrough&#x27;,\n",
       "                  transformers=[(&#x27;num&#x27;, StandardScaler(),\n",
       "                                 [&#x27;host_total_listings_count&#x27;,\n",
       "                                  &#x27;neighbourhood_group_cleansed&#x27;, &#x27;latitude&#x27;,\n",
       "                                  &#x27;longitude&#x27;, &#x27;accommodates&#x27;, &#x27;bedrooms&#x27;,\n",
       "                                  &#x27;minimum_nights&#x27;, &#x27;maximum_nights&#x27;,\n",
       "                                  &#x27;minimum_nights_avg_ntm&#x27;,\n",
       "                                  &#x27;maximum_nights_avg_ntm&#x27;, &#x27;number_of_reviews&#x27;,\n",
       "                                  &#x27;number_of_reviews_ltm&#x27;,\n",
       "                                  &#x27;number_of_reviews_l30d&#x27;,\n",
       "                                  &#x27;review_...\n",
       "                                  &#x27;review_scores_value&#x27;, &#x27;reviews_per_month&#x27;,\n",
       "                                  &#x27;bathroom_num&#x27;, &#x27;amenities_wifi&#x27;,\n",
       "                                  &#x27;amenities_essentials&#x27;,\n",
       "                                  &#x27;amenities_smokealarm&#x27;, &#x27;amenities_heating&#x27;,\n",
       "                                  &#x27;amenities_kitchen&#x27;, &#x27;amenities_hangers&#x27;,\n",
       "                                  &#x27;amenities_longtermstaysallowed&#x27;,\n",
       "                                  &#x27;amenities_iron&#x27;, ...]),\n",
       "                                (&#x27;cat&#x27;,\n",
       "                                 Pipeline(steps=[(&#x27;ohe&#x27;,\n",
       "                                                  OneHotEncoder(handle_unknown=&#x27;ignore&#x27;))]),\n",
       "                                 [&#x27;bathroom_sharing&#x27;, &#x27;station&#x27;, &#x27;room_type&#x27;])])</pre></div></div></div><div class=\"sk-parallel\"><div class=\"sk-parallel-item\"><div class=\"sk-item\"><div class=\"sk-label-container\"><div class=\"sk-label sk-toggleable\"><input class=\"sk-toggleable__control sk-hidden--visually\" id=\"8b744293-7341-4b12-b00d-51fb1da80e1c\" type=\"checkbox\" ><label for=\"8b744293-7341-4b12-b00d-51fb1da80e1c\" class=\"sk-toggleable__label sk-toggleable__label-arrow\">num</label><div class=\"sk-toggleable__content\"><pre>[&#x27;host_total_listings_count&#x27;, &#x27;neighbourhood_group_cleansed&#x27;, &#x27;latitude&#x27;, &#x27;longitude&#x27;, &#x27;accommodates&#x27;, &#x27;bedrooms&#x27;, &#x27;minimum_nights&#x27;, &#x27;maximum_nights&#x27;, &#x27;minimum_nights_avg_ntm&#x27;, &#x27;maximum_nights_avg_ntm&#x27;, &#x27;number_of_reviews&#x27;, &#x27;number_of_reviews_ltm&#x27;, &#x27;number_of_reviews_l30d&#x27;, &#x27;review_scores_rating&#x27;, &#x27;review_scores_accuracy&#x27;, &#x27;review_scores_cleanliness&#x27;, &#x27;review_scores_checkin&#x27;, &#x27;review_scores_communication&#x27;, &#x27;review_scores_location&#x27;, &#x27;review_scores_value&#x27;, &#x27;reviews_per_month&#x27;, &#x27;bathroom_num&#x27;, &#x27;amenities_wifi&#x27;, &#x27;amenities_essentials&#x27;, &#x27;amenities_smokealarm&#x27;, &#x27;amenities_heating&#x27;, &#x27;amenities_kitchen&#x27;, &#x27;amenities_hangers&#x27;, &#x27;amenities_longtermstaysallowed&#x27;, &#x27;amenities_iron&#x27;, &#x27;amenities_washer&#x27;, &#x27;amenities_hairdryer&#x27;, &#x27;amenities_hotwater&#x27;, &#x27;amenities_shampoo&#x27;, &#x27;amenities_carbonmonoxidealarm&#x27;, &#x27;amenities_dedicatedworkspace&#x27;, &#x27;amenities_dishesandsilverware&#x27;, &#x27;amenities_cookingbasics&#x27;, &#x27;amenities_refrigerator&#x27;, &#x27;amenities_bedlinens&#x27;, &#x27;amenities_tv&#x27;, &#x27;amenities_microwave&#x27;, &#x27;amenities_oven&#x27;, &#x27;amenities_stove&#x27;, &#x27;amenities_dryer&#x27;, &#x27;amenities_firstaidkit&#x27;, &#x27;amenities_fireextinguisher&#x27;, &#x27;amenities_coffeemaker&#x27;, &#x27;amenities_dishwasher&#x27;, &#x27;amenities_privateentrance&#x27;, &#x27;amenities_extrapillowsandblankets&#x27;, &#x27;amenities_luggagedropoffallowed&#x27;, &#x27;amenities_hostgreetsyou&#x27;, &#x27;amenities_lockbox&#x27;, &#x27;amenities_bathtub&#x27;, &#x27;amenities_elevator&#x27;, &#x27;amenities_freeparkingonpremises&#x27;, &#x27;amenities_showergel&#x27;, &#x27;amenities_paidparkingoffpremises&#x27;, &#x27;amenities_hotwaterkettle&#x27;, &#x27;amenities_backyard&#x27;, &#x27;amenities_freestreetparking&#x27;, &#x27;amenities_lockonbedroomdoor&#x27;, &#x27;amenities_cabletv&#x27;, &#x27;amenities_patioorbalcony&#x27;, &#x27;amenities_freezer&#x27;, &#x27;amenities_tvwithstandardcable&#x27;, &#x27;amenities_cleaningproducts&#x27;, &#x27;amenities_toaster&#x27;, &#x27;amenities_diningtable&#x27;, &#x27;amenities_wineglasses&#x27;, &#x27;amenities_roomdarkeningshades&#x27;, &#x27;amenities_bodysoap&#x27;, &#x27;amenities_breakfast&#x27;, &#x27;amenities_dryingrackforclothing&#x27;, &#x27;amenities_singlelevelhome&#x27;, &#x27;amenities_securitycamerasonproperty&#x27;, &#x27;amenities_conditioner&#x27;, &#x27;amenities_indoorfireplace&#x27;, &#x27;amenities_portablefans&#x27;, &#x27;amenities_ethernetconnection&#x27;, &#x27;amenities_outdoorfurniture&#x27;, &#x27;amenities_laundromatnearby&#x27;, &#x27;amenities_packnplaytravelcrib&#x27;, &#x27;amenities_crib&#x27;, &#x27;amenities_airconditioning&#x27;, &#x27;amenities_highchair&#x27;, &#x27;amenities_bakingsheet&#x27;, &#x27;amenities_bbqgrill&#x27;, &#x27;amenities_paidparkingonpremises&#x27;, &#x27;amenities_privatepatioorbalcony&#x27;, &#x27;amenities_centralheating&#x27;, &#x27;amenities_outdoordiningarea&#x27;, &#x27;amenities_childrensbooksandtoys&#x27;, &#x27;amenities_cleaningbeforecheckout&#x27;, &#x27;amenities_clothingstorage&#x27;, &#x27;amenities_clothingstoragecloset&#x27;, &#x27;amenities_minifridge&#x27;, &#x27;amenities_privatefencedgardenorbackyard&#x27;, &#x27;amenities_buildingstaff&#x27;, &#x27;amenities_paidstreetparkingoffpremises&#x27;, &#x27;amenities_nespressomachine&#x27;, &#x27;host_duration&#x27;, &#x27;properties&#x27;, &#x27;occ_30D&#x27;, &#x27;occ_6090D&#x27;, &#x27;occ_365&#x27;, &#x27;station_dist&#x27;, &#x27;walking_distance&#x27;, &#x27;comments_len&#x27;, &#x27;neutral&#x27;, &#x27;negative&#x27;, &#x27;positive&#x27;]</pre></div></div></div><div class=\"sk-serial\"><div class=\"sk-item\"><div class=\"sk-estimator sk-toggleable\"><input class=\"sk-toggleable__control sk-hidden--visually\" id=\"5d4be2cb-bde0-4e51-b90a-da6f3d43b516\" type=\"checkbox\" ><label for=\"5d4be2cb-bde0-4e51-b90a-da6f3d43b516\" class=\"sk-toggleable__label sk-toggleable__label-arrow\">StandardScaler</label><div class=\"sk-toggleable__content\"><pre>StandardScaler()</pre></div></div></div></div></div></div><div class=\"sk-parallel-item\"><div class=\"sk-item\"><div class=\"sk-label-container\"><div class=\"sk-label sk-toggleable\"><input class=\"sk-toggleable__control sk-hidden--visually\" id=\"b28b3602-8de3-4266-bcee-ac54ad3cd70f\" type=\"checkbox\" ><label for=\"b28b3602-8de3-4266-bcee-ac54ad3cd70f\" class=\"sk-toggleable__label sk-toggleable__label-arrow\">cat</label><div class=\"sk-toggleable__content\"><pre>[&#x27;bathroom_sharing&#x27;, &#x27;station&#x27;, &#x27;room_type&#x27;]</pre></div></div></div><div class=\"sk-serial\"><div class=\"sk-item\"><div class=\"sk-serial\"><div class=\"sk-item\"><div class=\"sk-estimator sk-toggleable\"><input class=\"sk-toggleable__control sk-hidden--visually\" id=\"11b6e9fb-50d0-4d3c-b6ab-9efea6a27184\" type=\"checkbox\" ><label for=\"11b6e9fb-50d0-4d3c-b6ab-9efea6a27184\" class=\"sk-toggleable__label sk-toggleable__label-arrow\">OneHotEncoder</label><div class=\"sk-toggleable__content\"><pre>OneHotEncoder(handle_unknown=&#x27;ignore&#x27;)</pre></div></div></div></div></div></div></div></div><div class=\"sk-parallel-item\"><div class=\"sk-item\"><div class=\"sk-label-container\"><div class=\"sk-label sk-toggleable\"><input class=\"sk-toggleable__control sk-hidden--visually\" id=\"d12b1b8d-f4d1-4972-9471-620181a84e8a\" type=\"checkbox\" ><label for=\"d12b1b8d-f4d1-4972-9471-620181a84e8a\" class=\"sk-toggleable__label sk-toggleable__label-arrow\">remainder</label><div class=\"sk-toggleable__content\"><pre></pre></div></div></div><div class=\"sk-serial\"><div class=\"sk-item\"><div class=\"sk-estimator sk-toggleable\"><input class=\"sk-toggleable__control sk-hidden--visually\" id=\"17c38ad1-c611-4556-8e1b-2c0e0c478974\" type=\"checkbox\" ><label for=\"17c38ad1-c611-4556-8e1b-2c0e0c478974\" class=\"sk-toggleable__label sk-toggleable__label-arrow\">passthrough</label><div class=\"sk-toggleable__content\"><pre>passthrough</pre></div></div></div></div></div></div></div></div></div></div>"
      ],
      "text/plain": [
       "ColumnTransformer(remainder='passthrough',\n",
       "                  transformers=[('num', StandardScaler(),\n",
       "                                 ['host_total_listings_count',\n",
       "                                  'neighbourhood_group_cleansed', 'latitude',\n",
       "                                  'longitude', 'accommodates', 'bedrooms',\n",
       "                                  'minimum_nights', 'maximum_nights',\n",
       "                                  'minimum_nights_avg_ntm',\n",
       "                                  'maximum_nights_avg_ntm', 'number_of_reviews',\n",
       "                                  'number_of_reviews_ltm',\n",
       "                                  'number_of_reviews_l30d',\n",
       "                                  'review_...\n",
       "                                  'review_scores_value', 'reviews_per_month',\n",
       "                                  'bathroom_num', 'amenities_wifi',\n",
       "                                  'amenities_essentials',\n",
       "                                  'amenities_smokealarm', 'amenities_heating',\n",
       "                                  'amenities_kitchen', 'amenities_hangers',\n",
       "                                  'amenities_longtermstaysallowed',\n",
       "                                  'amenities_iron', ...]),\n",
       "                                ('cat',\n",
       "                                 Pipeline(steps=[('ohe',\n",
       "                                                  OneHotEncoder(handle_unknown='ignore'))]),\n",
       "                                 ['bathroom_sharing', 'station', 'room_type'])])"
      ]
     },
     "execution_count": 61,
     "metadata": {},
     "output_type": "execute_result"
    }
   ],
   "source": [
    "# Preprocess\n",
    "preprocessor = ColumnTransformer(\n",
    "    transformers=[\n",
    "        ('num', StandardScaler(), num_cols ),\n",
    "        (\"cat\", Pipeline([('ohe', OneHotEncoder(handle_unknown='ignore'))]), cat_cols),\n",
    "    ]\n",
    "    , remainder='passthrough'\n",
    ")\n",
    "\n",
    "preprocessor"
   ]
  },
  {
   "cell_type": "markdown",
   "id": "a03e1953-f316-49cc-ac1c-481ccb958eca",
   "metadata": {
    "id": "a03e1953-f316-49cc-ac1c-481ccb958eca",
    "jp-MarkdownHeadingCollapsed": true,
    "tags": []
   },
   "source": [
    "## Linear Regression (Baseline)"
   ]
  },
  {
   "cell_type": "code",
   "execution_count": 75,
   "id": "3364bf15-08af-4764-b58c-819e9d2219d0",
   "metadata": {
    "id": "3364bf15-08af-4764-b58c-819e9d2219d0",
    "outputId": "00a8b2fa-ac8e-43fd-d5b3-71aa8b144031"
   },
   "outputs": [
    {
     "name": "stderr",
     "output_type": "stream",
     "text": [
      "[Parallel(n_jobs=2)]: Using backend LokyBackend with 2 concurrent workers.\n",
      "[Parallel(n_jobs=2)]: Done   5 out of   5 | elapsed:   13.0s finished\n"
     ]
    },
    {
     "name": "stdout",
     "output_type": "stream",
     "text": [
      "Train R-sq 0.7349\n",
      "Train MSE: 0.1636\n",
      "\n",
      "CV R-sq 0.7161\n",
      "CV MSE: 0.1753\n",
      "\n",
      "Test R-sq 0.7048\n",
      "Test MSE: 0.1853\n"
     ]
    }
   ],
   "source": [
    "# Pipeline for One-Hot Encoding\n",
    "\n",
    "linreg_pipe = Pipeline([('preprocess', preprocessor),\n",
    "                    ('regressor', LinearRegression())\n",
    "                   ])\n",
    "\n",
    "linreg_model = fit_and_score(model = linreg_pipe, \n",
    "                             X_train = X_train, \n",
    "                             X_test = X_test,\n",
    "                             y_train = y_train,\n",
    "                             y_test = y_test)"
   ]
  },
  {
   "cell_type": "markdown",
   "id": "c6b6cfec",
   "metadata": {},
   "source": [
    "## Neural Network"
   ]
  },
  {
   "cell_type": "code",
   "execution_count": 137,
   "id": "9c6a5acf",
   "metadata": {},
   "outputs": [],
   "source": [
    "X_train_trfm = X_train.drop(['station'],axis=1)\n",
    "X_test_trfm = X_test.drop(['station'],axis=1)\n",
    "\n",
    "X_train_trfm = pd.get_dummies(X_train_trfm, columns=['bathroom_sharing', 'room_type'])\n",
    "X_test_trfm = pd.get_dummies(X_test_trfm, columns=['bathroom_sharing', 'room_type'])\n",
    "\n",
    "cols = X_train_trfm.columns\n",
    "\n",
    "stdscaler = StandardScaler()\n",
    "X_train_trfm = stdscaler.fit_transform(X_train_trfm)\n",
    "X_test_trfm = stdscaler.transform(X_test_trfm)\n",
    "\n",
    "X_train_trfm = pd.DataFrame(X_train_trfm)\n",
    "X_train_trfm = X_train_trfm.set_axis(cols, axis=1, inplace=False)\n",
    "X_test_trfm = pd.DataFrame(X_test_trfm)\n",
    "X_test_trfm = X_test_trfm.set_axis(cols, axis=1, inplace=False)"
   ]
  },
  {
   "cell_type": "code",
   "execution_count": 71,
   "id": "d64a5624",
   "metadata": {},
   "outputs": [],
   "source": [
    "def rmse(y_true, y_pred):\n",
    "    return backend.sqrt(backend.mean(backend.square(y_pred - y_true), axis=-1))\n",
    "\n",
    "def r2(y_true, y_pred):\n",
    "    SS_res =  backend.sum(backend.square( y_true-y_pred )) \n",
    "    SS_tot = backend.sum(backend.square( y_true - backend.mean(y_true) ) ) \n",
    "    return ( 1 - SS_res/(SS_tot + backend.epsilon()) )"
   ]
  },
  {
   "cell_type": "code",
   "execution_count": 74,
   "id": "2a63c849",
   "metadata": {},
   "outputs": [
    {
     "data": {
      "text/plain": [
       "(26408, 120)"
      ]
     },
     "execution_count": 74,
     "metadata": {},
     "output_type": "execute_result"
    }
   ],
   "source": [
    "X_train_trfm.shape"
   ]
  },
  {
   "cell_type": "markdown",
   "id": "80acad15",
   "metadata": {},
   "source": [
    "### Baseline NN"
   ]
  },
  {
   "cell_type": "code",
   "execution_count": 150,
   "id": "e5666c98",
   "metadata": {},
   "outputs": [
    {
     "name": "stdout",
     "output_type": "stream",
     "text": [
      "Model: \"sequential_8\"\n",
      "_________________________________________________________________\n",
      " Layer (type)                Output Shape              Param #   \n",
      "=================================================================\n",
      " dense_18 (Dense)            (None, 120)               14520     \n",
      "                                                                 \n",
      " dense_19 (Dense)            (None, 1)                 121       \n",
      "                                                                 \n",
      "=================================================================\n",
      "Total params: 14,641\n",
      "Trainable params: 14,641\n",
      "Non-trainable params: 0\n",
      "_________________________________________________________________\n"
     ]
    }
   ],
   "source": [
    "# define base model\n",
    "def baseline_model():\n",
    "    # create model\n",
    "    model = Sequential()\n",
    "    model.add(Dense(120, input_dim=120, kernel_initializer='he_normal', activation='relu'))\n",
    "    model.add(Dense(1, kernel_initializer='he_normal'))\n",
    "    # Compile model\n",
    "    model.compile(loss='mean_squared_error', optimizer='adam', metrics=[rmse,r2])\n",
    "    return model\n",
    "model_bl = baseline_model()\n",
    "model_bl.summary()"
   ]
  },
  {
   "cell_type": "code",
   "execution_count": 151,
   "id": "c1ac8f7e",
   "metadata": {},
   "outputs": [
    {
     "name": "stdout",
     "output_type": "stream",
     "text": [
      "Train on 25087 samples, validate on 1321 samples\n",
      "Epoch 1/100\n",
      "25087/25087 [==============================] - 2s 72us/sample - loss: 1.0430 - rmse: 0.6657 - r2: -0.8860 - val_loss: 0.3125 - val_rmse: 0.4203 - val_r2: 0.3464\n",
      "Epoch 2/100\n",
      "25087/25087 [==============================] - 1s 36us/sample - loss: 0.2908 - rmse: 0.4031 - r2: 0.4932 - val_loss: 0.2453 - val_rmse: 0.3731 - val_r2: 0.5368\n",
      "Epoch 3/100\n",
      "25087/25087 [==============================] - 1s 51us/sample - loss: 0.2240 - rmse: 0.3521 - r2: 0.6121 - val_loss: 0.2196 - val_rmse: 0.3451 - val_r2: 0.5819\n",
      "Epoch 4/100\n",
      "25087/25087 [==============================] - 1s 50us/sample - loss: 0.1940 - rmse: 0.3260 - r2: 0.6648 - val_loss: 0.2057 - val_rmse: 0.3348 - val_r2: 0.6195\n",
      "Epoch 5/100\n",
      "25087/25087 [==============================] - 1s 55us/sample - loss: 0.1764 - rmse: 0.3108 - r2: 0.6926 - val_loss: 0.1837 - val_rmse: 0.3158 - val_r2: 0.6609\n",
      "Epoch 6/100\n",
      "25087/25087 [==============================] - 1s 55us/sample - loss: 0.1620 - rmse: 0.2972 - r2: 0.7204 - val_loss: 0.1872 - val_rmse: 0.3142 - val_r2: 0.6377\n",
      "Epoch 7/100\n",
      "25087/25087 [==============================] - 1s 55us/sample - loss: 0.1536 - rmse: 0.2894 - r2: 0.7365 - val_loss: 0.1726 - val_rmse: 0.3053 - val_r2: 0.6734\n",
      "Epoch 8/100\n",
      "25087/25087 [==============================] - 1s 55us/sample - loss: 0.1483 - rmse: 0.2832 - r2: 0.7457 - val_loss: 0.1877 - val_rmse: 0.3215 - val_r2: 0.6429\n",
      "Epoch 9/100\n",
      "25087/25087 [==============================] - 1s 56us/sample - loss: 0.1409 - rmse: 0.2772 - r2: 0.7550 - val_loss: 0.1609 - val_rmse: 0.2966 - val_r2: 0.6896\n",
      "Epoch 10/100\n",
      "25087/25087 [==============================] - 1s 55us/sample - loss: 0.1337 - rmse: 0.2699 - r2: 0.7692 - val_loss: 0.1689 - val_rmse: 0.3030 - val_r2: 0.6829\n",
      "Epoch 11/100\n",
      "25087/25087 [==============================] - 1s 53us/sample - loss: 0.1307 - rmse: 0.2668 - r2: 0.7754 - val_loss: 0.1830 - val_rmse: 0.3212 - val_r2: 0.6529\n",
      "Epoch 12/100\n",
      "25087/25087 [==============================] - 1s 36us/sample - loss: 0.1276 - rmse: 0.2638 - r2: 0.7784 - val_loss: 0.1674 - val_rmse: 0.3056 - val_r2: 0.6863\n",
      "Epoch 13/100\n",
      "25087/25087 [==============================] - 1s 35us/sample - loss: 0.1225 - rmse: 0.2578 - r2: 0.7879 - val_loss: 0.1827 - val_rmse: 0.3174 - val_r2: 0.6561\n",
      "Epoch 14/100\n",
      "25087/25087 [==============================] - 1s 36us/sample - loss: 0.1221 - rmse: 0.2569 - r2: 0.7891 - val_loss: 0.1617 - val_rmse: 0.2956 - val_r2: 0.6863\n",
      "Epoch 15/100\n",
      "25087/25087 [==============================] - 1s 35us/sample - loss: 0.1189 - rmse: 0.2545 - r2: 0.7939 - val_loss: 0.1615 - val_rmse: 0.2937 - val_r2: 0.6973\n",
      "Epoch 16/100\n",
      "25087/25087 [==============================] - 1s 38us/sample - loss: 0.1182 - rmse: 0.2532 - r2: 0.7966 - val_loss: 0.1768 - val_rmse: 0.3123 - val_r2: 0.6741\n",
      "Epoch 17/100\n",
      "25087/25087 [==============================] - 1s 43us/sample - loss: 0.1162 - rmse: 0.2511 - r2: 0.7984 - val_loss: 0.1682 - val_rmse: 0.3048 - val_r2: 0.6751\n",
      "Epoch 18/100\n",
      "25087/25087 [==============================] - 1s 48us/sample - loss: 0.1140 - rmse: 0.2497 - r2: 0.8036 - val_loss: 0.1589 - val_rmse: 0.2954 - val_r2: 0.6982\n",
      "Epoch 19/100\n",
      "25087/25087 [==============================] - 1s 49us/sample - loss: 0.1113 - rmse: 0.2465 - r2: 0.8079 - val_loss: 0.1590 - val_rmse: 0.2951 - val_r2: 0.7131\n",
      "Epoch 20/100\n",
      "25087/25087 [==============================] - 1s 48us/sample - loss: 0.1113 - rmse: 0.2462 - r2: 0.8080 - val_loss: 0.1638 - val_rmse: 0.3011 - val_r2: 0.7061\n",
      "Epoch 21/100\n",
      "25087/25087 [==============================] - 1s 48us/sample - loss: 0.1086 - rmse: 0.2439 - r2: 0.8131 - val_loss: 0.1697 - val_rmse: 0.3038 - val_r2: 0.6954\n",
      "Epoch 22/100\n",
      "25087/25087 [==============================] - 1s 56us/sample - loss: 0.1080 - rmse: 0.2441 - r2: 0.8115 - val_loss: 0.1551 - val_rmse: 0.2919 - val_r2: 0.7041\n",
      "Epoch 23/100\n",
      "25087/25087 [==============================] - 1s 41us/sample - loss: 0.1051 - rmse: 0.2400 - r2: 0.8163 - val_loss: 0.1564 - val_rmse: 0.2922 - val_r2: 0.7040\n",
      "Epoch 24/100\n",
      "25087/25087 [==============================] - 1s 37us/sample - loss: 0.1043 - rmse: 0.2395 - r2: 0.8195 - val_loss: 0.1564 - val_rmse: 0.2925 - val_r2: 0.7132\n",
      "Epoch 25/100\n",
      "25087/25087 [==============================] - 1s 36us/sample - loss: 0.1022 - rmse: 0.2363 - r2: 0.8227 - val_loss: 0.1686 - val_rmse: 0.3031 - val_r2: 0.6865\n",
      "Epoch 26/100\n",
      "25087/25087 [==============================] - 1s 36us/sample - loss: 0.1037 - rmse: 0.2373 - r2: 0.8191 - val_loss: 0.1657 - val_rmse: 0.3007 - val_r2: 0.6903\n",
      "Epoch 27/100\n",
      "25087/25087 [==============================] - 1s 37us/sample - loss: 0.1006 - rmse: 0.2348 - r2: 0.8253 - val_loss: 0.1620 - val_rmse: 0.2987 - val_r2: 0.6830\n",
      "Epoch 28/100\n",
      "25087/25087 [==============================] - 1s 41us/sample - loss: 0.0990 - rmse: 0.2331 - r2: 0.8287 - val_loss: 0.1569 - val_rmse: 0.2959 - val_r2: 0.6905\n",
      "Epoch 29/100\n",
      "25087/25087 [==============================] - 1s 43us/sample - loss: 0.0990 - rmse: 0.2333 - r2: 0.8276 - val_loss: 0.1600 - val_rmse: 0.3004 - val_r2: 0.6957\n",
      "Epoch 30/100\n",
      "25087/25087 [==============================] - 1s 43us/sample - loss: 0.0979 - rmse: 0.2313 - r2: 0.8302 - val_loss: 0.1615 - val_rmse: 0.3004 - val_r2: 0.6973\n",
      "Epoch 31/100\n",
      "25087/25087 [==============================] - 1s 43us/sample - loss: 0.0972 - rmse: 0.2312 - r2: 0.8313 - val_loss: 0.1623 - val_rmse: 0.3023 - val_r2: 0.6947\n",
      "Epoch 32/100\n",
      "25087/25087 [==============================] - 1s 42us/sample - loss: 0.0961 - rmse: 0.2309 - r2: 0.8327 - val_loss: 0.1721 - val_rmse: 0.3091 - val_r2: 0.6731\n",
      "Epoch 33/100\n",
      "25087/25087 [==============================] - 1s 37us/sample - loss: 0.0938 - rmse: 0.2276 - r2: 0.8357 - val_loss: 0.1645 - val_rmse: 0.3028 - val_r2: 0.6937\n",
      "Epoch 34/100\n",
      "25087/25087 [==============================] - 1s 34us/sample - loss: 0.0970 - rmse: 0.2292 - r2: 0.8305 - val_loss: 0.1695 - val_rmse: 0.3078 - val_r2: 0.6804\n",
      "Epoch 35/100\n",
      "25087/25087 [==============================] - 1s 43us/sample - loss: 0.0943 - rmse: 0.2262 - r2: 0.8340 - val_loss: 0.1676 - val_rmse: 0.3078 - val_r2: 0.6745\n",
      "Epoch 36/100\n",
      "25087/25087 [==============================] - 1s 49us/sample - loss: 0.0906 - rmse: 0.2241 - r2: 0.8419 - val_loss: 0.1560 - val_rmse: 0.2969 - val_r2: 0.6963\n",
      "Epoch 37/100\n",
      "25087/25087 [==============================] - 1s 49us/sample - loss: 0.0906 - rmse: 0.2248 - r2: 0.8423 - val_loss: 0.1644 - val_rmse: 0.3043 - val_r2: 0.6928\n",
      "Epoch 38/100\n",
      "25087/25087 [==============================] - 1s 50us/sample - loss: 0.0893 - rmse: 0.2229 - r2: 0.8452 - val_loss: 0.1663 - val_rmse: 0.3038 - val_r2: 0.6842\n",
      "Epoch 39/100\n",
      "25087/25087 [==============================] - 1s 48us/sample - loss: 0.0897 - rmse: 0.2232 - r2: 0.8449 - val_loss: 0.1668 - val_rmse: 0.3065 - val_r2: 0.6857\n",
      "Epoch 40/100\n",
      "25087/25087 [==============================] - 1s 39us/sample - loss: 0.0895 - rmse: 0.2231 - r2: 0.8433 - val_loss: 0.1675 - val_rmse: 0.3020 - val_r2: 0.6965\n",
      "Epoch 41/100\n",
      "25087/25087 [==============================] - 1s 43us/sample - loss: 0.0906 - rmse: 0.2237 - r2: 0.8423 - val_loss: 0.1665 - val_rmse: 0.3020 - val_r2: 0.6821\n",
      "Epoch 42/100\n",
      "25087/25087 [==============================] - 1s 43us/sample - loss: 0.0904 - rmse: 0.2229 - r2: 0.8426 - val_loss: 0.1623 - val_rmse: 0.2962 - val_r2: 0.6851\n",
      "Epoch 43/100\n",
      "25087/25087 [==============================] - 1s 44us/sample - loss: 0.0896 - rmse: 0.2218 - r2: 0.8443 - val_loss: 0.1601 - val_rmse: 0.2994 - val_r2: 0.7060\n",
      "Epoch 44/100\n",
      "25087/25087 [==============================] - 1s 49us/sample - loss: 0.0859 - rmse: 0.2187 - r2: 0.8509 - val_loss: 0.1646 - val_rmse: 0.3008 - val_r2: 0.6948\n",
      "Epoch 45/100\n",
      "25087/25087 [==============================] - 1s 43us/sample - loss: 0.0913 - rmse: 0.2222 - r2: 0.8406 - val_loss: 0.1607 - val_rmse: 0.3016 - val_r2: 0.6884\n",
      "Epoch 46/100\n",
      "25087/25087 [==============================] - 1s 43us/sample - loss: 0.0877 - rmse: 0.2202 - r2: 0.8459 - val_loss: 0.1634 - val_rmse: 0.2979 - val_r2: 0.6971\n",
      "Epoch 47/100\n",
      "25087/25087 [==============================] - 1s 44us/sample - loss: 0.0846 - rmse: 0.2172 - r2: 0.8528 - val_loss: 0.1641 - val_rmse: 0.3030 - val_r2: 0.6950\n",
      "Epoch 48/100\n"
     ]
    },
    {
     "name": "stdout",
     "output_type": "stream",
     "text": [
      "25087/25087 [==============================] - 1s 42us/sample - loss: 0.0853 - rmse: 0.2171 - r2: 0.8504 - val_loss: 0.1671 - val_rmse: 0.3053 - val_r2: 0.6866\n",
      "Epoch 49/100\n",
      "25087/25087 [==============================] - 1s 43us/sample - loss: 0.0864 - rmse: 0.2171 - r2: 0.8485 - val_loss: 0.1712 - val_rmse: 0.3063 - val_r2: 0.6774\n",
      "Epoch 50/100\n",
      "25087/25087 [==============================] - 1s 42us/sample - loss: 0.0840 - rmse: 0.2153 - r2: 0.8535 - val_loss: 0.1693 - val_rmse: 0.3046 - val_r2: 0.6857\n",
      "Epoch 51/100\n",
      "25087/25087 [==============================] - 1s 42us/sample - loss: 0.0827 - rmse: 0.2160 - r2: 0.8551 - val_loss: 0.1641 - val_rmse: 0.3045 - val_r2: 0.6845\n",
      "Epoch 52/100\n",
      "25087/25087 [==============================] - 1s 48us/sample - loss: 0.0826 - rmse: 0.2155 - r2: 0.8549 - val_loss: 0.1790 - val_rmse: 0.3162 - val_r2: 0.6709\n",
      "Epoch 53/100\n",
      "25087/25087 [==============================] - 1s 47us/sample - loss: 0.0825 - rmse: 0.2134 - r2: 0.8553 - val_loss: 0.1718 - val_rmse: 0.3116 - val_r2: 0.6777\n",
      "Epoch 54/100\n",
      "25087/25087 [==============================] - 1s 48us/sample - loss: 0.0808 - rmse: 0.2129 - r2: 0.8585 - val_loss: 0.1707 - val_rmse: 0.3095 - val_r2: 0.6646\n",
      "Epoch 55/100\n",
      "25087/25087 [==============================] - 1s 49us/sample - loss: 0.0810 - rmse: 0.2129 - r2: 0.8588 - val_loss: 0.1675 - val_rmse: 0.3073 - val_r2: 0.6898\n",
      "Epoch 56/100\n",
      "25087/25087 [==============================] - 1s 54us/sample - loss: 0.0807 - rmse: 0.2122 - r2: 0.8581 - val_loss: 0.1718 - val_rmse: 0.3094 - val_r2: 0.6685\n",
      "Epoch 57/100\n",
      "25087/25087 [==============================] - 1s 54us/sample - loss: 0.0812 - rmse: 0.2123 - r2: 0.8596 - val_loss: 0.1989 - val_rmse: 0.3319 - val_r2: 0.6321\n",
      "Epoch 58/100\n",
      "25087/25087 [==============================] - 1s 53us/sample - loss: 0.0826 - rmse: 0.2143 - r2: 0.8544 - val_loss: 0.1705 - val_rmse: 0.3087 - val_r2: 0.6919\n",
      "Epoch 59/100\n",
      "25087/25087 [==============================] - 1s 54us/sample - loss: 0.0809 - rmse: 0.2120 - r2: 0.8581 - val_loss: 0.1667 - val_rmse: 0.3038 - val_r2: 0.6917\n",
      "Epoch 60/100\n",
      "25087/25087 [==============================] - 1s 54us/sample - loss: 0.0798 - rmse: 0.2113 - r2: 0.8604 - val_loss: 0.1675 - val_rmse: 0.3047 - val_r2: 0.6733\n",
      "Epoch 61/100\n",
      "25087/25087 [==============================] - 1s 54us/sample - loss: 0.0796 - rmse: 0.2098 - r2: 0.8609 - val_loss: 0.1713 - val_rmse: 0.3068 - val_r2: 0.6689\n",
      "Epoch 62/100\n",
      "25087/25087 [==============================] - 1s 51us/sample - loss: 0.0786 - rmse: 0.2094 - r2: 0.8627 - val_loss: 0.1715 - val_rmse: 0.3122 - val_r2: 0.6742\n",
      "Epoch 63/100\n",
      "25087/25087 [==============================] - 1s 53us/sample - loss: 0.0793 - rmse: 0.2110 - r2: 0.8608 - val_loss: 0.1716 - val_rmse: 0.3113 - val_r2: 0.6658\n",
      "Epoch 64/100\n",
      "25087/25087 [==============================] - 1s 53us/sample - loss: 0.0819 - rmse: 0.2113 - r2: 0.8545 - val_loss: 0.1693 - val_rmse: 0.3070 - val_r2: 0.6542\n",
      "Epoch 65/100\n",
      "25087/25087 [==============================] - 1s 53us/sample - loss: 0.0767 - rmse: 0.2071 - r2: 0.8641 - val_loss: 0.1757 - val_rmse: 0.3181 - val_r2: 0.6669\n",
      "Epoch 66/100\n",
      "25087/25087 [==============================] - 1s 53us/sample - loss: 0.0763 - rmse: 0.2065 - r2: 0.8657 - val_loss: 0.1708 - val_rmse: 0.3084 - val_r2: 0.6730\n",
      "Epoch 67/100\n",
      "25087/25087 [==============================] - 1s 50us/sample - loss: 0.0780 - rmse: 0.2080 - r2: 0.8643 - val_loss: 0.1632 - val_rmse: 0.3036 - val_r2: 0.6981\n",
      "Epoch 68/100\n",
      "25087/25087 [==============================] - 1s 53us/sample - loss: 0.0791 - rmse: 0.2088 - r2: 0.8598 - val_loss: 0.1729 - val_rmse: 0.3071 - val_r2: 0.6834\n",
      "Epoch 69/100\n",
      "25087/25087 [==============================] - 1s 53us/sample - loss: 0.0776 - rmse: 0.2087 - r2: 0.8631 - val_loss: 0.1723 - val_rmse: 0.3125 - val_r2: 0.6719\n",
      "Epoch 70/100\n",
      "25087/25087 [==============================] - 1s 53us/sample - loss: 0.0754 - rmse: 0.2056 - r2: 0.8680 - val_loss: 0.1736 - val_rmse: 0.3143 - val_r2: 0.6819\n",
      "Epoch 71/100\n",
      "25087/25087 [==============================] - 1s 53us/sample - loss: 0.0765 - rmse: 0.2068 - r2: 0.8667 - val_loss: 0.1716 - val_rmse: 0.3098 - val_r2: 0.6865\n",
      "Epoch 72/100\n",
      "25087/25087 [==============================] - 1s 54us/sample - loss: 0.0777 - rmse: 0.2070 - r2: 0.8611 - val_loss: 0.1673 - val_rmse: 0.3038 - val_r2: 0.6881\n",
      "Epoch 73/100\n",
      "25087/25087 [==============================] - 1s 54us/sample - loss: 0.0750 - rmse: 0.2057 - r2: 0.8689 - val_loss: 0.1679 - val_rmse: 0.3068 - val_r2: 0.6796\n",
      "Epoch 74/100\n",
      "25087/25087 [==============================] - 1s 53us/sample - loss: 0.0751 - rmse: 0.2047 - r2: 0.8677 - val_loss: 0.1670 - val_rmse: 0.3033 - val_r2: 0.6889\n",
      "Epoch 75/100\n",
      "25087/25087 [==============================] - 1s 52us/sample - loss: 0.0765 - rmse: 0.2065 - r2: 0.8641 - val_loss: 0.1692 - val_rmse: 0.3118 - val_r2: 0.6864\n",
      "Epoch 76/100\n",
      "25087/25087 [==============================] - 1s 48us/sample - loss: 0.0752 - rmse: 0.2046 - r2: 0.8689 - val_loss: 0.1772 - val_rmse: 0.3143 - val_r2: 0.6511\n",
      "Epoch 77/100\n",
      "25087/25087 [==============================] - 1s 55us/sample - loss: 0.0766 - rmse: 0.2066 - r2: 0.8644 - val_loss: 0.1671 - val_rmse: 0.3056 - val_r2: 0.6768\n",
      "Epoch 78/100\n",
      "25087/25087 [==============================] - 1s 55us/sample - loss: 0.0754 - rmse: 0.2048 - r2: 0.8665 - val_loss: 0.1774 - val_rmse: 0.3153 - val_r2: 0.6766\n",
      "Epoch 79/100\n",
      "25087/25087 [==============================] - 1s 54us/sample - loss: 0.0740 - rmse: 0.2036 - r2: 0.8706 - val_loss: 0.1753 - val_rmse: 0.3091 - val_r2: 0.6751\n",
      "Epoch 80/100\n",
      "25087/25087 [==============================] - 1s 53us/sample - loss: 0.0739 - rmse: 0.2033 - r2: 0.8701 - val_loss: 0.1680 - val_rmse: 0.3029 - val_r2: 0.6864\n",
      "Epoch 81/100\n",
      "25087/25087 [==============================] - 1s 54us/sample - loss: 0.0747 - rmse: 0.2040 - r2: 0.8695 - val_loss: 0.1711 - val_rmse: 0.3086 - val_r2: 0.6913\n",
      "Epoch 82/100\n",
      "25087/25087 [==============================] - 1s 53us/sample - loss: 0.0746 - rmse: 0.2035 - r2: 0.8698 - val_loss: 0.1679 - val_rmse: 0.3085 - val_r2: 0.6948\n",
      "Epoch 83/100\n",
      "25087/25087 [==============================] - 1s 53us/sample - loss: 0.0741 - rmse: 0.2032 - r2: 0.8690 - val_loss: 0.1725 - val_rmse: 0.3110 - val_r2: 0.6869\n",
      "Epoch 84/100\n",
      "25087/25087 [==============================] - 1s 52us/sample - loss: 0.0725 - rmse: 0.2016 - r2: 0.8737 - val_loss: 0.1769 - val_rmse: 0.3187 - val_r2: 0.6665\n",
      "Epoch 85/100\n",
      "25087/25087 [==============================] - 1s 52us/sample - loss: 0.0719 - rmse: 0.2020 - r2: 0.8735 - val_loss: 0.1728 - val_rmse: 0.3166 - val_r2: 0.6869\n",
      "Epoch 86/100\n",
      "25087/25087 [==============================] - 1s 54us/sample - loss: 0.0715 - rmse: 0.2006 - r2: 0.8745 - val_loss: 0.1747 - val_rmse: 0.3131 - val_r2: 0.6745\n",
      "Epoch 87/100\n",
      "25087/25087 [==============================] - 1s 54us/sample - loss: 0.0729 - rmse: 0.2022 - r2: 0.8727 - val_loss: 0.1720 - val_rmse: 0.3152 - val_r2: 0.6817\n",
      "Epoch 88/100\n",
      "25087/25087 [==============================] - 1s 50us/sample - loss: 0.0742 - rmse: 0.2033 - r2: 0.8683 - val_loss: 0.1737 - val_rmse: 0.3149 - val_r2: 0.6677\n",
      "Epoch 89/100\n",
      "25087/25087 [==============================] - 1s 47us/sample - loss: 0.0724 - rmse: 0.2010 - r2: 0.8703 - val_loss: 0.1702 - val_rmse: 0.3120 - val_r2: 0.6737\n",
      "Epoch 90/100\n",
      "25087/25087 [==============================] - 1s 47us/sample - loss: 0.0720 - rmse: 0.2008 - r2: 0.8722 - val_loss: 0.1754 - val_rmse: 0.3143 - val_r2: 0.6776\n",
      "Epoch 91/100\n",
      "25087/25087 [==============================] - 1s 52us/sample - loss: 0.0714 - rmse: 0.2000 - r2: 0.8754 - val_loss: 0.1742 - val_rmse: 0.3155 - val_r2: 0.6728\n",
      "Epoch 92/100\n",
      "25087/25087 [==============================] - 1s 53us/sample - loss: 0.0720 - rmse: 0.2009 - r2: 0.8732 - val_loss: 0.1703 - val_rmse: 0.3127 - val_r2: 0.6845\n",
      "Epoch 93/100\n",
      "25087/25087 [==============================] - 1s 52us/sample - loss: 0.0722 - rmse: 0.2013 - r2: 0.8729 - val_loss: 0.1759 - val_rmse: 0.3146 - val_r2: 0.6736\n",
      "Epoch 94/100\n",
      "25087/25087 [==============================] - 1s 53us/sample - loss: 0.0725 - rmse: 0.2001 - r2: 0.8736 - val_loss: 0.1732 - val_rmse: 0.3115 - val_r2: 0.6744\n",
      "Epoch 95/100\n"
     ]
    },
    {
     "name": "stdout",
     "output_type": "stream",
     "text": [
      "25087/25087 [==============================] - 1s 53us/sample - loss: 0.0722 - rmse: 0.2003 - r2: 0.8750 - val_loss: 0.1759 - val_rmse: 0.3123 - val_r2: 0.6503\n",
      "Epoch 96/100\n",
      "25087/25087 [==============================] - 1s 53us/sample - loss: 0.0697 - rmse: 0.1984 - r2: 0.8773 - val_loss: 0.1755 - val_rmse: 0.3164 - val_r2: 0.6734\n",
      "Epoch 97/100\n",
      "25087/25087 [==============================] - 1s 53us/sample - loss: 0.0690 - rmse: 0.1973 - r2: 0.8794 - val_loss: 0.1751 - val_rmse: 0.3139 - val_r2: 0.6650\n",
      "Epoch 98/100\n",
      "25087/25087 [==============================] - 1s 53us/sample - loss: 0.0691 - rmse: 0.1978 - r2: 0.8788 - val_loss: 0.1831 - val_rmse: 0.3244 - val_r2: 0.6152\n",
      "Epoch 99/100\n",
      "25087/25087 [==============================] - 1s 53us/sample - loss: 0.0723 - rmse: 0.2019 - r2: 0.8719 - val_loss: 0.1758 - val_rmse: 0.3151 - val_r2: 0.6774\n",
      "Epoch 100/100\n",
      "25087/25087 [==============================] - 1s 53us/sample - loss: 0.0701 - rmse: 0.1984 - r2: 0.8759 - val_loss: 0.1722 - val_rmse: 0.3117 - val_r2: 0.6696\n"
     ]
    }
   ],
   "source": [
    "epoch=100\n",
    "history_bl = model_bl.fit(X_train_trfm, y_train, epochs=epoch, validation_split=0.05)"
   ]
  },
  {
   "cell_type": "code",
   "execution_count": 152,
   "id": "6808d85b",
   "metadata": {},
   "outputs": [
    {
     "data": {
      "application/vnd.plotly.v1+json": {
       "config": {
        "plotlyServerURL": "https://plot.ly"
       },
       "data": [
        {
         "name": "Train",
         "type": "scattergl",
         "y": [
          1.0429957494226987,
          0.2907699598906386,
          0.22398978143047782,
          0.19399493770686418,
          0.1763838340065785,
          0.1620175593584632,
          0.15359700649148722,
          0.1482721970026398,
          0.14094845077869553,
          0.13374675539541858,
          0.130693910617843,
          0.12759194355207806,
          0.12253000938860764,
          0.12212595260195075,
          0.11893753086967723,
          0.11823527700256112,
          0.11616658799339273,
          0.11399322123258478,
          0.11129778927817181,
          0.11128443384382464,
          0.10858936242065163,
          0.10800344157981365,
          0.10506814554070554,
          0.10430336331104222,
          0.1022497269085102,
          0.10373302243402567,
          0.10055748275100089,
          0.09898668834245014,
          0.09902660349466291,
          0.09792879382505144,
          0.09718556663171944,
          0.09612752133799601,
          0.09383663971217777,
          0.09700908764867736,
          0.09431917340189425,
          0.09064804436477464,
          0.09056906834171669,
          0.08931613278531769,
          0.08971045122151074,
          0.08946690647575328,
          0.09064592313396073,
          0.09044947691581626,
          0.0895942682777894,
          0.08585527684362403,
          0.09127983155176943,
          0.08773805328165211,
          0.08464905275796301,
          0.08530439250015265,
          0.08638640653558663,
          0.08404797741748055,
          0.08267665176133791,
          0.08258292814912338,
          0.0824634835783927,
          0.08080876476811152,
          0.0810205022413415,
          0.08069319086176138,
          0.08115548622996885,
          0.08260606308750013,
          0.0808982468484245,
          0.0798370411034697,
          0.07963911517023062,
          0.07856152466332261,
          0.07926406893335239,
          0.08192667448379769,
          0.07670234658238934,
          0.07631748190895332,
          0.07796317175361554,
          0.07906833848488588,
          0.0776217634962902,
          0.07537083258155848,
          0.07647161206426757,
          0.07771226636643389,
          0.07497969000605587,
          0.07514746915511174,
          0.07649058471650436,
          0.07520442687124389,
          0.07657665852980729,
          0.07541368975115739,
          0.07398140922829663,
          0.07387666047859644,
          0.07474029599324207,
          0.0746369341100042,
          0.07414429961542712,
          0.07245207098810319,
          0.0719028333769329,
          0.07152831307733197,
          0.07292194137648274,
          0.07415731233657986,
          0.07241100746878841,
          0.07203304697192385,
          0.07141285999559836,
          0.07204212374590518,
          0.07221803032971039,
          0.07246984326752014,
          0.07219949099791907,
          0.06974196363040458,
          0.06898481129592289,
          0.06906616783910224,
          0.07230243372608068,
          0.07009385856685255
         ]
        },
        {
         "name": "Valid",
         "type": "scattergl",
         "y": [
          0.312485867382269,
          0.24527938755329226,
          0.21962521640889848,
          0.20573224950748173,
          0.1836714534755912,
          0.18720114284126618,
          0.17258936755590418,
          0.18770258698293785,
          0.16092948842283272,
          0.16893808646896047,
          0.18298782034862413,
          0.16742625311411843,
          0.18266044015644356,
          0.161653151184343,
          0.16150636852554623,
          0.17682835864668808,
          0.16817370907070056,
          0.158901788435318,
          0.15902403257025813,
          0.16376603547593666,
          0.16970632631362703,
          0.15508801392494595,
          0.15638608660867592,
          0.1564113560423853,
          0.16859059940451118,
          0.16567639558717756,
          0.16203563539120935,
          0.1568658405140798,
          0.1599646303393821,
          0.16146962563482584,
          0.16229813352486655,
          0.1720992192389115,
          0.16447764693743167,
          0.16953040530833216,
          0.1675838374622296,
          0.15599535392099578,
          0.1643561239126593,
          0.16625065411202028,
          0.16679600673043124,
          0.16745240473661524,
          0.16653086717700885,
          0.1622514331728829,
          0.16010084134624547,
          0.16460775353302115,
          0.16068139871939124,
          0.1634129511980646,
          0.16410496793715545,
          0.1670652147859087,
          0.17121692648175807,
          0.16933472660975776,
          0.16408551014525524,
          0.17902713901251216,
          0.17175912816446898,
          0.17066104310782546,
          0.16753128342426338,
          0.17181844590831039,
          0.1988668897041852,
          0.17052009154074485,
          0.16673396358563988,
          0.16745476750692212,
          0.17125896264620571,
          0.17153978011627977,
          0.17157130862144157,
          0.16927157322129546,
          0.17567355770626183,
          0.17080181737816036,
          0.1632397449959597,
          0.1728707608357241,
          0.17227830709064665,
          0.17355076259144503,
          0.17163810039321237,
          0.16732188108899573,
          0.16792383325271404,
          0.16701860395369433,
          0.16917526106618733,
          0.1771599490316775,
          0.1670702933859049,
          0.17744363380777936,
          0.17531215090989885,
          0.16797325007171907,
          0.17111238137868928,
          0.1678586587405719,
          0.17245601466169508,
          0.17686350687627625,
          0.17280070389776767,
          0.17472475076786592,
          0.17199972256126952,
          0.17372243176302524,
          0.17023997579579278,
          0.17539279420636622,
          0.17418256191075707,
          0.17026568659885105,
          0.17594403342078077,
          0.1732019898478142,
          0.1758772499582968,
          0.17549678473468985,
          0.1750910861825149,
          0.1830589261856339,
          0.1758146669763584,
          0.17217424554774294
         ]
        }
       ],
       "layout": {
        "height": 500,
        "template": {
         "data": {
          "bar": [
           {
            "error_x": {
             "color": "#2a3f5f"
            },
            "error_y": {
             "color": "#2a3f5f"
            },
            "marker": {
             "line": {
              "color": "#E5ECF6",
              "width": 0.5
             },
             "pattern": {
              "fillmode": "overlay",
              "size": 10,
              "solidity": 0.2
             }
            },
            "type": "bar"
           }
          ],
          "barpolar": [
           {
            "marker": {
             "line": {
              "color": "#E5ECF6",
              "width": 0.5
             },
             "pattern": {
              "fillmode": "overlay",
              "size": 10,
              "solidity": 0.2
             }
            },
            "type": "barpolar"
           }
          ],
          "carpet": [
           {
            "aaxis": {
             "endlinecolor": "#2a3f5f",
             "gridcolor": "white",
             "linecolor": "white",
             "minorgridcolor": "white",
             "startlinecolor": "#2a3f5f"
            },
            "baxis": {
             "endlinecolor": "#2a3f5f",
             "gridcolor": "white",
             "linecolor": "white",
             "minorgridcolor": "white",
             "startlinecolor": "#2a3f5f"
            },
            "type": "carpet"
           }
          ],
          "choropleth": [
           {
            "colorbar": {
             "outlinewidth": 0,
             "ticks": ""
            },
            "type": "choropleth"
           }
          ],
          "contour": [
           {
            "colorbar": {
             "outlinewidth": 0,
             "ticks": ""
            },
            "colorscale": [
             [
              0,
              "#0d0887"
             ],
             [
              0.1111111111111111,
              "#46039f"
             ],
             [
              0.2222222222222222,
              "#7201a8"
             ],
             [
              0.3333333333333333,
              "#9c179e"
             ],
             [
              0.4444444444444444,
              "#bd3786"
             ],
             [
              0.5555555555555556,
              "#d8576b"
             ],
             [
              0.6666666666666666,
              "#ed7953"
             ],
             [
              0.7777777777777778,
              "#fb9f3a"
             ],
             [
              0.8888888888888888,
              "#fdca26"
             ],
             [
              1,
              "#f0f921"
             ]
            ],
            "type": "contour"
           }
          ],
          "contourcarpet": [
           {
            "colorbar": {
             "outlinewidth": 0,
             "ticks": ""
            },
            "type": "contourcarpet"
           }
          ],
          "heatmap": [
           {
            "colorbar": {
             "outlinewidth": 0,
             "ticks": ""
            },
            "colorscale": [
             [
              0,
              "#0d0887"
             ],
             [
              0.1111111111111111,
              "#46039f"
             ],
             [
              0.2222222222222222,
              "#7201a8"
             ],
             [
              0.3333333333333333,
              "#9c179e"
             ],
             [
              0.4444444444444444,
              "#bd3786"
             ],
             [
              0.5555555555555556,
              "#d8576b"
             ],
             [
              0.6666666666666666,
              "#ed7953"
             ],
             [
              0.7777777777777778,
              "#fb9f3a"
             ],
             [
              0.8888888888888888,
              "#fdca26"
             ],
             [
              1,
              "#f0f921"
             ]
            ],
            "type": "heatmap"
           }
          ],
          "heatmapgl": [
           {
            "colorbar": {
             "outlinewidth": 0,
             "ticks": ""
            },
            "colorscale": [
             [
              0,
              "#0d0887"
             ],
             [
              0.1111111111111111,
              "#46039f"
             ],
             [
              0.2222222222222222,
              "#7201a8"
             ],
             [
              0.3333333333333333,
              "#9c179e"
             ],
             [
              0.4444444444444444,
              "#bd3786"
             ],
             [
              0.5555555555555556,
              "#d8576b"
             ],
             [
              0.6666666666666666,
              "#ed7953"
             ],
             [
              0.7777777777777778,
              "#fb9f3a"
             ],
             [
              0.8888888888888888,
              "#fdca26"
             ],
             [
              1,
              "#f0f921"
             ]
            ],
            "type": "heatmapgl"
           }
          ],
          "histogram": [
           {
            "marker": {
             "pattern": {
              "fillmode": "overlay",
              "size": 10,
              "solidity": 0.2
             }
            },
            "type": "histogram"
           }
          ],
          "histogram2d": [
           {
            "colorbar": {
             "outlinewidth": 0,
             "ticks": ""
            },
            "colorscale": [
             [
              0,
              "#0d0887"
             ],
             [
              0.1111111111111111,
              "#46039f"
             ],
             [
              0.2222222222222222,
              "#7201a8"
             ],
             [
              0.3333333333333333,
              "#9c179e"
             ],
             [
              0.4444444444444444,
              "#bd3786"
             ],
             [
              0.5555555555555556,
              "#d8576b"
             ],
             [
              0.6666666666666666,
              "#ed7953"
             ],
             [
              0.7777777777777778,
              "#fb9f3a"
             ],
             [
              0.8888888888888888,
              "#fdca26"
             ],
             [
              1,
              "#f0f921"
             ]
            ],
            "type": "histogram2d"
           }
          ],
          "histogram2dcontour": [
           {
            "colorbar": {
             "outlinewidth": 0,
             "ticks": ""
            },
            "colorscale": [
             [
              0,
              "#0d0887"
             ],
             [
              0.1111111111111111,
              "#46039f"
             ],
             [
              0.2222222222222222,
              "#7201a8"
             ],
             [
              0.3333333333333333,
              "#9c179e"
             ],
             [
              0.4444444444444444,
              "#bd3786"
             ],
             [
              0.5555555555555556,
              "#d8576b"
             ],
             [
              0.6666666666666666,
              "#ed7953"
             ],
             [
              0.7777777777777778,
              "#fb9f3a"
             ],
             [
              0.8888888888888888,
              "#fdca26"
             ],
             [
              1,
              "#f0f921"
             ]
            ],
            "type": "histogram2dcontour"
           }
          ],
          "mesh3d": [
           {
            "colorbar": {
             "outlinewidth": 0,
             "ticks": ""
            },
            "type": "mesh3d"
           }
          ],
          "parcoords": [
           {
            "line": {
             "colorbar": {
              "outlinewidth": 0,
              "ticks": ""
             }
            },
            "type": "parcoords"
           }
          ],
          "pie": [
           {
            "automargin": true,
            "type": "pie"
           }
          ],
          "scatter": [
           {
            "marker": {
             "colorbar": {
              "outlinewidth": 0,
              "ticks": ""
             }
            },
            "type": "scatter"
           }
          ],
          "scatter3d": [
           {
            "line": {
             "colorbar": {
              "outlinewidth": 0,
              "ticks": ""
             }
            },
            "marker": {
             "colorbar": {
              "outlinewidth": 0,
              "ticks": ""
             }
            },
            "type": "scatter3d"
           }
          ],
          "scattercarpet": [
           {
            "marker": {
             "colorbar": {
              "outlinewidth": 0,
              "ticks": ""
             }
            },
            "type": "scattercarpet"
           }
          ],
          "scattergeo": [
           {
            "marker": {
             "colorbar": {
              "outlinewidth": 0,
              "ticks": ""
             }
            },
            "type": "scattergeo"
           }
          ],
          "scattergl": [
           {
            "marker": {
             "colorbar": {
              "outlinewidth": 0,
              "ticks": ""
             }
            },
            "type": "scattergl"
           }
          ],
          "scattermapbox": [
           {
            "marker": {
             "colorbar": {
              "outlinewidth": 0,
              "ticks": ""
             }
            },
            "type": "scattermapbox"
           }
          ],
          "scatterpolar": [
           {
            "marker": {
             "colorbar": {
              "outlinewidth": 0,
              "ticks": ""
             }
            },
            "type": "scatterpolar"
           }
          ],
          "scatterpolargl": [
           {
            "marker": {
             "colorbar": {
              "outlinewidth": 0,
              "ticks": ""
             }
            },
            "type": "scatterpolargl"
           }
          ],
          "scatterternary": [
           {
            "marker": {
             "colorbar": {
              "outlinewidth": 0,
              "ticks": ""
             }
            },
            "type": "scatterternary"
           }
          ],
          "surface": [
           {
            "colorbar": {
             "outlinewidth": 0,
             "ticks": ""
            },
            "colorscale": [
             [
              0,
              "#0d0887"
             ],
             [
              0.1111111111111111,
              "#46039f"
             ],
             [
              0.2222222222222222,
              "#7201a8"
             ],
             [
              0.3333333333333333,
              "#9c179e"
             ],
             [
              0.4444444444444444,
              "#bd3786"
             ],
             [
              0.5555555555555556,
              "#d8576b"
             ],
             [
              0.6666666666666666,
              "#ed7953"
             ],
             [
              0.7777777777777778,
              "#fb9f3a"
             ],
             [
              0.8888888888888888,
              "#fdca26"
             ],
             [
              1,
              "#f0f921"
             ]
            ],
            "type": "surface"
           }
          ],
          "table": [
           {
            "cells": {
             "fill": {
              "color": "#EBF0F8"
             },
             "line": {
              "color": "white"
             }
            },
            "header": {
             "fill": {
              "color": "#C8D4E3"
             },
             "line": {
              "color": "white"
             }
            },
            "type": "table"
           }
          ]
         },
         "layout": {
          "annotationdefaults": {
           "arrowcolor": "#2a3f5f",
           "arrowhead": 0,
           "arrowwidth": 1
          },
          "autotypenumbers": "strict",
          "coloraxis": {
           "colorbar": {
            "outlinewidth": 0,
            "ticks": ""
           }
          },
          "colorscale": {
           "diverging": [
            [
             0,
             "#8e0152"
            ],
            [
             0.1,
             "#c51b7d"
            ],
            [
             0.2,
             "#de77ae"
            ],
            [
             0.3,
             "#f1b6da"
            ],
            [
             0.4,
             "#fde0ef"
            ],
            [
             0.5,
             "#f7f7f7"
            ],
            [
             0.6,
             "#e6f5d0"
            ],
            [
             0.7,
             "#b8e186"
            ],
            [
             0.8,
             "#7fbc41"
            ],
            [
             0.9,
             "#4d9221"
            ],
            [
             1,
             "#276419"
            ]
           ],
           "sequential": [
            [
             0,
             "#0d0887"
            ],
            [
             0.1111111111111111,
             "#46039f"
            ],
            [
             0.2222222222222222,
             "#7201a8"
            ],
            [
             0.3333333333333333,
             "#9c179e"
            ],
            [
             0.4444444444444444,
             "#bd3786"
            ],
            [
             0.5555555555555556,
             "#d8576b"
            ],
            [
             0.6666666666666666,
             "#ed7953"
            ],
            [
             0.7777777777777778,
             "#fb9f3a"
            ],
            [
             0.8888888888888888,
             "#fdca26"
            ],
            [
             1,
             "#f0f921"
            ]
           ],
           "sequentialminus": [
            [
             0,
             "#0d0887"
            ],
            [
             0.1111111111111111,
             "#46039f"
            ],
            [
             0.2222222222222222,
             "#7201a8"
            ],
            [
             0.3333333333333333,
             "#9c179e"
            ],
            [
             0.4444444444444444,
             "#bd3786"
            ],
            [
             0.5555555555555556,
             "#d8576b"
            ],
            [
             0.6666666666666666,
             "#ed7953"
            ],
            [
             0.7777777777777778,
             "#fb9f3a"
            ],
            [
             0.8888888888888888,
             "#fdca26"
            ],
            [
             1,
             "#f0f921"
            ]
           ]
          },
          "colorway": [
           "#636efa",
           "#EF553B",
           "#00cc96",
           "#ab63fa",
           "#FFA15A",
           "#19d3f3",
           "#FF6692",
           "#B6E880",
           "#FF97FF",
           "#FECB52"
          ],
          "font": {
           "color": "#2a3f5f"
          },
          "geo": {
           "bgcolor": "white",
           "lakecolor": "white",
           "landcolor": "#E5ECF6",
           "showlakes": true,
           "showland": true,
           "subunitcolor": "white"
          },
          "hoverlabel": {
           "align": "left"
          },
          "hovermode": "closest",
          "mapbox": {
           "style": "light"
          },
          "paper_bgcolor": "white",
          "plot_bgcolor": "#E5ECF6",
          "polar": {
           "angularaxis": {
            "gridcolor": "white",
            "linecolor": "white",
            "ticks": ""
           },
           "bgcolor": "#E5ECF6",
           "radialaxis": {
            "gridcolor": "white",
            "linecolor": "white",
            "ticks": ""
           }
          },
          "scene": {
           "xaxis": {
            "backgroundcolor": "#E5ECF6",
            "gridcolor": "white",
            "gridwidth": 2,
            "linecolor": "white",
            "showbackground": true,
            "ticks": "",
            "zerolinecolor": "white"
           },
           "yaxis": {
            "backgroundcolor": "#E5ECF6",
            "gridcolor": "white",
            "gridwidth": 2,
            "linecolor": "white",
            "showbackground": true,
            "ticks": "",
            "zerolinecolor": "white"
           },
           "zaxis": {
            "backgroundcolor": "#E5ECF6",
            "gridcolor": "white",
            "gridwidth": 2,
            "linecolor": "white",
            "showbackground": true,
            "ticks": "",
            "zerolinecolor": "white"
           }
          },
          "shapedefaults": {
           "line": {
            "color": "#2a3f5f"
           }
          },
          "ternary": {
           "aaxis": {
            "gridcolor": "white",
            "linecolor": "white",
            "ticks": ""
           },
           "baxis": {
            "gridcolor": "white",
            "linecolor": "white",
            "ticks": ""
           },
           "bgcolor": "#E5ECF6",
           "caxis": {
            "gridcolor": "white",
            "linecolor": "white",
            "ticks": ""
           }
          },
          "title": {
           "x": 0.05
          },
          "xaxis": {
           "automargin": true,
           "gridcolor": "white",
           "linecolor": "white",
           "ticks": "",
           "title": {
            "standoff": 15
           },
           "zerolinecolor": "white",
           "zerolinewidth": 2
          },
          "yaxis": {
           "automargin": true,
           "gridcolor": "white",
           "linecolor": "white",
           "ticks": "",
           "title": {
            "standoff": 15
           },
           "zerolinecolor": "white",
           "zerolinewidth": 2
          }
         }
        },
        "width": 700,
        "xaxis": {
         "title": {
          "text": "Epoch"
         }
        },
        "yaxis": {
         "title": {
          "text": "MSE"
         }
        }
       }
      },
      "text/html": [
       "<div>                            <div id=\"2ebd43d2-3308-4dda-9be6-79eebc92cc00\" class=\"plotly-graph-div\" style=\"height:500px; width:700px;\"></div>            <script type=\"text/javascript\">                require([\"plotly\"], function(Plotly) {                    window.PLOTLYENV=window.PLOTLYENV || {};                                    if (document.getElementById(\"2ebd43d2-3308-4dda-9be6-79eebc92cc00\")) {                    Plotly.newPlot(                        \"2ebd43d2-3308-4dda-9be6-79eebc92cc00\",                        [{\"name\":\"Train\",\"y\":[1.0429957494226987,0.2907699598906386,0.22398978143047782,0.19399493770686418,0.1763838340065785,0.1620175593584632,0.15359700649148722,0.1482721970026398,0.14094845077869553,0.13374675539541858,0.130693910617843,0.12759194355207806,0.12253000938860764,0.12212595260195075,0.11893753086967723,0.11823527700256112,0.11616658799339273,0.11399322123258478,0.11129778927817181,0.11128443384382464,0.10858936242065163,0.10800344157981365,0.10506814554070554,0.10430336331104222,0.1022497269085102,0.10373302243402567,0.10055748275100089,0.09898668834245014,0.09902660349466291,0.09792879382505144,0.09718556663171944,0.09612752133799601,0.09383663971217777,0.09700908764867736,0.09431917340189425,0.09064804436477464,0.09056906834171669,0.08931613278531769,0.08971045122151074,0.08946690647575328,0.09064592313396073,0.09044947691581626,0.0895942682777894,0.08585527684362403,0.09127983155176943,0.08773805328165211,0.08464905275796301,0.08530439250015265,0.08638640653558663,0.08404797741748055,0.08267665176133791,0.08258292814912338,0.0824634835783927,0.08080876476811152,0.0810205022413415,0.08069319086176138,0.08115548622996885,0.08260606308750013,0.0808982468484245,0.0798370411034697,0.07963911517023062,0.07856152466332261,0.07926406893335239,0.08192667448379769,0.07670234658238934,0.07631748190895332,0.07796317175361554,0.07906833848488588,0.0776217634962902,0.07537083258155848,0.07647161206426757,0.07771226636643389,0.07497969000605587,0.07514746915511174,0.07649058471650436,0.07520442687124389,0.07657665852980729,0.07541368975115739,0.07398140922829663,0.07387666047859644,0.07474029599324207,0.0746369341100042,0.07414429961542712,0.07245207098810319,0.0719028333769329,0.07152831307733197,0.07292194137648274,0.07415731233657986,0.07241100746878841,0.07203304697192385,0.07141285999559836,0.07204212374590518,0.07221803032971039,0.07246984326752014,0.07219949099791907,0.06974196363040458,0.06898481129592289,0.06906616783910224,0.07230243372608068,0.07009385856685255],\"type\":\"scattergl\"},{\"name\":\"Valid\",\"y\":[0.312485867382269,0.24527938755329226,0.21962521640889848,0.20573224950748173,0.1836714534755912,0.18720114284126618,0.17258936755590418,0.18770258698293785,0.16092948842283272,0.16893808646896047,0.18298782034862413,0.16742625311411843,0.18266044015644356,0.161653151184343,0.16150636852554623,0.17682835864668808,0.16817370907070056,0.158901788435318,0.15902403257025813,0.16376603547593666,0.16970632631362703,0.15508801392494595,0.15638608660867592,0.1564113560423853,0.16859059940451118,0.16567639558717756,0.16203563539120935,0.1568658405140798,0.1599646303393821,0.16146962563482584,0.16229813352486655,0.1720992192389115,0.16447764693743167,0.16953040530833216,0.1675838374622296,0.15599535392099578,0.1643561239126593,0.16625065411202028,0.16679600673043124,0.16745240473661524,0.16653086717700885,0.1622514331728829,0.16010084134624547,0.16460775353302115,0.16068139871939124,0.1634129511980646,0.16410496793715545,0.1670652147859087,0.17121692648175807,0.16933472660975776,0.16408551014525524,0.17902713901251216,0.17175912816446898,0.17066104310782546,0.16753128342426338,0.17181844590831039,0.1988668897041852,0.17052009154074485,0.16673396358563988,0.16745476750692212,0.17125896264620571,0.17153978011627977,0.17157130862144157,0.16927157322129546,0.17567355770626183,0.17080181737816036,0.1632397449959597,0.1728707608357241,0.17227830709064665,0.17355076259144503,0.17163810039321237,0.16732188108899573,0.16792383325271404,0.16701860395369433,0.16917526106618733,0.1771599490316775,0.1670702933859049,0.17744363380777936,0.17531215090989885,0.16797325007171907,0.17111238137868928,0.1678586587405719,0.17245601466169508,0.17686350687627625,0.17280070389776767,0.17472475076786592,0.17199972256126952,0.17372243176302524,0.17023997579579278,0.17539279420636622,0.17418256191075707,0.17026568659885105,0.17594403342078077,0.1732019898478142,0.1758772499582968,0.17549678473468985,0.1750910861825149,0.1830589261856339,0.1758146669763584,0.17217424554774294],\"type\":\"scattergl\"}],                        {\"template\":{\"data\":{\"bar\":[{\"error_x\":{\"color\":\"#2a3f5f\"},\"error_y\":{\"color\":\"#2a3f5f\"},\"marker\":{\"line\":{\"color\":\"#E5ECF6\",\"width\":0.5},\"pattern\":{\"fillmode\":\"overlay\",\"size\":10,\"solidity\":0.2}},\"type\":\"bar\"}],\"barpolar\":[{\"marker\":{\"line\":{\"color\":\"#E5ECF6\",\"width\":0.5},\"pattern\":{\"fillmode\":\"overlay\",\"size\":10,\"solidity\":0.2}},\"type\":\"barpolar\"}],\"carpet\":[{\"aaxis\":{\"endlinecolor\":\"#2a3f5f\",\"gridcolor\":\"white\",\"linecolor\":\"white\",\"minorgridcolor\":\"white\",\"startlinecolor\":\"#2a3f5f\"},\"baxis\":{\"endlinecolor\":\"#2a3f5f\",\"gridcolor\":\"white\",\"linecolor\":\"white\",\"minorgridcolor\":\"white\",\"startlinecolor\":\"#2a3f5f\"},\"type\":\"carpet\"}],\"choropleth\":[{\"colorbar\":{\"outlinewidth\":0,\"ticks\":\"\"},\"type\":\"choropleth\"}],\"contour\":[{\"colorbar\":{\"outlinewidth\":0,\"ticks\":\"\"},\"colorscale\":[[0.0,\"#0d0887\"],[0.1111111111111111,\"#46039f\"],[0.2222222222222222,\"#7201a8\"],[0.3333333333333333,\"#9c179e\"],[0.4444444444444444,\"#bd3786\"],[0.5555555555555556,\"#d8576b\"],[0.6666666666666666,\"#ed7953\"],[0.7777777777777778,\"#fb9f3a\"],[0.8888888888888888,\"#fdca26\"],[1.0,\"#f0f921\"]],\"type\":\"contour\"}],\"contourcarpet\":[{\"colorbar\":{\"outlinewidth\":0,\"ticks\":\"\"},\"type\":\"contourcarpet\"}],\"heatmap\":[{\"colorbar\":{\"outlinewidth\":0,\"ticks\":\"\"},\"colorscale\":[[0.0,\"#0d0887\"],[0.1111111111111111,\"#46039f\"],[0.2222222222222222,\"#7201a8\"],[0.3333333333333333,\"#9c179e\"],[0.4444444444444444,\"#bd3786\"],[0.5555555555555556,\"#d8576b\"],[0.6666666666666666,\"#ed7953\"],[0.7777777777777778,\"#fb9f3a\"],[0.8888888888888888,\"#fdca26\"],[1.0,\"#f0f921\"]],\"type\":\"heatmap\"}],\"heatmapgl\":[{\"colorbar\":{\"outlinewidth\":0,\"ticks\":\"\"},\"colorscale\":[[0.0,\"#0d0887\"],[0.1111111111111111,\"#46039f\"],[0.2222222222222222,\"#7201a8\"],[0.3333333333333333,\"#9c179e\"],[0.4444444444444444,\"#bd3786\"],[0.5555555555555556,\"#d8576b\"],[0.6666666666666666,\"#ed7953\"],[0.7777777777777778,\"#fb9f3a\"],[0.8888888888888888,\"#fdca26\"],[1.0,\"#f0f921\"]],\"type\":\"heatmapgl\"}],\"histogram\":[{\"marker\":{\"pattern\":{\"fillmode\":\"overlay\",\"size\":10,\"solidity\":0.2}},\"type\":\"histogram\"}],\"histogram2d\":[{\"colorbar\":{\"outlinewidth\":0,\"ticks\":\"\"},\"colorscale\":[[0.0,\"#0d0887\"],[0.1111111111111111,\"#46039f\"],[0.2222222222222222,\"#7201a8\"],[0.3333333333333333,\"#9c179e\"],[0.4444444444444444,\"#bd3786\"],[0.5555555555555556,\"#d8576b\"],[0.6666666666666666,\"#ed7953\"],[0.7777777777777778,\"#fb9f3a\"],[0.8888888888888888,\"#fdca26\"],[1.0,\"#f0f921\"]],\"type\":\"histogram2d\"}],\"histogram2dcontour\":[{\"colorbar\":{\"outlinewidth\":0,\"ticks\":\"\"},\"colorscale\":[[0.0,\"#0d0887\"],[0.1111111111111111,\"#46039f\"],[0.2222222222222222,\"#7201a8\"],[0.3333333333333333,\"#9c179e\"],[0.4444444444444444,\"#bd3786\"],[0.5555555555555556,\"#d8576b\"],[0.6666666666666666,\"#ed7953\"],[0.7777777777777778,\"#fb9f3a\"],[0.8888888888888888,\"#fdca26\"],[1.0,\"#f0f921\"]],\"type\":\"histogram2dcontour\"}],\"mesh3d\":[{\"colorbar\":{\"outlinewidth\":0,\"ticks\":\"\"},\"type\":\"mesh3d\"}],\"parcoords\":[{\"line\":{\"colorbar\":{\"outlinewidth\":0,\"ticks\":\"\"}},\"type\":\"parcoords\"}],\"pie\":[{\"automargin\":true,\"type\":\"pie\"}],\"scatter\":[{\"marker\":{\"colorbar\":{\"outlinewidth\":0,\"ticks\":\"\"}},\"type\":\"scatter\"}],\"scatter3d\":[{\"line\":{\"colorbar\":{\"outlinewidth\":0,\"ticks\":\"\"}},\"marker\":{\"colorbar\":{\"outlinewidth\":0,\"ticks\":\"\"}},\"type\":\"scatter3d\"}],\"scattercarpet\":[{\"marker\":{\"colorbar\":{\"outlinewidth\":0,\"ticks\":\"\"}},\"type\":\"scattercarpet\"}],\"scattergeo\":[{\"marker\":{\"colorbar\":{\"outlinewidth\":0,\"ticks\":\"\"}},\"type\":\"scattergeo\"}],\"scattergl\":[{\"marker\":{\"colorbar\":{\"outlinewidth\":0,\"ticks\":\"\"}},\"type\":\"scattergl\"}],\"scattermapbox\":[{\"marker\":{\"colorbar\":{\"outlinewidth\":0,\"ticks\":\"\"}},\"type\":\"scattermapbox\"}],\"scatterpolar\":[{\"marker\":{\"colorbar\":{\"outlinewidth\":0,\"ticks\":\"\"}},\"type\":\"scatterpolar\"}],\"scatterpolargl\":[{\"marker\":{\"colorbar\":{\"outlinewidth\":0,\"ticks\":\"\"}},\"type\":\"scatterpolargl\"}],\"scatterternary\":[{\"marker\":{\"colorbar\":{\"outlinewidth\":0,\"ticks\":\"\"}},\"type\":\"scatterternary\"}],\"surface\":[{\"colorbar\":{\"outlinewidth\":0,\"ticks\":\"\"},\"colorscale\":[[0.0,\"#0d0887\"],[0.1111111111111111,\"#46039f\"],[0.2222222222222222,\"#7201a8\"],[0.3333333333333333,\"#9c179e\"],[0.4444444444444444,\"#bd3786\"],[0.5555555555555556,\"#d8576b\"],[0.6666666666666666,\"#ed7953\"],[0.7777777777777778,\"#fb9f3a\"],[0.8888888888888888,\"#fdca26\"],[1.0,\"#f0f921\"]],\"type\":\"surface\"}],\"table\":[{\"cells\":{\"fill\":{\"color\":\"#EBF0F8\"},\"line\":{\"color\":\"white\"}},\"header\":{\"fill\":{\"color\":\"#C8D4E3\"},\"line\":{\"color\":\"white\"}},\"type\":\"table\"}]},\"layout\":{\"annotationdefaults\":{\"arrowcolor\":\"#2a3f5f\",\"arrowhead\":0,\"arrowwidth\":1},\"autotypenumbers\":\"strict\",\"coloraxis\":{\"colorbar\":{\"outlinewidth\":0,\"ticks\":\"\"}},\"colorscale\":{\"diverging\":[[0,\"#8e0152\"],[0.1,\"#c51b7d\"],[0.2,\"#de77ae\"],[0.3,\"#f1b6da\"],[0.4,\"#fde0ef\"],[0.5,\"#f7f7f7\"],[0.6,\"#e6f5d0\"],[0.7,\"#b8e186\"],[0.8,\"#7fbc41\"],[0.9,\"#4d9221\"],[1,\"#276419\"]],\"sequential\":[[0.0,\"#0d0887\"],[0.1111111111111111,\"#46039f\"],[0.2222222222222222,\"#7201a8\"],[0.3333333333333333,\"#9c179e\"],[0.4444444444444444,\"#bd3786\"],[0.5555555555555556,\"#d8576b\"],[0.6666666666666666,\"#ed7953\"],[0.7777777777777778,\"#fb9f3a\"],[0.8888888888888888,\"#fdca26\"],[1.0,\"#f0f921\"]],\"sequentialminus\":[[0.0,\"#0d0887\"],[0.1111111111111111,\"#46039f\"],[0.2222222222222222,\"#7201a8\"],[0.3333333333333333,\"#9c179e\"],[0.4444444444444444,\"#bd3786\"],[0.5555555555555556,\"#d8576b\"],[0.6666666666666666,\"#ed7953\"],[0.7777777777777778,\"#fb9f3a\"],[0.8888888888888888,\"#fdca26\"],[1.0,\"#f0f921\"]]},\"colorway\":[\"#636efa\",\"#EF553B\",\"#00cc96\",\"#ab63fa\",\"#FFA15A\",\"#19d3f3\",\"#FF6692\",\"#B6E880\",\"#FF97FF\",\"#FECB52\"],\"font\":{\"color\":\"#2a3f5f\"},\"geo\":{\"bgcolor\":\"white\",\"lakecolor\":\"white\",\"landcolor\":\"#E5ECF6\",\"showlakes\":true,\"showland\":true,\"subunitcolor\":\"white\"},\"hoverlabel\":{\"align\":\"left\"},\"hovermode\":\"closest\",\"mapbox\":{\"style\":\"light\"},\"paper_bgcolor\":\"white\",\"plot_bgcolor\":\"#E5ECF6\",\"polar\":{\"angularaxis\":{\"gridcolor\":\"white\",\"linecolor\":\"white\",\"ticks\":\"\"},\"bgcolor\":\"#E5ECF6\",\"radialaxis\":{\"gridcolor\":\"white\",\"linecolor\":\"white\",\"ticks\":\"\"}},\"scene\":{\"xaxis\":{\"backgroundcolor\":\"#E5ECF6\",\"gridcolor\":\"white\",\"gridwidth\":2,\"linecolor\":\"white\",\"showbackground\":true,\"ticks\":\"\",\"zerolinecolor\":\"white\"},\"yaxis\":{\"backgroundcolor\":\"#E5ECF6\",\"gridcolor\":\"white\",\"gridwidth\":2,\"linecolor\":\"white\",\"showbackground\":true,\"ticks\":\"\",\"zerolinecolor\":\"white\"},\"zaxis\":{\"backgroundcolor\":\"#E5ECF6\",\"gridcolor\":\"white\",\"gridwidth\":2,\"linecolor\":\"white\",\"showbackground\":true,\"ticks\":\"\",\"zerolinecolor\":\"white\"}},\"shapedefaults\":{\"line\":{\"color\":\"#2a3f5f\"}},\"ternary\":{\"aaxis\":{\"gridcolor\":\"white\",\"linecolor\":\"white\",\"ticks\":\"\"},\"baxis\":{\"gridcolor\":\"white\",\"linecolor\":\"white\",\"ticks\":\"\"},\"bgcolor\":\"#E5ECF6\",\"caxis\":{\"gridcolor\":\"white\",\"linecolor\":\"white\",\"ticks\":\"\"}},\"title\":{\"x\":0.05},\"xaxis\":{\"automargin\":true,\"gridcolor\":\"white\",\"linecolor\":\"white\",\"ticks\":\"\",\"title\":{\"standoff\":15},\"zerolinecolor\":\"white\",\"zerolinewidth\":2},\"yaxis\":{\"automargin\":true,\"gridcolor\":\"white\",\"linecolor\":\"white\",\"ticks\":\"\",\"title\":{\"standoff\":15},\"zerolinecolor\":\"white\",\"zerolinewidth\":2}}},\"height\":500,\"width\":700,\"xaxis\":{\"title\":{\"text\":\"Epoch\"}},\"yaxis\":{\"title\":{\"text\":\"MSE\"}}},                        {\"responsive\": true}                    ).then(function(){\n",
       "                            \n",
       "var gd = document.getElementById('2ebd43d2-3308-4dda-9be6-79eebc92cc00');\n",
       "var x = new MutationObserver(function (mutations, observer) {{\n",
       "        var display = window.getComputedStyle(gd).display;\n",
       "        if (!display || display === 'none') {{\n",
       "            console.log([gd, 'removed!']);\n",
       "            Plotly.purge(gd);\n",
       "            observer.disconnect();\n",
       "        }}\n",
       "}});\n",
       "\n",
       "// Listen for the removal of the full notebook cells\n",
       "var notebookContainer = gd.closest('#notebook-container');\n",
       "if (notebookContainer) {{\n",
       "    x.observe(notebookContainer, {childList: true});\n",
       "}}\n",
       "\n",
       "// Listen for the clearing of the current output cell\n",
       "var outputEl = gd.closest('.output');\n",
       "if (outputEl) {{\n",
       "    x.observe(outputEl, {childList: true});\n",
       "}}\n",
       "\n",
       "                        })                };                });            </script>        </div>"
      ]
     },
     "metadata": {},
     "output_type": "display_data"
    }
   ],
   "source": [
    "import plotly.graph_objects as go\n",
    "\n",
    "fig = go.Figure()\n",
    "fig.add_trace(go.Scattergl(y=history_bl.history['loss'],\n",
    "                    name='Train'))\n",
    "fig.add_trace(go.Scattergl(y=history_bl.history['val_loss'],\n",
    "                    name='Valid'))\n",
    "fig.update_layout(height=500, width=700,\n",
    "                  xaxis_title='Epoch',\n",
    "                  yaxis_title='MSE')\n",
    "fig.show()"
   ]
  },
  {
   "cell_type": "code",
   "execution_count": 153,
   "id": "fbf661fb",
   "metadata": {},
   "outputs": [
    {
     "name": "stdout",
     "output_type": "stream",
     "text": [
      "Train R-sq:  0.8759\n",
      "Train MSE:  0.0701\n",
      "Val R-sq:  0.6696\n",
      "Val MSE:  0.1722\n",
      "Test R-sq:  0.6464\n",
      "Test MSE:  0.2086\n"
     ]
    }
   ],
   "source": [
    "mse_nn, rmse_nn, r2_nn = model_bl.evaluate(X_test_trfm, y_test)\n",
    "print('Train R-sq: ', round(history_bl.history['r2'][epoch-1],4))\n",
    "print('Train MSE: ', round(history_bl.history['loss'][epoch-1],4))\n",
    "print('Val R-sq: ', round(history_bl.history['val_r2'][epoch-1],4))\n",
    "print('Val MSE: ', round(history_bl.history['val_loss'][epoch-1],4))\n",
    "print('Test R-sq: ', round(r2_nn,4))\n",
    "print('Test MSE: ', round(mse_nn,4))"
   ]
  },
  {
   "cell_type": "code",
   "execution_count": 206,
   "id": "18931b37",
   "metadata": {},
   "outputs": [
    {
     "name": "stdout",
     "output_type": "stream",
     "text": [
      "Model: \"sequential_11\"\n",
      "_________________________________________________________________\n",
      " Layer (type)                Output Shape              Param #   \n",
      "=================================================================\n",
      " dense_25 (Dense)            (None, 120)               14520     \n",
      "                                                                 \n",
      " dense_26 (Dense)            (None, 1)                 121       \n",
      "                                                                 \n",
      "=================================================================\n",
      "Total params: 14,641\n",
      "Trainable params: 14,641\n",
      "Non-trainable params: 0\n",
      "_________________________________________________________________\n",
      "Train on 25087 samples, validate on 1321 samples\n",
      "Epoch 1/20\n",
      "25087/25087 [==============================] - 1s 41us/sample - loss: 0.7546 - rmse: 0.5976 - r2: -0.3734 - val_loss: 0.3100 - val_rmse: 0.4240 - val_r2: 0.4171\n",
      "Epoch 2/20\n",
      "25087/25087 [==============================] - 1s 29us/sample - loss: 0.2695 - rmse: 0.3865 - r2: 0.5285 - val_loss: 0.2256 - val_rmse: 0.3556 - val_r2: 0.5784\n",
      "Epoch 3/20\n",
      "25087/25087 [==============================] - 1s 25us/sample - loss: 0.2143 - rmse: 0.3424 - r2: 0.6300 - val_loss: 0.2105 - val_rmse: 0.3426 - val_r2: 0.6049\n",
      "Epoch 4/20\n",
      "25087/25087 [==============================] - 1s 26us/sample - loss: 0.1853 - rmse: 0.3175 - r2: 0.6800 - val_loss: 0.1895 - val_rmse: 0.3271 - val_r2: 0.6413\n",
      "Epoch 5/20\n",
      "25087/25087 [==============================] - 1s 25us/sample - loss: 0.1702 - rmse: 0.3045 - r2: 0.7086 - val_loss: 0.1790 - val_rmse: 0.3194 - val_r2: 0.6646\n",
      "Epoch 6/20\n",
      "25087/25087 [==============================] - 1s 26us/sample - loss: 0.1589 - rmse: 0.2933 - r2: 0.7257 - val_loss: 0.1727 - val_rmse: 0.3103 - val_r2: 0.6704\n",
      "Epoch 7/20\n",
      "25087/25087 [==============================] - 1s 24us/sample - loss: 0.1518 - rmse: 0.2873 - r2: 0.7377 - val_loss: 0.1629 - val_rmse: 0.2959 - val_r2: 0.6981\n",
      "Epoch 8/20\n",
      "25087/25087 [==============================] - 1s 24us/sample - loss: 0.1438 - rmse: 0.2788 - r2: 0.7504 - val_loss: 0.1741 - val_rmse: 0.3047 - val_r2: 0.6588\n",
      "Epoch 9/20\n",
      "25087/25087 [==============================] - 1s 27us/sample - loss: 0.1423 - rmse: 0.2762 - r2: 0.7556 - val_loss: 0.1609 - val_rmse: 0.2952 - val_r2: 0.6913\n",
      "Epoch 10/20\n",
      "25087/25087 [==============================] - 1s 25us/sample - loss: 0.1340 - rmse: 0.2695 - r2: 0.7709 - val_loss: 0.1606 - val_rmse: 0.2959 - val_r2: 0.6981\n",
      "Epoch 11/20\n",
      "25087/25087 [==============================] - 1s 25us/sample - loss: 0.1302 - rmse: 0.2658 - r2: 0.7769 - val_loss: 0.1659 - val_rmse: 0.2980 - val_r2: 0.6929\n",
      "Epoch 12/20\n",
      "25087/25087 [==============================] - 1s 26us/sample - loss: 0.1290 - rmse: 0.2640 - r2: 0.7768 - val_loss: 0.1680 - val_rmse: 0.2979 - val_r2: 0.6934\n",
      "Epoch 13/20\n",
      "25087/25087 [==============================] - 1s 26us/sample - loss: 0.1232 - rmse: 0.2588 - r2: 0.7861 - val_loss: 0.1630 - val_rmse: 0.2985 - val_r2: 0.6938\n",
      "Epoch 14/20\n",
      "25087/25087 [==============================] - 1s 26us/sample - loss: 0.1228 - rmse: 0.2575 - r2: 0.7869 - val_loss: 0.1812 - val_rmse: 0.3141 - val_r2: 0.6529\n",
      "Epoch 15/20\n",
      "25087/25087 [==============================] - 1s 25us/sample - loss: 0.1205 - rmse: 0.2552 - r2: 0.7907 - val_loss: 0.1588 - val_rmse: 0.2914 - val_r2: 0.7071\n",
      "Epoch 16/20\n",
      "25087/25087 [==============================] - 1s 25us/sample - loss: 0.1162 - rmse: 0.2521 - r2: 0.7978 - val_loss: 0.1621 - val_rmse: 0.2967 - val_r2: 0.6948\n",
      "Epoch 17/20\n",
      "25087/25087 [==============================] - 1s 26us/sample - loss: 0.1149 - rmse: 0.2498 - r2: 0.7993 - val_loss: 0.1622 - val_rmse: 0.2952 - val_r2: 0.6799\n",
      "Epoch 18/20\n",
      "25087/25087 [==============================] - 1s 25us/sample - loss: 0.1132 - rmse: 0.2481 - r2: 0.8047 - val_loss: 0.1627 - val_rmse: 0.2988 - val_r2: 0.6912\n",
      "Epoch 19/20\n",
      "25087/25087 [==============================] - 1s 26us/sample - loss: 0.1109 - rmse: 0.2460 - r2: 0.8089 - val_loss: 0.1714 - val_rmse: 0.2990 - val_r2: 0.6406\n",
      "Epoch 20/20\n",
      "25087/25087 [==============================] - 1s 25us/sample - loss: 0.1109 - rmse: 0.2465 - r2: 0.8082 - val_loss: 0.1610 - val_rmse: 0.2954 - val_r2: 0.6883\n"
     ]
    }
   ],
   "source": [
    "best_model_bl = baseline_model()\n",
    "best_model_bl.summary()\n",
    "epoch=20\n",
    "best_history_bl = best_model_bl.fit(X_train_trfm, y_train, epochs=epoch, validation_split=0.05)"
   ]
  },
  {
   "cell_type": "code",
   "execution_count": 207,
   "id": "f4a71dcb",
   "metadata": {},
   "outputs": [
    {
     "name": "stdout",
     "output_type": "stream",
     "text": [
      "Train R-sq:  0.8082\n",
      "Train MSE:  0.1109\n",
      "Val R-sq:  0.6883\n",
      "Val MSE:  0.161\n",
      "Test R-sq:  0.6815\n",
      "Test MSE:  0.1885\n"
     ]
    }
   ],
   "source": [
    "mse_nn, rmse_nn, r2_nn = best_model_bl.evaluate(X_test_trfm, y_test)\n",
    "print('Train R-sq: ', round(best_history_bl.history['r2'][epoch-1],4))\n",
    "print('Train MSE: ', round(best_history_bl.history['loss'][epoch-1],4))\n",
    "print('Val R-sq: ', round(best_history_bl.history['val_r2'][epoch-1],4))\n",
    "print('Val MSE: ', round(best_history_bl.history['val_loss'][epoch-1],4))\n",
    "print('Test R-sq: ', round(r2_nn,4))\n",
    "print('Test MSE: ', round(mse_nn,4))"
   ]
  },
  {
   "cell_type": "markdown",
   "id": "6e0246d3",
   "metadata": {},
   "source": [
    "### Deep NN"
   ]
  },
  {
   "cell_type": "code",
   "execution_count": 189,
   "id": "53335b40",
   "metadata": {},
   "outputs": [
    {
     "name": "stdout",
     "output_type": "stream",
     "text": [
      "Model: \"sequential_9\"\n",
      "_________________________________________________________________\n",
      " Layer (type)                Output Shape              Param #   \n",
      "=================================================================\n",
      " dense_20 (Dense)            (None, 120)               14520     \n",
      "                                                                 \n",
      " dense_21 (Dense)            (None, 60)                7260      \n",
      "                                                                 \n",
      " dense_22 (Dense)            (None, 1)                 61        \n",
      "                                                                 \n",
      "=================================================================\n",
      "Total params: 21,841\n",
      "Trainable params: 21,841\n",
      "Non-trainable params: 0\n",
      "_________________________________________________________________\n"
     ]
    }
   ],
   "source": [
    "def deep_model():\n",
    "    # create model\n",
    "    model = Sequential()\n",
    "    model.add(Dense(120, input_dim=120, kernel_initializer='he_normal', activation='relu'))\n",
    "    model.add(Dense(60, kernel_initializer='he_normal', activation='relu'))\n",
    "    model.add(Dense(1, kernel_initializer='he_normal'))\n",
    "    # Compile model\n",
    "    model.compile(loss='mean_squared_error', optimizer='adam', metrics=[rmse,r2])\n",
    "    return model\n",
    "model_dp = deep_model()\n",
    "model_dp.summary()"
   ]
  },
  {
   "cell_type": "code",
   "execution_count": 190,
   "id": "1b720232",
   "metadata": {},
   "outputs": [
    {
     "name": "stdout",
     "output_type": "stream",
     "text": [
      "Train on 25087 samples, validate on 1321 samples\n",
      "Epoch 1/100\n",
      "25087/25087 [==============================] - 1s 30us/sample - loss: 0.7027 - rmse: 0.5531 - r2: -0.2259 - val_loss: 0.2792 - val_rmse: 0.3865 - val_r2: 0.4821\n",
      "Epoch 2/100\n",
      "25087/25087 [==============================] - 1s 27us/sample - loss: 0.2529 - rmse: 0.3724 - r2: 0.5627 - val_loss: 0.2310 - val_rmse: 0.3540 - val_r2: 0.5508\n",
      "Epoch 3/100\n",
      "25087/25087 [==============================] - 1s 28us/sample - loss: 0.2119 - rmse: 0.3363 - r2: 0.6298 - val_loss: 0.2025 - val_rmse: 0.3300 - val_r2: 0.6350\n",
      "Epoch 4/100\n",
      "25087/25087 [==============================] - 1s 29us/sample - loss: 0.1820 - rmse: 0.3143 - r2: 0.6847 - val_loss: 0.2065 - val_rmse: 0.3327 - val_r2: 0.5954\n",
      "Epoch 5/100\n",
      "25087/25087 [==============================] - 1s 29us/sample - loss: 0.1647 - rmse: 0.2998 - r2: 0.7151 - val_loss: 0.1829 - val_rmse: 0.3138 - val_r2: 0.6614\n",
      "Epoch 6/100\n",
      "25087/25087 [==============================] - 1s 29us/sample - loss: 0.1637 - rmse: 0.2947 - r2: 0.7143 - val_loss: 0.1716 - val_rmse: 0.3074 - val_r2: 0.6820\n",
      "Epoch 7/100\n",
      "25087/25087 [==============================] - 1s 29us/sample - loss: 0.1515 - rmse: 0.2856 - r2: 0.7389 - val_loss: 0.1751 - val_rmse: 0.2980 - val_r2: 0.6744\n",
      "Epoch 8/100\n",
      "25087/25087 [==============================] - 1s 28us/sample - loss: 0.1382 - rmse: 0.2749 - r2: 0.7624 - val_loss: 0.1691 - val_rmse: 0.3025 - val_r2: 0.6910\n",
      "Epoch 9/100\n",
      "25087/25087 [==============================] - 1s 28us/sample - loss: 0.1310 - rmse: 0.2678 - r2: 0.7726 - val_loss: 0.1623 - val_rmse: 0.3011 - val_r2: 0.6897\n",
      "Epoch 10/100\n",
      "25087/25087 [==============================] - 1s 28us/sample - loss: 0.1271 - rmse: 0.2634 - r2: 0.7782 - val_loss: 0.1708 - val_rmse: 0.3039 - val_r2: 0.6757\n",
      "Epoch 11/100\n",
      "25087/25087 [==============================] - 1s 27us/sample - loss: 0.1224 - rmse: 0.2590 - r2: 0.7864 - val_loss: 0.1617 - val_rmse: 0.2961 - val_r2: 0.7011\n",
      "Epoch 12/100\n",
      "25087/25087 [==============================] - 1s 26us/sample - loss: 0.1175 - rmse: 0.2532 - r2: 0.7937 - val_loss: 0.1604 - val_rmse: 0.2938 - val_r2: 0.6974\n",
      "Epoch 13/100\n",
      "25087/25087 [==============================] - 1s 26us/sample - loss: 0.1134 - rmse: 0.2494 - r2: 0.8026 - val_loss: 0.1582 - val_rmse: 0.2921 - val_r2: 0.6801\n",
      "Epoch 14/100\n",
      "25087/25087 [==============================] - 1s 26us/sample - loss: 0.1101 - rmse: 0.2457 - r2: 0.8080 - val_loss: 0.1720 - val_rmse: 0.3034 - val_r2: 0.6707\n",
      "Epoch 15/100\n",
      "25087/25087 [==============================] - 1s 26us/sample - loss: 0.1061 - rmse: 0.2413 - r2: 0.8146 - val_loss: 0.1690 - val_rmse: 0.3004 - val_r2: 0.6967\n",
      "Epoch 16/100\n",
      "25087/25087 [==============================] - 1s 26us/sample - loss: 0.1031 - rmse: 0.2386 - r2: 0.8202 - val_loss: 0.1717 - val_rmse: 0.2962 - val_r2: 0.6810\n",
      "Epoch 17/100\n",
      "25087/25087 [==============================] - 1s 27us/sample - loss: 0.0979 - rmse: 0.2337 - r2: 0.8282 - val_loss: 0.1672 - val_rmse: 0.2930 - val_r2: 0.6884\n",
      "Epoch 18/100\n",
      "25087/25087 [==============================] - 1s 26us/sample - loss: 0.0960 - rmse: 0.2302 - r2: 0.8326 - val_loss: 0.1684 - val_rmse: 0.3057 - val_r2: 0.6887\n",
      "Epoch 19/100\n",
      "25087/25087 [==============================] - 1s 28us/sample - loss: 0.0927 - rmse: 0.2269 - r2: 0.8366 - val_loss: 0.1655 - val_rmse: 0.3014 - val_r2: 0.6709\n",
      "Epoch 20/100\n",
      "25087/25087 [==============================] - 1s 29us/sample - loss: 0.0910 - rmse: 0.2256 - r2: 0.8408 - val_loss: 0.1612 - val_rmse: 0.2946 - val_r2: 0.6943\n",
      "Epoch 21/100\n",
      "25087/25087 [==============================] - 1s 28us/sample - loss: 0.0896 - rmse: 0.2238 - r2: 0.8428 - val_loss: 0.1659 - val_rmse: 0.3016 - val_r2: 0.6903\n",
      "Epoch 22/100\n",
      "25087/25087 [==============================] - 1s 29us/sample - loss: 0.0879 - rmse: 0.2216 - r2: 0.8461 - val_loss: 0.1663 - val_rmse: 0.2955 - val_r2: 0.6842\n",
      "Epoch 23/100\n",
      "25087/25087 [==============================] - 1s 29us/sample - loss: 0.0838 - rmse: 0.2161 - r2: 0.8536 - val_loss: 0.1682 - val_rmse: 0.2927 - val_r2: 0.6868\n",
      "Epoch 24/100\n",
      "25087/25087 [==============================] - 1s 28us/sample - loss: 0.0807 - rmse: 0.2138 - r2: 0.8581 - val_loss: 0.1673 - val_rmse: 0.2960 - val_r2: 0.6859\n",
      "Epoch 25/100\n",
      "25087/25087 [==============================] - 1s 28us/sample - loss: 0.0800 - rmse: 0.2126 - r2: 0.8598 - val_loss: 0.1711 - val_rmse: 0.3020 - val_r2: 0.6761\n",
      "Epoch 26/100\n",
      "25087/25087 [==============================] - 1s 28us/sample - loss: 0.0786 - rmse: 0.2105 - r2: 0.8620 - val_loss: 0.1675 - val_rmse: 0.3007 - val_r2: 0.6942\n",
      "Epoch 27/100\n",
      "25087/25087 [==============================] - 1s 27us/sample - loss: 0.0749 - rmse: 0.2059 - r2: 0.8678 - val_loss: 0.1825 - val_rmse: 0.3168 - val_r2: 0.6676\n",
      "Epoch 28/100\n",
      "25087/25087 [==============================] - 1s 28us/sample - loss: 0.0753 - rmse: 0.2068 - r2: 0.8678 - val_loss: 0.1773 - val_rmse: 0.3074 - val_r2: 0.6658\n",
      "Epoch 29/100\n",
      "25087/25087 [==============================] - 1s 27us/sample - loss: 0.0727 - rmse: 0.2037 - r2: 0.8719 - val_loss: 0.2282 - val_rmse: 0.3653 - val_r2: 0.5739\n",
      "Epoch 30/100\n",
      "25087/25087 [==============================] - 1s 27us/sample - loss: 0.0724 - rmse: 0.2025 - r2: 0.8727 - val_loss: 0.1738 - val_rmse: 0.3017 - val_r2: 0.6758\n",
      "Epoch 31/100\n",
      "25087/25087 [==============================] - 1s 27us/sample - loss: 0.0693 - rmse: 0.1992 - r2: 0.8772 - val_loss: 0.1822 - val_rmse: 0.3163 - val_r2: 0.6678\n",
      "Epoch 32/100\n",
      "25087/25087 [==============================] - 1s 27us/sample - loss: 0.0681 - rmse: 0.1980 - r2: 0.8798 - val_loss: 0.1836 - val_rmse: 0.3162 - val_r2: 0.6571\n",
      "Epoch 33/100\n",
      "25087/25087 [==============================] - 1s 27us/sample - loss: 0.0655 - rmse: 0.1936 - r2: 0.8837 - val_loss: 0.1803 - val_rmse: 0.3089 - val_r2: 0.6722\n",
      "Epoch 34/100\n",
      "25087/25087 [==============================] - 1s 29us/sample - loss: 0.0662 - rmse: 0.1947 - r2: 0.8836 - val_loss: 0.1889 - val_rmse: 0.3105 - val_r2: 0.6562\n",
      "Epoch 35/100\n",
      "25087/25087 [==============================] - 1s 27us/sample - loss: 0.0637 - rmse: 0.1914 - r2: 0.8863 - val_loss: 0.1803 - val_rmse: 0.3087 - val_r2: 0.6432\n",
      "Epoch 36/100\n",
      "25087/25087 [==============================] - 1s 28us/sample - loss: 0.0639 - rmse: 0.1918 - r2: 0.8868 - val_loss: 0.1850 - val_rmse: 0.3134 - val_r2: 0.6571\n",
      "Epoch 37/100\n",
      "25087/25087 [==============================] - 1s 28us/sample - loss: 0.0621 - rmse: 0.1894 - r2: 0.8905 - val_loss: 0.1907 - val_rmse: 0.3220 - val_r2: 0.6415\n",
      "Epoch 38/100\n",
      "25087/25087 [==============================] - 1s 27us/sample - loss: 0.0611 - rmse: 0.1879 - r2: 0.8908 - val_loss: 0.1854 - val_rmse: 0.3158 - val_r2: 0.6504\n",
      "Epoch 39/100\n",
      "25087/25087 [==============================] - 1s 27us/sample - loss: 0.0606 - rmse: 0.1860 - r2: 0.8920 - val_loss: 0.1871 - val_rmse: 0.3169 - val_r2: 0.6442\n",
      "Epoch 40/100\n",
      "25087/25087 [==============================] - 1s 27us/sample - loss: 0.0587 - rmse: 0.1841 - r2: 0.8962 - val_loss: 0.1818 - val_rmse: 0.3142 - val_r2: 0.6565\n",
      "Epoch 41/100\n",
      "25087/25087 [==============================] - 1s 28us/sample - loss: 0.0591 - rmse: 0.1841 - r2: 0.8952 - val_loss: 0.1835 - val_rmse: 0.3160 - val_r2: 0.6495\n",
      "Epoch 42/100\n",
      "25087/25087 [==============================] - 1s 27us/sample - loss: 0.0560 - rmse: 0.1807 - r2: 0.9005 - val_loss: 0.1843 - val_rmse: 0.3136 - val_r2: 0.6383\n",
      "Epoch 43/100\n",
      "25087/25087 [==============================] - 1s 27us/sample - loss: 0.0568 - rmse: 0.1808 - r2: 0.8984 - val_loss: 0.1996 - val_rmse: 0.3279 - val_r2: 0.6317\n",
      "Epoch 44/100\n",
      "25087/25087 [==============================] - 1s 28us/sample - loss: 0.0559 - rmse: 0.1800 - r2: 0.9014 - val_loss: 0.1895 - val_rmse: 0.3238 - val_r2: 0.6581\n",
      "Epoch 45/100\n",
      "25087/25087 [==============================] - 1s 27us/sample - loss: 0.0546 - rmse: 0.1782 - r2: 0.9034 - val_loss: 0.1926 - val_rmse: 0.3233 - val_r2: 0.6525\n",
      "Epoch 46/100\n",
      "25087/25087 [==============================] - 1s 27us/sample - loss: 0.0546 - rmse: 0.1778 - r2: 0.9028 - val_loss: 0.1905 - val_rmse: 0.3197 - val_r2: 0.6103\n",
      "Epoch 47/100\n",
      "25087/25087 [==============================] - 1s 27us/sample - loss: 0.0530 - rmse: 0.1754 - r2: 0.9050 - val_loss: 0.1890 - val_rmse: 0.3225 - val_r2: 0.6592\n",
      "Epoch 48/100\n"
     ]
    },
    {
     "name": "stdout",
     "output_type": "stream",
     "text": [
      "25087/25087 [==============================] - 1s 27us/sample - loss: 0.0521 - rmse: 0.1741 - r2: 0.9072 - val_loss: 0.1950 - val_rmse: 0.3190 - val_r2: 0.6390\n",
      "Epoch 49/100\n",
      "25087/25087 [==============================] - 1s 29us/sample - loss: 0.0517 - rmse: 0.1734 - r2: 0.9078 - val_loss: 0.1928 - val_rmse: 0.3228 - val_r2: 0.6409\n",
      "Epoch 50/100\n",
      "25087/25087 [==============================] - 1s 27us/sample - loss: 0.0507 - rmse: 0.1720 - r2: 0.9093 - val_loss: 0.1935 - val_rmse: 0.3198 - val_r2: 0.6316\n",
      "Epoch 51/100\n",
      "25087/25087 [==============================] - 1s 28us/sample - loss: 0.0496 - rmse: 0.1701 - r2: 0.9113 - val_loss: 0.1893 - val_rmse: 0.3185 - val_r2: 0.6310\n",
      "Epoch 52/100\n",
      "25087/25087 [==============================] - 1s 28us/sample - loss: 0.0493 - rmse: 0.1700 - r2: 0.9117 - val_loss: 0.1941 - val_rmse: 0.3206 - val_r2: 0.6461\n",
      "Epoch 53/100\n",
      "25087/25087 [==============================] - 1s 28us/sample - loss: 0.0489 - rmse: 0.1691 - r2: 0.9118 - val_loss: 0.1934 - val_rmse: 0.3213 - val_r2: 0.6285\n",
      "Epoch 54/100\n",
      "25087/25087 [==============================] - 1s 27us/sample - loss: 0.0485 - rmse: 0.1690 - r2: 0.9132 - val_loss: 0.2028 - val_rmse: 0.3324 - val_r2: 0.6324\n",
      "Epoch 55/100\n",
      "25087/25087 [==============================] - 1s 27us/sample - loss: 0.0487 - rmse: 0.1691 - r2: 0.9128 - val_loss: 0.1986 - val_rmse: 0.3254 - val_r2: 0.6138\n",
      "Epoch 56/100\n",
      "25087/25087 [==============================] - 1s 27us/sample - loss: 0.0476 - rmse: 0.1671 - r2: 0.9157 - val_loss: 0.1975 - val_rmse: 0.3242 - val_r2: 0.6313\n",
      "Epoch 57/100\n",
      "25087/25087 [==============================] - 1s 27us/sample - loss: 0.0474 - rmse: 0.1657 - r2: 0.9152 - val_loss: 0.2069 - val_rmse: 0.3321 - val_r2: 0.6095\n",
      "Epoch 58/100\n",
      "25087/25087 [==============================] - 1s 28us/sample - loss: 0.0454 - rmse: 0.1636 - r2: 0.9188 - val_loss: 0.2014 - val_rmse: 0.3283 - val_r2: 0.6346\n",
      "Epoch 59/100\n",
      "25087/25087 [==============================] - 1s 28us/sample - loss: 0.0457 - rmse: 0.1633 - r2: 0.9186 - val_loss: 0.2061 - val_rmse: 0.3346 - val_r2: 0.6252\n",
      "Epoch 60/100\n",
      "25087/25087 [==============================] - 1s 28us/sample - loss: 0.0441 - rmse: 0.1607 - r2: 0.9209 - val_loss: 0.2048 - val_rmse: 0.3299 - val_r2: 0.6128\n",
      "Epoch 61/100\n",
      "25087/25087 [==============================] - 1s 27us/sample - loss: 0.0440 - rmse: 0.1610 - r2: 0.9212 - val_loss: 0.2004 - val_rmse: 0.3279 - val_r2: 0.6225\n",
      "Epoch 62/100\n",
      "25087/25087 [==============================] - 1s 26us/sample - loss: 0.0436 - rmse: 0.1604 - r2: 0.9219 - val_loss: 0.1943 - val_rmse: 0.3220 - val_r2: 0.6434\n",
      "Epoch 63/100\n",
      "25087/25087 [==============================] - 1s 27us/sample - loss: 0.0450 - rmse: 0.1622 - r2: 0.9191 - val_loss: 0.2047 - val_rmse: 0.3303 - val_r2: 0.6172\n",
      "Epoch 64/100\n",
      "25087/25087 [==============================] - 1s 27us/sample - loss: 0.0426 - rmse: 0.1586 - r2: 0.9231 - val_loss: 0.2033 - val_rmse: 0.3286 - val_r2: 0.6381\n",
      "Epoch 65/100\n",
      "25087/25087 [==============================] - 1s 31us/sample - loss: 0.0416 - rmse: 0.1570 - r2: 0.9255 - val_loss: 0.2038 - val_rmse: 0.3271 - val_r2: 0.5930\n",
      "Epoch 66/100\n",
      "25087/25087 [==============================] - 1s 27us/sample - loss: 0.0420 - rmse: 0.1568 - r2: 0.9254 - val_loss: 0.1983 - val_rmse: 0.3257 - val_r2: 0.6296\n",
      "Epoch 67/100\n",
      "25087/25087 [==============================] - 1s 26us/sample - loss: 0.0423 - rmse: 0.1577 - r2: 0.9243 - val_loss: 0.2066 - val_rmse: 0.3301 - val_r2: 0.6140\n",
      "Epoch 68/100\n",
      "25087/25087 [==============================] - 1s 26us/sample - loss: 0.0412 - rmse: 0.1558 - r2: 0.9263 - val_loss: 0.2055 - val_rmse: 0.3275 - val_r2: 0.6080\n",
      "Epoch 69/100\n",
      "25087/25087 [==============================] - 1s 26us/sample - loss: 0.0410 - rmse: 0.1555 - r2: 0.9261 - val_loss: 0.2137 - val_rmse: 0.3349 - val_r2: 0.6029\n",
      "Epoch 70/100\n",
      "25087/25087 [==============================] - 1s 26us/sample - loss: 0.0415 - rmse: 0.1563 - r2: 0.9257 - val_loss: 0.2059 - val_rmse: 0.3337 - val_r2: 0.6175\n",
      "Epoch 71/100\n",
      "25087/25087 [==============================] - 1s 26us/sample - loss: 0.0399 - rmse: 0.1529 - r2: 0.9275 - val_loss: 0.2133 - val_rmse: 0.3381 - val_r2: 0.5958\n",
      "Epoch 72/100\n",
      "25087/25087 [==============================] - 1s 26us/sample - loss: 0.0390 - rmse: 0.1517 - r2: 0.9298 - val_loss: 0.2009 - val_rmse: 0.3261 - val_r2: 0.6373\n",
      "Epoch 73/100\n",
      "25087/25087 [==============================] - 1s 26us/sample - loss: 0.0397 - rmse: 0.1531 - r2: 0.9284 - val_loss: 0.2116 - val_rmse: 0.3328 - val_r2: 0.6038\n",
      "Epoch 74/100\n",
      "25087/25087 [==============================] - 1s 26us/sample - loss: 0.0395 - rmse: 0.1526 - r2: 0.9292 - val_loss: 0.2096 - val_rmse: 0.3352 - val_r2: 0.5938\n",
      "Epoch 75/100\n",
      "25087/25087 [==============================] - 1s 26us/sample - loss: 0.0392 - rmse: 0.1518 - r2: 0.9288 - val_loss: 0.2078 - val_rmse: 0.3339 - val_r2: 0.6301\n",
      "Epoch 76/100\n",
      "25087/25087 [==============================] - 1s 26us/sample - loss: 0.0388 - rmse: 0.1518 - r2: 0.9303 - val_loss: 0.2119 - val_rmse: 0.3324 - val_r2: 0.6116\n",
      "Epoch 77/100\n",
      "25087/25087 [==============================] - 1s 26us/sample - loss: 0.0382 - rmse: 0.1502 - r2: 0.9314 - val_loss: 0.2218 - val_rmse: 0.3420 - val_r2: 0.5836\n",
      "Epoch 78/100\n",
      "25087/25087 [==============================] - 1s 26us/sample - loss: 0.0377 - rmse: 0.1492 - r2: 0.9324 - val_loss: 0.2129 - val_rmse: 0.3351 - val_r2: 0.6067\n",
      "Epoch 79/100\n",
      "25087/25087 [==============================] - 1s 26us/sample - loss: 0.0375 - rmse: 0.1492 - r2: 0.9325 - val_loss: 0.2087 - val_rmse: 0.3329 - val_r2: 0.6073\n",
      "Epoch 80/100\n",
      "25087/25087 [==============================] - 1s 26us/sample - loss: 0.0366 - rmse: 0.1470 - r2: 0.9341 - val_loss: 0.2109 - val_rmse: 0.3361 - val_r2: 0.6076\n",
      "Epoch 81/100\n",
      "25087/25087 [==============================] - 1s 26us/sample - loss: 0.0370 - rmse: 0.1480 - r2: 0.9334 - val_loss: 0.2204 - val_rmse: 0.3459 - val_r2: 0.5760\n",
      "Epoch 82/100\n",
      "25087/25087 [==============================] - 1s 27us/sample - loss: 0.0365 - rmse: 0.1473 - r2: 0.9347 - val_loss: 0.2202 - val_rmse: 0.3458 - val_r2: 0.5881\n",
      "Epoch 83/100\n",
      "25087/25087 [==============================] - 1s 26us/sample - loss: 0.0365 - rmse: 0.1475 - r2: 0.9346 - val_loss: 0.2183 - val_rmse: 0.3416 - val_r2: 0.5837\n",
      "Epoch 84/100\n",
      "25087/25087 [==============================] - 1s 26us/sample - loss: 0.0361 - rmse: 0.1462 - r2: 0.9342 - val_loss: 0.2272 - val_rmse: 0.3500 - val_r2: 0.5790\n",
      "Epoch 85/100\n",
      "25087/25087 [==============================] - 1s 26us/sample - loss: 0.0357 - rmse: 0.1455 - r2: 0.9357 - val_loss: 0.2186 - val_rmse: 0.3419 - val_r2: 0.5979\n",
      "Epoch 86/100\n",
      "25087/25087 [==============================] - 1s 26us/sample - loss: 0.0351 - rmse: 0.1445 - r2: 0.9369 - val_loss: 0.2212 - val_rmse: 0.3451 - val_r2: 0.5653\n",
      "Epoch 87/100\n",
      "25087/25087 [==============================] - 1s 26us/sample - loss: 0.0356 - rmse: 0.1448 - r2: 0.9358 - val_loss: 0.2213 - val_rmse: 0.3444 - val_r2: 0.5908\n",
      "Epoch 88/100\n",
      "25087/25087 [==============================] - 1s 26us/sample - loss: 0.0354 - rmse: 0.1442 - r2: 0.9365 - val_loss: 0.2153 - val_rmse: 0.3387 - val_r2: 0.5809\n",
      "Epoch 89/100\n",
      "25087/25087 [==============================] - 1s 26us/sample - loss: 0.0343 - rmse: 0.1433 - r2: 0.9381 - val_loss: 0.2140 - val_rmse: 0.3328 - val_r2: 0.6043\n",
      "Epoch 90/100\n",
      "25087/25087 [==============================] - 1s 26us/sample - loss: 0.0351 - rmse: 0.1443 - r2: 0.9372 - val_loss: 0.2254 - val_rmse: 0.3460 - val_r2: 0.5829\n",
      "Epoch 91/100\n",
      "25087/25087 [==============================] - 1s 26us/sample - loss: 0.0342 - rmse: 0.1422 - r2: 0.9375 - val_loss: 0.2198 - val_rmse: 0.3443 - val_r2: 0.5935\n",
      "Epoch 92/100\n",
      "25087/25087 [==============================] - 1s 26us/sample - loss: 0.0356 - rmse: 0.1446 - r2: 0.9352 - val_loss: 0.2226 - val_rmse: 0.3466 - val_r2: 0.5721\n",
      "Epoch 93/100\n",
      "25087/25087 [==============================] - 1s 26us/sample - loss: 0.0344 - rmse: 0.1426 - r2: 0.9378 - val_loss: 0.2341 - val_rmse: 0.3484 - val_r2: 0.5463\n",
      "Epoch 94/100\n",
      "25087/25087 [==============================] - 1s 28us/sample - loss: 0.0338 - rmse: 0.1418 - r2: 0.9387 - val_loss: 0.2236 - val_rmse: 0.3414 - val_r2: 0.5803\n",
      "Epoch 95/100\n"
     ]
    },
    {
     "name": "stdout",
     "output_type": "stream",
     "text": [
      "25087/25087 [==============================] - 1s 27us/sample - loss: 0.0331 - rmse: 0.1399 - r2: 0.9399 - val_loss: 0.2277 - val_rmse: 0.3433 - val_r2: 0.5611\n",
      "Epoch 96/100\n",
      "25087/25087 [==============================] - 1s 26us/sample - loss: 0.0336 - rmse: 0.1412 - r2: 0.9396 - val_loss: 0.2296 - val_rmse: 0.3518 - val_r2: 0.5853\n",
      "Epoch 97/100\n",
      "25087/25087 [==============================] - 1s 26us/sample - loss: 0.0327 - rmse: 0.1401 - r2: 0.9409 - val_loss: 0.2170 - val_rmse: 0.3378 - val_r2: 0.6026\n",
      "Epoch 98/100\n",
      "25087/25087 [==============================] - 1s 26us/sample - loss: 0.0333 - rmse: 0.1406 - r2: 0.9399 - val_loss: 0.2243 - val_rmse: 0.3461 - val_r2: 0.6019\n",
      "Epoch 99/100\n",
      "25087/25087 [==============================] - 1s 26us/sample - loss: 0.0320 - rmse: 0.1378 - r2: 0.9416 - val_loss: 0.2260 - val_rmse: 0.3485 - val_r2: 0.5732\n",
      "Epoch 100/100\n",
      "25087/25087 [==============================] - 1s 26us/sample - loss: 0.0317 - rmse: 0.1374 - r2: 0.9426 - val_loss: 0.2260 - val_rmse: 0.3435 - val_r2: 0.5905\n"
     ]
    }
   ],
   "source": [
    "epoch=100\n",
    "history_dp = model_dp.fit(X_train_trfm, y_train, epochs=epoch, validation_split=0.05)"
   ]
  },
  {
   "cell_type": "code",
   "execution_count": 191,
   "id": "318566b5",
   "metadata": {},
   "outputs": [
    {
     "data": {
      "application/vnd.plotly.v1+json": {
       "config": {
        "plotlyServerURL": "https://plot.ly"
       },
       "data": [
        {
         "name": "Train",
         "type": "scattergl",
         "y": [
          0.7026668366203798,
          0.25286749295595423,
          0.21192169249326248,
          0.1819537273291223,
          0.1646520624242926,
          0.16365453211025105,
          0.1514769655614812,
          0.13816508117623816,
          0.13101158477997074,
          0.1271371911838012,
          0.12242926741188546,
          0.1174508486102414,
          0.11335031842232207,
          0.11005471269727614,
          0.10608303357010304,
          0.1031182157216154,
          0.09785202091702545,
          0.09599556872174878,
          0.09274427756648129,
          0.090969312736639,
          0.08957795004093495,
          0.08787078511363537,
          0.08375129317062532,
          0.0807327891212127,
          0.0800087512871161,
          0.07861896504570404,
          0.07485321990475305,
          0.07530335266150953,
          0.0727332586071892,
          0.07237830334557777,
          0.06932254740457895,
          0.06809791993401318,
          0.06551652597995906,
          0.06620051421178444,
          0.0636881165301172,
          0.06391897418239591,
          0.06205436781208555,
          0.06114951166819808,
          0.060591771435413534,
          0.05869161755211276,
          0.05913902075108352,
          0.055988693728703846,
          0.056844945549881745,
          0.05594438228028713,
          0.054551037211154806,
          0.05459493118404627,
          0.05301249793188633,
          0.052061445326950666,
          0.051748540990912015,
          0.05070700740130064,
          0.04955716999371292,
          0.04929050403273029,
          0.048930523995113016,
          0.04848315155551395,
          0.048743800618927274,
          0.047591200316905516,
          0.047417083993395524,
          0.04542564530854123,
          0.04574571840081061,
          0.04407634321611633,
          0.044044876834157504,
          0.043613279345630765,
          0.044953706928463844,
          0.042576102352719206,
          0.04164247362086201,
          0.042043811639962944,
          0.04230622718355771,
          0.04116379116898436,
          0.040957948051067235,
          0.041479161142466595,
          0.03987756410685899,
          0.03903989239653409,
          0.03972183222105339,
          0.03951206477717181,
          0.03918855824816382,
          0.0387885749407474,
          0.03823194631724373,
          0.037660360947954,
          0.037522610847603194,
          0.036581268553294376,
          0.037045953688620285,
          0.036451480941544115,
          0.036491615956493785,
          0.03609532253701566,
          0.03568137569666531,
          0.03509062569282969,
          0.03563068947170584,
          0.03544423186729603,
          0.03432588093992534,
          0.03514873757189209,
          0.03416889735011993,
          0.03561988413629694,
          0.034405363128245575,
          0.03381002006406573,
          0.03306610640458394,
          0.03361648008050343,
          0.032710485128127416,
          0.033325904940950724,
          0.031952417020783566,
          0.03170391415375504
         ]
        },
        {
         "name": "Valid",
         "type": "scattergl",
         "y": [
          0.2792307909219938,
          0.23099212651898876,
          0.20246889124667436,
          0.20646273288918118,
          0.18289308819037148,
          0.17160991905856368,
          0.17514274683890246,
          0.1691097176346835,
          0.1623451686453675,
          0.17084074189588935,
          0.1616883638634274,
          0.160380387604011,
          0.15820358958684702,
          0.17203115506617975,
          0.16900739574594809,
          0.17168091700315746,
          0.16723756664725165,
          0.16840484035592654,
          0.1654701247574433,
          0.16122599849639563,
          0.16591212494097182,
          0.16633941847929712,
          0.16818615175744153,
          0.1672891922052569,
          0.1710647923038549,
          0.1675281321952778,
          0.18247805367718134,
          0.17729447258637765,
          0.2281539513476413,
          0.17382740963710067,
          0.182165470958478,
          0.1835602886585644,
          0.18031128664570809,
          0.188900339070998,
          0.18028948575055212,
          0.18499331538375807,
          0.19068792566126896,
          0.18544277889452407,
          0.18709358022485512,
          0.18179562349467454,
          0.18347689940295916,
          0.18427027393073228,
          0.19957542028010208,
          0.1894518917907286,
          0.1925899668862475,
          0.1904571587889597,
          0.18904159648413013,
          0.19495531846681027,
          0.19280311991485297,
          0.19351712561844878,
          0.18933570777530656,
          0.19410515948284043,
          0.19343537902128147,
          0.20275619255490235,
          0.19862559282084832,
          0.1974739442148685,
          0.20692315250973553,
          0.2014155488836323,
          0.20611475366340454,
          0.20479319746028646,
          0.20043886780603468,
          0.19430891842913392,
          0.2047300243088912,
          0.20332308535454943,
          0.203817904424162,
          0.19825769546332456,
          0.2066206323274783,
          0.20546237946143212,
          0.213741407819222,
          0.20592790558922933,
          0.21325153301919075,
          0.20087610137769438,
          0.2115833516219274,
          0.20957237603897222,
          0.20779801583105104,
          0.2118983053172925,
          0.22178182091329876,
          0.2129281604948773,
          0.20869776960758438,
          0.21092870317111856,
          0.2204295233128921,
          0.22020419680828582,
          0.21831225282896838,
          0.22724900444875062,
          0.21864512541319367,
          0.22120406883039048,
          0.22130147763651306,
          0.21527040081435672,
          0.21398953178631006,
          0.22541806778611784,
          0.21981091718954357,
          0.2225881810331778,
          0.2341271061774549,
          0.22357862328237696,
          0.2277498302429937,
          0.22961459528262826,
          0.21704455956331625,
          0.22427184404318842,
          0.22596540889173272,
          0.22597613453549206
         ]
        }
       ],
       "layout": {
        "height": 500,
        "template": {
         "data": {
          "bar": [
           {
            "error_x": {
             "color": "#2a3f5f"
            },
            "error_y": {
             "color": "#2a3f5f"
            },
            "marker": {
             "line": {
              "color": "#E5ECF6",
              "width": 0.5
             },
             "pattern": {
              "fillmode": "overlay",
              "size": 10,
              "solidity": 0.2
             }
            },
            "type": "bar"
           }
          ],
          "barpolar": [
           {
            "marker": {
             "line": {
              "color": "#E5ECF6",
              "width": 0.5
             },
             "pattern": {
              "fillmode": "overlay",
              "size": 10,
              "solidity": 0.2
             }
            },
            "type": "barpolar"
           }
          ],
          "carpet": [
           {
            "aaxis": {
             "endlinecolor": "#2a3f5f",
             "gridcolor": "white",
             "linecolor": "white",
             "minorgridcolor": "white",
             "startlinecolor": "#2a3f5f"
            },
            "baxis": {
             "endlinecolor": "#2a3f5f",
             "gridcolor": "white",
             "linecolor": "white",
             "minorgridcolor": "white",
             "startlinecolor": "#2a3f5f"
            },
            "type": "carpet"
           }
          ],
          "choropleth": [
           {
            "colorbar": {
             "outlinewidth": 0,
             "ticks": ""
            },
            "type": "choropleth"
           }
          ],
          "contour": [
           {
            "colorbar": {
             "outlinewidth": 0,
             "ticks": ""
            },
            "colorscale": [
             [
              0,
              "#0d0887"
             ],
             [
              0.1111111111111111,
              "#46039f"
             ],
             [
              0.2222222222222222,
              "#7201a8"
             ],
             [
              0.3333333333333333,
              "#9c179e"
             ],
             [
              0.4444444444444444,
              "#bd3786"
             ],
             [
              0.5555555555555556,
              "#d8576b"
             ],
             [
              0.6666666666666666,
              "#ed7953"
             ],
             [
              0.7777777777777778,
              "#fb9f3a"
             ],
             [
              0.8888888888888888,
              "#fdca26"
             ],
             [
              1,
              "#f0f921"
             ]
            ],
            "type": "contour"
           }
          ],
          "contourcarpet": [
           {
            "colorbar": {
             "outlinewidth": 0,
             "ticks": ""
            },
            "type": "contourcarpet"
           }
          ],
          "heatmap": [
           {
            "colorbar": {
             "outlinewidth": 0,
             "ticks": ""
            },
            "colorscale": [
             [
              0,
              "#0d0887"
             ],
             [
              0.1111111111111111,
              "#46039f"
             ],
             [
              0.2222222222222222,
              "#7201a8"
             ],
             [
              0.3333333333333333,
              "#9c179e"
             ],
             [
              0.4444444444444444,
              "#bd3786"
             ],
             [
              0.5555555555555556,
              "#d8576b"
             ],
             [
              0.6666666666666666,
              "#ed7953"
             ],
             [
              0.7777777777777778,
              "#fb9f3a"
             ],
             [
              0.8888888888888888,
              "#fdca26"
             ],
             [
              1,
              "#f0f921"
             ]
            ],
            "type": "heatmap"
           }
          ],
          "heatmapgl": [
           {
            "colorbar": {
             "outlinewidth": 0,
             "ticks": ""
            },
            "colorscale": [
             [
              0,
              "#0d0887"
             ],
             [
              0.1111111111111111,
              "#46039f"
             ],
             [
              0.2222222222222222,
              "#7201a8"
             ],
             [
              0.3333333333333333,
              "#9c179e"
             ],
             [
              0.4444444444444444,
              "#bd3786"
             ],
             [
              0.5555555555555556,
              "#d8576b"
             ],
             [
              0.6666666666666666,
              "#ed7953"
             ],
             [
              0.7777777777777778,
              "#fb9f3a"
             ],
             [
              0.8888888888888888,
              "#fdca26"
             ],
             [
              1,
              "#f0f921"
             ]
            ],
            "type": "heatmapgl"
           }
          ],
          "histogram": [
           {
            "marker": {
             "pattern": {
              "fillmode": "overlay",
              "size": 10,
              "solidity": 0.2
             }
            },
            "type": "histogram"
           }
          ],
          "histogram2d": [
           {
            "colorbar": {
             "outlinewidth": 0,
             "ticks": ""
            },
            "colorscale": [
             [
              0,
              "#0d0887"
             ],
             [
              0.1111111111111111,
              "#46039f"
             ],
             [
              0.2222222222222222,
              "#7201a8"
             ],
             [
              0.3333333333333333,
              "#9c179e"
             ],
             [
              0.4444444444444444,
              "#bd3786"
             ],
             [
              0.5555555555555556,
              "#d8576b"
             ],
             [
              0.6666666666666666,
              "#ed7953"
             ],
             [
              0.7777777777777778,
              "#fb9f3a"
             ],
             [
              0.8888888888888888,
              "#fdca26"
             ],
             [
              1,
              "#f0f921"
             ]
            ],
            "type": "histogram2d"
           }
          ],
          "histogram2dcontour": [
           {
            "colorbar": {
             "outlinewidth": 0,
             "ticks": ""
            },
            "colorscale": [
             [
              0,
              "#0d0887"
             ],
             [
              0.1111111111111111,
              "#46039f"
             ],
             [
              0.2222222222222222,
              "#7201a8"
             ],
             [
              0.3333333333333333,
              "#9c179e"
             ],
             [
              0.4444444444444444,
              "#bd3786"
             ],
             [
              0.5555555555555556,
              "#d8576b"
             ],
             [
              0.6666666666666666,
              "#ed7953"
             ],
             [
              0.7777777777777778,
              "#fb9f3a"
             ],
             [
              0.8888888888888888,
              "#fdca26"
             ],
             [
              1,
              "#f0f921"
             ]
            ],
            "type": "histogram2dcontour"
           }
          ],
          "mesh3d": [
           {
            "colorbar": {
             "outlinewidth": 0,
             "ticks": ""
            },
            "type": "mesh3d"
           }
          ],
          "parcoords": [
           {
            "line": {
             "colorbar": {
              "outlinewidth": 0,
              "ticks": ""
             }
            },
            "type": "parcoords"
           }
          ],
          "pie": [
           {
            "automargin": true,
            "type": "pie"
           }
          ],
          "scatter": [
           {
            "marker": {
             "colorbar": {
              "outlinewidth": 0,
              "ticks": ""
             }
            },
            "type": "scatter"
           }
          ],
          "scatter3d": [
           {
            "line": {
             "colorbar": {
              "outlinewidth": 0,
              "ticks": ""
             }
            },
            "marker": {
             "colorbar": {
              "outlinewidth": 0,
              "ticks": ""
             }
            },
            "type": "scatter3d"
           }
          ],
          "scattercarpet": [
           {
            "marker": {
             "colorbar": {
              "outlinewidth": 0,
              "ticks": ""
             }
            },
            "type": "scattercarpet"
           }
          ],
          "scattergeo": [
           {
            "marker": {
             "colorbar": {
              "outlinewidth": 0,
              "ticks": ""
             }
            },
            "type": "scattergeo"
           }
          ],
          "scattergl": [
           {
            "marker": {
             "colorbar": {
              "outlinewidth": 0,
              "ticks": ""
             }
            },
            "type": "scattergl"
           }
          ],
          "scattermapbox": [
           {
            "marker": {
             "colorbar": {
              "outlinewidth": 0,
              "ticks": ""
             }
            },
            "type": "scattermapbox"
           }
          ],
          "scatterpolar": [
           {
            "marker": {
             "colorbar": {
              "outlinewidth": 0,
              "ticks": ""
             }
            },
            "type": "scatterpolar"
           }
          ],
          "scatterpolargl": [
           {
            "marker": {
             "colorbar": {
              "outlinewidth": 0,
              "ticks": ""
             }
            },
            "type": "scatterpolargl"
           }
          ],
          "scatterternary": [
           {
            "marker": {
             "colorbar": {
              "outlinewidth": 0,
              "ticks": ""
             }
            },
            "type": "scatterternary"
           }
          ],
          "surface": [
           {
            "colorbar": {
             "outlinewidth": 0,
             "ticks": ""
            },
            "colorscale": [
             [
              0,
              "#0d0887"
             ],
             [
              0.1111111111111111,
              "#46039f"
             ],
             [
              0.2222222222222222,
              "#7201a8"
             ],
             [
              0.3333333333333333,
              "#9c179e"
             ],
             [
              0.4444444444444444,
              "#bd3786"
             ],
             [
              0.5555555555555556,
              "#d8576b"
             ],
             [
              0.6666666666666666,
              "#ed7953"
             ],
             [
              0.7777777777777778,
              "#fb9f3a"
             ],
             [
              0.8888888888888888,
              "#fdca26"
             ],
             [
              1,
              "#f0f921"
             ]
            ],
            "type": "surface"
           }
          ],
          "table": [
           {
            "cells": {
             "fill": {
              "color": "#EBF0F8"
             },
             "line": {
              "color": "white"
             }
            },
            "header": {
             "fill": {
              "color": "#C8D4E3"
             },
             "line": {
              "color": "white"
             }
            },
            "type": "table"
           }
          ]
         },
         "layout": {
          "annotationdefaults": {
           "arrowcolor": "#2a3f5f",
           "arrowhead": 0,
           "arrowwidth": 1
          },
          "autotypenumbers": "strict",
          "coloraxis": {
           "colorbar": {
            "outlinewidth": 0,
            "ticks": ""
           }
          },
          "colorscale": {
           "diverging": [
            [
             0,
             "#8e0152"
            ],
            [
             0.1,
             "#c51b7d"
            ],
            [
             0.2,
             "#de77ae"
            ],
            [
             0.3,
             "#f1b6da"
            ],
            [
             0.4,
             "#fde0ef"
            ],
            [
             0.5,
             "#f7f7f7"
            ],
            [
             0.6,
             "#e6f5d0"
            ],
            [
             0.7,
             "#b8e186"
            ],
            [
             0.8,
             "#7fbc41"
            ],
            [
             0.9,
             "#4d9221"
            ],
            [
             1,
             "#276419"
            ]
           ],
           "sequential": [
            [
             0,
             "#0d0887"
            ],
            [
             0.1111111111111111,
             "#46039f"
            ],
            [
             0.2222222222222222,
             "#7201a8"
            ],
            [
             0.3333333333333333,
             "#9c179e"
            ],
            [
             0.4444444444444444,
             "#bd3786"
            ],
            [
             0.5555555555555556,
             "#d8576b"
            ],
            [
             0.6666666666666666,
             "#ed7953"
            ],
            [
             0.7777777777777778,
             "#fb9f3a"
            ],
            [
             0.8888888888888888,
             "#fdca26"
            ],
            [
             1,
             "#f0f921"
            ]
           ],
           "sequentialminus": [
            [
             0,
             "#0d0887"
            ],
            [
             0.1111111111111111,
             "#46039f"
            ],
            [
             0.2222222222222222,
             "#7201a8"
            ],
            [
             0.3333333333333333,
             "#9c179e"
            ],
            [
             0.4444444444444444,
             "#bd3786"
            ],
            [
             0.5555555555555556,
             "#d8576b"
            ],
            [
             0.6666666666666666,
             "#ed7953"
            ],
            [
             0.7777777777777778,
             "#fb9f3a"
            ],
            [
             0.8888888888888888,
             "#fdca26"
            ],
            [
             1,
             "#f0f921"
            ]
           ]
          },
          "colorway": [
           "#636efa",
           "#EF553B",
           "#00cc96",
           "#ab63fa",
           "#FFA15A",
           "#19d3f3",
           "#FF6692",
           "#B6E880",
           "#FF97FF",
           "#FECB52"
          ],
          "font": {
           "color": "#2a3f5f"
          },
          "geo": {
           "bgcolor": "white",
           "lakecolor": "white",
           "landcolor": "#E5ECF6",
           "showlakes": true,
           "showland": true,
           "subunitcolor": "white"
          },
          "hoverlabel": {
           "align": "left"
          },
          "hovermode": "closest",
          "mapbox": {
           "style": "light"
          },
          "paper_bgcolor": "white",
          "plot_bgcolor": "#E5ECF6",
          "polar": {
           "angularaxis": {
            "gridcolor": "white",
            "linecolor": "white",
            "ticks": ""
           },
           "bgcolor": "#E5ECF6",
           "radialaxis": {
            "gridcolor": "white",
            "linecolor": "white",
            "ticks": ""
           }
          },
          "scene": {
           "xaxis": {
            "backgroundcolor": "#E5ECF6",
            "gridcolor": "white",
            "gridwidth": 2,
            "linecolor": "white",
            "showbackground": true,
            "ticks": "",
            "zerolinecolor": "white"
           },
           "yaxis": {
            "backgroundcolor": "#E5ECF6",
            "gridcolor": "white",
            "gridwidth": 2,
            "linecolor": "white",
            "showbackground": true,
            "ticks": "",
            "zerolinecolor": "white"
           },
           "zaxis": {
            "backgroundcolor": "#E5ECF6",
            "gridcolor": "white",
            "gridwidth": 2,
            "linecolor": "white",
            "showbackground": true,
            "ticks": "",
            "zerolinecolor": "white"
           }
          },
          "shapedefaults": {
           "line": {
            "color": "#2a3f5f"
           }
          },
          "ternary": {
           "aaxis": {
            "gridcolor": "white",
            "linecolor": "white",
            "ticks": ""
           },
           "baxis": {
            "gridcolor": "white",
            "linecolor": "white",
            "ticks": ""
           },
           "bgcolor": "#E5ECF6",
           "caxis": {
            "gridcolor": "white",
            "linecolor": "white",
            "ticks": ""
           }
          },
          "title": {
           "x": 0.05
          },
          "xaxis": {
           "automargin": true,
           "gridcolor": "white",
           "linecolor": "white",
           "ticks": "",
           "title": {
            "standoff": 15
           },
           "zerolinecolor": "white",
           "zerolinewidth": 2
          },
          "yaxis": {
           "automargin": true,
           "gridcolor": "white",
           "linecolor": "white",
           "ticks": "",
           "title": {
            "standoff": 15
           },
           "zerolinecolor": "white",
           "zerolinewidth": 2
          }
         }
        },
        "width": 700,
        "xaxis": {
         "title": {
          "text": "Epoch"
         }
        },
        "yaxis": {
         "title": {
          "text": "MSE"
         }
        }
       }
      },
      "text/html": [
       "<div>                            <div id=\"12a2bf1e-d1ea-4e66-ab84-f49d8b008371\" class=\"plotly-graph-div\" style=\"height:500px; width:700px;\"></div>            <script type=\"text/javascript\">                require([\"plotly\"], function(Plotly) {                    window.PLOTLYENV=window.PLOTLYENV || {};                                    if (document.getElementById(\"12a2bf1e-d1ea-4e66-ab84-f49d8b008371\")) {                    Plotly.newPlot(                        \"12a2bf1e-d1ea-4e66-ab84-f49d8b008371\",                        [{\"name\":\"Train\",\"y\":[0.7026668366203798,0.25286749295595423,0.21192169249326248,0.1819537273291223,0.1646520624242926,0.16365453211025105,0.1514769655614812,0.13816508117623816,0.13101158477997074,0.1271371911838012,0.12242926741188546,0.1174508486102414,0.11335031842232207,0.11005471269727614,0.10608303357010304,0.1031182157216154,0.09785202091702545,0.09599556872174878,0.09274427756648129,0.090969312736639,0.08957795004093495,0.08787078511363537,0.08375129317062532,0.0807327891212127,0.0800087512871161,0.07861896504570404,0.07485321990475305,0.07530335266150953,0.0727332586071892,0.07237830334557777,0.06932254740457895,0.06809791993401318,0.06551652597995906,0.06620051421178444,0.0636881165301172,0.06391897418239591,0.06205436781208555,0.06114951166819808,0.060591771435413534,0.05869161755211276,0.05913902075108352,0.055988693728703846,0.056844945549881745,0.05594438228028713,0.054551037211154806,0.05459493118404627,0.05301249793188633,0.052061445326950666,0.051748540990912015,0.05070700740130064,0.04955716999371292,0.04929050403273029,0.048930523995113016,0.04848315155551395,0.048743800618927274,0.047591200316905516,0.047417083993395524,0.04542564530854123,0.04574571840081061,0.04407634321611633,0.044044876834157504,0.043613279345630765,0.044953706928463844,0.042576102352719206,0.04164247362086201,0.042043811639962944,0.04230622718355771,0.04116379116898436,0.040957948051067235,0.041479161142466595,0.03987756410685899,0.03903989239653409,0.03972183222105339,0.03951206477717181,0.03918855824816382,0.0387885749407474,0.03823194631724373,0.037660360947954,0.037522610847603194,0.036581268553294376,0.037045953688620285,0.036451480941544115,0.036491615956493785,0.03609532253701566,0.03568137569666531,0.03509062569282969,0.03563068947170584,0.03544423186729603,0.03432588093992534,0.03514873757189209,0.03416889735011993,0.03561988413629694,0.034405363128245575,0.03381002006406573,0.03306610640458394,0.03361648008050343,0.032710485128127416,0.033325904940950724,0.031952417020783566,0.03170391415375504],\"type\":\"scattergl\"},{\"name\":\"Valid\",\"y\":[0.2792307909219938,0.23099212651898876,0.20246889124667436,0.20646273288918118,0.18289308819037148,0.17160991905856368,0.17514274683890246,0.1691097176346835,0.1623451686453675,0.17084074189588935,0.1616883638634274,0.160380387604011,0.15820358958684702,0.17203115506617975,0.16900739574594809,0.17168091700315746,0.16723756664725165,0.16840484035592654,0.1654701247574433,0.16122599849639563,0.16591212494097182,0.16633941847929712,0.16818615175744153,0.1672891922052569,0.1710647923038549,0.1675281321952778,0.18247805367718134,0.17729447258637765,0.2281539513476413,0.17382740963710067,0.182165470958478,0.1835602886585644,0.18031128664570809,0.188900339070998,0.18028948575055212,0.18499331538375807,0.19068792566126896,0.18544277889452407,0.18709358022485512,0.18179562349467454,0.18347689940295916,0.18427027393073228,0.19957542028010208,0.1894518917907286,0.1925899668862475,0.1904571587889597,0.18904159648413013,0.19495531846681027,0.19280311991485297,0.19351712561844878,0.18933570777530656,0.19410515948284043,0.19343537902128147,0.20275619255490235,0.19862559282084832,0.1974739442148685,0.20692315250973553,0.2014155488836323,0.20611475366340454,0.20479319746028646,0.20043886780603468,0.19430891842913392,0.2047300243088912,0.20332308535454943,0.203817904424162,0.19825769546332456,0.2066206323274783,0.20546237946143212,0.213741407819222,0.20592790558922933,0.21325153301919075,0.20087610137769438,0.2115833516219274,0.20957237603897222,0.20779801583105104,0.2118983053172925,0.22178182091329876,0.2129281604948773,0.20869776960758438,0.21092870317111856,0.2204295233128921,0.22020419680828582,0.21831225282896838,0.22724900444875062,0.21864512541319367,0.22120406883039048,0.22130147763651306,0.21527040081435672,0.21398953178631006,0.22541806778611784,0.21981091718954357,0.2225881810331778,0.2341271061774549,0.22357862328237696,0.2277498302429937,0.22961459528262826,0.21704455956331625,0.22427184404318842,0.22596540889173272,0.22597613453549206],\"type\":\"scattergl\"}],                        {\"template\":{\"data\":{\"bar\":[{\"error_x\":{\"color\":\"#2a3f5f\"},\"error_y\":{\"color\":\"#2a3f5f\"},\"marker\":{\"line\":{\"color\":\"#E5ECF6\",\"width\":0.5},\"pattern\":{\"fillmode\":\"overlay\",\"size\":10,\"solidity\":0.2}},\"type\":\"bar\"}],\"barpolar\":[{\"marker\":{\"line\":{\"color\":\"#E5ECF6\",\"width\":0.5},\"pattern\":{\"fillmode\":\"overlay\",\"size\":10,\"solidity\":0.2}},\"type\":\"barpolar\"}],\"carpet\":[{\"aaxis\":{\"endlinecolor\":\"#2a3f5f\",\"gridcolor\":\"white\",\"linecolor\":\"white\",\"minorgridcolor\":\"white\",\"startlinecolor\":\"#2a3f5f\"},\"baxis\":{\"endlinecolor\":\"#2a3f5f\",\"gridcolor\":\"white\",\"linecolor\":\"white\",\"minorgridcolor\":\"white\",\"startlinecolor\":\"#2a3f5f\"},\"type\":\"carpet\"}],\"choropleth\":[{\"colorbar\":{\"outlinewidth\":0,\"ticks\":\"\"},\"type\":\"choropleth\"}],\"contour\":[{\"colorbar\":{\"outlinewidth\":0,\"ticks\":\"\"},\"colorscale\":[[0.0,\"#0d0887\"],[0.1111111111111111,\"#46039f\"],[0.2222222222222222,\"#7201a8\"],[0.3333333333333333,\"#9c179e\"],[0.4444444444444444,\"#bd3786\"],[0.5555555555555556,\"#d8576b\"],[0.6666666666666666,\"#ed7953\"],[0.7777777777777778,\"#fb9f3a\"],[0.8888888888888888,\"#fdca26\"],[1.0,\"#f0f921\"]],\"type\":\"contour\"}],\"contourcarpet\":[{\"colorbar\":{\"outlinewidth\":0,\"ticks\":\"\"},\"type\":\"contourcarpet\"}],\"heatmap\":[{\"colorbar\":{\"outlinewidth\":0,\"ticks\":\"\"},\"colorscale\":[[0.0,\"#0d0887\"],[0.1111111111111111,\"#46039f\"],[0.2222222222222222,\"#7201a8\"],[0.3333333333333333,\"#9c179e\"],[0.4444444444444444,\"#bd3786\"],[0.5555555555555556,\"#d8576b\"],[0.6666666666666666,\"#ed7953\"],[0.7777777777777778,\"#fb9f3a\"],[0.8888888888888888,\"#fdca26\"],[1.0,\"#f0f921\"]],\"type\":\"heatmap\"}],\"heatmapgl\":[{\"colorbar\":{\"outlinewidth\":0,\"ticks\":\"\"},\"colorscale\":[[0.0,\"#0d0887\"],[0.1111111111111111,\"#46039f\"],[0.2222222222222222,\"#7201a8\"],[0.3333333333333333,\"#9c179e\"],[0.4444444444444444,\"#bd3786\"],[0.5555555555555556,\"#d8576b\"],[0.6666666666666666,\"#ed7953\"],[0.7777777777777778,\"#fb9f3a\"],[0.8888888888888888,\"#fdca26\"],[1.0,\"#f0f921\"]],\"type\":\"heatmapgl\"}],\"histogram\":[{\"marker\":{\"pattern\":{\"fillmode\":\"overlay\",\"size\":10,\"solidity\":0.2}},\"type\":\"histogram\"}],\"histogram2d\":[{\"colorbar\":{\"outlinewidth\":0,\"ticks\":\"\"},\"colorscale\":[[0.0,\"#0d0887\"],[0.1111111111111111,\"#46039f\"],[0.2222222222222222,\"#7201a8\"],[0.3333333333333333,\"#9c179e\"],[0.4444444444444444,\"#bd3786\"],[0.5555555555555556,\"#d8576b\"],[0.6666666666666666,\"#ed7953\"],[0.7777777777777778,\"#fb9f3a\"],[0.8888888888888888,\"#fdca26\"],[1.0,\"#f0f921\"]],\"type\":\"histogram2d\"}],\"histogram2dcontour\":[{\"colorbar\":{\"outlinewidth\":0,\"ticks\":\"\"},\"colorscale\":[[0.0,\"#0d0887\"],[0.1111111111111111,\"#46039f\"],[0.2222222222222222,\"#7201a8\"],[0.3333333333333333,\"#9c179e\"],[0.4444444444444444,\"#bd3786\"],[0.5555555555555556,\"#d8576b\"],[0.6666666666666666,\"#ed7953\"],[0.7777777777777778,\"#fb9f3a\"],[0.8888888888888888,\"#fdca26\"],[1.0,\"#f0f921\"]],\"type\":\"histogram2dcontour\"}],\"mesh3d\":[{\"colorbar\":{\"outlinewidth\":0,\"ticks\":\"\"},\"type\":\"mesh3d\"}],\"parcoords\":[{\"line\":{\"colorbar\":{\"outlinewidth\":0,\"ticks\":\"\"}},\"type\":\"parcoords\"}],\"pie\":[{\"automargin\":true,\"type\":\"pie\"}],\"scatter\":[{\"marker\":{\"colorbar\":{\"outlinewidth\":0,\"ticks\":\"\"}},\"type\":\"scatter\"}],\"scatter3d\":[{\"line\":{\"colorbar\":{\"outlinewidth\":0,\"ticks\":\"\"}},\"marker\":{\"colorbar\":{\"outlinewidth\":0,\"ticks\":\"\"}},\"type\":\"scatter3d\"}],\"scattercarpet\":[{\"marker\":{\"colorbar\":{\"outlinewidth\":0,\"ticks\":\"\"}},\"type\":\"scattercarpet\"}],\"scattergeo\":[{\"marker\":{\"colorbar\":{\"outlinewidth\":0,\"ticks\":\"\"}},\"type\":\"scattergeo\"}],\"scattergl\":[{\"marker\":{\"colorbar\":{\"outlinewidth\":0,\"ticks\":\"\"}},\"type\":\"scattergl\"}],\"scattermapbox\":[{\"marker\":{\"colorbar\":{\"outlinewidth\":0,\"ticks\":\"\"}},\"type\":\"scattermapbox\"}],\"scatterpolar\":[{\"marker\":{\"colorbar\":{\"outlinewidth\":0,\"ticks\":\"\"}},\"type\":\"scatterpolar\"}],\"scatterpolargl\":[{\"marker\":{\"colorbar\":{\"outlinewidth\":0,\"ticks\":\"\"}},\"type\":\"scatterpolargl\"}],\"scatterternary\":[{\"marker\":{\"colorbar\":{\"outlinewidth\":0,\"ticks\":\"\"}},\"type\":\"scatterternary\"}],\"surface\":[{\"colorbar\":{\"outlinewidth\":0,\"ticks\":\"\"},\"colorscale\":[[0.0,\"#0d0887\"],[0.1111111111111111,\"#46039f\"],[0.2222222222222222,\"#7201a8\"],[0.3333333333333333,\"#9c179e\"],[0.4444444444444444,\"#bd3786\"],[0.5555555555555556,\"#d8576b\"],[0.6666666666666666,\"#ed7953\"],[0.7777777777777778,\"#fb9f3a\"],[0.8888888888888888,\"#fdca26\"],[1.0,\"#f0f921\"]],\"type\":\"surface\"}],\"table\":[{\"cells\":{\"fill\":{\"color\":\"#EBF0F8\"},\"line\":{\"color\":\"white\"}},\"header\":{\"fill\":{\"color\":\"#C8D4E3\"},\"line\":{\"color\":\"white\"}},\"type\":\"table\"}]},\"layout\":{\"annotationdefaults\":{\"arrowcolor\":\"#2a3f5f\",\"arrowhead\":0,\"arrowwidth\":1},\"autotypenumbers\":\"strict\",\"coloraxis\":{\"colorbar\":{\"outlinewidth\":0,\"ticks\":\"\"}},\"colorscale\":{\"diverging\":[[0,\"#8e0152\"],[0.1,\"#c51b7d\"],[0.2,\"#de77ae\"],[0.3,\"#f1b6da\"],[0.4,\"#fde0ef\"],[0.5,\"#f7f7f7\"],[0.6,\"#e6f5d0\"],[0.7,\"#b8e186\"],[0.8,\"#7fbc41\"],[0.9,\"#4d9221\"],[1,\"#276419\"]],\"sequential\":[[0.0,\"#0d0887\"],[0.1111111111111111,\"#46039f\"],[0.2222222222222222,\"#7201a8\"],[0.3333333333333333,\"#9c179e\"],[0.4444444444444444,\"#bd3786\"],[0.5555555555555556,\"#d8576b\"],[0.6666666666666666,\"#ed7953\"],[0.7777777777777778,\"#fb9f3a\"],[0.8888888888888888,\"#fdca26\"],[1.0,\"#f0f921\"]],\"sequentialminus\":[[0.0,\"#0d0887\"],[0.1111111111111111,\"#46039f\"],[0.2222222222222222,\"#7201a8\"],[0.3333333333333333,\"#9c179e\"],[0.4444444444444444,\"#bd3786\"],[0.5555555555555556,\"#d8576b\"],[0.6666666666666666,\"#ed7953\"],[0.7777777777777778,\"#fb9f3a\"],[0.8888888888888888,\"#fdca26\"],[1.0,\"#f0f921\"]]},\"colorway\":[\"#636efa\",\"#EF553B\",\"#00cc96\",\"#ab63fa\",\"#FFA15A\",\"#19d3f3\",\"#FF6692\",\"#B6E880\",\"#FF97FF\",\"#FECB52\"],\"font\":{\"color\":\"#2a3f5f\"},\"geo\":{\"bgcolor\":\"white\",\"lakecolor\":\"white\",\"landcolor\":\"#E5ECF6\",\"showlakes\":true,\"showland\":true,\"subunitcolor\":\"white\"},\"hoverlabel\":{\"align\":\"left\"},\"hovermode\":\"closest\",\"mapbox\":{\"style\":\"light\"},\"paper_bgcolor\":\"white\",\"plot_bgcolor\":\"#E5ECF6\",\"polar\":{\"angularaxis\":{\"gridcolor\":\"white\",\"linecolor\":\"white\",\"ticks\":\"\"},\"bgcolor\":\"#E5ECF6\",\"radialaxis\":{\"gridcolor\":\"white\",\"linecolor\":\"white\",\"ticks\":\"\"}},\"scene\":{\"xaxis\":{\"backgroundcolor\":\"#E5ECF6\",\"gridcolor\":\"white\",\"gridwidth\":2,\"linecolor\":\"white\",\"showbackground\":true,\"ticks\":\"\",\"zerolinecolor\":\"white\"},\"yaxis\":{\"backgroundcolor\":\"#E5ECF6\",\"gridcolor\":\"white\",\"gridwidth\":2,\"linecolor\":\"white\",\"showbackground\":true,\"ticks\":\"\",\"zerolinecolor\":\"white\"},\"zaxis\":{\"backgroundcolor\":\"#E5ECF6\",\"gridcolor\":\"white\",\"gridwidth\":2,\"linecolor\":\"white\",\"showbackground\":true,\"ticks\":\"\",\"zerolinecolor\":\"white\"}},\"shapedefaults\":{\"line\":{\"color\":\"#2a3f5f\"}},\"ternary\":{\"aaxis\":{\"gridcolor\":\"white\",\"linecolor\":\"white\",\"ticks\":\"\"},\"baxis\":{\"gridcolor\":\"white\",\"linecolor\":\"white\",\"ticks\":\"\"},\"bgcolor\":\"#E5ECF6\",\"caxis\":{\"gridcolor\":\"white\",\"linecolor\":\"white\",\"ticks\":\"\"}},\"title\":{\"x\":0.05},\"xaxis\":{\"automargin\":true,\"gridcolor\":\"white\",\"linecolor\":\"white\",\"ticks\":\"\",\"title\":{\"standoff\":15},\"zerolinecolor\":\"white\",\"zerolinewidth\":2},\"yaxis\":{\"automargin\":true,\"gridcolor\":\"white\",\"linecolor\":\"white\",\"ticks\":\"\",\"title\":{\"standoff\":15},\"zerolinecolor\":\"white\",\"zerolinewidth\":2}}},\"height\":500,\"width\":700,\"xaxis\":{\"title\":{\"text\":\"Epoch\"}},\"yaxis\":{\"title\":{\"text\":\"MSE\"}}},                        {\"responsive\": true}                    ).then(function(){\n",
       "                            \n",
       "var gd = document.getElementById('12a2bf1e-d1ea-4e66-ab84-f49d8b008371');\n",
       "var x = new MutationObserver(function (mutations, observer) {{\n",
       "        var display = window.getComputedStyle(gd).display;\n",
       "        if (!display || display === 'none') {{\n",
       "            console.log([gd, 'removed!']);\n",
       "            Plotly.purge(gd);\n",
       "            observer.disconnect();\n",
       "        }}\n",
       "}});\n",
       "\n",
       "// Listen for the removal of the full notebook cells\n",
       "var notebookContainer = gd.closest('#notebook-container');\n",
       "if (notebookContainer) {{\n",
       "    x.observe(notebookContainer, {childList: true});\n",
       "}}\n",
       "\n",
       "// Listen for the clearing of the current output cell\n",
       "var outputEl = gd.closest('.output');\n",
       "if (outputEl) {{\n",
       "    x.observe(outputEl, {childList: true});\n",
       "}}\n",
       "\n",
       "                        })                };                });            </script>        </div>"
      ]
     },
     "metadata": {},
     "output_type": "display_data"
    }
   ],
   "source": [
    "import plotly.graph_objects as go\n",
    "\n",
    "fig = go.Figure()\n",
    "fig.add_trace(go.Scattergl(y=history_dp.history['loss'],\n",
    "                    name='Train'))\n",
    "fig.add_trace(go.Scattergl(y=history_dp.history['val_loss'],\n",
    "                    name='Valid'))\n",
    "fig.update_layout(height=500, width=700,\n",
    "                  xaxis_title='Epoch',\n",
    "                  yaxis_title='MSE')\n",
    "fig.show()"
   ]
  },
  {
   "cell_type": "code",
   "execution_count": 192,
   "id": "11cf2b18",
   "metadata": {},
   "outputs": [
    {
     "name": "stdout",
     "output_type": "stream",
     "text": [
      "Train R-sq:  0.9426\n",
      "Train MSE:  0.0317\n",
      "Val R-sq:  0.5905\n",
      "Val MSE:  0.226\n",
      "Test R-sq:  0.5948\n",
      "Test MSE:  0.2358\n"
     ]
    }
   ],
   "source": [
    "mse_nn, rmse_nn, r2_nn = model_dp.evaluate(X_test_trfm, y_test)\n",
    "print('Train R-sq: ', round(history_dp.history['r2'][epoch-1],4))\n",
    "print('Train MSE: ', round(history_dp.history['loss'][epoch-1],4))\n",
    "print('Val R-sq: ', round(history_dp.history['val_r2'][epoch-1],4))\n",
    "print('Val MSE: ', round(history_dp.history['val_loss'][epoch-1],4))\n",
    "print('Test R-sq: ', round(r2_nn,4))\n",
    "print('Test MSE: ', round(mse_nn,4))"
   ]
  },
  {
   "cell_type": "code",
   "execution_count": 208,
   "id": "c7203e19",
   "metadata": {},
   "outputs": [
    {
     "name": "stdout",
     "output_type": "stream",
     "text": [
      "Model: \"sequential_12\"\n",
      "_________________________________________________________________\n",
      " Layer (type)                Output Shape              Param #   \n",
      "=================================================================\n",
      " dense_27 (Dense)            (None, 120)               14520     \n",
      "                                                                 \n",
      " dense_28 (Dense)            (None, 60)                7260      \n",
      "                                                                 \n",
      " dense_29 (Dense)            (None, 1)                 61        \n",
      "                                                                 \n",
      "=================================================================\n",
      "Total params: 21,841\n",
      "Trainable params: 21,841\n",
      "Non-trainable params: 0\n",
      "_________________________________________________________________\n",
      "Train on 25087 samples, validate on 1321 samples\n",
      "Epoch 1/15\n",
      "25087/25087 [==============================] - 1s 37us/sample - loss: 0.6813 - rmse: 0.5583 - r2: -0.1691 - val_loss: 0.2768 - val_rmse: 0.3923 - val_r2: 0.3398\n",
      "Epoch 2/15\n",
      "25087/25087 [==============================] - 1s 29us/sample - loss: 0.2498 - rmse: 0.3707 - r2: 0.5637 - val_loss: 0.2135 - val_rmse: 0.3432 - val_r2: 0.6249\n",
      "Epoch 3/15\n",
      "25087/25087 [==============================] - 1s 30us/sample - loss: 0.2025 - rmse: 0.3321 - r2: 0.6513 - val_loss: 0.2089 - val_rmse: 0.3390 - val_r2: 0.6149\n",
      "Epoch 4/15\n",
      "25087/25087 [==============================] - 1s 31us/sample - loss: 0.1813 - rmse: 0.3126 - r2: 0.6871 - val_loss: 0.1941 - val_rmse: 0.3287 - val_r2: 0.6326\n",
      "Epoch 5/15\n",
      "25087/25087 [==============================] - 1s 30us/sample - loss: 0.1697 - rmse: 0.3005 - r2: 0.7065 - val_loss: 0.1785 - val_rmse: 0.3144 - val_r2: 0.6691\n",
      "Epoch 6/15\n",
      "25087/25087 [==============================] - 1s 30us/sample - loss: 0.1528 - rmse: 0.2878 - r2: 0.7374 - val_loss: 0.1790 - val_rmse: 0.3182 - val_r2: 0.6552\n",
      "Epoch 7/15\n",
      "25087/25087 [==============================] - 1s 30us/sample - loss: 0.1444 - rmse: 0.2805 - r2: 0.7495 - val_loss: 0.1750 - val_rmse: 0.3147 - val_r2: 0.6759\n",
      "Epoch 8/15\n",
      "25087/25087 [==============================] - 1s 29us/sample - loss: 0.1371 - rmse: 0.2737 - r2: 0.7638 - val_loss: 0.1774 - val_rmse: 0.3152 - val_r2: 0.6757\n",
      "Epoch 9/15\n",
      "25087/25087 [==============================] - 1s 31us/sample - loss: 0.1332 - rmse: 0.2693 - r2: 0.7683 - val_loss: 0.1671 - val_rmse: 0.3030 - val_r2: 0.6903\n",
      "Epoch 10/15\n",
      "25087/25087 [==============================] - 1s 30us/sample - loss: 0.1282 - rmse: 0.2636 - r2: 0.7774 - val_loss: 0.1691 - val_rmse: 0.3076 - val_r2: 0.6606\n",
      "Epoch 11/15\n",
      "25087/25087 [==============================] - 1s 32us/sample - loss: 0.1207 - rmse: 0.2556 - r2: 0.7925 - val_loss: 0.1744 - val_rmse: 0.3110 - val_r2: 0.6817\n",
      "Epoch 12/15\n",
      "25087/25087 [==============================] - 1s 30us/sample - loss: 0.1172 - rmse: 0.2529 - r2: 0.7957 - val_loss: 0.1658 - val_rmse: 0.3019 - val_r2: 0.6879\n",
      "Epoch 13/15\n",
      "25087/25087 [==============================] - 1s 31us/sample - loss: 0.1120 - rmse: 0.2478 - r2: 0.8058 - val_loss: 0.1642 - val_rmse: 0.2999 - val_r2: 0.6801\n",
      "Epoch 14/15\n",
      "25087/25087 [==============================] - 1s 31us/sample - loss: 0.1076 - rmse: 0.2431 - r2: 0.8131 - val_loss: 0.1711 - val_rmse: 0.3108 - val_r2: 0.6760\n",
      "Epoch 15/15\n",
      "25087/25087 [==============================] - 1s 30us/sample - loss: 0.1026 - rmse: 0.2384 - r2: 0.8221 - val_loss: 0.1655 - val_rmse: 0.2991 - val_r2: 0.6918\n"
     ]
    }
   ],
   "source": [
    "best_model_dp = deep_model()\n",
    "best_model_dp.summary()\n",
    "epoch=15\n",
    "best_history_dp = best_model_dp.fit(X_train_trfm, y_train, epochs=epoch, validation_split=0.05)"
   ]
  },
  {
   "cell_type": "code",
   "execution_count": 209,
   "id": "3af8538f",
   "metadata": {},
   "outputs": [
    {
     "name": "stdout",
     "output_type": "stream",
     "text": [
      "Train R-sq:  0.8221\n",
      "Train MSE:  0.1026\n",
      "Val R-sq:  0.6918\n",
      "Val MSE:  0.1655\n",
      "Test R-sq:  0.6779\n",
      "Test MSE:  0.1905\n"
     ]
    }
   ],
   "source": [
    "mse_nn, rmse_nn, r2_nn = best_model_dp.evaluate(X_test_trfm, y_test)\n",
    "print('Train R-sq: ', round(best_history_dp.history['r2'][epoch-1],4))\n",
    "print('Train MSE: ', round(best_history_dp.history['loss'][epoch-1],4))\n",
    "print('Val R-sq: ', round(best_history_dp.history['val_r2'][epoch-1],4))\n",
    "print('Val MSE: ', round(best_history_dp.history['val_loss'][epoch-1],4))\n",
    "print('Test R-sq: ', round(r2_nn,4))\n",
    "print('Test MSE: ', round(mse_nn,4))"
   ]
  },
  {
   "cell_type": "markdown",
   "id": "a2d373ea",
   "metadata": {},
   "source": [
    "### Wide NN"
   ]
  },
  {
   "cell_type": "code",
   "execution_count": 199,
   "id": "a31bc1c1",
   "metadata": {},
   "outputs": [
    {
     "name": "stdout",
     "output_type": "stream",
     "text": [
      "Model: \"sequential_10\"\n",
      "_________________________________________________________________\n",
      " Layer (type)                Output Shape              Param #   \n",
      "=================================================================\n",
      " dense_23 (Dense)            (None, 200)               24200     \n",
      "                                                                 \n",
      " dense_24 (Dense)            (None, 1)                 201       \n",
      "                                                                 \n",
      "=================================================================\n",
      "Total params: 24,401\n",
      "Trainable params: 24,401\n",
      "Non-trainable params: 0\n",
      "_________________________________________________________________\n"
     ]
    }
   ],
   "source": [
    "def wide_model():\n",
    "    # create model\n",
    "    model = Sequential()\n",
    "    model.add(Dense(200, input_dim=120, kernel_initializer='he_normal', activation='relu'))\n",
    "    model.add(Dense(1, kernel_initializer='he_normal'))\n",
    "    # Compile model\n",
    "    model.compile(loss='mean_squared_error', optimizer='adam', metrics=[rmse,r2])\n",
    "    return model\n",
    "model_wd = wide_model()\n",
    "model_wd.summary()"
   ]
  },
  {
   "cell_type": "code",
   "execution_count": 200,
   "id": "2d06116f",
   "metadata": {},
   "outputs": [
    {
     "name": "stdout",
     "output_type": "stream",
     "text": [
      "Train on 25087 samples, validate on 1321 samples\n",
      "Epoch 1/100\n",
      "25087/25087 [==============================] - 1s 30us/sample - loss: 0.6233 - rmse: 0.5405 - r2: -0.0983 - val_loss: 0.2661 - val_rmse: 0.3823 - val_r2: 0.5109\n",
      "Epoch 2/100\n",
      "25087/25087 [==============================] - 1s 28us/sample - loss: 0.2352 - rmse: 0.3596 - r2: 0.5918 - val_loss: 0.2047 - val_rmse: 0.3339 - val_r2: 0.5693\n",
      "Epoch 3/100\n",
      "25087/25087 [==============================] - 1s 29us/sample - loss: 0.1897 - rmse: 0.3213 - r2: 0.6707 - val_loss: 0.1985 - val_rmse: 0.3324 - val_r2: 0.6060\n",
      "Epoch 4/100\n",
      "25087/25087 [==============================] - 1s 28us/sample - loss: 0.1742 - rmse: 0.3056 - r2: 0.7011 - val_loss: 0.1939 - val_rmse: 0.3304 - val_r2: 0.6428\n",
      "Epoch 5/100\n",
      "25087/25087 [==============================] - 1s 28us/sample - loss: 0.1578 - rmse: 0.2927 - r2: 0.7278 - val_loss: 0.1693 - val_rmse: 0.3054 - val_r2: 0.6884\n",
      "Epoch 6/100\n",
      "25087/25087 [==============================] - 1s 27us/sample - loss: 0.1495 - rmse: 0.2846 - r2: 0.7415 - val_loss: 0.1619 - val_rmse: 0.3002 - val_r2: 0.6974\n",
      "Epoch 7/100\n",
      "25087/25087 [==============================] - 1s 27us/sample - loss: 0.1427 - rmse: 0.2774 - r2: 0.7531 - val_loss: 0.1638 - val_rmse: 0.2981 - val_r2: 0.6878\n",
      "Epoch 8/100\n",
      "25087/25087 [==============================] - 1s 28us/sample - loss: 0.1370 - rmse: 0.2709 - r2: 0.7606 - val_loss: 0.1549 - val_rmse: 0.2888 - val_r2: 0.7037\n",
      "Epoch 9/100\n",
      "25087/25087 [==============================] - 1s 27us/sample - loss: 0.1317 - rmse: 0.2667 - r2: 0.7723 - val_loss: 0.1647 - val_rmse: 0.3016 - val_r2: 0.6902\n",
      "Epoch 10/100\n",
      "25087/25087 [==============================] - 1s 28us/sample - loss: 0.1233 - rmse: 0.2583 - r2: 0.7863 - val_loss: 0.1624 - val_rmse: 0.2913 - val_r2: 0.7014\n",
      "Epoch 11/100\n",
      "25087/25087 [==============================] - 1s 27us/sample - loss: 0.1212 - rmse: 0.2561 - r2: 0.7904 - val_loss: 0.1610 - val_rmse: 0.2925 - val_r2: 0.7045\n",
      "Epoch 12/100\n",
      "25087/25087 [==============================] - 1s 27us/sample - loss: 0.1183 - rmse: 0.2530 - r2: 0.7951 - val_loss: 0.1780 - val_rmse: 0.3145 - val_r2: 0.6762\n",
      "Epoch 13/100\n",
      "25087/25087 [==============================] - 1s 28us/sample - loss: 0.1176 - rmse: 0.2514 - r2: 0.7963 - val_loss: 0.1587 - val_rmse: 0.2930 - val_r2: 0.7075\n",
      "Epoch 14/100\n",
      "25087/25087 [==============================] - 1s 28us/sample - loss: 0.1132 - rmse: 0.2470 - r2: 0.8023 - val_loss: 0.1685 - val_rmse: 0.3008 - val_r2: 0.6858\n",
      "Epoch 15/100\n",
      "25087/25087 [==============================] - 1s 29us/sample - loss: 0.1071 - rmse: 0.2419 - r2: 0.8151 - val_loss: 0.1583 - val_rmse: 0.2942 - val_r2: 0.6991\n",
      "Epoch 16/100\n",
      "25087/25087 [==============================] - 1s 28us/sample - loss: 0.1078 - rmse: 0.2422 - r2: 0.8122 - val_loss: 0.1686 - val_rmse: 0.3022 - val_r2: 0.6950\n",
      "Epoch 17/100\n",
      "25087/25087 [==============================] - 1s 28us/sample - loss: 0.1135 - rmse: 0.2444 - r2: 0.8040 - val_loss: 0.1644 - val_rmse: 0.3009 - val_r2: 0.7042\n",
      "Epoch 18/100\n",
      "25087/25087 [==============================] - 1s 27us/sample - loss: 0.1054 - rmse: 0.2403 - r2: 0.8164 - val_loss: 0.1653 - val_rmse: 0.2991 - val_r2: 0.6943\n",
      "Epoch 19/100\n",
      "25087/25087 [==============================] - 1s 29us/sample - loss: 0.1019 - rmse: 0.2358 - r2: 0.8232 - val_loss: 0.1759 - val_rmse: 0.3139 - val_r2: 0.6614\n",
      "Epoch 20/100\n",
      "25087/25087 [==============================] - 1s 29us/sample - loss: 0.0997 - rmse: 0.2344 - r2: 0.8251 - val_loss: 0.1563 - val_rmse: 0.2926 - val_r2: 0.7119\n",
      "Epoch 21/100\n",
      "25087/25087 [==============================] - 1s 28us/sample - loss: 0.0997 - rmse: 0.2331 - r2: 0.8258 - val_loss: 0.1679 - val_rmse: 0.2995 - val_r2: 0.6893\n",
      "Epoch 22/100\n",
      "25087/25087 [==============================] - 1s 27us/sample - loss: 0.0957 - rmse: 0.2298 - r2: 0.8340 - val_loss: 0.1607 - val_rmse: 0.2936 - val_r2: 0.7037\n",
      "Epoch 23/100\n",
      "25087/25087 [==============================] - 1s 26us/sample - loss: 0.0975 - rmse: 0.2300 - r2: 0.8287 - val_loss: 0.1716 - val_rmse: 0.3067 - val_r2: 0.6805\n",
      "Epoch 24/100\n",
      "25087/25087 [==============================] - 1s 26us/sample - loss: 0.0943 - rmse: 0.2277 - r2: 0.8354 - val_loss: 0.1564 - val_rmse: 0.2956 - val_r2: 0.7140\n",
      "Epoch 25/100\n",
      "25087/25087 [==============================] - 1s 25us/sample - loss: 0.0923 - rmse: 0.2253 - r2: 0.8412 - val_loss: 0.1872 - val_rmse: 0.3213 - val_r2: 0.6542\n",
      "Epoch 26/100\n",
      "25087/25087 [==============================] - 1s 26us/sample - loss: 0.0980 - rmse: 0.2287 - r2: 0.8275 - val_loss: 0.1597 - val_rmse: 0.3007 - val_r2: 0.6973\n",
      "Epoch 27/100\n",
      "25087/25087 [==============================] - 1s 26us/sample - loss: 0.0901 - rmse: 0.2215 - r2: 0.8420 - val_loss: 0.1921 - val_rmse: 0.3315 - val_r2: 0.6399\n",
      "Epoch 28/100\n",
      "25087/25087 [==============================] - 1s 26us/sample - loss: 0.0941 - rmse: 0.2236 - r2: 0.8338 - val_loss: 0.1634 - val_rmse: 0.2990 - val_r2: 0.6850\n",
      "Epoch 29/100\n",
      "25087/25087 [==============================] - 1s 26us/sample - loss: 0.0907 - rmse: 0.2215 - r2: 0.8424 - val_loss: 0.1644 - val_rmse: 0.3016 - val_r2: 0.6995\n",
      "Epoch 30/100\n",
      "25087/25087 [==============================] - 1s 26us/sample - loss: 0.0873 - rmse: 0.2183 - r2: 0.8458 - val_loss: 0.1627 - val_rmse: 0.2961 - val_r2: 0.6860\n",
      "Epoch 31/100\n",
      "25087/25087 [==============================] - 1s 26us/sample - loss: 0.0916 - rmse: 0.2186 - r2: 0.8395 - val_loss: 0.1644 - val_rmse: 0.2992 - val_r2: 0.7038\n",
      "Epoch 32/100\n",
      "25087/25087 [==============================] - 1s 26us/sample - loss: 0.0823 - rmse: 0.2123 - r2: 0.8562 - val_loss: 0.1698 - val_rmse: 0.3035 - val_r2: 0.6747\n",
      "Epoch 33/100\n",
      "25087/25087 [==============================] - 1s 28us/sample - loss: 0.0804 - rmse: 0.2111 - r2: 0.8592 - val_loss: 0.1660 - val_rmse: 0.3009 - val_r2: 0.6873\n",
      "Epoch 34/100\n",
      "25087/25087 [==============================] - 1s 27us/sample - loss: 0.0794 - rmse: 0.2100 - r2: 0.8617 - val_loss: 0.1772 - val_rmse: 0.3130 - val_r2: 0.6622\n",
      "Epoch 35/100\n",
      "25087/25087 [==============================] - 1s 26us/sample - loss: 0.0797 - rmse: 0.2100 - r2: 0.8611 - val_loss: 0.1638 - val_rmse: 0.2985 - val_r2: 0.6938\n",
      "Epoch 36/100\n",
      "25087/25087 [==============================] - 1s 26us/sample - loss: 0.0803 - rmse: 0.2117 - r2: 0.8585 - val_loss: 0.1672 - val_rmse: 0.3026 - val_r2: 0.6985\n",
      "Epoch 37/100\n",
      "25087/25087 [==============================] - 1s 26us/sample - loss: 0.0863 - rmse: 0.2148 - r2: 0.8489 - val_loss: 0.1675 - val_rmse: 0.3115 - val_r2: 0.6473\n",
      "Epoch 38/100\n",
      "25087/25087 [==============================] - 1s 27us/sample - loss: 0.0840 - rmse: 0.2111 - r2: 0.8477 - val_loss: 0.1628 - val_rmse: 0.3018 - val_r2: 0.6851\n",
      "Epoch 39/100\n",
      "25087/25087 [==============================] - 1s 27us/sample - loss: 0.0770 - rmse: 0.2066 - r2: 0.8655 - val_loss: 0.1684 - val_rmse: 0.3086 - val_r2: 0.6695\n",
      "Epoch 40/100\n",
      "25087/25087 [==============================] - 1s 26us/sample - loss: 0.0760 - rmse: 0.2049 - r2: 0.8669 - val_loss: 0.1733 - val_rmse: 0.3091 - val_r2: 0.6685\n",
      "Epoch 41/100\n",
      "25087/25087 [==============================] - 1s 26us/sample - loss: 0.0759 - rmse: 0.2060 - r2: 0.8663 - val_loss: 0.1697 - val_rmse: 0.3040 - val_r2: 0.6856\n",
      "Epoch 42/100\n",
      "25087/25087 [==============================] - 1s 26us/sample - loss: 0.0791 - rmse: 0.2093 - r2: 0.8611 - val_loss: 0.1753 - val_rmse: 0.3126 - val_r2: 0.6696\n",
      "Epoch 43/100\n",
      "25087/25087 [==============================] - 1s 26us/sample - loss: 0.0782 - rmse: 0.2058 - r2: 0.8614 - val_loss: 0.1738 - val_rmse: 0.3087 - val_r2: 0.6765\n",
      "Epoch 44/100\n",
      "25087/25087 [==============================] - 1s 26us/sample - loss: 0.0735 - rmse: 0.2020 - r2: 0.8713 - val_loss: 0.1699 - val_rmse: 0.3101 - val_r2: 0.6693\n",
      "Epoch 45/100\n",
      "25087/25087 [==============================] - 1s 26us/sample - loss: 0.0763 - rmse: 0.2043 - r2: 0.8660 - val_loss: 0.1689 - val_rmse: 0.3058 - val_r2: 0.6622\n",
      "Epoch 46/100\n",
      "25087/25087 [==============================] - 1s 27us/sample - loss: 0.0776 - rmse: 0.2051 - r2: 0.8642 - val_loss: 0.1719 - val_rmse: 0.3106 - val_r2: 0.6783\n",
      "Epoch 47/100\n",
      "25087/25087 [==============================] - 1s 26us/sample - loss: 0.0763 - rmse: 0.2027 - r2: 0.8646 - val_loss: 0.1874 - val_rmse: 0.3228 - val_r2: 0.6569\n",
      "Epoch 48/100\n"
     ]
    },
    {
     "name": "stdout",
     "output_type": "stream",
     "text": [
      "25087/25087 [==============================] - 1s 26us/sample - loss: 0.0729 - rmse: 0.2003 - r2: 0.8737 - val_loss: 0.1741 - val_rmse: 0.3138 - val_r2: 0.6636\n",
      "Epoch 49/100\n",
      "25087/25087 [==============================] - 1s 26us/sample - loss: 0.0732 - rmse: 0.2017 - r2: 0.8706 - val_loss: 0.1877 - val_rmse: 0.3272 - val_r2: 0.6351\n",
      "Epoch 50/100\n",
      "25087/25087 [==============================] - 1s 26us/sample - loss: 0.0755 - rmse: 0.2026 - r2: 0.8652 - val_loss: 0.1773 - val_rmse: 0.3147 - val_r2: 0.6700\n",
      "Epoch 51/100\n",
      "25087/25087 [==============================] - 1s 26us/sample - loss: 0.0762 - rmse: 0.2010 - r2: 0.8642 - val_loss: 0.1682 - val_rmse: 0.3039 - val_r2: 0.6876\n",
      "Epoch 52/100\n",
      "25087/25087 [==============================] - 1s 28us/sample - loss: 0.0709 - rmse: 0.1982 - r2: 0.8755 - val_loss: 0.1736 - val_rmse: 0.3126 - val_r2: 0.6655\n",
      "Epoch 53/100\n",
      "25087/25087 [==============================] - 1s 33us/sample - loss: 0.0686 - rmse: 0.1951 - r2: 0.8787 - val_loss: 0.1742 - val_rmse: 0.3127 - val_r2: 0.6741\n",
      "Epoch 54/100\n",
      "25087/25087 [==============================] - 1s 27us/sample - loss: 0.0729 - rmse: 0.1992 - r2: 0.8711 - val_loss: 0.1671 - val_rmse: 0.3045 - val_r2: 0.6937\n",
      "Epoch 55/100\n",
      "25087/25087 [==============================] - 1s 30us/sample - loss: 0.0715 - rmse: 0.1980 - r2: 0.8745 - val_loss: 0.1698 - val_rmse: 0.3043 - val_r2: 0.6908\n",
      "Epoch 56/100\n",
      "25087/25087 [==============================] - 1s 32us/sample - loss: 0.0723 - rmse: 0.1960 - r2: 0.8720 - val_loss: 0.1778 - val_rmse: 0.3144 - val_r2: 0.6736\n",
      "Epoch 57/100\n",
      "25087/25087 [==============================] - 1s 26us/sample - loss: 0.0690 - rmse: 0.1958 - r2: 0.8771 - val_loss: 0.1891 - val_rmse: 0.3232 - val_r2: 0.6569\n",
      "Epoch 58/100\n",
      "25087/25087 [==============================] - 1s 26us/sample - loss: 0.0700 - rmse: 0.1955 - r2: 0.8765 - val_loss: 0.1787 - val_rmse: 0.3198 - val_r2: 0.6619\n",
      "Epoch 59/100\n",
      "25087/25087 [==============================] - 1s 26us/sample - loss: 0.0655 - rmse: 0.1907 - r2: 0.8838 - val_loss: 0.1742 - val_rmse: 0.3123 - val_r2: 0.6740\n",
      "Epoch 60/100\n",
      "25087/25087 [==============================] - 1s 26us/sample - loss: 0.0684 - rmse: 0.1939 - r2: 0.8796 - val_loss: 0.1783 - val_rmse: 0.3174 - val_r2: 0.6550\n",
      "Epoch 61/100\n",
      "25087/25087 [==============================] - 1s 26us/sample - loss: 0.0662 - rmse: 0.1920 - r2: 0.8824 - val_loss: 0.1793 - val_rmse: 0.3168 - val_r2: 0.6584\n",
      "Epoch 62/100\n",
      "25087/25087 [==============================] - 1s 26us/sample - loss: 0.0629 - rmse: 0.1879 - r2: 0.8893 - val_loss: 0.1777 - val_rmse: 0.3149 - val_r2: 0.6514\n",
      "Epoch 63/100\n",
      "25087/25087 [==============================] - 1s 26us/sample - loss: 0.0636 - rmse: 0.1898 - r2: 0.8880 - val_loss: 0.1760 - val_rmse: 0.3115 - val_r2: 0.6673\n",
      "Epoch 64/100\n",
      "25087/25087 [==============================] - 1s 26us/sample - loss: 0.0679 - rmse: 0.1930 - r2: 0.8801 - val_loss: 0.1884 - val_rmse: 0.3236 - val_r2: 0.6482\n",
      "Epoch 65/100\n",
      "25087/25087 [==============================] - 1s 27us/sample - loss: 0.0698 - rmse: 0.1933 - r2: 0.8782 - val_loss: 0.1789 - val_rmse: 0.3134 - val_r2: 0.6682\n",
      "Epoch 66/100\n",
      "25087/25087 [==============================] - 1s 26us/sample - loss: 0.0688 - rmse: 0.1909 - r2: 0.8801 - val_loss: 0.1747 - val_rmse: 0.3086 - val_r2: 0.6766\n",
      "Epoch 67/100\n",
      "25087/25087 [==============================] - 1s 26us/sample - loss: 0.0661 - rmse: 0.1901 - r2: 0.8830 - val_loss: 0.1773 - val_rmse: 0.3136 - val_r2: 0.6641\n",
      "Epoch 68/100\n",
      "25087/25087 [==============================] - 1s 26us/sample - loss: 0.0676 - rmse: 0.1907 - r2: 0.8821 - val_loss: 0.1805 - val_rmse: 0.3168 - val_r2: 0.6318\n",
      "Epoch 69/100\n",
      "25087/25087 [==============================] - 1s 26us/sample - loss: 0.0639 - rmse: 0.1869 - r2: 0.8858 - val_loss: 0.1721 - val_rmse: 0.3113 - val_r2: 0.6824\n",
      "Epoch 70/100\n",
      "25087/25087 [==============================] - 1s 26us/sample - loss: 0.0697 - rmse: 0.1909 - r2: 0.8718 - val_loss: 0.1873 - val_rmse: 0.3240 - val_r2: 0.6540\n",
      "Epoch 71/100\n",
      "25087/25087 [==============================] - 1s 26us/sample - loss: 0.0630 - rmse: 0.1868 - r2: 0.8903 - val_loss: 0.1797 - val_rmse: 0.3170 - val_r2: 0.6665\n",
      "Epoch 72/100\n",
      "25087/25087 [==============================] - 1s 26us/sample - loss: 0.0633 - rmse: 0.1873 - r2: 0.8865 - val_loss: 0.1790 - val_rmse: 0.3152 - val_r2: 0.6697\n",
      "Epoch 73/100\n",
      "25087/25087 [==============================] - 1s 26us/sample - loss: 0.0623 - rmse: 0.1877 - r2: 0.8890 - val_loss: 0.1794 - val_rmse: 0.3174 - val_r2: 0.6655\n",
      "Epoch 74/100\n",
      "25087/25087 [==============================] - 1s 26us/sample - loss: 0.0593 - rmse: 0.1830 - r2: 0.8963 - val_loss: 0.2345 - val_rmse: 0.3685 - val_r2: 0.5420\n",
      "Epoch 75/100\n",
      "25087/25087 [==============================] - 1s 26us/sample - loss: 0.0631 - rmse: 0.1877 - r2: 0.8881 - val_loss: 0.1909 - val_rmse: 0.3269 - val_r2: 0.6401\n",
      "Epoch 76/100\n",
      "25087/25087 [==============================] - 1s 26us/sample - loss: 0.0656 - rmse: 0.1875 - r2: 0.8841 - val_loss: 0.1890 - val_rmse: 0.3246 - val_r2: 0.6327\n",
      "Epoch 77/100\n",
      "25087/25087 [==============================] - 1s 27us/sample - loss: 0.0615 - rmse: 0.1849 - r2: 0.8912 - val_loss: 0.1868 - val_rmse: 0.3243 - val_r2: 0.6511\n",
      "Epoch 78/100\n",
      "25087/25087 [==============================] - 1s 26us/sample - loss: 0.0639 - rmse: 0.1855 - r2: 0.8893 - val_loss: 0.1793 - val_rmse: 0.3151 - val_r2: 0.6602\n",
      "Epoch 79/100\n",
      "25087/25087 [==============================] - 1s 26us/sample - loss: 0.0605 - rmse: 0.1840 - r2: 0.8916 - val_loss: 0.1876 - val_rmse: 0.3234 - val_r2: 0.6441\n",
      "Epoch 80/100\n",
      "25087/25087 [==============================] - 1s 26us/sample - loss: 0.0591 - rmse: 0.1813 - r2: 0.8953 - val_loss: 0.2065 - val_rmse: 0.3439 - val_r2: 0.6144\n",
      "Epoch 81/100\n",
      "25087/25087 [==============================] - 1s 26us/sample - loss: 0.0712 - rmse: 0.1896 - r2: 0.8697 - val_loss: 0.1876 - val_rmse: 0.3240 - val_r2: 0.6387\n",
      "Epoch 82/100\n",
      "25087/25087 [==============================] - 1s 26us/sample - loss: 0.0613 - rmse: 0.1826 - r2: 0.8904 - val_loss: 0.1802 - val_rmse: 0.3156 - val_r2: 0.6560\n",
      "Epoch 83/100\n",
      "25087/25087 [==============================] - 1s 27us/sample - loss: 0.0548 - rmse: 0.1758 - r2: 0.9030 - val_loss: 0.1867 - val_rmse: 0.3225 - val_r2: 0.6403\n",
      "Epoch 84/100\n",
      "25087/25087 [==============================] - 1s 26us/sample - loss: 0.0557 - rmse: 0.1781 - r2: 0.9008 - val_loss: 0.1927 - val_rmse: 0.3222 - val_r2: 0.6394\n",
      "Epoch 85/100\n",
      "25087/25087 [==============================] - 1s 26us/sample - loss: 0.0574 - rmse: 0.1790 - r2: 0.8972 - val_loss: 0.2002 - val_rmse: 0.3373 - val_r2: 0.6271\n",
      "Epoch 86/100\n",
      "25087/25087 [==============================] - 1s 26us/sample - loss: 0.0614 - rmse: 0.1846 - r2: 0.8917 - val_loss: 0.1948 - val_rmse: 0.3285 - val_r2: 0.6300\n",
      "Epoch 87/100\n",
      "25087/25087 [==============================] - 1s 26us/sample - loss: 0.0631 - rmse: 0.1847 - r2: 0.8888 - val_loss: 0.1925 - val_rmse: 0.3269 - val_r2: 0.6573\n",
      "Epoch 88/100\n",
      "25087/25087 [==============================] - 1s 26us/sample - loss: 0.0618 - rmse: 0.1817 - r2: 0.8902 - val_loss: 0.1848 - val_rmse: 0.3172 - val_r2: 0.6356\n",
      "Epoch 89/100\n",
      "25087/25087 [==============================] - 1s 27us/sample - loss: 0.0560 - rmse: 0.1764 - r2: 0.9023 - val_loss: 0.1957 - val_rmse: 0.3299 - val_r2: 0.6407\n",
      "Epoch 90/100\n",
      "25087/25087 [==============================] - 1s 26us/sample - loss: 0.0563 - rmse: 0.1768 - r2: 0.8997 - val_loss: 0.1837 - val_rmse: 0.3233 - val_r2: 0.6469\n",
      "Epoch 91/100\n",
      "25087/25087 [==============================] - 1s 26us/sample - loss: 0.0579 - rmse: 0.1802 - r2: 0.8972 - val_loss: 0.1959 - val_rmse: 0.3335 - val_r2: 0.6213\n",
      "Epoch 92/100\n",
      "25087/25087 [==============================] - 1s 26us/sample - loss: 0.0633 - rmse: 0.1857 - r2: 0.8887 - val_loss: 0.1793 - val_rmse: 0.3121 - val_r2: 0.6609\n",
      "Epoch 93/100\n",
      "25087/25087 [==============================] - 1s 27us/sample - loss: 0.0589 - rmse: 0.1786 - r2: 0.8928 - val_loss: 0.1895 - val_rmse: 0.3220 - val_r2: 0.6495\n",
      "Epoch 94/100\n",
      "25087/25087 [==============================] - 1s 28us/sample - loss: 0.0512 - rmse: 0.1703 - r2: 0.9092 - val_loss: 0.2205 - val_rmse: 0.3572 - val_r2: 0.5753\n",
      "Epoch 95/100\n"
     ]
    },
    {
     "name": "stdout",
     "output_type": "stream",
     "text": [
      "25087/25087 [==============================] - 1s 26us/sample - loss: 0.0600 - rmse: 0.1826 - r2: 0.8926 - val_loss: 0.1908 - val_rmse: 0.3244 - val_r2: 0.6452\n",
      "Epoch 96/100\n",
      "25087/25087 [==============================] - 1s 26us/sample - loss: 0.0560 - rmse: 0.1770 - r2: 0.9022 - val_loss: 0.1868 - val_rmse: 0.3215 - val_r2: 0.6526\n",
      "Epoch 97/100\n",
      "25087/25087 [==============================] - 1s 26us/sample - loss: 0.0651 - rmse: 0.1825 - r2: 0.8796 - val_loss: 0.1816 - val_rmse: 0.3175 - val_r2: 0.6579\n",
      "Epoch 98/100\n",
      "25087/25087 [==============================] - 1s 26us/sample - loss: 0.0561 - rmse: 0.1768 - r2: 0.9006 - val_loss: 0.1960 - val_rmse: 0.3269 - val_r2: 0.6111\n",
      "Epoch 99/100\n",
      "25087/25087 [==============================] - 1s 26us/sample - loss: 0.0532 - rmse: 0.1734 - r2: 0.9062 - val_loss: 0.1867 - val_rmse: 0.3239 - val_r2: 0.6466\n",
      "Epoch 100/100\n",
      "25087/25087 [==============================] - 1s 26us/sample - loss: 0.0541 - rmse: 0.1746 - r2: 0.9033 - val_loss: 0.1953 - val_rmse: 0.3266 - val_r2: 0.6288\n"
     ]
    }
   ],
   "source": [
    "epoch=100\n",
    "history_wd = model_wd.fit(X_train_trfm, y_train, epochs=epoch, validation_split=0.05)"
   ]
  },
  {
   "cell_type": "code",
   "execution_count": 201,
   "id": "1d216f1c",
   "metadata": {},
   "outputs": [
    {
     "data": {
      "application/vnd.plotly.v1+json": {
       "config": {
        "plotlyServerURL": "https://plot.ly"
       },
       "data": [
        {
         "name": "Train",
         "type": "scattergl",
         "y": [
          0.6233364995422723,
          0.23516075716937873,
          0.18970883543788258,
          0.17415035083161148,
          0.15781191421145768,
          0.14952406197027227,
          0.1426891643895065,
          0.13699344397850424,
          0.13165768370190903,
          0.12332357855099169,
          0.12116915970956381,
          0.11832535545155569,
          0.11763415713500695,
          0.11317900024607196,
          0.10710578072625615,
          0.10775391418949692,
          0.11345331885365191,
          0.10541907166987545,
          0.10187228480300864,
          0.09967540530901825,
          0.09965411701740111,
          0.09573591572629805,
          0.09748444494418199,
          0.09430670650058823,
          0.09234014280770315,
          0.0979878292721389,
          0.0900572296192634,
          0.09406336477951392,
          0.09072822453494601,
          0.08727215434140471,
          0.09156748815238246,
          0.08227480474718257,
          0.08037074471932978,
          0.07940250756601032,
          0.07973358548345184,
          0.08030996238447136,
          0.08634146190290268,
          0.08403077189553566,
          0.07704275147753657,
          0.07599312257001321,
          0.07589889813203997,
          0.07907057591395926,
          0.07820813092113363,
          0.0735119511536871,
          0.07633818189441675,
          0.07763330311705141,
          0.07629698270100047,
          0.07292131066123937,
          0.0732385555987066,
          0.0755328638459438,
          0.07615663584462956,
          0.07094679697967898,
          0.06860096951047553,
          0.07293555684521032,
          0.07152169076655676,
          0.07225009142908806,
          0.06902069743753415,
          0.07003742720430302,
          0.06551844326720369,
          0.06837446340384434,
          0.06615049828084614,
          0.06286537005214982,
          0.06358326789387131,
          0.0679131325625509,
          0.0698270472556955,
          0.06880230311956669,
          0.06612986042028207,
          0.06755400804385728,
          0.06389434528915942,
          0.06965353039535124,
          0.06295518176533989,
          0.06328265984256555,
          0.06229426083783295,
          0.05930827537845319,
          0.06309981597778654,
          0.06558697705431112,
          0.06152834843109274,
          0.06386599645158757,
          0.0605006210545165,
          0.059148989075521366,
          0.07120930587040326,
          0.061340620563277055,
          0.05476256833000163,
          0.05570059554657988,
          0.05736766003009003,
          0.061426491225527735,
          0.06308560721511174,
          0.06177268635050812,
          0.055994295037597716,
          0.056318799484071654,
          0.0578513004965452,
          0.06328822024573164,
          0.058885447183863654,
          0.051178684044949636,
          0.05997475373573958,
          0.05597773039507168,
          0.06505199002285632,
          0.05608854435350714,
          0.053209255732616416,
          0.05405771976114317
         ]
        },
        {
         "name": "Valid",
         "type": "scattergl",
         "y": [
          0.2661320197704071,
          0.20468067927716088,
          0.1985064659106921,
          0.19393528097737114,
          0.1693283262846598,
          0.16192370492409433,
          0.16384233081999555,
          0.15485676574851417,
          0.16468616271000933,
          0.16235916235855724,
          0.16102187645697033,
          0.17803168294557922,
          0.15869207323770645,
          0.16854761389734887,
          0.15830463354872717,
          0.1686105123022395,
          0.16438896095635402,
          0.16527086187275317,
          0.17588147296542747,
          0.15626709231998231,
          0.16786944738714016,
          0.16065384185873677,
          0.1715521229421163,
          0.1564364533005656,
          0.18722064691587978,
          0.1596780014728435,
          0.19210502420700834,
          0.163370510279839,
          0.16436309942145136,
          0.16273012673827755,
          0.1644217358968368,
          0.1697890404090116,
          0.166002612482026,
          0.1771622884970646,
          0.16380854808273504,
          0.16718646048664776,
          0.1674573872686786,
          0.16284527052630987,
          0.16844148227746156,
          0.17333652991674597,
          0.16974578674298899,
          0.1753177884106019,
          0.17376300434241415,
          0.16990068296561361,
          0.16888296432697258,
          0.1718790574812871,
          0.18742530734858487,
          0.1741344394510574,
          0.18765919310950943,
          0.1772862872155348,
          0.16819245263900295,
          0.17357867021031853,
          0.17419528063840709,
          0.16711305135989352,
          0.1697638419024607,
          0.17783551674440537,
          0.18913213843247098,
          0.1787124190375175,
          0.1741826993488706,
          0.178279002842174,
          0.17928865281223438,
          0.17767467786875935,
          0.17601880243923698,
          0.18841359985993722,
          0.1788686680735105,
          0.17474943500951237,
          0.17729098748565172,
          0.18051023448533313,
          0.17209677322063366,
          0.18730198269897477,
          0.17971101152815663,
          0.1790243994718154,
          0.17939912325319785,
          0.23447732628519835,
          0.19087825512498008,
          0.18900292892965018,
          0.18677204352134472,
          0.17932100685413455,
          0.18758591902382352,
          0.2065383681433838,
          0.1875708184284662,
          0.18018086593003096,
          0.18674591655175313,
          0.19267006984923843,
          0.20020622660227566,
          0.19475923128916764,
          0.19254006687368433,
          0.1847829846700514,
          0.1956525941313802,
          0.18373157791257536,
          0.19588525339476004,
          0.1793146658178354,
          0.18949207322873643,
          0.22052517220840412,
          0.1907665315285088,
          0.1867763899227239,
          0.18158380272124952,
          0.19597246405935756,
          0.1867299332120579,
          0.19527613452828174
         ]
        }
       ],
       "layout": {
        "height": 500,
        "template": {
         "data": {
          "bar": [
           {
            "error_x": {
             "color": "#2a3f5f"
            },
            "error_y": {
             "color": "#2a3f5f"
            },
            "marker": {
             "line": {
              "color": "#E5ECF6",
              "width": 0.5
             },
             "pattern": {
              "fillmode": "overlay",
              "size": 10,
              "solidity": 0.2
             }
            },
            "type": "bar"
           }
          ],
          "barpolar": [
           {
            "marker": {
             "line": {
              "color": "#E5ECF6",
              "width": 0.5
             },
             "pattern": {
              "fillmode": "overlay",
              "size": 10,
              "solidity": 0.2
             }
            },
            "type": "barpolar"
           }
          ],
          "carpet": [
           {
            "aaxis": {
             "endlinecolor": "#2a3f5f",
             "gridcolor": "white",
             "linecolor": "white",
             "minorgridcolor": "white",
             "startlinecolor": "#2a3f5f"
            },
            "baxis": {
             "endlinecolor": "#2a3f5f",
             "gridcolor": "white",
             "linecolor": "white",
             "minorgridcolor": "white",
             "startlinecolor": "#2a3f5f"
            },
            "type": "carpet"
           }
          ],
          "choropleth": [
           {
            "colorbar": {
             "outlinewidth": 0,
             "ticks": ""
            },
            "type": "choropleth"
           }
          ],
          "contour": [
           {
            "colorbar": {
             "outlinewidth": 0,
             "ticks": ""
            },
            "colorscale": [
             [
              0,
              "#0d0887"
             ],
             [
              0.1111111111111111,
              "#46039f"
             ],
             [
              0.2222222222222222,
              "#7201a8"
             ],
             [
              0.3333333333333333,
              "#9c179e"
             ],
             [
              0.4444444444444444,
              "#bd3786"
             ],
             [
              0.5555555555555556,
              "#d8576b"
             ],
             [
              0.6666666666666666,
              "#ed7953"
             ],
             [
              0.7777777777777778,
              "#fb9f3a"
             ],
             [
              0.8888888888888888,
              "#fdca26"
             ],
             [
              1,
              "#f0f921"
             ]
            ],
            "type": "contour"
           }
          ],
          "contourcarpet": [
           {
            "colorbar": {
             "outlinewidth": 0,
             "ticks": ""
            },
            "type": "contourcarpet"
           }
          ],
          "heatmap": [
           {
            "colorbar": {
             "outlinewidth": 0,
             "ticks": ""
            },
            "colorscale": [
             [
              0,
              "#0d0887"
             ],
             [
              0.1111111111111111,
              "#46039f"
             ],
             [
              0.2222222222222222,
              "#7201a8"
             ],
             [
              0.3333333333333333,
              "#9c179e"
             ],
             [
              0.4444444444444444,
              "#bd3786"
             ],
             [
              0.5555555555555556,
              "#d8576b"
             ],
             [
              0.6666666666666666,
              "#ed7953"
             ],
             [
              0.7777777777777778,
              "#fb9f3a"
             ],
             [
              0.8888888888888888,
              "#fdca26"
             ],
             [
              1,
              "#f0f921"
             ]
            ],
            "type": "heatmap"
           }
          ],
          "heatmapgl": [
           {
            "colorbar": {
             "outlinewidth": 0,
             "ticks": ""
            },
            "colorscale": [
             [
              0,
              "#0d0887"
             ],
             [
              0.1111111111111111,
              "#46039f"
             ],
             [
              0.2222222222222222,
              "#7201a8"
             ],
             [
              0.3333333333333333,
              "#9c179e"
             ],
             [
              0.4444444444444444,
              "#bd3786"
             ],
             [
              0.5555555555555556,
              "#d8576b"
             ],
             [
              0.6666666666666666,
              "#ed7953"
             ],
             [
              0.7777777777777778,
              "#fb9f3a"
             ],
             [
              0.8888888888888888,
              "#fdca26"
             ],
             [
              1,
              "#f0f921"
             ]
            ],
            "type": "heatmapgl"
           }
          ],
          "histogram": [
           {
            "marker": {
             "pattern": {
              "fillmode": "overlay",
              "size": 10,
              "solidity": 0.2
             }
            },
            "type": "histogram"
           }
          ],
          "histogram2d": [
           {
            "colorbar": {
             "outlinewidth": 0,
             "ticks": ""
            },
            "colorscale": [
             [
              0,
              "#0d0887"
             ],
             [
              0.1111111111111111,
              "#46039f"
             ],
             [
              0.2222222222222222,
              "#7201a8"
             ],
             [
              0.3333333333333333,
              "#9c179e"
             ],
             [
              0.4444444444444444,
              "#bd3786"
             ],
             [
              0.5555555555555556,
              "#d8576b"
             ],
             [
              0.6666666666666666,
              "#ed7953"
             ],
             [
              0.7777777777777778,
              "#fb9f3a"
             ],
             [
              0.8888888888888888,
              "#fdca26"
             ],
             [
              1,
              "#f0f921"
             ]
            ],
            "type": "histogram2d"
           }
          ],
          "histogram2dcontour": [
           {
            "colorbar": {
             "outlinewidth": 0,
             "ticks": ""
            },
            "colorscale": [
             [
              0,
              "#0d0887"
             ],
             [
              0.1111111111111111,
              "#46039f"
             ],
             [
              0.2222222222222222,
              "#7201a8"
             ],
             [
              0.3333333333333333,
              "#9c179e"
             ],
             [
              0.4444444444444444,
              "#bd3786"
             ],
             [
              0.5555555555555556,
              "#d8576b"
             ],
             [
              0.6666666666666666,
              "#ed7953"
             ],
             [
              0.7777777777777778,
              "#fb9f3a"
             ],
             [
              0.8888888888888888,
              "#fdca26"
             ],
             [
              1,
              "#f0f921"
             ]
            ],
            "type": "histogram2dcontour"
           }
          ],
          "mesh3d": [
           {
            "colorbar": {
             "outlinewidth": 0,
             "ticks": ""
            },
            "type": "mesh3d"
           }
          ],
          "parcoords": [
           {
            "line": {
             "colorbar": {
              "outlinewidth": 0,
              "ticks": ""
             }
            },
            "type": "parcoords"
           }
          ],
          "pie": [
           {
            "automargin": true,
            "type": "pie"
           }
          ],
          "scatter": [
           {
            "marker": {
             "colorbar": {
              "outlinewidth": 0,
              "ticks": ""
             }
            },
            "type": "scatter"
           }
          ],
          "scatter3d": [
           {
            "line": {
             "colorbar": {
              "outlinewidth": 0,
              "ticks": ""
             }
            },
            "marker": {
             "colorbar": {
              "outlinewidth": 0,
              "ticks": ""
             }
            },
            "type": "scatter3d"
           }
          ],
          "scattercarpet": [
           {
            "marker": {
             "colorbar": {
              "outlinewidth": 0,
              "ticks": ""
             }
            },
            "type": "scattercarpet"
           }
          ],
          "scattergeo": [
           {
            "marker": {
             "colorbar": {
              "outlinewidth": 0,
              "ticks": ""
             }
            },
            "type": "scattergeo"
           }
          ],
          "scattergl": [
           {
            "marker": {
             "colorbar": {
              "outlinewidth": 0,
              "ticks": ""
             }
            },
            "type": "scattergl"
           }
          ],
          "scattermapbox": [
           {
            "marker": {
             "colorbar": {
              "outlinewidth": 0,
              "ticks": ""
             }
            },
            "type": "scattermapbox"
           }
          ],
          "scatterpolar": [
           {
            "marker": {
             "colorbar": {
              "outlinewidth": 0,
              "ticks": ""
             }
            },
            "type": "scatterpolar"
           }
          ],
          "scatterpolargl": [
           {
            "marker": {
             "colorbar": {
              "outlinewidth": 0,
              "ticks": ""
             }
            },
            "type": "scatterpolargl"
           }
          ],
          "scatterternary": [
           {
            "marker": {
             "colorbar": {
              "outlinewidth": 0,
              "ticks": ""
             }
            },
            "type": "scatterternary"
           }
          ],
          "surface": [
           {
            "colorbar": {
             "outlinewidth": 0,
             "ticks": ""
            },
            "colorscale": [
             [
              0,
              "#0d0887"
             ],
             [
              0.1111111111111111,
              "#46039f"
             ],
             [
              0.2222222222222222,
              "#7201a8"
             ],
             [
              0.3333333333333333,
              "#9c179e"
             ],
             [
              0.4444444444444444,
              "#bd3786"
             ],
             [
              0.5555555555555556,
              "#d8576b"
             ],
             [
              0.6666666666666666,
              "#ed7953"
             ],
             [
              0.7777777777777778,
              "#fb9f3a"
             ],
             [
              0.8888888888888888,
              "#fdca26"
             ],
             [
              1,
              "#f0f921"
             ]
            ],
            "type": "surface"
           }
          ],
          "table": [
           {
            "cells": {
             "fill": {
              "color": "#EBF0F8"
             },
             "line": {
              "color": "white"
             }
            },
            "header": {
             "fill": {
              "color": "#C8D4E3"
             },
             "line": {
              "color": "white"
             }
            },
            "type": "table"
           }
          ]
         },
         "layout": {
          "annotationdefaults": {
           "arrowcolor": "#2a3f5f",
           "arrowhead": 0,
           "arrowwidth": 1
          },
          "autotypenumbers": "strict",
          "coloraxis": {
           "colorbar": {
            "outlinewidth": 0,
            "ticks": ""
           }
          },
          "colorscale": {
           "diverging": [
            [
             0,
             "#8e0152"
            ],
            [
             0.1,
             "#c51b7d"
            ],
            [
             0.2,
             "#de77ae"
            ],
            [
             0.3,
             "#f1b6da"
            ],
            [
             0.4,
             "#fde0ef"
            ],
            [
             0.5,
             "#f7f7f7"
            ],
            [
             0.6,
             "#e6f5d0"
            ],
            [
             0.7,
             "#b8e186"
            ],
            [
             0.8,
             "#7fbc41"
            ],
            [
             0.9,
             "#4d9221"
            ],
            [
             1,
             "#276419"
            ]
           ],
           "sequential": [
            [
             0,
             "#0d0887"
            ],
            [
             0.1111111111111111,
             "#46039f"
            ],
            [
             0.2222222222222222,
             "#7201a8"
            ],
            [
             0.3333333333333333,
             "#9c179e"
            ],
            [
             0.4444444444444444,
             "#bd3786"
            ],
            [
             0.5555555555555556,
             "#d8576b"
            ],
            [
             0.6666666666666666,
             "#ed7953"
            ],
            [
             0.7777777777777778,
             "#fb9f3a"
            ],
            [
             0.8888888888888888,
             "#fdca26"
            ],
            [
             1,
             "#f0f921"
            ]
           ],
           "sequentialminus": [
            [
             0,
             "#0d0887"
            ],
            [
             0.1111111111111111,
             "#46039f"
            ],
            [
             0.2222222222222222,
             "#7201a8"
            ],
            [
             0.3333333333333333,
             "#9c179e"
            ],
            [
             0.4444444444444444,
             "#bd3786"
            ],
            [
             0.5555555555555556,
             "#d8576b"
            ],
            [
             0.6666666666666666,
             "#ed7953"
            ],
            [
             0.7777777777777778,
             "#fb9f3a"
            ],
            [
             0.8888888888888888,
             "#fdca26"
            ],
            [
             1,
             "#f0f921"
            ]
           ]
          },
          "colorway": [
           "#636efa",
           "#EF553B",
           "#00cc96",
           "#ab63fa",
           "#FFA15A",
           "#19d3f3",
           "#FF6692",
           "#B6E880",
           "#FF97FF",
           "#FECB52"
          ],
          "font": {
           "color": "#2a3f5f"
          },
          "geo": {
           "bgcolor": "white",
           "lakecolor": "white",
           "landcolor": "#E5ECF6",
           "showlakes": true,
           "showland": true,
           "subunitcolor": "white"
          },
          "hoverlabel": {
           "align": "left"
          },
          "hovermode": "closest",
          "mapbox": {
           "style": "light"
          },
          "paper_bgcolor": "white",
          "plot_bgcolor": "#E5ECF6",
          "polar": {
           "angularaxis": {
            "gridcolor": "white",
            "linecolor": "white",
            "ticks": ""
           },
           "bgcolor": "#E5ECF6",
           "radialaxis": {
            "gridcolor": "white",
            "linecolor": "white",
            "ticks": ""
           }
          },
          "scene": {
           "xaxis": {
            "backgroundcolor": "#E5ECF6",
            "gridcolor": "white",
            "gridwidth": 2,
            "linecolor": "white",
            "showbackground": true,
            "ticks": "",
            "zerolinecolor": "white"
           },
           "yaxis": {
            "backgroundcolor": "#E5ECF6",
            "gridcolor": "white",
            "gridwidth": 2,
            "linecolor": "white",
            "showbackground": true,
            "ticks": "",
            "zerolinecolor": "white"
           },
           "zaxis": {
            "backgroundcolor": "#E5ECF6",
            "gridcolor": "white",
            "gridwidth": 2,
            "linecolor": "white",
            "showbackground": true,
            "ticks": "",
            "zerolinecolor": "white"
           }
          },
          "shapedefaults": {
           "line": {
            "color": "#2a3f5f"
           }
          },
          "ternary": {
           "aaxis": {
            "gridcolor": "white",
            "linecolor": "white",
            "ticks": ""
           },
           "baxis": {
            "gridcolor": "white",
            "linecolor": "white",
            "ticks": ""
           },
           "bgcolor": "#E5ECF6",
           "caxis": {
            "gridcolor": "white",
            "linecolor": "white",
            "ticks": ""
           }
          },
          "title": {
           "x": 0.05
          },
          "xaxis": {
           "automargin": true,
           "gridcolor": "white",
           "linecolor": "white",
           "ticks": "",
           "title": {
            "standoff": 15
           },
           "zerolinecolor": "white",
           "zerolinewidth": 2
          },
          "yaxis": {
           "automargin": true,
           "gridcolor": "white",
           "linecolor": "white",
           "ticks": "",
           "title": {
            "standoff": 15
           },
           "zerolinecolor": "white",
           "zerolinewidth": 2
          }
         }
        },
        "width": 700,
        "xaxis": {
         "title": {
          "text": "Epoch"
         }
        },
        "yaxis": {
         "title": {
          "text": "MSE"
         }
        }
       }
      },
      "text/html": [
       "<div>                            <div id=\"c861cc53-aba0-4d07-bd7d-03359985c5c4\" class=\"plotly-graph-div\" style=\"height:500px; width:700px;\"></div>            <script type=\"text/javascript\">                require([\"plotly\"], function(Plotly) {                    window.PLOTLYENV=window.PLOTLYENV || {};                                    if (document.getElementById(\"c861cc53-aba0-4d07-bd7d-03359985c5c4\")) {                    Plotly.newPlot(                        \"c861cc53-aba0-4d07-bd7d-03359985c5c4\",                        [{\"name\":\"Train\",\"y\":[0.6233364995422723,0.23516075716937873,0.18970883543788258,0.17415035083161148,0.15781191421145768,0.14952406197027227,0.1426891643895065,0.13699344397850424,0.13165768370190903,0.12332357855099169,0.12116915970956381,0.11832535545155569,0.11763415713500695,0.11317900024607196,0.10710578072625615,0.10775391418949692,0.11345331885365191,0.10541907166987545,0.10187228480300864,0.09967540530901825,0.09965411701740111,0.09573591572629805,0.09748444494418199,0.09430670650058823,0.09234014280770315,0.0979878292721389,0.0900572296192634,0.09406336477951392,0.09072822453494601,0.08727215434140471,0.09156748815238246,0.08227480474718257,0.08037074471932978,0.07940250756601032,0.07973358548345184,0.08030996238447136,0.08634146190290268,0.08403077189553566,0.07704275147753657,0.07599312257001321,0.07589889813203997,0.07907057591395926,0.07820813092113363,0.0735119511536871,0.07633818189441675,0.07763330311705141,0.07629698270100047,0.07292131066123937,0.0732385555987066,0.0755328638459438,0.07615663584462956,0.07094679697967898,0.06860096951047553,0.07293555684521032,0.07152169076655676,0.07225009142908806,0.06902069743753415,0.07003742720430302,0.06551844326720369,0.06837446340384434,0.06615049828084614,0.06286537005214982,0.06358326789387131,0.0679131325625509,0.0698270472556955,0.06880230311956669,0.06612986042028207,0.06755400804385728,0.06389434528915942,0.06965353039535124,0.06295518176533989,0.06328265984256555,0.06229426083783295,0.05930827537845319,0.06309981597778654,0.06558697705431112,0.06152834843109274,0.06386599645158757,0.0605006210545165,0.059148989075521366,0.07120930587040326,0.061340620563277055,0.05476256833000163,0.05570059554657988,0.05736766003009003,0.061426491225527735,0.06308560721511174,0.06177268635050812,0.055994295037597716,0.056318799484071654,0.0578513004965452,0.06328822024573164,0.058885447183863654,0.051178684044949636,0.05997475373573958,0.05597773039507168,0.06505199002285632,0.05608854435350714,0.053209255732616416,0.05405771976114317],\"type\":\"scattergl\"},{\"name\":\"Valid\",\"y\":[0.2661320197704071,0.20468067927716088,0.1985064659106921,0.19393528097737114,0.1693283262846598,0.16192370492409433,0.16384233081999555,0.15485676574851417,0.16468616271000933,0.16235916235855724,0.16102187645697033,0.17803168294557922,0.15869207323770645,0.16854761389734887,0.15830463354872717,0.1686105123022395,0.16438896095635402,0.16527086187275317,0.17588147296542747,0.15626709231998231,0.16786944738714016,0.16065384185873677,0.1715521229421163,0.1564364533005656,0.18722064691587978,0.1596780014728435,0.19210502420700834,0.163370510279839,0.16436309942145136,0.16273012673827755,0.1644217358968368,0.1697890404090116,0.166002612482026,0.1771622884970646,0.16380854808273504,0.16718646048664776,0.1674573872686786,0.16284527052630987,0.16844148227746156,0.17333652991674597,0.16974578674298899,0.1753177884106019,0.17376300434241415,0.16990068296561361,0.16888296432697258,0.1718790574812871,0.18742530734858487,0.1741344394510574,0.18765919310950943,0.1772862872155348,0.16819245263900295,0.17357867021031853,0.17419528063840709,0.16711305135989352,0.1697638419024607,0.17783551674440537,0.18913213843247098,0.1787124190375175,0.1741826993488706,0.178279002842174,0.17928865281223438,0.17767467786875935,0.17601880243923698,0.18841359985993722,0.1788686680735105,0.17474943500951237,0.17729098748565172,0.18051023448533313,0.17209677322063366,0.18730198269897477,0.17971101152815663,0.1790243994718154,0.17939912325319785,0.23447732628519835,0.19087825512498008,0.18900292892965018,0.18677204352134472,0.17932100685413455,0.18758591902382352,0.2065383681433838,0.1875708184284662,0.18018086593003096,0.18674591655175313,0.19267006984923843,0.20020622660227566,0.19475923128916764,0.19254006687368433,0.1847829846700514,0.1956525941313802,0.18373157791257536,0.19588525339476004,0.1793146658178354,0.18949207322873643,0.22052517220840412,0.1907665315285088,0.1867763899227239,0.18158380272124952,0.19597246405935756,0.1867299332120579,0.19527613452828174],\"type\":\"scattergl\"}],                        {\"template\":{\"data\":{\"bar\":[{\"error_x\":{\"color\":\"#2a3f5f\"},\"error_y\":{\"color\":\"#2a3f5f\"},\"marker\":{\"line\":{\"color\":\"#E5ECF6\",\"width\":0.5},\"pattern\":{\"fillmode\":\"overlay\",\"size\":10,\"solidity\":0.2}},\"type\":\"bar\"}],\"barpolar\":[{\"marker\":{\"line\":{\"color\":\"#E5ECF6\",\"width\":0.5},\"pattern\":{\"fillmode\":\"overlay\",\"size\":10,\"solidity\":0.2}},\"type\":\"barpolar\"}],\"carpet\":[{\"aaxis\":{\"endlinecolor\":\"#2a3f5f\",\"gridcolor\":\"white\",\"linecolor\":\"white\",\"minorgridcolor\":\"white\",\"startlinecolor\":\"#2a3f5f\"},\"baxis\":{\"endlinecolor\":\"#2a3f5f\",\"gridcolor\":\"white\",\"linecolor\":\"white\",\"minorgridcolor\":\"white\",\"startlinecolor\":\"#2a3f5f\"},\"type\":\"carpet\"}],\"choropleth\":[{\"colorbar\":{\"outlinewidth\":0,\"ticks\":\"\"},\"type\":\"choropleth\"}],\"contour\":[{\"colorbar\":{\"outlinewidth\":0,\"ticks\":\"\"},\"colorscale\":[[0.0,\"#0d0887\"],[0.1111111111111111,\"#46039f\"],[0.2222222222222222,\"#7201a8\"],[0.3333333333333333,\"#9c179e\"],[0.4444444444444444,\"#bd3786\"],[0.5555555555555556,\"#d8576b\"],[0.6666666666666666,\"#ed7953\"],[0.7777777777777778,\"#fb9f3a\"],[0.8888888888888888,\"#fdca26\"],[1.0,\"#f0f921\"]],\"type\":\"contour\"}],\"contourcarpet\":[{\"colorbar\":{\"outlinewidth\":0,\"ticks\":\"\"},\"type\":\"contourcarpet\"}],\"heatmap\":[{\"colorbar\":{\"outlinewidth\":0,\"ticks\":\"\"},\"colorscale\":[[0.0,\"#0d0887\"],[0.1111111111111111,\"#46039f\"],[0.2222222222222222,\"#7201a8\"],[0.3333333333333333,\"#9c179e\"],[0.4444444444444444,\"#bd3786\"],[0.5555555555555556,\"#d8576b\"],[0.6666666666666666,\"#ed7953\"],[0.7777777777777778,\"#fb9f3a\"],[0.8888888888888888,\"#fdca26\"],[1.0,\"#f0f921\"]],\"type\":\"heatmap\"}],\"heatmapgl\":[{\"colorbar\":{\"outlinewidth\":0,\"ticks\":\"\"},\"colorscale\":[[0.0,\"#0d0887\"],[0.1111111111111111,\"#46039f\"],[0.2222222222222222,\"#7201a8\"],[0.3333333333333333,\"#9c179e\"],[0.4444444444444444,\"#bd3786\"],[0.5555555555555556,\"#d8576b\"],[0.6666666666666666,\"#ed7953\"],[0.7777777777777778,\"#fb9f3a\"],[0.8888888888888888,\"#fdca26\"],[1.0,\"#f0f921\"]],\"type\":\"heatmapgl\"}],\"histogram\":[{\"marker\":{\"pattern\":{\"fillmode\":\"overlay\",\"size\":10,\"solidity\":0.2}},\"type\":\"histogram\"}],\"histogram2d\":[{\"colorbar\":{\"outlinewidth\":0,\"ticks\":\"\"},\"colorscale\":[[0.0,\"#0d0887\"],[0.1111111111111111,\"#46039f\"],[0.2222222222222222,\"#7201a8\"],[0.3333333333333333,\"#9c179e\"],[0.4444444444444444,\"#bd3786\"],[0.5555555555555556,\"#d8576b\"],[0.6666666666666666,\"#ed7953\"],[0.7777777777777778,\"#fb9f3a\"],[0.8888888888888888,\"#fdca26\"],[1.0,\"#f0f921\"]],\"type\":\"histogram2d\"}],\"histogram2dcontour\":[{\"colorbar\":{\"outlinewidth\":0,\"ticks\":\"\"},\"colorscale\":[[0.0,\"#0d0887\"],[0.1111111111111111,\"#46039f\"],[0.2222222222222222,\"#7201a8\"],[0.3333333333333333,\"#9c179e\"],[0.4444444444444444,\"#bd3786\"],[0.5555555555555556,\"#d8576b\"],[0.6666666666666666,\"#ed7953\"],[0.7777777777777778,\"#fb9f3a\"],[0.8888888888888888,\"#fdca26\"],[1.0,\"#f0f921\"]],\"type\":\"histogram2dcontour\"}],\"mesh3d\":[{\"colorbar\":{\"outlinewidth\":0,\"ticks\":\"\"},\"type\":\"mesh3d\"}],\"parcoords\":[{\"line\":{\"colorbar\":{\"outlinewidth\":0,\"ticks\":\"\"}},\"type\":\"parcoords\"}],\"pie\":[{\"automargin\":true,\"type\":\"pie\"}],\"scatter\":[{\"marker\":{\"colorbar\":{\"outlinewidth\":0,\"ticks\":\"\"}},\"type\":\"scatter\"}],\"scatter3d\":[{\"line\":{\"colorbar\":{\"outlinewidth\":0,\"ticks\":\"\"}},\"marker\":{\"colorbar\":{\"outlinewidth\":0,\"ticks\":\"\"}},\"type\":\"scatter3d\"}],\"scattercarpet\":[{\"marker\":{\"colorbar\":{\"outlinewidth\":0,\"ticks\":\"\"}},\"type\":\"scattercarpet\"}],\"scattergeo\":[{\"marker\":{\"colorbar\":{\"outlinewidth\":0,\"ticks\":\"\"}},\"type\":\"scattergeo\"}],\"scattergl\":[{\"marker\":{\"colorbar\":{\"outlinewidth\":0,\"ticks\":\"\"}},\"type\":\"scattergl\"}],\"scattermapbox\":[{\"marker\":{\"colorbar\":{\"outlinewidth\":0,\"ticks\":\"\"}},\"type\":\"scattermapbox\"}],\"scatterpolar\":[{\"marker\":{\"colorbar\":{\"outlinewidth\":0,\"ticks\":\"\"}},\"type\":\"scatterpolar\"}],\"scatterpolargl\":[{\"marker\":{\"colorbar\":{\"outlinewidth\":0,\"ticks\":\"\"}},\"type\":\"scatterpolargl\"}],\"scatterternary\":[{\"marker\":{\"colorbar\":{\"outlinewidth\":0,\"ticks\":\"\"}},\"type\":\"scatterternary\"}],\"surface\":[{\"colorbar\":{\"outlinewidth\":0,\"ticks\":\"\"},\"colorscale\":[[0.0,\"#0d0887\"],[0.1111111111111111,\"#46039f\"],[0.2222222222222222,\"#7201a8\"],[0.3333333333333333,\"#9c179e\"],[0.4444444444444444,\"#bd3786\"],[0.5555555555555556,\"#d8576b\"],[0.6666666666666666,\"#ed7953\"],[0.7777777777777778,\"#fb9f3a\"],[0.8888888888888888,\"#fdca26\"],[1.0,\"#f0f921\"]],\"type\":\"surface\"}],\"table\":[{\"cells\":{\"fill\":{\"color\":\"#EBF0F8\"},\"line\":{\"color\":\"white\"}},\"header\":{\"fill\":{\"color\":\"#C8D4E3\"},\"line\":{\"color\":\"white\"}},\"type\":\"table\"}]},\"layout\":{\"annotationdefaults\":{\"arrowcolor\":\"#2a3f5f\",\"arrowhead\":0,\"arrowwidth\":1},\"autotypenumbers\":\"strict\",\"coloraxis\":{\"colorbar\":{\"outlinewidth\":0,\"ticks\":\"\"}},\"colorscale\":{\"diverging\":[[0,\"#8e0152\"],[0.1,\"#c51b7d\"],[0.2,\"#de77ae\"],[0.3,\"#f1b6da\"],[0.4,\"#fde0ef\"],[0.5,\"#f7f7f7\"],[0.6,\"#e6f5d0\"],[0.7,\"#b8e186\"],[0.8,\"#7fbc41\"],[0.9,\"#4d9221\"],[1,\"#276419\"]],\"sequential\":[[0.0,\"#0d0887\"],[0.1111111111111111,\"#46039f\"],[0.2222222222222222,\"#7201a8\"],[0.3333333333333333,\"#9c179e\"],[0.4444444444444444,\"#bd3786\"],[0.5555555555555556,\"#d8576b\"],[0.6666666666666666,\"#ed7953\"],[0.7777777777777778,\"#fb9f3a\"],[0.8888888888888888,\"#fdca26\"],[1.0,\"#f0f921\"]],\"sequentialminus\":[[0.0,\"#0d0887\"],[0.1111111111111111,\"#46039f\"],[0.2222222222222222,\"#7201a8\"],[0.3333333333333333,\"#9c179e\"],[0.4444444444444444,\"#bd3786\"],[0.5555555555555556,\"#d8576b\"],[0.6666666666666666,\"#ed7953\"],[0.7777777777777778,\"#fb9f3a\"],[0.8888888888888888,\"#fdca26\"],[1.0,\"#f0f921\"]]},\"colorway\":[\"#636efa\",\"#EF553B\",\"#00cc96\",\"#ab63fa\",\"#FFA15A\",\"#19d3f3\",\"#FF6692\",\"#B6E880\",\"#FF97FF\",\"#FECB52\"],\"font\":{\"color\":\"#2a3f5f\"},\"geo\":{\"bgcolor\":\"white\",\"lakecolor\":\"white\",\"landcolor\":\"#E5ECF6\",\"showlakes\":true,\"showland\":true,\"subunitcolor\":\"white\"},\"hoverlabel\":{\"align\":\"left\"},\"hovermode\":\"closest\",\"mapbox\":{\"style\":\"light\"},\"paper_bgcolor\":\"white\",\"plot_bgcolor\":\"#E5ECF6\",\"polar\":{\"angularaxis\":{\"gridcolor\":\"white\",\"linecolor\":\"white\",\"ticks\":\"\"},\"bgcolor\":\"#E5ECF6\",\"radialaxis\":{\"gridcolor\":\"white\",\"linecolor\":\"white\",\"ticks\":\"\"}},\"scene\":{\"xaxis\":{\"backgroundcolor\":\"#E5ECF6\",\"gridcolor\":\"white\",\"gridwidth\":2,\"linecolor\":\"white\",\"showbackground\":true,\"ticks\":\"\",\"zerolinecolor\":\"white\"},\"yaxis\":{\"backgroundcolor\":\"#E5ECF6\",\"gridcolor\":\"white\",\"gridwidth\":2,\"linecolor\":\"white\",\"showbackground\":true,\"ticks\":\"\",\"zerolinecolor\":\"white\"},\"zaxis\":{\"backgroundcolor\":\"#E5ECF6\",\"gridcolor\":\"white\",\"gridwidth\":2,\"linecolor\":\"white\",\"showbackground\":true,\"ticks\":\"\",\"zerolinecolor\":\"white\"}},\"shapedefaults\":{\"line\":{\"color\":\"#2a3f5f\"}},\"ternary\":{\"aaxis\":{\"gridcolor\":\"white\",\"linecolor\":\"white\",\"ticks\":\"\"},\"baxis\":{\"gridcolor\":\"white\",\"linecolor\":\"white\",\"ticks\":\"\"},\"bgcolor\":\"#E5ECF6\",\"caxis\":{\"gridcolor\":\"white\",\"linecolor\":\"white\",\"ticks\":\"\"}},\"title\":{\"x\":0.05},\"xaxis\":{\"automargin\":true,\"gridcolor\":\"white\",\"linecolor\":\"white\",\"ticks\":\"\",\"title\":{\"standoff\":15},\"zerolinecolor\":\"white\",\"zerolinewidth\":2},\"yaxis\":{\"automargin\":true,\"gridcolor\":\"white\",\"linecolor\":\"white\",\"ticks\":\"\",\"title\":{\"standoff\":15},\"zerolinecolor\":\"white\",\"zerolinewidth\":2}}},\"height\":500,\"width\":700,\"xaxis\":{\"title\":{\"text\":\"Epoch\"}},\"yaxis\":{\"title\":{\"text\":\"MSE\"}}},                        {\"responsive\": true}                    ).then(function(){\n",
       "                            \n",
       "var gd = document.getElementById('c861cc53-aba0-4d07-bd7d-03359985c5c4');\n",
       "var x = new MutationObserver(function (mutations, observer) {{\n",
       "        var display = window.getComputedStyle(gd).display;\n",
       "        if (!display || display === 'none') {{\n",
       "            console.log([gd, 'removed!']);\n",
       "            Plotly.purge(gd);\n",
       "            observer.disconnect();\n",
       "        }}\n",
       "}});\n",
       "\n",
       "// Listen for the removal of the full notebook cells\n",
       "var notebookContainer = gd.closest('#notebook-container');\n",
       "if (notebookContainer) {{\n",
       "    x.observe(notebookContainer, {childList: true});\n",
       "}}\n",
       "\n",
       "// Listen for the clearing of the current output cell\n",
       "var outputEl = gd.closest('.output');\n",
       "if (outputEl) {{\n",
       "    x.observe(outputEl, {childList: true});\n",
       "}}\n",
       "\n",
       "                        })                };                });            </script>        </div>"
      ]
     },
     "metadata": {},
     "output_type": "display_data"
    }
   ],
   "source": [
    "import plotly.graph_objects as go\n",
    "\n",
    "fig = go.Figure()\n",
    "fig.add_trace(go.Scattergl(y=history_wd.history['loss'],\n",
    "                    name='Train'))\n",
    "fig.add_trace(go.Scattergl(y=history_wd.history['val_loss'],\n",
    "                    name='Valid'))\n",
    "fig.update_layout(height=500, width=700,\n",
    "                  xaxis_title='Epoch',\n",
    "                  yaxis_title='MSE')\n",
    "fig.show()"
   ]
  },
  {
   "cell_type": "code",
   "execution_count": 202,
   "id": "18c0f930",
   "metadata": {},
   "outputs": [
    {
     "name": "stdout",
     "output_type": "stream",
     "text": [
      "Train R-sq:  0.9033\n",
      "Train MSE:  0.0541\n",
      "Val R-sq:  0.6288\n",
      "Val MSE:  0.1953\n",
      "Test R-sq:  0.6397\n",
      "Test MSE:  0.2131\n"
     ]
    }
   ],
   "source": [
    "mse_nn, rmse_nn, r2_nn = model_wd.evaluate(X_test_trfm, y_test)\n",
    "print('Train R-sq: ', round(history_wd.history['r2'][epoch-1],4))\n",
    "print('Train MSE: ', round(history_wd.history['loss'][epoch-1],4))\n",
    "print('Val R-sq: ', round(history_wd.history['val_r2'][epoch-1],4))\n",
    "print('Val MSE: ', round(history_wd.history['val_loss'][epoch-1],4))\n",
    "print('Test R-sq: ', round(r2_nn,4))\n",
    "print('Test MSE: ', round(mse_nn,4))"
   ]
  },
  {
   "cell_type": "code",
   "execution_count": 211,
   "id": "5c8bd87b",
   "metadata": {},
   "outputs": [
    {
     "name": "stdout",
     "output_type": "stream",
     "text": [
      "Model: \"sequential_14\"\n",
      "_________________________________________________________________\n",
      " Layer (type)                Output Shape              Param #   \n",
      "=================================================================\n",
      " dense_32 (Dense)            (None, 200)               24200     \n",
      "                                                                 \n",
      " dense_33 (Dense)            (None, 1)                 201       \n",
      "                                                                 \n",
      "=================================================================\n",
      "Total params: 24,401\n",
      "Trainable params: 24,401\n",
      "Non-trainable params: 0\n",
      "_________________________________________________________________\n",
      "Train on 25087 samples, validate on 1321 samples\n",
      "Epoch 1/15\n",
      "25087/25087 [==============================] - 1s 34us/sample - loss: 0.6434 - rmse: 0.5511 - r2: -0.1289 - val_loss: 0.2865 - val_rmse: 0.4024 - val_r2: 0.4414\n",
      "Epoch 2/15\n",
      "25087/25087 [==============================] - 1s 30us/sample - loss: 0.2509 - rmse: 0.3718 - r2: 0.5653 - val_loss: 0.2372 - val_rmse: 0.3582 - val_r2: 0.5686\n",
      "Epoch 3/15\n",
      "25087/25087 [==============================] - 1s 28us/sample - loss: 0.1973 - rmse: 0.3282 - r2: 0.6599 - val_loss: 0.2009 - val_rmse: 0.3290 - val_r2: 0.6331\n",
      "Epoch 4/15\n",
      "25087/25087 [==============================] - 1s 30us/sample - loss: 0.1737 - rmse: 0.3073 - r2: 0.6990 - val_loss: 0.1987 - val_rmse: 0.3300 - val_r2: 0.6141\n",
      "Epoch 5/15\n",
      "25087/25087 [==============================] - 1s 30us/sample - loss: 0.1637 - rmse: 0.2965 - r2: 0.7182 - val_loss: 0.1884 - val_rmse: 0.3265 - val_r2: 0.6564\n",
      "Epoch 6/15\n",
      "25087/25087 [==============================] - 1s 29us/sample - loss: 0.1496 - rmse: 0.2850 - r2: 0.7405 - val_loss: 0.1748 - val_rmse: 0.3049 - val_r2: 0.6792\n",
      "Epoch 7/15\n",
      "25087/25087 [==============================] - 1s 29us/sample - loss: 0.1438 - rmse: 0.2769 - r2: 0.7527 - val_loss: 0.1705 - val_rmse: 0.3067 - val_r2: 0.6784\n",
      "Epoch 8/15\n",
      "25087/25087 [==============================] - 1s 29us/sample - loss: 0.1357 - rmse: 0.2710 - r2: 0.7651 - val_loss: 0.1765 - val_rmse: 0.3123 - val_r2: 0.6795\n",
      "Epoch 9/15\n",
      "25087/25087 [==============================] - 1s 30us/sample - loss: 0.1324 - rmse: 0.2685 - r2: 0.7702 - val_loss: 0.1710 - val_rmse: 0.3096 - val_r2: 0.6904\n",
      "Epoch 10/15\n",
      "25087/25087 [==============================] - 1s 29us/sample - loss: 0.1294 - rmse: 0.2647 - r2: 0.7754 - val_loss: 0.1723 - val_rmse: 0.3126 - val_r2: 0.6743\n",
      "Epoch 11/15\n",
      "25087/25087 [==============================] - 1s 28us/sample - loss: 0.1272 - rmse: 0.2603 - r2: 0.7799 - val_loss: 0.1771 - val_rmse: 0.3105 - val_r2: 0.6719\n",
      "Epoch 12/15\n",
      "25087/25087 [==============================] - 1s 28us/sample - loss: 0.1214 - rmse: 0.2553 - r2: 0.7901 - val_loss: 0.1614 - val_rmse: 0.2974 - val_r2: 0.7073\n",
      "Epoch 13/15\n",
      "25087/25087 [==============================] - 1s 29us/sample - loss: 0.1160 - rmse: 0.2515 - r2: 0.7989 - val_loss: 0.1626 - val_rmse: 0.3015 - val_r2: 0.6948\n",
      "Epoch 14/15\n",
      "25087/25087 [==============================] - 1s 29us/sample - loss: 0.1156 - rmse: 0.2498 - r2: 0.7994 - val_loss: 0.1779 - val_rmse: 0.3161 - val_r2: 0.6778\n",
      "Epoch 15/15\n",
      "25087/25087 [==============================] - 1s 30us/sample - loss: 0.1122 - rmse: 0.2467 - r2: 0.8065 - val_loss: 0.1642 - val_rmse: 0.3035 - val_r2: 0.6871\n"
     ]
    }
   ],
   "source": [
    "best_model_wd = wide_model()\n",
    "best_model_wd.summary()\n",
    "epoch=15\n",
    "best_history_wd = best_model_wd.fit(X_train_trfm, y_train, epochs=epoch, validation_split=0.05)"
   ]
  },
  {
   "cell_type": "code",
   "execution_count": 212,
   "id": "feda9d86",
   "metadata": {},
   "outputs": [
    {
     "name": "stdout",
     "output_type": "stream",
     "text": [
      "Train R-sq:  0.8065\n",
      "Train MSE:  0.1122\n",
      "Val R-sq:  0.6871\n",
      "Val MSE:  0.1642\n",
      "Test R-sq:  0.6796\n",
      "Test MSE:  0.1906\n"
     ]
    }
   ],
   "source": [
    "mse_nn, rmse_nn, r2_nn = best_model_wd.evaluate(X_test_trfm, y_test)\n",
    "print('Train R-sq: ', round(best_history_wd.history['r2'][epoch-1],4))\n",
    "print('Train MSE: ', round(best_history_wd.history['loss'][epoch-1],4))\n",
    "print('Val R-sq: ', round(best_history_wd.history['val_r2'][epoch-1],4))\n",
    "print('Val MSE: ', round(best_history_wd.history['val_loss'][epoch-1],4))\n",
    "print('Test R-sq: ', round(r2_nn,4))\n",
    "print('Test MSE: ', round(mse_nn,4))"
   ]
  },
  {
   "cell_type": "markdown",
   "id": "26d5f461-828d-436d-b403-d3946f636966",
   "metadata": {
    "id": "26d5f461-828d-436d-b403-d3946f636966"
   },
   "source": [
    "### 5.3 Actual vs Predicted"
   ]
  },
  {
   "cell_type": "code",
   "execution_count": 117,
   "id": "18d1a4f2-a769-452c-9168-682c7ea75781",
   "metadata": {
    "id": "18d1a4f2-a769-452c-9168-682c7ea75781"
   },
   "outputs": [],
   "source": [
    "import matplotlib.cm as cm\n",
    "sns.set_style(\"whitegrid\")\n",
    "import matplotlib.colors as mcolors"
   ]
  },
  {
   "cell_type": "code",
   "execution_count": 213,
   "id": "a7235f7f-e45b-4af2-99ef-6b04a632db81",
   "metadata": {
    "id": "a7235f7f-e45b-4af2-99ef-6b04a632db81",
    "outputId": "03d97570-0d9c-4217-c373-da16bc32368e"
   },
   "outputs": [
    {
     "data": {
      "image/png": "[encoded data removed]",
      "text/plain": [
       "<Figure size 576x360 with 2 Axes>"
      ]
     },
     "metadata": {},
     "output_type": "display_data"
    }
   ],
   "source": [
    "pred = best_model_bl.predict(X_test_trfm)[:,0]\n",
    "df_pred = pd.DataFrame.from_dict({'y_pred': pred, 'y_true': y_test})\n",
    "df_pred['deviation'] = df_pred['y_pred'] - df_pred['y_true']\n",
    "\n",
    "# Get/set params for the colour mapping\n",
    "vcenter = 0\n",
    "vmin, vmax = df_pred['deviation'].min(), df_pred['deviation'].max()\n",
    "normalize = mcolors.TwoSlopeNorm(vcenter=vcenter, vmin=vmin, vmax=vmax)\n",
    "colormap = cm.coolwarm_r\n",
    "\n",
    "plt.figure(figsize = (8,5))\n",
    "sns.scatterplot(x = 'y_true', y = 'y_pred', data = df_pred,  \n",
    "                cmap=colormap, c=df_pred['deviation'], norm=normalize)\n",
    "\n",
    "scalarmappaple = cm.ScalarMappable(norm=normalize, cmap=colormap)\n",
    "scalarmappaple.set_array(df_pred['deviation'])\n",
    "plt.colorbar(scalarmappaple)\n",
    "plt.ylim(2,9)\n",
    "plt.xlim(2,9)\n",
    "plt.title('Baseline Neural Net Predicted vs True Log Price', fontsize = 15)\n",
    "plt.show()"
   ]
  },
  {
   "cell_type": "code",
   "execution_count": 214,
   "id": "666d8496-0367-4f78-86f7-77b0c437eca9",
   "metadata": {
    "id": "666d8496-0367-4f78-86f7-77b0c437eca9",
    "outputId": "bd68b11b-07e1-4bf9-cc4d-609580d417ca"
   },
   "outputs": [
    {
     "data": {
      "image/png": "[encoded data removed]",
      "text/plain": [
       "<Figure size 432x288 with 1 Axes>"
      ]
     },
     "metadata": {},
     "output_type": "display_data"
    }
   ],
   "source": [
    "sns.histplot(df_pred['deviation'])\n",
    "plt.xlabel('Error (Log Price)')\n",
    "plt.ylabel('Number of Observations')\n",
    "plt.title('Distribution of Prediction Error (Baseline Neural Net)', fontsize = 15)\n",
    "plt.xlim(-2, 2)\n",
    "plt.show()"
   ]
  },
  {
   "cell_type": "code",
   "execution_count": 215,
   "id": "de1d5d94-b4dc-4cb3-82d9-2bf4c713fb02",
   "metadata": {
    "id": "de1d5d94-b4dc-4cb3-82d9-2bf4c713fb02"
   },
   "outputs": [
    {
     "data": {
      "image/png": "[encoded data removed]",
      "text/plain": [
       "<Figure size 576x360 with 2 Axes>"
      ]
     },
     "metadata": {},
     "output_type": "display_data"
    }
   ],
   "source": [
    "pred = best_model_dp.predict(X_test_trfm)[:,0]\n",
    "df_pred = pd.DataFrame.from_dict({'y_pred': pred, 'y_true': y_test})\n",
    "df_pred['deviation'] = df_pred['y_pred'] - df_pred['y_true']\n",
    "\n",
    "# Get/set params for the colour mapping\n",
    "vcenter = 0\n",
    "vmin, vmax = df_pred['deviation'].min(), df_pred['deviation'].max()\n",
    "normalize = mcolors.TwoSlopeNorm(vcenter=vcenter, vmin=vmin, vmax=vmax)\n",
    "colormap = cm.coolwarm_r\n",
    "\n",
    "plt.figure(figsize = (8,5))\n",
    "sns.scatterplot(x = 'y_true', y = 'y_pred', data = df_pred,  \n",
    "                cmap=colormap, c=df_pred['deviation'], norm=normalize)\n",
    "\n",
    "scalarmappaple = cm.ScalarMappable(norm=normalize, cmap=colormap)\n",
    "scalarmappaple.set_array(df_pred['deviation'])\n",
    "plt.colorbar(scalarmappaple)\n",
    "plt.ylim(2,9)\n",
    "plt.xlim(2,9)\n",
    "plt.title('Deep Neural Net Predicted vs True Log Price', fontsize = 15)\n",
    "plt.show()"
   ]
  },
  {
   "cell_type": "code",
   "execution_count": 216,
   "id": "100d2b2b",
   "metadata": {},
   "outputs": [
    {
     "data": {
      "image/png": "[encoded data removed]",
      "text/plain": [
       "<Figure size 432x288 with 1 Axes>"
      ]
     },
     "metadata": {},
     "output_type": "display_data"
    }
   ],
   "source": [
    "sns.histplot(df_pred['deviation'])\n",
    "plt.xlabel('Error (Log Price)')\n",
    "plt.ylabel('Number of Observations')\n",
    "plt.title('Distribution of Prediction Error (Deep Neural Net)', fontsize = 15)\n",
    "plt.xlim(-2, 2)\n",
    "plt.show()"
   ]
  },
  {
   "cell_type": "code",
   "execution_count": 217,
   "id": "e747edcd",
   "metadata": {},
   "outputs": [
    {
     "data": {
      "image/png": "[encoded data removed]",
      "text/plain": [
       "<Figure size 576x360 with 2 Axes>"
      ]
     },
     "metadata": {},
     "output_type": "display_data"
    }
   ],
   "source": [
    "pred = best_model_wd.predict(X_test_trfm)[:,0]\n",
    "df_pred = pd.DataFrame.from_dict({'y_pred': pred, 'y_true': y_test})\n",
    "df_pred['deviation'] = df_pred['y_pred'] - df_pred['y_true']\n",
    "\n",
    "# Get/set params for the colour mapping\n",
    "vcenter = 0\n",
    "vmin, vmax = df_pred['deviation'].min(), df_pred['deviation'].max()\n",
    "normalize = mcolors.TwoSlopeNorm(vcenter=vcenter, vmin=vmin, vmax=vmax)\n",
    "colormap = cm.coolwarm_r\n",
    "\n",
    "plt.figure(figsize = (8,5))\n",
    "sns.scatterplot(x = 'y_true', y = 'y_pred', data = df_pred,  \n",
    "                cmap=colormap, c=df_pred['deviation'], norm=normalize)\n",
    "\n",
    "scalarmappaple = cm.ScalarMappable(norm=normalize, cmap=colormap)\n",
    "scalarmappaple.set_array(df_pred['deviation'])\n",
    "plt.colorbar(scalarmappaple)\n",
    "plt.ylim(2,9)\n",
    "plt.xlim(2,9)\n",
    "plt.title('Wide Neural Net Predicted vs True Log Price', fontsize = 15)\n",
    "plt.show()"
   ]
  },
  {
   "cell_type": "code",
   "execution_count": 218,
   "id": "406a1121",
   "metadata": {},
   "outputs": [
    {
     "data": {
      "image/png": "[encoded data removed]",
      "text/plain": [
       "<Figure size 432x288 with 1 Axes>"
      ]
     },
     "metadata": {},
     "output_type": "display_data"
    }
   ],
   "source": [
    "sns.histplot(df_pred['deviation'])\n",
    "plt.xlabel('Error (Log Price)')\n",
    "plt.ylabel('Number of Observations')\n",
    "plt.title('Distribution of Prediction Error (Wide Neural Net)', fontsize = 15)\n",
    "plt.xlim(-2, 2)\n",
    "plt.show()"
   ]
  },
  {
   "cell_type": "markdown",
   "id": "6fc2d8b3",
   "metadata": {},
   "source": [
    "## SHAP Values"
   ]
  },
  {
   "cell_type": "code",
   "execution_count": 187,
   "id": "c77a48c8",
   "metadata": {},
   "outputs": [],
   "source": [
    "import shap\n",
    "import tensorflow as tf\n",
    "tf.compat.v1.disable_eager_execution()\n",
    "tf.compat.v1.disable_v2_behavior()"
   ]
  },
  {
   "cell_type": "code",
   "execution_count": 219,
   "id": "e026a5d3",
   "metadata": {},
   "outputs": [
    {
     "data": {
      "image/png": "[encoded data removed]",
      "text/plain": [
       "<Figure size 576x684 with 1 Axes>"
      ]
     },
     "metadata": {},
     "output_type": "display_data"
    }
   ],
   "source": [
    "explainer = shap.DeepExplainer(best_model_bl,X_train_trfm[:100])\n",
    "shap_values = explainer.shap_values(X_train_trfm.values)\n",
    "plt.figure(figsize = (8,5))\n",
    "shap.summary_plot(shap_values, X_train_trfm, show=False)\n",
    "plt.title(\"Baseline NN SHAP values\",size=30)\n",
    "plt.show()"
   ]
  },
  {
   "cell_type": "code",
   "execution_count": 220,
   "id": "046accc5",
   "metadata": {},
   "outputs": [
    {
     "data": {
      "image/png": "[encoded data removed]",
      "text/plain": [
       "<Figure size 576x684 with 1 Axes>"
      ]
     },
     "metadata": {},
     "output_type": "display_data"
    }
   ],
   "source": [
    "explainer = shap.DeepExplainer(best_model_dp,X_train_trfm[:100])\n",
    "shap_values = explainer.shap_values(X_train_trfm.values)\n",
    "plt.figure(figsize = (8,5))\n",
    "shap.summary_plot(shap_values, X_train_trfm, show=False)\n",
    "plt.title(\"Deep NN SHAP values\",size=30)\n",
    "plt.show()"
   ]
  },
  {
   "cell_type": "code",
   "execution_count": 221,
   "id": "35e8ec59",
   "metadata": {},
   "outputs": [
    {
     "data": {
      "image/png": "[encoded data removed]",
      "text/plain": [
       "<Figure size 576x684 with 1 Axes>"
      ]
     },
     "metadata": {},
     "output_type": "display_data"
    }
   ],
   "source": [
    "explainer = shap.DeepExplainer(best_model_wd,X_train_trfm[:100])\n",
    "shap_values = explainer.shap_values(X_train_trfm.values)\n",
    "plt.figure(figsize = (8,5))\n",
    "shap.summary_plot(shap_values, X_train_trfm, show=False)\n",
    "plt.title(\"Wide NN SHAP values\",size=30)\n",
    "plt.show()"
   ]
  },
  {
   "cell_type": "code",
   "execution_count": null,
   "id": "724e41ec",
   "metadata": {},
   "outputs": [],
   "source": []
  }
 ],
 "metadata": {
  "colab": {
   "collapsed_sections": [],
   "name": "2.Modelling_Code.ipynb",
   "provenance": []
  },
  "kernelspec": {
   "display_name": "Python 3 (ipykernel)",
   "language": "python",
   "name": "python3"
  },
  "language_info": {
   "codemirror_mode": {
    "name": "ipython",
    "version": 3
   },
   "file_extension": ".py",
   "mimetype": "text/x-python",
   "name": "python",
   "nbconvert_exporter": "python",
   "pygments_lexer": "ipython3",
   "version": "3.9.6"
  }
 },
 "nbformat": 4,
 "nbformat_minor": 5
}
