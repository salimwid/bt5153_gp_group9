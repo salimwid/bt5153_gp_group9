{
 "cells": [
  {
   "cell_type": "markdown",
   "id": "cce8321d-6519-46f1-9487-fb3046614b35",
   "metadata": {
    "id": "cce8321d-6519-46f1-9487-fb3046614b35"
   },
   "source": [
    "# Modelling\n",
    "\n",
    "Feature engineering, model training, tuning, selection and explanability."
   ]
  },
  {
   "cell_type": "markdown",
   "id": "002dbab7-58dd-4ba0-8481-7821e28aae8a",
   "metadata": {
    "id": "002dbab7-58dd-4ba0-8481-7821e28aae8a"
   },
   "source": [
    "# 0. Load Packages and Define Helper Functions"
   ]
  },
  {
   "cell_type": "code",
   "execution_count": 1,
   "id": "4569f689-b6f1-4bfc-af64-7d0fe9a0850c",
   "metadata": {
    "id": "4569f689-b6f1-4bfc-af64-7d0fe9a0850c"
   },
   "outputs": [],
   "source": [
    "import pandas as pd\n",
    "import numpy as np\n",
    "import matplotlib.pyplot as plt\n",
    "import seaborn as sns\n",
    "from random import randint, uniform\n",
    "from preprocessing import preprocess_df, get_amenities\n",
    "from sklearn.pipeline import Pipeline, make_pipeline\n",
    "from sklearn.inspection import permutation_importance\n",
    "from sklearn.ensemble import StackingRegressor\n",
    "\n",
    "import warnings\n",
    "warnings.filterwarnings('ignore')"
   ]
  },
  {
   "cell_type": "code",
   "execution_count": 2,
   "id": "9a922dad-858a-4ee9-9ac9-fd1ed80b3bab",
   "metadata": {
    "id": "9a922dad-858a-4ee9-9ac9-fd1ed80b3bab"
   },
   "outputs": [],
   "source": [
    "from sklearn.linear_model import LinearRegression, Lasso # baseline\n",
    "from sklearn.ensemble import RandomForestRegressor #good\n",
    "from xgboost import XGBRegressor #good\n",
    "from lightgbm import LGBMRegressor # goodest\n",
    "\n",
    "from sklearn.pipeline import Pipeline\n",
    "from sklearn.preprocessing import StandardScaler,OneHotEncoder, RobustScaler, QuantileTransformer\n",
    "from sklearn.compose import ColumnTransformer\n",
    "from sklearn import set_config\n",
    "set_config(display=\"diagram\")\n",
    "\n",
    "from sklearn.model_selection import train_test_split, cross_validate, GridSearchCV, RandomizedSearchCV\n",
    "from sklearn.metrics import mean_squared_error"
   ]
  },
  {
   "cell_type": "code",
   "execution_count": 38,
   "id": "4e83bff8",
   "metadata": {},
   "outputs": [],
   "source": [
    "from sklearn.compose import make_column_selector\n",
    "from sklearn.compose import make_column_transformer\n",
    "from sklearn.pipeline import make_pipeline\n",
    "from sklearn.model_selection import train_test_split\n",
    "from sklearn.compose import make_column_selector\n",
    "from sklearn.compose import make_column_transformer\n",
    "from sklearn.pipeline import make_pipeline\n",
    "from sklearn.preprocessing import StandardScaler\n",
    "from sklearn.preprocessing import OneHotEncoder\n",
    "from sklearn import set_config\n",
    "set_config(display=\"diagram\")\n",
    "from keras.models import Sequential\n",
    "from keras.layers import Dense\n",
    "from keras.wrappers.scikit_learn import KerasRegressor\n",
    "from sklearn.model_selection import cross_val_score\n",
    "from sklearn.model_selection import KFold\n",
    "from sklearn.linear_model import LinearRegression\n",
    "from sklearn.metrics import mean_squared_error\n",
    "from sklearn.metrics import r2_score\n",
    "from sklearn.tree import DecisionTreeRegressor\n",
    "from keras import backend\n",
    "import warnings\n",
    "warnings.filterwarnings(\"ignore\")\n",
    "import pandas as pd\n",
    "import numpy as np"
   ]
  },
  {
   "cell_type": "code",
   "execution_count": 3,
   "id": "e7162e3f-b50c-4bfd-a76d-7459f22dc28c",
   "metadata": {
    "id": "e7162e3f-b50c-4bfd-a76d-7459f22dc28c"
   },
   "outputs": [],
   "source": [
    "def fit_and_score(model, X_train, X_test, y_train, y_test):\n",
    "    \n",
    "    model.fit(X_train, y_train)\n",
    "    \n",
    "    # Train metrics\n",
    "    pred_train= model.predict(X_train)\n",
    "    train_MSE = mean_squared_error(y_train, pred_train)\n",
    "    \n",
    "    # Cross validated metrics\n",
    "    cv_score = cross_validate(model, X_train, y_train, scoring=['r2', 'neg_mean_squared_error'],n_jobs=2, verbose=1, cv = 5) \n",
    "    \n",
    "    # Test metrics\n",
    "    pred_test= model.predict(X_test)\n",
    "    test_MSE = mean_squared_error(y_test, pred_test)\n",
    "    \n",
    "    print('Train R-sq', round(model.score(X_train, y_train),4))\n",
    "    print('Train MSE:', round(train_MSE,4))\n",
    "    print('')\n",
    "    print('CV R-sq', round(np.mean(cv_score['test_r2']),4))\n",
    "    print('CV MSE:', round(-np.mean(cv_score['test_neg_mean_squared_error']),4))\n",
    "    print('')\n",
    "    print('Test R-sq', round(model.score(X_test, y_test),4))\n",
    "    print('Test MSE:', round(test_MSE,4))\n",
    "    \n",
    "    return model\n",
    "\n",
    "\n",
    "def random_search_pipe(model, grid, X_train, y_train):\n",
    "    \n",
    "    search = RandomizedSearchCV(model, grid, cv=5,n_jobs=2, scoring='r2', n_iter = 100, verbose=1)\n",
    "    search.fit(X_train, y_train)\n",
    "    \n",
    "    print(\"Best params:\\n{}\".format(search.best_params_))\n",
    "    print(\"Best score:\\n{}\".format(search.best_score_)) #Mean cross-validated score of the best_estimator\n",
    "    \n",
    "    return search\n",
    "\n",
    "def grid_search_pipe(model, grid, X_train, y_train):\n",
    "    \n",
    "    search = GridSearchCV(model, grid, cv=5,n_jobs=2, scoring='r2', verbose=1)\n",
    "    search.fit(X_train, y_train)\n",
    "    \n",
    "    print(\"Best params:\\n{}\".format(search.best_params_))\n",
    "    print(\"Best score:\\n{}\".format(search.best_score_)) #Mean cross-validated score of the best_estimator\n",
    "    \n",
    "    return search"
   ]
  },
  {
   "cell_type": "code",
   "execution_count": 4,
   "id": "8e918cb1-8f31-43e9-bc56-9112bc09e10a",
   "metadata": {
    "id": "8e918cb1-8f31-43e9-bc56-9112bc09e10a"
   },
   "outputs": [],
   "source": [
    "def check_impact(df):\n",
    "    \n",
    "    print('Check accuracy at this step...')\n",
    "    \n",
    "    random_state = 12\n",
    "\n",
    "    dep_var = ['price_log']\n",
    "    to_drop = ['id', 'host_id', 'property_type', 'price', 'host_since', 'first_review', 'last_review']\n",
    "\n",
    "    X = df.fillna(0).drop(dep_var + to_drop, axis = 1)\n",
    "    y = df['price_log'].ravel()\n",
    "\n",
    "    X_train, X_test, y_train, y_test = train_test_split(X,y,test_size =0.2, random_state = random_state)\n",
    "\n",
    "    # Get numeric and categorical columns\n",
    "    num_cols = list(X.select_dtypes(include=np.number).columns)\n",
    "    cat_cols = list(set(X.columns)-set(X[num_cols].columns))\n",
    "\n",
    "    # Preprocess\n",
    "    preprocessor = ColumnTransformer(\n",
    "        transformers=[\n",
    "            ('num', StandardScaler(), num_cols ),\n",
    "            (\"cat\", Pipeline([('ohe', OneHotEncoder(handle_unknown='ignore'))]), cat_cols),\n",
    "        ]\n",
    "        , remainder='passthrough'\n",
    "    )\n",
    "\n",
    "    \n",
    "    lgbm_best = Pipeline([('preprocess', preprocessor),\n",
    "                    ('regressor', LGBMRegressor(random_state = random_state,\n",
    "                                               boosting_type = 'gbdt',\n",
    "                                               colsample_bytree = 0.5,\n",
    "                                               max_bin = 10,\n",
    "                                               max_depth = 12,\n",
    "                                               n_estimators = 350,\n",
    "                                               num_leaves = 30,\n",
    "                                               subsample = 0.50))\n",
    "                   ])\n",
    "\n",
    "\n",
    "    model = fit_and_score(model = lgbm_best, \n",
    "                                 X_train = X_train, \n",
    "                                 X_test = X_test,\n",
    "                                 y_train = y_train,\n",
    "                                 y_test = y_test)\n",
    "    \n",
    "    print('')\n",
    "    print('Shape of X: {}'.format(np.shape(X)))\n",
    "    "
   ]
  },
  {
   "cell_type": "markdown",
   "id": "b17ca18c-c8be-48a8-9a85-2bc1acbec670",
   "metadata": {
    "id": "b17ca18c-c8be-48a8-9a85-2bc1acbec670",
    "tags": []
   },
   "source": [
    "# 1. Load and Preprocess"
   ]
  },
  {
   "cell_type": "code",
   "execution_count": 5,
   "id": "1cec108c-c7b6-4139-8cd0-a1de147c5bd0",
   "metadata": {
    "id": "1cec108c-c7b6-4139-8cd0-a1de147c5bd0",
    "outputId": "a3c77061-edf5-4ca6-e99d-e2000ec8dc4c"
   },
   "outputs": [
    {
     "name": "stdout",
     "output_type": "stream",
     "text": [
      "Columns dropped ['listing_url', 'scrape_id', 'last_scraped', 'picture_url', 'host_about', 'host_picture_url', 'calendar_last_scraped', 'license', 'host_url', 'host_thumbnail_url', 'host_verifications', 'name', 'description', 'neighborhood_overview', 'host_name', 'calendar_updated', 'bathrooms', 'host_neighbourhood', 'neighbourhood', 'host_listings_count', 'beds', 'host_location', 'host_response_time', 'host_response_rate', 'host_acceptance_rate', 'calculated_host_listings_count', 'calculated_host_listings_count_entire_homes', 'calculated_host_listings_count_private_rooms', 'calculated_host_listings_count_shared_rooms', 'minimum_minimum_nights', 'maximum_minimum_nights', 'minimum_maximum_nights', 'maximum_maximum_nights', 'neighbourhood_cleansed']\n",
      "Before removing inactive listings, length = 66641\n",
      "After removing inactive listings, length = 33046\n",
      "After removing price = 0 listings, length = 33037\n",
      "Features bathroom_num and bathroom_sharing extracted.\n",
      "Int and float mv filled with 0, object mv filled with \"0\" and date mv filled with 2200-01-01.\n",
      "Before Log Transform to price, min = 8.0, max = 18557.0\n",
      "After Log Transform to price, min = 8.0, max = 18557.0\n",
      "bedrooms: 97 values above cutoff, value_cutoff = 5.0\n",
      "minimum_nights: 134 values above cutoff, value_cutoff = 90.0\n",
      "maximum_nights: 12 values above cutoff, value_cutoff = 1125.0\n",
      "minimum_nights_avg_ntm: 83 values above cutoff, value_cutoff = 179.2920000000042\n",
      "Preprocessing columns dropped ['bathrooms_text']\n"
     ]
    }
   ],
   "source": [
    "data = pd.read_csv('data/listings.csv.gz')\n",
    "df = preprocess_df(data = data, verbose = True)"
   ]
  },
  {
   "cell_type": "code",
   "execution_count": 6,
   "id": "a4467a62-6c91-4581-bdb6-7e49939a36a0",
   "metadata": {
    "id": "a4467a62-6c91-4581-bdb6-7e49939a36a0",
    "outputId": "76f60952-3a49-436b-a71e-431376d13d38"
   },
   "outputs": [
    {
     "data": {
      "text/plain": [
       "Index(['id', 'host_id', 'host_since', 'host_is_superhost',\n",
       "       'host_total_listings_count', 'host_has_profile_pic',\n",
       "       'host_identity_verified', 'neighbourhood_group_cleansed', 'latitude',\n",
       "       'longitude', 'property_type', 'room_type', 'accommodates', 'bedrooms',\n",
       "       'amenities', 'price', 'minimum_nights', 'maximum_nights',\n",
       "       'minimum_nights_avg_ntm', 'maximum_nights_avg_ntm', 'has_availability',\n",
       "       'availability_30', 'availability_60', 'availability_90',\n",
       "       'availability_365', 'number_of_reviews', 'number_of_reviews_ltm',\n",
       "       'number_of_reviews_l30d', 'first_review', 'last_review',\n",
       "       'review_scores_rating', 'review_scores_accuracy',\n",
       "       'review_scores_cleanliness', 'review_scores_checkin',\n",
       "       'review_scores_communication', 'review_scores_location',\n",
       "       'review_scores_value', 'instant_bookable', 'reviews_per_month',\n",
       "       'bathroom_num', 'bathroom_sharing', 'price_log'],\n",
       "      dtype='object')"
      ]
     },
     "execution_count": 6,
     "metadata": {},
     "output_type": "execute_result"
    }
   ],
   "source": [
    "df.columns"
   ]
  },
  {
   "cell_type": "code",
   "execution_count": 7,
   "id": "47cff3f3-8d46-4a99-8229-c42950bf4a89",
   "metadata": {
    "id": "47cff3f3-8d46-4a99-8229-c42950bf4a89",
    "outputId": "12789ae1-7488-44ab-fb23-d0fed31089f2"
   },
   "outputs": [
    {
     "name": "stdout",
     "output_type": "stream",
     "text": [
      "[('wifi', 32096), ('essentials', 31414), ('smoke alarm', 30603), ('heating', 29750), ('kitchen', 29321), ('hangers', 28388), ('long term stays allowed', 28070), ('iron', 27868), ('washer', 26852), ('hair dryer', 26387), ('hot water', 25305), ('shampoo', 23394), ('carbon monoxide alarm', 22656), ('dedicated workspace', 22473), ('dishes and silverware', 21126), ('cooking basics', 20499), ('refrigerator', 20424), ('bed linens', 18340), ('tv', 17925), ('microwave', 17588), ('oven', 17256), ('stove', 15436), ('dryer', 14012), ('first aid kit', 12522), ('fire extinguisher', 12352), ('coffee maker', 11651), ('dishwasher', 11275), ('private entrance', 9889), ('extra pillows and blankets', 9725), ('luggage dropoff allowed', 8066), ('host greets you', 7248), ('lockbox', 7143), ('bathtub', 7013), ('elevator', 6878), ('free parking on premises', 6310), ('shower gel', 6301), ('paid parking off premises', 5864), ('hot water kettle', 5738), ('backyard', 5698), ('free street parking', 5674), ('lock on bedroom door', 5604), ('cable tv', 5413), ('patio or balcony', 5369), ('freezer', 5126), ('tv with standard cable', 5090), ('cleaning products', 4846), ('toaster', 4640), ('dining table', 4194), ('wine glasses', 4070), ('room-darkening shades', 4002), ('body soap', 3667), ('breakfast', 3660), ('drying rack for clothing', 3585), ('single level home', 3324), ('security cameras on property', 3241), ('conditioner', 2649), ('indoor fireplace', 2563), ('portable fans', 2561), ('ethernet connection', 2550), ('outdoor furniture', 2502), ('laundromat nearby', 2501), ('pack ’n play/travel crib', 2434), ('crib', 2400), ('air conditioning', 2316), ('high chair', 2232), ('baking sheet', 2205), ('bbq grill', 2054), ('paid parking on premises', 1998), ('private patio or balcony', 1967), ('central heating', 1853), ('outdoor dining area', 1762), ('children’s books and toys', 1704), ('cleaning before checkout', 1598), ('clothing storage', 1424), ('clothing storage: closet', 1316), ('mini fridge', 1200), ('private fenced garden or backyard', 1120), ('building staff', 1111), ('paid street parking off premises', 1096), ('nespresso machine', 1053)]\n",
      "Preprocessing columns dropped ['amenities']\n"
     ]
    }
   ],
   "source": [
    "df = get_amenities(data = df, \n",
    "                   num_amenities =80, # best is to call 80 amenities and select from there\n",
    "                  verbose = True)"
   ]
  },
  {
   "cell_type": "code",
   "execution_count": 8,
   "id": "c70f530f-e242-4c05-8442-29d0644831c4",
   "metadata": {
    "id": "c70f530f-e242-4c05-8442-29d0644831c4",
    "outputId": "fdbdba12-20c8-4497-c426-a1e26f797d43"
   },
   "outputs": [
    {
     "data": {
      "text/html": [
       "<div>\n",
       "<style scoped>\n",
       "    .dataframe tbody tr th:only-of-type {\n",
       "        vertical-align: middle;\n",
       "    }\n",
       "\n",
       "    .dataframe tbody tr th {\n",
       "        vertical-align: top;\n",
       "    }\n",
       "\n",
       "    .dataframe thead th {\n",
       "        text-align: right;\n",
       "    }\n",
       "</style>\n",
       "<table border=\"1\" class=\"dataframe\">\n",
       "  <thead>\n",
       "    <tr style=\"text-align: right;\">\n",
       "      <th></th>\n",
       "      <th>id</th>\n",
       "      <th>host_id</th>\n",
       "      <th>host_since</th>\n",
       "      <th>host_is_superhost</th>\n",
       "      <th>host_total_listings_count</th>\n",
       "      <th>host_has_profile_pic</th>\n",
       "      <th>host_identity_verified</th>\n",
       "      <th>neighbourhood_group_cleansed</th>\n",
       "      <th>latitude</th>\n",
       "      <th>longitude</th>\n",
       "      <th>...</th>\n",
       "      <th>amenities_outdoor dining area</th>\n",
       "      <th>amenities_children’s books and toys</th>\n",
       "      <th>amenities_cleaning before checkout</th>\n",
       "      <th>amenities_clothing storage</th>\n",
       "      <th>amenities_clothing storage: closet</th>\n",
       "      <th>amenities_mini fridge</th>\n",
       "      <th>amenities_private fenced garden or backyard</th>\n",
       "      <th>amenities_building staff</th>\n",
       "      <th>amenities_paid street parking off premises</th>\n",
       "      <th>amenities_nespresso machine</th>\n",
       "    </tr>\n",
       "  </thead>\n",
       "  <tbody>\n",
       "    <tr>\n",
       "      <th>1</th>\n",
       "      <td>15400</td>\n",
       "      <td>60302</td>\n",
       "      <td>2020-03-16</td>\n",
       "      <td>0</td>\n",
       "      <td>1.0</td>\n",
       "      <td>1</td>\n",
       "      <td>1</td>\n",
       "      <td>0.0</td>\n",
       "      <td>51.48780</td>\n",
       "      <td>-0.16813</td>\n",
       "      <td>...</td>\n",
       "      <td>0</td>\n",
       "      <td>0</td>\n",
       "      <td>0</td>\n",
       "      <td>0</td>\n",
       "      <td>0</td>\n",
       "      <td>0</td>\n",
       "      <td>0</td>\n",
       "      <td>0</td>\n",
       "      <td>0</td>\n",
       "      <td>0</td>\n",
       "    </tr>\n",
       "    <tr>\n",
       "      <th>4</th>\n",
       "      <td>25123</td>\n",
       "      <td>103583</td>\n",
       "      <td>2020-03-15</td>\n",
       "      <td>0</td>\n",
       "      <td>3.0</td>\n",
       "      <td>1</td>\n",
       "      <td>1</td>\n",
       "      <td>0.0</td>\n",
       "      <td>51.57438</td>\n",
       "      <td>-0.21081</td>\n",
       "      <td>...</td>\n",
       "      <td>0</td>\n",
       "      <td>0</td>\n",
       "      <td>0</td>\n",
       "      <td>0</td>\n",
       "      <td>0</td>\n",
       "      <td>0</td>\n",
       "      <td>0</td>\n",
       "      <td>0</td>\n",
       "      <td>0</td>\n",
       "      <td>0</td>\n",
       "    </tr>\n",
       "    <tr>\n",
       "      <th>9</th>\n",
       "      <td>38610</td>\n",
       "      <td>165579</td>\n",
       "      <td>2020-08-12</td>\n",
       "      <td>1</td>\n",
       "      <td>2.0</td>\n",
       "      <td>1</td>\n",
       "      <td>1</td>\n",
       "      <td>0.0</td>\n",
       "      <td>51.50701</td>\n",
       "      <td>-0.23362</td>\n",
       "      <td>...</td>\n",
       "      <td>0</td>\n",
       "      <td>0</td>\n",
       "      <td>1</td>\n",
       "      <td>0</td>\n",
       "      <td>0</td>\n",
       "      <td>0</td>\n",
       "      <td>1</td>\n",
       "      <td>0</td>\n",
       "      <td>0</td>\n",
       "      <td>0</td>\n",
       "    </tr>\n",
       "    <tr>\n",
       "      <th>11</th>\n",
       "      <td>38995</td>\n",
       "      <td>167281</td>\n",
       "      <td>2020-02-21</td>\n",
       "      <td>0</td>\n",
       "      <td>1.0</td>\n",
       "      <td>1</td>\n",
       "      <td>1</td>\n",
       "      <td>0.0</td>\n",
       "      <td>51.47860</td>\n",
       "      <td>-0.06114</td>\n",
       "      <td>...</td>\n",
       "      <td>0</td>\n",
       "      <td>0</td>\n",
       "      <td>0</td>\n",
       "      <td>0</td>\n",
       "      <td>0</td>\n",
       "      <td>0</td>\n",
       "      <td>0</td>\n",
       "      <td>0</td>\n",
       "      <td>0</td>\n",
       "      <td>0</td>\n",
       "    </tr>\n",
       "    <tr>\n",
       "      <th>14</th>\n",
       "      <td>41311</td>\n",
       "      <td>103583</td>\n",
       "      <td>2020-01-18</td>\n",
       "      <td>0</td>\n",
       "      <td>3.0</td>\n",
       "      <td>1</td>\n",
       "      <td>1</td>\n",
       "      <td>0.0</td>\n",
       "      <td>51.57400</td>\n",
       "      <td>-0.21058</td>\n",
       "      <td>...</td>\n",
       "      <td>0</td>\n",
       "      <td>0</td>\n",
       "      <td>0</td>\n",
       "      <td>0</td>\n",
       "      <td>0</td>\n",
       "      <td>0</td>\n",
       "      <td>0</td>\n",
       "      <td>0</td>\n",
       "      <td>0</td>\n",
       "      <td>0</td>\n",
       "    </tr>\n",
       "  </tbody>\n",
       "</table>\n",
       "<p>5 rows × 121 columns</p>\n",
       "</div>"
      ],
      "text/plain": [
       "       id  host_id host_since  host_is_superhost  host_total_listings_count  \\\n",
       "1   15400    60302 2020-03-16                  0                        1.0   \n",
       "4   25123   103583 2020-03-15                  0                        3.0   \n",
       "9   38610   165579 2020-08-12                  1                        2.0   \n",
       "11  38995   167281 2020-02-21                  0                        1.0   \n",
       "14  41311   103583 2020-01-18                  0                        3.0   \n",
       "\n",
       "    host_has_profile_pic  host_identity_verified  \\\n",
       "1                      1                       1   \n",
       "4                      1                       1   \n",
       "9                      1                       1   \n",
       "11                     1                       1   \n",
       "14                     1                       1   \n",
       "\n",
       "    neighbourhood_group_cleansed  latitude  longitude  ...  \\\n",
       "1                            0.0  51.48780   -0.16813  ...   \n",
       "4                            0.0  51.57438   -0.21081  ...   \n",
       "9                            0.0  51.50701   -0.23362  ...   \n",
       "11                           0.0  51.47860   -0.06114  ...   \n",
       "14                           0.0  51.57400   -0.21058  ...   \n",
       "\n",
       "   amenities_outdoor dining area amenities_children’s books and toys  \\\n",
       "1                              0                                   0   \n",
       "4                              0                                   0   \n",
       "9                              0                                   0   \n",
       "11                             0                                   0   \n",
       "14                             0                                   0   \n",
       "\n",
       "    amenities_cleaning before checkout  amenities_clothing storage  \\\n",
       "1                                    0                           0   \n",
       "4                                    0                           0   \n",
       "9                                    1                           0   \n",
       "11                                   0                           0   \n",
       "14                                   0                           0   \n",
       "\n",
       "    amenities_clothing storage: closet  amenities_mini fridge  \\\n",
       "1                                    0                      0   \n",
       "4                                    0                      0   \n",
       "9                                    0                      0   \n",
       "11                                   0                      0   \n",
       "14                                   0                      0   \n",
       "\n",
       "    amenities_private fenced garden or backyard  amenities_building staff  \\\n",
       "1                                             0                         0   \n",
       "4                                             0                         0   \n",
       "9                                             1                         0   \n",
       "11                                            0                         0   \n",
       "14                                            0                         0   \n",
       "\n",
       "    amenities_paid street parking off premises  amenities_nespresso machine  \n",
       "1                                            0                            0  \n",
       "4                                            0                            0  \n",
       "9                                            0                            0  \n",
       "11                                           0                            0  \n",
       "14                                           0                            0  \n",
       "\n",
       "[5 rows x 121 columns]"
      ]
     },
     "execution_count": 8,
     "metadata": {},
     "output_type": "execute_result"
    }
   ],
   "source": [
    "df.head()"
   ]
  },
  {
   "cell_type": "code",
   "execution_count": 9,
   "id": "b3cc625a-ce6d-4364-9aac-73a232d0311b",
   "metadata": {
    "id": "b3cc625a-ce6d-4364-9aac-73a232d0311b",
    "outputId": "dd640d5d-6423-4277-8a86-160a1c89cf97"
   },
   "outputs": [
    {
     "data": {
      "text/plain": [
       "Entire home/apt    20083\n",
       "Private room       12646\n",
       "Shared room          142\n",
       "Hotel room           139\n",
       "Name: room_type, dtype: int64"
      ]
     },
     "execution_count": 9,
     "metadata": {},
     "output_type": "execute_result"
    }
   ],
   "source": [
    "df['room_type'].value_counts()"
   ]
  },
  {
   "cell_type": "markdown",
   "id": "59bfc1ca-887c-4e79-ae11-32e9f200fb14",
   "metadata": {
    "id": "59bfc1ca-887c-4e79-ae11-32e9f200fb14"
   },
   "source": [
    "## 1.1 Baseline Before Feature Engineering"
   ]
  },
  {
   "cell_type": "code",
   "execution_count": 10,
   "id": "adf22755-d982-4a4f-b9c2-c2735a9f1f29",
   "metadata": {
    "id": "adf22755-d982-4a4f-b9c2-c2735a9f1f29",
    "outputId": "fc425d19-1e13-4ffe-c979-6b4e5de200a6"
   },
   "outputs": [
    {
     "name": "stdout",
     "output_type": "stream",
     "text": [
      "Check accuracy at this step...\n"
     ]
    },
    {
     "name": "stderr",
     "output_type": "stream",
     "text": [
      "[Parallel(n_jobs=2)]: Using backend LokyBackend with 2 concurrent workers.\n",
      "[Parallel(n_jobs=2)]: Done   5 out of   5 | elapsed:    5.7s finished\n"
     ]
    },
    {
     "name": "stdout",
     "output_type": "stream",
     "text": [
      "Train R-sq 0.8698\n",
      "Train MSE: 0.0813\n",
      "\n",
      "CV R-sq 0.7841\n",
      "CV MSE: 0.1348\n",
      "\n",
      "Test R-sq 0.7954\n",
      "Test MSE: 0.1225\n",
      "\n",
      "Shape of X: (33010, 113)\n"
     ]
    }
   ],
   "source": [
    "check_impact(df=df)"
   ]
  },
  {
   "cell_type": "markdown",
   "id": "2df2543a-9ea3-4eaa-8591-b40b754837a2",
   "metadata": {
    "id": "2df2543a-9ea3-4eaa-8591-b40b754837a2",
    "jp-MarkdownHeadingCollapsed": true,
    "tags": []
   },
   "source": [
    "# 2. Feature Engineering"
   ]
  },
  {
   "cell_type": "markdown",
   "id": "d6bb4511-1e54-4433-b47f-93ecd80eb1a6",
   "metadata": {
    "id": "d6bb4511-1e54-4433-b47f-93ecd80eb1a6"
   },
   "source": [
    "## 2.1 Host Duration"
   ]
  },
  {
   "cell_type": "code",
   "execution_count": 11,
   "id": "3f72504c-4a94-43e9-ae31-189aafcb5366",
   "metadata": {
    "id": "3f72504c-4a94-43e9-ae31-189aafcb5366"
   },
   "outputs": [],
   "source": [
    "# Last scraped date = 2021-12-07 (7th Dec)\n",
    "df['host_duration'] = (pd.to_datetime('2021-12-10') - df['host_since']).dt.days"
   ]
  },
  {
   "cell_type": "code",
   "execution_count": 12,
   "id": "1fed5c80-90f5-4ead-8a5b-de602aa241d0",
   "metadata": {
    "id": "1fed5c80-90f5-4ead-8a5b-de602aa241d0",
    "outputId": "41eb6bf0-d3ce-4e49-86f7-9d23844de7b9"
   },
   "outputs": [
    {
     "data": {
      "image/png": "[encoded data removed]",
      "text/plain": [
       "<Figure size 432x288 with 1 Axes>"
      ]
     },
     "metadata": {
      "needs_background": "light"
     },
     "output_type": "display_data"
    }
   ],
   "source": [
    "sns.histplot(df['host_duration'])\n",
    "plt.show()"
   ]
  },
  {
   "cell_type": "code",
   "execution_count": 13,
   "id": "4544b46d-a572-4c43-b6c8-77f812432fed",
   "metadata": {
    "id": "4544b46d-a572-4c43-b6c8-77f812432fed",
    "outputId": "d4fec250-fbfc-46bc-c7a8-f6f4d23de315"
   },
   "outputs": [
    {
     "name": "stdout",
     "output_type": "stream",
     "text": [
      "Check accuracy at this step...\n"
     ]
    },
    {
     "name": "stderr",
     "output_type": "stream",
     "text": [
      "[Parallel(n_jobs=2)]: Using backend LokyBackend with 2 concurrent workers.\n",
      "[Parallel(n_jobs=2)]: Done   5 out of   5 | elapsed:    4.3s finished\n"
     ]
    },
    {
     "name": "stdout",
     "output_type": "stream",
     "text": [
      "Train R-sq 0.8701\n",
      "Train MSE: 0.0811\n",
      "\n",
      "CV R-sq 0.7861\n",
      "CV MSE: 0.1336\n",
      "\n",
      "Test R-sq 0.7954\n",
      "Test MSE: 0.1225\n",
      "\n",
      "Shape of X: (33010, 114)\n"
     ]
    }
   ],
   "source": [
    "check_impact(df=df)"
   ]
  },
  {
   "cell_type": "markdown",
   "id": "NL4KuH9r8MS9",
   "metadata": {
    "id": "NL4KuH9r8MS9"
   },
   "source": [
    "## 2.2 managed_property\n",
    "\n",
    "- Binary (0,1). 1 if properties managed by host id exceed the 95th percentile."
   ]
  },
  {
   "cell_type": "code",
   "execution_count": 14,
   "id": "D6UBXhAu8BUA",
   "metadata": {
    "id": "D6UBXhAu8BUA",
    "outputId": "d09f6820-e1e6-4812-e963-8e8ee704a721"
   },
   "outputs": [
    {
     "name": "stdout",
     "output_type": "stream",
     "text": [
      "Understand managed property percentiles beyond P75\n",
      "\n",
      "   percentile  rooms_threshold\n",
      "0        0.80              1.0\n",
      "1        0.85              2.0\n",
      "2        0.90              2.0\n",
      "3        0.95              3.0\n",
      "*****EXTRACT PROPERTIES MANAGED BY HOST ID *****\n"
     ]
    },
    {
     "data": {
      "text/html": [
       "<div>\n",
       "<style scoped>\n",
       "    .dataframe tbody tr th:only-of-type {\n",
       "        vertical-align: middle;\n",
       "    }\n",
       "\n",
       "    .dataframe tbody tr th {\n",
       "        vertical-align: top;\n",
       "    }\n",
       "\n",
       "    .dataframe thead th {\n",
       "        text-align: right;\n",
       "    }\n",
       "</style>\n",
       "<table border=\"1\" class=\"dataframe\">\n",
       "  <thead>\n",
       "    <tr style=\"text-align: right;\">\n",
       "      <th></th>\n",
       "      <th>properties</th>\n",
       "    </tr>\n",
       "    <tr>\n",
       "      <th>host_id</th>\n",
       "      <th></th>\n",
       "    </tr>\n",
       "  </thead>\n",
       "  <tbody>\n",
       "    <tr>\n",
       "      <th>4775</th>\n",
       "      <td>7</td>\n",
       "    </tr>\n",
       "    <tr>\n",
       "      <th>5653</th>\n",
       "      <td>1</td>\n",
       "    </tr>\n",
       "    <tr>\n",
       "      <th>6774</th>\n",
       "      <td>3</td>\n",
       "    </tr>\n",
       "    <tr>\n",
       "      <th>9323</th>\n",
       "      <td>1</td>\n",
       "    </tr>\n",
       "    <tr>\n",
       "      <th>10657</th>\n",
       "      <td>2</td>\n",
       "    </tr>\n",
       "    <tr>\n",
       "      <th>...</th>\n",
       "      <td>...</td>\n",
       "    </tr>\n",
       "    <tr>\n",
       "      <th>433334823</th>\n",
       "      <td>1</td>\n",
       "    </tr>\n",
       "    <tr>\n",
       "      <th>433435234</th>\n",
       "      <td>2</td>\n",
       "    </tr>\n",
       "    <tr>\n",
       "      <th>433572694</th>\n",
       "      <td>1</td>\n",
       "    </tr>\n",
       "    <tr>\n",
       "      <th>433837373</th>\n",
       "      <td>1</td>\n",
       "    </tr>\n",
       "    <tr>\n",
       "      <th>434015315</th>\n",
       "      <td>2</td>\n",
       "    </tr>\n",
       "  </tbody>\n",
       "</table>\n",
       "<p>21772 rows × 1 columns</p>\n",
       "</div>"
      ],
      "text/plain": [
       "           properties\n",
       "host_id              \n",
       "4775                7\n",
       "5653                1\n",
       "6774                3\n",
       "9323                1\n",
       "10657               2\n",
       "...               ...\n",
       "433334823           1\n",
       "433435234           2\n",
       "433572694           1\n",
       "433837373           1\n",
       "434015315           2\n",
       "\n",
       "[21772 rows x 1 columns]"
      ]
     },
     "execution_count": 14,
     "metadata": {},
     "output_type": "execute_result"
    }
   ],
   "source": [
    "# Understand how many properties are potentially property managed\n",
    "\n",
    "percentiles=[0.80,0.85,0.90,0.95]\n",
    "percentile_rooms=[]\n",
    "room_above=[]\n",
    "\n",
    "for p in percentiles:\n",
    "   percentile_rooms.append(df.host_id.value_counts().quantile(p))\n",
    "\n",
    "print('Understand managed property percentiles beyond P75\\n')\n",
    "print(pd.DataFrame({'percentile':percentiles,'rooms_threshold':percentile_rooms}))\n",
    "\n",
    "property_count=pd.DataFrame(df.groupby(['host_id'])['host_id'].count())\n",
    "property_count.columns=['properties']\n",
    "print('*****EXTRACT PROPERTIES MANAGED BY HOST ID *****')\n",
    "property_count"
   ]
  },
  {
   "cell_type": "code",
   "execution_count": 15,
   "id": "sYrGpc78Xb2u",
   "metadata": {
    "id": "sYrGpc78Xb2u",
    "outputId": "c2bcd085-9da5-40c8-8366-c1722876ed96"
   },
   "outputs": [
    {
     "data": {
      "text/plain": [
       "0    22496\n",
       "1    10514\n",
       "Name: prop_managed, dtype: int64"
      ]
     },
     "execution_count": 15,
     "metadata": {},
     "output_type": "execute_result"
    }
   ],
   "source": [
    "property_count['prop_managed']=property_count['properties'].map(lambda x: 1 if x>=percentile_rooms[3] else 0)\n",
    "df=pd.merge(df,property_count,on='host_id',how='inner')\n",
    "df.prop_managed.value_counts()"
   ]
  },
  {
   "cell_type": "code",
   "execution_count": 16,
   "id": "af639fa3-0be8-43c0-b8d2-9d8e04323d10",
   "metadata": {
    "id": "af639fa3-0be8-43c0-b8d2-9d8e04323d10",
    "outputId": "f4322561-212a-4953-e150-55cbeff3f1a2"
   },
   "outputs": [
    {
     "name": "stdout",
     "output_type": "stream",
     "text": [
      "Check accuracy at this step...\n"
     ]
    },
    {
     "name": "stderr",
     "output_type": "stream",
     "text": [
      "[Parallel(n_jobs=2)]: Using backend LokyBackend with 2 concurrent workers.\n",
      "[Parallel(n_jobs=2)]: Done   5 out of   5 | elapsed:    4.2s finished\n"
     ]
    },
    {
     "name": "stdout",
     "output_type": "stream",
     "text": [
      "Train R-sq 0.8743\n",
      "Train MSE: 0.0775\n",
      "\n",
      "CV R-sq 0.7879\n",
      "CV MSE: 0.1309\n",
      "\n",
      "Test R-sq 0.7871\n",
      "Test MSE: 0.1336\n",
      "\n",
      "Shape of X: (33010, 116)\n"
     ]
    }
   ],
   "source": [
    "check_impact(df=df)"
   ]
  },
  {
   "cell_type": "markdown",
   "id": "LL3VvIjn8Vr_",
   "metadata": {
    "id": "LL3VvIjn8Vr_"
   },
   "source": [
    "## 2.3 Occupancy Rate\n",
    "\n",
    "- short term proxy: avail30\n",
    "- mid term proxy: avail60-90\n",
    "- long term proxy: avail365"
   ]
  },
  {
   "cell_type": "code",
   "execution_count": 17,
   "id": "eFjbhhln8VJH",
   "metadata": {
    "id": "eFjbhhln8VJH",
    "outputId": "c4a7ea4c-b423-418d-9a48-3e8a896aeed7"
   },
   "outputs": [
    {
     "data": {
      "text/html": [
       "<div>\n",
       "<style scoped>\n",
       "    .dataframe tbody tr th:only-of-type {\n",
       "        vertical-align: middle;\n",
       "    }\n",
       "\n",
       "    .dataframe tbody tr th {\n",
       "        vertical-align: top;\n",
       "    }\n",
       "\n",
       "    .dataframe thead th {\n",
       "        text-align: right;\n",
       "    }\n",
       "</style>\n",
       "<table border=\"1\" class=\"dataframe\">\n",
       "  <thead>\n",
       "    <tr style=\"text-align: right;\">\n",
       "      <th></th>\n",
       "      <th>availability_30</th>\n",
       "      <th>availability_60</th>\n",
       "      <th>availability_90</th>\n",
       "      <th>availability_365</th>\n",
       "    </tr>\n",
       "  </thead>\n",
       "  <tbody>\n",
       "    <tr>\n",
       "      <th>count</th>\n",
       "      <td>33010.000000</td>\n",
       "      <td>33010.000000</td>\n",
       "      <td>33010.000000</td>\n",
       "      <td>33010.000000</td>\n",
       "    </tr>\n",
       "    <tr>\n",
       "      <th>mean</th>\n",
       "      <td>6.882187</td>\n",
       "      <td>18.561527</td>\n",
       "      <td>31.615177</td>\n",
       "      <td>121.371191</td>\n",
       "    </tr>\n",
       "    <tr>\n",
       "      <th>std</th>\n",
       "      <td>9.251464</td>\n",
       "      <td>20.881292</td>\n",
       "      <td>33.341793</td>\n",
       "      <td>134.103803</td>\n",
       "    </tr>\n",
       "    <tr>\n",
       "      <th>min</th>\n",
       "      <td>0.000000</td>\n",
       "      <td>0.000000</td>\n",
       "      <td>0.000000</td>\n",
       "      <td>0.000000</td>\n",
       "    </tr>\n",
       "    <tr>\n",
       "      <th>25%</th>\n",
       "      <td>0.000000</td>\n",
       "      <td>0.000000</td>\n",
       "      <td>0.000000</td>\n",
       "      <td>0.000000</td>\n",
       "    </tr>\n",
       "    <tr>\n",
       "      <th>50%</th>\n",
       "      <td>1.000000</td>\n",
       "      <td>7.000000</td>\n",
       "      <td>17.000000</td>\n",
       "      <td>66.000000</td>\n",
       "    </tr>\n",
       "    <tr>\n",
       "      <th>75%</th>\n",
       "      <td>12.000000</td>\n",
       "      <td>37.000000</td>\n",
       "      <td>65.000000</td>\n",
       "      <td>248.000000</td>\n",
       "    </tr>\n",
       "    <tr>\n",
       "      <th>max</th>\n",
       "      <td>30.000000</td>\n",
       "      <td>60.000000</td>\n",
       "      <td>90.000000</td>\n",
       "      <td>365.000000</td>\n",
       "    </tr>\n",
       "  </tbody>\n",
       "</table>\n",
       "</div>"
      ],
      "text/plain": [
       "       availability_30  availability_60  availability_90  availability_365\n",
       "count     33010.000000     33010.000000     33010.000000      33010.000000\n",
       "mean          6.882187        18.561527        31.615177        121.371191\n",
       "std           9.251464        20.881292        33.341793        134.103803\n",
       "min           0.000000         0.000000         0.000000          0.000000\n",
       "25%           0.000000         0.000000         0.000000          0.000000\n",
       "50%           1.000000         7.000000        17.000000         66.000000\n",
       "75%          12.000000        37.000000        65.000000        248.000000\n",
       "max          30.000000        60.000000        90.000000        365.000000"
      ]
     },
     "execution_count": 17,
     "metadata": {},
     "output_type": "execute_result"
    }
   ],
   "source": [
    "cols=['availability_30','availability_60', 'availability_90','availability_365']\n",
    "df[cols].describe()"
   ]
  },
  {
   "cell_type": "code",
   "execution_count": 18,
   "id": "fXe5XR0M_aA6",
   "metadata": {
    "id": "fXe5XR0M_aA6"
   },
   "outputs": [],
   "source": [
    "df['occ_30D']=1-round(df.availability_30/30,2)\n",
    "df['occ_6090D']=((1-round(df.availability_60/60,2))+(1-round(df.availability_90/90,2)))/2\n",
    "df['occ_365']=1-round(df.availability_365/365,2)\n",
    "\n",
    "df=df.drop(cols,axis=1) # do not drop"
   ]
  },
  {
   "cell_type": "code",
   "execution_count": 19,
   "id": "dee9bc75-4327-43aa-8f49-42fd4ba0cc2e",
   "metadata": {
    "id": "dee9bc75-4327-43aa-8f49-42fd4ba0cc2e",
    "outputId": "a1ebc58c-0f52-4728-a474-cf868fe9e17b"
   },
   "outputs": [
    {
     "data": {
      "text/plain": [
       "Index(['id', 'host_id', 'host_since', 'host_is_superhost',\n",
       "       'host_total_listings_count', 'host_has_profile_pic',\n",
       "       'host_identity_verified', 'neighbourhood_group_cleansed', 'latitude',\n",
       "       'longitude',\n",
       "       ...\n",
       "       'amenities_private fenced garden or backyard',\n",
       "       'amenities_building staff',\n",
       "       'amenities_paid street parking off premises',\n",
       "       'amenities_nespresso machine', 'host_duration', 'properties',\n",
       "       'prop_managed', 'occ_30D', 'occ_6090D', 'occ_365'],\n",
       "      dtype='object', length=123)"
      ]
     },
     "execution_count": 19,
     "metadata": {},
     "output_type": "execute_result"
    }
   ],
   "source": [
    "df.columns"
   ]
  },
  {
   "cell_type": "code",
   "execution_count": 20,
   "id": "ce2c875d-f570-4413-8c66-9cf207b899ee",
   "metadata": {
    "id": "ce2c875d-f570-4413-8c66-9cf207b899ee",
    "outputId": "162e9a58-7434-4c89-d833-4b4e2e9d8345"
   },
   "outputs": [
    {
     "name": "stdout",
     "output_type": "stream",
     "text": [
      "Check accuracy at this step...\n"
     ]
    },
    {
     "name": "stderr",
     "output_type": "stream",
     "text": [
      "[Parallel(n_jobs=2)]: Using backend LokyBackend with 2 concurrent workers.\n",
      "[Parallel(n_jobs=2)]: Done   5 out of   5 | elapsed:    4.3s finished\n"
     ]
    },
    {
     "name": "stdout",
     "output_type": "stream",
     "text": [
      "Train R-sq 0.873\n",
      "Train MSE: 0.0783\n",
      "\n",
      "CV R-sq 0.7854\n",
      "CV MSE: 0.1325\n",
      "\n",
      "Test R-sq 0.7872\n",
      "Test MSE: 0.1335\n",
      "\n",
      "Shape of X: (33010, 115)\n"
     ]
    }
   ],
   "source": [
    "check_impact(df=df)"
   ]
  },
  {
   "cell_type": "markdown",
   "id": "612jmldhWpUF",
   "metadata": {
    "id": "612jmldhWpUF"
   },
   "source": [
    "## 2.4 Location Variables"
   ]
  },
  {
   "cell_type": "code",
   "execution_count": 21,
   "id": "d9irpfFJWwxk",
   "metadata": {
    "id": "d9irpfFJWwxk",
    "outputId": "d3d5833a-f134-43c8-f989-bc4a151cb74e"
   },
   "outputs": [
    {
     "data": {
      "text/html": [
       "<div>\n",
       "<style scoped>\n",
       "    .dataframe tbody tr th:only-of-type {\n",
       "        vertical-align: middle;\n",
       "    }\n",
       "\n",
       "    .dataframe tbody tr th {\n",
       "        vertical-align: top;\n",
       "    }\n",
       "\n",
       "    .dataframe thead th {\n",
       "        text-align: right;\n",
       "    }\n",
       "</style>\n",
       "<table border=\"1\" class=\"dataframe\">\n",
       "  <thead>\n",
       "    <tr style=\"text-align: right;\">\n",
       "      <th></th>\n",
       "      <th>id</th>\n",
       "      <th>host_id</th>\n",
       "      <th>host_since</th>\n",
       "      <th>host_is_superhost</th>\n",
       "      <th>host_total_listings_count</th>\n",
       "      <th>host_has_profile_pic</th>\n",
       "      <th>host_identity_verified</th>\n",
       "      <th>neighbourhood_group_cleansed</th>\n",
       "      <th>latitude</th>\n",
       "      <th>longitude</th>\n",
       "      <th>...</th>\n",
       "      <th>amenities_nespresso machine</th>\n",
       "      <th>host_duration</th>\n",
       "      <th>properties</th>\n",
       "      <th>prop_managed</th>\n",
       "      <th>occ_30D</th>\n",
       "      <th>occ_6090D</th>\n",
       "      <th>occ_365</th>\n",
       "      <th>station</th>\n",
       "      <th>station_dist</th>\n",
       "      <th>walking_distance</th>\n",
       "    </tr>\n",
       "  </thead>\n",
       "  <tbody>\n",
       "    <tr>\n",
       "      <th>0</th>\n",
       "      <td>15400</td>\n",
       "      <td>60302</td>\n",
       "      <td>2020-03-16</td>\n",
       "      <td>0</td>\n",
       "      <td>1.0</td>\n",
       "      <td>1</td>\n",
       "      <td>1</td>\n",
       "      <td>0.0</td>\n",
       "      <td>51.48780</td>\n",
       "      <td>-0.16813</td>\n",
       "      <td>...</td>\n",
       "      <td>0</td>\n",
       "      <td>634</td>\n",
       "      <td>1</td>\n",
       "      <td>0</td>\n",
       "      <td>1.0</td>\n",
       "      <td>1.000</td>\n",
       "      <td>0.99</td>\n",
       "      <td>South Kensington</td>\n",
       "      <td>805.406363</td>\n",
       "      <td>0.0</td>\n",
       "    </tr>\n",
       "    <tr>\n",
       "      <th>1</th>\n",
       "      <td>25123</td>\n",
       "      <td>103583</td>\n",
       "      <td>2020-03-15</td>\n",
       "      <td>0</td>\n",
       "      <td>3.0</td>\n",
       "      <td>1</td>\n",
       "      <td>1</td>\n",
       "      <td>0.0</td>\n",
       "      <td>51.57438</td>\n",
       "      <td>-0.21081</td>\n",
       "      <td>...</td>\n",
       "      <td>0</td>\n",
       "      <td>635</td>\n",
       "      <td>3</td>\n",
       "      <td>1</td>\n",
       "      <td>1.0</td>\n",
       "      <td>1.000</td>\n",
       "      <td>1.00</td>\n",
       "      <td>Brent Cross</td>\n",
       "      <td>302.665825</td>\n",
       "      <td>1.0</td>\n",
       "    </tr>\n",
       "    <tr>\n",
       "      <th>2</th>\n",
       "      <td>41311</td>\n",
       "      <td>103583</td>\n",
       "      <td>2020-01-18</td>\n",
       "      <td>0</td>\n",
       "      <td>3.0</td>\n",
       "      <td>1</td>\n",
       "      <td>1</td>\n",
       "      <td>0.0</td>\n",
       "      <td>51.57400</td>\n",
       "      <td>-0.21058</td>\n",
       "      <td>...</td>\n",
       "      <td>0</td>\n",
       "      <td>692</td>\n",
       "      <td>3</td>\n",
       "      <td>1</td>\n",
       "      <td>0.9</td>\n",
       "      <td>0.960</td>\n",
       "      <td>0.99</td>\n",
       "      <td>Brent Cross</td>\n",
       "      <td>346.564965</td>\n",
       "      <td>1.0</td>\n",
       "    </tr>\n",
       "    <tr>\n",
       "      <th>3</th>\n",
       "      <td>19516454</td>\n",
       "      <td>103583</td>\n",
       "      <td>2020-03-20</td>\n",
       "      <td>0</td>\n",
       "      <td>3.0</td>\n",
       "      <td>1</td>\n",
       "      <td>1</td>\n",
       "      <td>0.0</td>\n",
       "      <td>51.57466</td>\n",
       "      <td>-0.20916</td>\n",
       "      <td>...</td>\n",
       "      <td>0</td>\n",
       "      <td>630</td>\n",
       "      <td>3</td>\n",
       "      <td>1</td>\n",
       "      <td>1.0</td>\n",
       "      <td>1.000</td>\n",
       "      <td>1.00</td>\n",
       "      <td>Brent Cross</td>\n",
       "      <td>361.025714</td>\n",
       "      <td>1.0</td>\n",
       "    </tr>\n",
       "    <tr>\n",
       "      <th>4</th>\n",
       "      <td>38610</td>\n",
       "      <td>165579</td>\n",
       "      <td>2020-08-12</td>\n",
       "      <td>1</td>\n",
       "      <td>2.0</td>\n",
       "      <td>1</td>\n",
       "      <td>1</td>\n",
       "      <td>0.0</td>\n",
       "      <td>51.50701</td>\n",
       "      <td>-0.23362</td>\n",
       "      <td>...</td>\n",
       "      <td>0</td>\n",
       "      <td>485</td>\n",
       "      <td>1</td>\n",
       "      <td>0</td>\n",
       "      <td>0.8</td>\n",
       "      <td>0.335</td>\n",
       "      <td>0.07</td>\n",
       "      <td>Shepherds Bush Market</td>\n",
       "      <td>449.743591</td>\n",
       "      <td>3.0</td>\n",
       "    </tr>\n",
       "  </tbody>\n",
       "</table>\n",
       "<p>5 rows × 126 columns</p>\n",
       "</div>"
      ],
      "text/plain": [
       "         id  host_id host_since  host_is_superhost  host_total_listings_count  \\\n",
       "0     15400    60302 2020-03-16                  0                        1.0   \n",
       "1     25123   103583 2020-03-15                  0                        3.0   \n",
       "2     41311   103583 2020-01-18                  0                        3.0   \n",
       "3  19516454   103583 2020-03-20                  0                        3.0   \n",
       "4     38610   165579 2020-08-12                  1                        2.0   \n",
       "\n",
       "   host_has_profile_pic  host_identity_verified  neighbourhood_group_cleansed  \\\n",
       "0                     1                       1                           0.0   \n",
       "1                     1                       1                           0.0   \n",
       "2                     1                       1                           0.0   \n",
       "3                     1                       1                           0.0   \n",
       "4                     1                       1                           0.0   \n",
       "\n",
       "   latitude  longitude  ... amenities_nespresso machine host_duration  \\\n",
       "0  51.48780   -0.16813  ...                           0           634   \n",
       "1  51.57438   -0.21081  ...                           0           635   \n",
       "2  51.57400   -0.21058  ...                           0           692   \n",
       "3  51.57466   -0.20916  ...                           0           630   \n",
       "4  51.50701   -0.23362  ...                           0           485   \n",
       "\n",
       "   properties  prop_managed  occ_30D  occ_6090D  occ_365  \\\n",
       "0           1             0      1.0      1.000     0.99   \n",
       "1           3             1      1.0      1.000     1.00   \n",
       "2           3             1      0.9      0.960     0.99   \n",
       "3           3             1      1.0      1.000     1.00   \n",
       "4           1             0      0.8      0.335     0.07   \n",
       "\n",
       "                 station  station_dist  walking_distance  \n",
       "0       South Kensington    805.406363               0.0  \n",
       "1            Brent Cross    302.665825               1.0  \n",
       "2            Brent Cross    346.564965               1.0  \n",
       "3            Brent Cross    361.025714               1.0  \n",
       "4  Shepherds Bush Market    449.743591               3.0  \n",
       "\n",
       "[5 rows x 126 columns]"
      ]
     },
     "execution_count": 21,
     "metadata": {},
     "output_type": "execute_result"
    }
   ],
   "source": [
    "# Load computed location features\n",
    "location_features = ['station', 'station_dist','walking_distance']\n",
    "df = df.merge(pd.read_csv('computed_features/london_nearest_tube.csv')[['id']+location_features],left_on='id', right_on='id',how='left')\n",
    "df.head()"
   ]
  },
  {
   "cell_type": "markdown",
   "id": "e6dbfe5c-e700-4844-bc9e-c630bd53949b",
   "metadata": {
    "id": "e6dbfe5c-e700-4844-bc9e-c630bd53949b"
   },
   "source": [
    "## 2.5 Sentiment"
   ]
  },
  {
   "cell_type": "code",
   "execution_count": 22,
   "id": "d81a39ef-a695-45a7-a9a4-9452038a4c86",
   "metadata": {
    "id": "d81a39ef-a695-45a7-a9a4-9452038a4c86",
    "outputId": "5ecbf465-b597-49fd-d4aa-85f54a1d56e9"
   },
   "outputs": [
    {
     "data": {
      "text/html": [
       "<div>\n",
       "<style scoped>\n",
       "    .dataframe tbody tr th:only-of-type {\n",
       "        vertical-align: middle;\n",
       "    }\n",
       "\n",
       "    .dataframe tbody tr th {\n",
       "        vertical-align: top;\n",
       "    }\n",
       "\n",
       "    .dataframe thead th {\n",
       "        text-align: right;\n",
       "    }\n",
       "</style>\n",
       "<table border=\"1\" class=\"dataframe\">\n",
       "  <thead>\n",
       "    <tr style=\"text-align: right;\">\n",
       "      <th></th>\n",
       "      <th>id_x</th>\n",
       "      <th>host_id</th>\n",
       "      <th>host_since</th>\n",
       "      <th>host_is_superhost</th>\n",
       "      <th>host_total_listings_count</th>\n",
       "      <th>host_has_profile_pic</th>\n",
       "      <th>host_identity_verified</th>\n",
       "      <th>neighbourhood_group_cleansed</th>\n",
       "      <th>latitude</th>\n",
       "      <th>longitude</th>\n",
       "      <th>...</th>\n",
       "      <th>walking_distance</th>\n",
       "      <th>Unnamed: 0</th>\n",
       "      <th>id_y</th>\n",
       "      <th>reviewer_id</th>\n",
       "      <th>comments_len</th>\n",
       "      <th>key_reviewer</th>\n",
       "      <th>negative</th>\n",
       "      <th>neutral</th>\n",
       "      <th>positive</th>\n",
       "      <th>compound</th>\n",
       "    </tr>\n",
       "  </thead>\n",
       "  <tbody>\n",
       "    <tr>\n",
       "      <th>0</th>\n",
       "      <td>15400</td>\n",
       "      <td>60302</td>\n",
       "      <td>2020-03-16</td>\n",
       "      <td>0</td>\n",
       "      <td>1.0</td>\n",
       "      <td>1</td>\n",
       "      <td>1</td>\n",
       "      <td>0.0</td>\n",
       "      <td>51.48780</td>\n",
       "      <td>-0.16813</td>\n",
       "      <td>...</td>\n",
       "      <td>0.0</td>\n",
       "      <td>1.0</td>\n",
       "      <td>8.029375e+07</td>\n",
       "      <td>2.695406e+07</td>\n",
       "      <td>78.062500</td>\n",
       "      <td>0.075000</td>\n",
       "      <td>0.016000</td>\n",
       "      <td>0.682400</td>\n",
       "      <td>0.301550</td>\n",
       "      <td>0.900261</td>\n",
       "    </tr>\n",
       "    <tr>\n",
       "      <th>1</th>\n",
       "      <td>25123</td>\n",
       "      <td>103583</td>\n",
       "      <td>2020-03-15</td>\n",
       "      <td>0</td>\n",
       "      <td>3.0</td>\n",
       "      <td>1</td>\n",
       "      <td>1</td>\n",
       "      <td>0.0</td>\n",
       "      <td>51.57438</td>\n",
       "      <td>-0.21081</td>\n",
       "      <td>...</td>\n",
       "      <td>1.0</td>\n",
       "      <td>3.0</td>\n",
       "      <td>8.898858e+07</td>\n",
       "      <td>3.434179e+07</td>\n",
       "      <td>61.970588</td>\n",
       "      <td>0.127451</td>\n",
       "      <td>0.011020</td>\n",
       "      <td>0.607324</td>\n",
       "      <td>0.381667</td>\n",
       "      <td>0.941062</td>\n",
       "    </tr>\n",
       "    <tr>\n",
       "      <th>2</th>\n",
       "      <td>41311</td>\n",
       "      <td>103583</td>\n",
       "      <td>2020-01-18</td>\n",
       "      <td>0</td>\n",
       "      <td>3.0</td>\n",
       "      <td>1</td>\n",
       "      <td>1</td>\n",
       "      <td>0.0</td>\n",
       "      <td>51.57400</td>\n",
       "      <td>-0.21058</td>\n",
       "      <td>...</td>\n",
       "      <td>1.0</td>\n",
       "      <td>10.0</td>\n",
       "      <td>1.066726e+08</td>\n",
       "      <td>3.536433e+07</td>\n",
       "      <td>71.552239</td>\n",
       "      <td>0.074627</td>\n",
       "      <td>0.007433</td>\n",
       "      <td>0.627463</td>\n",
       "      <td>0.365134</td>\n",
       "      <td>0.961803</td>\n",
       "    </tr>\n",
       "    <tr>\n",
       "      <th>3</th>\n",
       "      <td>19516454</td>\n",
       "      <td>103583</td>\n",
       "      <td>2020-03-20</td>\n",
       "      <td>0</td>\n",
       "      <td>3.0</td>\n",
       "      <td>1</td>\n",
       "      <td>1</td>\n",
       "      <td>0.0</td>\n",
       "      <td>51.57466</td>\n",
       "      <td>-0.20916</td>\n",
       "      <td>...</td>\n",
       "      <td>1.0</td>\n",
       "      <td>16621.0</td>\n",
       "      <td>4.596262e+08</td>\n",
       "      <td>1.034197e+08</td>\n",
       "      <td>44.500000</td>\n",
       "      <td>0.136364</td>\n",
       "      <td>0.003682</td>\n",
       "      <td>0.558909</td>\n",
       "      <td>0.437409</td>\n",
       "      <td>0.953786</td>\n",
       "    </tr>\n",
       "    <tr>\n",
       "      <th>4</th>\n",
       "      <td>38610</td>\n",
       "      <td>165579</td>\n",
       "      <td>2020-08-12</td>\n",
       "      <td>1</td>\n",
       "      <td>2.0</td>\n",
       "      <td>1</td>\n",
       "      <td>1</td>\n",
       "      <td>0.0</td>\n",
       "      <td>51.50701</td>\n",
       "      <td>-0.23362</td>\n",
       "      <td>...</td>\n",
       "      <td>3.0</td>\n",
       "      <td>7.0</td>\n",
       "      <td>3.235218e+08</td>\n",
       "      <td>8.901368e+07</td>\n",
       "      <td>86.068966</td>\n",
       "      <td>0.000000</td>\n",
       "      <td>0.007931</td>\n",
       "      <td>0.707483</td>\n",
       "      <td>0.284621</td>\n",
       "      <td>0.927310</td>\n",
       "    </tr>\n",
       "  </tbody>\n",
       "</table>\n",
       "<p>5 rows × 135 columns</p>\n",
       "</div>"
      ],
      "text/plain": [
       "       id_x  host_id host_since  host_is_superhost  host_total_listings_count  \\\n",
       "0     15400    60302 2020-03-16                  0                        1.0   \n",
       "1     25123   103583 2020-03-15                  0                        3.0   \n",
       "2     41311   103583 2020-01-18                  0                        3.0   \n",
       "3  19516454   103583 2020-03-20                  0                        3.0   \n",
       "4     38610   165579 2020-08-12                  1                        2.0   \n",
       "\n",
       "   host_has_profile_pic  host_identity_verified  neighbourhood_group_cleansed  \\\n",
       "0                     1                       1                           0.0   \n",
       "1                     1                       1                           0.0   \n",
       "2                     1                       1                           0.0   \n",
       "3                     1                       1                           0.0   \n",
       "4                     1                       1                           0.0   \n",
       "\n",
       "   latitude  longitude  ... walking_distance Unnamed: 0          id_y  \\\n",
       "0  51.48780   -0.16813  ...              0.0        1.0  8.029375e+07   \n",
       "1  51.57438   -0.21081  ...              1.0        3.0  8.898858e+07   \n",
       "2  51.57400   -0.21058  ...              1.0       10.0  1.066726e+08   \n",
       "3  51.57466   -0.20916  ...              1.0    16621.0  4.596262e+08   \n",
       "4  51.50701   -0.23362  ...              3.0        7.0  3.235218e+08   \n",
       "\n",
       "    reviewer_id  comments_len  key_reviewer  negative   neutral  positive  \\\n",
       "0  2.695406e+07     78.062500      0.075000  0.016000  0.682400  0.301550   \n",
       "1  3.434179e+07     61.970588      0.127451  0.011020  0.607324  0.381667   \n",
       "2  3.536433e+07     71.552239      0.074627  0.007433  0.627463  0.365134   \n",
       "3  1.034197e+08     44.500000      0.136364  0.003682  0.558909  0.437409   \n",
       "4  8.901368e+07     86.068966      0.000000  0.007931  0.707483  0.284621   \n",
       "\n",
       "   compound  \n",
       "0  0.900261  \n",
       "1  0.941062  \n",
       "2  0.961803  \n",
       "3  0.953786  \n",
       "4  0.927310  \n",
       "\n",
       "[5 rows x 135 columns]"
      ]
     },
     "execution_count": 22,
     "metadata": {},
     "output_type": "execute_result"
    }
   ],
   "source": [
    "############## Add sentiment features #################\n",
    "import pandas as pd\n",
    "df_sentiment = pd.read_csv('computed_features/nc_eng_with_sent.csv')\n",
    "# df_sentiment = df_sentiment.groupby('listing_id').mean()\n",
    "# df_sentiment = df_sentiment.reset_index()\n",
    "df=pd.merge(df,df_sentiment,left_on='id', right_on='listing_id',how='left')\n",
    "df = df.drop(['listing_id'], axis = 1)\n",
    "df = df.fillna(df.mean())\n",
    "df.head()"
   ]
  },
  {
   "cell_type": "markdown",
   "id": "0257fe2b",
   "metadata": {},
   "source": [
    "# 3. Feature selection"
   ]
  },
  {
   "cell_type": "code",
   "execution_count": 23,
   "id": "0bb82670",
   "metadata": {},
   "outputs": [],
   "source": [
    "from lightgbm import LGBMRegressor\n",
    "from lightgbm import plot_importance\n",
    "from sklearn.preprocessing import LabelEncoder\n",
    "\n",
    "\n",
    "def regression_scores(model, X_train, X_test, y_train, y_test):\n",
    "    \n",
    "     # Train metrics\n",
    "    pred_train= model.predict(X_train)\n",
    "    train_MSE = mean_squared_error(y_train, pred_train)\n",
    "    \n",
    "    # Cross validated metrics\n",
    "    cv_score = cross_validate(model, X_train, y_train, scoring=['r2', 'neg_mean_squared_error'], verbose=0, cv = 5) \n",
    "    \n",
    "    \n",
    "    print('Train R-sq', round(model.score(X_train, y_train),4))\n",
    "    print('Train MSE:', round(train_MSE,4))\n",
    "    print('')\n",
    "    print('CV R-sq', round(np.mean(cv_score['test_r2']),4))\n",
    "    print('CV MSE:', round(-np.mean(cv_score['test_neg_mean_squared_error']),4))\n",
    "    print('')\n",
    "\n",
    "def run_model(X, y):\n",
    "    \n",
    "    random_state = 42\n",
    "    \n",
    "    # Automatic label encoding\n",
    "    le = LabelEncoder()\n",
    "    for column_name in X.columns:\n",
    "        if X[column_name].dtype == object:\n",
    "            X[column_name] = le.fit_transform(X[column_name])\n",
    "        else:\n",
    "            pass\n",
    "\n",
    "    # Train-Test split\n",
    "    X_train, X_test, y_train, y_test = train_test_split(X, y, test_size=0.2, random_state=random_state)\n",
    "\n",
    "    \n",
    "    # Train Model\n",
    "    rf = RandomForestRegressor(n_jobs = -1, random_state = random_state)\n",
    "    \n",
    "    # Fit Model\n",
    "    rf.fit(X_train, y_train)\n",
    "\n",
    "    # Score model on test set\n",
    "    regression_scores(rf, X_train = X_train, X_test = X_test, y_train = y_train, y_test = y_test)"
   ]
  },
  {
   "cell_type": "code",
   "execution_count": 24,
   "id": "00c7b64e",
   "metadata": {},
   "outputs": [],
   "source": [
    "## LGBMReressor\n",
    "\n",
    "from numpy import sort\n",
    "from sklearn.feature_selection import SelectFromModel\n",
    "#Get a function to generally see feature importance\n",
    "def run_lgbm(X,y):\n",
    "    random_state = 42\n",
    "    \n",
    "     # Train-Test split\n",
    "    X_train, X_test, y_train, y_test = train_test_split(X, y, test_size=0.2, random_state=random_state)\n",
    "    \n",
    "    lgbm = LGBMRegressor(n_jobs=-1,random_state=random_state)\n",
    "    lgbm.fit(X_train,y_train)\n",
    "    print('Scores run on full number of features')\n",
    "    regression_scores(lgbm, X_train = X_train, X_test = X_test, y_train = y_train, y_test = y_test)\n",
    "\n",
    "    # plot feature importance\n",
    "    # choice of gain, weighted or cover\n",
    "    # use gain; weighted might give too much bias to numerical or high cardinality. \n",
    "    # this post explains it well:\n",
    "    # https://towardsdatascience.com/be-careful-when-interpreting-your-features-importance-in-xgboost-6e16132588e7\n",
    "    plot_importance(lgbm, importance_type=\"gain\")\n",
    "    plt.show()\n",
    "    \n",
    "    ## From prof's sample code\n",
    "    # The following block of codes will try to use importance score for features selection\n",
    "\n",
    "    # Fit model using each importance as a threshold\n",
    "    thresholds = sort(lgbm.feature_importances_) # sort the importance score\n",
    "\n",
    "    # select feaures by using importance score as threshold\n",
    "    for thresh in thresholds:\n",
    "        # select features using threshold\n",
    "        selection = SelectFromModel(lgbm, threshold=thresh, prefit=True)\n",
    "        select_X_train = selection.transform(X_train)\n",
    "        # train model\n",
    "        selection_model = LGBMRegressor(n_jobs=-1, random_state = 42)\n",
    "        selection_model.fit(select_X_train, y_train)\n",
    "        # eval model\n",
    "        cv_score = cross_validate(selection_model, select_X_train, y_train, scoring=['r2', 'neg_mean_squared_error'], verbose=0, cv = 5)\n",
    "        select_X_test = selection.transform(X_test)\n",
    "        y_pred = selection_model.predict(select_X_test)\n",
    "        predictions = [round(value) for value in y_pred]\n",
    "        #test_MSE = mean_squared_error(y_train, y_pred)\n",
    "        #print('CV R-sq', round(np.mean(cv_score['test_r2']),4))\n",
    "        #print('CV MSE:', round(-np.mean(cv_score['test_neg_mean_squared_error']),4))\n",
    "        print(\"Thresh=%.3f, n=%d, CV MSE: %.2f\" % (thresh, select_X_train.shape[1], round(-np.mean(cv_score['test_neg_mean_squared_error']),4)))\n",
    "    \n",
    "    return selection"
   ]
  },
  {
   "cell_type": "code",
   "execution_count": 52,
   "id": "c87e2a19",
   "metadata": {},
   "outputs": [],
   "source": [
    "## modify the func to run at threshold = xx\n",
    "import eli5\n",
    "from eli5.sklearn import PermutationImportance\n",
    "\n",
    "## LGBMReressor\n",
    "from lightgbm import LGBMRegressor\n",
    "from lightgbm import plot_importance\n",
    "\n",
    "from numpy import sort\n",
    "from sklearn.feature_selection import SelectFromModel\n",
    "\n",
    "#Re-write function to accept threshold value and also output the test MSE on the selected subset\n",
    "def thresh_run_lgbm(X,y,thresh):\n",
    "    random_state = 42\n",
    "    \n",
    "     # Automatic label encoding\n",
    "    le = LabelEncoder()\n",
    "    for column_name in X.columns:\n",
    "        if X[column_name].dtype == object:\n",
    "            X[column_name] = le.fit_transform(X[column_name])\n",
    "        else:\n",
    "            pass\n",
    "        \n",
    "     # Train-Test split\n",
    "    X_train, X_test, y_train, y_test = train_test_split(X, y, test_size=0.2, random_state=random_state)\n",
    "    \n",
    "    lgbm = LGBMRegressor(n_jobs=-1,random_state=random_state)\n",
    "    lgbm.fit(X_train,y_train)\n",
    "    \n",
    "\n",
    "    # Fit model using each importance as a threshold\n",
    "    thresholds = sort(lgbm.feature_importances_) # sort the importance score\n",
    "\n",
    "    # select features using threshold\n",
    "    selection = SelectFromModel(lgbm, threshold=thresh, prefit=True)\n",
    "    select_X_train = selection.transform(X_train)\n",
    "    # train model\n",
    "    selection_model = LGBMRegressor(n_jobs=-1, random_state = 42)\n",
    "    selection_model.fit(select_X_train, y_train)\n",
    "    # eval model on cv\n",
    "    cv_score = cross_validate(selection_model, X_train, y_train, scoring=['r2', 'neg_mean_squared_error'], verbose=0, cv = 5)\n",
    "    select_X_test = selection.transform(X_test)\n",
    "    y_pred = selection_model.predict(select_X_test)\n",
    "   \n",
    "   # CV_MSE = mean_squared_error(y_test, cv_score)\n",
    "    \n",
    "    print('Score from selected subset of features')\n",
    "    #Score of subset features (not all features)\n",
    "    regression_scores(selection_model, X_train = select_X_train, X_test = select_X_test, y_train = y_train, y_test = y_test)\n",
    "    \n",
    "    print(\"Thresh=%.3f, n=%d, CV:%.2f\" % (thresh, select_X_train.shape[1],round(-np.mean(cv_score['test_neg_mean_squared_error']),4)))\n",
    "    \n",
    "   \n",
    "    ##carry on from selection \n",
    "    include = selection.get_support()\n",
    "    headers = X_all.columns\n",
    "\n",
    "    fs = pd.DataFrame({'cols':headers,'include':include})\n",
    "    filters = (fs.include==True)\n",
    "    selected_col = fs[filters].cols.tolist()\n",
    "    \n",
    "    return selected_col"
   ]
  },
  {
   "cell_type": "code",
   "execution_count": 53,
   "id": "a12614d6",
   "metadata": {},
   "outputs": [],
   "source": [
    "import re\n",
    "df = df.rename(columns = lambda x:re.sub('[^A-Za-z0-9_]+', '', x))\n"
   ]
  },
  {
   "cell_type": "code",
   "execution_count": 54,
   "id": "d4b44927",
   "metadata": {},
   "outputs": [],
   "source": [
    "drop_cols=['id_x','host_id','host_has_profile_pic','price','price_log','id_y','reviewer_id','host_since','key_reviewer','first_review','last_review']\n",
    "X_all=df.drop(drop_cols,axis=1)\n",
    "y_all=df['price_log']"
   ]
  },
  {
   "cell_type": "code",
   "execution_count": 55,
   "id": "6bf44485",
   "metadata": {},
   "outputs": [
    {
     "name": "stdout",
     "output_type": "stream",
     "text": [
      "Score from selected subset of features\n",
      "Train R-sq 0.8357\n",
      "Train MSE: 0.1011\n",
      "\n",
      "CV R-sq 0.7801\n",
      "CV MSE: 0.1353\n",
      "\n",
      "Thresh=5.000, n=68, CV:0.14\n"
     ]
    }
   ],
   "source": [
    "lgbm_col = thresh_run_lgbm(X_all,y_all,5)"
   ]
  },
  {
   "cell_type": "code",
   "execution_count": 56,
   "id": "49d8f697",
   "metadata": {},
   "outputs": [
    {
     "data": {
      "text/plain": [
       "Index(['id_x', 'host_id', 'host_since', 'host_is_superhost',\n",
       "       'host_total_listings_count', 'host_has_profile_pic',\n",
       "       'host_identity_verified', 'neighbourhood_group_cleansed', 'latitude',\n",
       "       'longitude',\n",
       "       ...\n",
       "       'walking_distance', 'Unnamed0', 'id_y', 'reviewer_id', 'comments_len',\n",
       "       'key_reviewer', 'negative', 'neutral', 'positive', 'compound'],\n",
       "      dtype='object', length=135)"
      ]
     },
     "execution_count": 56,
     "metadata": {},
     "output_type": "execute_result"
    }
   ],
   "source": [
    "fs_cols=lgbm_col\n",
    "df_fs= df[fs_cols]\n",
    "df.columns"
   ]
  },
  {
   "cell_type": "markdown",
   "id": "NQGfGbAJDozM",
   "metadata": {
    "id": "NQGfGbAJDozM",
    "tags": []
   },
   "source": [
    "# 4. Models"
   ]
  },
  {
   "cell_type": "code",
   "execution_count": 57,
   "id": "5c00afa3-4071-473c-a410-0edcddcb2795",
   "metadata": {
    "id": "5c00afa3-4071-473c-a410-0edcddcb2795"
   },
   "outputs": [],
   "source": [
    "# Format columns\n",
    "import re\n",
    "df = df.rename(columns = lambda x:re.sub('[^A-Za-z0-9_]+', '', x))"
   ]
  },
  {
   "cell_type": "code",
   "execution_count": 58,
   "id": "216921e7",
   "metadata": {},
   "outputs": [
    {
     "data": {
      "text/plain": [
       "['id_x',\n",
       " 'host_id',\n",
       " 'host_since',\n",
       " 'host_is_superhost',\n",
       " 'host_total_listings_count',\n",
       " 'host_has_profile_pic',\n",
       " 'host_identity_verified',\n",
       " 'neighbourhood_group_cleansed',\n",
       " 'latitude',\n",
       " 'longitude',\n",
       " 'property_type',\n",
       " 'room_type',\n",
       " 'accommodates',\n",
       " 'bedrooms',\n",
       " 'price',\n",
       " 'minimum_nights',\n",
       " 'maximum_nights',\n",
       " 'minimum_nights_avg_ntm',\n",
       " 'maximum_nights_avg_ntm',\n",
       " 'has_availability',\n",
       " 'number_of_reviews',\n",
       " 'number_of_reviews_ltm',\n",
       " 'number_of_reviews_l30d',\n",
       " 'first_review',\n",
       " 'last_review',\n",
       " 'review_scores_rating',\n",
       " 'review_scores_accuracy',\n",
       " 'review_scores_cleanliness',\n",
       " 'review_scores_checkin',\n",
       " 'review_scores_communication',\n",
       " 'review_scores_location',\n",
       " 'review_scores_value',\n",
       " 'instant_bookable',\n",
       " 'reviews_per_month',\n",
       " 'bathroom_num',\n",
       " 'bathroom_sharing',\n",
       " 'price_log',\n",
       " 'amenities_wifi',\n",
       " 'amenities_essentials',\n",
       " 'amenities_smokealarm',\n",
       " 'amenities_heating',\n",
       " 'amenities_kitchen',\n",
       " 'amenities_hangers',\n",
       " 'amenities_longtermstaysallowed',\n",
       " 'amenities_iron',\n",
       " 'amenities_washer',\n",
       " 'amenities_hairdryer',\n",
       " 'amenities_hotwater',\n",
       " 'amenities_shampoo',\n",
       " 'amenities_carbonmonoxidealarm',\n",
       " 'amenities_dedicatedworkspace',\n",
       " 'amenities_dishesandsilverware',\n",
       " 'amenities_cookingbasics',\n",
       " 'amenities_refrigerator',\n",
       " 'amenities_bedlinens',\n",
       " 'amenities_tv',\n",
       " 'amenities_microwave',\n",
       " 'amenities_oven',\n",
       " 'amenities_stove',\n",
       " 'amenities_dryer',\n",
       " 'amenities_firstaidkit',\n",
       " 'amenities_fireextinguisher',\n",
       " 'amenities_coffeemaker',\n",
       " 'amenities_dishwasher',\n",
       " 'amenities_privateentrance',\n",
       " 'amenities_extrapillowsandblankets',\n",
       " 'amenities_luggagedropoffallowed',\n",
       " 'amenities_hostgreetsyou',\n",
       " 'amenities_lockbox',\n",
       " 'amenities_bathtub',\n",
       " 'amenities_elevator',\n",
       " 'amenities_freeparkingonpremises',\n",
       " 'amenities_showergel',\n",
       " 'amenities_paidparkingoffpremises',\n",
       " 'amenities_hotwaterkettle',\n",
       " 'amenities_backyard',\n",
       " 'amenities_freestreetparking',\n",
       " 'amenities_lockonbedroomdoor',\n",
       " 'amenities_cabletv',\n",
       " 'amenities_patioorbalcony',\n",
       " 'amenities_freezer',\n",
       " 'amenities_tvwithstandardcable',\n",
       " 'amenities_cleaningproducts',\n",
       " 'amenities_toaster',\n",
       " 'amenities_diningtable',\n",
       " 'amenities_wineglasses',\n",
       " 'amenities_roomdarkeningshades',\n",
       " 'amenities_bodysoap',\n",
       " 'amenities_breakfast',\n",
       " 'amenities_dryingrackforclothing',\n",
       " 'amenities_singlelevelhome',\n",
       " 'amenities_securitycamerasonproperty',\n",
       " 'amenities_conditioner',\n",
       " 'amenities_indoorfireplace',\n",
       " 'amenities_portablefans',\n",
       " 'amenities_ethernetconnection',\n",
       " 'amenities_outdoorfurniture',\n",
       " 'amenities_laundromatnearby',\n",
       " 'amenities_packnplaytravelcrib',\n",
       " 'amenities_crib',\n",
       " 'amenities_airconditioning',\n",
       " 'amenities_highchair',\n",
       " 'amenities_bakingsheet',\n",
       " 'amenities_bbqgrill',\n",
       " 'amenities_paidparkingonpremises',\n",
       " 'amenities_privatepatioorbalcony',\n",
       " 'amenities_centralheating',\n",
       " 'amenities_outdoordiningarea',\n",
       " 'amenities_childrensbooksandtoys',\n",
       " 'amenities_cleaningbeforecheckout',\n",
       " 'amenities_clothingstorage',\n",
       " 'amenities_clothingstoragecloset',\n",
       " 'amenities_minifridge',\n",
       " 'amenities_privatefencedgardenorbackyard',\n",
       " 'amenities_buildingstaff',\n",
       " 'amenities_paidstreetparkingoffpremises',\n",
       " 'amenities_nespressomachine',\n",
       " 'host_duration',\n",
       " 'properties',\n",
       " 'prop_managed',\n",
       " 'occ_30D',\n",
       " 'occ_6090D',\n",
       " 'occ_365',\n",
       " 'station',\n",
       " 'station_dist',\n",
       " 'walking_distance',\n",
       " 'Unnamed0',\n",
       " 'id_y',\n",
       " 'reviewer_id',\n",
       " 'comments_len',\n",
       " 'key_reviewer',\n",
       " 'negative',\n",
       " 'neutral',\n",
       " 'positive',\n",
       " 'compound']"
      ]
     },
     "execution_count": 58,
     "metadata": {},
     "output_type": "execute_result"
    }
   ],
   "source": [
    "df.columns.tolist()"
   ]
  },
  {
   "cell_type": "code",
   "execution_count": 59,
   "id": "139c0fc2-0338-4291-b2d4-4240fa34e303",
   "metadata": {
    "id": "139c0fc2-0338-4291-b2d4-4240fa34e303"
   },
   "outputs": [],
   "source": [
    "sentiment_features = [   'comments_len',\n",
    "                         'neutral',\n",
    "                         'negative',\n",
    "                         'positive']\n",
    "\n",
    "features_selected = ['host_total_listings_count',\n",
    "                         'neighbourhood_group_cleansed',\n",
    "                         'latitude',\n",
    "                         'longitude',\n",
    "                         'room_type',\n",
    "                         'accommodates',\n",
    "                         'bedrooms',\n",
    "                         'minimum_nights',\n",
    "                         'maximum_nights',\n",
    "                         'minimum_nights_avg_ntm',\n",
    "                         'maximum_nights_avg_ntm',\n",
    "                         'number_of_reviews',\n",
    "                         'number_of_reviews_ltm',\n",
    "                         'number_of_reviews_l30d',\n",
    "                         'review_scores_rating',\n",
    "                         'review_scores_accuracy',\n",
    "                         'review_scores_cleanliness',\n",
    "                         'review_scores_checkin',\n",
    "                         'review_scores_communication',\n",
    "                         'review_scores_location',\n",
    "                         'review_scores_value',\n",
    "                         'reviews_per_month',\n",
    "                         'bathroom_num',\n",
    "                         'bathroom_sharing',\n",
    "                        'amenities_wifi',\n",
    "                        'amenities_essentials',\n",
    "                        'amenities_smokealarm',\n",
    "                        'amenities_heating',\n",
    "                        'amenities_kitchen',\n",
    "                        'amenities_hangers',\n",
    "                        'amenities_longtermstaysallowed',\n",
    "                        'amenities_iron',\n",
    "                        'amenities_washer',\n",
    "                        'amenities_hairdryer',\n",
    "                        'amenities_hotwater',\n",
    "                        'amenities_shampoo',\n",
    "                        'amenities_carbonmonoxidealarm',\n",
    "                        'amenities_dedicatedworkspace',\n",
    "                        'amenities_dishesandsilverware',\n",
    "                        'amenities_cookingbasics',\n",
    "                        'amenities_refrigerator',\n",
    "                        'amenities_bedlinens',\n",
    "                        'amenities_tv',\n",
    "                        'amenities_microwave',\n",
    "                        'amenities_oven',\n",
    "                        'amenities_stove',\n",
    "                        'amenities_dryer',\n",
    "                        'amenities_firstaidkit',\n",
    "                        'amenities_fireextinguisher',\n",
    "                        'amenities_coffeemaker',\n",
    "                        'amenities_dishwasher',\n",
    "                        'amenities_privateentrance',\n",
    "                        'amenities_extrapillowsandblankets',\n",
    "                        'amenities_luggagedropoffallowed',\n",
    "                        'amenities_hostgreetsyou',\n",
    "                        'amenities_lockbox',\n",
    "                        'amenities_bathtub',\n",
    "                        'amenities_elevator',\n",
    "                        'amenities_freeparkingonpremises',\n",
    "                        'amenities_showergel',\n",
    "                        'amenities_paidparkingoffpremises',\n",
    "                        'amenities_hotwaterkettle',\n",
    "                        'amenities_backyard',\n",
    "                        'amenities_freestreetparking',\n",
    "                        'amenities_lockonbedroomdoor',\n",
    "                        'amenities_cabletv',\n",
    "                        'amenities_patioorbalcony',\n",
    "                        'amenities_freezer',\n",
    "                        'amenities_tvwithstandardcable',\n",
    "                        'amenities_cleaningproducts',\n",
    "                        'amenities_toaster',\n",
    "                        'amenities_diningtable',\n",
    "                        'amenities_wineglasses',\n",
    "                        'amenities_roomdarkeningshades',\n",
    "                        'amenities_bodysoap',\n",
    "                        'amenities_breakfast',\n",
    "                        'amenities_dryingrackforclothing',\n",
    "                        'amenities_singlelevelhome',\n",
    "                        'amenities_securitycamerasonproperty',\n",
    "                        'amenities_conditioner',\n",
    "                        'amenities_indoorfireplace',\n",
    "                        'amenities_portablefans',\n",
    "                        'amenities_ethernetconnection',\n",
    "                        'amenities_outdoorfurniture',\n",
    "                        'amenities_laundromatnearby',\n",
    "                        'amenities_packnplaytravelcrib',\n",
    "                        'amenities_crib',\n",
    "                        'amenities_airconditioning',\n",
    "                        'amenities_highchair',\n",
    "                        'amenities_bakingsheet',\n",
    "                        'amenities_bbqgrill',\n",
    "                        'amenities_paidparkingonpremises',\n",
    "                        'amenities_privatepatioorbalcony',\n",
    "                        'amenities_centralheating',\n",
    "                        'amenities_outdoordiningarea',\n",
    "                        'amenities_childrensbooksandtoys',\n",
    "                        'amenities_cleaningbeforecheckout',\n",
    "                        'amenities_clothingstorage',\n",
    "                        'amenities_clothingstoragecloset',\n",
    "                        'amenities_minifridge',\n",
    "                        'amenities_privatefencedgardenorbackyard',\n",
    "                        'amenities_buildingstaff',\n",
    "                        'amenities_paidstreetparkingoffpremises',\n",
    "                        'amenities_nespressomachine',\n",
    "                         'host_duration',\n",
    "                         'properties',\n",
    "                         'occ_30D',\n",
    "                         'occ_6090D',\n",
    "                         'occ_365'] + location_features + sentiment_features"
   ]
  },
  {
   "cell_type": "code",
   "execution_count": 60,
   "id": "f8c05f79-cf4f-4b08-9b98-78750d025f92",
   "metadata": {
    "id": "f8c05f79-cf4f-4b08-9b98-78750d025f92",
    "outputId": "ad469504-086b-4102-ae8a-8bbc479e0095"
   },
   "outputs": [
    {
     "name": "stdout",
     "output_type": "stream",
     "text": [
      "X shape: (33010, 116)\n",
      "y shape: (33010,)\n",
      "['bathroom_sharing', 'station', 'room_type']\n"
     ]
    }
   ],
   "source": [
    "random_state = 12\n",
    "\n",
    "dep_var = ['price_log']\n",
    "#to_drop = ['id', 'host_id', 'property_type', 'price', 'host_since', 'first_review', 'last_review']\n",
    "\n",
    "X = df[features_selected]\n",
    "y = df['price_log'].ravel()\n",
    "\n",
    "X_train, X_test, y_train, y_test = train_test_split(X,y,test_size =0.2, random_state = random_state)\n",
    "\n",
    "# Get numeric and categorical columns\n",
    "num_cols = list(X.select_dtypes(include=np.number).columns)\n",
    "cat_cols = list(set(X.columns)-set(X[num_cols].columns))\n",
    "\n",
    "print('X shape: {}'.format(np.shape(X)))\n",
    "print('y shape: {}'.format(np.shape(y)))\n",
    "print(cat_cols)"
   ]
  },
  {
   "cell_type": "code",
   "execution_count": 61,
   "id": "d774f380-f1b2-454b-83a2-94559511e333",
   "metadata": {
    "id": "d774f380-f1b2-454b-83a2-94559511e333",
    "outputId": "36f03c58-0aea-4488-cf12-b1002b7b6e0b"
   },
   "outputs": [
    {
     "data": {
      "text/html": [
       "<style>#sk-79bd1089-c526-46d5-be1a-a551ab09fbe9 {color: black;background-color: white;}#sk-79bd1089-c526-46d5-be1a-a551ab09fbe9 pre{padding: 0;}#sk-79bd1089-c526-46d5-be1a-a551ab09fbe9 div.sk-toggleable {background-color: white;}#sk-79bd1089-c526-46d5-be1a-a551ab09fbe9 label.sk-toggleable__label {cursor: pointer;display: block;width: 100%;margin-bottom: 0;padding: 0.3em;box-sizing: border-box;text-align: center;}#sk-79bd1089-c526-46d5-be1a-a551ab09fbe9 label.sk-toggleable__label-arrow:before {content: \"▸\";float: left;margin-right: 0.25em;color: #696969;}#sk-79bd1089-c526-46d5-be1a-a551ab09fbe9 label.sk-toggleable__label-arrow:hover:before {color: black;}#sk-79bd1089-c526-46d5-be1a-a551ab09fbe9 div.sk-estimator:hover label.sk-toggleable__label-arrow:before {color: black;}#sk-79bd1089-c526-46d5-be1a-a551ab09fbe9 div.sk-toggleable__content {max-height: 0;max-width: 0;overflow: hidden;text-align: left;background-color: #f0f8ff;}#sk-79bd1089-c526-46d5-be1a-a551ab09fbe9 div.sk-toggleable__content pre {margin: 0.2em;color: black;border-radius: 0.25em;background-color: #f0f8ff;}#sk-79bd1089-c526-46d5-be1a-a551ab09fbe9 input.sk-toggleable__control:checked~div.sk-toggleable__content {max-height: 200px;max-width: 100%;overflow: auto;}#sk-79bd1089-c526-46d5-be1a-a551ab09fbe9 input.sk-toggleable__control:checked~label.sk-toggleable__label-arrow:before {content: \"▾\";}#sk-79bd1089-c526-46d5-be1a-a551ab09fbe9 div.sk-estimator input.sk-toggleable__control:checked~label.sk-toggleable__label {background-color: #d4ebff;}#sk-79bd1089-c526-46d5-be1a-a551ab09fbe9 div.sk-label input.sk-toggleable__control:checked~label.sk-toggleable__label {background-color: #d4ebff;}#sk-79bd1089-c526-46d5-be1a-a551ab09fbe9 input.sk-hidden--visually {border: 0;clip: rect(1px 1px 1px 1px);clip: rect(1px, 1px, 1px, 1px);height: 1px;margin: -1px;overflow: hidden;padding: 0;position: absolute;width: 1px;}#sk-79bd1089-c526-46d5-be1a-a551ab09fbe9 div.sk-estimator {font-family: monospace;background-color: #f0f8ff;border: 1px dotted black;border-radius: 0.25em;box-sizing: border-box;margin-bottom: 0.5em;}#sk-79bd1089-c526-46d5-be1a-a551ab09fbe9 div.sk-estimator:hover {background-color: #d4ebff;}#sk-79bd1089-c526-46d5-be1a-a551ab09fbe9 div.sk-parallel-item::after {content: \"\";width: 100%;border-bottom: 1px solid gray;flex-grow: 1;}#sk-79bd1089-c526-46d5-be1a-a551ab09fbe9 div.sk-label:hover label.sk-toggleable__label {background-color: #d4ebff;}#sk-79bd1089-c526-46d5-be1a-a551ab09fbe9 div.sk-serial::before {content: \"\";position: absolute;border-left: 1px solid gray;box-sizing: border-box;top: 2em;bottom: 0;left: 50%;}#sk-79bd1089-c526-46d5-be1a-a551ab09fbe9 div.sk-serial {display: flex;flex-direction: column;align-items: center;background-color: white;padding-right: 0.2em;padding-left: 0.2em;}#sk-79bd1089-c526-46d5-be1a-a551ab09fbe9 div.sk-item {z-index: 1;}#sk-79bd1089-c526-46d5-be1a-a551ab09fbe9 div.sk-parallel {display: flex;align-items: stretch;justify-content: center;background-color: white;}#sk-79bd1089-c526-46d5-be1a-a551ab09fbe9 div.sk-parallel::before {content: \"\";position: absolute;border-left: 1px solid gray;box-sizing: border-box;top: 2em;bottom: 0;left: 50%;}#sk-79bd1089-c526-46d5-be1a-a551ab09fbe9 div.sk-parallel-item {display: flex;flex-direction: column;position: relative;background-color: white;}#sk-79bd1089-c526-46d5-be1a-a551ab09fbe9 div.sk-parallel-item:first-child::after {align-self: flex-end;width: 50%;}#sk-79bd1089-c526-46d5-be1a-a551ab09fbe9 div.sk-parallel-item:last-child::after {align-self: flex-start;width: 50%;}#sk-79bd1089-c526-46d5-be1a-a551ab09fbe9 div.sk-parallel-item:only-child::after {width: 0;}#sk-79bd1089-c526-46d5-be1a-a551ab09fbe9 div.sk-dashed-wrapped {border: 1px dashed gray;margin: 0 0.4em 0.5em 0.4em;box-sizing: border-box;padding-bottom: 0.4em;background-color: white;position: relative;}#sk-79bd1089-c526-46d5-be1a-a551ab09fbe9 div.sk-label label {font-family: monospace;font-weight: bold;background-color: white;display: inline-block;line-height: 1.2em;}#sk-79bd1089-c526-46d5-be1a-a551ab09fbe9 div.sk-label-container {position: relative;z-index: 2;text-align: center;}#sk-79bd1089-c526-46d5-be1a-a551ab09fbe9 div.sk-container {/* jupyter's `normalize.less` sets `[hidden] { display: none; }` but bootstrap.min.css set `[hidden] { display: none !important; }` so we also need the `!important` here to be able to override the default hidden behavior on the sphinx rendered scikit-learn.org. See: https://github.com/scikit-learn/scikit-learn/issues/21755 */display: inline-block !important;position: relative;}#sk-79bd1089-c526-46d5-be1a-a551ab09fbe9 div.sk-text-repr-fallback {display: none;}</style><div id=\"sk-79bd1089-c526-46d5-be1a-a551ab09fbe9\" class=\"sk-top-container\"><div class=\"sk-text-repr-fallback\"><pre>ColumnTransformer(remainder=&#x27;passthrough&#x27;,\n",
       "                  transformers=[(&#x27;num&#x27;, StandardScaler(),\n",
       "                                 [&#x27;host_total_listings_count&#x27;,\n",
       "                                  &#x27;neighbourhood_group_cleansed&#x27;, &#x27;latitude&#x27;,\n",
       "                                  &#x27;longitude&#x27;, &#x27;accommodates&#x27;, &#x27;bedrooms&#x27;,\n",
       "                                  &#x27;minimum_nights&#x27;, &#x27;maximum_nights&#x27;,\n",
       "                                  &#x27;minimum_nights_avg_ntm&#x27;,\n",
       "                                  &#x27;maximum_nights_avg_ntm&#x27;, &#x27;number_of_reviews&#x27;,\n",
       "                                  &#x27;number_of_reviews_ltm&#x27;,\n",
       "                                  &#x27;number_of_reviews_l30d&#x27;,\n",
       "                                  &#x27;review_...\n",
       "                                  &#x27;review_scores_value&#x27;, &#x27;reviews_per_month&#x27;,\n",
       "                                  &#x27;bathroom_num&#x27;, &#x27;amenities_wifi&#x27;,\n",
       "                                  &#x27;amenities_essentials&#x27;,\n",
       "                                  &#x27;amenities_smokealarm&#x27;, &#x27;amenities_heating&#x27;,\n",
       "                                  &#x27;amenities_kitchen&#x27;, &#x27;amenities_hangers&#x27;,\n",
       "                                  &#x27;amenities_longtermstaysallowed&#x27;,\n",
       "                                  &#x27;amenities_iron&#x27;, ...]),\n",
       "                                (&#x27;cat&#x27;,\n",
       "                                 Pipeline(steps=[(&#x27;ohe&#x27;,\n",
       "                                                  OneHotEncoder(handle_unknown=&#x27;ignore&#x27;))]),\n",
       "                                 [&#x27;bathroom_sharing&#x27;, &#x27;station&#x27;, &#x27;room_type&#x27;])])</pre><b>Please rerun this cell to show the HTML repr or trust the notebook.</b></div><div class=\"sk-container\" hidden><div class=\"sk-item sk-dashed-wrapped\"><div class=\"sk-label-container\"><div class=\"sk-label sk-toggleable\"><input class=\"sk-toggleable__control sk-hidden--visually\" id=\"877498df-92de-48e3-8757-a318c57e8a9e\" type=\"checkbox\" ><label for=\"877498df-92de-48e3-8757-a318c57e8a9e\" class=\"sk-toggleable__label sk-toggleable__label-arrow\">ColumnTransformer</label><div class=\"sk-toggleable__content\"><pre>ColumnTransformer(remainder=&#x27;passthrough&#x27;,\n",
       "                  transformers=[(&#x27;num&#x27;, StandardScaler(),\n",
       "                                 [&#x27;host_total_listings_count&#x27;,\n",
       "                                  &#x27;neighbourhood_group_cleansed&#x27;, &#x27;latitude&#x27;,\n",
       "                                  &#x27;longitude&#x27;, &#x27;accommodates&#x27;, &#x27;bedrooms&#x27;,\n",
       "                                  &#x27;minimum_nights&#x27;, &#x27;maximum_nights&#x27;,\n",
       "                                  &#x27;minimum_nights_avg_ntm&#x27;,\n",
       "                                  &#x27;maximum_nights_avg_ntm&#x27;, &#x27;number_of_reviews&#x27;,\n",
       "                                  &#x27;number_of_reviews_ltm&#x27;,\n",
       "                                  &#x27;number_of_reviews_l30d&#x27;,\n",
       "                                  &#x27;review_...\n",
       "                                  &#x27;review_scores_value&#x27;, &#x27;reviews_per_month&#x27;,\n",
       "                                  &#x27;bathroom_num&#x27;, &#x27;amenities_wifi&#x27;,\n",
       "                                  &#x27;amenities_essentials&#x27;,\n",
       "                                  &#x27;amenities_smokealarm&#x27;, &#x27;amenities_heating&#x27;,\n",
       "                                  &#x27;amenities_kitchen&#x27;, &#x27;amenities_hangers&#x27;,\n",
       "                                  &#x27;amenities_longtermstaysallowed&#x27;,\n",
       "                                  &#x27;amenities_iron&#x27;, ...]),\n",
       "                                (&#x27;cat&#x27;,\n",
       "                                 Pipeline(steps=[(&#x27;ohe&#x27;,\n",
       "                                                  OneHotEncoder(handle_unknown=&#x27;ignore&#x27;))]),\n",
       "                                 [&#x27;bathroom_sharing&#x27;, &#x27;station&#x27;, &#x27;room_type&#x27;])])</pre></div></div></div><div class=\"sk-parallel\"><div class=\"sk-parallel-item\"><div class=\"sk-item\"><div class=\"sk-label-container\"><div class=\"sk-label sk-toggleable\"><input class=\"sk-toggleable__control sk-hidden--visually\" id=\"8b744293-7341-4b12-b00d-51fb1da80e1c\" type=\"checkbox\" ><label for=\"8b744293-7341-4b12-b00d-51fb1da80e1c\" class=\"sk-toggleable__label sk-toggleable__label-arrow\">num</label><div class=\"sk-toggleable__content\"><pre>[&#x27;host_total_listings_count&#x27;, &#x27;neighbourhood_group_cleansed&#x27;, &#x27;latitude&#x27;, &#x27;longitude&#x27;, &#x27;accommodates&#x27;, &#x27;bedrooms&#x27;, &#x27;minimum_nights&#x27;, &#x27;maximum_nights&#x27;, &#x27;minimum_nights_avg_ntm&#x27;, &#x27;maximum_nights_avg_ntm&#x27;, &#x27;number_of_reviews&#x27;, &#x27;number_of_reviews_ltm&#x27;, &#x27;number_of_reviews_l30d&#x27;, &#x27;review_scores_rating&#x27;, &#x27;review_scores_accuracy&#x27;, &#x27;review_scores_cleanliness&#x27;, &#x27;review_scores_checkin&#x27;, &#x27;review_scores_communication&#x27;, &#x27;review_scores_location&#x27;, &#x27;review_scores_value&#x27;, &#x27;reviews_per_month&#x27;, &#x27;bathroom_num&#x27;, &#x27;amenities_wifi&#x27;, &#x27;amenities_essentials&#x27;, &#x27;amenities_smokealarm&#x27;, &#x27;amenities_heating&#x27;, &#x27;amenities_kitchen&#x27;, &#x27;amenities_hangers&#x27;, &#x27;amenities_longtermstaysallowed&#x27;, &#x27;amenities_iron&#x27;, &#x27;amenities_washer&#x27;, &#x27;amenities_hairdryer&#x27;, &#x27;amenities_hotwater&#x27;, &#x27;amenities_shampoo&#x27;, &#x27;amenities_carbonmonoxidealarm&#x27;, &#x27;amenities_dedicatedworkspace&#x27;, &#x27;amenities_dishesandsilverware&#x27;, &#x27;amenities_cookingbasics&#x27;, &#x27;amenities_refrigerator&#x27;, &#x27;amenities_bedlinens&#x27;, &#x27;amenities_tv&#x27;, &#x27;amenities_microwave&#x27;, &#x27;amenities_oven&#x27;, &#x27;amenities_stove&#x27;, &#x27;amenities_dryer&#x27;, &#x27;amenities_firstaidkit&#x27;, &#x27;amenities_fireextinguisher&#x27;, &#x27;amenities_coffeemaker&#x27;, &#x27;amenities_dishwasher&#x27;, &#x27;amenities_privateentrance&#x27;, &#x27;amenities_extrapillowsandblankets&#x27;, &#x27;amenities_luggagedropoffallowed&#x27;, &#x27;amenities_hostgreetsyou&#x27;, &#x27;amenities_lockbox&#x27;, &#x27;amenities_bathtub&#x27;, &#x27;amenities_elevator&#x27;, &#x27;amenities_freeparkingonpremises&#x27;, &#x27;amenities_showergel&#x27;, &#x27;amenities_paidparkingoffpremises&#x27;, &#x27;amenities_hotwaterkettle&#x27;, &#x27;amenities_backyard&#x27;, &#x27;amenities_freestreetparking&#x27;, &#x27;amenities_lockonbedroomdoor&#x27;, &#x27;amenities_cabletv&#x27;, &#x27;amenities_patioorbalcony&#x27;, &#x27;amenities_freezer&#x27;, &#x27;amenities_tvwithstandardcable&#x27;, &#x27;amenities_cleaningproducts&#x27;, &#x27;amenities_toaster&#x27;, &#x27;amenities_diningtable&#x27;, &#x27;amenities_wineglasses&#x27;, &#x27;amenities_roomdarkeningshades&#x27;, &#x27;amenities_bodysoap&#x27;, &#x27;amenities_breakfast&#x27;, &#x27;amenities_dryingrackforclothing&#x27;, &#x27;amenities_singlelevelhome&#x27;, &#x27;amenities_securitycamerasonproperty&#x27;, &#x27;amenities_conditioner&#x27;, &#x27;amenities_indoorfireplace&#x27;, &#x27;amenities_portablefans&#x27;, &#x27;amenities_ethernetconnection&#x27;, &#x27;amenities_outdoorfurniture&#x27;, &#x27;amenities_laundromatnearby&#x27;, &#x27;amenities_packnplaytravelcrib&#x27;, &#x27;amenities_crib&#x27;, &#x27;amenities_airconditioning&#x27;, &#x27;amenities_highchair&#x27;, &#x27;amenities_bakingsheet&#x27;, &#x27;amenities_bbqgrill&#x27;, &#x27;amenities_paidparkingonpremises&#x27;, &#x27;amenities_privatepatioorbalcony&#x27;, &#x27;amenities_centralheating&#x27;, &#x27;amenities_outdoordiningarea&#x27;, &#x27;amenities_childrensbooksandtoys&#x27;, &#x27;amenities_cleaningbeforecheckout&#x27;, &#x27;amenities_clothingstorage&#x27;, &#x27;amenities_clothingstoragecloset&#x27;, &#x27;amenities_minifridge&#x27;, &#x27;amenities_privatefencedgardenorbackyard&#x27;, &#x27;amenities_buildingstaff&#x27;, &#x27;amenities_paidstreetparkingoffpremises&#x27;, &#x27;amenities_nespressomachine&#x27;, &#x27;host_duration&#x27;, &#x27;properties&#x27;, &#x27;occ_30D&#x27;, &#x27;occ_6090D&#x27;, &#x27;occ_365&#x27;, &#x27;station_dist&#x27;, &#x27;walking_distance&#x27;, &#x27;comments_len&#x27;, &#x27;neutral&#x27;, &#x27;negative&#x27;, &#x27;positive&#x27;]</pre></div></div></div><div class=\"sk-serial\"><div class=\"sk-item\"><div class=\"sk-estimator sk-toggleable\"><input class=\"sk-toggleable__control sk-hidden--visually\" id=\"5d4be2cb-bde0-4e51-b90a-da6f3d43b516\" type=\"checkbox\" ><label for=\"5d4be2cb-bde0-4e51-b90a-da6f3d43b516\" class=\"sk-toggleable__label sk-toggleable__label-arrow\">StandardScaler</label><div class=\"sk-toggleable__content\"><pre>StandardScaler()</pre></div></div></div></div></div></div><div class=\"sk-parallel-item\"><div class=\"sk-item\"><div class=\"sk-label-container\"><div class=\"sk-label sk-toggleable\"><input class=\"sk-toggleable__control sk-hidden--visually\" id=\"b28b3602-8de3-4266-bcee-ac54ad3cd70f\" type=\"checkbox\" ><label for=\"b28b3602-8de3-4266-bcee-ac54ad3cd70f\" class=\"sk-toggleable__label sk-toggleable__label-arrow\">cat</label><div class=\"sk-toggleable__content\"><pre>[&#x27;bathroom_sharing&#x27;, &#x27;station&#x27;, &#x27;room_type&#x27;]</pre></div></div></div><div class=\"sk-serial\"><div class=\"sk-item\"><div class=\"sk-serial\"><div class=\"sk-item\"><div class=\"sk-estimator sk-toggleable\"><input class=\"sk-toggleable__control sk-hidden--visually\" id=\"11b6e9fb-50d0-4d3c-b6ab-9efea6a27184\" type=\"checkbox\" ><label for=\"11b6e9fb-50d0-4d3c-b6ab-9efea6a27184\" class=\"sk-toggleable__label sk-toggleable__label-arrow\">OneHotEncoder</label><div class=\"sk-toggleable__content\"><pre>OneHotEncoder(handle_unknown=&#x27;ignore&#x27;)</pre></div></div></div></div></div></div></div></div><div class=\"sk-parallel-item\"><div class=\"sk-item\"><div class=\"sk-label-container\"><div class=\"sk-label sk-toggleable\"><input class=\"sk-toggleable__control sk-hidden--visually\" id=\"d12b1b8d-f4d1-4972-9471-620181a84e8a\" type=\"checkbox\" ><label for=\"d12b1b8d-f4d1-4972-9471-620181a84e8a\" class=\"sk-toggleable__label sk-toggleable__label-arrow\">remainder</label><div class=\"sk-toggleable__content\"><pre></pre></div></div></div><div class=\"sk-serial\"><div class=\"sk-item\"><div class=\"sk-estimator sk-toggleable\"><input class=\"sk-toggleable__control sk-hidden--visually\" id=\"17c38ad1-c611-4556-8e1b-2c0e0c478974\" type=\"checkbox\" ><label for=\"17c38ad1-c611-4556-8e1b-2c0e0c478974\" class=\"sk-toggleable__label sk-toggleable__label-arrow\">passthrough</label><div class=\"sk-toggleable__content\"><pre>passthrough</pre></div></div></div></div></div></div></div></div></div></div>"
      ],
      "text/plain": [
       "ColumnTransformer(remainder='passthrough',\n",
       "                  transformers=[('num', StandardScaler(),\n",
       "                                 ['host_total_listings_count',\n",
       "                                  'neighbourhood_group_cleansed', 'latitude',\n",
       "                                  'longitude', 'accommodates', 'bedrooms',\n",
       "                                  'minimum_nights', 'maximum_nights',\n",
       "                                  'minimum_nights_avg_ntm',\n",
       "                                  'maximum_nights_avg_ntm', 'number_of_reviews',\n",
       "                                  'number_of_reviews_ltm',\n",
       "                                  'number_of_reviews_l30d',\n",
       "                                  'review_...\n",
       "                                  'review_scores_value', 'reviews_per_month',\n",
       "                                  'bathroom_num', 'amenities_wifi',\n",
       "                                  'amenities_essentials',\n",
       "                                  'amenities_smokealarm', 'amenities_heating',\n",
       "                                  'amenities_kitchen', 'amenities_hangers',\n",
       "                                  'amenities_longtermstaysallowed',\n",
       "                                  'amenities_iron', ...]),\n",
       "                                ('cat',\n",
       "                                 Pipeline(steps=[('ohe',\n",
       "                                                  OneHotEncoder(handle_unknown='ignore'))]),\n",
       "                                 ['bathroom_sharing', 'station', 'room_type'])])"
      ]
     },
     "execution_count": 61,
     "metadata": {},
     "output_type": "execute_result"
    }
   ],
   "source": [
    "# Preprocess\n",
    "preprocessor = ColumnTransformer(\n",
    "    transformers=[\n",
    "        ('num', StandardScaler(), num_cols ),\n",
    "        (\"cat\", Pipeline([('ohe', OneHotEncoder(handle_unknown='ignore'))]), cat_cols),\n",
    "    ]\n",
    "    , remainder='passthrough'\n",
    ")\n",
    "\n",
    "preprocessor"
   ]
  },
  {
   "cell_type": "markdown",
   "id": "a03e1953-f316-49cc-ac1c-481ccb958eca",
   "metadata": {
    "id": "a03e1953-f316-49cc-ac1c-481ccb958eca",
    "jp-MarkdownHeadingCollapsed": true,
    "tags": []
   },
   "source": [
    "## Linear Regression (Baseline)"
   ]
  },
  {
   "cell_type": "code",
   "execution_count": 75,
   "id": "3364bf15-08af-4764-b58c-819e9d2219d0",
   "metadata": {
    "id": "3364bf15-08af-4764-b58c-819e9d2219d0",
    "outputId": "00a8b2fa-ac8e-43fd-d5b3-71aa8b144031"
   },
   "outputs": [
    {
     "name": "stderr",
     "output_type": "stream",
     "text": [
      "[Parallel(n_jobs=2)]: Using backend LokyBackend with 2 concurrent workers.\n",
      "[Parallel(n_jobs=2)]: Done   5 out of   5 | elapsed:   13.0s finished\n"
     ]
    },
    {
     "name": "stdout",
     "output_type": "stream",
     "text": [
      "Train R-sq 0.7349\n",
      "Train MSE: 0.1636\n",
      "\n",
      "CV R-sq 0.7161\n",
      "CV MSE: 0.1753\n",
      "\n",
      "Test R-sq 0.7048\n",
      "Test MSE: 0.1853\n"
     ]
    }
   ],
   "source": [
    "# Pipeline for One-Hot Encoding\n",
    "\n",
    "linreg_pipe = Pipeline([('preprocess', preprocessor),\n",
    "                    ('regressor', LinearRegression())\n",
    "                   ])\n",
    "\n",
    "linreg_model = fit_and_score(model = linreg_pipe, \n",
    "                             X_train = X_train, \n",
    "                             X_test = X_test,\n",
    "                             y_train = y_train,\n",
    "                             y_test = y_test)"
   ]
  },
  {
   "cell_type": "markdown",
   "id": "fd7dfaf4",
   "metadata": {},
   "source": [
    "## Neural Network"
   ]
  },
  {
   "cell_type": "code",
   "execution_count": 137,
   "id": "640702bc",
   "metadata": {},
   "outputs": [],
   "source": [
    "X_train_trfm = X_train.drop(['station'],axis=1)\n",
    "X_test_trfm = X_test.drop(['station'],axis=1)\n",
    "\n",
    "X_train_trfm = pd.get_dummies(X_train_trfm, columns=['bathroom_sharing', 'room_type'])\n",
    "X_test_trfm = pd.get_dummies(X_test_trfm, columns=['bathroom_sharing', 'room_type'])\n",
    "\n",
    "cols = X_train_trfm.columns\n",
    "\n",
    "stdscaler = StandardScaler()\n",
    "X_train_trfm = stdscaler.fit_transform(X_train_trfm)\n",
    "X_test_trfm = stdscaler.transform(X_test_trfm)\n",
    "\n",
    "X_train_trfm = pd.DataFrame(X_train_trfm)\n",
    "X_train_trfm = X_train_trfm.set_axis(cols, axis=1, inplace=False)\n",
    "X_test_trfm = pd.DataFrame(X_test_trfm)\n",
    "X_test_trfm = X_test_trfm.set_axis(cols, axis=1, inplace=False)"
   ]
  },
  {
   "cell_type": "code",
   "execution_count": 71,
   "id": "2ff85d87",
   "metadata": {},
   "outputs": [],
   "source": [
    "def rmse(y_true, y_pred):\n",
    "    return backend.sqrt(backend.mean(backend.square(y_pred - y_true), axis=-1))\n",
    "\n",
    "def r2(y_true, y_pred):\n",
    "    SS_res =  backend.sum(backend.square( y_true-y_pred )) \n",
    "    SS_tot = backend.sum(backend.square( y_true - backend.mean(y_true) ) ) \n",
    "    return ( 1 - SS_res/(SS_tot + backend.epsilon()) )"
   ]
  },
  {
   "cell_type": "code",
   "execution_count": 74,
   "id": "6502a449",
   "metadata": {},
   "outputs": [
    {
     "data": {
      "text/plain": [
       "(26408, 120)"
      ]
     },
     "execution_count": 74,
     "metadata": {},
     "output_type": "execute_result"
    }
   ],
   "source": [
    "X_train_trfm.shape"
   ]
  },
  {
   "cell_type": "markdown",
   "id": "00dc7a05",
   "metadata": {},
   "source": [
    "### Baseline NN"
   ]
  },
  {
   "cell_type": "code",
   "execution_count": 222,
   "id": "d4fe0919",
   "metadata": {},
   "outputs": [
    {
     "name": "stdout",
     "output_type": "stream",
     "text": [
      "WARNING:tensorflow:From C:\\Users\\ggary\\AppData\\Local\\Programs\\Python\\Python39\\lib\\site-packages\\keras\\initializers\\initializers_v1.py:159: calling RandomNormal.__init__ (from tensorflow.python.ops.init_ops) with dtype is deprecated and will be removed in a future version.\n",
      "Instructions for updating:\n",
      "Call initializer instance with the dtype argument instead of passing it to the constructor\n",
      "Model: \"sequential_15\"\n",
      "_________________________________________________________________\n",
      " Layer (type)                Output Shape              Param #   \n",
      "=================================================================\n",
      " dense_34 (Dense)            (None, 120)               14520     \n",
      "                                                                 \n",
      " dense_35 (Dense)            (None, 1)                 121       \n",
      "                                                                 \n",
      "=================================================================\n",
      "Total params: 14,641\n",
      "Trainable params: 14,641\n",
      "Non-trainable params: 0\n",
      "_________________________________________________________________\n"
     ]
    }
   ],
   "source": [
    "# define base model\n",
    "def baseline_model():\n",
    "    # create model\n",
    "    model = Sequential()\n",
    "    model.add(Dense(120, input_dim=120, kernel_initializer='normal', activation='relu'))\n",
    "    model.add(Dense(1, kernel_initializer='normal'))\n",
    "    # Compile model\n",
    "    model.compile(loss='mean_squared_error', optimizer='adam', metrics=[rmse,r2])\n",
    "    return model\n",
    "model_bl = baseline_model()\n",
    "model_bl.summary()"
   ]
  },
  {
   "cell_type": "code",
   "execution_count": 223,
   "id": "9238cc57",
   "metadata": {},
   "outputs": [
    {
     "name": "stdout",
     "output_type": "stream",
     "text": [
      "Train on 25087 samples, validate on 1321 samples\n",
      "Epoch 1/100\n",
      "25087/25087 [==============================] - 1s 35us/sample - loss: 1.0647 - rmse: 0.6257 - r2: -0.9930 - val_loss: 0.2159 - val_rmse: 0.3513 - val_r2: 0.5918\n",
      "Epoch 2/100\n",
      "25087/25087 [==============================] - 1s 27us/sample - loss: 0.2144 - rmse: 0.3375 - r2: 0.6334 - val_loss: 0.1861 - val_rmse: 0.3249 - val_r2: 0.6534\n",
      "Epoch 3/100\n",
      "25087/25087 [==============================] - 1s 28us/sample - loss: 0.1841 - rmse: 0.3134 - r2: 0.6866 - val_loss: 0.1802 - val_rmse: 0.3190 - val_r2: 0.6583\n",
      "Epoch 4/100\n",
      "25087/25087 [==============================] - 1s 28us/sample - loss: 0.1701 - rmse: 0.3011 - r2: 0.7080 - val_loss: 0.1809 - val_rmse: 0.3132 - val_r2: 0.6607\n",
      "Epoch 5/100\n",
      "25087/25087 [==============================] - 1s 30us/sample - loss: 0.1581 - rmse: 0.2906 - r2: 0.7301 - val_loss: 0.1593 - val_rmse: 0.2948 - val_r2: 0.7015\n",
      "Epoch 6/100\n",
      "25087/25087 [==============================] - 1s 28us/sample - loss: 0.1473 - rmse: 0.2796 - r2: 0.7484 - val_loss: 0.1722 - val_rmse: 0.3101 - val_r2: 0.6736\n",
      "Epoch 7/100\n",
      "25087/25087 [==============================] - 1s 27us/sample - loss: 0.1426 - rmse: 0.2741 - r2: 0.7574 - val_loss: 0.1673 - val_rmse: 0.2994 - val_r2: 0.6910\n",
      "Epoch 8/100\n",
      "25087/25087 [==============================] - 1s 28us/sample - loss: 0.1374 - rmse: 0.2696 - r2: 0.7649 - val_loss: 0.1562 - val_rmse: 0.2911 - val_r2: 0.7123\n",
      "Epoch 9/100\n",
      "25087/25087 [==============================] - 1s 28us/sample - loss: 0.1318 - rmse: 0.2649 - r2: 0.7714 - val_loss: 0.1651 - val_rmse: 0.2989 - val_r2: 0.6905\n",
      "Epoch 10/100\n",
      "25087/25087 [==============================] - 1s 28us/sample - loss: 0.1300 - rmse: 0.2630 - r2: 0.7776 - val_loss: 0.1524 - val_rmse: 0.2868 - val_r2: 0.7260\n",
      "Epoch 11/100\n",
      "25087/25087 [==============================] - 1s 28us/sample - loss: 0.1262 - rmse: 0.2587 - r2: 0.7834 - val_loss: 0.1506 - val_rmse: 0.2880 - val_r2: 0.7241\n",
      "Epoch 12/100\n",
      "25087/25087 [==============================] - 1s 28us/sample - loss: 0.1229 - rmse: 0.2553 - r2: 0.7868 - val_loss: 0.1548 - val_rmse: 0.2858 - val_r2: 0.7137\n",
      "Epoch 13/100\n",
      "25087/25087 [==============================] - 1s 27us/sample - loss: 0.1211 - rmse: 0.2535 - r2: 0.7898 - val_loss: 0.1436 - val_rmse: 0.2780 - val_r2: 0.7272\n",
      "Epoch 14/100\n",
      "25087/25087 [==============================] - 1s 28us/sample - loss: 0.1197 - rmse: 0.2528 - r2: 0.7954 - val_loss: 0.1418 - val_rmse: 0.2761 - val_r2: 0.7397\n",
      "Epoch 15/100\n",
      "25087/25087 [==============================] - 1s 29us/sample - loss: 0.1170 - rmse: 0.2499 - r2: 0.7984 - val_loss: 0.1616 - val_rmse: 0.2870 - val_r2: 0.7064\n",
      "Epoch 16/100\n",
      "25087/25087 [==============================] - 1s 29us/sample - loss: 0.1146 - rmse: 0.2467 - r2: 0.8024 - val_loss: 0.1445 - val_rmse: 0.2775 - val_r2: 0.7258\n",
      "Epoch 17/100\n",
      "25087/25087 [==============================] - 1s 30us/sample - loss: 0.1127 - rmse: 0.2449 - r2: 0.8070 - val_loss: 0.1435 - val_rmse: 0.2812 - val_r2: 0.7277\n",
      "Epoch 18/100\n",
      "25087/25087 [==============================] - 1s 27us/sample - loss: 0.1122 - rmse: 0.2440 - r2: 0.8071 - val_loss: 0.1626 - val_rmse: 0.3003 - val_r2: 0.6930\n",
      "Epoch 19/100\n",
      "25087/25087 [==============================] - 1s 29us/sample - loss: 0.1138 - rmse: 0.2460 - r2: 0.8044 - val_loss: 0.1556 - val_rmse: 0.2906 - val_r2: 0.6917\n",
      "Epoch 20/100\n",
      "25087/25087 [==============================] - 1s 29us/sample - loss: 0.1114 - rmse: 0.2434 - r2: 0.8084 - val_loss: 0.1410 - val_rmse: 0.2712 - val_r2: 0.7297\n",
      "Epoch 21/100\n",
      "25087/25087 [==============================] - 1s 28us/sample - loss: 0.1080 - rmse: 0.2404 - r2: 0.8155 - val_loss: 0.1476 - val_rmse: 0.2812 - val_r2: 0.7139\n",
      "Epoch 22/100\n",
      "25087/25087 [==============================] - 1s 28us/sample - loss: 0.1075 - rmse: 0.2394 - r2: 0.8142 - val_loss: 0.1449 - val_rmse: 0.2747 - val_r2: 0.7341\n",
      "Epoch 23/100\n",
      "25087/25087 [==============================] - 1s 29us/sample - loss: 0.1066 - rmse: 0.2383 - r2: 0.8159 - val_loss: 0.1513 - val_rmse: 0.2868 - val_r2: 0.7252\n",
      "Epoch 24/100\n",
      "25087/25087 [==============================] - 1s 30us/sample - loss: 0.1066 - rmse: 0.2378 - r2: 0.8164 - val_loss: 0.1527 - val_rmse: 0.2921 - val_r2: 0.7246\n",
      "Epoch 25/100\n",
      "25087/25087 [==============================] - 1s 29us/sample - loss: 0.1051 - rmse: 0.2372 - r2: 0.8184 - val_loss: 0.1462 - val_rmse: 0.2779 - val_r2: 0.7214\n",
      "Epoch 26/100\n",
      "25087/25087 [==============================] - 1s 30us/sample - loss: 0.1045 - rmse: 0.2360 - r2: 0.8210 - val_loss: 0.1538 - val_rmse: 0.2859 - val_r2: 0.7094\n",
      "Epoch 27/100\n",
      "25087/25087 [==============================] - 1s 28us/sample - loss: 0.1028 - rmse: 0.2339 - r2: 0.8223 - val_loss: 0.1459 - val_rmse: 0.2775 - val_r2: 0.7311\n",
      "Epoch 28/100\n",
      "25087/25087 [==============================] - 1s 28us/sample - loss: 0.1025 - rmse: 0.2344 - r2: 0.8222 - val_loss: 0.1582 - val_rmse: 0.2903 - val_r2: 0.7025\n",
      "Epoch 29/100\n",
      "25087/25087 [==============================] - 1s 29us/sample - loss: 0.1014 - rmse: 0.2328 - r2: 0.8245 - val_loss: 0.1475 - val_rmse: 0.2795 - val_r2: 0.7259\n",
      "Epoch 30/100\n",
      "25087/25087 [==============================] - 1s 29us/sample - loss: 0.1016 - rmse: 0.2327 - r2: 0.8244 - val_loss: 0.1587 - val_rmse: 0.2900 - val_r2: 0.7130\n",
      "Epoch 31/100\n",
      "25087/25087 [==============================] - 1s 29us/sample - loss: 0.0990 - rmse: 0.2305 - r2: 0.8274 - val_loss: 0.1582 - val_rmse: 0.2930 - val_r2: 0.7081\n",
      "Epoch 32/100\n",
      "25087/25087 [==============================] - 1s 28us/sample - loss: 0.0998 - rmse: 0.2307 - r2: 0.8266 - val_loss: 0.1535 - val_rmse: 0.2874 - val_r2: 0.7183\n",
      "Epoch 33/100\n",
      "25087/25087 [==============================] - 1s 29us/sample - loss: 0.0984 - rmse: 0.2300 - r2: 0.8290 - val_loss: 0.1474 - val_rmse: 0.2828 - val_r2: 0.7275\n",
      "Epoch 34/100\n",
      "25087/25087 [==============================] - 1s 28us/sample - loss: 0.0978 - rmse: 0.2288 - r2: 0.8306 - val_loss: 0.1645 - val_rmse: 0.3036 - val_r2: 0.6893\n",
      "Epoch 35/100\n",
      "25087/25087 [==============================] - 1s 29us/sample - loss: 0.0979 - rmse: 0.2302 - r2: 0.8317 - val_loss: 0.1526 - val_rmse: 0.2894 - val_r2: 0.7201\n",
      "Epoch 36/100\n",
      "25087/25087 [==============================] - 1s 29us/sample - loss: 0.0965 - rmse: 0.2276 - r2: 0.8325 - val_loss: 0.1475 - val_rmse: 0.2811 - val_r2: 0.7242\n",
      "Epoch 37/100\n",
      "25087/25087 [==============================] - 1s 29us/sample - loss: 0.0967 - rmse: 0.2278 - r2: 0.8335 - val_loss: 0.1524 - val_rmse: 0.2851 - val_r2: 0.7159\n",
      "Epoch 38/100\n",
      "25087/25087 [==============================] - 1s 29us/sample - loss: 0.0964 - rmse: 0.2275 - r2: 0.8343 - val_loss: 0.1611 - val_rmse: 0.2957 - val_r2: 0.6890\n",
      "Epoch 39/100\n",
      "25087/25087 [==============================] - 1s 29us/sample - loss: 0.0963 - rmse: 0.2267 - r2: 0.8342 - val_loss: 0.1542 - val_rmse: 0.2885 - val_r2: 0.6989\n",
      "Epoch 40/100\n",
      "25087/25087 [==============================] - 1s 28us/sample - loss: 0.0944 - rmse: 0.2256 - r2: 0.8366 - val_loss: 0.1732 - val_rmse: 0.3072 - val_r2: 0.6681\n",
      "Epoch 41/100\n",
      "25087/25087 [==============================] - 1s 27us/sample - loss: 0.0935 - rmse: 0.2245 - r2: 0.8386 - val_loss: 0.1664 - val_rmse: 0.3074 - val_r2: 0.6878\n",
      "Epoch 42/100\n",
      "25087/25087 [==============================] - 1s 27us/sample - loss: 0.0931 - rmse: 0.2235 - r2: 0.8390 - val_loss: 0.1523 - val_rmse: 0.2892 - val_r2: 0.6928\n",
      "Epoch 43/100\n",
      "25087/25087 [==============================] - 1s 27us/sample - loss: 0.0946 - rmse: 0.2248 - r2: 0.8368 - val_loss: 0.1492 - val_rmse: 0.2833 - val_r2: 0.7197\n",
      "Epoch 44/100\n",
      "25087/25087 [==============================] - 1s 28us/sample - loss: 0.0909 - rmse: 0.2208 - r2: 0.8424 - val_loss: 0.1626 - val_rmse: 0.2942 - val_r2: 0.6982\n",
      "Epoch 45/100\n",
      "25087/25087 [==============================] - 1s 28us/sample - loss: 0.0915 - rmse: 0.2219 - r2: 0.8420 - val_loss: 0.1528 - val_rmse: 0.2893 - val_r2: 0.7220\n",
      "Epoch 46/100\n",
      "25087/25087 [==============================] - 1s 28us/sample - loss: 0.0921 - rmse: 0.2221 - r2: 0.8393 - val_loss: 0.1560 - val_rmse: 0.2953 - val_r2: 0.7111\n",
      "Epoch 47/100\n",
      "25087/25087 [==============================] - 1s 28us/sample - loss: 0.0925 - rmse: 0.2228 - r2: 0.8402 - val_loss: 0.1546 - val_rmse: 0.2927 - val_r2: 0.7055\n",
      "Epoch 48/100\n"
     ]
    },
    {
     "name": "stdout",
     "output_type": "stream",
     "text": [
      "25087/25087 [==============================] - 1s 27us/sample - loss: 0.0901 - rmse: 0.2196 - r2: 0.8447 - val_loss: 0.1506 - val_rmse: 0.2855 - val_r2: 0.7248\n",
      "Epoch 49/100\n",
      "25087/25087 [==============================] - 1s 27us/sample - loss: 0.0904 - rmse: 0.2208 - r2: 0.8424 - val_loss: 0.1591 - val_rmse: 0.2988 - val_r2: 0.7140\n",
      "Epoch 50/100\n",
      "25087/25087 [==============================] - 1s 28us/sample - loss: 0.0882 - rmse: 0.2178 - r2: 0.8478 - val_loss: 0.1535 - val_rmse: 0.2882 - val_r2: 0.7147\n",
      "Epoch 51/100\n",
      "25087/25087 [==============================] - 1s 33us/sample - loss: 0.0898 - rmse: 0.2209 - r2: 0.8436 - val_loss: 0.1676 - val_rmse: 0.3007 - val_r2: 0.6919\n",
      "Epoch 52/100\n",
      "25087/25087 [==============================] - 1s 28us/sample - loss: 0.0903 - rmse: 0.2199 - r2: 0.8436 - val_loss: 0.1555 - val_rmse: 0.2943 - val_r2: 0.7064\n",
      "Epoch 53/100\n",
      "25087/25087 [==============================] - 1s 28us/sample - loss: 0.0888 - rmse: 0.2197 - r2: 0.8449 - val_loss: 0.1535 - val_rmse: 0.2903 - val_r2: 0.7198\n",
      "Epoch 54/100\n",
      "25087/25087 [==============================] - 1s 27us/sample - loss: 0.0889 - rmse: 0.2184 - r2: 0.8460 - val_loss: 0.1630 - val_rmse: 0.2972 - val_r2: 0.7002\n",
      "Epoch 55/100\n",
      "25087/25087 [==============================] - 1s 27us/sample - loss: 0.0896 - rmse: 0.2191 - r2: 0.8450 - val_loss: 0.1567 - val_rmse: 0.2890 - val_r2: 0.7081\n",
      "Epoch 56/100\n",
      "25087/25087 [==============================] - 1s 27us/sample - loss: 0.0878 - rmse: 0.2171 - r2: 0.8486 - val_loss: 0.1525 - val_rmse: 0.2868 - val_r2: 0.6961\n",
      "Epoch 57/100\n",
      "25087/25087 [==============================] - 1s 27us/sample - loss: 0.0865 - rmse: 0.2156 - r2: 0.8515 - val_loss: 0.1561 - val_rmse: 0.2921 - val_r2: 0.7087\n",
      "Epoch 58/100\n",
      "25087/25087 [==============================] - 1s 28us/sample - loss: 0.0868 - rmse: 0.2174 - r2: 0.8493 - val_loss: 0.1608 - val_rmse: 0.2928 - val_r2: 0.7116\n",
      "Epoch 59/100\n",
      "25087/25087 [==============================] - 1s 27us/sample - loss: 0.0872 - rmse: 0.2172 - r2: 0.8486 - val_loss: 0.1604 - val_rmse: 0.2968 - val_r2: 0.7008\n",
      "Epoch 60/100\n",
      "25087/25087 [==============================] - 1s 27us/sample - loss: 0.0876 - rmse: 0.2169 - r2: 0.8482 - val_loss: 0.1548 - val_rmse: 0.2880 - val_r2: 0.7119\n",
      "Epoch 61/100\n",
      "25087/25087 [==============================] - 1s 28us/sample - loss: 0.0863 - rmse: 0.2158 - r2: 0.8501 - val_loss: 0.1590 - val_rmse: 0.2969 - val_r2: 0.6946\n",
      "Epoch 62/100\n",
      "25087/25087 [==============================] - 1s 27us/sample - loss: 0.0869 - rmse: 0.2167 - r2: 0.8480 - val_loss: 0.1533 - val_rmse: 0.2856 - val_r2: 0.7173\n",
      "Epoch 63/100\n",
      "25087/25087 [==============================] - 1s 27us/sample - loss: 0.0855 - rmse: 0.2152 - r2: 0.8512 - val_loss: 0.1581 - val_rmse: 0.2938 - val_r2: 0.7023\n",
      "Epoch 64/100\n",
      "25087/25087 [==============================] - 1s 27us/sample - loss: 0.0855 - rmse: 0.2147 - r2: 0.8516 - val_loss: 0.1573 - val_rmse: 0.2917 - val_r2: 0.7109\n",
      "Epoch 65/100\n",
      "25087/25087 [==============================] - 1s 28us/sample - loss: 0.0841 - rmse: 0.2132 - r2: 0.8555 - val_loss: 0.1581 - val_rmse: 0.2911 - val_r2: 0.7115\n",
      "Epoch 66/100\n",
      "25087/25087 [==============================] - 1s 28us/sample - loss: 0.0860 - rmse: 0.2162 - r2: 0.8505 - val_loss: 0.1539 - val_rmse: 0.2892 - val_r2: 0.7152\n",
      "Epoch 67/100\n",
      "25087/25087 [==============================] - 1s 28us/sample - loss: 0.0844 - rmse: 0.2141 - r2: 0.8542 - val_loss: 0.1553 - val_rmse: 0.2919 - val_r2: 0.7167\n",
      "Epoch 68/100\n",
      "25087/25087 [==============================] - 1s 27us/sample - loss: 0.0859 - rmse: 0.2155 - r2: 0.8507 - val_loss: 0.1574 - val_rmse: 0.2928 - val_r2: 0.7045\n",
      "Epoch 69/100\n",
      "25087/25087 [==============================] - 1s 27us/sample - loss: 0.0832 - rmse: 0.2122 - r2: 0.8557 - val_loss: 0.1646 - val_rmse: 0.3017 - val_r2: 0.6665\n",
      "Epoch 70/100\n",
      "25087/25087 [==============================] - 1s 27us/sample - loss: 0.0844 - rmse: 0.2137 - r2: 0.8542 - val_loss: 0.1572 - val_rmse: 0.2947 - val_r2: 0.6995\n",
      "Epoch 71/100\n",
      "25087/25087 [==============================] - 1s 28us/sample - loss: 0.0844 - rmse: 0.2130 - r2: 0.8540 - val_loss: 0.1552 - val_rmse: 0.2897 - val_r2: 0.7089\n",
      "Epoch 72/100\n",
      "25087/25087 [==============================] - 1s 27us/sample - loss: 0.0836 - rmse: 0.2129 - r2: 0.8535 - val_loss: 0.1640 - val_rmse: 0.2982 - val_r2: 0.6942\n",
      "Epoch 73/100\n",
      "25087/25087 [==============================] - 1s 28us/sample - loss: 0.0832 - rmse: 0.2117 - r2: 0.8546 - val_loss: 0.1520 - val_rmse: 0.2880 - val_r2: 0.7137\n",
      "Epoch 74/100\n",
      "25087/25087 [==============================] - 1s 28us/sample - loss: 0.0831 - rmse: 0.2119 - r2: 0.8566 - val_loss: 0.1599 - val_rmse: 0.2968 - val_r2: 0.7060\n",
      "Epoch 75/100\n",
      "25087/25087 [==============================] - 1s 28us/sample - loss: 0.0814 - rmse: 0.2102 - r2: 0.8596 - val_loss: 0.1597 - val_rmse: 0.2964 - val_r2: 0.6921\n",
      "Epoch 76/100\n",
      "25087/25087 [==============================] - 1s 28us/sample - loss: 0.0825 - rmse: 0.2110 - r2: 0.8557 - val_loss: 0.1583 - val_rmse: 0.2951 - val_r2: 0.7025\n",
      "Epoch 77/100\n",
      "25087/25087 [==============================] - 1s 28us/sample - loss: 0.0822 - rmse: 0.2119 - r2: 0.8566 - val_loss: 0.1647 - val_rmse: 0.3001 - val_r2: 0.6998\n",
      "Epoch 78/100\n",
      "25087/25087 [==============================] - 1s 27us/sample - loss: 0.0822 - rmse: 0.2111 - r2: 0.8572 - val_loss: 0.1581 - val_rmse: 0.2950 - val_r2: 0.7105\n",
      "Epoch 79/100\n",
      "25087/25087 [==============================] - 1s 28us/sample - loss: 0.0821 - rmse: 0.2114 - r2: 0.8568 - val_loss: 0.1612 - val_rmse: 0.2960 - val_r2: 0.6964\n",
      "Epoch 80/100\n",
      "25087/25087 [==============================] - 1s 28us/sample - loss: 0.0821 - rmse: 0.2100 - r2: 0.8573 - val_loss: 0.1704 - val_rmse: 0.3089 - val_r2: 0.6794\n",
      "Epoch 81/100\n",
      "25087/25087 [==============================] - 1s 29us/sample - loss: 0.0815 - rmse: 0.2103 - r2: 0.8574 - val_loss: 0.1609 - val_rmse: 0.2967 - val_r2: 0.7057\n",
      "Epoch 82/100\n",
      "25087/25087 [==============================] - 1s 27us/sample - loss: 0.0802 - rmse: 0.2093 - r2: 0.8614 - val_loss: 0.1631 - val_rmse: 0.2997 - val_r2: 0.7041\n",
      "Epoch 83/100\n",
      "25087/25087 [==============================] - 1s 31us/sample - loss: 0.0804 - rmse: 0.2089 - r2: 0.8610 - val_loss: 0.1608 - val_rmse: 0.2958 - val_r2: 0.7006\n",
      "Epoch 84/100\n",
      "25087/25087 [==============================] - 1s 29us/sample - loss: 0.0797 - rmse: 0.2086 - r2: 0.8616 - val_loss: 0.1625 - val_rmse: 0.2975 - val_r2: 0.7002\n",
      "Epoch 85/100\n",
      "25087/25087 [==============================] - 1s 28us/sample - loss: 0.0794 - rmse: 0.2082 - r2: 0.8619 - val_loss: 0.1630 - val_rmse: 0.3010 - val_r2: 0.6919\n",
      "Epoch 86/100\n",
      "25087/25087 [==============================] - 1s 27us/sample - loss: 0.0818 - rmse: 0.2099 - r2: 0.8560 - val_loss: 0.1606 - val_rmse: 0.2969 - val_r2: 0.6955\n",
      "Epoch 87/100\n",
      "25087/25087 [==============================] - 1s 27us/sample - loss: 0.0806 - rmse: 0.2093 - r2: 0.8608 - val_loss: 0.1611 - val_rmse: 0.2960 - val_r2: 0.7046\n",
      "Epoch 88/100\n",
      "25087/25087 [==============================] - 1s 27us/sample - loss: 0.0806 - rmse: 0.2086 - r2: 0.8610 - val_loss: 0.1701 - val_rmse: 0.3059 - val_r2: 0.6872\n",
      "Epoch 89/100\n",
      "25087/25087 [==============================] - 1s 27us/sample - loss: 0.0785 - rmse: 0.2074 - r2: 0.8638 - val_loss: 0.1685 - val_rmse: 0.3052 - val_r2: 0.6874\n",
      "Epoch 90/100\n",
      "25087/25087 [==============================] - 1s 28us/sample - loss: 0.0798 - rmse: 0.2088 - r2: 0.8602 - val_loss: 0.1610 - val_rmse: 0.2979 - val_r2: 0.6881\n",
      "Epoch 91/100\n",
      "25087/25087 [==============================] - 1s 28us/sample - loss: 0.0798 - rmse: 0.2089 - r2: 0.8608 - val_loss: 0.1556 - val_rmse: 0.2932 - val_r2: 0.7108\n",
      "Epoch 92/100\n",
      "25087/25087 [==============================] - 1s 27us/sample - loss: 0.0791 - rmse: 0.2071 - r2: 0.8629 - val_loss: 0.1640 - val_rmse: 0.3008 - val_r2: 0.7009\n",
      "Epoch 93/100\n",
      "25087/25087 [==============================] - 1s 29us/sample - loss: 0.0782 - rmse: 0.2064 - r2: 0.8658 - val_loss: 0.1623 - val_rmse: 0.2974 - val_r2: 0.6867\n",
      "Epoch 94/100\n",
      "25087/25087 [==============================] - 1s 30us/sample - loss: 0.0789 - rmse: 0.2057 - r2: 0.8628 - val_loss: 0.1635 - val_rmse: 0.2979 - val_r2: 0.7017\n",
      "Epoch 95/100\n"
     ]
    },
    {
     "name": "stdout",
     "output_type": "stream",
     "text": [
      "25087/25087 [==============================] - 1s 30us/sample - loss: 0.0784 - rmse: 0.2068 - r2: 0.8627 - val_loss: 0.1604 - val_rmse: 0.2953 - val_r2: 0.6721\n",
      "Epoch 96/100\n",
      "25087/25087 [==============================] - 1s 29us/sample - loss: 0.0780 - rmse: 0.2064 - r2: 0.8647 - val_loss: 0.1670 - val_rmse: 0.3034 - val_r2: 0.6734\n",
      "Epoch 97/100\n",
      "25087/25087 [==============================] - 1s 30us/sample - loss: 0.0793 - rmse: 0.2067 - r2: 0.8622 - val_loss: 0.1732 - val_rmse: 0.3076 - val_r2: 0.6890\n",
      "Epoch 98/100\n",
      "25087/25087 [==============================] - 1s 28us/sample - loss: 0.0782 - rmse: 0.2063 - r2: 0.8649 - val_loss: 0.1656 - val_rmse: 0.3017 - val_r2: 0.6857\n",
      "Epoch 99/100\n",
      "25087/25087 [==============================] - 1s 28us/sample - loss: 0.0769 - rmse: 0.2050 - r2: 0.8656 - val_loss: 0.1658 - val_rmse: 0.2987 - val_r2: 0.6889\n",
      "Epoch 100/100\n",
      "25087/25087 [==============================] - 1s 29us/sample - loss: 0.0770 - rmse: 0.2047 - r2: 0.8669 - val_loss: 0.1653 - val_rmse: 0.2996 - val_r2: 0.6896\n"
     ]
    }
   ],
   "source": [
    "epoch=100\n",
    "history_bl = model_bl.fit(X_train_trfm, y_train, epochs=epoch, validation_split=0.05)"
   ]
  },
  {
   "cell_type": "code",
   "execution_count": 224,
   "id": "38b6e0ed",
   "metadata": {},
   "outputs": [
    {
     "data": {
      "application/vnd.plotly.v1+json": {
       "config": {
        "plotlyServerURL": "https://plot.ly"
       },
       "data": [
        {
         "name": "Train",
         "type": "scattergl",
         "y": [
          1.0646515958937461,
          0.21440378935369758,
          0.18410431143628048,
          0.17013993704292152,
          0.15810817635115904,
          0.1473368377959989,
          0.14258678099466843,
          0.1374196745655733,
          0.13178139401825997,
          0.1300150407565454,
          0.12624537791250026,
          0.12290111967846297,
          0.12108790484058542,
          0.11967394223864601,
          0.11695238315102092,
          0.11464753849774524,
          0.11268335817526597,
          0.11221936963789346,
          0.11377697620264211,
          0.11141670357201171,
          0.10797028580951715,
          0.10745333649454783,
          0.10663761049877316,
          0.10658125428070594,
          0.10505293675609577,
          0.10452421653176636,
          0.10282949386052803,
          0.10253897620904877,
          0.10140372354106762,
          0.10159158038052128,
          0.09903939657782569,
          0.09981746079286806,
          0.09842551980876987,
          0.09783744636817494,
          0.09788819888628422,
          0.09648815169707715,
          0.09665932515678036,
          0.09636184187354203,
          0.09634171066819902,
          0.09437640754022418,
          0.09354848756405548,
          0.09312612331838488,
          0.09464266547700752,
          0.09093593656078267,
          0.09152236357809429,
          0.0920843662774358,
          0.09252652473156424,
          0.09006478761687685,
          0.0903990077843875,
          0.08822805157180975,
          0.08975644678580698,
          0.09033448716236737,
          0.08881619447532554,
          0.08887333441639296,
          0.08963058592902567,
          0.08779587164713072,
          0.08647127895026731,
          0.08680627820046259,
          0.0871977983459497,
          0.08763438683740761,
          0.08632393123024927,
          0.08692316348532414,
          0.0854734134093992,
          0.08546072261483481,
          0.08408532541864594,
          0.08604665114666654,
          0.08444323540375384,
          0.08586762084034615,
          0.08320189005526259,
          0.08439240495584435,
          0.08437000629740277,
          0.08361855829137925,
          0.08324377688957144,
          0.08309794070991575,
          0.08142010167353358,
          0.08251499594910355,
          0.08222894027993108,
          0.08215229967740095,
          0.08210352474955235,
          0.08208897105828845,
          0.08148706500524398,
          0.08016181270346416,
          0.08036496361970245,
          0.07972495649925414,
          0.0794022890546508,
          0.08182291532337829,
          0.08064052874784673,
          0.0805950878844287,
          0.07854509247790566,
          0.07984294607943121,
          0.07975976350421556,
          0.07906491950545737,
          0.07816895671100031,
          0.07893706586709526,
          0.07839972837585125,
          0.07797687980561513,
          0.07928091458292895,
          0.07816094210063322,
          0.07687712660556123,
          0.07701569767839983
         ]
        },
        {
         "name": "Valid",
         "type": "scattergl",
         "y": [
          0.2158663648037546,
          0.18614744674202893,
          0.18024602175932053,
          0.18087510711581847,
          0.15933301222540952,
          0.17219036478016253,
          0.16729140564810588,
          0.1561973666057363,
          0.16510734029740298,
          0.15240645908625805,
          0.15063034884637275,
          0.15479299511808414,
          0.14361249578779706,
          0.14181953083715323,
          0.16163248381521736,
          0.14446695361012857,
          0.1435309279425229,
          0.16257251831819214,
          0.1555599266723825,
          0.14098783957516037,
          0.1476155880226681,
          0.1449137412739197,
          0.1512512713219522,
          0.1526667931308176,
          0.14620077253561142,
          0.15380214036278073,
          0.14585673688353237,
          0.15822962308013466,
          0.14752238961803832,
          0.15873061217519932,
          0.15819210681520024,
          0.1534945633851787,
          0.14737374928302607,
          0.16450674857811706,
          0.15258973857767197,
          0.1474595027922862,
          0.15236681984014172,
          0.16109988757780697,
          0.15423389062296702,
          0.173190567571949,
          0.16639458940256555,
          0.15228479108536994,
          0.14923039227047263,
          0.16263927338274026,
          0.15278895148537902,
          0.1559942320925462,
          0.15457526959315293,
          0.15057126233561485,
          0.1590757874784643,
          0.15352788396083794,
          0.16759213049424407,
          0.15553316400639494,
          0.1534539939529692,
          0.16303974153709447,
          0.15673516987400646,
          0.15250642402527642,
          0.15613513511523075,
          0.16079453637373664,
          0.16038578038049592,
          0.15483422620527948,
          0.15899573269890258,
          0.15330862843859475,
          0.1581402329966302,
          0.15733399388241462,
          0.158062708318053,
          0.15391860528934373,
          0.15531822557953792,
          0.15736392047890743,
          0.16463137050860763,
          0.15724014259034444,
          0.1551978231085511,
          0.16397848642973356,
          0.15195124392749504,
          0.15987771690839353,
          0.15971462402061293,
          0.15830754075286788,
          0.1647474984331712,
          0.15808191800731136,
          0.16123405395020687,
          0.17038216126587785,
          0.16094545306839517,
          0.16309791345383343,
          0.16080152117037394,
          0.16249961693637935,
          0.1630454897812873,
          0.16061823903657016,
          0.16111420311546976,
          0.17005335286338613,
          0.16848327649262346,
          0.16096216227004784,
          0.15559525735941374,
          0.16401856237519066,
          0.1622544788303563,
          0.16350673972703036,
          0.16044386230933674,
          0.1670077544983186,
          0.1732496134852208,
          0.16563627688971366,
          0.16578862914797216,
          0.16527729796176602
         ]
        }
       ],
       "layout": {
        "height": 500,
        "template": {
         "data": {
          "bar": [
           {
            "error_x": {
             "color": "#2a3f5f"
            },
            "error_y": {
             "color": "#2a3f5f"
            },
            "marker": {
             "line": {
              "color": "#E5ECF6",
              "width": 0.5
             },
             "pattern": {
              "fillmode": "overlay",
              "size": 10,
              "solidity": 0.2
             }
            },
            "type": "bar"
           }
          ],
          "barpolar": [
           {
            "marker": {
             "line": {
              "color": "#E5ECF6",
              "width": 0.5
             },
             "pattern": {
              "fillmode": "overlay",
              "size": 10,
              "solidity": 0.2
             }
            },
            "type": "barpolar"
           }
          ],
          "carpet": [
           {
            "aaxis": {
             "endlinecolor": "#2a3f5f",
             "gridcolor": "white",
             "linecolor": "white",
             "minorgridcolor": "white",
             "startlinecolor": "#2a3f5f"
            },
            "baxis": {
             "endlinecolor": "#2a3f5f",
             "gridcolor": "white",
             "linecolor": "white",
             "minorgridcolor": "white",
             "startlinecolor": "#2a3f5f"
            },
            "type": "carpet"
           }
          ],
          "choropleth": [
           {
            "colorbar": {
             "outlinewidth": 0,
             "ticks": ""
            },
            "type": "choropleth"
           }
          ],
          "contour": [
           {
            "colorbar": {
             "outlinewidth": 0,
             "ticks": ""
            },
            "colorscale": [
             [
              0,
              "#0d0887"
             ],
             [
              0.1111111111111111,
              "#46039f"
             ],
             [
              0.2222222222222222,
              "#7201a8"
             ],
             [
              0.3333333333333333,
              "#9c179e"
             ],
             [
              0.4444444444444444,
              "#bd3786"
             ],
             [
              0.5555555555555556,
              "#d8576b"
             ],
             [
              0.6666666666666666,
              "#ed7953"
             ],
             [
              0.7777777777777778,
              "#fb9f3a"
             ],
             [
              0.8888888888888888,
              "#fdca26"
             ],
             [
              1,
              "#f0f921"
             ]
            ],
            "type": "contour"
           }
          ],
          "contourcarpet": [
           {
            "colorbar": {
             "outlinewidth": 0,
             "ticks": ""
            },
            "type": "contourcarpet"
           }
          ],
          "heatmap": [
           {
            "colorbar": {
             "outlinewidth": 0,
             "ticks": ""
            },
            "colorscale": [
             [
              0,
              "#0d0887"
             ],
             [
              0.1111111111111111,
              "#46039f"
             ],
             [
              0.2222222222222222,
              "#7201a8"
             ],
             [
              0.3333333333333333,
              "#9c179e"
             ],
             [
              0.4444444444444444,
              "#bd3786"
             ],
             [
              0.5555555555555556,
              "#d8576b"
             ],
             [
              0.6666666666666666,
              "#ed7953"
             ],
             [
              0.7777777777777778,
              "#fb9f3a"
             ],
             [
              0.8888888888888888,
              "#fdca26"
             ],
             [
              1,
              "#f0f921"
             ]
            ],
            "type": "heatmap"
           }
          ],
          "heatmapgl": [
           {
            "colorbar": {
             "outlinewidth": 0,
             "ticks": ""
            },
            "colorscale": [
             [
              0,
              "#0d0887"
             ],
             [
              0.1111111111111111,
              "#46039f"
             ],
             [
              0.2222222222222222,
              "#7201a8"
             ],
             [
              0.3333333333333333,
              "#9c179e"
             ],
             [
              0.4444444444444444,
              "#bd3786"
             ],
             [
              0.5555555555555556,
              "#d8576b"
             ],
             [
              0.6666666666666666,
              "#ed7953"
             ],
             [
              0.7777777777777778,
              "#fb9f3a"
             ],
             [
              0.8888888888888888,
              "#fdca26"
             ],
             [
              1,
              "#f0f921"
             ]
            ],
            "type": "heatmapgl"
           }
          ],
          "histogram": [
           {
            "marker": {
             "pattern": {
              "fillmode": "overlay",
              "size": 10,
              "solidity": 0.2
             }
            },
            "type": "histogram"
           }
          ],
          "histogram2d": [
           {
            "colorbar": {
             "outlinewidth": 0,
             "ticks": ""
            },
            "colorscale": [
             [
              0,
              "#0d0887"
             ],
             [
              0.1111111111111111,
              "#46039f"
             ],
             [
              0.2222222222222222,
              "#7201a8"
             ],
             [
              0.3333333333333333,
              "#9c179e"
             ],
             [
              0.4444444444444444,
              "#bd3786"
             ],
             [
              0.5555555555555556,
              "#d8576b"
             ],
             [
              0.6666666666666666,
              "#ed7953"
             ],
             [
              0.7777777777777778,
              "#fb9f3a"
             ],
             [
              0.8888888888888888,
              "#fdca26"
             ],
             [
              1,
              "#f0f921"
             ]
            ],
            "type": "histogram2d"
           }
          ],
          "histogram2dcontour": [
           {
            "colorbar": {
             "outlinewidth": 0,
             "ticks": ""
            },
            "colorscale": [
             [
              0,
              "#0d0887"
             ],
             [
              0.1111111111111111,
              "#46039f"
             ],
             [
              0.2222222222222222,
              "#7201a8"
             ],
             [
              0.3333333333333333,
              "#9c179e"
             ],
             [
              0.4444444444444444,
              "#bd3786"
             ],
             [
              0.5555555555555556,
              "#d8576b"
             ],
             [
              0.6666666666666666,
              "#ed7953"
             ],
             [
              0.7777777777777778,
              "#fb9f3a"
             ],
             [
              0.8888888888888888,
              "#fdca26"
             ],
             [
              1,
              "#f0f921"
             ]
            ],
            "type": "histogram2dcontour"
           }
          ],
          "mesh3d": [
           {
            "colorbar": {
             "outlinewidth": 0,
             "ticks": ""
            },
            "type": "mesh3d"
           }
          ],
          "parcoords": [
           {
            "line": {
             "colorbar": {
              "outlinewidth": 0,
              "ticks": ""
             }
            },
            "type": "parcoords"
           }
          ],
          "pie": [
           {
            "automargin": true,
            "type": "pie"
           }
          ],
          "scatter": [
           {
            "marker": {
             "colorbar": {
              "outlinewidth": 0,
              "ticks": ""
             }
            },
            "type": "scatter"
           }
          ],
          "scatter3d": [
           {
            "line": {
             "colorbar": {
              "outlinewidth": 0,
              "ticks": ""
             }
            },
            "marker": {
             "colorbar": {
              "outlinewidth": 0,
              "ticks": ""
             }
            },
            "type": "scatter3d"
           }
          ],
          "scattercarpet": [
           {
            "marker": {
             "colorbar": {
              "outlinewidth": 0,
              "ticks": ""
             }
            },
            "type": "scattercarpet"
           }
          ],
          "scattergeo": [
           {
            "marker": {
             "colorbar": {
              "outlinewidth": 0,
              "ticks": ""
             }
            },
            "type": "scattergeo"
           }
          ],
          "scattergl": [
           {
            "marker": {
             "colorbar": {
              "outlinewidth": 0,
              "ticks": ""
             }
            },
            "type": "scattergl"
           }
          ],
          "scattermapbox": [
           {
            "marker": {
             "colorbar": {
              "outlinewidth": 0,
              "ticks": ""
             }
            },
            "type": "scattermapbox"
           }
          ],
          "scatterpolar": [
           {
            "marker": {
             "colorbar": {
              "outlinewidth": 0,
              "ticks": ""
             }
            },
            "type": "scatterpolar"
           }
          ],
          "scatterpolargl": [
           {
            "marker": {
             "colorbar": {
              "outlinewidth": 0,
              "ticks": ""
             }
            },
            "type": "scatterpolargl"
           }
          ],
          "scatterternary": [
           {
            "marker": {
             "colorbar": {
              "outlinewidth": 0,
              "ticks": ""
             }
            },
            "type": "scatterternary"
           }
          ],
          "surface": [
           {
            "colorbar": {
             "outlinewidth": 0,
             "ticks": ""
            },
            "colorscale": [
             [
              0,
              "#0d0887"
             ],
             [
              0.1111111111111111,
              "#46039f"
             ],
             [
              0.2222222222222222,
              "#7201a8"
             ],
             [
              0.3333333333333333,
              "#9c179e"
             ],
             [
              0.4444444444444444,
              "#bd3786"
             ],
             [
              0.5555555555555556,
              "#d8576b"
             ],
             [
              0.6666666666666666,
              "#ed7953"
             ],
             [
              0.7777777777777778,
              "#fb9f3a"
             ],
             [
              0.8888888888888888,
              "#fdca26"
             ],
             [
              1,
              "#f0f921"
             ]
            ],
            "type": "surface"
           }
          ],
          "table": [
           {
            "cells": {
             "fill": {
              "color": "#EBF0F8"
             },
             "line": {
              "color": "white"
             }
            },
            "header": {
             "fill": {
              "color": "#C8D4E3"
             },
             "line": {
              "color": "white"
             }
            },
            "type": "table"
           }
          ]
         },
         "layout": {
          "annotationdefaults": {
           "arrowcolor": "#2a3f5f",
           "arrowhead": 0,
           "arrowwidth": 1
          },
          "autotypenumbers": "strict",
          "coloraxis": {
           "colorbar": {
            "outlinewidth": 0,
            "ticks": ""
           }
          },
          "colorscale": {
           "diverging": [
            [
             0,
             "#8e0152"
            ],
            [
             0.1,
             "#c51b7d"
            ],
            [
             0.2,
             "#de77ae"
            ],
            [
             0.3,
             "#f1b6da"
            ],
            [
             0.4,
             "#fde0ef"
            ],
            [
             0.5,
             "#f7f7f7"
            ],
            [
             0.6,
             "#e6f5d0"
            ],
            [
             0.7,
             "#b8e186"
            ],
            [
             0.8,
             "#7fbc41"
            ],
            [
             0.9,
             "#4d9221"
            ],
            [
             1,
             "#276419"
            ]
           ],
           "sequential": [
            [
             0,
             "#0d0887"
            ],
            [
             0.1111111111111111,
             "#46039f"
            ],
            [
             0.2222222222222222,
             "#7201a8"
            ],
            [
             0.3333333333333333,
             "#9c179e"
            ],
            [
             0.4444444444444444,
             "#bd3786"
            ],
            [
             0.5555555555555556,
             "#d8576b"
            ],
            [
             0.6666666666666666,
             "#ed7953"
            ],
            [
             0.7777777777777778,
             "#fb9f3a"
            ],
            [
             0.8888888888888888,
             "#fdca26"
            ],
            [
             1,
             "#f0f921"
            ]
           ],
           "sequentialminus": [
            [
             0,
             "#0d0887"
            ],
            [
             0.1111111111111111,
             "#46039f"
            ],
            [
             0.2222222222222222,
             "#7201a8"
            ],
            [
             0.3333333333333333,
             "#9c179e"
            ],
            [
             0.4444444444444444,
             "#bd3786"
            ],
            [
             0.5555555555555556,
             "#d8576b"
            ],
            [
             0.6666666666666666,
             "#ed7953"
            ],
            [
             0.7777777777777778,
             "#fb9f3a"
            ],
            [
             0.8888888888888888,
             "#fdca26"
            ],
            [
             1,
             "#f0f921"
            ]
           ]
          },
          "colorway": [
           "#636efa",
           "#EF553B",
           "#00cc96",
           "#ab63fa",
           "#FFA15A",
           "#19d3f3",
           "#FF6692",
           "#B6E880",
           "#FF97FF",
           "#FECB52"
          ],
          "font": {
           "color": "#2a3f5f"
          },
          "geo": {
           "bgcolor": "white",
           "lakecolor": "white",
           "landcolor": "#E5ECF6",
           "showlakes": true,
           "showland": true,
           "subunitcolor": "white"
          },
          "hoverlabel": {
           "align": "left"
          },
          "hovermode": "closest",
          "mapbox": {
           "style": "light"
          },
          "paper_bgcolor": "white",
          "plot_bgcolor": "#E5ECF6",
          "polar": {
           "angularaxis": {
            "gridcolor": "white",
            "linecolor": "white",
            "ticks": ""
           },
           "bgcolor": "#E5ECF6",
           "radialaxis": {
            "gridcolor": "white",
            "linecolor": "white",
            "ticks": ""
           }
          },
          "scene": {
           "xaxis": {
            "backgroundcolor": "#E5ECF6",
            "gridcolor": "white",
            "gridwidth": 2,
            "linecolor": "white",
            "showbackground": true,
            "ticks": "",
            "zerolinecolor": "white"
           },
           "yaxis": {
            "backgroundcolor": "#E5ECF6",
            "gridcolor": "white",
            "gridwidth": 2,
            "linecolor": "white",
            "showbackground": true,
            "ticks": "",
            "zerolinecolor": "white"
           },
           "zaxis": {
            "backgroundcolor": "#E5ECF6",
            "gridcolor": "white",
            "gridwidth": 2,
            "linecolor": "white",
            "showbackground": true,
            "ticks": "",
            "zerolinecolor": "white"
           }
          },
          "shapedefaults": {
           "line": {
            "color": "#2a3f5f"
           }
          },
          "ternary": {
           "aaxis": {
            "gridcolor": "white",
            "linecolor": "white",
            "ticks": ""
           },
           "baxis": {
            "gridcolor": "white",
            "linecolor": "white",
            "ticks": ""
           },
           "bgcolor": "#E5ECF6",
           "caxis": {
            "gridcolor": "white",
            "linecolor": "white",
            "ticks": ""
           }
          },
          "title": {
           "x": 0.05
          },
          "xaxis": {
           "automargin": true,
           "gridcolor": "white",
           "linecolor": "white",
           "ticks": "",
           "title": {
            "standoff": 15
           },
           "zerolinecolor": "white",
           "zerolinewidth": 2
          },
          "yaxis": {
           "automargin": true,
           "gridcolor": "white",
           "linecolor": "white",
           "ticks": "",
           "title": {
            "standoff": 15
           },
           "zerolinecolor": "white",
           "zerolinewidth": 2
          }
         }
        },
        "width": 700,
        "xaxis": {
         "title": {
          "text": "Epoch"
         }
        },
        "yaxis": {
         "title": {
          "text": "MSE"
         }
        }
       }
      },
      "text/html": [
       "<div>                            <div id=\"1e1210aa-4e0b-4bdf-abdf-8210578df87a\" class=\"plotly-graph-div\" style=\"height:500px; width:700px;\"></div>            <script type=\"text/javascript\">                require([\"plotly\"], function(Plotly) {                    window.PLOTLYENV=window.PLOTLYENV || {};                                    if (document.getElementById(\"1e1210aa-4e0b-4bdf-abdf-8210578df87a\")) {                    Plotly.newPlot(                        \"1e1210aa-4e0b-4bdf-abdf-8210578df87a\",                        [{\"name\":\"Train\",\"y\":[1.0646515958937461,0.21440378935369758,0.18410431143628048,0.17013993704292152,0.15810817635115904,0.1473368377959989,0.14258678099466843,0.1374196745655733,0.13178139401825997,0.1300150407565454,0.12624537791250026,0.12290111967846297,0.12108790484058542,0.11967394223864601,0.11695238315102092,0.11464753849774524,0.11268335817526597,0.11221936963789346,0.11377697620264211,0.11141670357201171,0.10797028580951715,0.10745333649454783,0.10663761049877316,0.10658125428070594,0.10505293675609577,0.10452421653176636,0.10282949386052803,0.10253897620904877,0.10140372354106762,0.10159158038052128,0.09903939657782569,0.09981746079286806,0.09842551980876987,0.09783744636817494,0.09788819888628422,0.09648815169707715,0.09665932515678036,0.09636184187354203,0.09634171066819902,0.09437640754022418,0.09354848756405548,0.09312612331838488,0.09464266547700752,0.09093593656078267,0.09152236357809429,0.0920843662774358,0.09252652473156424,0.09006478761687685,0.0903990077843875,0.08822805157180975,0.08975644678580698,0.09033448716236737,0.08881619447532554,0.08887333441639296,0.08963058592902567,0.08779587164713072,0.08647127895026731,0.08680627820046259,0.0871977983459497,0.08763438683740761,0.08632393123024927,0.08692316348532414,0.0854734134093992,0.08546072261483481,0.08408532541864594,0.08604665114666654,0.08444323540375384,0.08586762084034615,0.08320189005526259,0.08439240495584435,0.08437000629740277,0.08361855829137925,0.08324377688957144,0.08309794070991575,0.08142010167353358,0.08251499594910355,0.08222894027993108,0.08215229967740095,0.08210352474955235,0.08208897105828845,0.08148706500524398,0.08016181270346416,0.08036496361970245,0.07972495649925414,0.0794022890546508,0.08182291532337829,0.08064052874784673,0.0805950878844287,0.07854509247790566,0.07984294607943121,0.07975976350421556,0.07906491950545737,0.07816895671100031,0.07893706586709526,0.07839972837585125,0.07797687980561513,0.07928091458292895,0.07816094210063322,0.07687712660556123,0.07701569767839983],\"type\":\"scattergl\"},{\"name\":\"Valid\",\"y\":[0.2158663648037546,0.18614744674202893,0.18024602175932053,0.18087510711581847,0.15933301222540952,0.17219036478016253,0.16729140564810588,0.1561973666057363,0.16510734029740298,0.15240645908625805,0.15063034884637275,0.15479299511808414,0.14361249578779706,0.14181953083715323,0.16163248381521736,0.14446695361012857,0.1435309279425229,0.16257251831819214,0.1555599266723825,0.14098783957516037,0.1476155880226681,0.1449137412739197,0.1512512713219522,0.1526667931308176,0.14620077253561142,0.15380214036278073,0.14585673688353237,0.15822962308013466,0.14752238961803832,0.15873061217519932,0.15819210681520024,0.1534945633851787,0.14737374928302607,0.16450674857811706,0.15258973857767197,0.1474595027922862,0.15236681984014172,0.16109988757780697,0.15423389062296702,0.173190567571949,0.16639458940256555,0.15228479108536994,0.14923039227047263,0.16263927338274026,0.15278895148537902,0.1559942320925462,0.15457526959315293,0.15057126233561485,0.1590757874784643,0.15352788396083794,0.16759213049424407,0.15553316400639494,0.1534539939529692,0.16303974153709447,0.15673516987400646,0.15250642402527642,0.15613513511523075,0.16079453637373664,0.16038578038049592,0.15483422620527948,0.15899573269890258,0.15330862843859475,0.1581402329966302,0.15733399388241462,0.158062708318053,0.15391860528934373,0.15531822557953792,0.15736392047890743,0.16463137050860763,0.15724014259034444,0.1551978231085511,0.16397848642973356,0.15195124392749504,0.15987771690839353,0.15971462402061293,0.15830754075286788,0.1647474984331712,0.15808191800731136,0.16123405395020687,0.17038216126587785,0.16094545306839517,0.16309791345383343,0.16080152117037394,0.16249961693637935,0.1630454897812873,0.16061823903657016,0.16111420311546976,0.17005335286338613,0.16848327649262346,0.16096216227004784,0.15559525735941374,0.16401856237519066,0.1622544788303563,0.16350673972703036,0.16044386230933674,0.1670077544983186,0.1732496134852208,0.16563627688971366,0.16578862914797216,0.16527729796176602],\"type\":\"scattergl\"}],                        {\"template\":{\"data\":{\"bar\":[{\"error_x\":{\"color\":\"#2a3f5f\"},\"error_y\":{\"color\":\"#2a3f5f\"},\"marker\":{\"line\":{\"color\":\"#E5ECF6\",\"width\":0.5},\"pattern\":{\"fillmode\":\"overlay\",\"size\":10,\"solidity\":0.2}},\"type\":\"bar\"}],\"barpolar\":[{\"marker\":{\"line\":{\"color\":\"#E5ECF6\",\"width\":0.5},\"pattern\":{\"fillmode\":\"overlay\",\"size\":10,\"solidity\":0.2}},\"type\":\"barpolar\"}],\"carpet\":[{\"aaxis\":{\"endlinecolor\":\"#2a3f5f\",\"gridcolor\":\"white\",\"linecolor\":\"white\",\"minorgridcolor\":\"white\",\"startlinecolor\":\"#2a3f5f\"},\"baxis\":{\"endlinecolor\":\"#2a3f5f\",\"gridcolor\":\"white\",\"linecolor\":\"white\",\"minorgridcolor\":\"white\",\"startlinecolor\":\"#2a3f5f\"},\"type\":\"carpet\"}],\"choropleth\":[{\"colorbar\":{\"outlinewidth\":0,\"ticks\":\"\"},\"type\":\"choropleth\"}],\"contour\":[{\"colorbar\":{\"outlinewidth\":0,\"ticks\":\"\"},\"colorscale\":[[0.0,\"#0d0887\"],[0.1111111111111111,\"#46039f\"],[0.2222222222222222,\"#7201a8\"],[0.3333333333333333,\"#9c179e\"],[0.4444444444444444,\"#bd3786\"],[0.5555555555555556,\"#d8576b\"],[0.6666666666666666,\"#ed7953\"],[0.7777777777777778,\"#fb9f3a\"],[0.8888888888888888,\"#fdca26\"],[1.0,\"#f0f921\"]],\"type\":\"contour\"}],\"contourcarpet\":[{\"colorbar\":{\"outlinewidth\":0,\"ticks\":\"\"},\"type\":\"contourcarpet\"}],\"heatmap\":[{\"colorbar\":{\"outlinewidth\":0,\"ticks\":\"\"},\"colorscale\":[[0.0,\"#0d0887\"],[0.1111111111111111,\"#46039f\"],[0.2222222222222222,\"#7201a8\"],[0.3333333333333333,\"#9c179e\"],[0.4444444444444444,\"#bd3786\"],[0.5555555555555556,\"#d8576b\"],[0.6666666666666666,\"#ed7953\"],[0.7777777777777778,\"#fb9f3a\"],[0.8888888888888888,\"#fdca26\"],[1.0,\"#f0f921\"]],\"type\":\"heatmap\"}],\"heatmapgl\":[{\"colorbar\":{\"outlinewidth\":0,\"ticks\":\"\"},\"colorscale\":[[0.0,\"#0d0887\"],[0.1111111111111111,\"#46039f\"],[0.2222222222222222,\"#7201a8\"],[0.3333333333333333,\"#9c179e\"],[0.4444444444444444,\"#bd3786\"],[0.5555555555555556,\"#d8576b\"],[0.6666666666666666,\"#ed7953\"],[0.7777777777777778,\"#fb9f3a\"],[0.8888888888888888,\"#fdca26\"],[1.0,\"#f0f921\"]],\"type\":\"heatmapgl\"}],\"histogram\":[{\"marker\":{\"pattern\":{\"fillmode\":\"overlay\",\"size\":10,\"solidity\":0.2}},\"type\":\"histogram\"}],\"histogram2d\":[{\"colorbar\":{\"outlinewidth\":0,\"ticks\":\"\"},\"colorscale\":[[0.0,\"#0d0887\"],[0.1111111111111111,\"#46039f\"],[0.2222222222222222,\"#7201a8\"],[0.3333333333333333,\"#9c179e\"],[0.4444444444444444,\"#bd3786\"],[0.5555555555555556,\"#d8576b\"],[0.6666666666666666,\"#ed7953\"],[0.7777777777777778,\"#fb9f3a\"],[0.8888888888888888,\"#fdca26\"],[1.0,\"#f0f921\"]],\"type\":\"histogram2d\"}],\"histogram2dcontour\":[{\"colorbar\":{\"outlinewidth\":0,\"ticks\":\"\"},\"colorscale\":[[0.0,\"#0d0887\"],[0.1111111111111111,\"#46039f\"],[0.2222222222222222,\"#7201a8\"],[0.3333333333333333,\"#9c179e\"],[0.4444444444444444,\"#bd3786\"],[0.5555555555555556,\"#d8576b\"],[0.6666666666666666,\"#ed7953\"],[0.7777777777777778,\"#fb9f3a\"],[0.8888888888888888,\"#fdca26\"],[1.0,\"#f0f921\"]],\"type\":\"histogram2dcontour\"}],\"mesh3d\":[{\"colorbar\":{\"outlinewidth\":0,\"ticks\":\"\"},\"type\":\"mesh3d\"}],\"parcoords\":[{\"line\":{\"colorbar\":{\"outlinewidth\":0,\"ticks\":\"\"}},\"type\":\"parcoords\"}],\"pie\":[{\"automargin\":true,\"type\":\"pie\"}],\"scatter\":[{\"marker\":{\"colorbar\":{\"outlinewidth\":0,\"ticks\":\"\"}},\"type\":\"scatter\"}],\"scatter3d\":[{\"line\":{\"colorbar\":{\"outlinewidth\":0,\"ticks\":\"\"}},\"marker\":{\"colorbar\":{\"outlinewidth\":0,\"ticks\":\"\"}},\"type\":\"scatter3d\"}],\"scattercarpet\":[{\"marker\":{\"colorbar\":{\"outlinewidth\":0,\"ticks\":\"\"}},\"type\":\"scattercarpet\"}],\"scattergeo\":[{\"marker\":{\"colorbar\":{\"outlinewidth\":0,\"ticks\":\"\"}},\"type\":\"scattergeo\"}],\"scattergl\":[{\"marker\":{\"colorbar\":{\"outlinewidth\":0,\"ticks\":\"\"}},\"type\":\"scattergl\"}],\"scattermapbox\":[{\"marker\":{\"colorbar\":{\"outlinewidth\":0,\"ticks\":\"\"}},\"type\":\"scattermapbox\"}],\"scatterpolar\":[{\"marker\":{\"colorbar\":{\"outlinewidth\":0,\"ticks\":\"\"}},\"type\":\"scatterpolar\"}],\"scatterpolargl\":[{\"marker\":{\"colorbar\":{\"outlinewidth\":0,\"ticks\":\"\"}},\"type\":\"scatterpolargl\"}],\"scatterternary\":[{\"marker\":{\"colorbar\":{\"outlinewidth\":0,\"ticks\":\"\"}},\"type\":\"scatterternary\"}],\"surface\":[{\"colorbar\":{\"outlinewidth\":0,\"ticks\":\"\"},\"colorscale\":[[0.0,\"#0d0887\"],[0.1111111111111111,\"#46039f\"],[0.2222222222222222,\"#7201a8\"],[0.3333333333333333,\"#9c179e\"],[0.4444444444444444,\"#bd3786\"],[0.5555555555555556,\"#d8576b\"],[0.6666666666666666,\"#ed7953\"],[0.7777777777777778,\"#fb9f3a\"],[0.8888888888888888,\"#fdca26\"],[1.0,\"#f0f921\"]],\"type\":\"surface\"}],\"table\":[{\"cells\":{\"fill\":{\"color\":\"#EBF0F8\"},\"line\":{\"color\":\"white\"}},\"header\":{\"fill\":{\"color\":\"#C8D4E3\"},\"line\":{\"color\":\"white\"}},\"type\":\"table\"}]},\"layout\":{\"annotationdefaults\":{\"arrowcolor\":\"#2a3f5f\",\"arrowhead\":0,\"arrowwidth\":1},\"autotypenumbers\":\"strict\",\"coloraxis\":{\"colorbar\":{\"outlinewidth\":0,\"ticks\":\"\"}},\"colorscale\":{\"diverging\":[[0,\"#8e0152\"],[0.1,\"#c51b7d\"],[0.2,\"#de77ae\"],[0.3,\"#f1b6da\"],[0.4,\"#fde0ef\"],[0.5,\"#f7f7f7\"],[0.6,\"#e6f5d0\"],[0.7,\"#b8e186\"],[0.8,\"#7fbc41\"],[0.9,\"#4d9221\"],[1,\"#276419\"]],\"sequential\":[[0.0,\"#0d0887\"],[0.1111111111111111,\"#46039f\"],[0.2222222222222222,\"#7201a8\"],[0.3333333333333333,\"#9c179e\"],[0.4444444444444444,\"#bd3786\"],[0.5555555555555556,\"#d8576b\"],[0.6666666666666666,\"#ed7953\"],[0.7777777777777778,\"#fb9f3a\"],[0.8888888888888888,\"#fdca26\"],[1.0,\"#f0f921\"]],\"sequentialminus\":[[0.0,\"#0d0887\"],[0.1111111111111111,\"#46039f\"],[0.2222222222222222,\"#7201a8\"],[0.3333333333333333,\"#9c179e\"],[0.4444444444444444,\"#bd3786\"],[0.5555555555555556,\"#d8576b\"],[0.6666666666666666,\"#ed7953\"],[0.7777777777777778,\"#fb9f3a\"],[0.8888888888888888,\"#fdca26\"],[1.0,\"#f0f921\"]]},\"colorway\":[\"#636efa\",\"#EF553B\",\"#00cc96\",\"#ab63fa\",\"#FFA15A\",\"#19d3f3\",\"#FF6692\",\"#B6E880\",\"#FF97FF\",\"#FECB52\"],\"font\":{\"color\":\"#2a3f5f\"},\"geo\":{\"bgcolor\":\"white\",\"lakecolor\":\"white\",\"landcolor\":\"#E5ECF6\",\"showlakes\":true,\"showland\":true,\"subunitcolor\":\"white\"},\"hoverlabel\":{\"align\":\"left\"},\"hovermode\":\"closest\",\"mapbox\":{\"style\":\"light\"},\"paper_bgcolor\":\"white\",\"plot_bgcolor\":\"#E5ECF6\",\"polar\":{\"angularaxis\":{\"gridcolor\":\"white\",\"linecolor\":\"white\",\"ticks\":\"\"},\"bgcolor\":\"#E5ECF6\",\"radialaxis\":{\"gridcolor\":\"white\",\"linecolor\":\"white\",\"ticks\":\"\"}},\"scene\":{\"xaxis\":{\"backgroundcolor\":\"#E5ECF6\",\"gridcolor\":\"white\",\"gridwidth\":2,\"linecolor\":\"white\",\"showbackground\":true,\"ticks\":\"\",\"zerolinecolor\":\"white\"},\"yaxis\":{\"backgroundcolor\":\"#E5ECF6\",\"gridcolor\":\"white\",\"gridwidth\":2,\"linecolor\":\"white\",\"showbackground\":true,\"ticks\":\"\",\"zerolinecolor\":\"white\"},\"zaxis\":{\"backgroundcolor\":\"#E5ECF6\",\"gridcolor\":\"white\",\"gridwidth\":2,\"linecolor\":\"white\",\"showbackground\":true,\"ticks\":\"\",\"zerolinecolor\":\"white\"}},\"shapedefaults\":{\"line\":{\"color\":\"#2a3f5f\"}},\"ternary\":{\"aaxis\":{\"gridcolor\":\"white\",\"linecolor\":\"white\",\"ticks\":\"\"},\"baxis\":{\"gridcolor\":\"white\",\"linecolor\":\"white\",\"ticks\":\"\"},\"bgcolor\":\"#E5ECF6\",\"caxis\":{\"gridcolor\":\"white\",\"linecolor\":\"white\",\"ticks\":\"\"}},\"title\":{\"x\":0.05},\"xaxis\":{\"automargin\":true,\"gridcolor\":\"white\",\"linecolor\":\"white\",\"ticks\":\"\",\"title\":{\"standoff\":15},\"zerolinecolor\":\"white\",\"zerolinewidth\":2},\"yaxis\":{\"automargin\":true,\"gridcolor\":\"white\",\"linecolor\":\"white\",\"ticks\":\"\",\"title\":{\"standoff\":15},\"zerolinecolor\":\"white\",\"zerolinewidth\":2}}},\"height\":500,\"width\":700,\"xaxis\":{\"title\":{\"text\":\"Epoch\"}},\"yaxis\":{\"title\":{\"text\":\"MSE\"}}},                        {\"responsive\": true}                    ).then(function(){\n",
       "                            \n",
       "var gd = document.getElementById('1e1210aa-4e0b-4bdf-abdf-8210578df87a');\n",
       "var x = new MutationObserver(function (mutations, observer) {{\n",
       "        var display = window.getComputedStyle(gd).display;\n",
       "        if (!display || display === 'none') {{\n",
       "            console.log([gd, 'removed!']);\n",
       "            Plotly.purge(gd);\n",
       "            observer.disconnect();\n",
       "        }}\n",
       "}});\n",
       "\n",
       "// Listen for the removal of the full notebook cells\n",
       "var notebookContainer = gd.closest('#notebook-container');\n",
       "if (notebookContainer) {{\n",
       "    x.observe(notebookContainer, {childList: true});\n",
       "}}\n",
       "\n",
       "// Listen for the clearing of the current output cell\n",
       "var outputEl = gd.closest('.output');\n",
       "if (outputEl) {{\n",
       "    x.observe(outputEl, {childList: true});\n",
       "}}\n",
       "\n",
       "                        })                };                });            </script>        </div>"
      ]
     },
     "metadata": {},
     "output_type": "display_data"
    }
   ],
   "source": [
    "import plotly.graph_objects as go\n",
    "\n",
    "fig = go.Figure()\n",
    "fig.add_trace(go.Scattergl(y=history_bl.history['loss'],\n",
    "                    name='Train'))\n",
    "fig.add_trace(go.Scattergl(y=history_bl.history['val_loss'],\n",
    "                    name='Valid'))\n",
    "fig.update_layout(height=500, width=700,\n",
    "                  xaxis_title='Epoch',\n",
    "                  yaxis_title='MSE')\n",
    "fig.show()"
   ]
  },
  {
   "cell_type": "code",
   "execution_count": 225,
   "id": "39eabaca",
   "metadata": {},
   "outputs": [
    {
     "name": "stdout",
     "output_type": "stream",
     "text": [
      "Train R-sq:  0.8669\n",
      "Train MSE:  0.077\n",
      "Val R-sq:  0.6896\n",
      "Val MSE:  0.1653\n",
      "Test R-sq:  0.6716\n",
      "Test MSE:  0.1948\n"
     ]
    }
   ],
   "source": [
    "mse_nn, rmse_nn, r2_nn = model_bl.evaluate(X_test_trfm, y_test)\n",
    "print('Train R-sq: ', round(history_bl.history['r2'][epoch-1],4))\n",
    "print('Train MSE: ', round(history_bl.history['loss'][epoch-1],4))\n",
    "print('Val R-sq: ', round(history_bl.history['val_r2'][epoch-1],4))\n",
    "print('Val MSE: ', round(history_bl.history['val_loss'][epoch-1],4))\n",
    "print('Test R-sq: ', round(r2_nn,4))\n",
    "print('Test MSE: ', round(mse_nn,4))"
   ]
  },
  {
   "cell_type": "code",
   "execution_count": 226,
   "id": "5ceda0ce",
   "metadata": {},
   "outputs": [
    {
     "name": "stdout",
     "output_type": "stream",
     "text": [
      "Model: \"sequential_16\"\n",
      "_________________________________________________________________\n",
      " Layer (type)                Output Shape              Param #   \n",
      "=================================================================\n",
      " dense_36 (Dense)            (None, 120)               14520     \n",
      "                                                                 \n",
      " dense_37 (Dense)            (None, 1)                 121       \n",
      "                                                                 \n",
      "=================================================================\n",
      "Total params: 14,641\n",
      "Trainable params: 14,641\n",
      "Non-trainable params: 0\n",
      "_________________________________________________________________\n",
      "Train on 25087 samples, validate on 1321 samples\n",
      "Epoch 1/20\n",
      "25087/25087 [==============================] - 1s 36us/sample - loss: 1.3324 - rmse: 0.6875 - r2: -1.3719 - val_loss: 0.2130 - val_rmse: 0.3437 - val_r2: 0.5972\n",
      "Epoch 2/20\n",
      "25087/25087 [==============================] - 1s 31us/sample - loss: 0.2202 - rmse: 0.3441 - r2: 0.6220 - val_loss: 0.1892 - val_rmse: 0.3257 - val_r2: 0.6336\n",
      "Epoch 3/20\n",
      "25087/25087 [==============================] - 1s 29us/sample - loss: 0.1865 - rmse: 0.3158 - r2: 0.6821 - val_loss: 0.1761 - val_rmse: 0.3164 - val_r2: 0.6711\n",
      "Epoch 4/20\n",
      "25087/25087 [==============================] - 1s 30us/sample - loss: 0.1688 - rmse: 0.3013 - r2: 0.7124 - val_loss: 0.1703 - val_rmse: 0.3057 - val_r2: 0.6933\n",
      "Epoch 5/20\n",
      "25087/25087 [==============================] - 1s 29us/sample - loss: 0.1571 - rmse: 0.2891 - r2: 0.7295 - val_loss: 0.1523 - val_rmse: 0.2822 - val_r2: 0.7063\n",
      "Epoch 6/20\n",
      "25087/25087 [==============================] - 1s 31us/sample - loss: 0.1495 - rmse: 0.2819 - r2: 0.7418 - val_loss: 0.1559 - val_rmse: 0.2907 - val_r2: 0.7067\n",
      "Epoch 7/20\n",
      "25087/25087 [==============================] - 1s 32us/sample - loss: 0.1412 - rmse: 0.2750 - r2: 0.7566 - val_loss: 0.1453 - val_rmse: 0.2771 - val_r2: 0.7321\n",
      "Epoch 8/20\n",
      "25087/25087 [==============================] - 1s 30us/sample - loss: 0.1354 - rmse: 0.2680 - r2: 0.7663 - val_loss: 0.1516 - val_rmse: 0.2807 - val_r2: 0.7202\n",
      "Epoch 9/20\n",
      "25087/25087 [==============================] - 1s 30us/sample - loss: 0.1314 - rmse: 0.2648 - r2: 0.7741 - val_loss: 0.1630 - val_rmse: 0.3033 - val_r2: 0.6979\n",
      "Epoch 10/20\n",
      "25087/25087 [==============================] - 1s 30us/sample - loss: 0.1265 - rmse: 0.2600 - r2: 0.7816 - val_loss: 0.1580 - val_rmse: 0.2857 - val_r2: 0.7101\n",
      "Epoch 11/20\n",
      "25087/25087 [==============================] - 1s 30us/sample - loss: 0.1249 - rmse: 0.2589 - r2: 0.7827 - val_loss: 0.1512 - val_rmse: 0.2873 - val_r2: 0.7169\n",
      "Epoch 12/20\n",
      "25087/25087 [==============================] - 1s 29us/sample - loss: 0.1220 - rmse: 0.2550 - r2: 0.7883 - val_loss: 0.1445 - val_rmse: 0.2801 - val_r2: 0.7317\n",
      "Epoch 13/20\n",
      "25087/25087 [==============================] - 1s 30us/sample - loss: 0.1197 - rmse: 0.2528 - r2: 0.7935 - val_loss: 0.1575 - val_rmse: 0.2928 - val_r2: 0.6994\n",
      "Epoch 14/20\n",
      "25087/25087 [==============================] - 1s 30us/sample - loss: 0.1190 - rmse: 0.2525 - r2: 0.7928 - val_loss: 0.1473 - val_rmse: 0.2773 - val_r2: 0.7222\n",
      "Epoch 15/20\n",
      "25087/25087 [==============================] - 1s 29us/sample - loss: 0.1145 - rmse: 0.2476 - r2: 0.8030 - val_loss: 0.1506 - val_rmse: 0.2818 - val_r2: 0.7221\n",
      "Epoch 16/20\n",
      "25087/25087 [==============================] - 1s 29us/sample - loss: 0.1113 - rmse: 0.2446 - r2: 0.8073 - val_loss: 0.1553 - val_rmse: 0.2904 - val_r2: 0.7095\n",
      "Epoch 17/20\n",
      "25087/25087 [==============================] - 1s 29us/sample - loss: 0.1126 - rmse: 0.2457 - r2: 0.8052 - val_loss: 0.1503 - val_rmse: 0.2792 - val_r2: 0.7340\n",
      "Epoch 18/20\n",
      "25087/25087 [==============================] - 1s 29us/sample - loss: 0.1097 - rmse: 0.2427 - r2: 0.8106 - val_loss: 0.1547 - val_rmse: 0.2880 - val_r2: 0.7139\n",
      "Epoch 19/20\n",
      "25087/25087 [==============================] - 1s 28us/sample - loss: 0.1099 - rmse: 0.2426 - r2: 0.8078 - val_loss: 0.1496 - val_rmse: 0.2827 - val_r2: 0.7271\n",
      "Epoch 20/20\n",
      "25087/25087 [==============================] - 1s 28us/sample - loss: 0.1060 - rmse: 0.2396 - r2: 0.8187 - val_loss: 0.1558 - val_rmse: 0.2897 - val_r2: 0.7161\n"
     ]
    }
   ],
   "source": [
    "best_model_bl = baseline_model()\n",
    "best_model_bl.summary()\n",
    "epoch=20\n",
    "best_history_bl = best_model_bl.fit(X_train_trfm, y_train, epochs=epoch, validation_split=0.05)"
   ]
  },
  {
   "cell_type": "code",
   "execution_count": 227,
   "id": "e233b83a",
   "metadata": {},
   "outputs": [
    {
     "name": "stdout",
     "output_type": "stream",
     "text": [
      "Train R-sq:  0.8187\n",
      "Train MSE:  0.106\n",
      "Val R-sq:  0.7161\n",
      "Val MSE:  0.1558\n",
      "Test R-sq:  0.698\n",
      "Test MSE:  0.18\n"
     ]
    }
   ],
   "source": [
    "mse_nn, rmse_nn, r2_nn = best_model_bl.evaluate(X_test_trfm, y_test)\n",
    "print('Train R-sq: ', round(best_history_bl.history['r2'][epoch-1],4))\n",
    "print('Train MSE: ', round(best_history_bl.history['loss'][epoch-1],4))\n",
    "print('Val R-sq: ', round(best_history_bl.history['val_r2'][epoch-1],4))\n",
    "print('Val MSE: ', round(best_history_bl.history['val_loss'][epoch-1],4))\n",
    "print('Test R-sq: ', round(r2_nn,4))\n",
    "print('Test MSE: ', round(mse_nn,4))"
   ]
  },
  {
   "cell_type": "markdown",
   "id": "94694d2b",
   "metadata": {},
   "source": [
    "### Deep NN"
   ]
  },
  {
   "cell_type": "code",
   "execution_count": 228,
   "id": "dbe4ff1f",
   "metadata": {},
   "outputs": [
    {
     "name": "stdout",
     "output_type": "stream",
     "text": [
      "Model: \"sequential_17\"\n",
      "_________________________________________________________________\n",
      " Layer (type)                Output Shape              Param #   \n",
      "=================================================================\n",
      " dense_38 (Dense)            (None, 120)               14520     \n",
      "                                                                 \n",
      " dense_39 (Dense)            (None, 60)                7260      \n",
      "                                                                 \n",
      " dense_40 (Dense)            (None, 1)                 61        \n",
      "                                                                 \n",
      "=================================================================\n",
      "Total params: 21,841\n",
      "Trainable params: 21,841\n",
      "Non-trainable params: 0\n",
      "_________________________________________________________________\n"
     ]
    }
   ],
   "source": [
    "def deep_model():\n",
    "    # create model\n",
    "    model = Sequential()\n",
    "    model.add(Dense(120, input_dim=120, kernel_initializer='normal', activation='relu'))\n",
    "    model.add(Dense(60, kernel_initializer='normal', activation='relu'))\n",
    "    model.add(Dense(1, kernel_initializer='normal'))\n",
    "    # Compile model\n",
    "    model.compile(loss='mean_squared_error', optimizer='adam', metrics=[rmse,r2])\n",
    "    return model\n",
    "model_dp = deep_model()\n",
    "model_dp.summary()"
   ]
  },
  {
   "cell_type": "code",
   "execution_count": 229,
   "id": "a19276a4",
   "metadata": {},
   "outputs": [
    {
     "name": "stdout",
     "output_type": "stream",
     "text": [
      "Train on 25087 samples, validate on 1321 samples\n",
      "Epoch 1/100\n",
      "25087/25087 [==============================] - 1s 42us/sample - loss: 0.8462 - rmse: 0.5291 - r2: -0.5467 - val_loss: 0.2008 - val_rmse: 0.3325 - val_r2: 0.6223\n",
      "Epoch 2/100\n",
      "25087/25087 [==============================] - 1s 33us/sample - loss: 0.2023 - rmse: 0.3290 - r2: 0.6539 - val_loss: 0.1737 - val_rmse: 0.3089 - val_r2: 0.6609\n",
      "Epoch 3/100\n",
      "25087/25087 [==============================] - 1s 33us/sample - loss: 0.1797 - rmse: 0.3111 - r2: 0.6928 - val_loss: 0.1891 - val_rmse: 0.3255 - val_r2: 0.6458\n",
      "Epoch 4/100\n",
      "25087/25087 [==============================] - 1s 33us/sample - loss: 0.1685 - rmse: 0.3010 - r2: 0.7078 - val_loss: 0.1679 - val_rmse: 0.3005 - val_r2: 0.6855\n",
      "Epoch 5/100\n",
      "25087/25087 [==============================] - 1s 35us/sample - loss: 0.1662 - rmse: 0.2989 - r2: 0.7144 - val_loss: 0.1696 - val_rmse: 0.3012 - val_r2: 0.6836\n",
      "Epoch 6/100\n",
      "25087/25087 [==============================] - 1s 32us/sample - loss: 0.1587 - rmse: 0.2914 - r2: 0.7264 - val_loss: 0.1704 - val_rmse: 0.3120 - val_r2: 0.6799\n",
      "Epoch 7/100\n",
      "25087/25087 [==============================] - 1s 32us/sample - loss: 0.1547 - rmse: 0.2880 - r2: 0.7338 - val_loss: 0.1669 - val_rmse: 0.3023 - val_r2: 0.6884\n",
      "Epoch 8/100\n",
      "25087/25087 [==============================] - 1s 33us/sample - loss: 0.1478 - rmse: 0.2806 - r2: 0.7446 - val_loss: 0.1661 - val_rmse: 0.3003 - val_r2: 0.7002\n",
      "Epoch 9/100\n",
      "25087/25087 [==============================] - 1s 34us/sample - loss: 0.1464 - rmse: 0.2800 - r2: 0.7487 - val_loss: 0.1632 - val_rmse: 0.2974 - val_r2: 0.6946\n",
      "Epoch 10/100\n",
      "25087/25087 [==============================] - 1s 33us/sample - loss: 0.1417 - rmse: 0.2761 - r2: 0.7577 - val_loss: 0.1612 - val_rmse: 0.2962 - val_r2: 0.6984\n",
      "Epoch 11/100\n",
      "25087/25087 [==============================] - 1s 33us/sample - loss: 0.1369 - rmse: 0.2713 - r2: 0.7662 - val_loss: 0.1772 - val_rmse: 0.3107 - val_r2: 0.6645\n",
      "Epoch 12/100\n",
      "25087/25087 [==============================] - 1s 33us/sample - loss: 0.1358 - rmse: 0.2713 - r2: 0.7651 - val_loss: 0.1606 - val_rmse: 0.2934 - val_r2: 0.7042\n",
      "Epoch 13/100\n",
      "25087/25087 [==============================] - 1s 33us/sample - loss: 0.1309 - rmse: 0.2653 - r2: 0.7741 - val_loss: 0.1606 - val_rmse: 0.2923 - val_r2: 0.6993\n",
      "Epoch 14/100\n",
      "25087/25087 [==============================] - 1s 33us/sample - loss: 0.1305 - rmse: 0.2647 - r2: 0.7766 - val_loss: 0.1657 - val_rmse: 0.2989 - val_r2: 0.6984\n",
      "Epoch 15/100\n",
      "25087/25087 [==============================] - 1s 33us/sample - loss: 0.1243 - rmse: 0.2597 - r2: 0.7844 - val_loss: 0.1754 - val_rmse: 0.3102 - val_r2: 0.6761\n",
      "Epoch 16/100\n",
      "25087/25087 [==============================] - 1s 34us/sample - loss: 0.1222 - rmse: 0.2569 - r2: 0.7899 - val_loss: 0.1683 - val_rmse: 0.3039 - val_r2: 0.6793\n",
      "Epoch 17/100\n",
      "25087/25087 [==============================] - 1s 34us/sample - loss: 0.1200 - rmse: 0.2547 - r2: 0.7926 - val_loss: 0.1581 - val_rmse: 0.2945 - val_r2: 0.7168\n",
      "Epoch 18/100\n",
      "25087/25087 [==============================] - 1s 33us/sample - loss: 0.1183 - rmse: 0.2534 - r2: 0.7963 - val_loss: 0.1674 - val_rmse: 0.2967 - val_r2: 0.6862\n",
      "Epoch 19/100\n",
      "25087/25087 [==============================] - 1s 37us/sample - loss: 0.1144 - rmse: 0.2496 - r2: 0.8008 - val_loss: 0.1660 - val_rmse: 0.2991 - val_r2: 0.6872\n",
      "Epoch 20/100\n",
      "25087/25087 [==============================] - 1s 33us/sample - loss: 0.1123 - rmse: 0.2480 - r2: 0.8064 - val_loss: 0.1659 - val_rmse: 0.3001 - val_r2: 0.6822\n",
      "Epoch 21/100\n",
      "25087/25087 [==============================] - 1s 32us/sample - loss: 0.1102 - rmse: 0.2450 - r2: 0.8084 - val_loss: 0.1941 - val_rmse: 0.3279 - val_r2: 0.6347\n",
      "Epoch 22/100\n",
      "25087/25087 [==============================] - 1s 32us/sample - loss: 0.1072 - rmse: 0.2421 - r2: 0.8137 - val_loss: 0.1667 - val_rmse: 0.3045 - val_r2: 0.6871\n",
      "Epoch 23/100\n",
      "25087/25087 [==============================] - 1s 32us/sample - loss: 0.1045 - rmse: 0.2390 - r2: 0.8171 - val_loss: 0.1661 - val_rmse: 0.2966 - val_r2: 0.6874\n",
      "Epoch 24/100\n",
      "25087/25087 [==============================] - 1s 32us/sample - loss: 0.1040 - rmse: 0.2385 - r2: 0.8188 - val_loss: 0.1652 - val_rmse: 0.3010 - val_r2: 0.6914\n",
      "Epoch 25/100\n",
      "25087/25087 [==============================] - 1s 31us/sample - loss: 0.1005 - rmse: 0.2345 - r2: 0.8246 - val_loss: 0.1718 - val_rmse: 0.3038 - val_r2: 0.6609\n",
      "Epoch 26/100\n",
      "25087/25087 [==============================] - 1s 32us/sample - loss: 0.1001 - rmse: 0.2350 - r2: 0.8253 - val_loss: 0.1769 - val_rmse: 0.3106 - val_r2: 0.6531\n",
      "Epoch 27/100\n",
      "25087/25087 [==============================] - 1s 32us/sample - loss: 0.0967 - rmse: 0.2309 - r2: 0.8314 - val_loss: 0.1757 - val_rmse: 0.3086 - val_r2: 0.6681\n",
      "Epoch 28/100\n",
      "25087/25087 [==============================] - 1s 32us/sample - loss: 0.0958 - rmse: 0.2297 - r2: 0.8322 - val_loss: 0.1680 - val_rmse: 0.3057 - val_r2: 0.6798\n",
      "Epoch 29/100\n",
      "25087/25087 [==============================] - 1s 32us/sample - loss: 0.0938 - rmse: 0.2272 - r2: 0.8358 - val_loss: 0.1748 - val_rmse: 0.3060 - val_r2: 0.6657\n",
      "Epoch 30/100\n",
      "25087/25087 [==============================] - 1s 32us/sample - loss: 0.0913 - rmse: 0.2244 - r2: 0.8404 - val_loss: 0.1722 - val_rmse: 0.3082 - val_r2: 0.6862\n",
      "Epoch 31/100\n",
      "25087/25087 [==============================] - 1s 32us/sample - loss: 0.0908 - rmse: 0.2239 - r2: 0.8419 - val_loss: 0.1838 - val_rmse: 0.3122 - val_r2: 0.6638\n",
      "Epoch 32/100\n",
      "25087/25087 [==============================] - 1s 32us/sample - loss: 0.0882 - rmse: 0.2199 - r2: 0.8458 - val_loss: 0.1776 - val_rmse: 0.3112 - val_r2: 0.6634\n",
      "Epoch 33/100\n",
      "25087/25087 [==============================] - 1s 32us/sample - loss: 0.0874 - rmse: 0.2203 - r2: 0.8465 - val_loss: 0.1808 - val_rmse: 0.3122 - val_r2: 0.6529\n",
      "Epoch 34/100\n",
      "25087/25087 [==============================] - 1s 32us/sample - loss: 0.0858 - rmse: 0.2175 - r2: 0.8490 - val_loss: 0.1767 - val_rmse: 0.3116 - val_r2: 0.6668\n",
      "Epoch 35/100\n",
      "25087/25087 [==============================] - 1s 32us/sample - loss: 0.0845 - rmse: 0.2155 - r2: 0.8530 - val_loss: 0.1963 - val_rmse: 0.3277 - val_r2: 0.6209\n",
      "Epoch 36/100\n",
      "25087/25087 [==============================] - 1s 32us/sample - loss: 0.0831 - rmse: 0.2143 - r2: 0.8543 - val_loss: 0.1853 - val_rmse: 0.3150 - val_r2: 0.6619\n",
      "Epoch 37/100\n",
      "25087/25087 [==============================] - 1s 32us/sample - loss: 0.0820 - rmse: 0.2128 - r2: 0.8564 - val_loss: 0.1792 - val_rmse: 0.3105 - val_r2: 0.6607\n",
      "Epoch 38/100\n",
      "25087/25087 [==============================] - 1s 32us/sample - loss: 0.0818 - rmse: 0.2128 - r2: 0.8565 - val_loss: 0.1861 - val_rmse: 0.3235 - val_r2: 0.6595\n",
      "Epoch 39/100\n",
      "25087/25087 [==============================] - 1s 32us/sample - loss: 0.0789 - rmse: 0.2093 - r2: 0.8611 - val_loss: 0.1797 - val_rmse: 0.3099 - val_r2: 0.6508\n",
      "Epoch 40/100\n",
      "25087/25087 [==============================] - 1s 32us/sample - loss: 0.0782 - rmse: 0.2087 - r2: 0.8617 - val_loss: 0.1862 - val_rmse: 0.3211 - val_r2: 0.6515\n",
      "Epoch 41/100\n",
      "25087/25087 [==============================] - 1s 32us/sample - loss: 0.0766 - rmse: 0.2061 - r2: 0.8655 - val_loss: 0.1859 - val_rmse: 0.3190 - val_r2: 0.6503\n",
      "Epoch 42/100\n",
      "25087/25087 [==============================] - 1s 32us/sample - loss: 0.0756 - rmse: 0.2051 - r2: 0.8686 - val_loss: 0.1877 - val_rmse: 0.3190 - val_r2: 0.6480\n",
      "Epoch 43/100\n",
      "25087/25087 [==============================] - 1s 32us/sample - loss: 0.0741 - rmse: 0.2025 - r2: 0.8703 - val_loss: 0.1892 - val_rmse: 0.3186 - val_r2: 0.6464\n",
      "Epoch 44/100\n",
      "25087/25087 [==============================] - 1s 32us/sample - loss: 0.0735 - rmse: 0.2026 - r2: 0.8697 - val_loss: 0.1913 - val_rmse: 0.3223 - val_r2: 0.6376\n",
      "Epoch 45/100\n",
      "25087/25087 [==============================] - 1s 31us/sample - loss: 0.0727 - rmse: 0.2017 - r2: 0.8710 - val_loss: 0.1946 - val_rmse: 0.3227 - val_r2: 0.6248\n",
      "Epoch 46/100\n",
      "25087/25087 [==============================] - 1s 32us/sample - loss: 0.0727 - rmse: 0.2007 - r2: 0.8717 - val_loss: 0.1902 - val_rmse: 0.3271 - val_r2: 0.6408\n",
      "Epoch 47/100\n",
      "25087/25087 [==============================] - 1s 32us/sample - loss: 0.0711 - rmse: 0.1984 - r2: 0.8749 - val_loss: 0.1868 - val_rmse: 0.3182 - val_r2: 0.6562\n",
      "Epoch 48/100\n"
     ]
    },
    {
     "name": "stdout",
     "output_type": "stream",
     "text": [
      "25087/25087 [==============================] - 1s 32us/sample - loss: 0.0704 - rmse: 0.1971 - r2: 0.8756 - val_loss: 0.1980 - val_rmse: 0.3303 - val_r2: 0.6233\n",
      "Epoch 49/100\n",
      "25087/25087 [==============================] - 1s 32us/sample - loss: 0.0689 - rmse: 0.1963 - r2: 0.8788 - val_loss: 0.1991 - val_rmse: 0.3258 - val_r2: 0.6241\n",
      "Epoch 50/100\n",
      "25087/25087 [==============================] - 1s 32us/sample - loss: 0.0681 - rmse: 0.1954 - r2: 0.8812 - val_loss: 0.1925 - val_rmse: 0.3260 - val_r2: 0.6398\n",
      "Epoch 51/100\n",
      "25087/25087 [==============================] - 1s 33us/sample - loss: 0.0668 - rmse: 0.1931 - r2: 0.8829 - val_loss: 0.1991 - val_rmse: 0.3285 - val_r2: 0.6057\n",
      "Epoch 52/100\n",
      "25087/25087 [==============================] - 1s 32us/sample - loss: 0.0661 - rmse: 0.1918 - r2: 0.8832 - val_loss: 0.1957 - val_rmse: 0.3267 - val_r2: 0.6313\n",
      "Epoch 53/100\n",
      "25087/25087 [==============================] - 1s 32us/sample - loss: 0.0649 - rmse: 0.1905 - r2: 0.8865 - val_loss: 0.1943 - val_rmse: 0.3259 - val_r2: 0.6208\n",
      "Epoch 54/100\n",
      "25087/25087 [==============================] - 1s 32us/sample - loss: 0.0654 - rmse: 0.1900 - r2: 0.8858 - val_loss: 0.2070 - val_rmse: 0.3341 - val_r2: 0.6164\n",
      "Epoch 55/100\n",
      "25087/25087 [==============================] - 1s 32us/sample - loss: 0.0649 - rmse: 0.1901 - r2: 0.8840 - val_loss: 0.1967 - val_rmse: 0.3301 - val_r2: 0.6172\n",
      "Epoch 56/100\n",
      "25087/25087 [==============================] - 1s 32us/sample - loss: 0.0628 - rmse: 0.1879 - r2: 0.8888 - val_loss: 0.2112 - val_rmse: 0.3383 - val_r2: 0.6101\n",
      "Epoch 57/100\n",
      "25087/25087 [==============================] - 1s 32us/sample - loss: 0.0629 - rmse: 0.1872 - r2: 0.8896 - val_loss: 0.2034 - val_rmse: 0.3304 - val_r2: 0.6246\n",
      "Epoch 58/100\n",
      "25087/25087 [==============================] - 1s 33us/sample - loss: 0.0620 - rmse: 0.1861 - r2: 0.8911 - val_loss: 0.2062 - val_rmse: 0.3332 - val_r2: 0.5964\n",
      "Epoch 59/100\n",
      "25087/25087 [==============================] - 1s 35us/sample - loss: 0.0626 - rmse: 0.1864 - r2: 0.8894 - val_loss: 0.2008 - val_rmse: 0.3283 - val_r2: 0.6251\n",
      "Epoch 60/100\n",
      "25087/25087 [==============================] - 1s 34us/sample - loss: 0.0619 - rmse: 0.1856 - r2: 0.8915 - val_loss: 0.2050 - val_rmse: 0.3306 - val_r2: 0.5944\n",
      "Epoch 61/100\n",
      "25087/25087 [==============================] - 1s 33us/sample - loss: 0.0600 - rmse: 0.1823 - r2: 0.8935 - val_loss: 0.2084 - val_rmse: 0.3421 - val_r2: 0.5951\n",
      "Epoch 62/100\n",
      "25087/25087 [==============================] - 1s 32us/sample - loss: 0.0589 - rmse: 0.1803 - r2: 0.8955 - val_loss: 0.2040 - val_rmse: 0.3309 - val_r2: 0.6159\n",
      "Epoch 63/100\n",
      "25087/25087 [==============================] - 1s 32us/sample - loss: 0.0583 - rmse: 0.1799 - r2: 0.8970 - val_loss: 0.2137 - val_rmse: 0.3389 - val_r2: 0.5964\n",
      "Epoch 64/100\n",
      "25087/25087 [==============================] - 1s 32us/sample - loss: 0.0583 - rmse: 0.1803 - r2: 0.8978 - val_loss: 0.2109 - val_rmse: 0.3383 - val_r2: 0.6046\n",
      "Epoch 65/100\n",
      "25087/25087 [==============================] - 1s 32us/sample - loss: 0.0565 - rmse: 0.1781 - r2: 0.8994 - val_loss: 0.2204 - val_rmse: 0.3483 - val_r2: 0.5734\n",
      "Epoch 66/100\n",
      "25087/25087 [==============================] - 1s 32us/sample - loss: 0.0571 - rmse: 0.1787 - r2: 0.8994 - val_loss: 0.2091 - val_rmse: 0.3384 - val_r2: 0.5922\n",
      "Epoch 67/100\n",
      "25087/25087 [==============================] - 1s 32us/sample - loss: 0.0561 - rmse: 0.1767 - r2: 0.9002 - val_loss: 0.2139 - val_rmse: 0.3387 - val_r2: 0.5944\n",
      "Epoch 68/100\n",
      "25087/25087 [==============================] - 1s 32us/sample - loss: 0.0557 - rmse: 0.1759 - r2: 0.9017 - val_loss: 0.2120 - val_rmse: 0.3368 - val_r2: 0.5945\n",
      "Epoch 69/100\n",
      "25087/25087 [==============================] - 1s 32us/sample - loss: 0.0556 - rmse: 0.1758 - r2: 0.9026 - val_loss: 0.2132 - val_rmse: 0.3426 - val_r2: 0.5815\n",
      "Epoch 70/100\n",
      "25087/25087 [==============================] - 1s 33us/sample - loss: 0.0548 - rmse: 0.1738 - r2: 0.9030 - val_loss: 0.2105 - val_rmse: 0.3392 - val_r2: 0.6026\n",
      "Epoch 71/100\n",
      "25087/25087 [==============================] - 1s 31us/sample - loss: 0.0535 - rmse: 0.1725 - r2: 0.9062 - val_loss: 0.2110 - val_rmse: 0.3401 - val_r2: 0.5997\n",
      "Epoch 72/100\n",
      "25087/25087 [==============================] - 1s 32us/sample - loss: 0.0538 - rmse: 0.1728 - r2: 0.9055 - val_loss: 0.2099 - val_rmse: 0.3367 - val_r2: 0.6049\n",
      "Epoch 73/100\n",
      "25087/25087 [==============================] - 1s 32us/sample - loss: 0.0532 - rmse: 0.1714 - r2: 0.9060 - val_loss: 0.2199 - val_rmse: 0.3460 - val_r2: 0.5839\n",
      "Epoch 74/100\n",
      "25087/25087 [==============================] - 1s 32us/sample - loss: 0.0521 - rmse: 0.1703 - r2: 0.9083 - val_loss: 0.2138 - val_rmse: 0.3438 - val_r2: 0.5916\n",
      "Epoch 75/100\n",
      "25087/25087 [==============================] - 1s 32us/sample - loss: 0.0530 - rmse: 0.1714 - r2: 0.9066 - val_loss: 0.2178 - val_rmse: 0.3438 - val_r2: 0.5832\n",
      "Epoch 76/100\n",
      "25087/25087 [==============================] - 1s 32us/sample - loss: 0.0520 - rmse: 0.1697 - r2: 0.9083 - val_loss: 0.2129 - val_rmse: 0.3389 - val_r2: 0.5962\n",
      "Epoch 77/100\n",
      "25087/25087 [==============================] - 1s 31us/sample - loss: 0.0505 - rmse: 0.1673 - r2: 0.9104 - val_loss: 0.2245 - val_rmse: 0.3529 - val_r2: 0.5689\n",
      "Epoch 78/100\n",
      "25087/25087 [==============================] - 1s 31us/sample - loss: 0.0508 - rmse: 0.1680 - r2: 0.9096 - val_loss: 0.2201 - val_rmse: 0.3447 - val_r2: 0.5884\n",
      "Epoch 79/100\n",
      "25087/25087 [==============================] - 1s 31us/sample - loss: 0.0499 - rmse: 0.1671 - r2: 0.9119 - val_loss: 0.2249 - val_rmse: 0.3508 - val_r2: 0.5710\n",
      "Epoch 80/100\n",
      "25087/25087 [==============================] - 1s 32us/sample - loss: 0.0500 - rmse: 0.1666 - r2: 0.9108 - val_loss: 0.2215 - val_rmse: 0.3464 - val_r2: 0.5585\n",
      "Epoch 81/100\n",
      "25087/25087 [==============================] - 1s 31us/sample - loss: 0.0500 - rmse: 0.1661 - r2: 0.9114 - val_loss: 0.2212 - val_rmse: 0.3509 - val_r2: 0.5737\n",
      "Epoch 82/100\n",
      "25087/25087 [==============================] - 1s 32us/sample - loss: 0.0497 - rmse: 0.1663 - r2: 0.9131 - val_loss: 0.2240 - val_rmse: 0.3497 - val_r2: 0.5549\n",
      "Epoch 83/100\n",
      "25087/25087 [==============================] - 1s 31us/sample - loss: 0.0483 - rmse: 0.1640 - r2: 0.9153 - val_loss: 0.2287 - val_rmse: 0.3515 - val_r2: 0.5768\n",
      "Epoch 84/100\n",
      "25087/25087 [==============================] - 1s 31us/sample - loss: 0.0491 - rmse: 0.1645 - r2: 0.9131 - val_loss: 0.2130 - val_rmse: 0.3416 - val_r2: 0.5953\n",
      "Epoch 85/100\n",
      "25087/25087 [==============================] - 1s 31us/sample - loss: 0.0471 - rmse: 0.1615 - r2: 0.9165 - val_loss: 0.2260 - val_rmse: 0.3515 - val_r2: 0.5670\n",
      "Epoch 86/100\n",
      "25087/25087 [==============================] - 1s 31us/sample - loss: 0.0471 - rmse: 0.1622 - r2: 0.9167 - val_loss: 0.2270 - val_rmse: 0.3534 - val_r2: 0.5718\n",
      "Epoch 87/100\n",
      "25087/25087 [==============================] - 1s 31us/sample - loss: 0.0476 - rmse: 0.1621 - r2: 0.9159 - val_loss: 0.2311 - val_rmse: 0.3527 - val_r2: 0.5651\n",
      "Epoch 88/100\n",
      "25087/25087 [==============================] - 1s 32us/sample - loss: 0.0472 - rmse: 0.1624 - r2: 0.9167 - val_loss: 0.2212 - val_rmse: 0.3471 - val_r2: 0.5839\n",
      "Epoch 89/100\n",
      "25087/25087 [==============================] - 1s 32us/sample - loss: 0.0466 - rmse: 0.1605 - r2: 0.9184 - val_loss: 0.2340 - val_rmse: 0.3542 - val_r2: 0.5426\n",
      "Epoch 90/100\n",
      "25087/25087 [==============================] - 1s 32us/sample - loss: 0.0459 - rmse: 0.1602 - r2: 0.9193 - val_loss: 0.2254 - val_rmse: 0.3530 - val_r2: 0.5813\n",
      "Epoch 91/100\n",
      "25087/25087 [==============================] - 1s 32us/sample - loss: 0.0463 - rmse: 0.1607 - r2: 0.9181 - val_loss: 0.2299 - val_rmse: 0.3530 - val_r2: 0.5340\n",
      "Epoch 92/100\n",
      "25087/25087 [==============================] - 1s 32us/sample - loss: 0.0454 - rmse: 0.1588 - r2: 0.9201 - val_loss: 0.2269 - val_rmse: 0.3526 - val_r2: 0.5743\n",
      "Epoch 93/100\n",
      "25087/25087 [==============================] - 1s 32us/sample - loss: 0.0462 - rmse: 0.1602 - r2: 0.9181 - val_loss: 0.2188 - val_rmse: 0.3429 - val_r2: 0.5706\n",
      "Epoch 94/100\n",
      "25087/25087 [==============================] - 1s 32us/sample - loss: 0.0449 - rmse: 0.1581 - r2: 0.9206 - val_loss: 0.2300 - val_rmse: 0.3546 - val_r2: 0.5650\n",
      "Epoch 95/100\n"
     ]
    },
    {
     "name": "stdout",
     "output_type": "stream",
     "text": [
      "25087/25087 [==============================] - 1s 32us/sample - loss: 0.0439 - rmse: 0.1568 - r2: 0.9222 - val_loss: 0.2309 - val_rmse: 0.3573 - val_r2: 0.5589\n",
      "Epoch 96/100\n",
      "25087/25087 [==============================] - 1s 33us/sample - loss: 0.0439 - rmse: 0.1561 - r2: 0.9220 - val_loss: 0.2342 - val_rmse: 0.3599 - val_r2: 0.5694\n",
      "Epoch 97/100\n",
      "25087/25087 [==============================] - 1s 32us/sample - loss: 0.0446 - rmse: 0.1581 - r2: 0.9205 - val_loss: 0.2300 - val_rmse: 0.3565 - val_r2: 0.5613\n",
      "Epoch 98/100\n",
      "25087/25087 [==============================] - 1s 33us/sample - loss: 0.0435 - rmse: 0.1564 - r2: 0.9228 - val_loss: 0.2288 - val_rmse: 0.3544 - val_r2: 0.5778\n",
      "Epoch 99/100\n",
      "25087/25087 [==============================] - 1s 32us/sample - loss: 0.0432 - rmse: 0.1552 - r2: 0.9235 - val_loss: 0.2339 - val_rmse: 0.3569 - val_r2: 0.5648\n",
      "Epoch 100/100\n",
      "25087/25087 [==============================] - 1s 32us/sample - loss: 0.0434 - rmse: 0.1560 - r2: 0.9232 - val_loss: 0.2360 - val_rmse: 0.3607 - val_r2: 0.5607\n"
     ]
    }
   ],
   "source": [
    "epoch=100\n",
    "history_dp = model_dp.fit(X_train_trfm, y_train, epochs=epoch, validation_split=0.05)"
   ]
  },
  {
   "cell_type": "code",
   "execution_count": 230,
   "id": "95e1e7fd",
   "metadata": {},
   "outputs": [
    {
     "data": {
      "application/vnd.plotly.v1+json": {
       "config": {
        "plotlyServerURL": "https://plot.ly"
       },
       "data": [
        {
         "name": "Train",
         "type": "scattergl",
         "y": [
          0.8462280964133377,
          0.2022706968203088,
          0.17970917447638188,
          0.16852146886963584,
          0.16620264843468002,
          0.15868515890178825,
          0.1546985159934401,
          0.14780358978748254,
          0.1463514607815933,
          0.14174596019133473,
          0.13687528075260758,
          0.13584012303840085,
          0.13093622622940712,
          0.13046521467013447,
          0.1243085854366382,
          0.12223356204405061,
          0.12004193755010537,
          0.11828329092608209,
          0.11438183992739981,
          0.11231903214259017,
          0.11023038913500183,
          0.10717202107693317,
          0.10450508427474053,
          0.10397561575249079,
          0.10045556619352934,
          0.10008190490292654,
          0.09674671086847518,
          0.09579727827523184,
          0.09383884876967664,
          0.09134052644721745,
          0.09083513351585047,
          0.08823992443313043,
          0.08743853091702977,
          0.08584066647781573,
          0.08454715257442458,
          0.08314832670650282,
          0.08201005489588041,
          0.08180281898729892,
          0.07894822268803184,
          0.07821620808970806,
          0.07658201734557188,
          0.07558470984894353,
          0.07408496476307422,
          0.07349186869964877,
          0.0726992665480521,
          0.07274930875055073,
          0.07113078403710849,
          0.07041510322572284,
          0.06891648722311734,
          0.06814610646185933,
          0.06675392364038511,
          0.06609549275797474,
          0.06485440241642228,
          0.06536030732135335,
          0.06492617398627554,
          0.06282215086636245,
          0.06288787388889959,
          0.06203816541398456,
          0.06258267198948443,
          0.06193734855858584,
          0.06004032771807952,
          0.058906884535279314,
          0.058292251458639456,
          0.05827617948549553,
          0.056516632640252966,
          0.05707023464395421,
          0.05613285072443945,
          0.055694406907885935,
          0.055600063594142574,
          0.05477558483287271,
          0.053527270494708366,
          0.05380250471054393,
          0.05318235814144903,
          0.052147559860956816,
          0.05304736365542376,
          0.052006856250906446,
          0.050523713100856744,
          0.05076380532041715,
          0.04990720046342534,
          0.050026260340428085,
          0.04996374061983565,
          0.04965763128131204,
          0.0482752093040788,
          0.04908986818282227,
          0.047141657910037355,
          0.047102210185903624,
          0.04764340042339713,
          0.04720266085211162,
          0.04657555337562131,
          0.045873303425650845,
          0.04630223411194885,
          0.04539003440057499,
          0.0462364783033823,
          0.04494087108813947,
          0.04388870110155202,
          0.04387364604207772,
          0.04461453245770745,
          0.043487447849251175,
          0.043181911649320316,
          0.043372229085856875
         ]
        },
        {
         "name": "Valid",
         "type": "scattergl",
         "y": [
          0.2007617527882679,
          0.17365024696237477,
          0.18914377168215737,
          0.16790301781951433,
          0.16955279435378687,
          0.17042206077752559,
          0.16689609856338414,
          0.1660829600366925,
          0.1631661971282273,
          0.16121902863335014,
          0.17724930784361187,
          0.1605699547058159,
          0.16061325934148032,
          0.16573947624082733,
          0.17543984775309487,
          0.16833159124463187,
          0.15811542558633948,
          0.167380135108764,
          0.1659532074649437,
          0.16585332184556215,
          0.1940558817037392,
          0.16673976386545464,
          0.16614625913730452,
          0.1652029205358994,
          0.17183755765148043,
          0.1768524226683906,
          0.1757170699880847,
          0.16803451718298618,
          0.1747904016744179,
          0.1721631240023527,
          0.18375862393751008,
          0.17755129441539957,
          0.1807566088857658,
          0.17670780380258588,
          0.19633037664058262,
          0.18528162203531748,
          0.17919449388619899,
          0.18612675619206584,
          0.17968804107797046,
          0.1861600749036699,
          0.18585906955529846,
          0.1876896193799514,
          0.18920577213698314,
          0.19131652159189114,
          0.1945804735979828,
          0.19021908130093473,
          0.18684924174492148,
          0.19801607174146005,
          0.1990969988667631,
          0.1924766665444421,
          0.1990843595969325,
          0.1956598325706539,
          0.1943349548129761,
          0.20702015025926124,
          0.19673747814667217,
          0.211209972898767,
          0.2033637220845089,
          0.20622931372298156,
          0.20079498421358485,
          0.20501133842417726,
          0.20843969063267936,
          0.20395524547146993,
          0.21373550345688314,
          0.21092972823790218,
          0.22041444668798713,
          0.20910045276709707,
          0.21394719595172745,
          0.2119919642591729,
          0.2132433003588755,
          0.21045658540581322,
          0.21095394700156478,
          0.20994273744055397,
          0.21985696869240307,
          0.2137555202961329,
          0.21777986006967773,
          0.2128993984562804,
          0.22451115193453186,
          0.2200580842166936,
          0.22490731892398053,
          0.22151317043592314,
          0.2212173111234805,
          0.22395348799309886,
          0.22873267012505166,
          0.2130204233863334,
          0.22600152653153424,
          0.22702906347027246,
          0.2311011577401533,
          0.2211572172784336,
          0.23397590932883972,
          0.22537772407096773,
          0.22994784628415452,
          0.22687159071448715,
          0.21879449351369928,
          0.2300111219839649,
          0.23092879049259998,
          0.2342188074609531,
          0.2300189491544683,
          0.22884071187978436,
          0.23393351123876233,
          0.23596190147378243
         ]
        }
       ],
       "layout": {
        "height": 500,
        "template": {
         "data": {
          "bar": [
           {
            "error_x": {
             "color": "#2a3f5f"
            },
            "error_y": {
             "color": "#2a3f5f"
            },
            "marker": {
             "line": {
              "color": "#E5ECF6",
              "width": 0.5
             },
             "pattern": {
              "fillmode": "overlay",
              "size": 10,
              "solidity": 0.2
             }
            },
            "type": "bar"
           }
          ],
          "barpolar": [
           {
            "marker": {
             "line": {
              "color": "#E5ECF6",
              "width": 0.5
             },
             "pattern": {
              "fillmode": "overlay",
              "size": 10,
              "solidity": 0.2
             }
            },
            "type": "barpolar"
           }
          ],
          "carpet": [
           {
            "aaxis": {
             "endlinecolor": "#2a3f5f",
             "gridcolor": "white",
             "linecolor": "white",
             "minorgridcolor": "white",
             "startlinecolor": "#2a3f5f"
            },
            "baxis": {
             "endlinecolor": "#2a3f5f",
             "gridcolor": "white",
             "linecolor": "white",
             "minorgridcolor": "white",
             "startlinecolor": "#2a3f5f"
            },
            "type": "carpet"
           }
          ],
          "choropleth": [
           {
            "colorbar": {
             "outlinewidth": 0,
             "ticks": ""
            },
            "type": "choropleth"
           }
          ],
          "contour": [
           {
            "colorbar": {
             "outlinewidth": 0,
             "ticks": ""
            },
            "colorscale": [
             [
              0,
              "#0d0887"
             ],
             [
              0.1111111111111111,
              "#46039f"
             ],
             [
              0.2222222222222222,
              "#7201a8"
             ],
             [
              0.3333333333333333,
              "#9c179e"
             ],
             [
              0.4444444444444444,
              "#bd3786"
             ],
             [
              0.5555555555555556,
              "#d8576b"
             ],
             [
              0.6666666666666666,
              "#ed7953"
             ],
             [
              0.7777777777777778,
              "#fb9f3a"
             ],
             [
              0.8888888888888888,
              "#fdca26"
             ],
             [
              1,
              "#f0f921"
             ]
            ],
            "type": "contour"
           }
          ],
          "contourcarpet": [
           {
            "colorbar": {
             "outlinewidth": 0,
             "ticks": ""
            },
            "type": "contourcarpet"
           }
          ],
          "heatmap": [
           {
            "colorbar": {
             "outlinewidth": 0,
             "ticks": ""
            },
            "colorscale": [
             [
              0,
              "#0d0887"
             ],
             [
              0.1111111111111111,
              "#46039f"
             ],
             [
              0.2222222222222222,
              "#7201a8"
             ],
             [
              0.3333333333333333,
              "#9c179e"
             ],
             [
              0.4444444444444444,
              "#bd3786"
             ],
             [
              0.5555555555555556,
              "#d8576b"
             ],
             [
              0.6666666666666666,
              "#ed7953"
             ],
             [
              0.7777777777777778,
              "#fb9f3a"
             ],
             [
              0.8888888888888888,
              "#fdca26"
             ],
             [
              1,
              "#f0f921"
             ]
            ],
            "type": "heatmap"
           }
          ],
          "heatmapgl": [
           {
            "colorbar": {
             "outlinewidth": 0,
             "ticks": ""
            },
            "colorscale": [
             [
              0,
              "#0d0887"
             ],
             [
              0.1111111111111111,
              "#46039f"
             ],
             [
              0.2222222222222222,
              "#7201a8"
             ],
             [
              0.3333333333333333,
              "#9c179e"
             ],
             [
              0.4444444444444444,
              "#bd3786"
             ],
             [
              0.5555555555555556,
              "#d8576b"
             ],
             [
              0.6666666666666666,
              "#ed7953"
             ],
             [
              0.7777777777777778,
              "#fb9f3a"
             ],
             [
              0.8888888888888888,
              "#fdca26"
             ],
             [
              1,
              "#f0f921"
             ]
            ],
            "type": "heatmapgl"
           }
          ],
          "histogram": [
           {
            "marker": {
             "pattern": {
              "fillmode": "overlay",
              "size": 10,
              "solidity": 0.2
             }
            },
            "type": "histogram"
           }
          ],
          "histogram2d": [
           {
            "colorbar": {
             "outlinewidth": 0,
             "ticks": ""
            },
            "colorscale": [
             [
              0,
              "#0d0887"
             ],
             [
              0.1111111111111111,
              "#46039f"
             ],
             [
              0.2222222222222222,
              "#7201a8"
             ],
             [
              0.3333333333333333,
              "#9c179e"
             ],
             [
              0.4444444444444444,
              "#bd3786"
             ],
             [
              0.5555555555555556,
              "#d8576b"
             ],
             [
              0.6666666666666666,
              "#ed7953"
             ],
             [
              0.7777777777777778,
              "#fb9f3a"
             ],
             [
              0.8888888888888888,
              "#fdca26"
             ],
             [
              1,
              "#f0f921"
             ]
            ],
            "type": "histogram2d"
           }
          ],
          "histogram2dcontour": [
           {
            "colorbar": {
             "outlinewidth": 0,
             "ticks": ""
            },
            "colorscale": [
             [
              0,
              "#0d0887"
             ],
             [
              0.1111111111111111,
              "#46039f"
             ],
             [
              0.2222222222222222,
              "#7201a8"
             ],
             [
              0.3333333333333333,
              "#9c179e"
             ],
             [
              0.4444444444444444,
              "#bd3786"
             ],
             [
              0.5555555555555556,
              "#d8576b"
             ],
             [
              0.6666666666666666,
              "#ed7953"
             ],
             [
              0.7777777777777778,
              "#fb9f3a"
             ],
             [
              0.8888888888888888,
              "#fdca26"
             ],
             [
              1,
              "#f0f921"
             ]
            ],
            "type": "histogram2dcontour"
           }
          ],
          "mesh3d": [
           {
            "colorbar": {
             "outlinewidth": 0,
             "ticks": ""
            },
            "type": "mesh3d"
           }
          ],
          "parcoords": [
           {
            "line": {
             "colorbar": {
              "outlinewidth": 0,
              "ticks": ""
             }
            },
            "type": "parcoords"
           }
          ],
          "pie": [
           {
            "automargin": true,
            "type": "pie"
           }
          ],
          "scatter": [
           {
            "marker": {
             "colorbar": {
              "outlinewidth": 0,
              "ticks": ""
             }
            },
            "type": "scatter"
           }
          ],
          "scatter3d": [
           {
            "line": {
             "colorbar": {
              "outlinewidth": 0,
              "ticks": ""
             }
            },
            "marker": {
             "colorbar": {
              "outlinewidth": 0,
              "ticks": ""
             }
            },
            "type": "scatter3d"
           }
          ],
          "scattercarpet": [
           {
            "marker": {
             "colorbar": {
              "outlinewidth": 0,
              "ticks": ""
             }
            },
            "type": "scattercarpet"
           }
          ],
          "scattergeo": [
           {
            "marker": {
             "colorbar": {
              "outlinewidth": 0,
              "ticks": ""
             }
            },
            "type": "scattergeo"
           }
          ],
          "scattergl": [
           {
            "marker": {
             "colorbar": {
              "outlinewidth": 0,
              "ticks": ""
             }
            },
            "type": "scattergl"
           }
          ],
          "scattermapbox": [
           {
            "marker": {
             "colorbar": {
              "outlinewidth": 0,
              "ticks": ""
             }
            },
            "type": "scattermapbox"
           }
          ],
          "scatterpolar": [
           {
            "marker": {
             "colorbar": {
              "outlinewidth": 0,
              "ticks": ""
             }
            },
            "type": "scatterpolar"
           }
          ],
          "scatterpolargl": [
           {
            "marker": {
             "colorbar": {
              "outlinewidth": 0,
              "ticks": ""
             }
            },
            "type": "scatterpolargl"
           }
          ],
          "scatterternary": [
           {
            "marker": {
             "colorbar": {
              "outlinewidth": 0,
              "ticks": ""
             }
            },
            "type": "scatterternary"
           }
          ],
          "surface": [
           {
            "colorbar": {
             "outlinewidth": 0,
             "ticks": ""
            },
            "colorscale": [
             [
              0,
              "#0d0887"
             ],
             [
              0.1111111111111111,
              "#46039f"
             ],
             [
              0.2222222222222222,
              "#7201a8"
             ],
             [
              0.3333333333333333,
              "#9c179e"
             ],
             [
              0.4444444444444444,
              "#bd3786"
             ],
             [
              0.5555555555555556,
              "#d8576b"
             ],
             [
              0.6666666666666666,
              "#ed7953"
             ],
             [
              0.7777777777777778,
              "#fb9f3a"
             ],
             [
              0.8888888888888888,
              "#fdca26"
             ],
             [
              1,
              "#f0f921"
             ]
            ],
            "type": "surface"
           }
          ],
          "table": [
           {
            "cells": {
             "fill": {
              "color": "#EBF0F8"
             },
             "line": {
              "color": "white"
             }
            },
            "header": {
             "fill": {
              "color": "#C8D4E3"
             },
             "line": {
              "color": "white"
             }
            },
            "type": "table"
           }
          ]
         },
         "layout": {
          "annotationdefaults": {
           "arrowcolor": "#2a3f5f",
           "arrowhead": 0,
           "arrowwidth": 1
          },
          "autotypenumbers": "strict",
          "coloraxis": {
           "colorbar": {
            "outlinewidth": 0,
            "ticks": ""
           }
          },
          "colorscale": {
           "diverging": [
            [
             0,
             "#8e0152"
            ],
            [
             0.1,
             "#c51b7d"
            ],
            [
             0.2,
             "#de77ae"
            ],
            [
             0.3,
             "#f1b6da"
            ],
            [
             0.4,
             "#fde0ef"
            ],
            [
             0.5,
             "#f7f7f7"
            ],
            [
             0.6,
             "#e6f5d0"
            ],
            [
             0.7,
             "#b8e186"
            ],
            [
             0.8,
             "#7fbc41"
            ],
            [
             0.9,
             "#4d9221"
            ],
            [
             1,
             "#276419"
            ]
           ],
           "sequential": [
            [
             0,
             "#0d0887"
            ],
            [
             0.1111111111111111,
             "#46039f"
            ],
            [
             0.2222222222222222,
             "#7201a8"
            ],
            [
             0.3333333333333333,
             "#9c179e"
            ],
            [
             0.4444444444444444,
             "#bd3786"
            ],
            [
             0.5555555555555556,
             "#d8576b"
            ],
            [
             0.6666666666666666,
             "#ed7953"
            ],
            [
             0.7777777777777778,
             "#fb9f3a"
            ],
            [
             0.8888888888888888,
             "#fdca26"
            ],
            [
             1,
             "#f0f921"
            ]
           ],
           "sequentialminus": [
            [
             0,
             "#0d0887"
            ],
            [
             0.1111111111111111,
             "#46039f"
            ],
            [
             0.2222222222222222,
             "#7201a8"
            ],
            [
             0.3333333333333333,
             "#9c179e"
            ],
            [
             0.4444444444444444,
             "#bd3786"
            ],
            [
             0.5555555555555556,
             "#d8576b"
            ],
            [
             0.6666666666666666,
             "#ed7953"
            ],
            [
             0.7777777777777778,
             "#fb9f3a"
            ],
            [
             0.8888888888888888,
             "#fdca26"
            ],
            [
             1,
             "#f0f921"
            ]
           ]
          },
          "colorway": [
           "#636efa",
           "#EF553B",
           "#00cc96",
           "#ab63fa",
           "#FFA15A",
           "#19d3f3",
           "#FF6692",
           "#B6E880",
           "#FF97FF",
           "#FECB52"
          ],
          "font": {
           "color": "#2a3f5f"
          },
          "geo": {
           "bgcolor": "white",
           "lakecolor": "white",
           "landcolor": "#E5ECF6",
           "showlakes": true,
           "showland": true,
           "subunitcolor": "white"
          },
          "hoverlabel": {
           "align": "left"
          },
          "hovermode": "closest",
          "mapbox": {
           "style": "light"
          },
          "paper_bgcolor": "white",
          "plot_bgcolor": "#E5ECF6",
          "polar": {
           "angularaxis": {
            "gridcolor": "white",
            "linecolor": "white",
            "ticks": ""
           },
           "bgcolor": "#E5ECF6",
           "radialaxis": {
            "gridcolor": "white",
            "linecolor": "white",
            "ticks": ""
           }
          },
          "scene": {
           "xaxis": {
            "backgroundcolor": "#E5ECF6",
            "gridcolor": "white",
            "gridwidth": 2,
            "linecolor": "white",
            "showbackground": true,
            "ticks": "",
            "zerolinecolor": "white"
           },
           "yaxis": {
            "backgroundcolor": "#E5ECF6",
            "gridcolor": "white",
            "gridwidth": 2,
            "linecolor": "white",
            "showbackground": true,
            "ticks": "",
            "zerolinecolor": "white"
           },
           "zaxis": {
            "backgroundcolor": "#E5ECF6",
            "gridcolor": "white",
            "gridwidth": 2,
            "linecolor": "white",
            "showbackground": true,
            "ticks": "",
            "zerolinecolor": "white"
           }
          },
          "shapedefaults": {
           "line": {
            "color": "#2a3f5f"
           }
          },
          "ternary": {
           "aaxis": {
            "gridcolor": "white",
            "linecolor": "white",
            "ticks": ""
           },
           "baxis": {
            "gridcolor": "white",
            "linecolor": "white",
            "ticks": ""
           },
           "bgcolor": "#E5ECF6",
           "caxis": {
            "gridcolor": "white",
            "linecolor": "white",
            "ticks": ""
           }
          },
          "title": {
           "x": 0.05
          },
          "xaxis": {
           "automargin": true,
           "gridcolor": "white",
           "linecolor": "white",
           "ticks": "",
           "title": {
            "standoff": 15
           },
           "zerolinecolor": "white",
           "zerolinewidth": 2
          },
          "yaxis": {
           "automargin": true,
           "gridcolor": "white",
           "linecolor": "white",
           "ticks": "",
           "title": {
            "standoff": 15
           },
           "zerolinecolor": "white",
           "zerolinewidth": 2
          }
         }
        },
        "width": 700,
        "xaxis": {
         "title": {
          "text": "Epoch"
         }
        },
        "yaxis": {
         "title": {
          "text": "MSE"
         }
        }
       }
      },
      "text/html": [
       "<div>                            <div id=\"8cea695d-f802-4ffe-9de0-6f92e23ae342\" class=\"plotly-graph-div\" style=\"height:500px; width:700px;\"></div>            <script type=\"text/javascript\">                require([\"plotly\"], function(Plotly) {                    window.PLOTLYENV=window.PLOTLYENV || {};                                    if (document.getElementById(\"8cea695d-f802-4ffe-9de0-6f92e23ae342\")) {                    Plotly.newPlot(                        \"8cea695d-f802-4ffe-9de0-6f92e23ae342\",                        [{\"name\":\"Train\",\"y\":[0.8462280964133377,0.2022706968203088,0.17970917447638188,0.16852146886963584,0.16620264843468002,0.15868515890178825,0.1546985159934401,0.14780358978748254,0.1463514607815933,0.14174596019133473,0.13687528075260758,0.13584012303840085,0.13093622622940712,0.13046521467013447,0.1243085854366382,0.12223356204405061,0.12004193755010537,0.11828329092608209,0.11438183992739981,0.11231903214259017,0.11023038913500183,0.10717202107693317,0.10450508427474053,0.10397561575249079,0.10045556619352934,0.10008190490292654,0.09674671086847518,0.09579727827523184,0.09383884876967664,0.09134052644721745,0.09083513351585047,0.08823992443313043,0.08743853091702977,0.08584066647781573,0.08454715257442458,0.08314832670650282,0.08201005489588041,0.08180281898729892,0.07894822268803184,0.07821620808970806,0.07658201734557188,0.07558470984894353,0.07408496476307422,0.07349186869964877,0.0726992665480521,0.07274930875055073,0.07113078403710849,0.07041510322572284,0.06891648722311734,0.06814610646185933,0.06675392364038511,0.06609549275797474,0.06485440241642228,0.06536030732135335,0.06492617398627554,0.06282215086636245,0.06288787388889959,0.06203816541398456,0.06258267198948443,0.06193734855858584,0.06004032771807952,0.058906884535279314,0.058292251458639456,0.05827617948549553,0.056516632640252966,0.05707023464395421,0.05613285072443945,0.055694406907885935,0.055600063594142574,0.05477558483287271,0.053527270494708366,0.05380250471054393,0.05318235814144903,0.052147559860956816,0.05304736365542376,0.052006856250906446,0.050523713100856744,0.05076380532041715,0.04990720046342534,0.050026260340428085,0.04996374061983565,0.04965763128131204,0.0482752093040788,0.04908986818282227,0.047141657910037355,0.047102210185903624,0.04764340042339713,0.04720266085211162,0.04657555337562131,0.045873303425650845,0.04630223411194885,0.04539003440057499,0.0462364783033823,0.04494087108813947,0.04388870110155202,0.04387364604207772,0.04461453245770745,0.043487447849251175,0.043181911649320316,0.043372229085856875],\"type\":\"scattergl\"},{\"name\":\"Valid\",\"y\":[0.2007617527882679,0.17365024696237477,0.18914377168215737,0.16790301781951433,0.16955279435378687,0.17042206077752559,0.16689609856338414,0.1660829600366925,0.1631661971282273,0.16121902863335014,0.17724930784361187,0.1605699547058159,0.16061325934148032,0.16573947624082733,0.17543984775309487,0.16833159124463187,0.15811542558633948,0.167380135108764,0.1659532074649437,0.16585332184556215,0.1940558817037392,0.16673976386545464,0.16614625913730452,0.1652029205358994,0.17183755765148043,0.1768524226683906,0.1757170699880847,0.16803451718298618,0.1747904016744179,0.1721631240023527,0.18375862393751008,0.17755129441539957,0.1807566088857658,0.17670780380258588,0.19633037664058262,0.18528162203531748,0.17919449388619899,0.18612675619206584,0.17968804107797046,0.1861600749036699,0.18585906955529846,0.1876896193799514,0.18920577213698314,0.19131652159189114,0.1945804735979828,0.19021908130093473,0.18684924174492148,0.19801607174146005,0.1990969988667631,0.1924766665444421,0.1990843595969325,0.1956598325706539,0.1943349548129761,0.20702015025926124,0.19673747814667217,0.211209972898767,0.2033637220845089,0.20622931372298156,0.20079498421358485,0.20501133842417726,0.20843969063267936,0.20395524547146993,0.21373550345688314,0.21092972823790218,0.22041444668798713,0.20910045276709707,0.21394719595172745,0.2119919642591729,0.2132433003588755,0.21045658540581322,0.21095394700156478,0.20994273744055397,0.21985696869240307,0.2137555202961329,0.21777986006967773,0.2128993984562804,0.22451115193453186,0.2200580842166936,0.22490731892398053,0.22151317043592314,0.2212173111234805,0.22395348799309886,0.22873267012505166,0.2130204233863334,0.22600152653153424,0.22702906347027246,0.2311011577401533,0.2211572172784336,0.23397590932883972,0.22537772407096773,0.22994784628415452,0.22687159071448715,0.21879449351369928,0.2300111219839649,0.23092879049259998,0.2342188074609531,0.2300189491544683,0.22884071187978436,0.23393351123876233,0.23596190147378243],\"type\":\"scattergl\"}],                        {\"template\":{\"data\":{\"bar\":[{\"error_x\":{\"color\":\"#2a3f5f\"},\"error_y\":{\"color\":\"#2a3f5f\"},\"marker\":{\"line\":{\"color\":\"#E5ECF6\",\"width\":0.5},\"pattern\":{\"fillmode\":\"overlay\",\"size\":10,\"solidity\":0.2}},\"type\":\"bar\"}],\"barpolar\":[{\"marker\":{\"line\":{\"color\":\"#E5ECF6\",\"width\":0.5},\"pattern\":{\"fillmode\":\"overlay\",\"size\":10,\"solidity\":0.2}},\"type\":\"barpolar\"}],\"carpet\":[{\"aaxis\":{\"endlinecolor\":\"#2a3f5f\",\"gridcolor\":\"white\",\"linecolor\":\"white\",\"minorgridcolor\":\"white\",\"startlinecolor\":\"#2a3f5f\"},\"baxis\":{\"endlinecolor\":\"#2a3f5f\",\"gridcolor\":\"white\",\"linecolor\":\"white\",\"minorgridcolor\":\"white\",\"startlinecolor\":\"#2a3f5f\"},\"type\":\"carpet\"}],\"choropleth\":[{\"colorbar\":{\"outlinewidth\":0,\"ticks\":\"\"},\"type\":\"choropleth\"}],\"contour\":[{\"colorbar\":{\"outlinewidth\":0,\"ticks\":\"\"},\"colorscale\":[[0.0,\"#0d0887\"],[0.1111111111111111,\"#46039f\"],[0.2222222222222222,\"#7201a8\"],[0.3333333333333333,\"#9c179e\"],[0.4444444444444444,\"#bd3786\"],[0.5555555555555556,\"#d8576b\"],[0.6666666666666666,\"#ed7953\"],[0.7777777777777778,\"#fb9f3a\"],[0.8888888888888888,\"#fdca26\"],[1.0,\"#f0f921\"]],\"type\":\"contour\"}],\"contourcarpet\":[{\"colorbar\":{\"outlinewidth\":0,\"ticks\":\"\"},\"type\":\"contourcarpet\"}],\"heatmap\":[{\"colorbar\":{\"outlinewidth\":0,\"ticks\":\"\"},\"colorscale\":[[0.0,\"#0d0887\"],[0.1111111111111111,\"#46039f\"],[0.2222222222222222,\"#7201a8\"],[0.3333333333333333,\"#9c179e\"],[0.4444444444444444,\"#bd3786\"],[0.5555555555555556,\"#d8576b\"],[0.6666666666666666,\"#ed7953\"],[0.7777777777777778,\"#fb9f3a\"],[0.8888888888888888,\"#fdca26\"],[1.0,\"#f0f921\"]],\"type\":\"heatmap\"}],\"heatmapgl\":[{\"colorbar\":{\"outlinewidth\":0,\"ticks\":\"\"},\"colorscale\":[[0.0,\"#0d0887\"],[0.1111111111111111,\"#46039f\"],[0.2222222222222222,\"#7201a8\"],[0.3333333333333333,\"#9c179e\"],[0.4444444444444444,\"#bd3786\"],[0.5555555555555556,\"#d8576b\"],[0.6666666666666666,\"#ed7953\"],[0.7777777777777778,\"#fb9f3a\"],[0.8888888888888888,\"#fdca26\"],[1.0,\"#f0f921\"]],\"type\":\"heatmapgl\"}],\"histogram\":[{\"marker\":{\"pattern\":{\"fillmode\":\"overlay\",\"size\":10,\"solidity\":0.2}},\"type\":\"histogram\"}],\"histogram2d\":[{\"colorbar\":{\"outlinewidth\":0,\"ticks\":\"\"},\"colorscale\":[[0.0,\"#0d0887\"],[0.1111111111111111,\"#46039f\"],[0.2222222222222222,\"#7201a8\"],[0.3333333333333333,\"#9c179e\"],[0.4444444444444444,\"#bd3786\"],[0.5555555555555556,\"#d8576b\"],[0.6666666666666666,\"#ed7953\"],[0.7777777777777778,\"#fb9f3a\"],[0.8888888888888888,\"#fdca26\"],[1.0,\"#f0f921\"]],\"type\":\"histogram2d\"}],\"histogram2dcontour\":[{\"colorbar\":{\"outlinewidth\":0,\"ticks\":\"\"},\"colorscale\":[[0.0,\"#0d0887\"],[0.1111111111111111,\"#46039f\"],[0.2222222222222222,\"#7201a8\"],[0.3333333333333333,\"#9c179e\"],[0.4444444444444444,\"#bd3786\"],[0.5555555555555556,\"#d8576b\"],[0.6666666666666666,\"#ed7953\"],[0.7777777777777778,\"#fb9f3a\"],[0.8888888888888888,\"#fdca26\"],[1.0,\"#f0f921\"]],\"type\":\"histogram2dcontour\"}],\"mesh3d\":[{\"colorbar\":{\"outlinewidth\":0,\"ticks\":\"\"},\"type\":\"mesh3d\"}],\"parcoords\":[{\"line\":{\"colorbar\":{\"outlinewidth\":0,\"ticks\":\"\"}},\"type\":\"parcoords\"}],\"pie\":[{\"automargin\":true,\"type\":\"pie\"}],\"scatter\":[{\"marker\":{\"colorbar\":{\"outlinewidth\":0,\"ticks\":\"\"}},\"type\":\"scatter\"}],\"scatter3d\":[{\"line\":{\"colorbar\":{\"outlinewidth\":0,\"ticks\":\"\"}},\"marker\":{\"colorbar\":{\"outlinewidth\":0,\"ticks\":\"\"}},\"type\":\"scatter3d\"}],\"scattercarpet\":[{\"marker\":{\"colorbar\":{\"outlinewidth\":0,\"ticks\":\"\"}},\"type\":\"scattercarpet\"}],\"scattergeo\":[{\"marker\":{\"colorbar\":{\"outlinewidth\":0,\"ticks\":\"\"}},\"type\":\"scattergeo\"}],\"scattergl\":[{\"marker\":{\"colorbar\":{\"outlinewidth\":0,\"ticks\":\"\"}},\"type\":\"scattergl\"}],\"scattermapbox\":[{\"marker\":{\"colorbar\":{\"outlinewidth\":0,\"ticks\":\"\"}},\"type\":\"scattermapbox\"}],\"scatterpolar\":[{\"marker\":{\"colorbar\":{\"outlinewidth\":0,\"ticks\":\"\"}},\"type\":\"scatterpolar\"}],\"scatterpolargl\":[{\"marker\":{\"colorbar\":{\"outlinewidth\":0,\"ticks\":\"\"}},\"type\":\"scatterpolargl\"}],\"scatterternary\":[{\"marker\":{\"colorbar\":{\"outlinewidth\":0,\"ticks\":\"\"}},\"type\":\"scatterternary\"}],\"surface\":[{\"colorbar\":{\"outlinewidth\":0,\"ticks\":\"\"},\"colorscale\":[[0.0,\"#0d0887\"],[0.1111111111111111,\"#46039f\"],[0.2222222222222222,\"#7201a8\"],[0.3333333333333333,\"#9c179e\"],[0.4444444444444444,\"#bd3786\"],[0.5555555555555556,\"#d8576b\"],[0.6666666666666666,\"#ed7953\"],[0.7777777777777778,\"#fb9f3a\"],[0.8888888888888888,\"#fdca26\"],[1.0,\"#f0f921\"]],\"type\":\"surface\"}],\"table\":[{\"cells\":{\"fill\":{\"color\":\"#EBF0F8\"},\"line\":{\"color\":\"white\"}},\"header\":{\"fill\":{\"color\":\"#C8D4E3\"},\"line\":{\"color\":\"white\"}},\"type\":\"table\"}]},\"layout\":{\"annotationdefaults\":{\"arrowcolor\":\"#2a3f5f\",\"arrowhead\":0,\"arrowwidth\":1},\"autotypenumbers\":\"strict\",\"coloraxis\":{\"colorbar\":{\"outlinewidth\":0,\"ticks\":\"\"}},\"colorscale\":{\"diverging\":[[0,\"#8e0152\"],[0.1,\"#c51b7d\"],[0.2,\"#de77ae\"],[0.3,\"#f1b6da\"],[0.4,\"#fde0ef\"],[0.5,\"#f7f7f7\"],[0.6,\"#e6f5d0\"],[0.7,\"#b8e186\"],[0.8,\"#7fbc41\"],[0.9,\"#4d9221\"],[1,\"#276419\"]],\"sequential\":[[0.0,\"#0d0887\"],[0.1111111111111111,\"#46039f\"],[0.2222222222222222,\"#7201a8\"],[0.3333333333333333,\"#9c179e\"],[0.4444444444444444,\"#bd3786\"],[0.5555555555555556,\"#d8576b\"],[0.6666666666666666,\"#ed7953\"],[0.7777777777777778,\"#fb9f3a\"],[0.8888888888888888,\"#fdca26\"],[1.0,\"#f0f921\"]],\"sequentialminus\":[[0.0,\"#0d0887\"],[0.1111111111111111,\"#46039f\"],[0.2222222222222222,\"#7201a8\"],[0.3333333333333333,\"#9c179e\"],[0.4444444444444444,\"#bd3786\"],[0.5555555555555556,\"#d8576b\"],[0.6666666666666666,\"#ed7953\"],[0.7777777777777778,\"#fb9f3a\"],[0.8888888888888888,\"#fdca26\"],[1.0,\"#f0f921\"]]},\"colorway\":[\"#636efa\",\"#EF553B\",\"#00cc96\",\"#ab63fa\",\"#FFA15A\",\"#19d3f3\",\"#FF6692\",\"#B6E880\",\"#FF97FF\",\"#FECB52\"],\"font\":{\"color\":\"#2a3f5f\"},\"geo\":{\"bgcolor\":\"white\",\"lakecolor\":\"white\",\"landcolor\":\"#E5ECF6\",\"showlakes\":true,\"showland\":true,\"subunitcolor\":\"white\"},\"hoverlabel\":{\"align\":\"left\"},\"hovermode\":\"closest\",\"mapbox\":{\"style\":\"light\"},\"paper_bgcolor\":\"white\",\"plot_bgcolor\":\"#E5ECF6\",\"polar\":{\"angularaxis\":{\"gridcolor\":\"white\",\"linecolor\":\"white\",\"ticks\":\"\"},\"bgcolor\":\"#E5ECF6\",\"radialaxis\":{\"gridcolor\":\"white\",\"linecolor\":\"white\",\"ticks\":\"\"}},\"scene\":{\"xaxis\":{\"backgroundcolor\":\"#E5ECF6\",\"gridcolor\":\"white\",\"gridwidth\":2,\"linecolor\":\"white\",\"showbackground\":true,\"ticks\":\"\",\"zerolinecolor\":\"white\"},\"yaxis\":{\"backgroundcolor\":\"#E5ECF6\",\"gridcolor\":\"white\",\"gridwidth\":2,\"linecolor\":\"white\",\"showbackground\":true,\"ticks\":\"\",\"zerolinecolor\":\"white\"},\"zaxis\":{\"backgroundcolor\":\"#E5ECF6\",\"gridcolor\":\"white\",\"gridwidth\":2,\"linecolor\":\"white\",\"showbackground\":true,\"ticks\":\"\",\"zerolinecolor\":\"white\"}},\"shapedefaults\":{\"line\":{\"color\":\"#2a3f5f\"}},\"ternary\":{\"aaxis\":{\"gridcolor\":\"white\",\"linecolor\":\"white\",\"ticks\":\"\"},\"baxis\":{\"gridcolor\":\"white\",\"linecolor\":\"white\",\"ticks\":\"\"},\"bgcolor\":\"#E5ECF6\",\"caxis\":{\"gridcolor\":\"white\",\"linecolor\":\"white\",\"ticks\":\"\"}},\"title\":{\"x\":0.05},\"xaxis\":{\"automargin\":true,\"gridcolor\":\"white\",\"linecolor\":\"white\",\"ticks\":\"\",\"title\":{\"standoff\":15},\"zerolinecolor\":\"white\",\"zerolinewidth\":2},\"yaxis\":{\"automargin\":true,\"gridcolor\":\"white\",\"linecolor\":\"white\",\"ticks\":\"\",\"title\":{\"standoff\":15},\"zerolinecolor\":\"white\",\"zerolinewidth\":2}}},\"height\":500,\"width\":700,\"xaxis\":{\"title\":{\"text\":\"Epoch\"}},\"yaxis\":{\"title\":{\"text\":\"MSE\"}}},                        {\"responsive\": true}                    ).then(function(){\n",
       "                            \n",
       "var gd = document.getElementById('8cea695d-f802-4ffe-9de0-6f92e23ae342');\n",
       "var x = new MutationObserver(function (mutations, observer) {{\n",
       "        var display = window.getComputedStyle(gd).display;\n",
       "        if (!display || display === 'none') {{\n",
       "            console.log([gd, 'removed!']);\n",
       "            Plotly.purge(gd);\n",
       "            observer.disconnect();\n",
       "        }}\n",
       "}});\n",
       "\n",
       "// Listen for the removal of the full notebook cells\n",
       "var notebookContainer = gd.closest('#notebook-container');\n",
       "if (notebookContainer) {{\n",
       "    x.observe(notebookContainer, {childList: true});\n",
       "}}\n",
       "\n",
       "// Listen for the clearing of the current output cell\n",
       "var outputEl = gd.closest('.output');\n",
       "if (outputEl) {{\n",
       "    x.observe(outputEl, {childList: true});\n",
       "}}\n",
       "\n",
       "                        })                };                });            </script>        </div>"
      ]
     },
     "metadata": {},
     "output_type": "display_data"
    }
   ],
   "source": [
    "import plotly.graph_objects as go\n",
    "\n",
    "fig = go.Figure()\n",
    "fig.add_trace(go.Scattergl(y=history_dp.history['loss'],\n",
    "                    name='Train'))\n",
    "fig.add_trace(go.Scattergl(y=history_dp.history['val_loss'],\n",
    "                    name='Valid'))\n",
    "fig.update_layout(height=500, width=700,\n",
    "                  xaxis_title='Epoch',\n",
    "                  yaxis_title='MSE')\n",
    "fig.show()"
   ]
  },
  {
   "cell_type": "code",
   "execution_count": 231,
   "id": "9a9cb07d",
   "metadata": {},
   "outputs": [
    {
     "name": "stdout",
     "output_type": "stream",
     "text": [
      "Train R-sq:  0.9232\n",
      "Train MSE:  0.0434\n",
      "Val R-sq:  0.5607\n",
      "Val MSE:  0.236\n",
      "Test R-sq:  0.5734\n",
      "Test MSE:  0.247\n"
     ]
    }
   ],
   "source": [
    "mse_nn, rmse_nn, r2_nn = model_dp.evaluate(X_test_trfm, y_test)\n",
    "print('Train R-sq: ', round(history_dp.history['r2'][epoch-1],4))\n",
    "print('Train MSE: ', round(history_dp.history['loss'][epoch-1],4))\n",
    "print('Val R-sq: ', round(history_dp.history['val_r2'][epoch-1],4))\n",
    "print('Val MSE: ', round(history_dp.history['val_loss'][epoch-1],4))\n",
    "print('Test R-sq: ', round(r2_nn,4))\n",
    "print('Test MSE: ', round(mse_nn,4))"
   ]
  },
  {
   "cell_type": "code",
   "execution_count": 232,
   "id": "2565d8b8",
   "metadata": {},
   "outputs": [
    {
     "name": "stdout",
     "output_type": "stream",
     "text": [
      "Model: \"sequential_18\"\n",
      "_________________________________________________________________\n",
      " Layer (type)                Output Shape              Param #   \n",
      "=================================================================\n",
      " dense_41 (Dense)            (None, 120)               14520     \n",
      "                                                                 \n",
      " dense_42 (Dense)            (None, 60)                7260      \n",
      "                                                                 \n",
      " dense_43 (Dense)            (None, 1)                 61        \n",
      "                                                                 \n",
      "=================================================================\n",
      "Total params: 21,841\n",
      "Trainable params: 21,841\n",
      "Non-trainable params: 0\n",
      "_________________________________________________________________\n",
      "Train on 25087 samples, validate on 1321 samples\n",
      "Epoch 1/15\n",
      "25087/25087 [==============================] - 1s 40us/sample - loss: 0.8584 - rmse: 0.5294 - r2: -0.5515 - val_loss: 0.1957 - val_rmse: 0.3249 - val_r2: 0.6301\n",
      "Epoch 2/15\n",
      "25087/25087 [==============================] - 1s 33us/sample - loss: 0.2004 - rmse: 0.3271 - r2: 0.6580 - val_loss: 0.1876 - val_rmse: 0.3200 - val_r2: 0.6589\n",
      "Epoch 3/15\n",
      "25087/25087 [==============================] - 1s 33us/sample - loss: 0.1791 - rmse: 0.3091 - r2: 0.6906 - val_loss: 0.1653 - val_rmse: 0.3000 - val_r2: 0.6851\n",
      "Epoch 4/15\n",
      "25087/25087 [==============================] - 1s 33us/sample - loss: 0.1709 - rmse: 0.3034 - r2: 0.7063 - val_loss: 0.1650 - val_rmse: 0.3002 - val_r2: 0.6788\n",
      "Epoch 5/15\n",
      "25087/25087 [==============================] - 1s 32us/sample - loss: 0.1636 - rmse: 0.2972 - r2: 0.7173 - val_loss: 0.1763 - val_rmse: 0.3090 - val_r2: 0.6722\n",
      "Epoch 6/15\n",
      "25087/25087 [==============================] - 1s 33us/sample - loss: 0.1560 - rmse: 0.2887 - r2: 0.7317 - val_loss: 0.1617 - val_rmse: 0.2990 - val_r2: 0.6935\n",
      "Epoch 7/15\n",
      "25087/25087 [==============================] - 1s 33us/sample - loss: 0.1518 - rmse: 0.2869 - r2: 0.7391 - val_loss: 0.1668 - val_rmse: 0.2967 - val_r2: 0.6549\n",
      "Epoch 8/15\n",
      "25087/25087 [==============================] - 1s 33us/sample - loss: 0.1480 - rmse: 0.2819 - r2: 0.7463 - val_loss: 0.1594 - val_rmse: 0.2966 - val_r2: 0.7090\n",
      "Epoch 9/15\n",
      "25087/25087 [==============================] - 1s 33us/sample - loss: 0.1441 - rmse: 0.2785 - r2: 0.7519 - val_loss: 0.1612 - val_rmse: 0.2984 - val_r2: 0.6960\n",
      "Epoch 10/15\n",
      "25087/25087 [==============================] - 1s 33us/sample - loss: 0.1402 - rmse: 0.2746 - r2: 0.7597 - val_loss: 0.1663 - val_rmse: 0.3000 - val_r2: 0.6934\n",
      "Epoch 11/15\n",
      "25087/25087 [==============================] - 1s 33us/sample - loss: 0.1373 - rmse: 0.2724 - r2: 0.7646 - val_loss: 0.1601 - val_rmse: 0.2967 - val_r2: 0.7054\n",
      "Epoch 12/15\n",
      "25087/25087 [==============================] - 1s 32us/sample - loss: 0.1345 - rmse: 0.2694 - r2: 0.7680 - val_loss: 0.1582 - val_rmse: 0.2931 - val_r2: 0.7034\n",
      "Epoch 13/15\n",
      "25087/25087 [==============================] - 1s 33us/sample - loss: 0.1319 - rmse: 0.2665 - r2: 0.7720 - val_loss: 0.1574 - val_rmse: 0.2957 - val_r2: 0.7123\n",
      "Epoch 14/15\n",
      "25087/25087 [==============================] - 1s 33us/sample - loss: 0.1297 - rmse: 0.2644 - r2: 0.7765 - val_loss: 0.1556 - val_rmse: 0.2872 - val_r2: 0.7181\n",
      "Epoch 15/15\n",
      "25087/25087 [==============================] - 1s 33us/sample - loss: 0.1261 - rmse: 0.2605 - r2: 0.7838 - val_loss: 0.1561 - val_rmse: 0.2922 - val_r2: 0.7136\n"
     ]
    }
   ],
   "source": [
    "best_model_dp = deep_model()\n",
    "best_model_dp.summary()\n",
    "epoch=15\n",
    "best_history_dp = best_model_dp.fit(X_train_trfm, y_train, epochs=epoch, validation_split=0.05)"
   ]
  },
  {
   "cell_type": "code",
   "execution_count": 233,
   "id": "f964d090",
   "metadata": {},
   "outputs": [
    {
     "name": "stdout",
     "output_type": "stream",
     "text": [
      "Train R-sq:  0.7838\n",
      "Train MSE:  0.1261\n",
      "Val R-sq:  0.7136\n",
      "Val MSE:  0.1561\n",
      "Test R-sq:  0.6844\n",
      "Test MSE:  0.1882\n"
     ]
    }
   ],
   "source": [
    "mse_nn, rmse_nn, r2_nn = best_model_dp.evaluate(X_test_trfm, y_test)\n",
    "print('Train R-sq: ', round(best_history_dp.history['r2'][epoch-1],4))\n",
    "print('Train MSE: ', round(best_history_dp.history['loss'][epoch-1],4))\n",
    "print('Val R-sq: ', round(best_history_dp.history['val_r2'][epoch-1],4))\n",
    "print('Val MSE: ', round(best_history_dp.history['val_loss'][epoch-1],4))\n",
    "print('Test R-sq: ', round(r2_nn,4))\n",
    "print('Test MSE: ', round(mse_nn,4))"
   ]
  },
  {
   "cell_type": "markdown",
   "id": "9a4f03b5",
   "metadata": {},
   "source": [
    "### Wide NN"
   ]
  },
  {
   "cell_type": "code",
   "execution_count": 234,
   "id": "d259c194",
   "metadata": {},
   "outputs": [
    {
     "name": "stdout",
     "output_type": "stream",
     "text": [
      "Model: \"sequential_19\"\n",
      "_________________________________________________________________\n",
      " Layer (type)                Output Shape              Param #   \n",
      "=================================================================\n",
      " dense_44 (Dense)            (None, 200)               24200     \n",
      "                                                                 \n",
      " dense_45 (Dense)            (None, 1)                 201       \n",
      "                                                                 \n",
      "=================================================================\n",
      "Total params: 24,401\n",
      "Trainable params: 24,401\n",
      "Non-trainable params: 0\n",
      "_________________________________________________________________\n"
     ]
    }
   ],
   "source": [
    "def wide_model():\n",
    "    # create model\n",
    "    model = Sequential()\n",
    "    model.add(Dense(200, input_dim=120, kernel_initializer='normal', activation='relu'))\n",
    "    model.add(Dense(1, kernel_initializer='normal'))\n",
    "    # Compile model\n",
    "    model.compile(loss='mean_squared_error', optimizer='adam', metrics=[rmse,r2])\n",
    "    return model\n",
    "model_wd = wide_model()\n",
    "model_wd.summary()"
   ]
  },
  {
   "cell_type": "code",
   "execution_count": 235,
   "id": "8c2f639f",
   "metadata": {},
   "outputs": [
    {
     "name": "stdout",
     "output_type": "stream",
     "text": [
      "Train on 25087 samples, validate on 1321 samples\n",
      "Epoch 1/100\n",
      "25087/25087 [==============================] - 1s 40us/sample - loss: 0.8304 - rmse: 0.5499 - r2: -0.4293 - val_loss: 0.1971 - val_rmse: 0.3299 - val_r2: 0.6351\n",
      "Epoch 2/100\n",
      "25087/25087 [==============================] - 1s 32us/sample - loss: 0.2031 - rmse: 0.3284 - r2: 0.6524 - val_loss: 0.1891 - val_rmse: 0.3162 - val_r2: 0.6479\n",
      "Epoch 3/100\n",
      "25087/25087 [==============================] - 1s 32us/sample - loss: 0.1754 - rmse: 0.3056 - r2: 0.6981 - val_loss: 0.1726 - val_rmse: 0.3085 - val_r2: 0.6786\n",
      "Epoch 4/100\n",
      "25087/25087 [==============================] - 1s 32us/sample - loss: 0.1599 - rmse: 0.2909 - r2: 0.7265 - val_loss: 0.1633 - val_rmse: 0.2971 - val_r2: 0.6927\n",
      "Epoch 5/100\n",
      "25087/25087 [==============================] - 1s 32us/sample - loss: 0.1499 - rmse: 0.2817 - r2: 0.7410 - val_loss: 0.1748 - val_rmse: 0.3057 - val_r2: 0.6751\n",
      "Epoch 6/100\n",
      "25087/25087 [==============================] - 1s 32us/sample - loss: 0.1412 - rmse: 0.2739 - r2: 0.7580 - val_loss: 0.1749 - val_rmse: 0.3058 - val_r2: 0.6953\n",
      "Epoch 7/100\n",
      "25087/25087 [==============================] - 1s 32us/sample - loss: 0.1348 - rmse: 0.2681 - r2: 0.7684 - val_loss: 0.1739 - val_rmse: 0.3118 - val_r2: 0.6848\n",
      "Epoch 8/100\n",
      "25087/25087 [==============================] - 1s 32us/sample - loss: 0.1308 - rmse: 0.2655 - r2: 0.7744 - val_loss: 0.1619 - val_rmse: 0.2950 - val_r2: 0.6937\n",
      "Epoch 9/100\n",
      "25087/25087 [==============================] - 1s 33us/sample - loss: 0.1271 - rmse: 0.2601 - r2: 0.7781 - val_loss: 0.1613 - val_rmse: 0.2928 - val_r2: 0.7070\n",
      "Epoch 10/100\n",
      "25087/25087 [==============================] - 1s 32us/sample - loss: 0.1208 - rmse: 0.2538 - r2: 0.7917 - val_loss: 0.1530 - val_rmse: 0.2883 - val_r2: 0.7008\n",
      "Epoch 11/100\n",
      "25087/25087 [==============================] - 1s 32us/sample - loss: 0.1210 - rmse: 0.2541 - r2: 0.7913 - val_loss: 0.1654 - val_rmse: 0.3072 - val_r2: 0.6945\n",
      "Epoch 12/100\n",
      "25087/25087 [==============================] - 1s 32us/sample - loss: 0.1160 - rmse: 0.2496 - r2: 0.8007 - val_loss: 0.1489 - val_rmse: 0.2852 - val_r2: 0.7202\n",
      "Epoch 13/100\n",
      "25087/25087 [==============================] - 1s 32us/sample - loss: 0.1126 - rmse: 0.2458 - r2: 0.8065 - val_loss: 0.1469 - val_rmse: 0.2805 - val_r2: 0.7340\n",
      "Epoch 14/100\n",
      "25087/25087 [==============================] - 1s 32us/sample - loss: 0.1114 - rmse: 0.2438 - r2: 0.8074 - val_loss: 0.1504 - val_rmse: 0.2838 - val_r2: 0.7182\n",
      "Epoch 15/100\n",
      "25087/25087 [==============================] - 1s 32us/sample - loss: 0.1092 - rmse: 0.2420 - r2: 0.8124 - val_loss: 0.1435 - val_rmse: 0.2805 - val_r2: 0.7134\n",
      "Epoch 16/100\n",
      "25087/25087 [==============================] - 1s 33us/sample - loss: 0.1073 - rmse: 0.2399 - r2: 0.8152 - val_loss: 0.1577 - val_rmse: 0.2940 - val_r2: 0.7105\n",
      "Epoch 17/100\n",
      "25087/25087 [==============================] - 1s 32us/sample - loss: 0.1035 - rmse: 0.2363 - r2: 0.8192 - val_loss: 0.1500 - val_rmse: 0.2898 - val_r2: 0.7125\n",
      "Epoch 18/100\n",
      "25087/25087 [==============================] - 1s 32us/sample - loss: 0.1036 - rmse: 0.2363 - r2: 0.8205 - val_loss: 0.1541 - val_rmse: 0.2958 - val_r2: 0.7141\n",
      "Epoch 19/100\n",
      "25087/25087 [==============================] - 1s 32us/sample - loss: 0.1024 - rmse: 0.2358 - r2: 0.8224 - val_loss: 0.1562 - val_rmse: 0.2896 - val_r2: 0.7069\n",
      "Epoch 20/100\n",
      "25087/25087 [==============================] - 1s 31us/sample - loss: 0.1001 - rmse: 0.2305 - r2: 0.8269 - val_loss: 0.1526 - val_rmse: 0.2906 - val_r2: 0.7153\n",
      "Epoch 21/100\n",
      "25087/25087 [==============================] - 1s 32us/sample - loss: 0.1007 - rmse: 0.2317 - r2: 0.8260 - val_loss: 0.1522 - val_rmse: 0.2876 - val_r2: 0.7075\n",
      "Epoch 22/100\n",
      "25087/25087 [==============================] - 1s 32us/sample - loss: 0.0979 - rmse: 0.2288 - r2: 0.8312 - val_loss: 0.1503 - val_rmse: 0.2881 - val_r2: 0.7236\n",
      "Epoch 23/100\n",
      "25087/25087 [==============================] - 1s 32us/sample - loss: 0.0950 - rmse: 0.2259 - r2: 0.8353 - val_loss: 0.1578 - val_rmse: 0.2939 - val_r2: 0.7191\n",
      "Epoch 24/100\n",
      "25087/25087 [==============================] - 1s 32us/sample - loss: 0.0957 - rmse: 0.2267 - r2: 0.8348 - val_loss: 0.1531 - val_rmse: 0.2904 - val_r2: 0.7191\n",
      "Epoch 25/100\n",
      "25087/25087 [==============================] - 1s 32us/sample - loss: 0.0924 - rmse: 0.2235 - r2: 0.8404 - val_loss: 0.1464 - val_rmse: 0.2825 - val_r2: 0.7310\n",
      "Epoch 26/100\n",
      "25087/25087 [==============================] - 1s 32us/sample - loss: 0.0907 - rmse: 0.2212 - r2: 0.8421 - val_loss: 0.1928 - val_rmse: 0.3292 - val_r2: 0.6327\n",
      "Epoch 27/100\n",
      "25087/25087 [==============================] - 1s 33us/sample - loss: 0.0994 - rmse: 0.2251 - r2: 0.8154 - val_loss: 0.1508 - val_rmse: 0.2850 - val_r2: 0.7222\n",
      "Epoch 28/100\n",
      "25087/25087 [==============================] - 1s 32us/sample - loss: 0.0900 - rmse: 0.2202 - r2: 0.8434 - val_loss: 0.1468 - val_rmse: 0.2824 - val_r2: 0.7242\n",
      "Epoch 29/100\n",
      "25087/25087 [==============================] - 1s 32us/sample - loss: 0.0859 - rmse: 0.2151 - r2: 0.8520 - val_loss: 0.1605 - val_rmse: 0.2965 - val_r2: 0.6429\n",
      "Epoch 30/100\n",
      "25087/25087 [==============================] - 1s 33us/sample - loss: 0.0862 - rmse: 0.2167 - r2: 0.8504 - val_loss: 0.1547 - val_rmse: 0.2897 - val_r2: 0.7131\n",
      "Epoch 31/100\n",
      "25087/25087 [==============================] - 1s 32us/sample - loss: 0.0867 - rmse: 0.2160 - r2: 0.8486 - val_loss: 0.1502 - val_rmse: 0.2819 - val_r2: 0.7234\n",
      "Epoch 32/100\n",
      "25087/25087 [==============================] - 1s 31us/sample - loss: 0.0851 - rmse: 0.2152 - r2: 0.8529 - val_loss: 0.1603 - val_rmse: 0.3005 - val_r2: 0.7008\n",
      "Epoch 33/100\n",
      "25087/25087 [==============================] - 1s 32us/sample - loss: 0.0847 - rmse: 0.2146 - r2: 0.8538 - val_loss: 0.1573 - val_rmse: 0.2959 - val_r2: 0.7053\n",
      "Epoch 34/100\n",
      "25087/25087 [==============================] - 1s 32us/sample - loss: 0.0847 - rmse: 0.2128 - r2: 0.8524 - val_loss: 0.1529 - val_rmse: 0.2885 - val_r2: 0.7163\n",
      "Epoch 35/100\n",
      "25087/25087 [==============================] - 1s 32us/sample - loss: 0.0821 - rmse: 0.2109 - r2: 0.8575 - val_loss: 0.1644 - val_rmse: 0.3008 - val_r2: 0.6958\n",
      "Epoch 36/100\n",
      "25087/25087 [==============================] - 1s 33us/sample - loss: 0.0828 - rmse: 0.2126 - r2: 0.8553 - val_loss: 0.1510 - val_rmse: 0.2858 - val_r2: 0.7203\n",
      "Epoch 37/100\n",
      "25087/25087 [==============================] - 1s 33us/sample - loss: 0.0815 - rmse: 0.2107 - r2: 0.8578 - val_loss: 0.1683 - val_rmse: 0.3071 - val_r2: 0.6875\n",
      "Epoch 38/100\n",
      "25087/25087 [==============================] - 1s 32us/sample - loss: 0.0799 - rmse: 0.2081 - r2: 0.8606 - val_loss: 0.1619 - val_rmse: 0.2988 - val_r2: 0.6941\n",
      "Epoch 39/100\n",
      "25087/25087 [==============================] - 1s 32us/sample - loss: 0.0790 - rmse: 0.2066 - r2: 0.8627 - val_loss: 0.1711 - val_rmse: 0.3043 - val_r2: 0.6945\n",
      "Epoch 40/100\n",
      "25087/25087 [==============================] - 1s 32us/sample - loss: 0.0773 - rmse: 0.2051 - r2: 0.8663 - val_loss: 0.1592 - val_rmse: 0.2954 - val_r2: 0.6727\n",
      "Epoch 41/100\n",
      "25087/25087 [==============================] - 1s 32us/sample - loss: 0.0797 - rmse: 0.2077 - r2: 0.8620 - val_loss: 0.1572 - val_rmse: 0.2944 - val_r2: 0.7122\n",
      "Epoch 42/100\n",
      "25087/25087 [==============================] - 1s 33us/sample - loss: 0.0786 - rmse: 0.2053 - r2: 0.8641 - val_loss: 0.1592 - val_rmse: 0.2934 - val_r2: 0.7041\n",
      "Epoch 43/100\n",
      "25087/25087 [==============================] - 1s 32us/sample - loss: 0.0760 - rmse: 0.2037 - r2: 0.8674 - val_loss: 0.1586 - val_rmse: 0.2989 - val_r2: 0.6992\n",
      "Epoch 44/100\n",
      "25087/25087 [==============================] - 1s 32us/sample - loss: 0.0767 - rmse: 0.2037 - r2: 0.8671 - val_loss: 0.1784 - val_rmse: 0.3171 - val_r2: 0.6677\n",
      "Epoch 45/100\n",
      "25087/25087 [==============================] - 1s 32us/sample - loss: 0.0769 - rmse: 0.2037 - r2: 0.8653 - val_loss: 0.1643 - val_rmse: 0.2943 - val_r2: 0.7058\n",
      "Epoch 46/100\n",
      "25087/25087 [==============================] - 1s 32us/sample - loss: 0.0741 - rmse: 0.2001 - r2: 0.8694 - val_loss: 0.1591 - val_rmse: 0.2951 - val_r2: 0.6962\n",
      "Epoch 47/100\n",
      "25087/25087 [==============================] - 1s 32us/sample - loss: 0.0735 - rmse: 0.2010 - r2: 0.8703 - val_loss: 0.1707 - val_rmse: 0.3034 - val_r2: 0.6873\n",
      "Epoch 48/100\n"
     ]
    },
    {
     "name": "stdout",
     "output_type": "stream",
     "text": [
      "25087/25087 [==============================] - 1s 32us/sample - loss: 0.0752 - rmse: 0.2015 - r2: 0.8685 - val_loss: 0.1687 - val_rmse: 0.3059 - val_r2: 0.6709\n",
      "Epoch 49/100\n",
      "25087/25087 [==============================] - 1s 32us/sample - loss: 0.0749 - rmse: 0.2003 - r2: 0.8704 - val_loss: 0.1621 - val_rmse: 0.3021 - val_r2: 0.7084\n",
      "Epoch 50/100\n",
      "25087/25087 [==============================] - 1s 36us/sample - loss: 0.0715 - rmse: 0.1976 - r2: 0.8756 - val_loss: 0.1725 - val_rmse: 0.3126 - val_r2: 0.6740\n",
      "Epoch 51/100\n",
      "25087/25087 [==============================] - 1s 33us/sample - loss: 0.0724 - rmse: 0.1987 - r2: 0.8733 - val_loss: 0.1593 - val_rmse: 0.2964 - val_r2: 0.7073\n",
      "Epoch 52/100\n",
      "25087/25087 [==============================] - 1s 32us/sample - loss: 0.0719 - rmse: 0.1971 - r2: 0.8740 - val_loss: 0.1580 - val_rmse: 0.2981 - val_r2: 0.7028\n",
      "Epoch 53/100\n",
      "25087/25087 [==============================] - 1s 32us/sample - loss: 0.0700 - rmse: 0.1954 - r2: 0.8783 - val_loss: 0.1570 - val_rmse: 0.2918 - val_r2: 0.7045\n",
      "Epoch 54/100\n",
      "25087/25087 [==============================] - 1s 32us/sample - loss: 0.0710 - rmse: 0.1967 - r2: 0.8754 - val_loss: 0.1604 - val_rmse: 0.3007 - val_r2: 0.7011\n",
      "Epoch 55/100\n",
      "25087/25087 [==============================] - 1s 32us/sample - loss: 0.0720 - rmse: 0.1952 - r2: 0.8710 - val_loss: 0.1602 - val_rmse: 0.2979 - val_r2: 0.7016\n",
      "Epoch 56/100\n",
      "25087/25087 [==============================] - 1s 32us/sample - loss: 0.0705 - rmse: 0.1957 - r2: 0.8754 - val_loss: 0.1656 - val_rmse: 0.3030 - val_r2: 0.6707\n",
      "Epoch 57/100\n",
      "25087/25087 [==============================] - 1s 32us/sample - loss: 0.0680 - rmse: 0.1930 - r2: 0.8807 - val_loss: 0.1637 - val_rmse: 0.2976 - val_r2: 0.6933\n",
      "Epoch 58/100\n",
      "25087/25087 [==============================] - 1s 32us/sample - loss: 0.0671 - rmse: 0.1920 - r2: 0.8820 - val_loss: 0.1620 - val_rmse: 0.2999 - val_r2: 0.6997\n",
      "Epoch 59/100\n",
      "25087/25087 [==============================] - 1s 32us/sample - loss: 0.0698 - rmse: 0.1959 - r2: 0.8778 - val_loss: 0.1656 - val_rmse: 0.3024 - val_r2: 0.6921\n",
      "Epoch 60/100\n",
      "25087/25087 [==============================] - 1s 32us/sample - loss: 0.0694 - rmse: 0.1927 - r2: 0.8754 - val_loss: 0.1629 - val_rmse: 0.2958 - val_r2: 0.6966\n",
      "Epoch 61/100\n",
      "25087/25087 [==============================] - 1s 32us/sample - loss: 0.0661 - rmse: 0.1912 - r2: 0.8831 - val_loss: 0.1687 - val_rmse: 0.3057 - val_r2: 0.6833\n",
      "Epoch 62/100\n",
      "25087/25087 [==============================] - 1s 32us/sample - loss: 0.0653 - rmse: 0.1902 - r2: 0.8858 - val_loss: 0.1624 - val_rmse: 0.3008 - val_r2: 0.6871\n",
      "Epoch 63/100\n",
      "25087/25087 [==============================] - 1s 33us/sample - loss: 0.0650 - rmse: 0.1899 - r2: 0.8863 - val_loss: 0.1687 - val_rmse: 0.3034 - val_r2: 0.6820\n",
      "Epoch 64/100\n",
      "25087/25087 [==============================] - 1s 34us/sample - loss: 0.0635 - rmse: 0.1883 - r2: 0.8880 - val_loss: 0.1749 - val_rmse: 0.3135 - val_r2: 0.6761\n",
      "Epoch 65/100\n",
      "25087/25087 [==============================] - 1s 32us/sample - loss: 0.0676 - rmse: 0.1924 - r2: 0.8808 - val_loss: 0.1663 - val_rmse: 0.3036 - val_r2: 0.6989\n",
      "Epoch 66/100\n",
      "25087/25087 [==============================] - 1s 32us/sample - loss: 0.0645 - rmse: 0.1891 - r2: 0.8876 - val_loss: 0.1674 - val_rmse: 0.3070 - val_r2: 0.6741\n",
      "Epoch 67/100\n",
      "25087/25087 [==============================] - 1s 32us/sample - loss: 0.0641 - rmse: 0.1884 - r2: 0.8879 - val_loss: 0.1614 - val_rmse: 0.3011 - val_r2: 0.6918\n",
      "Epoch 68/100\n",
      "25087/25087 [==============================] - 1s 32us/sample - loss: 0.0647 - rmse: 0.1884 - r2: 0.8864 - val_loss: 0.1639 - val_rmse: 0.3006 - val_r2: 0.6974\n",
      "Epoch 69/100\n",
      "25087/25087 [==============================] - 1s 32us/sample - loss: 0.0643 - rmse: 0.1874 - r2: 0.8875 - val_loss: 0.1682 - val_rmse: 0.3036 - val_r2: 0.6875\n",
      "Epoch 70/100\n",
      "25087/25087 [==============================] - 1s 32us/sample - loss: 0.0626 - rmse: 0.1870 - r2: 0.8905 - val_loss: 0.1704 - val_rmse: 0.3102 - val_r2: 0.6813\n",
      "Epoch 71/100\n",
      "25087/25087 [==============================] - 1s 32us/sample - loss: 0.0640 - rmse: 0.1860 - r2: 0.8883 - val_loss: 0.1721 - val_rmse: 0.3076 - val_r2: 0.6469\n",
      "Epoch 72/100\n",
      "25087/25087 [==============================] - 1s 32us/sample - loss: 0.0611 - rmse: 0.1854 - r2: 0.8928 - val_loss: 0.1653 - val_rmse: 0.3012 - val_r2: 0.6744\n",
      "Epoch 73/100\n",
      "25087/25087 [==============================] - 1s 33us/sample - loss: 0.0639 - rmse: 0.1871 - r2: 0.8865 - val_loss: 0.1664 - val_rmse: 0.3006 - val_r2: 0.6947\n",
      "Epoch 74/100\n",
      "25087/25087 [==============================] - 1s 32us/sample - loss: 0.0606 - rmse: 0.1836 - r2: 0.8942 - val_loss: 0.1727 - val_rmse: 0.3080 - val_r2: 0.6869\n",
      "Epoch 75/100\n",
      "25087/25087 [==============================] - 1s 33us/sample - loss: 0.0636 - rmse: 0.1862 - r2: 0.8869 - val_loss: 0.1715 - val_rmse: 0.3055 - val_r2: 0.6724\n",
      "Epoch 76/100\n",
      "25087/25087 [==============================] - 1s 32us/sample - loss: 0.0614 - rmse: 0.1845 - r2: 0.8917 - val_loss: 0.1696 - val_rmse: 0.3053 - val_r2: 0.6848\n",
      "Epoch 77/100\n",
      "25087/25087 [==============================] - 1s 32us/sample - loss: 0.0601 - rmse: 0.1827 - r2: 0.8946 - val_loss: 0.1747 - val_rmse: 0.3115 - val_r2: 0.6763\n",
      "Epoch 78/100\n",
      "25087/25087 [==============================] - 1s 32us/sample - loss: 0.0609 - rmse: 0.1836 - r2: 0.8934 - val_loss: 0.1734 - val_rmse: 0.3123 - val_r2: 0.6695\n",
      "Epoch 79/100\n",
      "25087/25087 [==============================] - 1s 32us/sample - loss: 0.0602 - rmse: 0.1817 - r2: 0.8938 - val_loss: 0.1664 - val_rmse: 0.3063 - val_r2: 0.6842\n",
      "Epoch 80/100\n",
      "25087/25087 [==============================] - 1s 32us/sample - loss: 0.0612 - rmse: 0.1834 - r2: 0.8922 - val_loss: 0.1743 - val_rmse: 0.3131 - val_r2: 0.6389\n",
      "Epoch 81/100\n",
      "25087/25087 [==============================] - 1s 31us/sample - loss: 0.0610 - rmse: 0.1823 - r2: 0.8921 - val_loss: 0.1720 - val_rmse: 0.3092 - val_r2: 0.6785\n",
      "Epoch 82/100\n",
      "25087/25087 [==============================] - 1s 32us/sample - loss: 0.0590 - rmse: 0.1814 - r2: 0.8968 - val_loss: 0.1762 - val_rmse: 0.3121 - val_r2: 0.6628\n",
      "Epoch 83/100\n",
      "25087/25087 [==============================] - 1s 33us/sample - loss: 0.0577 - rmse: 0.1794 - r2: 0.8981 - val_loss: 0.1774 - val_rmse: 0.3133 - val_r2: 0.6846\n",
      "Epoch 84/100\n",
      "25087/25087 [==============================] - 1s 34us/sample - loss: 0.0584 - rmse: 0.1808 - r2: 0.8975 - val_loss: 0.1765 - val_rmse: 0.3114 - val_r2: 0.6579\n",
      "Epoch 85/100\n",
      "25087/25087 [==============================] - 1s 34us/sample - loss: 0.0626 - rmse: 0.1832 - r2: 0.8879 - val_loss: 0.1773 - val_rmse: 0.3149 - val_r2: 0.6606\n",
      "Epoch 86/100\n",
      "25087/25087 [==============================] - 1s 33us/sample - loss: 0.0564 - rmse: 0.1773 - r2: 0.9002 - val_loss: 0.1779 - val_rmse: 0.3125 - val_r2: 0.6711\n",
      "Epoch 87/100\n",
      "25087/25087 [==============================] - 1s 33us/sample - loss: 0.0572 - rmse: 0.1778 - r2: 0.8996 - val_loss: 0.1698 - val_rmse: 0.3060 - val_r2: 0.6836\n",
      "Epoch 88/100\n",
      "25087/25087 [==============================] - 1s 34us/sample - loss: 0.0597 - rmse: 0.1815 - r2: 0.8947 - val_loss: 0.1769 - val_rmse: 0.3147 - val_r2: 0.6736\n",
      "Epoch 89/100\n",
      "25087/25087 [==============================] - 1s 32us/sample - loss: 0.0596 - rmse: 0.1798 - r2: 0.8966 - val_loss: 0.1740 - val_rmse: 0.3095 - val_r2: 0.6822\n",
      "Epoch 90/100\n",
      "25087/25087 [==============================] - 1s 32us/sample - loss: 0.0572 - rmse: 0.1771 - r2: 0.8990 - val_loss: 0.1771 - val_rmse: 0.3146 - val_r2: 0.6614\n",
      "Epoch 91/100\n",
      "25087/25087 [==============================] - 1s 32us/sample - loss: 0.0575 - rmse: 0.1777 - r2: 0.8992 - val_loss: 0.1829 - val_rmse: 0.3144 - val_r2: 0.6603\n",
      "Epoch 92/100\n",
      "25087/25087 [==============================] - 1s 32us/sample - loss: 0.0581 - rmse: 0.1787 - r2: 0.8959 - val_loss: 0.1885 - val_rmse: 0.3262 - val_r2: 0.6219\n",
      "Epoch 93/100\n",
      "25087/25087 [==============================] - 1s 32us/sample - loss: 0.0551 - rmse: 0.1761 - r2: 0.9029 - val_loss: 0.1777 - val_rmse: 0.3122 - val_r2: 0.6672\n",
      "Epoch 94/100\n",
      "25087/25087 [==============================] - 1s 32us/sample - loss: 0.0559 - rmse: 0.1767 - r2: 0.9007 - val_loss: 0.1776 - val_rmse: 0.3128 - val_r2: 0.6692\n",
      "Epoch 95/100\n"
     ]
    },
    {
     "name": "stdout",
     "output_type": "stream",
     "text": [
      "25087/25087 [==============================] - 1s 31us/sample - loss: 0.0564 - rmse: 0.1774 - r2: 0.8996 - val_loss: 0.1781 - val_rmse: 0.3144 - val_r2: 0.6638\n",
      "Epoch 96/100\n",
      "25087/25087 [==============================] - 1s 31us/sample - loss: 0.0582 - rmse: 0.1779 - r2: 0.8947 - val_loss: 0.1826 - val_rmse: 0.3150 - val_r2: 0.6574\n",
      "Epoch 97/100\n",
      "25087/25087 [==============================] - 1s 31us/sample - loss: 0.0573 - rmse: 0.1772 - r2: 0.8986 - val_loss: 0.1754 - val_rmse: 0.3153 - val_r2: 0.6757\n",
      "Epoch 98/100\n",
      "25087/25087 [==============================] - 1s 31us/sample - loss: 0.0550 - rmse: 0.1743 - r2: 0.9020 - val_loss: 0.1838 - val_rmse: 0.3150 - val_r2: 0.6604\n",
      "Epoch 99/100\n",
      "25087/25087 [==============================] - 1s 31us/sample - loss: 0.0546 - rmse: 0.1739 - r2: 0.9040 - val_loss: 0.1782 - val_rmse: 0.3147 - val_r2: 0.6628\n",
      "Epoch 100/100\n",
      "25087/25087 [==============================] - 1s 32us/sample - loss: 0.0531 - rmse: 0.1727 - r2: 0.9064 - val_loss: 0.1875 - val_rmse: 0.3249 - val_r2: 0.6501\n"
     ]
    }
   ],
   "source": [
    "epoch=100\n",
    "history_wd = model_wd.fit(X_train_trfm, y_train, epochs=epoch, validation_split=0.05)"
   ]
  },
  {
   "cell_type": "code",
   "execution_count": 236,
   "id": "f59909ec",
   "metadata": {},
   "outputs": [
    {
     "data": {
      "application/vnd.plotly.v1+json": {
       "config": {
        "plotlyServerURL": "https://plot.ly"
       },
       "data": [
        {
         "name": "Train",
         "type": "scattergl",
         "y": [
          0.8304101326875025,
          0.20311300868181317,
          0.17538254044190607,
          0.15993837762717428,
          0.1498982127518734,
          0.14124028506391895,
          0.1348156234089915,
          0.13076645573345344,
          0.12711914823302078,
          0.12080684064091494,
          0.1210436351282797,
          0.11603959456371862,
          0.11264697989774035,
          0.11138874428721629,
          0.10915784628433463,
          0.10731725715355879,
          0.10354591635127006,
          0.10360033811207865,
          0.10237735047340678,
          0.10008776536919024,
          0.10069031726019358,
          0.09793218724955575,
          0.09501034850572805,
          0.09569323637334205,
          0.09243430034057931,
          0.09072408838345415,
          0.09943669165743396,
          0.0899505768543428,
          0.0858704965326561,
          0.08621848377040495,
          0.08671128320756694,
          0.08507615270040887,
          0.08470288370053053,
          0.08470247634975538,
          0.08206394591129695,
          0.08277704998213482,
          0.08152584003805567,
          0.07985506049643319,
          0.07899950503175605,
          0.07729997570458749,
          0.0797339563543882,
          0.07860344175523905,
          0.07599731048042446,
          0.07667137697465576,
          0.0768597664755305,
          0.0741165037599056,
          0.0734790122898178,
          0.07518270657380619,
          0.07488415760064641,
          0.07146147204731637,
          0.07244485247288171,
          0.07189159160417165,
          0.07003587342175922,
          0.07103392961486807,
          0.07200037725764283,
          0.0704696651165179,
          0.06802414650657389,
          0.0671230760779152,
          0.06976175036689856,
          0.06944856595695102,
          0.06611229623560794,
          0.06532162704132341,
          0.06502113498870006,
          0.06354312629636769,
          0.06758290703019772,
          0.0645300900894667,
          0.06406425029026315,
          0.06472256142479314,
          0.06432711139666429,
          0.06260535219831921,
          0.06398100720339618,
          0.06106206471099039,
          0.06391318286439247,
          0.06063598121757376,
          0.06362360555669845,
          0.06138806400967846,
          0.06006688178734952,
          0.06087370424635309,
          0.06021454635543204,
          0.06119144620573497,
          0.060976165943861946,
          0.058990730073325406,
          0.057654870406649114,
          0.058371174131655705,
          0.06259685438392874,
          0.056386204225929944,
          0.05719634012595385,
          0.05968539457225156,
          0.0595732858546998,
          0.05721988230848643,
          0.05751384526589766,
          0.058136681771085455,
          0.05512723788115941,
          0.05585018448778426,
          0.05643931352540268,
          0.05819153395268058,
          0.05727057009828463,
          0.054984804136230046,
          0.05455941323051491,
          0.05307561940454413
         ]
        },
        {
         "name": "Valid",
         "type": "scattergl",
         "y": [
          0.19711202475539127,
          0.1891217765530161,
          0.17263720537071242,
          0.1632802641184198,
          0.1747949652650156,
          0.17489894597391392,
          0.17387064916055642,
          0.16193506564383792,
          0.1612926814944838,
          0.15300190664777064,
          0.16535799813306665,
          0.1488702315315435,
          0.1469247600347097,
          0.150371935875645,
          0.14350435259575017,
          0.15774671986056132,
          0.15003098192695954,
          0.15405451779921428,
          0.15621300806474,
          0.15260151436976824,
          0.15219086076976854,
          0.15034460604055463,
          0.1577975790860254,
          0.1531295666385112,
          0.14641842482376063,
          0.19280827054464844,
          0.15081471785688652,
          0.1467562563700445,
          0.16048327454962935,
          0.1547329270821643,
          0.1502295026808052,
          0.160261553542281,
          0.157301588414024,
          0.1529114150599401,
          0.16438012243580583,
          0.1510407306947643,
          0.1682721316295533,
          0.1618733841370309,
          0.17112396820465964,
          0.15920219251732318,
          0.15715393251446863,
          0.15919904737965254,
          0.15861934369865643,
          0.17843379243858648,
          0.16429457781352752,
          0.1590553435929159,
          0.1707117802306254,
          0.16870796748131717,
          0.16212063485208017,
          0.17245423494867085,
          0.1592503657210604,
          0.15795476901585365,
          0.15695484726493059,
          0.16038565563262186,
          0.16017763076362784,
          0.1656486955580614,
          0.16371315221367777,
          0.1619752607407735,
          0.16558004708158347,
          0.1629079427065315,
          0.16869005278869617,
          0.16243958875909165,
          0.16868563024588012,
          0.17488896297424875,
          0.16625645508556813,
          0.16739831446337936,
          0.16140662003971248,
          0.16389853938184482,
          0.168163297022499,
          0.1703855197462144,
          0.1721443989166791,
          0.16534711735817992,
          0.1663834791712288,
          0.17271361716040873,
          0.17148086254926995,
          0.1695614174786704,
          0.1747275967542914,
          0.17344200040617735,
          0.16637374051225448,
          0.17428238302988144,
          0.172049271886115,
          0.1761738906003236,
          0.17739375983558758,
          0.17652270280777912,
          0.1772771693489752,
          0.17789189464481017,
          0.16984248078970365,
          0.17689793642094243,
          0.17404379561983394,
          0.17706863198043,
          0.18289531403581452,
          0.1885379675118694,
          0.17773514291177095,
          0.17759029578521882,
          0.17813270697532324,
          0.1825906744369226,
          0.1753897739350119,
          0.18376436723532955,
          0.17818240718711606,
          0.18750034595284834
         ]
        }
       ],
       "layout": {
        "height": 500,
        "template": {
         "data": {
          "bar": [
           {
            "error_x": {
             "color": "#2a3f5f"
            },
            "error_y": {
             "color": "#2a3f5f"
            },
            "marker": {
             "line": {
              "color": "#E5ECF6",
              "width": 0.5
             },
             "pattern": {
              "fillmode": "overlay",
              "size": 10,
              "solidity": 0.2
             }
            },
            "type": "bar"
           }
          ],
          "barpolar": [
           {
            "marker": {
             "line": {
              "color": "#E5ECF6",
              "width": 0.5
             },
             "pattern": {
              "fillmode": "overlay",
              "size": 10,
              "solidity": 0.2
             }
            },
            "type": "barpolar"
           }
          ],
          "carpet": [
           {
            "aaxis": {
             "endlinecolor": "#2a3f5f",
             "gridcolor": "white",
             "linecolor": "white",
             "minorgridcolor": "white",
             "startlinecolor": "#2a3f5f"
            },
            "baxis": {
             "endlinecolor": "#2a3f5f",
             "gridcolor": "white",
             "linecolor": "white",
             "minorgridcolor": "white",
             "startlinecolor": "#2a3f5f"
            },
            "type": "carpet"
           }
          ],
          "choropleth": [
           {
            "colorbar": {
             "outlinewidth": 0,
             "ticks": ""
            },
            "type": "choropleth"
           }
          ],
          "contour": [
           {
            "colorbar": {
             "outlinewidth": 0,
             "ticks": ""
            },
            "colorscale": [
             [
              0,
              "#0d0887"
             ],
             [
              0.1111111111111111,
              "#46039f"
             ],
             [
              0.2222222222222222,
              "#7201a8"
             ],
             [
              0.3333333333333333,
              "#9c179e"
             ],
             [
              0.4444444444444444,
              "#bd3786"
             ],
             [
              0.5555555555555556,
              "#d8576b"
             ],
             [
              0.6666666666666666,
              "#ed7953"
             ],
             [
              0.7777777777777778,
              "#fb9f3a"
             ],
             [
              0.8888888888888888,
              "#fdca26"
             ],
             [
              1,
              "#f0f921"
             ]
            ],
            "type": "contour"
           }
          ],
          "contourcarpet": [
           {
            "colorbar": {
             "outlinewidth": 0,
             "ticks": ""
            },
            "type": "contourcarpet"
           }
          ],
          "heatmap": [
           {
            "colorbar": {
             "outlinewidth": 0,
             "ticks": ""
            },
            "colorscale": [
             [
              0,
              "#0d0887"
             ],
             [
              0.1111111111111111,
              "#46039f"
             ],
             [
              0.2222222222222222,
              "#7201a8"
             ],
             [
              0.3333333333333333,
              "#9c179e"
             ],
             [
              0.4444444444444444,
              "#bd3786"
             ],
             [
              0.5555555555555556,
              "#d8576b"
             ],
             [
              0.6666666666666666,
              "#ed7953"
             ],
             [
              0.7777777777777778,
              "#fb9f3a"
             ],
             [
              0.8888888888888888,
              "#fdca26"
             ],
             [
              1,
              "#f0f921"
             ]
            ],
            "type": "heatmap"
           }
          ],
          "heatmapgl": [
           {
            "colorbar": {
             "outlinewidth": 0,
             "ticks": ""
            },
            "colorscale": [
             [
              0,
              "#0d0887"
             ],
             [
              0.1111111111111111,
              "#46039f"
             ],
             [
              0.2222222222222222,
              "#7201a8"
             ],
             [
              0.3333333333333333,
              "#9c179e"
             ],
             [
              0.4444444444444444,
              "#bd3786"
             ],
             [
              0.5555555555555556,
              "#d8576b"
             ],
             [
              0.6666666666666666,
              "#ed7953"
             ],
             [
              0.7777777777777778,
              "#fb9f3a"
             ],
             [
              0.8888888888888888,
              "#fdca26"
             ],
             [
              1,
              "#f0f921"
             ]
            ],
            "type": "heatmapgl"
           }
          ],
          "histogram": [
           {
            "marker": {
             "pattern": {
              "fillmode": "overlay",
              "size": 10,
              "solidity": 0.2
             }
            },
            "type": "histogram"
           }
          ],
          "histogram2d": [
           {
            "colorbar": {
             "outlinewidth": 0,
             "ticks": ""
            },
            "colorscale": [
             [
              0,
              "#0d0887"
             ],
             [
              0.1111111111111111,
              "#46039f"
             ],
             [
              0.2222222222222222,
              "#7201a8"
             ],
             [
              0.3333333333333333,
              "#9c179e"
             ],
             [
              0.4444444444444444,
              "#bd3786"
             ],
             [
              0.5555555555555556,
              "#d8576b"
             ],
             [
              0.6666666666666666,
              "#ed7953"
             ],
             [
              0.7777777777777778,
              "#fb9f3a"
             ],
             [
              0.8888888888888888,
              "#fdca26"
             ],
             [
              1,
              "#f0f921"
             ]
            ],
            "type": "histogram2d"
           }
          ],
          "histogram2dcontour": [
           {
            "colorbar": {
             "outlinewidth": 0,
             "ticks": ""
            },
            "colorscale": [
             [
              0,
              "#0d0887"
             ],
             [
              0.1111111111111111,
              "#46039f"
             ],
             [
              0.2222222222222222,
              "#7201a8"
             ],
             [
              0.3333333333333333,
              "#9c179e"
             ],
             [
              0.4444444444444444,
              "#bd3786"
             ],
             [
              0.5555555555555556,
              "#d8576b"
             ],
             [
              0.6666666666666666,
              "#ed7953"
             ],
             [
              0.7777777777777778,
              "#fb9f3a"
             ],
             [
              0.8888888888888888,
              "#fdca26"
             ],
             [
              1,
              "#f0f921"
             ]
            ],
            "type": "histogram2dcontour"
           }
          ],
          "mesh3d": [
           {
            "colorbar": {
             "outlinewidth": 0,
             "ticks": ""
            },
            "type": "mesh3d"
           }
          ],
          "parcoords": [
           {
            "line": {
             "colorbar": {
              "outlinewidth": 0,
              "ticks": ""
             }
            },
            "type": "parcoords"
           }
          ],
          "pie": [
           {
            "automargin": true,
            "type": "pie"
           }
          ],
          "scatter": [
           {
            "marker": {
             "colorbar": {
              "outlinewidth": 0,
              "ticks": ""
             }
            },
            "type": "scatter"
           }
          ],
          "scatter3d": [
           {
            "line": {
             "colorbar": {
              "outlinewidth": 0,
              "ticks": ""
             }
            },
            "marker": {
             "colorbar": {
              "outlinewidth": 0,
              "ticks": ""
             }
            },
            "type": "scatter3d"
           }
          ],
          "scattercarpet": [
           {
            "marker": {
             "colorbar": {
              "outlinewidth": 0,
              "ticks": ""
             }
            },
            "type": "scattercarpet"
           }
          ],
          "scattergeo": [
           {
            "marker": {
             "colorbar": {
              "outlinewidth": 0,
              "ticks": ""
             }
            },
            "type": "scattergeo"
           }
          ],
          "scattergl": [
           {
            "marker": {
             "colorbar": {
              "outlinewidth": 0,
              "ticks": ""
             }
            },
            "type": "scattergl"
           }
          ],
          "scattermapbox": [
           {
            "marker": {
             "colorbar": {
              "outlinewidth": 0,
              "ticks": ""
             }
            },
            "type": "scattermapbox"
           }
          ],
          "scatterpolar": [
           {
            "marker": {
             "colorbar": {
              "outlinewidth": 0,
              "ticks": ""
             }
            },
            "type": "scatterpolar"
           }
          ],
          "scatterpolargl": [
           {
            "marker": {
             "colorbar": {
              "outlinewidth": 0,
              "ticks": ""
             }
            },
            "type": "scatterpolargl"
           }
          ],
          "scatterternary": [
           {
            "marker": {
             "colorbar": {
              "outlinewidth": 0,
              "ticks": ""
             }
            },
            "type": "scatterternary"
           }
          ],
          "surface": [
           {
            "colorbar": {
             "outlinewidth": 0,
             "ticks": ""
            },
            "colorscale": [
             [
              0,
              "#0d0887"
             ],
             [
              0.1111111111111111,
              "#46039f"
             ],
             [
              0.2222222222222222,
              "#7201a8"
             ],
             [
              0.3333333333333333,
              "#9c179e"
             ],
             [
              0.4444444444444444,
              "#bd3786"
             ],
             [
              0.5555555555555556,
              "#d8576b"
             ],
             [
              0.6666666666666666,
              "#ed7953"
             ],
             [
              0.7777777777777778,
              "#fb9f3a"
             ],
             [
              0.8888888888888888,
              "#fdca26"
             ],
             [
              1,
              "#f0f921"
             ]
            ],
            "type": "surface"
           }
          ],
          "table": [
           {
            "cells": {
             "fill": {
              "color": "#EBF0F8"
             },
             "line": {
              "color": "white"
             }
            },
            "header": {
             "fill": {
              "color": "#C8D4E3"
             },
             "line": {
              "color": "white"
             }
            },
            "type": "table"
           }
          ]
         },
         "layout": {
          "annotationdefaults": {
           "arrowcolor": "#2a3f5f",
           "arrowhead": 0,
           "arrowwidth": 1
          },
          "autotypenumbers": "strict",
          "coloraxis": {
           "colorbar": {
            "outlinewidth": 0,
            "ticks": ""
           }
          },
          "colorscale": {
           "diverging": [
            [
             0,
             "#8e0152"
            ],
            [
             0.1,
             "#c51b7d"
            ],
            [
             0.2,
             "#de77ae"
            ],
            [
             0.3,
             "#f1b6da"
            ],
            [
             0.4,
             "#fde0ef"
            ],
            [
             0.5,
             "#f7f7f7"
            ],
            [
             0.6,
             "#e6f5d0"
            ],
            [
             0.7,
             "#b8e186"
            ],
            [
             0.8,
             "#7fbc41"
            ],
            [
             0.9,
             "#4d9221"
            ],
            [
             1,
             "#276419"
            ]
           ],
           "sequential": [
            [
             0,
             "#0d0887"
            ],
            [
             0.1111111111111111,
             "#46039f"
            ],
            [
             0.2222222222222222,
             "#7201a8"
            ],
            [
             0.3333333333333333,
             "#9c179e"
            ],
            [
             0.4444444444444444,
             "#bd3786"
            ],
            [
             0.5555555555555556,
             "#d8576b"
            ],
            [
             0.6666666666666666,
             "#ed7953"
            ],
            [
             0.7777777777777778,
             "#fb9f3a"
            ],
            [
             0.8888888888888888,
             "#fdca26"
            ],
            [
             1,
             "#f0f921"
            ]
           ],
           "sequentialminus": [
            [
             0,
             "#0d0887"
            ],
            [
             0.1111111111111111,
             "#46039f"
            ],
            [
             0.2222222222222222,
             "#7201a8"
            ],
            [
             0.3333333333333333,
             "#9c179e"
            ],
            [
             0.4444444444444444,
             "#bd3786"
            ],
            [
             0.5555555555555556,
             "#d8576b"
            ],
            [
             0.6666666666666666,
             "#ed7953"
            ],
            [
             0.7777777777777778,
             "#fb9f3a"
            ],
            [
             0.8888888888888888,
             "#fdca26"
            ],
            [
             1,
             "#f0f921"
            ]
           ]
          },
          "colorway": [
           "#636efa",
           "#EF553B",
           "#00cc96",
           "#ab63fa",
           "#FFA15A",
           "#19d3f3",
           "#FF6692",
           "#B6E880",
           "#FF97FF",
           "#FECB52"
          ],
          "font": {
           "color": "#2a3f5f"
          },
          "geo": {
           "bgcolor": "white",
           "lakecolor": "white",
           "landcolor": "#E5ECF6",
           "showlakes": true,
           "showland": true,
           "subunitcolor": "white"
          },
          "hoverlabel": {
           "align": "left"
          },
          "hovermode": "closest",
          "mapbox": {
           "style": "light"
          },
          "paper_bgcolor": "white",
          "plot_bgcolor": "#E5ECF6",
          "polar": {
           "angularaxis": {
            "gridcolor": "white",
            "linecolor": "white",
            "ticks": ""
           },
           "bgcolor": "#E5ECF6",
           "radialaxis": {
            "gridcolor": "white",
            "linecolor": "white",
            "ticks": ""
           }
          },
          "scene": {
           "xaxis": {
            "backgroundcolor": "#E5ECF6",
            "gridcolor": "white",
            "gridwidth": 2,
            "linecolor": "white",
            "showbackground": true,
            "ticks": "",
            "zerolinecolor": "white"
           },
           "yaxis": {
            "backgroundcolor": "#E5ECF6",
            "gridcolor": "white",
            "gridwidth": 2,
            "linecolor": "white",
            "showbackground": true,
            "ticks": "",
            "zerolinecolor": "white"
           },
           "zaxis": {
            "backgroundcolor": "#E5ECF6",
            "gridcolor": "white",
            "gridwidth": 2,
            "linecolor": "white",
            "showbackground": true,
            "ticks": "",
            "zerolinecolor": "white"
           }
          },
          "shapedefaults": {
           "line": {
            "color": "#2a3f5f"
           }
          },
          "ternary": {
           "aaxis": {
            "gridcolor": "white",
            "linecolor": "white",
            "ticks": ""
           },
           "baxis": {
            "gridcolor": "white",
            "linecolor": "white",
            "ticks": ""
           },
           "bgcolor": "#E5ECF6",
           "caxis": {
            "gridcolor": "white",
            "linecolor": "white",
            "ticks": ""
           }
          },
          "title": {
           "x": 0.05
          },
          "xaxis": {
           "automargin": true,
           "gridcolor": "white",
           "linecolor": "white",
           "ticks": "",
           "title": {
            "standoff": 15
           },
           "zerolinecolor": "white",
           "zerolinewidth": 2
          },
          "yaxis": {
           "automargin": true,
           "gridcolor": "white",
           "linecolor": "white",
           "ticks": "",
           "title": {
            "standoff": 15
           },
           "zerolinecolor": "white",
           "zerolinewidth": 2
          }
         }
        },
        "width": 700,
        "xaxis": {
         "title": {
          "text": "Epoch"
         }
        },
        "yaxis": {
         "title": {
          "text": "MSE"
         }
        }
       }
      },
      "text/html": [
       "<div>                            <div id=\"5f1c1ff7-ddf6-4c89-9726-ce20d72358ce\" class=\"plotly-graph-div\" style=\"height:500px; width:700px;\"></div>            <script type=\"text/javascript\">                require([\"plotly\"], function(Plotly) {                    window.PLOTLYENV=window.PLOTLYENV || {};                                    if (document.getElementById(\"5f1c1ff7-ddf6-4c89-9726-ce20d72358ce\")) {                    Plotly.newPlot(                        \"5f1c1ff7-ddf6-4c89-9726-ce20d72358ce\",                        [{\"name\":\"Train\",\"y\":[0.8304101326875025,0.20311300868181317,0.17538254044190607,0.15993837762717428,0.1498982127518734,0.14124028506391895,0.1348156234089915,0.13076645573345344,0.12711914823302078,0.12080684064091494,0.1210436351282797,0.11603959456371862,0.11264697989774035,0.11138874428721629,0.10915784628433463,0.10731725715355879,0.10354591635127006,0.10360033811207865,0.10237735047340678,0.10008776536919024,0.10069031726019358,0.09793218724955575,0.09501034850572805,0.09569323637334205,0.09243430034057931,0.09072408838345415,0.09943669165743396,0.0899505768543428,0.0858704965326561,0.08621848377040495,0.08671128320756694,0.08507615270040887,0.08470288370053053,0.08470247634975538,0.08206394591129695,0.08277704998213482,0.08152584003805567,0.07985506049643319,0.07899950503175605,0.07729997570458749,0.0797339563543882,0.07860344175523905,0.07599731048042446,0.07667137697465576,0.0768597664755305,0.0741165037599056,0.0734790122898178,0.07518270657380619,0.07488415760064641,0.07146147204731637,0.07244485247288171,0.07189159160417165,0.07003587342175922,0.07103392961486807,0.07200037725764283,0.0704696651165179,0.06802414650657389,0.0671230760779152,0.06976175036689856,0.06944856595695102,0.06611229623560794,0.06532162704132341,0.06502113498870006,0.06354312629636769,0.06758290703019772,0.0645300900894667,0.06406425029026315,0.06472256142479314,0.06432711139666429,0.06260535219831921,0.06398100720339618,0.06106206471099039,0.06391318286439247,0.06063598121757376,0.06362360555669845,0.06138806400967846,0.06006688178734952,0.06087370424635309,0.06021454635543204,0.06119144620573497,0.060976165943861946,0.058990730073325406,0.057654870406649114,0.058371174131655705,0.06259685438392874,0.056386204225929944,0.05719634012595385,0.05968539457225156,0.0595732858546998,0.05721988230848643,0.05751384526589766,0.058136681771085455,0.05512723788115941,0.05585018448778426,0.05643931352540268,0.05819153395268058,0.05727057009828463,0.054984804136230046,0.05455941323051491,0.05307561940454413],\"type\":\"scattergl\"},{\"name\":\"Valid\",\"y\":[0.19711202475539127,0.1891217765530161,0.17263720537071242,0.1632802641184198,0.1747949652650156,0.17489894597391392,0.17387064916055642,0.16193506564383792,0.1612926814944838,0.15300190664777064,0.16535799813306665,0.1488702315315435,0.1469247600347097,0.150371935875645,0.14350435259575017,0.15774671986056132,0.15003098192695954,0.15405451779921428,0.15621300806474,0.15260151436976824,0.15219086076976854,0.15034460604055463,0.1577975790860254,0.1531295666385112,0.14641842482376063,0.19280827054464844,0.15081471785688652,0.1467562563700445,0.16048327454962935,0.1547329270821643,0.1502295026808052,0.160261553542281,0.157301588414024,0.1529114150599401,0.16438012243580583,0.1510407306947643,0.1682721316295533,0.1618733841370309,0.17112396820465964,0.15920219251732318,0.15715393251446863,0.15919904737965254,0.15861934369865643,0.17843379243858648,0.16429457781352752,0.1590553435929159,0.1707117802306254,0.16870796748131717,0.16212063485208017,0.17245423494867085,0.1592503657210604,0.15795476901585365,0.15695484726493059,0.16038565563262186,0.16017763076362784,0.1656486955580614,0.16371315221367777,0.1619752607407735,0.16558004708158347,0.1629079427065315,0.16869005278869617,0.16243958875909165,0.16868563024588012,0.17488896297424875,0.16625645508556813,0.16739831446337936,0.16140662003971248,0.16389853938184482,0.168163297022499,0.1703855197462144,0.1721443989166791,0.16534711735817992,0.1663834791712288,0.17271361716040873,0.17148086254926995,0.1695614174786704,0.1747275967542914,0.17344200040617735,0.16637374051225448,0.17428238302988144,0.172049271886115,0.1761738906003236,0.17739375983558758,0.17652270280777912,0.1772771693489752,0.17789189464481017,0.16984248078970365,0.17689793642094243,0.17404379561983394,0.17706863198043,0.18289531403581452,0.1885379675118694,0.17773514291177095,0.17759029578521882,0.17813270697532324,0.1825906744369226,0.1753897739350119,0.18376436723532955,0.17818240718711606,0.18750034595284834],\"type\":\"scattergl\"}],                        {\"template\":{\"data\":{\"bar\":[{\"error_x\":{\"color\":\"#2a3f5f\"},\"error_y\":{\"color\":\"#2a3f5f\"},\"marker\":{\"line\":{\"color\":\"#E5ECF6\",\"width\":0.5},\"pattern\":{\"fillmode\":\"overlay\",\"size\":10,\"solidity\":0.2}},\"type\":\"bar\"}],\"barpolar\":[{\"marker\":{\"line\":{\"color\":\"#E5ECF6\",\"width\":0.5},\"pattern\":{\"fillmode\":\"overlay\",\"size\":10,\"solidity\":0.2}},\"type\":\"barpolar\"}],\"carpet\":[{\"aaxis\":{\"endlinecolor\":\"#2a3f5f\",\"gridcolor\":\"white\",\"linecolor\":\"white\",\"minorgridcolor\":\"white\",\"startlinecolor\":\"#2a3f5f\"},\"baxis\":{\"endlinecolor\":\"#2a3f5f\",\"gridcolor\":\"white\",\"linecolor\":\"white\",\"minorgridcolor\":\"white\",\"startlinecolor\":\"#2a3f5f\"},\"type\":\"carpet\"}],\"choropleth\":[{\"colorbar\":{\"outlinewidth\":0,\"ticks\":\"\"},\"type\":\"choropleth\"}],\"contour\":[{\"colorbar\":{\"outlinewidth\":0,\"ticks\":\"\"},\"colorscale\":[[0.0,\"#0d0887\"],[0.1111111111111111,\"#46039f\"],[0.2222222222222222,\"#7201a8\"],[0.3333333333333333,\"#9c179e\"],[0.4444444444444444,\"#bd3786\"],[0.5555555555555556,\"#d8576b\"],[0.6666666666666666,\"#ed7953\"],[0.7777777777777778,\"#fb9f3a\"],[0.8888888888888888,\"#fdca26\"],[1.0,\"#f0f921\"]],\"type\":\"contour\"}],\"contourcarpet\":[{\"colorbar\":{\"outlinewidth\":0,\"ticks\":\"\"},\"type\":\"contourcarpet\"}],\"heatmap\":[{\"colorbar\":{\"outlinewidth\":0,\"ticks\":\"\"},\"colorscale\":[[0.0,\"#0d0887\"],[0.1111111111111111,\"#46039f\"],[0.2222222222222222,\"#7201a8\"],[0.3333333333333333,\"#9c179e\"],[0.4444444444444444,\"#bd3786\"],[0.5555555555555556,\"#d8576b\"],[0.6666666666666666,\"#ed7953\"],[0.7777777777777778,\"#fb9f3a\"],[0.8888888888888888,\"#fdca26\"],[1.0,\"#f0f921\"]],\"type\":\"heatmap\"}],\"heatmapgl\":[{\"colorbar\":{\"outlinewidth\":0,\"ticks\":\"\"},\"colorscale\":[[0.0,\"#0d0887\"],[0.1111111111111111,\"#46039f\"],[0.2222222222222222,\"#7201a8\"],[0.3333333333333333,\"#9c179e\"],[0.4444444444444444,\"#bd3786\"],[0.5555555555555556,\"#d8576b\"],[0.6666666666666666,\"#ed7953\"],[0.7777777777777778,\"#fb9f3a\"],[0.8888888888888888,\"#fdca26\"],[1.0,\"#f0f921\"]],\"type\":\"heatmapgl\"}],\"histogram\":[{\"marker\":{\"pattern\":{\"fillmode\":\"overlay\",\"size\":10,\"solidity\":0.2}},\"type\":\"histogram\"}],\"histogram2d\":[{\"colorbar\":{\"outlinewidth\":0,\"ticks\":\"\"},\"colorscale\":[[0.0,\"#0d0887\"],[0.1111111111111111,\"#46039f\"],[0.2222222222222222,\"#7201a8\"],[0.3333333333333333,\"#9c179e\"],[0.4444444444444444,\"#bd3786\"],[0.5555555555555556,\"#d8576b\"],[0.6666666666666666,\"#ed7953\"],[0.7777777777777778,\"#fb9f3a\"],[0.8888888888888888,\"#fdca26\"],[1.0,\"#f0f921\"]],\"type\":\"histogram2d\"}],\"histogram2dcontour\":[{\"colorbar\":{\"outlinewidth\":0,\"ticks\":\"\"},\"colorscale\":[[0.0,\"#0d0887\"],[0.1111111111111111,\"#46039f\"],[0.2222222222222222,\"#7201a8\"],[0.3333333333333333,\"#9c179e\"],[0.4444444444444444,\"#bd3786\"],[0.5555555555555556,\"#d8576b\"],[0.6666666666666666,\"#ed7953\"],[0.7777777777777778,\"#fb9f3a\"],[0.8888888888888888,\"#fdca26\"],[1.0,\"#f0f921\"]],\"type\":\"histogram2dcontour\"}],\"mesh3d\":[{\"colorbar\":{\"outlinewidth\":0,\"ticks\":\"\"},\"type\":\"mesh3d\"}],\"parcoords\":[{\"line\":{\"colorbar\":{\"outlinewidth\":0,\"ticks\":\"\"}},\"type\":\"parcoords\"}],\"pie\":[{\"automargin\":true,\"type\":\"pie\"}],\"scatter\":[{\"marker\":{\"colorbar\":{\"outlinewidth\":0,\"ticks\":\"\"}},\"type\":\"scatter\"}],\"scatter3d\":[{\"line\":{\"colorbar\":{\"outlinewidth\":0,\"ticks\":\"\"}},\"marker\":{\"colorbar\":{\"outlinewidth\":0,\"ticks\":\"\"}},\"type\":\"scatter3d\"}],\"scattercarpet\":[{\"marker\":{\"colorbar\":{\"outlinewidth\":0,\"ticks\":\"\"}},\"type\":\"scattercarpet\"}],\"scattergeo\":[{\"marker\":{\"colorbar\":{\"outlinewidth\":0,\"ticks\":\"\"}},\"type\":\"scattergeo\"}],\"scattergl\":[{\"marker\":{\"colorbar\":{\"outlinewidth\":0,\"ticks\":\"\"}},\"type\":\"scattergl\"}],\"scattermapbox\":[{\"marker\":{\"colorbar\":{\"outlinewidth\":0,\"ticks\":\"\"}},\"type\":\"scattermapbox\"}],\"scatterpolar\":[{\"marker\":{\"colorbar\":{\"outlinewidth\":0,\"ticks\":\"\"}},\"type\":\"scatterpolar\"}],\"scatterpolargl\":[{\"marker\":{\"colorbar\":{\"outlinewidth\":0,\"ticks\":\"\"}},\"type\":\"scatterpolargl\"}],\"scatterternary\":[{\"marker\":{\"colorbar\":{\"outlinewidth\":0,\"ticks\":\"\"}},\"type\":\"scatterternary\"}],\"surface\":[{\"colorbar\":{\"outlinewidth\":0,\"ticks\":\"\"},\"colorscale\":[[0.0,\"#0d0887\"],[0.1111111111111111,\"#46039f\"],[0.2222222222222222,\"#7201a8\"],[0.3333333333333333,\"#9c179e\"],[0.4444444444444444,\"#bd3786\"],[0.5555555555555556,\"#d8576b\"],[0.6666666666666666,\"#ed7953\"],[0.7777777777777778,\"#fb9f3a\"],[0.8888888888888888,\"#fdca26\"],[1.0,\"#f0f921\"]],\"type\":\"surface\"}],\"table\":[{\"cells\":{\"fill\":{\"color\":\"#EBF0F8\"},\"line\":{\"color\":\"white\"}},\"header\":{\"fill\":{\"color\":\"#C8D4E3\"},\"line\":{\"color\":\"white\"}},\"type\":\"table\"}]},\"layout\":{\"annotationdefaults\":{\"arrowcolor\":\"#2a3f5f\",\"arrowhead\":0,\"arrowwidth\":1},\"autotypenumbers\":\"strict\",\"coloraxis\":{\"colorbar\":{\"outlinewidth\":0,\"ticks\":\"\"}},\"colorscale\":{\"diverging\":[[0,\"#8e0152\"],[0.1,\"#c51b7d\"],[0.2,\"#de77ae\"],[0.3,\"#f1b6da\"],[0.4,\"#fde0ef\"],[0.5,\"#f7f7f7\"],[0.6,\"#e6f5d0\"],[0.7,\"#b8e186\"],[0.8,\"#7fbc41\"],[0.9,\"#4d9221\"],[1,\"#276419\"]],\"sequential\":[[0.0,\"#0d0887\"],[0.1111111111111111,\"#46039f\"],[0.2222222222222222,\"#7201a8\"],[0.3333333333333333,\"#9c179e\"],[0.4444444444444444,\"#bd3786\"],[0.5555555555555556,\"#d8576b\"],[0.6666666666666666,\"#ed7953\"],[0.7777777777777778,\"#fb9f3a\"],[0.8888888888888888,\"#fdca26\"],[1.0,\"#f0f921\"]],\"sequentialminus\":[[0.0,\"#0d0887\"],[0.1111111111111111,\"#46039f\"],[0.2222222222222222,\"#7201a8\"],[0.3333333333333333,\"#9c179e\"],[0.4444444444444444,\"#bd3786\"],[0.5555555555555556,\"#d8576b\"],[0.6666666666666666,\"#ed7953\"],[0.7777777777777778,\"#fb9f3a\"],[0.8888888888888888,\"#fdca26\"],[1.0,\"#f0f921\"]]},\"colorway\":[\"#636efa\",\"#EF553B\",\"#00cc96\",\"#ab63fa\",\"#FFA15A\",\"#19d3f3\",\"#FF6692\",\"#B6E880\",\"#FF97FF\",\"#FECB52\"],\"font\":{\"color\":\"#2a3f5f\"},\"geo\":{\"bgcolor\":\"white\",\"lakecolor\":\"white\",\"landcolor\":\"#E5ECF6\",\"showlakes\":true,\"showland\":true,\"subunitcolor\":\"white\"},\"hoverlabel\":{\"align\":\"left\"},\"hovermode\":\"closest\",\"mapbox\":{\"style\":\"light\"},\"paper_bgcolor\":\"white\",\"plot_bgcolor\":\"#E5ECF6\",\"polar\":{\"angularaxis\":{\"gridcolor\":\"white\",\"linecolor\":\"white\",\"ticks\":\"\"},\"bgcolor\":\"#E5ECF6\",\"radialaxis\":{\"gridcolor\":\"white\",\"linecolor\":\"white\",\"ticks\":\"\"}},\"scene\":{\"xaxis\":{\"backgroundcolor\":\"#E5ECF6\",\"gridcolor\":\"white\",\"gridwidth\":2,\"linecolor\":\"white\",\"showbackground\":true,\"ticks\":\"\",\"zerolinecolor\":\"white\"},\"yaxis\":{\"backgroundcolor\":\"#E5ECF6\",\"gridcolor\":\"white\",\"gridwidth\":2,\"linecolor\":\"white\",\"showbackground\":true,\"ticks\":\"\",\"zerolinecolor\":\"white\"},\"zaxis\":{\"backgroundcolor\":\"#E5ECF6\",\"gridcolor\":\"white\",\"gridwidth\":2,\"linecolor\":\"white\",\"showbackground\":true,\"ticks\":\"\",\"zerolinecolor\":\"white\"}},\"shapedefaults\":{\"line\":{\"color\":\"#2a3f5f\"}},\"ternary\":{\"aaxis\":{\"gridcolor\":\"white\",\"linecolor\":\"white\",\"ticks\":\"\"},\"baxis\":{\"gridcolor\":\"white\",\"linecolor\":\"white\",\"ticks\":\"\"},\"bgcolor\":\"#E5ECF6\",\"caxis\":{\"gridcolor\":\"white\",\"linecolor\":\"white\",\"ticks\":\"\"}},\"title\":{\"x\":0.05},\"xaxis\":{\"automargin\":true,\"gridcolor\":\"white\",\"linecolor\":\"white\",\"ticks\":\"\",\"title\":{\"standoff\":15},\"zerolinecolor\":\"white\",\"zerolinewidth\":2},\"yaxis\":{\"automargin\":true,\"gridcolor\":\"white\",\"linecolor\":\"white\",\"ticks\":\"\",\"title\":{\"standoff\":15},\"zerolinecolor\":\"white\",\"zerolinewidth\":2}}},\"height\":500,\"width\":700,\"xaxis\":{\"title\":{\"text\":\"Epoch\"}},\"yaxis\":{\"title\":{\"text\":\"MSE\"}}},                        {\"responsive\": true}                    ).then(function(){\n",
       "                            \n",
       "var gd = document.getElementById('5f1c1ff7-ddf6-4c89-9726-ce20d72358ce');\n",
       "var x = new MutationObserver(function (mutations, observer) {{\n",
       "        var display = window.getComputedStyle(gd).display;\n",
       "        if (!display || display === 'none') {{\n",
       "            console.log([gd, 'removed!']);\n",
       "            Plotly.purge(gd);\n",
       "            observer.disconnect();\n",
       "        }}\n",
       "}});\n",
       "\n",
       "// Listen for the removal of the full notebook cells\n",
       "var notebookContainer = gd.closest('#notebook-container');\n",
       "if (notebookContainer) {{\n",
       "    x.observe(notebookContainer, {childList: true});\n",
       "}}\n",
       "\n",
       "// Listen for the clearing of the current output cell\n",
       "var outputEl = gd.closest('.output');\n",
       "if (outputEl) {{\n",
       "    x.observe(outputEl, {childList: true});\n",
       "}}\n",
       "\n",
       "                        })                };                });            </script>        </div>"
      ]
     },
     "metadata": {},
     "output_type": "display_data"
    }
   ],
   "source": [
    "import plotly.graph_objects as go\n",
    "\n",
    "fig = go.Figure()\n",
    "fig.add_trace(go.Scattergl(y=history_wd.history['loss'],\n",
    "                    name='Train'))\n",
    "fig.add_trace(go.Scattergl(y=history_wd.history['val_loss'],\n",
    "                    name='Valid'))\n",
    "fig.update_layout(height=500, width=700,\n",
    "                  xaxis_title='Epoch',\n",
    "                  yaxis_title='MSE')\n",
    "fig.show()"
   ]
  },
  {
   "cell_type": "code",
   "execution_count": 237,
   "id": "c6cb2143",
   "metadata": {},
   "outputs": [
    {
     "name": "stdout",
     "output_type": "stream",
     "text": [
      "Train R-sq:  0.9064\n",
      "Train MSE:  0.0531\n",
      "Val R-sq:  0.6501\n",
      "Val MSE:  0.1875\n",
      "Test R-sq:  0.6496\n",
      "Test MSE:  0.2074\n"
     ]
    }
   ],
   "source": [
    "mse_nn, rmse_nn, r2_nn = model_wd.evaluate(X_test_trfm, y_test)\n",
    "print('Train R-sq: ', round(history_wd.history['r2'][epoch-1],4))\n",
    "print('Train MSE: ', round(history_wd.history['loss'][epoch-1],4))\n",
    "print('Val R-sq: ', round(history_wd.history['val_r2'][epoch-1],4))\n",
    "print('Val MSE: ', round(history_wd.history['val_loss'][epoch-1],4))\n",
    "print('Test R-sq: ', round(r2_nn,4))\n",
    "print('Test MSE: ', round(mse_nn,4))"
   ]
  },
  {
   "cell_type": "code",
   "execution_count": 238,
   "id": "056015ad",
   "metadata": {},
   "outputs": [
    {
     "name": "stdout",
     "output_type": "stream",
     "text": [
      "Model: \"sequential_20\"\n",
      "_________________________________________________________________\n",
      " Layer (type)                Output Shape              Param #   \n",
      "=================================================================\n",
      " dense_46 (Dense)            (None, 200)               24200     \n",
      "                                                                 \n",
      " dense_47 (Dense)            (None, 1)                 201       \n",
      "                                                                 \n",
      "=================================================================\n",
      "Total params: 24,401\n",
      "Trainable params: 24,401\n",
      "Non-trainable params: 0\n",
      "_________________________________________________________________\n",
      "Train on 25087 samples, validate on 1321 samples\n",
      "Epoch 1/15\n",
      "25087/25087 [==============================] - 1s 43us/sample - loss: 0.8730 - rmse: 0.5637 - r2: -0.6806 - val_loss: 0.2032 - val_rmse: 0.3317 - val_r2: 0.6239\n",
      "Epoch 2/15\n",
      "25087/25087 [==============================] - 1s 32us/sample - loss: 0.2041 - rmse: 0.3297 - r2: 0.6489 - val_loss: 0.1833 - val_rmse: 0.3110 - val_r2: 0.6585\n",
      "Epoch 3/15\n",
      "25087/25087 [==============================] - 1s 34us/sample - loss: 0.1766 - rmse: 0.3062 - r2: 0.6976 - val_loss: 0.1658 - val_rmse: 0.2994 - val_r2: 0.6856\n",
      "Epoch 4/15\n",
      "25087/25087 [==============================] - 1s 34us/sample - loss: 0.1596 - rmse: 0.2925 - r2: 0.7272 - val_loss: 0.1676 - val_rmse: 0.3009 - val_r2: 0.6875\n",
      "Epoch 5/15\n",
      "25087/25087 [==============================] - 1s 33us/sample - loss: 0.1486 - rmse: 0.2805 - r2: 0.7442 - val_loss: 0.1539 - val_rmse: 0.2889 - val_r2: 0.7109\n",
      "Epoch 6/15\n",
      "25087/25087 [==============================] - 1s 34us/sample - loss: 0.1404 - rmse: 0.2742 - r2: 0.7583 - val_loss: 0.1582 - val_rmse: 0.2926 - val_r2: 0.7024\n",
      "Epoch 7/15\n",
      "25087/25087 [==============================] - 1s 33us/sample - loss: 0.1360 - rmse: 0.2695 - r2: 0.7643 - val_loss: 0.1532 - val_rmse: 0.2889 - val_r2: 0.6930\n",
      "Epoch 8/15\n",
      "25087/25087 [==============================] - 1s 33us/sample - loss: 0.1307 - rmse: 0.2627 - r2: 0.7744 - val_loss: 0.1602 - val_rmse: 0.2978 - val_r2: 0.6967\n",
      "Epoch 9/15\n",
      "25087/25087 [==============================] - 1s 33us/sample - loss: 0.1267 - rmse: 0.2609 - r2: 0.7823 - val_loss: 0.1473 - val_rmse: 0.2863 - val_r2: 0.7225\n",
      "Epoch 10/15\n",
      "25087/25087 [==============================] - 1s 33us/sample - loss: 0.1221 - rmse: 0.2551 - r2: 0.7887 - val_loss: 0.1541 - val_rmse: 0.2858 - val_r2: 0.7020\n",
      "Epoch 11/15\n",
      "25087/25087 [==============================] - 1s 33us/sample - loss: 0.1187 - rmse: 0.2520 - r2: 0.7949 - val_loss: 0.1549 - val_rmse: 0.2846 - val_r2: 0.7088\n",
      "Epoch 12/15\n",
      "25087/25087 [==============================] - 1s 32us/sample - loss: 0.1185 - rmse: 0.2513 - r2: 0.7971 - val_loss: 0.1565 - val_rmse: 0.2954 - val_r2: 0.7026\n",
      "Epoch 13/15\n",
      "25087/25087 [==============================] - 1s 33us/sample - loss: 0.1132 - rmse: 0.2471 - r2: 0.8047 - val_loss: 0.1570 - val_rmse: 0.2901 - val_r2: 0.6981\n",
      "Epoch 14/15\n",
      "25087/25087 [==============================] - 1s 33us/sample - loss: 0.1121 - rmse: 0.2445 - r2: 0.8056 - val_loss: 0.1543 - val_rmse: 0.2908 - val_r2: 0.7134\n",
      "Epoch 15/15\n",
      "25087/25087 [==============================] - 1s 33us/sample - loss: 0.1084 - rmse: 0.2419 - r2: 0.8124 - val_loss: 0.1481 - val_rmse: 0.2870 - val_r2: 0.7277\n"
     ]
    }
   ],
   "source": [
    "best_model_wd = wide_model()\n",
    "best_model_wd.summary()\n",
    "epoch=15\n",
    "best_history_wd = best_model_wd.fit(X_train_trfm, y_train, epochs=epoch, validation_split=0.05)"
   ]
  },
  {
   "cell_type": "code",
   "execution_count": 239,
   "id": "bd0d3b94",
   "metadata": {},
   "outputs": [
    {
     "name": "stdout",
     "output_type": "stream",
     "text": [
      "Train R-sq:  0.8124\n",
      "Train MSE:  0.1084\n",
      "Val R-sq:  0.7277\n",
      "Val MSE:  0.1481\n",
      "Test R-sq:  0.7083\n",
      "Test MSE:  0.174\n"
     ]
    }
   ],
   "source": [
    "mse_nn, rmse_nn, r2_nn = best_model_wd.evaluate(X_test_trfm, y_test)\n",
    "print('Train R-sq: ', round(best_history_wd.history['r2'][epoch-1],4))\n",
    "print('Train MSE: ', round(best_history_wd.history['loss'][epoch-1],4))\n",
    "print('Val R-sq: ', round(best_history_wd.history['val_r2'][epoch-1],4))\n",
    "print('Val MSE: ', round(best_history_wd.history['val_loss'][epoch-1],4))\n",
    "print('Test R-sq: ', round(r2_nn,4))\n",
    "print('Test MSE: ', round(mse_nn,4))"
   ]
  },
  {
   "cell_type": "markdown",
   "id": "26d5f461-828d-436d-b403-d3946f636966",
   "metadata": {
    "id": "26d5f461-828d-436d-b403-d3946f636966"
   },
   "source": [
    "### 5.3 Actual vs Predicted"
   ]
  },
  {
   "cell_type": "code",
   "execution_count": 117,
   "id": "18d1a4f2-a769-452c-9168-682c7ea75781",
   "metadata": {
    "id": "18d1a4f2-a769-452c-9168-682c7ea75781"
   },
   "outputs": [],
   "source": [
    "import matplotlib.cm as cm\n",
    "sns.set_style(\"whitegrid\")\n",
    "import matplotlib.colors as mcolors"
   ]
  },
  {
   "cell_type": "code",
   "execution_count": 240,
   "id": "a7235f7f-e45b-4af2-99ef-6b04a632db81",
   "metadata": {
    "id": "a7235f7f-e45b-4af2-99ef-6b04a632db81",
    "outputId": "03d97570-0d9c-4217-c373-da16bc32368e"
   },
   "outputs": [
    {
     "data": {
      "image/png": "[encoded data removed]",
      "text/plain": [
       "<Figure size 576x360 with 2 Axes>"
      ]
     },
     "metadata": {},
     "output_type": "display_data"
    }
   ],
   "source": [
    "pred = best_model_bl.predict(X_test_trfm)[:,0]\n",
    "df_pred = pd.DataFrame.from_dict({'y_pred': pred, 'y_true': y_test})\n",
    "df_pred['deviation'] = df_pred['y_pred'] - df_pred['y_true']\n",
    "\n",
    "# Get/set params for the colour mapping\n",
    "vcenter = 0\n",
    "vmin, vmax = df_pred['deviation'].min(), df_pred['deviation'].max()\n",
    "normalize = mcolors.TwoSlopeNorm(vcenter=vcenter, vmin=vmin, vmax=vmax)\n",
    "colormap = cm.coolwarm_r\n",
    "\n",
    "plt.figure(figsize = (8,5))\n",
    "sns.scatterplot(x = 'y_true', y = 'y_pred', data = df_pred,  \n",
    "                cmap=colormap, c=df_pred['deviation'], norm=normalize)\n",
    "\n",
    "scalarmappaple = cm.ScalarMappable(norm=normalize, cmap=colormap)\n",
    "scalarmappaple.set_array(df_pred['deviation'])\n",
    "plt.colorbar(scalarmappaple)\n",
    "plt.ylim(2,9)\n",
    "plt.xlim(2,9)\n",
    "plt.title('Baseline Neural Net Predicted vs True Log Price', fontsize = 15)\n",
    "plt.show()"
   ]
  },
  {
   "cell_type": "code",
   "execution_count": 241,
   "id": "666d8496-0367-4f78-86f7-77b0c437eca9",
   "metadata": {
    "id": "666d8496-0367-4f78-86f7-77b0c437eca9",
    "outputId": "bd68b11b-07e1-4bf9-cc4d-609580d417ca"
   },
   "outputs": [
    {
     "data": {
      "image/png": "[encoded data removed]",
      "text/plain": [
       "<Figure size 432x288 with 1 Axes>"
      ]
     },
     "metadata": {},
     "output_type": "display_data"
    }
   ],
   "source": [
    "sns.histplot(df_pred['deviation'])\n",
    "plt.xlabel('Error (Log Price)')\n",
    "plt.ylabel('Number of Observations')\n",
    "plt.title('Distribution of Prediction Error (Baseline Neural Net)', fontsize = 15)\n",
    "plt.xlim(-2, 2)\n",
    "plt.show()"
   ]
  },
  {
   "cell_type": "code",
   "execution_count": 242,
   "id": "de1d5d94-b4dc-4cb3-82d9-2bf4c713fb02",
   "metadata": {
    "id": "de1d5d94-b4dc-4cb3-82d9-2bf4c713fb02"
   },
   "outputs": [
    {
     "data": {
      "image/png": "[encoded data removed]",
      "text/plain": [
       "<Figure size 576x360 with 2 Axes>"
      ]
     },
     "metadata": {},
     "output_type": "display_data"
    }
   ],
   "source": [
    "pred = best_model_dp.predict(X_test_trfm)[:,0]\n",
    "df_pred = pd.DataFrame.from_dict({'y_pred': pred, 'y_true': y_test})\n",
    "df_pred['deviation'] = df_pred['y_pred'] - df_pred['y_true']\n",
    "\n",
    "# Get/set params for the colour mapping\n",
    "vcenter = 0\n",
    "vmin, vmax = df_pred['deviation'].min(), df_pred['deviation'].max()\n",
    "normalize = mcolors.TwoSlopeNorm(vcenter=vcenter, vmin=vmin, vmax=vmax)\n",
    "colormap = cm.coolwarm_r\n",
    "\n",
    "plt.figure(figsize = (8,5))\n",
    "sns.scatterplot(x = 'y_true', y = 'y_pred', data = df_pred,  \n",
    "                cmap=colormap, c=df_pred['deviation'], norm=normalize)\n",
    "\n",
    "scalarmappaple = cm.ScalarMappable(norm=normalize, cmap=colormap)\n",
    "scalarmappaple.set_array(df_pred['deviation'])\n",
    "plt.colorbar(scalarmappaple)\n",
    "plt.ylim(2,9)\n",
    "plt.xlim(2,9)\n",
    "plt.title('Deep Neural Net Predicted vs True Log Price', fontsize = 15)\n",
    "plt.show()"
   ]
  },
  {
   "cell_type": "code",
   "execution_count": 243,
   "id": "01d09cd7",
   "metadata": {},
   "outputs": [
    {
     "data": {
      "image/png": "[encoded data removed]",
      "text/plain": [
       "<Figure size 432x288 with 1 Axes>"
      ]
     },
     "metadata": {},
     "output_type": "display_data"
    }
   ],
   "source": [
    "sns.histplot(df_pred['deviation'])\n",
    "plt.xlabel('Error (Log Price)')\n",
    "plt.ylabel('Number of Observations')\n",
    "plt.title('Distribution of Prediction Error (Deep Neural Net)', fontsize = 15)\n",
    "plt.xlim(-2, 2)\n",
    "plt.show()"
   ]
  },
  {
   "cell_type": "code",
   "execution_count": 244,
   "id": "ffb55f43",
   "metadata": {},
   "outputs": [
    {
     "data": {
      "image/png": "[encoded data removed]",
      "text/plain": [
       "<Figure size 576x360 with 2 Axes>"
      ]
     },
     "metadata": {},
     "output_type": "display_data"
    }
   ],
   "source": [
    "pred = best_model_wd.predict(X_test_trfm)[:,0]\n",
    "df_pred = pd.DataFrame.from_dict({'y_pred': pred, 'y_true': y_test})\n",
    "df_pred['deviation'] = df_pred['y_pred'] - df_pred['y_true']\n",
    "\n",
    "# Get/set params for the colour mapping\n",
    "vcenter = 0\n",
    "vmin, vmax = df_pred['deviation'].min(), df_pred['deviation'].max()\n",
    "normalize = mcolors.TwoSlopeNorm(vcenter=vcenter, vmin=vmin, vmax=vmax)\n",
    "colormap = cm.coolwarm_r\n",
    "\n",
    "plt.figure(figsize = (8,5))\n",
    "sns.scatterplot(x = 'y_true', y = 'y_pred', data = df_pred,  \n",
    "                cmap=colormap, c=df_pred['deviation'], norm=normalize)\n",
    "\n",
    "scalarmappaple = cm.ScalarMappable(norm=normalize, cmap=colormap)\n",
    "scalarmappaple.set_array(df_pred['deviation'])\n",
    "plt.colorbar(scalarmappaple)\n",
    "plt.ylim(2,9)\n",
    "plt.xlim(2,9)\n",
    "plt.title('Wide Neural Net Predicted vs True Log Price', fontsize = 15)\n",
    "plt.show()"
   ]
  },
  {
   "cell_type": "code",
   "execution_count": 245,
   "id": "f3632979",
   "metadata": {},
   "outputs": [
    {
     "data": {
      "image/png": "[encoded data removed]",
      "text/plain": [
       "<Figure size 432x288 with 1 Axes>"
      ]
     },
     "metadata": {},
     "output_type": "display_data"
    }
   ],
   "source": [
    "sns.histplot(df_pred['deviation'])\n",
    "plt.xlabel('Error (Log Price)')\n",
    "plt.ylabel('Number of Observations')\n",
    "plt.title('Distribution of Prediction Error (Wide Neural Net)', fontsize = 15)\n",
    "plt.xlim(-2, 2)\n",
    "plt.show()"
   ]
  },
  {
   "cell_type": "markdown",
   "id": "6101d4da",
   "metadata": {},
   "source": [
    "## SHAP Values"
   ]
  },
  {
   "cell_type": "code",
   "execution_count": 187,
   "id": "ed797ad2",
   "metadata": {},
   "outputs": [],
   "source": [
    "import shap\n",
    "import tensorflow as tf\n",
    "tf.compat.v1.disable_eager_execution()\n",
    "tf.compat.v1.disable_v2_behavior()"
   ]
  },
  {
   "cell_type": "code",
   "execution_count": 246,
   "id": "e3bc85e5",
   "metadata": {},
   "outputs": [
    {
     "data": {
      "image/png": "[encoded data removed]",
      "text/plain": [
       "<Figure size 576x684 with 1 Axes>"
      ]
     },
     "metadata": {},
     "output_type": "display_data"
    }
   ],
   "source": [
    "explainer = shap.DeepExplainer(best_model_bl,X_train_trfm[:100])\n",
    "shap_values = explainer.shap_values(X_train_trfm.values)\n",
    "plt.figure(figsize = (8,5))\n",
    "shap.summary_plot(shap_values, X_train_trfm, show=False)\n",
    "plt.title(\"Baseline NN SHAP values\",size=30)\n",
    "plt.show()"
   ]
  },
  {
   "cell_type": "code",
   "execution_count": 247,
   "id": "2321d7e0",
   "metadata": {},
   "outputs": [
    {
     "data": {
      "image/png": "[encoded data removed]",
      "text/plain": [
       "<Figure size 576x684 with 1 Axes>"
      ]
     },
     "metadata": {},
     "output_type": "display_data"
    }
   ],
   "source": [
    "explainer = shap.DeepExplainer(best_model_dp,X_train_trfm[:100])\n",
    "shap_values = explainer.shap_values(X_train_trfm.values)\n",
    "plt.figure(figsize = (8,5))\n",
    "shap.summary_plot(shap_values, X_train_trfm, show=False)\n",
    "plt.title(\"Deep NN SHAP values\",size=30)\n",
    "plt.show()"
   ]
  },
  {
   "cell_type": "code",
   "execution_count": 248,
   "id": "eea629c2",
   "metadata": {},
   "outputs": [
    {
     "data": {
      "image/png": "[encoded data removed]",
      "text/plain": [
       "<Figure size 576x684 with 1 Axes>"
      ]
     },
     "metadata": {},
     "output_type": "display_data"
    }
   ],
   "source": [
    "explainer = shap.DeepExplainer(best_model_wd,X_train_trfm[:100])\n",
    "shap_values = explainer.shap_values(X_train_trfm.values)\n",
    "plt.figure(figsize = (8,5))\n",
    "shap.summary_plot(shap_values, X_train_trfm, show=False)\n",
    "plt.title(\"Wide NN SHAP values\",size=30)\n",
    "plt.show()"
   ]
  },
  {
   "cell_type": "code",
   "execution_count": null,
   "id": "74ca03d3",
   "metadata": {},
   "outputs": [],
   "source": []
  }
 ],
 "metadata": {
  "colab": {
   "collapsed_sections": [],
   "name": "2.Modelling_Code.ipynb",
   "provenance": []
  },
  "kernelspec": {
   "display_name": "Python 3 (ipykernel)",
   "language": "python",
   "name": "python3"
  },
  "language_info": {
   "codemirror_mode": {
    "name": "ipython",
    "version": 3
   },
   "file_extension": ".py",
   "mimetype": "text/x-python",
   "name": "python",
   "nbconvert_exporter": "python",
   "pygments_lexer": "ipython3",
   "version": "3.9.6"
  }
 },
 "nbformat": 4,
 "nbformat_minor": 5
}
