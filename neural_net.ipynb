{
 "cells": [
  {
   "cell_type": "markdown",
   "id": "cce8321d-6519-46f1-9487-fb3046614b35",
   "metadata": {
    "id": "cce8321d-6519-46f1-9487-fb3046614b35"
   },
   "source": [
    "# Modelling\n",
    "\n",
    "Feature engineering, model training, tuning, selection and explanability."
   ]
  },
  {
   "cell_type": "markdown",
   "id": "002dbab7-58dd-4ba0-8481-7821e28aae8a",
   "metadata": {
    "id": "002dbab7-58dd-4ba0-8481-7821e28aae8a"
   },
   "source": [
    "# 0. Load Packages and Define Helper Functions"
   ]
  },
  {
   "cell_type": "code",
   "execution_count": 1,
   "id": "4569f689-b6f1-4bfc-af64-7d0fe9a0850c",
   "metadata": {
    "id": "4569f689-b6f1-4bfc-af64-7d0fe9a0850c"
   },
   "outputs": [],
   "source": [
    "import pandas as pd\n",
    "import numpy as np\n",
    "import matplotlib.pyplot as plt\n",
    "import seaborn as sns\n",
    "from random import randint, uniform\n",
    "from preprocessing import preprocess_df, get_amenities\n",
    "from sklearn.pipeline import Pipeline, make_pipeline\n",
    "from sklearn.inspection import permutation_importance\n",
    "from sklearn.ensemble import StackingRegressor\n",
    "\n",
    "import warnings\n",
    "warnings.filterwarnings('ignore')"
   ]
  },
  {
   "cell_type": "code",
   "execution_count": 2,
   "id": "9a922dad-858a-4ee9-9ac9-fd1ed80b3bab",
   "metadata": {
    "id": "9a922dad-858a-4ee9-9ac9-fd1ed80b3bab"
   },
   "outputs": [],
   "source": [
    "from sklearn.linear_model import LinearRegression, Lasso # baseline\n",
    "from sklearn.ensemble import RandomForestRegressor #good\n",
    "from xgboost import XGBRegressor #good\n",
    "from lightgbm import LGBMRegressor # goodest\n",
    "\n",
    "from sklearn.pipeline import Pipeline\n",
    "from sklearn.preprocessing import StandardScaler,OneHotEncoder, RobustScaler, QuantileTransformer\n",
    "from sklearn.compose import ColumnTransformer\n",
    "from sklearn import set_config\n",
    "set_config(display=\"diagram\")\n",
    "\n",
    "from sklearn.model_selection import train_test_split, cross_validate, GridSearchCV, RandomizedSearchCV\n",
    "from sklearn.metrics import mean_squared_error"
   ]
  },
  {
   "cell_type": "code",
   "execution_count": 38,
   "id": "66155b79",
   "metadata": {},
   "outputs": [],
   "source": [
    "from sklearn.compose import make_column_selector\n",
    "from sklearn.compose import make_column_transformer\n",
    "from sklearn.pipeline import make_pipeline\n",
    "from sklearn.model_selection import train_test_split\n",
    "from sklearn.compose import make_column_selector\n",
    "from sklearn.compose import make_column_transformer\n",
    "from sklearn.pipeline import make_pipeline\n",
    "from sklearn.preprocessing import StandardScaler\n",
    "from sklearn.preprocessing import OneHotEncoder\n",
    "from sklearn import set_config\n",
    "set_config(display=\"diagram\")\n",
    "from keras.models import Sequential\n",
    "from keras.layers import Dense\n",
    "from keras.wrappers.scikit_learn import KerasRegressor\n",
    "from sklearn.model_selection import cross_val_score\n",
    "from sklearn.model_selection import KFold\n",
    "from sklearn.linear_model import LinearRegression\n",
    "from sklearn.metrics import mean_squared_error\n",
    "from sklearn.metrics import r2_score\n",
    "from sklearn.tree import DecisionTreeRegressor\n",
    "from keras import backend\n",
    "import warnings\n",
    "warnings.filterwarnings(\"ignore\")\n",
    "import pandas as pd\n",
    "import numpy as np"
   ]
  },
  {
   "cell_type": "code",
   "execution_count": 3,
   "id": "e7162e3f-b50c-4bfd-a76d-7459f22dc28c",
   "metadata": {
    "id": "e7162e3f-b50c-4bfd-a76d-7459f22dc28c"
   },
   "outputs": [],
   "source": [
    "def fit_and_score(model, X_train, X_test, y_train, y_test):\n",
    "    \n",
    "    model.fit(X_train, y_train)\n",
    "    \n",
    "    # Train metrics\n",
    "    pred_train= model.predict(X_train)\n",
    "    train_MSE = mean_squared_error(y_train, pred_train)\n",
    "    \n",
    "    # Cross validated metrics\n",
    "    cv_score = cross_validate(model, X_train, y_train, scoring=['r2', 'neg_mean_squared_error'],n_jobs=2, verbose=1, cv = 5) \n",
    "    \n",
    "    # Test metrics\n",
    "    pred_test= model.predict(X_test)\n",
    "    test_MSE = mean_squared_error(y_test, pred_test)\n",
    "    \n",
    "    print('Train R-sq', round(model.score(X_train, y_train),4))\n",
    "    print('Train MSE:', round(train_MSE,4))\n",
    "    print('')\n",
    "    print('CV R-sq', round(np.mean(cv_score['test_r2']),4))\n",
    "    print('CV MSE:', round(-np.mean(cv_score['test_neg_mean_squared_error']),4))\n",
    "    print('')\n",
    "    print('Test R-sq', round(model.score(X_test, y_test),4))\n",
    "    print('Test MSE:', round(test_MSE,4))\n",
    "    \n",
    "    return model\n",
    "\n",
    "\n",
    "def random_search_pipe(model, grid, X_train, y_train):\n",
    "    \n",
    "    search = RandomizedSearchCV(model, grid, cv=5,n_jobs=2, scoring='r2', n_iter = 100, verbose=1)\n",
    "    search.fit(X_train, y_train)\n",
    "    \n",
    "    print(\"Best params:\\n{}\".format(search.best_params_))\n",
    "    print(\"Best score:\\n{}\".format(search.best_score_)) #Mean cross-validated score of the best_estimator\n",
    "    \n",
    "    return search\n",
    "\n",
    "def grid_search_pipe(model, grid, X_train, y_train):\n",
    "    \n",
    "    search = GridSearchCV(model, grid, cv=5,n_jobs=2, scoring='r2', verbose=1)\n",
    "    search.fit(X_train, y_train)\n",
    "    \n",
    "    print(\"Best params:\\n{}\".format(search.best_params_))\n",
    "    print(\"Best score:\\n{}\".format(search.best_score_)) #Mean cross-validated score of the best_estimator\n",
    "    \n",
    "    return search"
   ]
  },
  {
   "cell_type": "code",
   "execution_count": 4,
   "id": "8e918cb1-8f31-43e9-bc56-9112bc09e10a",
   "metadata": {
    "id": "8e918cb1-8f31-43e9-bc56-9112bc09e10a"
   },
   "outputs": [],
   "source": [
    "def check_impact(df):\n",
    "    \n",
    "    print('Check accuracy at this step...')\n",
    "    \n",
    "    random_state = 12\n",
    "\n",
    "    dep_var = ['price_log']\n",
    "    to_drop = ['id', 'host_id', 'property_type', 'price', 'host_since', 'first_review', 'last_review']\n",
    "\n",
    "    X = df.fillna(0).drop(dep_var + to_drop, axis = 1)\n",
    "    y = df['price_log'].ravel()\n",
    "\n",
    "    X_train, X_test, y_train, y_test = train_test_split(X,y,test_size =0.2, random_state = random_state)\n",
    "\n",
    "    # Get numeric and categorical columns\n",
    "    num_cols = list(X.select_dtypes(include=np.number).columns)\n",
    "    cat_cols = list(set(X.columns)-set(X[num_cols].columns))\n",
    "\n",
    "    # Preprocess\n",
    "    preprocessor = ColumnTransformer(\n",
    "        transformers=[\n",
    "            ('num', StandardScaler(), num_cols ),\n",
    "            (\"cat\", Pipeline([('ohe', OneHotEncoder(handle_unknown='ignore'))]), cat_cols),\n",
    "        ]\n",
    "        , remainder='passthrough'\n",
    "    )\n",
    "\n",
    "    \n",
    "    lgbm_best = Pipeline([('preprocess', preprocessor),\n",
    "                    ('regressor', LGBMRegressor(random_state = random_state,\n",
    "                                               boosting_type = 'gbdt',\n",
    "                                               colsample_bytree = 0.5,\n",
    "                                               max_bin = 10,\n",
    "                                               max_depth = 12,\n",
    "                                               n_estimators = 350,\n",
    "                                               num_leaves = 30,\n",
    "                                               subsample = 0.50))\n",
    "                   ])\n",
    "\n",
    "\n",
    "    model = fit_and_score(model = lgbm_best, \n",
    "                                 X_train = X_train, \n",
    "                                 X_test = X_test,\n",
    "                                 y_train = y_train,\n",
    "                                 y_test = y_test)\n",
    "    \n",
    "    print('')\n",
    "    print('Shape of X: {}'.format(np.shape(X)))\n",
    "    "
   ]
  },
  {
   "cell_type": "markdown",
   "id": "b17ca18c-c8be-48a8-9a85-2bc1acbec670",
   "metadata": {
    "id": "b17ca18c-c8be-48a8-9a85-2bc1acbec670",
    "tags": []
   },
   "source": [
    "# 1. Load and Preprocess"
   ]
  },
  {
   "cell_type": "code",
   "execution_count": 5,
   "id": "1cec108c-c7b6-4139-8cd0-a1de147c5bd0",
   "metadata": {
    "id": "1cec108c-c7b6-4139-8cd0-a1de147c5bd0",
    "outputId": "a3c77061-edf5-4ca6-e99d-e2000ec8dc4c"
   },
   "outputs": [
    {
     "name": "stdout",
     "output_type": "stream",
     "text": [
      "Columns dropped ['listing_url', 'scrape_id', 'last_scraped', 'picture_url', 'host_about', 'host_picture_url', 'calendar_last_scraped', 'license', 'host_url', 'host_thumbnail_url', 'host_verifications', 'name', 'description', 'neighborhood_overview', 'host_name', 'calendar_updated', 'bathrooms', 'host_neighbourhood', 'neighbourhood', 'host_listings_count', 'beds', 'host_location', 'host_response_time', 'host_response_rate', 'host_acceptance_rate', 'calculated_host_listings_count', 'calculated_host_listings_count_entire_homes', 'calculated_host_listings_count_private_rooms', 'calculated_host_listings_count_shared_rooms', 'minimum_minimum_nights', 'maximum_minimum_nights', 'minimum_maximum_nights', 'maximum_maximum_nights', 'neighbourhood_cleansed']\n",
      "Before removing inactive listings, length = 66641\n",
      "After removing inactive listings, length = 33046\n",
      "After removing price = 0 listings, length = 33037\n",
      "Features bathroom_num and bathroom_sharing extracted.\n",
      "Int and float mv filled with 0, object mv filled with \"0\" and date mv filled with 2200-01-01.\n",
      "Before Log Transform to price, min = 8.0, max = 18557.0\n",
      "After Log Transform to price, min = 8.0, max = 18557.0\n",
      "bedrooms: 97 values above cutoff, value_cutoff = 5.0\n",
      "minimum_nights: 134 values above cutoff, value_cutoff = 90.0\n",
      "maximum_nights: 12 values above cutoff, value_cutoff = 1125.0\n",
      "minimum_nights_avg_ntm: 83 values above cutoff, value_cutoff = 179.2920000000042\n",
      "Preprocessing columns dropped ['bathrooms_text']\n"
     ]
    }
   ],
   "source": [
    "data = pd.read_csv('data/listings.csv.gz')\n",
    "df = preprocess_df(data = data, verbose = True)"
   ]
  },
  {
   "cell_type": "code",
   "execution_count": 6,
   "id": "a4467a62-6c91-4581-bdb6-7e49939a36a0",
   "metadata": {
    "id": "a4467a62-6c91-4581-bdb6-7e49939a36a0",
    "outputId": "76f60952-3a49-436b-a71e-431376d13d38"
   },
   "outputs": [
    {
     "data": {
      "text/plain": [
       "Index(['id', 'host_id', 'host_since', 'host_is_superhost',\n",
       "       'host_total_listings_count', 'host_has_profile_pic',\n",
       "       'host_identity_verified', 'neighbourhood_group_cleansed', 'latitude',\n",
       "       'longitude', 'property_type', 'room_type', 'accommodates', 'bedrooms',\n",
       "       'amenities', 'price', 'minimum_nights', 'maximum_nights',\n",
       "       'minimum_nights_avg_ntm', 'maximum_nights_avg_ntm', 'has_availability',\n",
       "       'availability_30', 'availability_60', 'availability_90',\n",
       "       'availability_365', 'number_of_reviews', 'number_of_reviews_ltm',\n",
       "       'number_of_reviews_l30d', 'first_review', 'last_review',\n",
       "       'review_scores_rating', 'review_scores_accuracy',\n",
       "       'review_scores_cleanliness', 'review_scores_checkin',\n",
       "       'review_scores_communication', 'review_scores_location',\n",
       "       'review_scores_value', 'instant_bookable', 'reviews_per_month',\n",
       "       'bathroom_num', 'bathroom_sharing', 'price_log'],\n",
       "      dtype='object')"
      ]
     },
     "execution_count": 6,
     "metadata": {},
     "output_type": "execute_result"
    }
   ],
   "source": [
    "df.columns"
   ]
  },
  {
   "cell_type": "code",
   "execution_count": 7,
   "id": "47cff3f3-8d46-4a99-8229-c42950bf4a89",
   "metadata": {
    "id": "47cff3f3-8d46-4a99-8229-c42950bf4a89",
    "outputId": "12789ae1-7488-44ab-fb23-d0fed31089f2"
   },
   "outputs": [
    {
     "name": "stdout",
     "output_type": "stream",
     "text": [
      "[('wifi', 32096), ('essentials', 31414), ('smoke alarm', 30603), ('heating', 29750), ('kitchen', 29321), ('hangers', 28388), ('long term stays allowed', 28070), ('iron', 27868), ('washer', 26852), ('hair dryer', 26387), ('hot water', 25305), ('shampoo', 23394), ('carbon monoxide alarm', 22656), ('dedicated workspace', 22473), ('dishes and silverware', 21126), ('cooking basics', 20499), ('refrigerator', 20424), ('bed linens', 18340), ('tv', 17925), ('microwave', 17588), ('oven', 17256), ('stove', 15436), ('dryer', 14012), ('first aid kit', 12522), ('fire extinguisher', 12352), ('coffee maker', 11651), ('dishwasher', 11275), ('private entrance', 9889), ('extra pillows and blankets', 9725), ('luggage dropoff allowed', 8066), ('host greets you', 7248), ('lockbox', 7143), ('bathtub', 7013), ('elevator', 6878), ('free parking on premises', 6310), ('shower gel', 6301), ('paid parking off premises', 5864), ('hot water kettle', 5738), ('backyard', 5698), ('free street parking', 5674), ('lock on bedroom door', 5604), ('cable tv', 5413), ('patio or balcony', 5369), ('freezer', 5126), ('tv with standard cable', 5090), ('cleaning products', 4846), ('toaster', 4640), ('dining table', 4194), ('wine glasses', 4070), ('room-darkening shades', 4002), ('body soap', 3667), ('breakfast', 3660), ('drying rack for clothing', 3585), ('single level home', 3324), ('security cameras on property', 3241), ('conditioner', 2649), ('indoor fireplace', 2563), ('portable fans', 2561), ('ethernet connection', 2550), ('outdoor furniture', 2502), ('laundromat nearby', 2501), ('pack ’n play/travel crib', 2434), ('crib', 2400), ('air conditioning', 2316), ('high chair', 2232), ('baking sheet', 2205), ('bbq grill', 2054), ('paid parking on premises', 1998), ('private patio or balcony', 1967), ('central heating', 1853), ('outdoor dining area', 1762), ('children’s books and toys', 1704), ('cleaning before checkout', 1598), ('clothing storage', 1424), ('clothing storage: closet', 1316), ('mini fridge', 1200), ('private fenced garden or backyard', 1120), ('building staff', 1111), ('paid street parking off premises', 1096), ('nespresso machine', 1053)]\n",
      "Preprocessing columns dropped ['amenities']\n"
     ]
    }
   ],
   "source": [
    "df = get_amenities(data = df, \n",
    "                   num_amenities =80, # best is to call 80 amenities and select from there\n",
    "                  verbose = True)"
   ]
  },
  {
   "cell_type": "code",
   "execution_count": 8,
   "id": "c70f530f-e242-4c05-8442-29d0644831c4",
   "metadata": {
    "id": "c70f530f-e242-4c05-8442-29d0644831c4",
    "outputId": "fdbdba12-20c8-4497-c426-a1e26f797d43"
   },
   "outputs": [
    {
     "data": {
      "text/html": [
       "<div>\n",
       "<style scoped>\n",
       "    .dataframe tbody tr th:only-of-type {\n",
       "        vertical-align: middle;\n",
       "    }\n",
       "\n",
       "    .dataframe tbody tr th {\n",
       "        vertical-align: top;\n",
       "    }\n",
       "\n",
       "    .dataframe thead th {\n",
       "        text-align: right;\n",
       "    }\n",
       "</style>\n",
       "<table border=\"1\" class=\"dataframe\">\n",
       "  <thead>\n",
       "    <tr style=\"text-align: right;\">\n",
       "      <th></th>\n",
       "      <th>id</th>\n",
       "      <th>host_id</th>\n",
       "      <th>host_since</th>\n",
       "      <th>host_is_superhost</th>\n",
       "      <th>host_total_listings_count</th>\n",
       "      <th>host_has_profile_pic</th>\n",
       "      <th>host_identity_verified</th>\n",
       "      <th>neighbourhood_group_cleansed</th>\n",
       "      <th>latitude</th>\n",
       "      <th>longitude</th>\n",
       "      <th>...</th>\n",
       "      <th>amenities_outdoor dining area</th>\n",
       "      <th>amenities_children’s books and toys</th>\n",
       "      <th>amenities_cleaning before checkout</th>\n",
       "      <th>amenities_clothing storage</th>\n",
       "      <th>amenities_clothing storage: closet</th>\n",
       "      <th>amenities_mini fridge</th>\n",
       "      <th>amenities_private fenced garden or backyard</th>\n",
       "      <th>amenities_building staff</th>\n",
       "      <th>amenities_paid street parking off premises</th>\n",
       "      <th>amenities_nespresso machine</th>\n",
       "    </tr>\n",
       "  </thead>\n",
       "  <tbody>\n",
       "    <tr>\n",
       "      <th>1</th>\n",
       "      <td>15400</td>\n",
       "      <td>60302</td>\n",
       "      <td>2020-03-16</td>\n",
       "      <td>0</td>\n",
       "      <td>1.0</td>\n",
       "      <td>1</td>\n",
       "      <td>1</td>\n",
       "      <td>0.0</td>\n",
       "      <td>51.48780</td>\n",
       "      <td>-0.16813</td>\n",
       "      <td>...</td>\n",
       "      <td>0</td>\n",
       "      <td>0</td>\n",
       "      <td>0</td>\n",
       "      <td>0</td>\n",
       "      <td>0</td>\n",
       "      <td>0</td>\n",
       "      <td>0</td>\n",
       "      <td>0</td>\n",
       "      <td>0</td>\n",
       "      <td>0</td>\n",
       "    </tr>\n",
       "    <tr>\n",
       "      <th>4</th>\n",
       "      <td>25123</td>\n",
       "      <td>103583</td>\n",
       "      <td>2020-03-15</td>\n",
       "      <td>0</td>\n",
       "      <td>3.0</td>\n",
       "      <td>1</td>\n",
       "      <td>1</td>\n",
       "      <td>0.0</td>\n",
       "      <td>51.57438</td>\n",
       "      <td>-0.21081</td>\n",
       "      <td>...</td>\n",
       "      <td>0</td>\n",
       "      <td>0</td>\n",
       "      <td>0</td>\n",
       "      <td>0</td>\n",
       "      <td>0</td>\n",
       "      <td>0</td>\n",
       "      <td>0</td>\n",
       "      <td>0</td>\n",
       "      <td>0</td>\n",
       "      <td>0</td>\n",
       "    </tr>\n",
       "    <tr>\n",
       "      <th>9</th>\n",
       "      <td>38610</td>\n",
       "      <td>165579</td>\n",
       "      <td>2020-08-12</td>\n",
       "      <td>1</td>\n",
       "      <td>2.0</td>\n",
       "      <td>1</td>\n",
       "      <td>1</td>\n",
       "      <td>0.0</td>\n",
       "      <td>51.50701</td>\n",
       "      <td>-0.23362</td>\n",
       "      <td>...</td>\n",
       "      <td>0</td>\n",
       "      <td>0</td>\n",
       "      <td>1</td>\n",
       "      <td>0</td>\n",
       "      <td>0</td>\n",
       "      <td>0</td>\n",
       "      <td>1</td>\n",
       "      <td>0</td>\n",
       "      <td>0</td>\n",
       "      <td>0</td>\n",
       "    </tr>\n",
       "    <tr>\n",
       "      <th>11</th>\n",
       "      <td>38995</td>\n",
       "      <td>167281</td>\n",
       "      <td>2020-02-21</td>\n",
       "      <td>0</td>\n",
       "      <td>1.0</td>\n",
       "      <td>1</td>\n",
       "      <td>1</td>\n",
       "      <td>0.0</td>\n",
       "      <td>51.47860</td>\n",
       "      <td>-0.06114</td>\n",
       "      <td>...</td>\n",
       "      <td>0</td>\n",
       "      <td>0</td>\n",
       "      <td>0</td>\n",
       "      <td>0</td>\n",
       "      <td>0</td>\n",
       "      <td>0</td>\n",
       "      <td>0</td>\n",
       "      <td>0</td>\n",
       "      <td>0</td>\n",
       "      <td>0</td>\n",
       "    </tr>\n",
       "    <tr>\n",
       "      <th>14</th>\n",
       "      <td>41311</td>\n",
       "      <td>103583</td>\n",
       "      <td>2020-01-18</td>\n",
       "      <td>0</td>\n",
       "      <td>3.0</td>\n",
       "      <td>1</td>\n",
       "      <td>1</td>\n",
       "      <td>0.0</td>\n",
       "      <td>51.57400</td>\n",
       "      <td>-0.21058</td>\n",
       "      <td>...</td>\n",
       "      <td>0</td>\n",
       "      <td>0</td>\n",
       "      <td>0</td>\n",
       "      <td>0</td>\n",
       "      <td>0</td>\n",
       "      <td>0</td>\n",
       "      <td>0</td>\n",
       "      <td>0</td>\n",
       "      <td>0</td>\n",
       "      <td>0</td>\n",
       "    </tr>\n",
       "  </tbody>\n",
       "</table>\n",
       "<p>5 rows × 121 columns</p>\n",
       "</div>"
      ],
      "text/plain": [
       "       id  host_id host_since  host_is_superhost  host_total_listings_count  \\\n",
       "1   15400    60302 2020-03-16                  0                        1.0   \n",
       "4   25123   103583 2020-03-15                  0                        3.0   \n",
       "9   38610   165579 2020-08-12                  1                        2.0   \n",
       "11  38995   167281 2020-02-21                  0                        1.0   \n",
       "14  41311   103583 2020-01-18                  0                        3.0   \n",
       "\n",
       "    host_has_profile_pic  host_identity_verified  \\\n",
       "1                      1                       1   \n",
       "4                      1                       1   \n",
       "9                      1                       1   \n",
       "11                     1                       1   \n",
       "14                     1                       1   \n",
       "\n",
       "    neighbourhood_group_cleansed  latitude  longitude  ...  \\\n",
       "1                            0.0  51.48780   -0.16813  ...   \n",
       "4                            0.0  51.57438   -0.21081  ...   \n",
       "9                            0.0  51.50701   -0.23362  ...   \n",
       "11                           0.0  51.47860   -0.06114  ...   \n",
       "14                           0.0  51.57400   -0.21058  ...   \n",
       "\n",
       "   amenities_outdoor dining area amenities_children’s books and toys  \\\n",
       "1                              0                                   0   \n",
       "4                              0                                   0   \n",
       "9                              0                                   0   \n",
       "11                             0                                   0   \n",
       "14                             0                                   0   \n",
       "\n",
       "    amenities_cleaning before checkout  amenities_clothing storage  \\\n",
       "1                                    0                           0   \n",
       "4                                    0                           0   \n",
       "9                                    1                           0   \n",
       "11                                   0                           0   \n",
       "14                                   0                           0   \n",
       "\n",
       "    amenities_clothing storage: closet  amenities_mini fridge  \\\n",
       "1                                    0                      0   \n",
       "4                                    0                      0   \n",
       "9                                    0                      0   \n",
       "11                                   0                      0   \n",
       "14                                   0                      0   \n",
       "\n",
       "    amenities_private fenced garden or backyard  amenities_building staff  \\\n",
       "1                                             0                         0   \n",
       "4                                             0                         0   \n",
       "9                                             1                         0   \n",
       "11                                            0                         0   \n",
       "14                                            0                         0   \n",
       "\n",
       "    amenities_paid street parking off premises  amenities_nespresso machine  \n",
       "1                                            0                            0  \n",
       "4                                            0                            0  \n",
       "9                                            0                            0  \n",
       "11                                           0                            0  \n",
       "14                                           0                            0  \n",
       "\n",
       "[5 rows x 121 columns]"
      ]
     },
     "execution_count": 8,
     "metadata": {},
     "output_type": "execute_result"
    }
   ],
   "source": [
    "df.head()"
   ]
  },
  {
   "cell_type": "code",
   "execution_count": 9,
   "id": "b3cc625a-ce6d-4364-9aac-73a232d0311b",
   "metadata": {
    "id": "b3cc625a-ce6d-4364-9aac-73a232d0311b",
    "outputId": "dd640d5d-6423-4277-8a86-160a1c89cf97"
   },
   "outputs": [
    {
     "data": {
      "text/plain": [
       "Entire home/apt    20083\n",
       "Private room       12646\n",
       "Shared room          142\n",
       "Hotel room           139\n",
       "Name: room_type, dtype: int64"
      ]
     },
     "execution_count": 9,
     "metadata": {},
     "output_type": "execute_result"
    }
   ],
   "source": [
    "df['room_type'].value_counts()"
   ]
  },
  {
   "cell_type": "markdown",
   "id": "59bfc1ca-887c-4e79-ae11-32e9f200fb14",
   "metadata": {
    "id": "59bfc1ca-887c-4e79-ae11-32e9f200fb14"
   },
   "source": [
    "## 1.1 Baseline Before Feature Engineering"
   ]
  },
  {
   "cell_type": "code",
   "execution_count": 10,
   "id": "adf22755-d982-4a4f-b9c2-c2735a9f1f29",
   "metadata": {
    "id": "adf22755-d982-4a4f-b9c2-c2735a9f1f29",
    "outputId": "fc425d19-1e13-4ffe-c979-6b4e5de200a6"
   },
   "outputs": [
    {
     "name": "stdout",
     "output_type": "stream",
     "text": [
      "Check accuracy at this step...\n"
     ]
    },
    {
     "name": "stderr",
     "output_type": "stream",
     "text": [
      "[Parallel(n_jobs=2)]: Using backend LokyBackend with 2 concurrent workers.\n",
      "[Parallel(n_jobs=2)]: Done   5 out of   5 | elapsed:    5.7s finished\n"
     ]
    },
    {
     "name": "stdout",
     "output_type": "stream",
     "text": [
      "Train R-sq 0.8698\n",
      "Train MSE: 0.0813\n",
      "\n",
      "CV R-sq 0.7841\n",
      "CV MSE: 0.1348\n",
      "\n",
      "Test R-sq 0.7954\n",
      "Test MSE: 0.1225\n",
      "\n",
      "Shape of X: (33010, 113)\n"
     ]
    }
   ],
   "source": [
    "check_impact(df=df)"
   ]
  },
  {
   "cell_type": "markdown",
   "id": "2df2543a-9ea3-4eaa-8591-b40b754837a2",
   "metadata": {
    "id": "2df2543a-9ea3-4eaa-8591-b40b754837a2",
    "jp-MarkdownHeadingCollapsed": true,
    "tags": []
   },
   "source": [
    "# 2. Feature Engineering"
   ]
  },
  {
   "cell_type": "markdown",
   "id": "d6bb4511-1e54-4433-b47f-93ecd80eb1a6",
   "metadata": {
    "id": "d6bb4511-1e54-4433-b47f-93ecd80eb1a6"
   },
   "source": [
    "## 2.1 Host Duration"
   ]
  },
  {
   "cell_type": "code",
   "execution_count": 11,
   "id": "3f72504c-4a94-43e9-ae31-189aafcb5366",
   "metadata": {
    "id": "3f72504c-4a94-43e9-ae31-189aafcb5366"
   },
   "outputs": [],
   "source": [
    "# Last scraped date = 2021-12-07 (7th Dec)\n",
    "df['host_duration'] = (pd.to_datetime('2021-12-10') - df['host_since']).dt.days"
   ]
  },
  {
   "cell_type": "code",
   "execution_count": 12,
   "id": "1fed5c80-90f5-4ead-8a5b-de602aa241d0",
   "metadata": {
    "id": "1fed5c80-90f5-4ead-8a5b-de602aa241d0",
    "outputId": "41eb6bf0-d3ce-4e49-86f7-9d23844de7b9"
   },
   "outputs": [
    {
     "data": {
      "image/png": "[encoded data removed]",
      "text/plain": [
       "<Figure size 432x288 with 1 Axes>"
      ]
     },
     "metadata": {
      "needs_background": "light"
     },
     "output_type": "display_data"
    }
   ],
   "source": [
    "sns.histplot(df['host_duration'])\n",
    "plt.show()"
   ]
  },
  {
   "cell_type": "code",
   "execution_count": 13,
   "id": "4544b46d-a572-4c43-b6c8-77f812432fed",
   "metadata": {
    "id": "4544b46d-a572-4c43-b6c8-77f812432fed",
    "outputId": "d4fec250-fbfc-46bc-c7a8-f6f4d23de315"
   },
   "outputs": [
    {
     "name": "stdout",
     "output_type": "stream",
     "text": [
      "Check accuracy at this step...\n"
     ]
    },
    {
     "name": "stderr",
     "output_type": "stream",
     "text": [
      "[Parallel(n_jobs=2)]: Using backend LokyBackend with 2 concurrent workers.\n",
      "[Parallel(n_jobs=2)]: Done   5 out of   5 | elapsed:    4.3s finished\n"
     ]
    },
    {
     "name": "stdout",
     "output_type": "stream",
     "text": [
      "Train R-sq 0.8701\n",
      "Train MSE: 0.0811\n",
      "\n",
      "CV R-sq 0.7861\n",
      "CV MSE: 0.1336\n",
      "\n",
      "Test R-sq 0.7954\n",
      "Test MSE: 0.1225\n",
      "\n",
      "Shape of X: (33010, 114)\n"
     ]
    }
   ],
   "source": [
    "check_impact(df=df)"
   ]
  },
  {
   "cell_type": "markdown",
   "id": "NL4KuH9r8MS9",
   "metadata": {
    "id": "NL4KuH9r8MS9"
   },
   "source": [
    "## 2.2 managed_property\n",
    "\n",
    "- Binary (0,1). 1 if properties managed by host id exceed the 95th percentile."
   ]
  },
  {
   "cell_type": "code",
   "execution_count": 14,
   "id": "D6UBXhAu8BUA",
   "metadata": {
    "id": "D6UBXhAu8BUA",
    "outputId": "d09f6820-e1e6-4812-e963-8e8ee704a721"
   },
   "outputs": [
    {
     "name": "stdout",
     "output_type": "stream",
     "text": [
      "Understand managed property percentiles beyond P75\n",
      "\n",
      "   percentile  rooms_threshold\n",
      "0        0.80              1.0\n",
      "1        0.85              2.0\n",
      "2        0.90              2.0\n",
      "3        0.95              3.0\n",
      "*****EXTRACT PROPERTIES MANAGED BY HOST ID *****\n"
     ]
    },
    {
     "data": {
      "text/html": [
       "<div>\n",
       "<style scoped>\n",
       "    .dataframe tbody tr th:only-of-type {\n",
       "        vertical-align: middle;\n",
       "    }\n",
       "\n",
       "    .dataframe tbody tr th {\n",
       "        vertical-align: top;\n",
       "    }\n",
       "\n",
       "    .dataframe thead th {\n",
       "        text-align: right;\n",
       "    }\n",
       "</style>\n",
       "<table border=\"1\" class=\"dataframe\">\n",
       "  <thead>\n",
       "    <tr style=\"text-align: right;\">\n",
       "      <th></th>\n",
       "      <th>properties</th>\n",
       "    </tr>\n",
       "    <tr>\n",
       "      <th>host_id</th>\n",
       "      <th></th>\n",
       "    </tr>\n",
       "  </thead>\n",
       "  <tbody>\n",
       "    <tr>\n",
       "      <th>4775</th>\n",
       "      <td>7</td>\n",
       "    </tr>\n",
       "    <tr>\n",
       "      <th>5653</th>\n",
       "      <td>1</td>\n",
       "    </tr>\n",
       "    <tr>\n",
       "      <th>6774</th>\n",
       "      <td>3</td>\n",
       "    </tr>\n",
       "    <tr>\n",
       "      <th>9323</th>\n",
       "      <td>1</td>\n",
       "    </tr>\n",
       "    <tr>\n",
       "      <th>10657</th>\n",
       "      <td>2</td>\n",
       "    </tr>\n",
       "    <tr>\n",
       "      <th>...</th>\n",
       "      <td>...</td>\n",
       "    </tr>\n",
       "    <tr>\n",
       "      <th>433334823</th>\n",
       "      <td>1</td>\n",
       "    </tr>\n",
       "    <tr>\n",
       "      <th>433435234</th>\n",
       "      <td>2</td>\n",
       "    </tr>\n",
       "    <tr>\n",
       "      <th>433572694</th>\n",
       "      <td>1</td>\n",
       "    </tr>\n",
       "    <tr>\n",
       "      <th>433837373</th>\n",
       "      <td>1</td>\n",
       "    </tr>\n",
       "    <tr>\n",
       "      <th>434015315</th>\n",
       "      <td>2</td>\n",
       "    </tr>\n",
       "  </tbody>\n",
       "</table>\n",
       "<p>21772 rows × 1 columns</p>\n",
       "</div>"
      ],
      "text/plain": [
       "           properties\n",
       "host_id              \n",
       "4775                7\n",
       "5653                1\n",
       "6774                3\n",
       "9323                1\n",
       "10657               2\n",
       "...               ...\n",
       "433334823           1\n",
       "433435234           2\n",
       "433572694           1\n",
       "433837373           1\n",
       "434015315           2\n",
       "\n",
       "[21772 rows x 1 columns]"
      ]
     },
     "execution_count": 14,
     "metadata": {},
     "output_type": "execute_result"
    }
   ],
   "source": [
    "# Understand how many properties are potentially property managed\n",
    "\n",
    "percentiles=[0.80,0.85,0.90,0.95]\n",
    "percentile_rooms=[]\n",
    "room_above=[]\n",
    "\n",
    "for p in percentiles:\n",
    "   percentile_rooms.append(df.host_id.value_counts().quantile(p))\n",
    "\n",
    "print('Understand managed property percentiles beyond P75\\n')\n",
    "print(pd.DataFrame({'percentile':percentiles,'rooms_threshold':percentile_rooms}))\n",
    "\n",
    "property_count=pd.DataFrame(df.groupby(['host_id'])['host_id'].count())\n",
    "property_count.columns=['properties']\n",
    "print('*****EXTRACT PROPERTIES MANAGED BY HOST ID *****')\n",
    "property_count"
   ]
  },
  {
   "cell_type": "code",
   "execution_count": 15,
   "id": "sYrGpc78Xb2u",
   "metadata": {
    "id": "sYrGpc78Xb2u",
    "outputId": "c2bcd085-9da5-40c8-8366-c1722876ed96"
   },
   "outputs": [
    {
     "data": {
      "text/plain": [
       "0    22496\n",
       "1    10514\n",
       "Name: prop_managed, dtype: int64"
      ]
     },
     "execution_count": 15,
     "metadata": {},
     "output_type": "execute_result"
    }
   ],
   "source": [
    "property_count['prop_managed']=property_count['properties'].map(lambda x: 1 if x>=percentile_rooms[3] else 0)\n",
    "df=pd.merge(df,property_count,on='host_id',how='inner')\n",
    "df.prop_managed.value_counts()"
   ]
  },
  {
   "cell_type": "code",
   "execution_count": 16,
   "id": "af639fa3-0be8-43c0-b8d2-9d8e04323d10",
   "metadata": {
    "id": "af639fa3-0be8-43c0-b8d2-9d8e04323d10",
    "outputId": "f4322561-212a-4953-e150-55cbeff3f1a2"
   },
   "outputs": [
    {
     "name": "stdout",
     "output_type": "stream",
     "text": [
      "Check accuracy at this step...\n"
     ]
    },
    {
     "name": "stderr",
     "output_type": "stream",
     "text": [
      "[Parallel(n_jobs=2)]: Using backend LokyBackend with 2 concurrent workers.\n",
      "[Parallel(n_jobs=2)]: Done   5 out of   5 | elapsed:    4.2s finished\n"
     ]
    },
    {
     "name": "stdout",
     "output_type": "stream",
     "text": [
      "Train R-sq 0.8743\n",
      "Train MSE: 0.0775\n",
      "\n",
      "CV R-sq 0.7879\n",
      "CV MSE: 0.1309\n",
      "\n",
      "Test R-sq 0.7871\n",
      "Test MSE: 0.1336\n",
      "\n",
      "Shape of X: (33010, 116)\n"
     ]
    }
   ],
   "source": [
    "check_impact(df=df)"
   ]
  },
  {
   "cell_type": "markdown",
   "id": "LL3VvIjn8Vr_",
   "metadata": {
    "id": "LL3VvIjn8Vr_"
   },
   "source": [
    "## 2.3 Occupancy Rate\n",
    "\n",
    "- short term proxy: avail30\n",
    "- mid term proxy: avail60-90\n",
    "- long term proxy: avail365"
   ]
  },
  {
   "cell_type": "code",
   "execution_count": 17,
   "id": "eFjbhhln8VJH",
   "metadata": {
    "id": "eFjbhhln8VJH",
    "outputId": "c4a7ea4c-b423-418d-9a48-3e8a896aeed7"
   },
   "outputs": [
    {
     "data": {
      "text/html": [
       "<div>\n",
       "<style scoped>\n",
       "    .dataframe tbody tr th:only-of-type {\n",
       "        vertical-align: middle;\n",
       "    }\n",
       "\n",
       "    .dataframe tbody tr th {\n",
       "        vertical-align: top;\n",
       "    }\n",
       "\n",
       "    .dataframe thead th {\n",
       "        text-align: right;\n",
       "    }\n",
       "</style>\n",
       "<table border=\"1\" class=\"dataframe\">\n",
       "  <thead>\n",
       "    <tr style=\"text-align: right;\">\n",
       "      <th></th>\n",
       "      <th>availability_30</th>\n",
       "      <th>availability_60</th>\n",
       "      <th>availability_90</th>\n",
       "      <th>availability_365</th>\n",
       "    </tr>\n",
       "  </thead>\n",
       "  <tbody>\n",
       "    <tr>\n",
       "      <th>count</th>\n",
       "      <td>33010.000000</td>\n",
       "      <td>33010.000000</td>\n",
       "      <td>33010.000000</td>\n",
       "      <td>33010.000000</td>\n",
       "    </tr>\n",
       "    <tr>\n",
       "      <th>mean</th>\n",
       "      <td>6.882187</td>\n",
       "      <td>18.561527</td>\n",
       "      <td>31.615177</td>\n",
       "      <td>121.371191</td>\n",
       "    </tr>\n",
       "    <tr>\n",
       "      <th>std</th>\n",
       "      <td>9.251464</td>\n",
       "      <td>20.881292</td>\n",
       "      <td>33.341793</td>\n",
       "      <td>134.103803</td>\n",
       "    </tr>\n",
       "    <tr>\n",
       "      <th>min</th>\n",
       "      <td>0.000000</td>\n",
       "      <td>0.000000</td>\n",
       "      <td>0.000000</td>\n",
       "      <td>0.000000</td>\n",
       "    </tr>\n",
       "    <tr>\n",
       "      <th>25%</th>\n",
       "      <td>0.000000</td>\n",
       "      <td>0.000000</td>\n",
       "      <td>0.000000</td>\n",
       "      <td>0.000000</td>\n",
       "    </tr>\n",
       "    <tr>\n",
       "      <th>50%</th>\n",
       "      <td>1.000000</td>\n",
       "      <td>7.000000</td>\n",
       "      <td>17.000000</td>\n",
       "      <td>66.000000</td>\n",
       "    </tr>\n",
       "    <tr>\n",
       "      <th>75%</th>\n",
       "      <td>12.000000</td>\n",
       "      <td>37.000000</td>\n",
       "      <td>65.000000</td>\n",
       "      <td>248.000000</td>\n",
       "    </tr>\n",
       "    <tr>\n",
       "      <th>max</th>\n",
       "      <td>30.000000</td>\n",
       "      <td>60.000000</td>\n",
       "      <td>90.000000</td>\n",
       "      <td>365.000000</td>\n",
       "    </tr>\n",
       "  </tbody>\n",
       "</table>\n",
       "</div>"
      ],
      "text/plain": [
       "       availability_30  availability_60  availability_90  availability_365\n",
       "count     33010.000000     33010.000000     33010.000000      33010.000000\n",
       "mean          6.882187        18.561527        31.615177        121.371191\n",
       "std           9.251464        20.881292        33.341793        134.103803\n",
       "min           0.000000         0.000000         0.000000          0.000000\n",
       "25%           0.000000         0.000000         0.000000          0.000000\n",
       "50%           1.000000         7.000000        17.000000         66.000000\n",
       "75%          12.000000        37.000000        65.000000        248.000000\n",
       "max          30.000000        60.000000        90.000000        365.000000"
      ]
     },
     "execution_count": 17,
     "metadata": {},
     "output_type": "execute_result"
    }
   ],
   "source": [
    "cols=['availability_30','availability_60', 'availability_90','availability_365']\n",
    "df[cols].describe()"
   ]
  },
  {
   "cell_type": "code",
   "execution_count": 18,
   "id": "fXe5XR0M_aA6",
   "metadata": {
    "id": "fXe5XR0M_aA6"
   },
   "outputs": [],
   "source": [
    "df['occ_30D']=1-round(df.availability_30/30,2)\n",
    "df['occ_6090D']=((1-round(df.availability_60/60,2))+(1-round(df.availability_90/90,2)))/2\n",
    "df['occ_365']=1-round(df.availability_365/365,2)\n",
    "\n",
    "df=df.drop(cols,axis=1) # do not drop"
   ]
  },
  {
   "cell_type": "code",
   "execution_count": 19,
   "id": "dee9bc75-4327-43aa-8f49-42fd4ba0cc2e",
   "metadata": {
    "id": "dee9bc75-4327-43aa-8f49-42fd4ba0cc2e",
    "outputId": "a1ebc58c-0f52-4728-a474-cf868fe9e17b"
   },
   "outputs": [
    {
     "data": {
      "text/plain": [
       "Index(['id', 'host_id', 'host_since', 'host_is_superhost',\n",
       "       'host_total_listings_count', 'host_has_profile_pic',\n",
       "       'host_identity_verified', 'neighbourhood_group_cleansed', 'latitude',\n",
       "       'longitude',\n",
       "       ...\n",
       "       'amenities_private fenced garden or backyard',\n",
       "       'amenities_building staff',\n",
       "       'amenities_paid street parking off premises',\n",
       "       'amenities_nespresso machine', 'host_duration', 'properties',\n",
       "       'prop_managed', 'occ_30D', 'occ_6090D', 'occ_365'],\n",
       "      dtype='object', length=123)"
      ]
     },
     "execution_count": 19,
     "metadata": {},
     "output_type": "execute_result"
    }
   ],
   "source": [
    "df.columns"
   ]
  },
  {
   "cell_type": "code",
   "execution_count": 20,
   "id": "ce2c875d-f570-4413-8c66-9cf207b899ee",
   "metadata": {
    "id": "ce2c875d-f570-4413-8c66-9cf207b899ee",
    "outputId": "162e9a58-7434-4c89-d833-4b4e2e9d8345"
   },
   "outputs": [
    {
     "name": "stdout",
     "output_type": "stream",
     "text": [
      "Check accuracy at this step...\n"
     ]
    },
    {
     "name": "stderr",
     "output_type": "stream",
     "text": [
      "[Parallel(n_jobs=2)]: Using backend LokyBackend with 2 concurrent workers.\n",
      "[Parallel(n_jobs=2)]: Done   5 out of   5 | elapsed:    4.3s finished\n"
     ]
    },
    {
     "name": "stdout",
     "output_type": "stream",
     "text": [
      "Train R-sq 0.873\n",
      "Train MSE: 0.0783\n",
      "\n",
      "CV R-sq 0.7854\n",
      "CV MSE: 0.1325\n",
      "\n",
      "Test R-sq 0.7872\n",
      "Test MSE: 0.1335\n",
      "\n",
      "Shape of X: (33010, 115)\n"
     ]
    }
   ],
   "source": [
    "check_impact(df=df)"
   ]
  },
  {
   "cell_type": "markdown",
   "id": "612jmldhWpUF",
   "metadata": {
    "id": "612jmldhWpUF"
   },
   "source": [
    "## 2.4 Location Variables"
   ]
  },
  {
   "cell_type": "code",
   "execution_count": 21,
   "id": "d9irpfFJWwxk",
   "metadata": {
    "id": "d9irpfFJWwxk",
    "outputId": "d3d5833a-f134-43c8-f989-bc4a151cb74e"
   },
   "outputs": [
    {
     "data": {
      "text/html": [
       "<div>\n",
       "<style scoped>\n",
       "    .dataframe tbody tr th:only-of-type {\n",
       "        vertical-align: middle;\n",
       "    }\n",
       "\n",
       "    .dataframe tbody tr th {\n",
       "        vertical-align: top;\n",
       "    }\n",
       "\n",
       "    .dataframe thead th {\n",
       "        text-align: right;\n",
       "    }\n",
       "</style>\n",
       "<table border=\"1\" class=\"dataframe\">\n",
       "  <thead>\n",
       "    <tr style=\"text-align: right;\">\n",
       "      <th></th>\n",
       "      <th>id</th>\n",
       "      <th>host_id</th>\n",
       "      <th>host_since</th>\n",
       "      <th>host_is_superhost</th>\n",
       "      <th>host_total_listings_count</th>\n",
       "      <th>host_has_profile_pic</th>\n",
       "      <th>host_identity_verified</th>\n",
       "      <th>neighbourhood_group_cleansed</th>\n",
       "      <th>latitude</th>\n",
       "      <th>longitude</th>\n",
       "      <th>...</th>\n",
       "      <th>amenities_nespresso machine</th>\n",
       "      <th>host_duration</th>\n",
       "      <th>properties</th>\n",
       "      <th>prop_managed</th>\n",
       "      <th>occ_30D</th>\n",
       "      <th>occ_6090D</th>\n",
       "      <th>occ_365</th>\n",
       "      <th>station</th>\n",
       "      <th>station_dist</th>\n",
       "      <th>walking_distance</th>\n",
       "    </tr>\n",
       "  </thead>\n",
       "  <tbody>\n",
       "    <tr>\n",
       "      <th>0</th>\n",
       "      <td>15400</td>\n",
       "      <td>60302</td>\n",
       "      <td>2020-03-16</td>\n",
       "      <td>0</td>\n",
       "      <td>1.0</td>\n",
       "      <td>1</td>\n",
       "      <td>1</td>\n",
       "      <td>0.0</td>\n",
       "      <td>51.48780</td>\n",
       "      <td>-0.16813</td>\n",
       "      <td>...</td>\n",
       "      <td>0</td>\n",
       "      <td>634</td>\n",
       "      <td>1</td>\n",
       "      <td>0</td>\n",
       "      <td>1.0</td>\n",
       "      <td>1.000</td>\n",
       "      <td>0.99</td>\n",
       "      <td>South Kensington</td>\n",
       "      <td>805.406363</td>\n",
       "      <td>0.0</td>\n",
       "    </tr>\n",
       "    <tr>\n",
       "      <th>1</th>\n",
       "      <td>25123</td>\n",
       "      <td>103583</td>\n",
       "      <td>2020-03-15</td>\n",
       "      <td>0</td>\n",
       "      <td>3.0</td>\n",
       "      <td>1</td>\n",
       "      <td>1</td>\n",
       "      <td>0.0</td>\n",
       "      <td>51.57438</td>\n",
       "      <td>-0.21081</td>\n",
       "      <td>...</td>\n",
       "      <td>0</td>\n",
       "      <td>635</td>\n",
       "      <td>3</td>\n",
       "      <td>1</td>\n",
       "      <td>1.0</td>\n",
       "      <td>1.000</td>\n",
       "      <td>1.00</td>\n",
       "      <td>Brent Cross</td>\n",
       "      <td>302.665825</td>\n",
       "      <td>1.0</td>\n",
       "    </tr>\n",
       "    <tr>\n",
       "      <th>2</th>\n",
       "      <td>41311</td>\n",
       "      <td>103583</td>\n",
       "      <td>2020-01-18</td>\n",
       "      <td>0</td>\n",
       "      <td>3.0</td>\n",
       "      <td>1</td>\n",
       "      <td>1</td>\n",
       "      <td>0.0</td>\n",
       "      <td>51.57400</td>\n",
       "      <td>-0.21058</td>\n",
       "      <td>...</td>\n",
       "      <td>0</td>\n",
       "      <td>692</td>\n",
       "      <td>3</td>\n",
       "      <td>1</td>\n",
       "      <td>0.9</td>\n",
       "      <td>0.960</td>\n",
       "      <td>0.99</td>\n",
       "      <td>Brent Cross</td>\n",
       "      <td>346.564965</td>\n",
       "      <td>1.0</td>\n",
       "    </tr>\n",
       "    <tr>\n",
       "      <th>3</th>\n",
       "      <td>19516454</td>\n",
       "      <td>103583</td>\n",
       "      <td>2020-03-20</td>\n",
       "      <td>0</td>\n",
       "      <td>3.0</td>\n",
       "      <td>1</td>\n",
       "      <td>1</td>\n",
       "      <td>0.0</td>\n",
       "      <td>51.57466</td>\n",
       "      <td>-0.20916</td>\n",
       "      <td>...</td>\n",
       "      <td>0</td>\n",
       "      <td>630</td>\n",
       "      <td>3</td>\n",
       "      <td>1</td>\n",
       "      <td>1.0</td>\n",
       "      <td>1.000</td>\n",
       "      <td>1.00</td>\n",
       "      <td>Brent Cross</td>\n",
       "      <td>361.025714</td>\n",
       "      <td>1.0</td>\n",
       "    </tr>\n",
       "    <tr>\n",
       "      <th>4</th>\n",
       "      <td>38610</td>\n",
       "      <td>165579</td>\n",
       "      <td>2020-08-12</td>\n",
       "      <td>1</td>\n",
       "      <td>2.0</td>\n",
       "      <td>1</td>\n",
       "      <td>1</td>\n",
       "      <td>0.0</td>\n",
       "      <td>51.50701</td>\n",
       "      <td>-0.23362</td>\n",
       "      <td>...</td>\n",
       "      <td>0</td>\n",
       "      <td>485</td>\n",
       "      <td>1</td>\n",
       "      <td>0</td>\n",
       "      <td>0.8</td>\n",
       "      <td>0.335</td>\n",
       "      <td>0.07</td>\n",
       "      <td>Shepherds Bush Market</td>\n",
       "      <td>449.743591</td>\n",
       "      <td>3.0</td>\n",
       "    </tr>\n",
       "  </tbody>\n",
       "</table>\n",
       "<p>5 rows × 126 columns</p>\n",
       "</div>"
      ],
      "text/plain": [
       "         id  host_id host_since  host_is_superhost  host_total_listings_count  \\\n",
       "0     15400    60302 2020-03-16                  0                        1.0   \n",
       "1     25123   103583 2020-03-15                  0                        3.0   \n",
       "2     41311   103583 2020-01-18                  0                        3.0   \n",
       "3  19516454   103583 2020-03-20                  0                        3.0   \n",
       "4     38610   165579 2020-08-12                  1                        2.0   \n",
       "\n",
       "   host_has_profile_pic  host_identity_verified  neighbourhood_group_cleansed  \\\n",
       "0                     1                       1                           0.0   \n",
       "1                     1                       1                           0.0   \n",
       "2                     1                       1                           0.0   \n",
       "3                     1                       1                           0.0   \n",
       "4                     1                       1                           0.0   \n",
       "\n",
       "   latitude  longitude  ... amenities_nespresso machine host_duration  \\\n",
       "0  51.48780   -0.16813  ...                           0           634   \n",
       "1  51.57438   -0.21081  ...                           0           635   \n",
       "2  51.57400   -0.21058  ...                           0           692   \n",
       "3  51.57466   -0.20916  ...                           0           630   \n",
       "4  51.50701   -0.23362  ...                           0           485   \n",
       "\n",
       "   properties  prop_managed  occ_30D  occ_6090D  occ_365  \\\n",
       "0           1             0      1.0      1.000     0.99   \n",
       "1           3             1      1.0      1.000     1.00   \n",
       "2           3             1      0.9      0.960     0.99   \n",
       "3           3             1      1.0      1.000     1.00   \n",
       "4           1             0      0.8      0.335     0.07   \n",
       "\n",
       "                 station  station_dist  walking_distance  \n",
       "0       South Kensington    805.406363               0.0  \n",
       "1            Brent Cross    302.665825               1.0  \n",
       "2            Brent Cross    346.564965               1.0  \n",
       "3            Brent Cross    361.025714               1.0  \n",
       "4  Shepherds Bush Market    449.743591               3.0  \n",
       "\n",
       "[5 rows x 126 columns]"
      ]
     },
     "execution_count": 21,
     "metadata": {},
     "output_type": "execute_result"
    }
   ],
   "source": [
    "# Load computed location features\n",
    "location_features = ['station', 'station_dist','walking_distance']\n",
    "df = df.merge(pd.read_csv('computed_features/london_nearest_tube.csv')[['id']+location_features],left_on='id', right_on='id',how='left')\n",
    "df.head()"
   ]
  },
  {
   "cell_type": "markdown",
   "id": "e6dbfe5c-e700-4844-bc9e-c630bd53949b",
   "metadata": {
    "id": "e6dbfe5c-e700-4844-bc9e-c630bd53949b"
   },
   "source": [
    "## 2.5 Sentiment"
   ]
  },
  {
   "cell_type": "code",
   "execution_count": 22,
   "id": "d81a39ef-a695-45a7-a9a4-9452038a4c86",
   "metadata": {
    "id": "d81a39ef-a695-45a7-a9a4-9452038a4c86",
    "outputId": "5ecbf465-b597-49fd-d4aa-85f54a1d56e9"
   },
   "outputs": [
    {
     "data": {
      "text/html": [
       "<div>\n",
       "<style scoped>\n",
       "    .dataframe tbody tr th:only-of-type {\n",
       "        vertical-align: middle;\n",
       "    }\n",
       "\n",
       "    .dataframe tbody tr th {\n",
       "        vertical-align: top;\n",
       "    }\n",
       "\n",
       "    .dataframe thead th {\n",
       "        text-align: right;\n",
       "    }\n",
       "</style>\n",
       "<table border=\"1\" class=\"dataframe\">\n",
       "  <thead>\n",
       "    <tr style=\"text-align: right;\">\n",
       "      <th></th>\n",
       "      <th>id_x</th>\n",
       "      <th>host_id</th>\n",
       "      <th>host_since</th>\n",
       "      <th>host_is_superhost</th>\n",
       "      <th>host_total_listings_count</th>\n",
       "      <th>host_has_profile_pic</th>\n",
       "      <th>host_identity_verified</th>\n",
       "      <th>neighbourhood_group_cleansed</th>\n",
       "      <th>latitude</th>\n",
       "      <th>longitude</th>\n",
       "      <th>...</th>\n",
       "      <th>walking_distance</th>\n",
       "      <th>Unnamed: 0</th>\n",
       "      <th>id_y</th>\n",
       "      <th>reviewer_id</th>\n",
       "      <th>comments_len</th>\n",
       "      <th>key_reviewer</th>\n",
       "      <th>negative</th>\n",
       "      <th>neutral</th>\n",
       "      <th>positive</th>\n",
       "      <th>compound</th>\n",
       "    </tr>\n",
       "  </thead>\n",
       "  <tbody>\n",
       "    <tr>\n",
       "      <th>0</th>\n",
       "      <td>15400</td>\n",
       "      <td>60302</td>\n",
       "      <td>2020-03-16</td>\n",
       "      <td>0</td>\n",
       "      <td>1.0</td>\n",
       "      <td>1</td>\n",
       "      <td>1</td>\n",
       "      <td>0.0</td>\n",
       "      <td>51.48780</td>\n",
       "      <td>-0.16813</td>\n",
       "      <td>...</td>\n",
       "      <td>0.0</td>\n",
       "      <td>1.0</td>\n",
       "      <td>8.029375e+07</td>\n",
       "      <td>2.695406e+07</td>\n",
       "      <td>78.062500</td>\n",
       "      <td>0.075000</td>\n",
       "      <td>0.016000</td>\n",
       "      <td>0.682400</td>\n",
       "      <td>0.301550</td>\n",
       "      <td>0.900261</td>\n",
       "    </tr>\n",
       "    <tr>\n",
       "      <th>1</th>\n",
       "      <td>25123</td>\n",
       "      <td>103583</td>\n",
       "      <td>2020-03-15</td>\n",
       "      <td>0</td>\n",
       "      <td>3.0</td>\n",
       "      <td>1</td>\n",
       "      <td>1</td>\n",
       "      <td>0.0</td>\n",
       "      <td>51.57438</td>\n",
       "      <td>-0.21081</td>\n",
       "      <td>...</td>\n",
       "      <td>1.0</td>\n",
       "      <td>3.0</td>\n",
       "      <td>8.898858e+07</td>\n",
       "      <td>3.434179e+07</td>\n",
       "      <td>61.970588</td>\n",
       "      <td>0.127451</td>\n",
       "      <td>0.011020</td>\n",
       "      <td>0.607324</td>\n",
       "      <td>0.381667</td>\n",
       "      <td>0.941062</td>\n",
       "    </tr>\n",
       "    <tr>\n",
       "      <th>2</th>\n",
       "      <td>41311</td>\n",
       "      <td>103583</td>\n",
       "      <td>2020-01-18</td>\n",
       "      <td>0</td>\n",
       "      <td>3.0</td>\n",
       "      <td>1</td>\n",
       "      <td>1</td>\n",
       "      <td>0.0</td>\n",
       "      <td>51.57400</td>\n",
       "      <td>-0.21058</td>\n",
       "      <td>...</td>\n",
       "      <td>1.0</td>\n",
       "      <td>10.0</td>\n",
       "      <td>1.066726e+08</td>\n",
       "      <td>3.536433e+07</td>\n",
       "      <td>71.552239</td>\n",
       "      <td>0.074627</td>\n",
       "      <td>0.007433</td>\n",
       "      <td>0.627463</td>\n",
       "      <td>0.365134</td>\n",
       "      <td>0.961803</td>\n",
       "    </tr>\n",
       "    <tr>\n",
       "      <th>3</th>\n",
       "      <td>19516454</td>\n",
       "      <td>103583</td>\n",
       "      <td>2020-03-20</td>\n",
       "      <td>0</td>\n",
       "      <td>3.0</td>\n",
       "      <td>1</td>\n",
       "      <td>1</td>\n",
       "      <td>0.0</td>\n",
       "      <td>51.57466</td>\n",
       "      <td>-0.20916</td>\n",
       "      <td>...</td>\n",
       "      <td>1.0</td>\n",
       "      <td>16621.0</td>\n",
       "      <td>4.596262e+08</td>\n",
       "      <td>1.034197e+08</td>\n",
       "      <td>44.500000</td>\n",
       "      <td>0.136364</td>\n",
       "      <td>0.003682</td>\n",
       "      <td>0.558909</td>\n",
       "      <td>0.437409</td>\n",
       "      <td>0.953786</td>\n",
       "    </tr>\n",
       "    <tr>\n",
       "      <th>4</th>\n",
       "      <td>38610</td>\n",
       "      <td>165579</td>\n",
       "      <td>2020-08-12</td>\n",
       "      <td>1</td>\n",
       "      <td>2.0</td>\n",
       "      <td>1</td>\n",
       "      <td>1</td>\n",
       "      <td>0.0</td>\n",
       "      <td>51.50701</td>\n",
       "      <td>-0.23362</td>\n",
       "      <td>...</td>\n",
       "      <td>3.0</td>\n",
       "      <td>7.0</td>\n",
       "      <td>3.235218e+08</td>\n",
       "      <td>8.901368e+07</td>\n",
       "      <td>86.068966</td>\n",
       "      <td>0.000000</td>\n",
       "      <td>0.007931</td>\n",
       "      <td>0.707483</td>\n",
       "      <td>0.284621</td>\n",
       "      <td>0.927310</td>\n",
       "    </tr>\n",
       "  </tbody>\n",
       "</table>\n",
       "<p>5 rows × 135 columns</p>\n",
       "</div>"
      ],
      "text/plain": [
       "       id_x  host_id host_since  host_is_superhost  host_total_listings_count  \\\n",
       "0     15400    60302 2020-03-16                  0                        1.0   \n",
       "1     25123   103583 2020-03-15                  0                        3.0   \n",
       "2     41311   103583 2020-01-18                  0                        3.0   \n",
       "3  19516454   103583 2020-03-20                  0                        3.0   \n",
       "4     38610   165579 2020-08-12                  1                        2.0   \n",
       "\n",
       "   host_has_profile_pic  host_identity_verified  neighbourhood_group_cleansed  \\\n",
       "0                     1                       1                           0.0   \n",
       "1                     1                       1                           0.0   \n",
       "2                     1                       1                           0.0   \n",
       "3                     1                       1                           0.0   \n",
       "4                     1                       1                           0.0   \n",
       "\n",
       "   latitude  longitude  ... walking_distance Unnamed: 0          id_y  \\\n",
       "0  51.48780   -0.16813  ...              0.0        1.0  8.029375e+07   \n",
       "1  51.57438   -0.21081  ...              1.0        3.0  8.898858e+07   \n",
       "2  51.57400   -0.21058  ...              1.0       10.0  1.066726e+08   \n",
       "3  51.57466   -0.20916  ...              1.0    16621.0  4.596262e+08   \n",
       "4  51.50701   -0.23362  ...              3.0        7.0  3.235218e+08   \n",
       "\n",
       "    reviewer_id  comments_len  key_reviewer  negative   neutral  positive  \\\n",
       "0  2.695406e+07     78.062500      0.075000  0.016000  0.682400  0.301550   \n",
       "1  3.434179e+07     61.970588      0.127451  0.011020  0.607324  0.381667   \n",
       "2  3.536433e+07     71.552239      0.074627  0.007433  0.627463  0.365134   \n",
       "3  1.034197e+08     44.500000      0.136364  0.003682  0.558909  0.437409   \n",
       "4  8.901368e+07     86.068966      0.000000  0.007931  0.707483  0.284621   \n",
       "\n",
       "   compound  \n",
       "0  0.900261  \n",
       "1  0.941062  \n",
       "2  0.961803  \n",
       "3  0.953786  \n",
       "4  0.927310  \n",
       "\n",
       "[5 rows x 135 columns]"
      ]
     },
     "execution_count": 22,
     "metadata": {},
     "output_type": "execute_result"
    }
   ],
   "source": [
    "############## Add sentiment features #################\n",
    "import pandas as pd\n",
    "df_sentiment = pd.read_csv('computed_features/nc_eng_with_sent.csv')\n",
    "# df_sentiment = df_sentiment.groupby('listing_id').mean()\n",
    "# df_sentiment = df_sentiment.reset_index()\n",
    "df=pd.merge(df,df_sentiment,left_on='id', right_on='listing_id',how='left')\n",
    "df = df.drop(['listing_id'], axis = 1)\n",
    "df = df.fillna(df.mean())\n",
    "df.head()"
   ]
  },
  {
   "cell_type": "markdown",
   "id": "0257fe2b",
   "metadata": {},
   "source": [
    "# 3. Feature selection"
   ]
  },
  {
   "cell_type": "code",
   "execution_count": 23,
   "id": "0bb82670",
   "metadata": {},
   "outputs": [],
   "source": [
    "from lightgbm import LGBMRegressor\n",
    "from lightgbm import plot_importance\n",
    "from sklearn.preprocessing import LabelEncoder\n",
    "\n",
    "\n",
    "def regression_scores(model, X_train, X_test, y_train, y_test):\n",
    "    \n",
    "     # Train metrics\n",
    "    pred_train= model.predict(X_train)\n",
    "    train_MSE = mean_squared_error(y_train, pred_train)\n",
    "    \n",
    "    # Cross validated metrics\n",
    "    cv_score = cross_validate(model, X_train, y_train, scoring=['r2', 'neg_mean_squared_error'], verbose=0, cv = 5) \n",
    "    \n",
    "    \n",
    "    print('Train R-sq', round(model.score(X_train, y_train),4))\n",
    "    print('Train MSE:', round(train_MSE,4))\n",
    "    print('')\n",
    "    print('CV R-sq', round(np.mean(cv_score['test_r2']),4))\n",
    "    print('CV MSE:', round(-np.mean(cv_score['test_neg_mean_squared_error']),4))\n",
    "    print('')\n",
    "\n",
    "def run_model(X, y):\n",
    "    \n",
    "    random_state = 42\n",
    "    \n",
    "    # Automatic label encoding\n",
    "    le = LabelEncoder()\n",
    "    for column_name in X.columns:\n",
    "        if X[column_name].dtype == object:\n",
    "            X[column_name] = le.fit_transform(X[column_name])\n",
    "        else:\n",
    "            pass\n",
    "\n",
    "    # Train-Test split\n",
    "    X_train, X_test, y_train, y_test = train_test_split(X, y, test_size=0.2, random_state=random_state)\n",
    "\n",
    "    \n",
    "    # Train Model\n",
    "    rf = RandomForestRegressor(n_jobs = -1, random_state = random_state)\n",
    "    \n",
    "    # Fit Model\n",
    "    rf.fit(X_train, y_train)\n",
    "\n",
    "    # Score model on test set\n",
    "    regression_scores(rf, X_train = X_train, X_test = X_test, y_train = y_train, y_test = y_test)"
   ]
  },
  {
   "cell_type": "code",
   "execution_count": 24,
   "id": "00c7b64e",
   "metadata": {},
   "outputs": [],
   "source": [
    "## LGBMReressor\n",
    "\n",
    "from numpy import sort\n",
    "from sklearn.feature_selection import SelectFromModel\n",
    "#Get a function to generally see feature importance\n",
    "def run_lgbm(X,y):\n",
    "    random_state = 42\n",
    "    \n",
    "     # Train-Test split\n",
    "    X_train, X_test, y_train, y_test = train_test_split(X, y, test_size=0.2, random_state=random_state)\n",
    "    \n",
    "    lgbm = LGBMRegressor(n_jobs=-1,random_state=random_state)\n",
    "    lgbm.fit(X_train,y_train)\n",
    "    print('Scores run on full number of features')\n",
    "    regression_scores(lgbm, X_train = X_train, X_test = X_test, y_train = y_train, y_test = y_test)\n",
    "\n",
    "    # plot feature importance\n",
    "    # choice of gain, weighted or cover\n",
    "    # use gain; weighted might give too much bias to numerical or high cardinality. \n",
    "    # this post explains it well:\n",
    "    # https://towardsdatascience.com/be-careful-when-interpreting-your-features-importance-in-xgboost-6e16132588e7\n",
    "    plot_importance(lgbm, importance_type=\"gain\")\n",
    "    plt.show()\n",
    "    \n",
    "    ## From prof's sample code\n",
    "    # The following block of codes will try to use importance score for features selection\n",
    "\n",
    "    # Fit model using each importance as a threshold\n",
    "    thresholds = sort(lgbm.feature_importances_) # sort the importance score\n",
    "\n",
    "    # select feaures by using importance score as threshold\n",
    "    for thresh in thresholds:\n",
    "        # select features using threshold\n",
    "        selection = SelectFromModel(lgbm, threshold=thresh, prefit=True)\n",
    "        select_X_train = selection.transform(X_train)\n",
    "        # train model\n",
    "        selection_model = LGBMRegressor(n_jobs=-1, random_state = 42)\n",
    "        selection_model.fit(select_X_train, y_train)\n",
    "        # eval model\n",
    "        cv_score = cross_validate(selection_model, select_X_train, y_train, scoring=['r2', 'neg_mean_squared_error'], verbose=0, cv = 5)\n",
    "        select_X_test = selection.transform(X_test)\n",
    "        y_pred = selection_model.predict(select_X_test)\n",
    "        predictions = [round(value) for value in y_pred]\n",
    "        #test_MSE = mean_squared_error(y_train, y_pred)\n",
    "        #print('CV R-sq', round(np.mean(cv_score['test_r2']),4))\n",
    "        #print('CV MSE:', round(-np.mean(cv_score['test_neg_mean_squared_error']),4))\n",
    "        print(\"Thresh=%.3f, n=%d, CV MSE: %.2f\" % (thresh, select_X_train.shape[1], round(-np.mean(cv_score['test_neg_mean_squared_error']),4)))\n",
    "    \n",
    "    return selection"
   ]
  },
  {
   "cell_type": "code",
   "execution_count": 52,
   "id": "c87e2a19",
   "metadata": {},
   "outputs": [],
   "source": [
    "## modify the func to run at threshold = xx\n",
    "import eli5\n",
    "from eli5.sklearn import PermutationImportance\n",
    "\n",
    "## LGBMReressor\n",
    "from lightgbm import LGBMRegressor\n",
    "from lightgbm import plot_importance\n",
    "\n",
    "from numpy import sort\n",
    "from sklearn.feature_selection import SelectFromModel\n",
    "\n",
    "#Re-write function to accept threshold value and also output the test MSE on the selected subset\n",
    "def thresh_run_lgbm(X,y,thresh):\n",
    "    random_state = 42\n",
    "    \n",
    "     # Automatic label encoding\n",
    "    le = LabelEncoder()\n",
    "    for column_name in X.columns:\n",
    "        if X[column_name].dtype == object:\n",
    "            X[column_name] = le.fit_transform(X[column_name])\n",
    "        else:\n",
    "            pass\n",
    "        \n",
    "     # Train-Test split\n",
    "    X_train, X_test, y_train, y_test = train_test_split(X, y, test_size=0.2, random_state=random_state)\n",
    "    \n",
    "    lgbm = LGBMRegressor(n_jobs=-1,random_state=random_state)\n",
    "    lgbm.fit(X_train,y_train)\n",
    "    \n",
    "\n",
    "    # Fit model using each importance as a threshold\n",
    "    thresholds = sort(lgbm.feature_importances_) # sort the importance score\n",
    "\n",
    "    # select features using threshold\n",
    "    selection = SelectFromModel(lgbm, threshold=thresh, prefit=True)\n",
    "    select_X_train = selection.transform(X_train)\n",
    "    # train model\n",
    "    selection_model = LGBMRegressor(n_jobs=-1, random_state = 42)\n",
    "    selection_model.fit(select_X_train, y_train)\n",
    "    # eval model on cv\n",
    "    cv_score = cross_validate(selection_model, X_train, y_train, scoring=['r2', 'neg_mean_squared_error'], verbose=0, cv = 5)\n",
    "    select_X_test = selection.transform(X_test)\n",
    "    y_pred = selection_model.predict(select_X_test)\n",
    "   \n",
    "   # CV_MSE = mean_squared_error(y_test, cv_score)\n",
    "    \n",
    "    print('Score from selected subset of features')\n",
    "    #Score of subset features (not all features)\n",
    "    regression_scores(selection_model, X_train = select_X_train, X_test = select_X_test, y_train = y_train, y_test = y_test)\n",
    "    \n",
    "    print(\"Thresh=%.3f, n=%d, CV:%.2f\" % (thresh, select_X_train.shape[1],round(-np.mean(cv_score['test_neg_mean_squared_error']),4)))\n",
    "    \n",
    "   \n",
    "    ##carry on from selection \n",
    "    include = selection.get_support()\n",
    "    headers = X_all.columns\n",
    "\n",
    "    fs = pd.DataFrame({'cols':headers,'include':include})\n",
    "    filters = (fs.include==True)\n",
    "    selected_col = fs[filters].cols.tolist()\n",
    "    \n",
    "    return selected_col"
   ]
  },
  {
   "cell_type": "code",
   "execution_count": 53,
   "id": "a12614d6",
   "metadata": {},
   "outputs": [],
   "source": [
    "import re\n",
    "df = df.rename(columns = lambda x:re.sub('[^A-Za-z0-9_]+', '', x))\n"
   ]
  },
  {
   "cell_type": "code",
   "execution_count": 54,
   "id": "d4b44927",
   "metadata": {},
   "outputs": [],
   "source": [
    "drop_cols=['id_x','host_id','host_has_profile_pic','price','price_log','id_y','reviewer_id','host_since','key_reviewer','first_review','last_review']\n",
    "X_all=df.drop(drop_cols,axis=1)\n",
    "y_all=df['price_log']"
   ]
  },
  {
   "cell_type": "code",
   "execution_count": 55,
   "id": "6bf44485",
   "metadata": {},
   "outputs": [
    {
     "name": "stdout",
     "output_type": "stream",
     "text": [
      "Score from selected subset of features\n",
      "Train R-sq 0.8357\n",
      "Train MSE: 0.1011\n",
      "\n",
      "CV R-sq 0.7801\n",
      "CV MSE: 0.1353\n",
      "\n",
      "Thresh=5.000, n=68, CV:0.14\n"
     ]
    }
   ],
   "source": [
    "lgbm_col = thresh_run_lgbm(X_all,y_all,5)"
   ]
  },
  {
   "cell_type": "code",
   "execution_count": 56,
   "id": "49d8f697",
   "metadata": {},
   "outputs": [
    {
     "data": {
      "text/plain": [
       "Index(['id_x', 'host_id', 'host_since', 'host_is_superhost',\n",
       "       'host_total_listings_count', 'host_has_profile_pic',\n",
       "       'host_identity_verified', 'neighbourhood_group_cleansed', 'latitude',\n",
       "       'longitude',\n",
       "       ...\n",
       "       'walking_distance', 'Unnamed0', 'id_y', 'reviewer_id', 'comments_len',\n",
       "       'key_reviewer', 'negative', 'neutral', 'positive', 'compound'],\n",
       "      dtype='object', length=135)"
      ]
     },
     "execution_count": 56,
     "metadata": {},
     "output_type": "execute_result"
    }
   ],
   "source": [
    "fs_cols=lgbm_col\n",
    "df_fs= df[fs_cols]\n",
    "df.columns"
   ]
  },
  {
   "cell_type": "markdown",
   "id": "NQGfGbAJDozM",
   "metadata": {
    "id": "NQGfGbAJDozM",
    "tags": []
   },
   "source": [
    "# 4. Models"
   ]
  },
  {
   "cell_type": "code",
   "execution_count": 57,
   "id": "5c00afa3-4071-473c-a410-0edcddcb2795",
   "metadata": {
    "id": "5c00afa3-4071-473c-a410-0edcddcb2795"
   },
   "outputs": [],
   "source": [
    "# Format columns\n",
    "import re\n",
    "df = df.rename(columns = lambda x:re.sub('[^A-Za-z0-9_]+', '', x))"
   ]
  },
  {
   "cell_type": "code",
   "execution_count": 58,
   "id": "216921e7",
   "metadata": {},
   "outputs": [
    {
     "data": {
      "text/plain": [
       "['id_x',\n",
       " 'host_id',\n",
       " 'host_since',\n",
       " 'host_is_superhost',\n",
       " 'host_total_listings_count',\n",
       " 'host_has_profile_pic',\n",
       " 'host_identity_verified',\n",
       " 'neighbourhood_group_cleansed',\n",
       " 'latitude',\n",
       " 'longitude',\n",
       " 'property_type',\n",
       " 'room_type',\n",
       " 'accommodates',\n",
       " 'bedrooms',\n",
       " 'price',\n",
       " 'minimum_nights',\n",
       " 'maximum_nights',\n",
       " 'minimum_nights_avg_ntm',\n",
       " 'maximum_nights_avg_ntm',\n",
       " 'has_availability',\n",
       " 'number_of_reviews',\n",
       " 'number_of_reviews_ltm',\n",
       " 'number_of_reviews_l30d',\n",
       " 'first_review',\n",
       " 'last_review',\n",
       " 'review_scores_rating',\n",
       " 'review_scores_accuracy',\n",
       " 'review_scores_cleanliness',\n",
       " 'review_scores_checkin',\n",
       " 'review_scores_communication',\n",
       " 'review_scores_location',\n",
       " 'review_scores_value',\n",
       " 'instant_bookable',\n",
       " 'reviews_per_month',\n",
       " 'bathroom_num',\n",
       " 'bathroom_sharing',\n",
       " 'price_log',\n",
       " 'amenities_wifi',\n",
       " 'amenities_essentials',\n",
       " 'amenities_smokealarm',\n",
       " 'amenities_heating',\n",
       " 'amenities_kitchen',\n",
       " 'amenities_hangers',\n",
       " 'amenities_longtermstaysallowed',\n",
       " 'amenities_iron',\n",
       " 'amenities_washer',\n",
       " 'amenities_hairdryer',\n",
       " 'amenities_hotwater',\n",
       " 'amenities_shampoo',\n",
       " 'amenities_carbonmonoxidealarm',\n",
       " 'amenities_dedicatedworkspace',\n",
       " 'amenities_dishesandsilverware',\n",
       " 'amenities_cookingbasics',\n",
       " 'amenities_refrigerator',\n",
       " 'amenities_bedlinens',\n",
       " 'amenities_tv',\n",
       " 'amenities_microwave',\n",
       " 'amenities_oven',\n",
       " 'amenities_stove',\n",
       " 'amenities_dryer',\n",
       " 'amenities_firstaidkit',\n",
       " 'amenities_fireextinguisher',\n",
       " 'amenities_coffeemaker',\n",
       " 'amenities_dishwasher',\n",
       " 'amenities_privateentrance',\n",
       " 'amenities_extrapillowsandblankets',\n",
       " 'amenities_luggagedropoffallowed',\n",
       " 'amenities_hostgreetsyou',\n",
       " 'amenities_lockbox',\n",
       " 'amenities_bathtub',\n",
       " 'amenities_elevator',\n",
       " 'amenities_freeparkingonpremises',\n",
       " 'amenities_showergel',\n",
       " 'amenities_paidparkingoffpremises',\n",
       " 'amenities_hotwaterkettle',\n",
       " 'amenities_backyard',\n",
       " 'amenities_freestreetparking',\n",
       " 'amenities_lockonbedroomdoor',\n",
       " 'amenities_cabletv',\n",
       " 'amenities_patioorbalcony',\n",
       " 'amenities_freezer',\n",
       " 'amenities_tvwithstandardcable',\n",
       " 'amenities_cleaningproducts',\n",
       " 'amenities_toaster',\n",
       " 'amenities_diningtable',\n",
       " 'amenities_wineglasses',\n",
       " 'amenities_roomdarkeningshades',\n",
       " 'amenities_bodysoap',\n",
       " 'amenities_breakfast',\n",
       " 'amenities_dryingrackforclothing',\n",
       " 'amenities_singlelevelhome',\n",
       " 'amenities_securitycamerasonproperty',\n",
       " 'amenities_conditioner',\n",
       " 'amenities_indoorfireplace',\n",
       " 'amenities_portablefans',\n",
       " 'amenities_ethernetconnection',\n",
       " 'amenities_outdoorfurniture',\n",
       " 'amenities_laundromatnearby',\n",
       " 'amenities_packnplaytravelcrib',\n",
       " 'amenities_crib',\n",
       " 'amenities_airconditioning',\n",
       " 'amenities_highchair',\n",
       " 'amenities_bakingsheet',\n",
       " 'amenities_bbqgrill',\n",
       " 'amenities_paidparkingonpremises',\n",
       " 'amenities_privatepatioorbalcony',\n",
       " 'amenities_centralheating',\n",
       " 'amenities_outdoordiningarea',\n",
       " 'amenities_childrensbooksandtoys',\n",
       " 'amenities_cleaningbeforecheckout',\n",
       " 'amenities_clothingstorage',\n",
       " 'amenities_clothingstoragecloset',\n",
       " 'amenities_minifridge',\n",
       " 'amenities_privatefencedgardenorbackyard',\n",
       " 'amenities_buildingstaff',\n",
       " 'amenities_paidstreetparkingoffpremises',\n",
       " 'amenities_nespressomachine',\n",
       " 'host_duration',\n",
       " 'properties',\n",
       " 'prop_managed',\n",
       " 'occ_30D',\n",
       " 'occ_6090D',\n",
       " 'occ_365',\n",
       " 'station',\n",
       " 'station_dist',\n",
       " 'walking_distance',\n",
       " 'Unnamed0',\n",
       " 'id_y',\n",
       " 'reviewer_id',\n",
       " 'comments_len',\n",
       " 'key_reviewer',\n",
       " 'negative',\n",
       " 'neutral',\n",
       " 'positive',\n",
       " 'compound']"
      ]
     },
     "execution_count": 58,
     "metadata": {},
     "output_type": "execute_result"
    }
   ],
   "source": [
    "df.columns.tolist()"
   ]
  },
  {
   "cell_type": "code",
   "execution_count": 59,
   "id": "139c0fc2-0338-4291-b2d4-4240fa34e303",
   "metadata": {
    "id": "139c0fc2-0338-4291-b2d4-4240fa34e303"
   },
   "outputs": [],
   "source": [
    "sentiment_features = [   'comments_len',\n",
    "                         'neutral',\n",
    "                         'negative',\n",
    "                         'positive']\n",
    "\n",
    "features_selected = ['host_total_listings_count',\n",
    "                         'neighbourhood_group_cleansed',\n",
    "                         'latitude',\n",
    "                         'longitude',\n",
    "                         'room_type',\n",
    "                         'accommodates',\n",
    "                         'bedrooms',\n",
    "                         'minimum_nights',\n",
    "                         'maximum_nights',\n",
    "                         'minimum_nights_avg_ntm',\n",
    "                         'maximum_nights_avg_ntm',\n",
    "                         'number_of_reviews',\n",
    "                         'number_of_reviews_ltm',\n",
    "                         'number_of_reviews_l30d',\n",
    "                         'review_scores_rating',\n",
    "                         'review_scores_accuracy',\n",
    "                         'review_scores_cleanliness',\n",
    "                         'review_scores_checkin',\n",
    "                         'review_scores_communication',\n",
    "                         'review_scores_location',\n",
    "                         'review_scores_value',\n",
    "                         'reviews_per_month',\n",
    "                         'bathroom_num',\n",
    "                         'bathroom_sharing',\n",
    "                        'amenities_wifi',\n",
    "                        'amenities_essentials',\n",
    "                        'amenities_smokealarm',\n",
    "                        'amenities_heating',\n",
    "                        'amenities_kitchen',\n",
    "                        'amenities_hangers',\n",
    "                        'amenities_longtermstaysallowed',\n",
    "                        'amenities_iron',\n",
    "                        'amenities_washer',\n",
    "                        'amenities_hairdryer',\n",
    "                        'amenities_hotwater',\n",
    "                        'amenities_shampoo',\n",
    "                        'amenities_carbonmonoxidealarm',\n",
    "                        'amenities_dedicatedworkspace',\n",
    "                        'amenities_dishesandsilverware',\n",
    "                        'amenities_cookingbasics',\n",
    "                        'amenities_refrigerator',\n",
    "                        'amenities_bedlinens',\n",
    "                        'amenities_tv',\n",
    "                        'amenities_microwave',\n",
    "                        'amenities_oven',\n",
    "                        'amenities_stove',\n",
    "                        'amenities_dryer',\n",
    "                        'amenities_firstaidkit',\n",
    "                        'amenities_fireextinguisher',\n",
    "                        'amenities_coffeemaker',\n",
    "                        'amenities_dishwasher',\n",
    "                        'amenities_privateentrance',\n",
    "                        'amenities_extrapillowsandblankets',\n",
    "                        'amenities_luggagedropoffallowed',\n",
    "                        'amenities_hostgreetsyou',\n",
    "                        'amenities_lockbox',\n",
    "                        'amenities_bathtub',\n",
    "                        'amenities_elevator',\n",
    "                        'amenities_freeparkingonpremises',\n",
    "                        'amenities_showergel',\n",
    "                        'amenities_paidparkingoffpremises',\n",
    "                        'amenities_hotwaterkettle',\n",
    "                        'amenities_backyard',\n",
    "                        'amenities_freestreetparking',\n",
    "                        'amenities_lockonbedroomdoor',\n",
    "                        'amenities_cabletv',\n",
    "                        'amenities_patioorbalcony',\n",
    "                        'amenities_freezer',\n",
    "                        'amenities_tvwithstandardcable',\n",
    "                        'amenities_cleaningproducts',\n",
    "                        'amenities_toaster',\n",
    "                        'amenities_diningtable',\n",
    "                        'amenities_wineglasses',\n",
    "                        'amenities_roomdarkeningshades',\n",
    "                        'amenities_bodysoap',\n",
    "                        'amenities_breakfast',\n",
    "                        'amenities_dryingrackforclothing',\n",
    "                        'amenities_singlelevelhome',\n",
    "                        'amenities_securitycamerasonproperty',\n",
    "                        'amenities_conditioner',\n",
    "                        'amenities_indoorfireplace',\n",
    "                        'amenities_portablefans',\n",
    "                        'amenities_ethernetconnection',\n",
    "                        'amenities_outdoorfurniture',\n",
    "                        'amenities_laundromatnearby',\n",
    "                        'amenities_packnplaytravelcrib',\n",
    "                        'amenities_crib',\n",
    "                        'amenities_airconditioning',\n",
    "                        'amenities_highchair',\n",
    "                        'amenities_bakingsheet',\n",
    "                        'amenities_bbqgrill',\n",
    "                        'amenities_paidparkingonpremises',\n",
    "                        'amenities_privatepatioorbalcony',\n",
    "                        'amenities_centralheating',\n",
    "                        'amenities_outdoordiningarea',\n",
    "                        'amenities_childrensbooksandtoys',\n",
    "                        'amenities_cleaningbeforecheckout',\n",
    "                        'amenities_clothingstorage',\n",
    "                        'amenities_clothingstoragecloset',\n",
    "                        'amenities_minifridge',\n",
    "                        'amenities_privatefencedgardenorbackyard',\n",
    "                        'amenities_buildingstaff',\n",
    "                        'amenities_paidstreetparkingoffpremises',\n",
    "                        'amenities_nespressomachine',\n",
    "                         'host_duration',\n",
    "                         'properties',\n",
    "                         'occ_30D',\n",
    "                         'occ_6090D',\n",
    "                         'occ_365'] + location_features + sentiment_features"
   ]
  },
  {
   "cell_type": "code",
   "execution_count": 60,
   "id": "f8c05f79-cf4f-4b08-9b98-78750d025f92",
   "metadata": {
    "id": "f8c05f79-cf4f-4b08-9b98-78750d025f92",
    "outputId": "ad469504-086b-4102-ae8a-8bbc479e0095"
   },
   "outputs": [
    {
     "name": "stdout",
     "output_type": "stream",
     "text": [
      "X shape: (33010, 116)\n",
      "y shape: (33010,)\n",
      "['bathroom_sharing', 'station', 'room_type']\n"
     ]
    }
   ],
   "source": [
    "random_state = 12\n",
    "\n",
    "dep_var = ['price_log']\n",
    "#to_drop = ['id', 'host_id', 'property_type', 'price', 'host_since', 'first_review', 'last_review']\n",
    "\n",
    "X = df[features_selected]\n",
    "y = df['price_log'].ravel()\n",
    "\n",
    "X_train, X_test, y_train, y_test = train_test_split(X,y,test_size =0.2, random_state = random_state)\n",
    "\n",
    "# Get numeric and categorical columns\n",
    "num_cols = list(X.select_dtypes(include=np.number).columns)\n",
    "cat_cols = list(set(X.columns)-set(X[num_cols].columns))\n",
    "\n",
    "print('X shape: {}'.format(np.shape(X)))\n",
    "print('y shape: {}'.format(np.shape(y)))\n",
    "print(cat_cols)"
   ]
  },
  {
   "cell_type": "code",
   "execution_count": 61,
   "id": "d774f380-f1b2-454b-83a2-94559511e333",
   "metadata": {
    "id": "d774f380-f1b2-454b-83a2-94559511e333",
    "outputId": "36f03c58-0aea-4488-cf12-b1002b7b6e0b"
   },
   "outputs": [
    {
     "data": {
      "text/html": [
       "<style>#sk-79bd1089-c526-46d5-be1a-a551ab09fbe9 {color: black;background-color: white;}#sk-79bd1089-c526-46d5-be1a-a551ab09fbe9 pre{padding: 0;}#sk-79bd1089-c526-46d5-be1a-a551ab09fbe9 div.sk-toggleable {background-color: white;}#sk-79bd1089-c526-46d5-be1a-a551ab09fbe9 label.sk-toggleable__label {cursor: pointer;display: block;width: 100%;margin-bottom: 0;padding: 0.3em;box-sizing: border-box;text-align: center;}#sk-79bd1089-c526-46d5-be1a-a551ab09fbe9 label.sk-toggleable__label-arrow:before {content: \"▸\";float: left;margin-right: 0.25em;color: #696969;}#sk-79bd1089-c526-46d5-be1a-a551ab09fbe9 label.sk-toggleable__label-arrow:hover:before {color: black;}#sk-79bd1089-c526-46d5-be1a-a551ab09fbe9 div.sk-estimator:hover label.sk-toggleable__label-arrow:before {color: black;}#sk-79bd1089-c526-46d5-be1a-a551ab09fbe9 div.sk-toggleable__content {max-height: 0;max-width: 0;overflow: hidden;text-align: left;background-color: #f0f8ff;}#sk-79bd1089-c526-46d5-be1a-a551ab09fbe9 div.sk-toggleable__content pre {margin: 0.2em;color: black;border-radius: 0.25em;background-color: #f0f8ff;}#sk-79bd1089-c526-46d5-be1a-a551ab09fbe9 input.sk-toggleable__control:checked~div.sk-toggleable__content {max-height: 200px;max-width: 100%;overflow: auto;}#sk-79bd1089-c526-46d5-be1a-a551ab09fbe9 input.sk-toggleable__control:checked~label.sk-toggleable__label-arrow:before {content: \"▾\";}#sk-79bd1089-c526-46d5-be1a-a551ab09fbe9 div.sk-estimator input.sk-toggleable__control:checked~label.sk-toggleable__label {background-color: #d4ebff;}#sk-79bd1089-c526-46d5-be1a-a551ab09fbe9 div.sk-label input.sk-toggleable__control:checked~label.sk-toggleable__label {background-color: #d4ebff;}#sk-79bd1089-c526-46d5-be1a-a551ab09fbe9 input.sk-hidden--visually {border: 0;clip: rect(1px 1px 1px 1px);clip: rect(1px, 1px, 1px, 1px);height: 1px;margin: -1px;overflow: hidden;padding: 0;position: absolute;width: 1px;}#sk-79bd1089-c526-46d5-be1a-a551ab09fbe9 div.sk-estimator {font-family: monospace;background-color: #f0f8ff;border: 1px dotted black;border-radius: 0.25em;box-sizing: border-box;margin-bottom: 0.5em;}#sk-79bd1089-c526-46d5-be1a-a551ab09fbe9 div.sk-estimator:hover {background-color: #d4ebff;}#sk-79bd1089-c526-46d5-be1a-a551ab09fbe9 div.sk-parallel-item::after {content: \"\";width: 100%;border-bottom: 1px solid gray;flex-grow: 1;}#sk-79bd1089-c526-46d5-be1a-a551ab09fbe9 div.sk-label:hover label.sk-toggleable__label {background-color: #d4ebff;}#sk-79bd1089-c526-46d5-be1a-a551ab09fbe9 div.sk-serial::before {content: \"\";position: absolute;border-left: 1px solid gray;box-sizing: border-box;top: 2em;bottom: 0;left: 50%;}#sk-79bd1089-c526-46d5-be1a-a551ab09fbe9 div.sk-serial {display: flex;flex-direction: column;align-items: center;background-color: white;padding-right: 0.2em;padding-left: 0.2em;}#sk-79bd1089-c526-46d5-be1a-a551ab09fbe9 div.sk-item {z-index: 1;}#sk-79bd1089-c526-46d5-be1a-a551ab09fbe9 div.sk-parallel {display: flex;align-items: stretch;justify-content: center;background-color: white;}#sk-79bd1089-c526-46d5-be1a-a551ab09fbe9 div.sk-parallel::before {content: \"\";position: absolute;border-left: 1px solid gray;box-sizing: border-box;top: 2em;bottom: 0;left: 50%;}#sk-79bd1089-c526-46d5-be1a-a551ab09fbe9 div.sk-parallel-item {display: flex;flex-direction: column;position: relative;background-color: white;}#sk-79bd1089-c526-46d5-be1a-a551ab09fbe9 div.sk-parallel-item:first-child::after {align-self: flex-end;width: 50%;}#sk-79bd1089-c526-46d5-be1a-a551ab09fbe9 div.sk-parallel-item:last-child::after {align-self: flex-start;width: 50%;}#sk-79bd1089-c526-46d5-be1a-a551ab09fbe9 div.sk-parallel-item:only-child::after {width: 0;}#sk-79bd1089-c526-46d5-be1a-a551ab09fbe9 div.sk-dashed-wrapped {border: 1px dashed gray;margin: 0 0.4em 0.5em 0.4em;box-sizing: border-box;padding-bottom: 0.4em;background-color: white;position: relative;}#sk-79bd1089-c526-46d5-be1a-a551ab09fbe9 div.sk-label label {font-family: monospace;font-weight: bold;background-color: white;display: inline-block;line-height: 1.2em;}#sk-79bd1089-c526-46d5-be1a-a551ab09fbe9 div.sk-label-container {position: relative;z-index: 2;text-align: center;}#sk-79bd1089-c526-46d5-be1a-a551ab09fbe9 div.sk-container {/* jupyter's `normalize.less` sets `[hidden] { display: none; }` but bootstrap.min.css set `[hidden] { display: none !important; }` so we also need the `!important` here to be able to override the default hidden behavior on the sphinx rendered scikit-learn.org. See: https://github.com/scikit-learn/scikit-learn/issues/21755 */display: inline-block !important;position: relative;}#sk-79bd1089-c526-46d5-be1a-a551ab09fbe9 div.sk-text-repr-fallback {display: none;}</style><div id=\"sk-79bd1089-c526-46d5-be1a-a551ab09fbe9\" class=\"sk-top-container\"><div class=\"sk-text-repr-fallback\"><pre>ColumnTransformer(remainder=&#x27;passthrough&#x27;,\n",
       "                  transformers=[(&#x27;num&#x27;, StandardScaler(),\n",
       "                                 [&#x27;host_total_listings_count&#x27;,\n",
       "                                  &#x27;neighbourhood_group_cleansed&#x27;, &#x27;latitude&#x27;,\n",
       "                                  &#x27;longitude&#x27;, &#x27;accommodates&#x27;, &#x27;bedrooms&#x27;,\n",
       "                                  &#x27;minimum_nights&#x27;, &#x27;maximum_nights&#x27;,\n",
       "                                  &#x27;minimum_nights_avg_ntm&#x27;,\n",
       "                                  &#x27;maximum_nights_avg_ntm&#x27;, &#x27;number_of_reviews&#x27;,\n",
       "                                  &#x27;number_of_reviews_ltm&#x27;,\n",
       "                                  &#x27;number_of_reviews_l30d&#x27;,\n",
       "                                  &#x27;review_...\n",
       "                                  &#x27;review_scores_value&#x27;, &#x27;reviews_per_month&#x27;,\n",
       "                                  &#x27;bathroom_num&#x27;, &#x27;amenities_wifi&#x27;,\n",
       "                                  &#x27;amenities_essentials&#x27;,\n",
       "                                  &#x27;amenities_smokealarm&#x27;, &#x27;amenities_heating&#x27;,\n",
       "                                  &#x27;amenities_kitchen&#x27;, &#x27;amenities_hangers&#x27;,\n",
       "                                  &#x27;amenities_longtermstaysallowed&#x27;,\n",
       "                                  &#x27;amenities_iron&#x27;, ...]),\n",
       "                                (&#x27;cat&#x27;,\n",
       "                                 Pipeline(steps=[(&#x27;ohe&#x27;,\n",
       "                                                  OneHotEncoder(handle_unknown=&#x27;ignore&#x27;))]),\n",
       "                                 [&#x27;bathroom_sharing&#x27;, &#x27;station&#x27;, &#x27;room_type&#x27;])])</pre><b>Please rerun this cell to show the HTML repr or trust the notebook.</b></div><div class=\"sk-container\" hidden><div class=\"sk-item sk-dashed-wrapped\"><div class=\"sk-label-container\"><div class=\"sk-label sk-toggleable\"><input class=\"sk-toggleable__control sk-hidden--visually\" id=\"877498df-92de-48e3-8757-a318c57e8a9e\" type=\"checkbox\" ><label for=\"877498df-92de-48e3-8757-a318c57e8a9e\" class=\"sk-toggleable__label sk-toggleable__label-arrow\">ColumnTransformer</label><div class=\"sk-toggleable__content\"><pre>ColumnTransformer(remainder=&#x27;passthrough&#x27;,\n",
       "                  transformers=[(&#x27;num&#x27;, StandardScaler(),\n",
       "                                 [&#x27;host_total_listings_count&#x27;,\n",
       "                                  &#x27;neighbourhood_group_cleansed&#x27;, &#x27;latitude&#x27;,\n",
       "                                  &#x27;longitude&#x27;, &#x27;accommodates&#x27;, &#x27;bedrooms&#x27;,\n",
       "                                  &#x27;minimum_nights&#x27;, &#x27;maximum_nights&#x27;,\n",
       "                                  &#x27;minimum_nights_avg_ntm&#x27;,\n",
       "                                  &#x27;maximum_nights_avg_ntm&#x27;, &#x27;number_of_reviews&#x27;,\n",
       "                                  &#x27;number_of_reviews_ltm&#x27;,\n",
       "                                  &#x27;number_of_reviews_l30d&#x27;,\n",
       "                                  &#x27;review_...\n",
       "                                  &#x27;review_scores_value&#x27;, &#x27;reviews_per_month&#x27;,\n",
       "                                  &#x27;bathroom_num&#x27;, &#x27;amenities_wifi&#x27;,\n",
       "                                  &#x27;amenities_essentials&#x27;,\n",
       "                                  &#x27;amenities_smokealarm&#x27;, &#x27;amenities_heating&#x27;,\n",
       "                                  &#x27;amenities_kitchen&#x27;, &#x27;amenities_hangers&#x27;,\n",
       "                                  &#x27;amenities_longtermstaysallowed&#x27;,\n",
       "                                  &#x27;amenities_iron&#x27;, ...]),\n",
       "                                (&#x27;cat&#x27;,\n",
       "                                 Pipeline(steps=[(&#x27;ohe&#x27;,\n",
       "                                                  OneHotEncoder(handle_unknown=&#x27;ignore&#x27;))]),\n",
       "                                 [&#x27;bathroom_sharing&#x27;, &#x27;station&#x27;, &#x27;room_type&#x27;])])</pre></div></div></div><div class=\"sk-parallel\"><div class=\"sk-parallel-item\"><div class=\"sk-item\"><div class=\"sk-label-container\"><div class=\"sk-label sk-toggleable\"><input class=\"sk-toggleable__control sk-hidden--visually\" id=\"8b744293-7341-4b12-b00d-51fb1da80e1c\" type=\"checkbox\" ><label for=\"8b744293-7341-4b12-b00d-51fb1da80e1c\" class=\"sk-toggleable__label sk-toggleable__label-arrow\">num</label><div class=\"sk-toggleable__content\"><pre>[&#x27;host_total_listings_count&#x27;, &#x27;neighbourhood_group_cleansed&#x27;, &#x27;latitude&#x27;, &#x27;longitude&#x27;, &#x27;accommodates&#x27;, &#x27;bedrooms&#x27;, &#x27;minimum_nights&#x27;, &#x27;maximum_nights&#x27;, &#x27;minimum_nights_avg_ntm&#x27;, &#x27;maximum_nights_avg_ntm&#x27;, &#x27;number_of_reviews&#x27;, &#x27;number_of_reviews_ltm&#x27;, &#x27;number_of_reviews_l30d&#x27;, &#x27;review_scores_rating&#x27;, &#x27;review_scores_accuracy&#x27;, &#x27;review_scores_cleanliness&#x27;, &#x27;review_scores_checkin&#x27;, &#x27;review_scores_communication&#x27;, &#x27;review_scores_location&#x27;, &#x27;review_scores_value&#x27;, &#x27;reviews_per_month&#x27;, &#x27;bathroom_num&#x27;, &#x27;amenities_wifi&#x27;, &#x27;amenities_essentials&#x27;, &#x27;amenities_smokealarm&#x27;, &#x27;amenities_heating&#x27;, &#x27;amenities_kitchen&#x27;, &#x27;amenities_hangers&#x27;, &#x27;amenities_longtermstaysallowed&#x27;, &#x27;amenities_iron&#x27;, &#x27;amenities_washer&#x27;, &#x27;amenities_hairdryer&#x27;, &#x27;amenities_hotwater&#x27;, &#x27;amenities_shampoo&#x27;, &#x27;amenities_carbonmonoxidealarm&#x27;, &#x27;amenities_dedicatedworkspace&#x27;, &#x27;amenities_dishesandsilverware&#x27;, &#x27;amenities_cookingbasics&#x27;, &#x27;amenities_refrigerator&#x27;, &#x27;amenities_bedlinens&#x27;, &#x27;amenities_tv&#x27;, &#x27;amenities_microwave&#x27;, &#x27;amenities_oven&#x27;, &#x27;amenities_stove&#x27;, &#x27;amenities_dryer&#x27;, &#x27;amenities_firstaidkit&#x27;, &#x27;amenities_fireextinguisher&#x27;, &#x27;amenities_coffeemaker&#x27;, &#x27;amenities_dishwasher&#x27;, &#x27;amenities_privateentrance&#x27;, &#x27;amenities_extrapillowsandblankets&#x27;, &#x27;amenities_luggagedropoffallowed&#x27;, &#x27;amenities_hostgreetsyou&#x27;, &#x27;amenities_lockbox&#x27;, &#x27;amenities_bathtub&#x27;, &#x27;amenities_elevator&#x27;, &#x27;amenities_freeparkingonpremises&#x27;, &#x27;amenities_showergel&#x27;, &#x27;amenities_paidparkingoffpremises&#x27;, &#x27;amenities_hotwaterkettle&#x27;, &#x27;amenities_backyard&#x27;, &#x27;amenities_freestreetparking&#x27;, &#x27;amenities_lockonbedroomdoor&#x27;, &#x27;amenities_cabletv&#x27;, &#x27;amenities_patioorbalcony&#x27;, &#x27;amenities_freezer&#x27;, &#x27;amenities_tvwithstandardcable&#x27;, &#x27;amenities_cleaningproducts&#x27;, &#x27;amenities_toaster&#x27;, &#x27;amenities_diningtable&#x27;, &#x27;amenities_wineglasses&#x27;, &#x27;amenities_roomdarkeningshades&#x27;, &#x27;amenities_bodysoap&#x27;, &#x27;amenities_breakfast&#x27;, &#x27;amenities_dryingrackforclothing&#x27;, &#x27;amenities_singlelevelhome&#x27;, &#x27;amenities_securitycamerasonproperty&#x27;, &#x27;amenities_conditioner&#x27;, &#x27;amenities_indoorfireplace&#x27;, &#x27;amenities_portablefans&#x27;, &#x27;amenities_ethernetconnection&#x27;, &#x27;amenities_outdoorfurniture&#x27;, &#x27;amenities_laundromatnearby&#x27;, &#x27;amenities_packnplaytravelcrib&#x27;, &#x27;amenities_crib&#x27;, &#x27;amenities_airconditioning&#x27;, &#x27;amenities_highchair&#x27;, &#x27;amenities_bakingsheet&#x27;, &#x27;amenities_bbqgrill&#x27;, &#x27;amenities_paidparkingonpremises&#x27;, &#x27;amenities_privatepatioorbalcony&#x27;, &#x27;amenities_centralheating&#x27;, &#x27;amenities_outdoordiningarea&#x27;, &#x27;amenities_childrensbooksandtoys&#x27;, &#x27;amenities_cleaningbeforecheckout&#x27;, &#x27;amenities_clothingstorage&#x27;, &#x27;amenities_clothingstoragecloset&#x27;, &#x27;amenities_minifridge&#x27;, &#x27;amenities_privatefencedgardenorbackyard&#x27;, &#x27;amenities_buildingstaff&#x27;, &#x27;amenities_paidstreetparkingoffpremises&#x27;, &#x27;amenities_nespressomachine&#x27;, &#x27;host_duration&#x27;, &#x27;properties&#x27;, &#x27;occ_30D&#x27;, &#x27;occ_6090D&#x27;, &#x27;occ_365&#x27;, &#x27;station_dist&#x27;, &#x27;walking_distance&#x27;, &#x27;comments_len&#x27;, &#x27;neutral&#x27;, &#x27;negative&#x27;, &#x27;positive&#x27;]</pre></div></div></div><div class=\"sk-serial\"><div class=\"sk-item\"><div class=\"sk-estimator sk-toggleable\"><input class=\"sk-toggleable__control sk-hidden--visually\" id=\"5d4be2cb-bde0-4e51-b90a-da6f3d43b516\" type=\"checkbox\" ><label for=\"5d4be2cb-bde0-4e51-b90a-da6f3d43b516\" class=\"sk-toggleable__label sk-toggleable__label-arrow\">StandardScaler</label><div class=\"sk-toggleable__content\"><pre>StandardScaler()</pre></div></div></div></div></div></div><div class=\"sk-parallel-item\"><div class=\"sk-item\"><div class=\"sk-label-container\"><div class=\"sk-label sk-toggleable\"><input class=\"sk-toggleable__control sk-hidden--visually\" id=\"b28b3602-8de3-4266-bcee-ac54ad3cd70f\" type=\"checkbox\" ><label for=\"b28b3602-8de3-4266-bcee-ac54ad3cd70f\" class=\"sk-toggleable__label sk-toggleable__label-arrow\">cat</label><div class=\"sk-toggleable__content\"><pre>[&#x27;bathroom_sharing&#x27;, &#x27;station&#x27;, &#x27;room_type&#x27;]</pre></div></div></div><div class=\"sk-serial\"><div class=\"sk-item\"><div class=\"sk-serial\"><div class=\"sk-item\"><div class=\"sk-estimator sk-toggleable\"><input class=\"sk-toggleable__control sk-hidden--visually\" id=\"11b6e9fb-50d0-4d3c-b6ab-9efea6a27184\" type=\"checkbox\" ><label for=\"11b6e9fb-50d0-4d3c-b6ab-9efea6a27184\" class=\"sk-toggleable__label sk-toggleable__label-arrow\">OneHotEncoder</label><div class=\"sk-toggleable__content\"><pre>OneHotEncoder(handle_unknown=&#x27;ignore&#x27;)</pre></div></div></div></div></div></div></div></div><div class=\"sk-parallel-item\"><div class=\"sk-item\"><div class=\"sk-label-container\"><div class=\"sk-label sk-toggleable\"><input class=\"sk-toggleable__control sk-hidden--visually\" id=\"d12b1b8d-f4d1-4972-9471-620181a84e8a\" type=\"checkbox\" ><label for=\"d12b1b8d-f4d1-4972-9471-620181a84e8a\" class=\"sk-toggleable__label sk-toggleable__label-arrow\">remainder</label><div class=\"sk-toggleable__content\"><pre></pre></div></div></div><div class=\"sk-serial\"><div class=\"sk-item\"><div class=\"sk-estimator sk-toggleable\"><input class=\"sk-toggleable__control sk-hidden--visually\" id=\"17c38ad1-c611-4556-8e1b-2c0e0c478974\" type=\"checkbox\" ><label for=\"17c38ad1-c611-4556-8e1b-2c0e0c478974\" class=\"sk-toggleable__label sk-toggleable__label-arrow\">passthrough</label><div class=\"sk-toggleable__content\"><pre>passthrough</pre></div></div></div></div></div></div></div></div></div></div>"
      ],
      "text/plain": [
       "ColumnTransformer(remainder='passthrough',\n",
       "                  transformers=[('num', StandardScaler(),\n",
       "                                 ['host_total_listings_count',\n",
       "                                  'neighbourhood_group_cleansed', 'latitude',\n",
       "                                  'longitude', 'accommodates', 'bedrooms',\n",
       "                                  'minimum_nights', 'maximum_nights',\n",
       "                                  'minimum_nights_avg_ntm',\n",
       "                                  'maximum_nights_avg_ntm', 'number_of_reviews',\n",
       "                                  'number_of_reviews_ltm',\n",
       "                                  'number_of_reviews_l30d',\n",
       "                                  'review_...\n",
       "                                  'review_scores_value', 'reviews_per_month',\n",
       "                                  'bathroom_num', 'amenities_wifi',\n",
       "                                  'amenities_essentials',\n",
       "                                  'amenities_smokealarm', 'amenities_heating',\n",
       "                                  'amenities_kitchen', 'amenities_hangers',\n",
       "                                  'amenities_longtermstaysallowed',\n",
       "                                  'amenities_iron', ...]),\n",
       "                                ('cat',\n",
       "                                 Pipeline(steps=[('ohe',\n",
       "                                                  OneHotEncoder(handle_unknown='ignore'))]),\n",
       "                                 ['bathroom_sharing', 'station', 'room_type'])])"
      ]
     },
     "execution_count": 61,
     "metadata": {},
     "output_type": "execute_result"
    }
   ],
   "source": [
    "# Preprocess\n",
    "preprocessor = ColumnTransformer(\n",
    "    transformers=[\n",
    "        ('num', StandardScaler(), num_cols ),\n",
    "        (\"cat\", Pipeline([('ohe', OneHotEncoder(handle_unknown='ignore'))]), cat_cols),\n",
    "    ]\n",
    "    , remainder='passthrough'\n",
    ")\n",
    "\n",
    "preprocessor"
   ]
  },
  {
   "cell_type": "markdown",
   "id": "a03e1953-f316-49cc-ac1c-481ccb958eca",
   "metadata": {
    "id": "a03e1953-f316-49cc-ac1c-481ccb958eca",
    "jp-MarkdownHeadingCollapsed": true,
    "tags": []
   },
   "source": [
    "## Linear Regression (Baseline)"
   ]
  },
  {
   "cell_type": "code",
   "execution_count": 75,
   "id": "3364bf15-08af-4764-b58c-819e9d2219d0",
   "metadata": {
    "id": "3364bf15-08af-4764-b58c-819e9d2219d0",
    "outputId": "00a8b2fa-ac8e-43fd-d5b3-71aa8b144031"
   },
   "outputs": [
    {
     "name": "stderr",
     "output_type": "stream",
     "text": [
      "[Parallel(n_jobs=2)]: Using backend LokyBackend with 2 concurrent workers.\n",
      "[Parallel(n_jobs=2)]: Done   5 out of   5 | elapsed:   13.0s finished\n"
     ]
    },
    {
     "name": "stdout",
     "output_type": "stream",
     "text": [
      "Train R-sq 0.7349\n",
      "Train MSE: 0.1636\n",
      "\n",
      "CV R-sq 0.7161\n",
      "CV MSE: 0.1753\n",
      "\n",
      "Test R-sq 0.7048\n",
      "Test MSE: 0.1853\n"
     ]
    }
   ],
   "source": [
    "# Pipeline for One-Hot Encoding\n",
    "\n",
    "linreg_pipe = Pipeline([('preprocess', preprocessor),\n",
    "                    ('regressor', LinearRegression())\n",
    "                   ])\n",
    "\n",
    "linreg_model = fit_and_score(model = linreg_pipe, \n",
    "                             X_train = X_train, \n",
    "                             X_test = X_test,\n",
    "                             y_train = y_train,\n",
    "                             y_test = y_test)"
   ]
  },
  {
   "cell_type": "markdown",
   "id": "de1b9f1c",
   "metadata": {},
   "source": [
    "## Neural Network"
   ]
  },
  {
   "cell_type": "code",
   "execution_count": 70,
   "id": "9aaa3ff5",
   "metadata": {},
   "outputs": [],
   "source": [
    "X_train_trfm = X_train.drop(['station'],axis=1)\n",
    "X_test_trfm = X_test.drop(['station'],axis=1)\n",
    "\n",
    "X_train_trfm = pd.get_dummies(X_train_trfm, columns=['bathroom_sharing', 'room_type'])\n",
    "X_test_trfm = pd.get_dummies(X_test_trfm, columns=['bathroom_sharing', 'room_type'])\n",
    "\n",
    "stdscaler = StandardScaler()\n",
    "X_train_trfm = stdscaler.fit_transform(X_train_trfm)\n",
    "X_test_trfm = stdscaler.transform(X_test_trfm)\n",
    "\n",
    "X_train_trfm = pd.DataFrame(X_train_trfm)\n",
    "X_train_trfm = X_train_trfm.set_axis(X_train_trfm.columns, axis=1, inplace=False)\n",
    "X_test_trfm = pd.DataFrame(X_test_trfm)\n",
    "X_test_trfm = X_test_trfm.set_axis(X_test_trfm.columns, axis=1, inplace=False)"
   ]
  },
  {
   "cell_type": "code",
   "execution_count": 71,
   "id": "a4f229d2",
   "metadata": {},
   "outputs": [],
   "source": [
    "def rmse(y_true, y_pred):\n",
    "    return backend.sqrt(backend.mean(backend.square(y_pred - y_true), axis=-1))\n",
    "\n",
    "def r2(y_true, y_pred):\n",
    "    SS_res =  backend.sum(backend.square( y_true-y_pred )) \n",
    "    SS_tot = backend.sum(backend.square( y_true - backend.mean(y_true) ) ) \n",
    "    return ( 1 - SS_res/(SS_tot + backend.epsilon()) )"
   ]
  },
  {
   "cell_type": "code",
   "execution_count": 74,
   "id": "ed15da43",
   "metadata": {},
   "outputs": [
    {
     "data": {
      "text/plain": [
       "(26408, 120)"
      ]
     },
     "execution_count": 74,
     "metadata": {},
     "output_type": "execute_result"
    }
   ],
   "source": [
    "X_train_trfm.shape"
   ]
  },
  {
   "cell_type": "markdown",
   "id": "4ce89242",
   "metadata": {},
   "source": [
    "### Baseline NN"
   ]
  },
  {
   "cell_type": "code",
   "execution_count": 84,
   "id": "f33817b6",
   "metadata": {},
   "outputs": [
    {
     "name": "stdout",
     "output_type": "stream",
     "text": [
      "Model: \"sequential_4\"\n",
      "_________________________________________________________________\n",
      " Layer (type)                Output Shape              Param #   \n",
      "=================================================================\n",
      " dense_8 (Dense)             (None, 120)               14520     \n",
      "                                                                 \n",
      " dense_9 (Dense)             (None, 1)                 121       \n",
      "                                                                 \n",
      "=================================================================\n",
      "Total params: 14,641\n",
      "Trainable params: 14,641\n",
      "Non-trainable params: 0\n",
      "_________________________________________________________________\n"
     ]
    }
   ],
   "source": [
    "# define base model\n",
    "def baseline_model():\n",
    "    # create model\n",
    "    model = Sequential()\n",
    "    model.add(Dense(120, input_dim=120, kernel_initializer='he_normal', activation='relu'))\n",
    "    model.add(Dense(1, kernel_initializer='he_normal'))\n",
    "    # Compile model\n",
    "    model.compile(loss='mean_squared_error', optimizer='adam', metrics=[rmse,r2])\n",
    "    return model\n",
    "model_bl = baseline_model()\n",
    "model_bl.summary()"
   ]
  },
  {
   "cell_type": "code",
   "execution_count": 85,
   "id": "87af2520",
   "metadata": {},
   "outputs": [
    {
     "name": "stdout",
     "output_type": "stream",
     "text": [
      "Epoch 1/100\n",
      "784/784 [==============================] - 2s 2ms/step - loss: 1.0853 - rmse: 0.6734 - r2: -1.0614 - val_loss: 0.3249 - val_rmse: 0.4356 - val_r2: 0.3644\n",
      "Epoch 2/100\n",
      "784/784 [==============================] - 1s 1ms/step - loss: 0.2869 - rmse: 0.3992 - r2: 0.4996 - val_loss: 0.2709 - val_rmse: 0.3895 - val_r2: 0.4801\n",
      "Epoch 3/100\n",
      "784/784 [==============================] - 1s 1ms/step - loss: 0.2232 - rmse: 0.3505 - r2: 0.6117 - val_loss: 0.2219 - val_rmse: 0.3560 - val_r2: 0.5743\n",
      "Epoch 4/100\n",
      "784/784 [==============================] - 1s 2ms/step - loss: 0.1900 - rmse: 0.3216 - r2: 0.6717 - val_loss: 0.2023 - val_rmse: 0.3325 - val_r2: 0.6141\n",
      "Epoch 5/100\n",
      "784/784 [==============================] - 1s 2ms/step - loss: 0.1741 - rmse: 0.3071 - r2: 0.7029 - val_loss: 0.1931 - val_rmse: 0.3283 - val_r2: 0.6345\n",
      "Epoch 6/100\n",
      "784/784 [==============================] - 1s 1ms/step - loss: 0.1632 - rmse: 0.2968 - r2: 0.7202 - val_loss: 0.1856 - val_rmse: 0.3166 - val_r2: 0.6455\n",
      "Epoch 7/100\n",
      "784/784 [==============================] - 1s 1ms/step - loss: 0.1528 - rmse: 0.2869 - r2: 0.7379 - val_loss: 0.1903 - val_rmse: 0.3173 - val_r2: 0.6465\n",
      "Epoch 8/100\n",
      "784/784 [==============================] - 1s 1ms/step - loss: 0.1458 - rmse: 0.2808 - r2: 0.7482 - val_loss: 0.1766 - val_rmse: 0.3127 - val_r2: 0.6711\n",
      "Epoch 9/100\n",
      "784/784 [==============================] - 1s 2ms/step - loss: 0.1414 - rmse: 0.2756 - r2: 0.7544 - val_loss: 0.1748 - val_rmse: 0.3118 - val_r2: 0.6722\n",
      "Epoch 10/100\n",
      "784/784 [==============================] - 1s 2ms/step - loss: 0.1363 - rmse: 0.2720 - r2: 0.7662 - val_loss: 0.1701 - val_rmse: 0.3090 - val_r2: 0.6762\n",
      "Epoch 11/100\n",
      "784/784 [==============================] - 1s 2ms/step - loss: 0.1315 - rmse: 0.2663 - r2: 0.7722 - val_loss: 0.1700 - val_rmse: 0.3114 - val_r2: 0.6723\n",
      "Epoch 12/100\n",
      "784/784 [==============================] - 1s 2ms/step - loss: 0.1281 - rmse: 0.2636 - r2: 0.7790 - val_loss: 0.1687 - val_rmse: 0.3062 - val_r2: 0.6780\n",
      "Epoch 13/100\n",
      "784/784 [==============================] - 1s 2ms/step - loss: 0.1265 - rmse: 0.2607 - r2: 0.7834 - val_loss: 0.1625 - val_rmse: 0.3027 - val_r2: 0.6949\n",
      "Epoch 14/100\n",
      "784/784 [==============================] - 1s 2ms/step - loss: 0.1242 - rmse: 0.2592 - r2: 0.7854 - val_loss: 0.1656 - val_rmse: 0.3043 - val_r2: 0.6894\n",
      "Epoch 15/100\n",
      "784/784 [==============================] - 1s 2ms/step - loss: 0.1217 - rmse: 0.2570 - r2: 0.7893 - val_loss: 0.1722 - val_rmse: 0.3122 - val_r2: 0.6732\n",
      "Epoch 16/100\n",
      "784/784 [==============================] - 1s 2ms/step - loss: 0.1180 - rmse: 0.2522 - r2: 0.7956 - val_loss: 0.1595 - val_rmse: 0.2976 - val_r2: 0.6988\n",
      "Epoch 17/100\n",
      "784/784 [==============================] - 1s 2ms/step - loss: 0.1148 - rmse: 0.2491 - r2: 0.8011 - val_loss: 0.1675 - val_rmse: 0.3052 - val_r2: 0.6856\n",
      "Epoch 18/100\n",
      "784/784 [==============================] - 1s 1ms/step - loss: 0.1174 - rmse: 0.2510 - r2: 0.7954 - val_loss: 0.1679 - val_rmse: 0.3087 - val_r2: 0.6831\n",
      "Epoch 19/100\n",
      "784/784 [==============================] - 1s 2ms/step - loss: 0.1127 - rmse: 0.2470 - r2: 0.8064 - val_loss: 0.1610 - val_rmse: 0.2989 - val_r2: 0.6989\n",
      "Epoch 20/100\n",
      "784/784 [==============================] - 1s 1ms/step - loss: 0.1126 - rmse: 0.2464 - r2: 0.8044 - val_loss: 0.1739 - val_rmse: 0.3106 - val_r2: 0.6725\n",
      "Epoch 21/100\n",
      "784/784 [==============================] - 1s 2ms/step - loss: 0.1103 - rmse: 0.2441 - r2: 0.8086 - val_loss: 0.1643 - val_rmse: 0.3020 - val_r2: 0.6883\n",
      "Epoch 22/100\n",
      "784/784 [==============================] - 1s 1ms/step - loss: 0.1075 - rmse: 0.2410 - r2: 0.8148 - val_loss: 0.1655 - val_rmse: 0.3052 - val_r2: 0.6861\n",
      "Epoch 23/100\n",
      "784/784 [==============================] - 1s 1ms/step - loss: 0.1040 - rmse: 0.2386 - r2: 0.8209 - val_loss: 0.1680 - val_rmse: 0.3037 - val_r2: 0.6878\n",
      "Epoch 24/100\n",
      "784/784 [==============================] - 1s 1ms/step - loss: 0.1061 - rmse: 0.2396 - r2: 0.8163 - val_loss: 0.1660 - val_rmse: 0.3034 - val_r2: 0.6909\n",
      "Epoch 25/100\n",
      "784/784 [==============================] - 1s 1ms/step - loss: 0.1041 - rmse: 0.2380 - r2: 0.8199 - val_loss: 0.1696 - val_rmse: 0.3080 - val_r2: 0.6838\n",
      "Epoch 26/100\n",
      "784/784 [==============================] - 1s 1ms/step - loss: 0.1009 - rmse: 0.2354 - r2: 0.8247 - val_loss: 0.1680 - val_rmse: 0.3075 - val_r2: 0.6851\n",
      "Epoch 27/100\n",
      "784/784 [==============================] - 1s 2ms/step - loss: 0.1005 - rmse: 0.2347 - r2: 0.8253 - val_loss: 0.1663 - val_rmse: 0.3053 - val_r2: 0.6873\n",
      "Epoch 28/100\n",
      "784/784 [==============================] - 1s 2ms/step - loss: 0.0991 - rmse: 0.2338 - r2: 0.8265 - val_loss: 0.1698 - val_rmse: 0.3092 - val_r2: 0.6807\n",
      "Epoch 29/100\n",
      "784/784 [==============================] - 1s 2ms/step - loss: 0.1002 - rmse: 0.2325 - r2: 0.8257 - val_loss: 0.1675 - val_rmse: 0.3058 - val_r2: 0.6852\n",
      "Epoch 30/100\n",
      "784/784 [==============================] - 1s 2ms/step - loss: 0.0987 - rmse: 0.2321 - r2: 0.8287 - val_loss: 0.1576 - val_rmse: 0.2967 - val_r2: 0.7027\n",
      "Epoch 31/100\n",
      "784/784 [==============================] - 1s 1ms/step - loss: 0.0962 - rmse: 0.2284 - r2: 0.8328 - val_loss: 0.1895 - val_rmse: 0.3282 - val_r2: 0.6353\n",
      "Epoch 32/100\n",
      "784/784 [==============================] - 1s 2ms/step - loss: 0.0998 - rmse: 0.2336 - r2: 0.8271 - val_loss: 0.1665 - val_rmse: 0.3042 - val_r2: 0.6907\n",
      "Epoch 33/100\n",
      "784/784 [==============================] - 1s 2ms/step - loss: 0.0956 - rmse: 0.2288 - r2: 0.8341 - val_loss: 0.1653 - val_rmse: 0.3044 - val_r2: 0.6899\n",
      "Epoch 34/100\n",
      "784/784 [==============================] - 1s 2ms/step - loss: 0.0936 - rmse: 0.2267 - r2: 0.8380 - val_loss: 0.1713 - val_rmse: 0.3104 - val_r2: 0.6797\n",
      "Epoch 35/100\n",
      "784/784 [==============================] - 1s 2ms/step - loss: 0.0935 - rmse: 0.2277 - r2: 0.8370 - val_loss: 0.1685 - val_rmse: 0.3114 - val_r2: 0.6857\n",
      "Epoch 36/100\n",
      "784/784 [==============================] - 1s 2ms/step - loss: 0.0934 - rmse: 0.2271 - r2: 0.8373 - val_loss: 0.1654 - val_rmse: 0.3034 - val_r2: 0.6916\n",
      "Epoch 37/100\n",
      "784/784 [==============================] - 1s 2ms/step - loss: 0.0939 - rmse: 0.2263 - r2: 0.8368 - val_loss: 0.1646 - val_rmse: 0.3034 - val_r2: 0.6893\n",
      "Epoch 38/100\n",
      "784/784 [==============================] - 1s 2ms/step - loss: 0.0935 - rmse: 0.2258 - r2: 0.8363 - val_loss: 0.1690 - val_rmse: 0.3065 - val_r2: 0.6803\n",
      "Epoch 39/100\n",
      "784/784 [==============================] - 1s 2ms/step - loss: 0.0913 - rmse: 0.2235 - r2: 0.8413 - val_loss: 0.1669 - val_rmse: 0.3061 - val_r2: 0.6840\n",
      "Epoch 40/100\n",
      "784/784 [==============================] - 1s 2ms/step - loss: 0.0901 - rmse: 0.2223 - r2: 0.8423 - val_loss: 0.1757 - val_rmse: 0.3134 - val_r2: 0.6642\n",
      "Epoch 41/100\n",
      "784/784 [==============================] - 1s 2ms/step - loss: 0.0886 - rmse: 0.2212 - r2: 0.8464 - val_loss: 0.1774 - val_rmse: 0.3190 - val_r2: 0.6658\n",
      "Epoch 42/100\n",
      "784/784 [==============================] - 1s 2ms/step - loss: 0.0890 - rmse: 0.2218 - r2: 0.8457 - val_loss: 0.1696 - val_rmse: 0.3075 - val_r2: 0.6816\n",
      "Epoch 43/100\n",
      "784/784 [==============================] - 1s 2ms/step - loss: 0.0878 - rmse: 0.2207 - r2: 0.8478 - val_loss: 0.1754 - val_rmse: 0.3134 - val_r2: 0.6725\n",
      "Epoch 44/100\n",
      "784/784 [==============================] - 1s 2ms/step - loss: 0.0870 - rmse: 0.2200 - r2: 0.8482 - val_loss: 0.1795 - val_rmse: 0.3212 - val_r2: 0.6620\n",
      "Epoch 45/100\n",
      "784/784 [==============================] - 1s 1ms/step - loss: 0.0860 - rmse: 0.2181 - r2: 0.8489 - val_loss: 0.1714 - val_rmse: 0.3100 - val_r2: 0.6762\n",
      "Epoch 46/100\n",
      "784/784 [==============================] - 1s 2ms/step - loss: 0.0862 - rmse: 0.2177 - r2: 0.8519 - val_loss: 0.1800 - val_rmse: 0.3102 - val_r2: 0.6654\n",
      "Epoch 47/100\n",
      "784/784 [==============================] - 1s 2ms/step - loss: 0.0866 - rmse: 0.2192 - r2: 0.8486 - val_loss: 0.1809 - val_rmse: 0.3184 - val_r2: 0.6606\n",
      "Epoch 48/100\n",
      "784/784 [==============================] - 1s 2ms/step - loss: 0.0862 - rmse: 0.2177 - r2: 0.8506 - val_loss: 0.1797 - val_rmse: 0.3213 - val_r2: 0.6643\n",
      "Epoch 49/100\n",
      "784/784 [==============================] - 1s 2ms/step - loss: 0.0878 - rmse: 0.2185 - r2: 0.8450 - val_loss: 0.1741 - val_rmse: 0.3157 - val_r2: 0.6714\n",
      "Epoch 50/100\n"
     ]
    },
    {
     "name": "stdout",
     "output_type": "stream",
     "text": [
      "784/784 [==============================] - 1s 1ms/step - loss: 0.0850 - rmse: 0.2165 - r2: 0.8500 - val_loss: 0.1746 - val_rmse: 0.3124 - val_r2: 0.6759\n",
      "Epoch 51/100\n",
      "784/784 [==============================] - 1s 1ms/step - loss: 0.0840 - rmse: 0.2157 - r2: 0.8540 - val_loss: 0.1814 - val_rmse: 0.3189 - val_r2: 0.6595\n",
      "Epoch 52/100\n",
      "784/784 [==============================] - 1s 2ms/step - loss: 0.0835 - rmse: 0.2156 - r2: 0.8536 - val_loss: 0.1743 - val_rmse: 0.3098 - val_r2: 0.6741\n",
      "Epoch 53/100\n",
      "784/784 [==============================] - 1s 2ms/step - loss: 0.0838 - rmse: 0.2150 - r2: 0.8533 - val_loss: 0.1839 - val_rmse: 0.3223 - val_r2: 0.6535\n",
      "Epoch 54/100\n",
      "784/784 [==============================] - 2s 2ms/step - loss: 0.0829 - rmse: 0.2133 - r2: 0.8556 - val_loss: 0.1772 - val_rmse: 0.3180 - val_r2: 0.6644\n",
      "Epoch 55/100\n",
      "784/784 [==============================] - 2s 2ms/step - loss: 0.0810 - rmse: 0.2124 - r2: 0.8583 - val_loss: 0.1836 - val_rmse: 0.3226 - val_r2: 0.6597\n",
      "Epoch 56/100\n",
      "784/784 [==============================] - 1s 1ms/step - loss: 0.0820 - rmse: 0.2139 - r2: 0.8571 - val_loss: 0.1765 - val_rmse: 0.3150 - val_r2: 0.6691\n",
      "Epoch 57/100\n",
      "784/784 [==============================] - 1s 2ms/step - loss: 0.0834 - rmse: 0.2138 - r2: 0.8536 - val_loss: 0.1790 - val_rmse: 0.3203 - val_r2: 0.6618\n",
      "Epoch 58/100\n",
      "784/784 [==============================] - 1s 1ms/step - loss: 0.0822 - rmse: 0.2123 - r2: 0.8553 - val_loss: 0.1840 - val_rmse: 0.3215 - val_r2: 0.6516\n",
      "Epoch 59/100\n",
      "784/784 [==============================] - 1s 2ms/step - loss: 0.0824 - rmse: 0.2125 - r2: 0.8551 - val_loss: 0.1804 - val_rmse: 0.3175 - val_r2: 0.6650\n",
      "Epoch 60/100\n",
      "784/784 [==============================] - 1s 2ms/step - loss: 0.0819 - rmse: 0.2124 - r2: 0.8578 - val_loss: 0.1831 - val_rmse: 0.3174 - val_r2: 0.6604\n",
      "Epoch 61/100\n",
      "784/784 [==============================] - 1s 2ms/step - loss: 0.0799 - rmse: 0.2098 - r2: 0.8605 - val_loss: 0.1949 - val_rmse: 0.3337 - val_r2: 0.6371\n",
      "Epoch 62/100\n",
      "784/784 [==============================] - 1s 2ms/step - loss: 0.0809 - rmse: 0.2120 - r2: 0.8591 - val_loss: 0.1819 - val_rmse: 0.3231 - val_r2: 0.6582\n",
      "Epoch 63/100\n",
      "784/784 [==============================] - 1s 2ms/step - loss: 0.0808 - rmse: 0.2110 - r2: 0.8581 - val_loss: 0.1891 - val_rmse: 0.3245 - val_r2: 0.6409\n",
      "Epoch 64/100\n",
      "784/784 [==============================] - 2s 2ms/step - loss: 0.0796 - rmse: 0.2110 - r2: 0.8609 - val_loss: 0.1799 - val_rmse: 0.3156 - val_r2: 0.6632\n",
      "Epoch 65/100\n",
      "784/784 [==============================] - 2s 2ms/step - loss: 0.0793 - rmse: 0.2098 - r2: 0.8619 - val_loss: 0.1813 - val_rmse: 0.3171 - val_r2: 0.6598\n",
      "Epoch 66/100\n",
      "784/784 [==============================] - 2s 2ms/step - loss: 0.0778 - rmse: 0.2071 - r2: 0.8641 - val_loss: 0.1925 - val_rmse: 0.3350 - val_r2: 0.6379\n",
      "Epoch 67/100\n",
      "784/784 [==============================] - 1s 2ms/step - loss: 0.0809 - rmse: 0.2103 - r2: 0.8582 - val_loss: 0.1826 - val_rmse: 0.3218 - val_r2: 0.6588\n",
      "Epoch 68/100\n",
      "784/784 [==============================] - 1s 2ms/step - loss: 0.0785 - rmse: 0.2080 - r2: 0.8631 - val_loss: 0.1846 - val_rmse: 0.3226 - val_r2: 0.6537\n",
      "Epoch 69/100\n",
      "784/784 [==============================] - 1s 2ms/step - loss: 0.0783 - rmse: 0.2077 - r2: 0.8621 - val_loss: 0.1828 - val_rmse: 0.3170 - val_r2: 0.6581\n",
      "Epoch 70/100\n",
      "784/784 [==============================] - 1s 2ms/step - loss: 0.0756 - rmse: 0.2048 - r2: 0.8676 - val_loss: 0.1899 - val_rmse: 0.3280 - val_r2: 0.6429\n",
      "Epoch 71/100\n",
      "784/784 [==============================] - 2s 2ms/step - loss: 0.0754 - rmse: 0.2057 - r2: 0.8681 - val_loss: 0.1858 - val_rmse: 0.3250 - val_r2: 0.6480\n",
      "Epoch 72/100\n",
      "784/784 [==============================] - 2s 2ms/step - loss: 0.0751 - rmse: 0.2057 - r2: 0.8686 - val_loss: 0.1891 - val_rmse: 0.3276 - val_r2: 0.6472\n",
      "Epoch 73/100\n",
      "784/784 [==============================] - 2s 2ms/step - loss: 0.0753 - rmse: 0.2047 - r2: 0.8677 - val_loss: 0.1893 - val_rmse: 0.3291 - val_r2: 0.6412\n",
      "Epoch 74/100\n",
      "784/784 [==============================] - 1s 2ms/step - loss: 0.0748 - rmse: 0.2052 - r2: 0.8689 - val_loss: 0.1930 - val_rmse: 0.3309 - val_r2: 0.6413\n",
      "Epoch 75/100\n",
      "784/784 [==============================] - 1s 1ms/step - loss: 0.0748 - rmse: 0.2046 - r2: 0.8681 - val_loss: 0.2023 - val_rmse: 0.3406 - val_r2: 0.6167\n",
      "Epoch 76/100\n",
      "784/784 [==============================] - 1s 2ms/step - loss: 0.0756 - rmse: 0.2066 - r2: 0.8674 - val_loss: 0.1933 - val_rmse: 0.3244 - val_r2: 0.6394\n",
      "Epoch 77/100\n",
      "784/784 [==============================] - 1s 1ms/step - loss: 0.0745 - rmse: 0.2040 - r2: 0.8698 - val_loss: 0.1909 - val_rmse: 0.3298 - val_r2: 0.6458\n",
      "Epoch 78/100\n",
      "784/784 [==============================] - 1s 2ms/step - loss: 0.0748 - rmse: 0.2039 - r2: 0.8681 - val_loss: 0.1912 - val_rmse: 0.3259 - val_r2: 0.6408\n",
      "Epoch 79/100\n",
      "784/784 [==============================] - 1s 2ms/step - loss: 0.0747 - rmse: 0.2042 - r2: 0.8694 - val_loss: 0.1853 - val_rmse: 0.3228 - val_r2: 0.6512\n",
      "Epoch 80/100\n",
      "784/784 [==============================] - 1s 1ms/step - loss: 0.0740 - rmse: 0.2041 - r2: 0.8710 - val_loss: 0.1885 - val_rmse: 0.3255 - val_r2: 0.6472\n",
      "Epoch 81/100\n",
      "784/784 [==============================] - 1s 2ms/step - loss: 0.0756 - rmse: 0.2036 - r2: 0.8680 - val_loss: 0.1839 - val_rmse: 0.3236 - val_r2: 0.6563\n",
      "Epoch 82/100\n",
      "784/784 [==============================] - 1s 2ms/step - loss: 0.0747 - rmse: 0.2038 - r2: 0.8679 - val_loss: 0.1884 - val_rmse: 0.3302 - val_r2: 0.6468\n",
      "Epoch 83/100\n",
      "784/784 [==============================] - 1s 2ms/step - loss: 0.0726 - rmse: 0.2023 - r2: 0.8732 - val_loss: 0.1865 - val_rmse: 0.3239 - val_r2: 0.6524\n",
      "Epoch 84/100\n",
      "784/784 [==============================] - 1s 1ms/step - loss: 0.0737 - rmse: 0.2023 - r2: 0.8710 - val_loss: 0.1943 - val_rmse: 0.3298 - val_r2: 0.6379\n",
      "Epoch 85/100\n",
      "784/784 [==============================] - 1s 1ms/step - loss: 0.0740 - rmse: 0.2025 - r2: 0.8703 - val_loss: 0.1887 - val_rmse: 0.3296 - val_r2: 0.6462\n",
      "Epoch 86/100\n",
      "784/784 [==============================] - 1s 2ms/step - loss: 0.0722 - rmse: 0.2004 - r2: 0.8731 - val_loss: 0.1911 - val_rmse: 0.3264 - val_r2: 0.6411\n",
      "Epoch 87/100\n",
      "784/784 [==============================] - 1s 2ms/step - loss: 0.0720 - rmse: 0.2005 - r2: 0.8739 - val_loss: 0.1895 - val_rmse: 0.3245 - val_r2: 0.6446\n",
      "Epoch 88/100\n",
      "784/784 [==============================] - 1s 2ms/step - loss: 0.0733 - rmse: 0.2025 - r2: 0.8708 - val_loss: 0.1887 - val_rmse: 0.3290 - val_r2: 0.6422\n",
      "Epoch 89/100\n",
      "784/784 [==============================] - 1s 2ms/step - loss: 0.0719 - rmse: 0.2005 - r2: 0.8736 - val_loss: 0.1872 - val_rmse: 0.3213 - val_r2: 0.6456\n",
      "Epoch 90/100\n",
      "784/784 [==============================] - 1s 1ms/step - loss: 0.0724 - rmse: 0.2008 - r2: 0.8725 - val_loss: 0.1890 - val_rmse: 0.3238 - val_r2: 0.6425\n",
      "Epoch 91/100\n",
      "784/784 [==============================] - 1s 1ms/step - loss: 0.0717 - rmse: 0.1996 - r2: 0.8734 - val_loss: 0.2013 - val_rmse: 0.3408 - val_r2: 0.6190\n",
      "Epoch 92/100\n",
      "784/784 [==============================] - 1s 1ms/step - loss: 0.0718 - rmse: 0.1997 - r2: 0.8737 - val_loss: 0.1922 - val_rmse: 0.3300 - val_r2: 0.6364\n",
      "Epoch 93/100\n",
      "784/784 [==============================] - 1s 1ms/step - loss: 0.0731 - rmse: 0.2012 - r2: 0.8722 - val_loss: 0.1884 - val_rmse: 0.3285 - val_r2: 0.6462\n",
      "Epoch 94/100\n",
      "784/784 [==============================] - 1s 2ms/step - loss: 0.0727 - rmse: 0.2007 - r2: 0.8716 - val_loss: 0.1919 - val_rmse: 0.3237 - val_r2: 0.6414\n",
      "Epoch 95/100\n",
      "784/784 [==============================] - 1s 1ms/step - loss: 0.0727 - rmse: 0.1986 - r2: 0.8711 - val_loss: 0.1934 - val_rmse: 0.3315 - val_r2: 0.6395\n",
      "Epoch 96/100\n",
      "784/784 [==============================] - 1s 2ms/step - loss: 0.0715 - rmse: 0.1996 - r2: 0.8730 - val_loss: 0.1912 - val_rmse: 0.3288 - val_r2: 0.6434\n",
      "Epoch 97/100\n",
      "784/784 [==============================] - 1s 1ms/step - loss: 0.0697 - rmse: 0.1973 - r2: 0.8770 - val_loss: 0.1925 - val_rmse: 0.3296 - val_r2: 0.6382\n",
      "Epoch 98/100\n",
      "784/784 [==============================] - 1s 2ms/step - loss: 0.0700 - rmse: 0.1984 - r2: 0.8761 - val_loss: 0.1893 - val_rmse: 0.3292 - val_r2: 0.6458\n",
      "Epoch 99/100\n"
     ]
    },
    {
     "name": "stdout",
     "output_type": "stream",
     "text": [
      "784/784 [==============================] - 1s 1ms/step - loss: 0.0697 - rmse: 0.1980 - r2: 0.8774 - val_loss: 0.1999 - val_rmse: 0.3300 - val_r2: 0.6218\n",
      "Epoch 100/100\n",
      "784/784 [==============================] - 1s 1ms/step - loss: 0.0678 - rmse: 0.1959 - r2: 0.8809 - val_loss: 0.1895 - val_rmse: 0.3258 - val_r2: 0.6452\n"
     ]
    }
   ],
   "source": [
    "epoch=100\n",
    "history_bl = model_bl.fit(X_train_trfm, y_train, epochs=epoch, validation_split=0.05)"
   ]
  },
  {
   "cell_type": "code",
   "execution_count": 102,
   "id": "b1bb3a39",
   "metadata": {},
   "outputs": [
    {
     "data": {
      "application/vnd.plotly.v1+json": {
       "config": {
        "plotlyServerURL": "https://plot.ly"
       },
       "data": [
        {
         "name": "Train",
         "type": "scattergl",
         "y": [
          1.0853265523910522,
          0.28687354922294617,
          0.22317557036876678,
          0.18995603919029236,
          0.1741333305835724,
          0.16317184269428253,
          0.15276937186717987,
          0.14581529796123505,
          0.14135053753852844,
          0.13632364571094513,
          0.13151314854621887,
          0.12806080281734467,
          0.12645544111728668,
          0.12415117025375366,
          0.12165506184101105,
          0.11800288408994675,
          0.11478082835674286,
          0.1174391657114029,
          0.11270704865455627,
          0.11263426393270493,
          0.11031312495470047,
          0.10747037827968597,
          0.10400079935789108,
          0.10609592497348785,
          0.10413134098052979,
          0.1009073257446289,
          0.10050609707832336,
          0.09911026060581207,
          0.10021965205669403,
          0.09868093580007553,
          0.0962388813495636,
          0.09975012391805649,
          0.09563539922237396,
          0.09358303993940353,
          0.09346388280391693,
          0.09341326355934143,
          0.09389608353376389,
          0.09346146136522293,
          0.09134270250797272,
          0.09007392823696136,
          0.08862901479005814,
          0.0890343114733696,
          0.08780810981988907,
          0.08697717636823654,
          0.08601649105548859,
          0.08615109324455261,
          0.08658133447170258,
          0.08620002120733261,
          0.08776732534170151,
          0.08498299866914749,
          0.0839921310544014,
          0.08348411321640015,
          0.08375275135040283,
          0.0829448401927948,
          0.08097335696220398,
          0.08200065046548843,
          0.08339321613311768,
          0.08216722309589386,
          0.08237464725971222,
          0.08194576948881149,
          0.07989252358675003,
          0.08090422302484512,
          0.0807613655924797,
          0.0796041339635849,
          0.07933991402387619,
          0.07784666866064072,
          0.08088040351867676,
          0.07853227853775024,
          0.07832233607769012,
          0.07559855282306671,
          0.07543304562568665,
          0.07506375759840012,
          0.07532021403312683,
          0.07481846213340759,
          0.07481558620929718,
          0.07557649910449982,
          0.07448195666074753,
          0.07480381429195404,
          0.07468613237142563,
          0.07399418950080872,
          0.07560069113969803,
          0.07468204200267792,
          0.0726463571190834,
          0.07369161397218704,
          0.07398951798677444,
          0.07222992181777954,
          0.07198444753885269,
          0.07325425744056702,
          0.07191527634859085,
          0.07240769267082214,
          0.07169097661972046,
          0.07180586457252502,
          0.07311340421438217,
          0.07266216725111008,
          0.07267841696739197,
          0.07152950763702393,
          0.06969495862722397,
          0.06999521702528,
          0.06973302364349365,
          0.06777084618806839
         ]
        },
        {
         "name": "Valid",
         "type": "scattergl",
         "y": [
          0.3249349892139435,
          0.2708549499511719,
          0.22191080451011658,
          0.20225460827350616,
          0.1931218057870865,
          0.18563297390937805,
          0.19029603898525238,
          0.1766045242547989,
          0.17476068437099457,
          0.1700579971075058,
          0.1699729710817337,
          0.16867628693580627,
          0.16250133514404297,
          0.16563966870307922,
          0.17221583425998688,
          0.1594507247209549,
          0.16749517619609833,
          0.16788485646247864,
          0.16095367074012756,
          0.17389333248138428,
          0.16434209048748016,
          0.16545307636260986,
          0.16802851855754852,
          0.16601742804050446,
          0.16958095133304596,
          0.16801311075687408,
          0.16634444892406464,
          0.16982078552246094,
          0.16754943132400513,
          0.157634437084198,
          0.1894524246454239,
          0.16646939516067505,
          0.16531531512737274,
          0.17134806513786316,
          0.16847747564315796,
          0.1653631180524826,
          0.16463243961334229,
          0.1690206527709961,
          0.16691206395626068,
          0.17572343349456787,
          0.1774202287197113,
          0.1695895940065384,
          0.17544785141944885,
          0.17949286103248596,
          0.1713726818561554,
          0.1800314337015152,
          0.1808525174856186,
          0.17969903349876404,
          0.17410676181316376,
          0.17464852333068848,
          0.1814490556716919,
          0.1743319034576416,
          0.183890700340271,
          0.17719484865665436,
          0.1835654228925705,
          0.17651107907295227,
          0.1790318638086319,
          0.18400904536247253,
          0.1803574115037918,
          0.1830929070711136,
          0.194906085729599,
          0.18190789222717285,
          0.18913832306861877,
          0.17992858588695526,
          0.18132469058036804,
          0.19254738092422485,
          0.1826017051935196,
          0.18457455933094025,
          0.18280941247940063,
          0.18985424935817719,
          0.18578916788101196,
          0.18907271325588226,
          0.18930844962596893,
          0.1929970234632492,
          0.2023010551929474,
          0.19331671297550201,
          0.19091038405895233,
          0.1911718100309372,
          0.1853148490190506,
          0.18849055469036102,
          0.18394431471824646,
          0.1883842945098877,
          0.18651077151298523,
          0.19427667558193207,
          0.18873058259487152,
          0.1910581886768341,
          0.18951347470283508,
          0.1886707842350006,
          0.18718677759170532,
          0.18904681503772736,
          0.20127655565738678,
          0.19222287833690643,
          0.18836738169193268,
          0.19194486737251282,
          0.19341710209846497,
          0.19123221933841705,
          0.19249564409255981,
          0.18934664130210876,
          0.1999153196811676,
          0.1894615739583969
         ]
        }
       ],
       "layout": {
        "height": 500,
        "template": {
         "data": {
          "bar": [
           {
            "error_x": {
             "color": "#2a3f5f"
            },
            "error_y": {
             "color": "#2a3f5f"
            },
            "marker": {
             "line": {
              "color": "#E5ECF6",
              "width": 0.5
             },
             "pattern": {
              "fillmode": "overlay",
              "size": 10,
              "solidity": 0.2
             }
            },
            "type": "bar"
           }
          ],
          "barpolar": [
           {
            "marker": {
             "line": {
              "color": "#E5ECF6",
              "width": 0.5
             },
             "pattern": {
              "fillmode": "overlay",
              "size": 10,
              "solidity": 0.2
             }
            },
            "type": "barpolar"
           }
          ],
          "carpet": [
           {
            "aaxis": {
             "endlinecolor": "#2a3f5f",
             "gridcolor": "white",
             "linecolor": "white",
             "minorgridcolor": "white",
             "startlinecolor": "#2a3f5f"
            },
            "baxis": {
             "endlinecolor": "#2a3f5f",
             "gridcolor": "white",
             "linecolor": "white",
             "minorgridcolor": "white",
             "startlinecolor": "#2a3f5f"
            },
            "type": "carpet"
           }
          ],
          "choropleth": [
           {
            "colorbar": {
             "outlinewidth": 0,
             "ticks": ""
            },
            "type": "choropleth"
           }
          ],
          "contour": [
           {
            "colorbar": {
             "outlinewidth": 0,
             "ticks": ""
            },
            "colorscale": [
             [
              0,
              "#0d0887"
             ],
             [
              0.1111111111111111,
              "#46039f"
             ],
             [
              0.2222222222222222,
              "#7201a8"
             ],
             [
              0.3333333333333333,
              "#9c179e"
             ],
             [
              0.4444444444444444,
              "#bd3786"
             ],
             [
              0.5555555555555556,
              "#d8576b"
             ],
             [
              0.6666666666666666,
              "#ed7953"
             ],
             [
              0.7777777777777778,
              "#fb9f3a"
             ],
             [
              0.8888888888888888,
              "#fdca26"
             ],
             [
              1,
              "#f0f921"
             ]
            ],
            "type": "contour"
           }
          ],
          "contourcarpet": [
           {
            "colorbar": {
             "outlinewidth": 0,
             "ticks": ""
            },
            "type": "contourcarpet"
           }
          ],
          "heatmap": [
           {
            "colorbar": {
             "outlinewidth": 0,
             "ticks": ""
            },
            "colorscale": [
             [
              0,
              "#0d0887"
             ],
             [
              0.1111111111111111,
              "#46039f"
             ],
             [
              0.2222222222222222,
              "#7201a8"
             ],
             [
              0.3333333333333333,
              "#9c179e"
             ],
             [
              0.4444444444444444,
              "#bd3786"
             ],
             [
              0.5555555555555556,
              "#d8576b"
             ],
             [
              0.6666666666666666,
              "#ed7953"
             ],
             [
              0.7777777777777778,
              "#fb9f3a"
             ],
             [
              0.8888888888888888,
              "#fdca26"
             ],
             [
              1,
              "#f0f921"
             ]
            ],
            "type": "heatmap"
           }
          ],
          "heatmapgl": [
           {
            "colorbar": {
             "outlinewidth": 0,
             "ticks": ""
            },
            "colorscale": [
             [
              0,
              "#0d0887"
             ],
             [
              0.1111111111111111,
              "#46039f"
             ],
             [
              0.2222222222222222,
              "#7201a8"
             ],
             [
              0.3333333333333333,
              "#9c179e"
             ],
             [
              0.4444444444444444,
              "#bd3786"
             ],
             [
              0.5555555555555556,
              "#d8576b"
             ],
             [
              0.6666666666666666,
              "#ed7953"
             ],
             [
              0.7777777777777778,
              "#fb9f3a"
             ],
             [
              0.8888888888888888,
              "#fdca26"
             ],
             [
              1,
              "#f0f921"
             ]
            ],
            "type": "heatmapgl"
           }
          ],
          "histogram": [
           {
            "marker": {
             "pattern": {
              "fillmode": "overlay",
              "size": 10,
              "solidity": 0.2
             }
            },
            "type": "histogram"
           }
          ],
          "histogram2d": [
           {
            "colorbar": {
             "outlinewidth": 0,
             "ticks": ""
            },
            "colorscale": [
             [
              0,
              "#0d0887"
             ],
             [
              0.1111111111111111,
              "#46039f"
             ],
             [
              0.2222222222222222,
              "#7201a8"
             ],
             [
              0.3333333333333333,
              "#9c179e"
             ],
             [
              0.4444444444444444,
              "#bd3786"
             ],
             [
              0.5555555555555556,
              "#d8576b"
             ],
             [
              0.6666666666666666,
              "#ed7953"
             ],
             [
              0.7777777777777778,
              "#fb9f3a"
             ],
             [
              0.8888888888888888,
              "#fdca26"
             ],
             [
              1,
              "#f0f921"
             ]
            ],
            "type": "histogram2d"
           }
          ],
          "histogram2dcontour": [
           {
            "colorbar": {
             "outlinewidth": 0,
             "ticks": ""
            },
            "colorscale": [
             [
              0,
              "#0d0887"
             ],
             [
              0.1111111111111111,
              "#46039f"
             ],
             [
              0.2222222222222222,
              "#7201a8"
             ],
             [
              0.3333333333333333,
              "#9c179e"
             ],
             [
              0.4444444444444444,
              "#bd3786"
             ],
             [
              0.5555555555555556,
              "#d8576b"
             ],
             [
              0.6666666666666666,
              "#ed7953"
             ],
             [
              0.7777777777777778,
              "#fb9f3a"
             ],
             [
              0.8888888888888888,
              "#fdca26"
             ],
             [
              1,
              "#f0f921"
             ]
            ],
            "type": "histogram2dcontour"
           }
          ],
          "mesh3d": [
           {
            "colorbar": {
             "outlinewidth": 0,
             "ticks": ""
            },
            "type": "mesh3d"
           }
          ],
          "parcoords": [
           {
            "line": {
             "colorbar": {
              "outlinewidth": 0,
              "ticks": ""
             }
            },
            "type": "parcoords"
           }
          ],
          "pie": [
           {
            "automargin": true,
            "type": "pie"
           }
          ],
          "scatter": [
           {
            "marker": {
             "colorbar": {
              "outlinewidth": 0,
              "ticks": ""
             }
            },
            "type": "scatter"
           }
          ],
          "scatter3d": [
           {
            "line": {
             "colorbar": {
              "outlinewidth": 0,
              "ticks": ""
             }
            },
            "marker": {
             "colorbar": {
              "outlinewidth": 0,
              "ticks": ""
             }
            },
            "type": "scatter3d"
           }
          ],
          "scattercarpet": [
           {
            "marker": {
             "colorbar": {
              "outlinewidth": 0,
              "ticks": ""
             }
            },
            "type": "scattercarpet"
           }
          ],
          "scattergeo": [
           {
            "marker": {
             "colorbar": {
              "outlinewidth": 0,
              "ticks": ""
             }
            },
            "type": "scattergeo"
           }
          ],
          "scattergl": [
           {
            "marker": {
             "colorbar": {
              "outlinewidth": 0,
              "ticks": ""
             }
            },
            "type": "scattergl"
           }
          ],
          "scattermapbox": [
           {
            "marker": {
             "colorbar": {
              "outlinewidth": 0,
              "ticks": ""
             }
            },
            "type": "scattermapbox"
           }
          ],
          "scatterpolar": [
           {
            "marker": {
             "colorbar": {
              "outlinewidth": 0,
              "ticks": ""
             }
            },
            "type": "scatterpolar"
           }
          ],
          "scatterpolargl": [
           {
            "marker": {
             "colorbar": {
              "outlinewidth": 0,
              "ticks": ""
             }
            },
            "type": "scatterpolargl"
           }
          ],
          "scatterternary": [
           {
            "marker": {
             "colorbar": {
              "outlinewidth": 0,
              "ticks": ""
             }
            },
            "type": "scatterternary"
           }
          ],
          "surface": [
           {
            "colorbar": {
             "outlinewidth": 0,
             "ticks": ""
            },
            "colorscale": [
             [
              0,
              "#0d0887"
             ],
             [
              0.1111111111111111,
              "#46039f"
             ],
             [
              0.2222222222222222,
              "#7201a8"
             ],
             [
              0.3333333333333333,
              "#9c179e"
             ],
             [
              0.4444444444444444,
              "#bd3786"
             ],
             [
              0.5555555555555556,
              "#d8576b"
             ],
             [
              0.6666666666666666,
              "#ed7953"
             ],
             [
              0.7777777777777778,
              "#fb9f3a"
             ],
             [
              0.8888888888888888,
              "#fdca26"
             ],
             [
              1,
              "#f0f921"
             ]
            ],
            "type": "surface"
           }
          ],
          "table": [
           {
            "cells": {
             "fill": {
              "color": "#EBF0F8"
             },
             "line": {
              "color": "white"
             }
            },
            "header": {
             "fill": {
              "color": "#C8D4E3"
             },
             "line": {
              "color": "white"
             }
            },
            "type": "table"
           }
          ]
         },
         "layout": {
          "annotationdefaults": {
           "arrowcolor": "#2a3f5f",
           "arrowhead": 0,
           "arrowwidth": 1
          },
          "autotypenumbers": "strict",
          "coloraxis": {
           "colorbar": {
            "outlinewidth": 0,
            "ticks": ""
           }
          },
          "colorscale": {
           "diverging": [
            [
             0,
             "#8e0152"
            ],
            [
             0.1,
             "#c51b7d"
            ],
            [
             0.2,
             "#de77ae"
            ],
            [
             0.3,
             "#f1b6da"
            ],
            [
             0.4,
             "#fde0ef"
            ],
            [
             0.5,
             "#f7f7f7"
            ],
            [
             0.6,
             "#e6f5d0"
            ],
            [
             0.7,
             "#b8e186"
            ],
            [
             0.8,
             "#7fbc41"
            ],
            [
             0.9,
             "#4d9221"
            ],
            [
             1,
             "#276419"
            ]
           ],
           "sequential": [
            [
             0,
             "#0d0887"
            ],
            [
             0.1111111111111111,
             "#46039f"
            ],
            [
             0.2222222222222222,
             "#7201a8"
            ],
            [
             0.3333333333333333,
             "#9c179e"
            ],
            [
             0.4444444444444444,
             "#bd3786"
            ],
            [
             0.5555555555555556,
             "#d8576b"
            ],
            [
             0.6666666666666666,
             "#ed7953"
            ],
            [
             0.7777777777777778,
             "#fb9f3a"
            ],
            [
             0.8888888888888888,
             "#fdca26"
            ],
            [
             1,
             "#f0f921"
            ]
           ],
           "sequentialminus": [
            [
             0,
             "#0d0887"
            ],
            [
             0.1111111111111111,
             "#46039f"
            ],
            [
             0.2222222222222222,
             "#7201a8"
            ],
            [
             0.3333333333333333,
             "#9c179e"
            ],
            [
             0.4444444444444444,
             "#bd3786"
            ],
            [
             0.5555555555555556,
             "#d8576b"
            ],
            [
             0.6666666666666666,
             "#ed7953"
            ],
            [
             0.7777777777777778,
             "#fb9f3a"
            ],
            [
             0.8888888888888888,
             "#fdca26"
            ],
            [
             1,
             "#f0f921"
            ]
           ]
          },
          "colorway": [
           "#636efa",
           "#EF553B",
           "#00cc96",
           "#ab63fa",
           "#FFA15A",
           "#19d3f3",
           "#FF6692",
           "#B6E880",
           "#FF97FF",
           "#FECB52"
          ],
          "font": {
           "color": "#2a3f5f"
          },
          "geo": {
           "bgcolor": "white",
           "lakecolor": "white",
           "landcolor": "#E5ECF6",
           "showlakes": true,
           "showland": true,
           "subunitcolor": "white"
          },
          "hoverlabel": {
           "align": "left"
          },
          "hovermode": "closest",
          "mapbox": {
           "style": "light"
          },
          "paper_bgcolor": "white",
          "plot_bgcolor": "#E5ECF6",
          "polar": {
           "angularaxis": {
            "gridcolor": "white",
            "linecolor": "white",
            "ticks": ""
           },
           "bgcolor": "#E5ECF6",
           "radialaxis": {
            "gridcolor": "white",
            "linecolor": "white",
            "ticks": ""
           }
          },
          "scene": {
           "xaxis": {
            "backgroundcolor": "#E5ECF6",
            "gridcolor": "white",
            "gridwidth": 2,
            "linecolor": "white",
            "showbackground": true,
            "ticks": "",
            "zerolinecolor": "white"
           },
           "yaxis": {
            "backgroundcolor": "#E5ECF6",
            "gridcolor": "white",
            "gridwidth": 2,
            "linecolor": "white",
            "showbackground": true,
            "ticks": "",
            "zerolinecolor": "white"
           },
           "zaxis": {
            "backgroundcolor": "#E5ECF6",
            "gridcolor": "white",
            "gridwidth": 2,
            "linecolor": "white",
            "showbackground": true,
            "ticks": "",
            "zerolinecolor": "white"
           }
          },
          "shapedefaults": {
           "line": {
            "color": "#2a3f5f"
           }
          },
          "ternary": {
           "aaxis": {
            "gridcolor": "white",
            "linecolor": "white",
            "ticks": ""
           },
           "baxis": {
            "gridcolor": "white",
            "linecolor": "white",
            "ticks": ""
           },
           "bgcolor": "#E5ECF6",
           "caxis": {
            "gridcolor": "white",
            "linecolor": "white",
            "ticks": ""
           }
          },
          "title": {
           "x": 0.05
          },
          "xaxis": {
           "automargin": true,
           "gridcolor": "white",
           "linecolor": "white",
           "ticks": "",
           "title": {
            "standoff": 15
           },
           "zerolinecolor": "white",
           "zerolinewidth": 2
          },
          "yaxis": {
           "automargin": true,
           "gridcolor": "white",
           "linecolor": "white",
           "ticks": "",
           "title": {
            "standoff": 15
           },
           "zerolinecolor": "white",
           "zerolinewidth": 2
          }
         }
        },
        "width": 700,
        "xaxis": {
         "title": {
          "text": "Epoch"
         }
        },
        "yaxis": {
         "title": {
          "text": "MSE"
         }
        }
       }
      },
      "text/html": [
       "<div>                            <div id=\"0b48a5bd-020b-4336-be3c-3fdd0fc691e2\" class=\"plotly-graph-div\" style=\"height:500px; width:700px;\"></div>            <script type=\"text/javascript\">                require([\"plotly\"], function(Plotly) {                    window.PLOTLYENV=window.PLOTLYENV || {};                                    if (document.getElementById(\"0b48a5bd-020b-4336-be3c-3fdd0fc691e2\")) {                    Plotly.newPlot(                        \"0b48a5bd-020b-4336-be3c-3fdd0fc691e2\",                        [{\"name\":\"Train\",\"y\":[1.0853265523910522,0.28687354922294617,0.22317557036876678,0.18995603919029236,0.1741333305835724,0.16317184269428253,0.15276937186717987,0.14581529796123505,0.14135053753852844,0.13632364571094513,0.13151314854621887,0.12806080281734467,0.12645544111728668,0.12415117025375366,0.12165506184101105,0.11800288408994675,0.11478082835674286,0.1174391657114029,0.11270704865455627,0.11263426393270493,0.11031312495470047,0.10747037827968597,0.10400079935789108,0.10609592497348785,0.10413134098052979,0.1009073257446289,0.10050609707832336,0.09911026060581207,0.10021965205669403,0.09868093580007553,0.0962388813495636,0.09975012391805649,0.09563539922237396,0.09358303993940353,0.09346388280391693,0.09341326355934143,0.09389608353376389,0.09346146136522293,0.09134270250797272,0.09007392823696136,0.08862901479005814,0.0890343114733696,0.08780810981988907,0.08697717636823654,0.08601649105548859,0.08615109324455261,0.08658133447170258,0.08620002120733261,0.08776732534170151,0.08498299866914749,0.0839921310544014,0.08348411321640015,0.08375275135040283,0.0829448401927948,0.08097335696220398,0.08200065046548843,0.08339321613311768,0.08216722309589386,0.08237464725971222,0.08194576948881149,0.07989252358675003,0.08090422302484512,0.0807613655924797,0.0796041339635849,0.07933991402387619,0.07784666866064072,0.08088040351867676,0.07853227853775024,0.07832233607769012,0.07559855282306671,0.07543304562568665,0.07506375759840012,0.07532021403312683,0.07481846213340759,0.07481558620929718,0.07557649910449982,0.07448195666074753,0.07480381429195404,0.07468613237142563,0.07399418950080872,0.07560069113969803,0.07468204200267792,0.0726463571190834,0.07369161397218704,0.07398951798677444,0.07222992181777954,0.07198444753885269,0.07325425744056702,0.07191527634859085,0.07240769267082214,0.07169097661972046,0.07180586457252502,0.07311340421438217,0.07266216725111008,0.07267841696739197,0.07152950763702393,0.06969495862722397,0.06999521702528,0.06973302364349365,0.06777084618806839],\"type\":\"scattergl\"},{\"name\":\"Valid\",\"y\":[0.3249349892139435,0.2708549499511719,0.22191080451011658,0.20225460827350616,0.1931218057870865,0.18563297390937805,0.19029603898525238,0.1766045242547989,0.17476068437099457,0.1700579971075058,0.1699729710817337,0.16867628693580627,0.16250133514404297,0.16563966870307922,0.17221583425998688,0.1594507247209549,0.16749517619609833,0.16788485646247864,0.16095367074012756,0.17389333248138428,0.16434209048748016,0.16545307636260986,0.16802851855754852,0.16601742804050446,0.16958095133304596,0.16801311075687408,0.16634444892406464,0.16982078552246094,0.16754943132400513,0.157634437084198,0.1894524246454239,0.16646939516067505,0.16531531512737274,0.17134806513786316,0.16847747564315796,0.1653631180524826,0.16463243961334229,0.1690206527709961,0.16691206395626068,0.17572343349456787,0.1774202287197113,0.1695895940065384,0.17544785141944885,0.17949286103248596,0.1713726818561554,0.1800314337015152,0.1808525174856186,0.17969903349876404,0.17410676181316376,0.17464852333068848,0.1814490556716919,0.1743319034576416,0.183890700340271,0.17719484865665436,0.1835654228925705,0.17651107907295227,0.1790318638086319,0.18400904536247253,0.1803574115037918,0.1830929070711136,0.194906085729599,0.18190789222717285,0.18913832306861877,0.17992858588695526,0.18132469058036804,0.19254738092422485,0.1826017051935196,0.18457455933094025,0.18280941247940063,0.18985424935817719,0.18578916788101196,0.18907271325588226,0.18930844962596893,0.1929970234632492,0.2023010551929474,0.19331671297550201,0.19091038405895233,0.1911718100309372,0.1853148490190506,0.18849055469036102,0.18394431471824646,0.1883842945098877,0.18651077151298523,0.19427667558193207,0.18873058259487152,0.1910581886768341,0.18951347470283508,0.1886707842350006,0.18718677759170532,0.18904681503772736,0.20127655565738678,0.19222287833690643,0.18836738169193268,0.19194486737251282,0.19341710209846497,0.19123221933841705,0.19249564409255981,0.18934664130210876,0.1999153196811676,0.1894615739583969],\"type\":\"scattergl\"}],                        {\"template\":{\"data\":{\"bar\":[{\"error_x\":{\"color\":\"#2a3f5f\"},\"error_y\":{\"color\":\"#2a3f5f\"},\"marker\":{\"line\":{\"color\":\"#E5ECF6\",\"width\":0.5},\"pattern\":{\"fillmode\":\"overlay\",\"size\":10,\"solidity\":0.2}},\"type\":\"bar\"}],\"barpolar\":[{\"marker\":{\"line\":{\"color\":\"#E5ECF6\",\"width\":0.5},\"pattern\":{\"fillmode\":\"overlay\",\"size\":10,\"solidity\":0.2}},\"type\":\"barpolar\"}],\"carpet\":[{\"aaxis\":{\"endlinecolor\":\"#2a3f5f\",\"gridcolor\":\"white\",\"linecolor\":\"white\",\"minorgridcolor\":\"white\",\"startlinecolor\":\"#2a3f5f\"},\"baxis\":{\"endlinecolor\":\"#2a3f5f\",\"gridcolor\":\"white\",\"linecolor\":\"white\",\"minorgridcolor\":\"white\",\"startlinecolor\":\"#2a3f5f\"},\"type\":\"carpet\"}],\"choropleth\":[{\"colorbar\":{\"outlinewidth\":0,\"ticks\":\"\"},\"type\":\"choropleth\"}],\"contour\":[{\"colorbar\":{\"outlinewidth\":0,\"ticks\":\"\"},\"colorscale\":[[0.0,\"#0d0887\"],[0.1111111111111111,\"#46039f\"],[0.2222222222222222,\"#7201a8\"],[0.3333333333333333,\"#9c179e\"],[0.4444444444444444,\"#bd3786\"],[0.5555555555555556,\"#d8576b\"],[0.6666666666666666,\"#ed7953\"],[0.7777777777777778,\"#fb9f3a\"],[0.8888888888888888,\"#fdca26\"],[1.0,\"#f0f921\"]],\"type\":\"contour\"}],\"contourcarpet\":[{\"colorbar\":{\"outlinewidth\":0,\"ticks\":\"\"},\"type\":\"contourcarpet\"}],\"heatmap\":[{\"colorbar\":{\"outlinewidth\":0,\"ticks\":\"\"},\"colorscale\":[[0.0,\"#0d0887\"],[0.1111111111111111,\"#46039f\"],[0.2222222222222222,\"#7201a8\"],[0.3333333333333333,\"#9c179e\"],[0.4444444444444444,\"#bd3786\"],[0.5555555555555556,\"#d8576b\"],[0.6666666666666666,\"#ed7953\"],[0.7777777777777778,\"#fb9f3a\"],[0.8888888888888888,\"#fdca26\"],[1.0,\"#f0f921\"]],\"type\":\"heatmap\"}],\"heatmapgl\":[{\"colorbar\":{\"outlinewidth\":0,\"ticks\":\"\"},\"colorscale\":[[0.0,\"#0d0887\"],[0.1111111111111111,\"#46039f\"],[0.2222222222222222,\"#7201a8\"],[0.3333333333333333,\"#9c179e\"],[0.4444444444444444,\"#bd3786\"],[0.5555555555555556,\"#d8576b\"],[0.6666666666666666,\"#ed7953\"],[0.7777777777777778,\"#fb9f3a\"],[0.8888888888888888,\"#fdca26\"],[1.0,\"#f0f921\"]],\"type\":\"heatmapgl\"}],\"histogram\":[{\"marker\":{\"pattern\":{\"fillmode\":\"overlay\",\"size\":10,\"solidity\":0.2}},\"type\":\"histogram\"}],\"histogram2d\":[{\"colorbar\":{\"outlinewidth\":0,\"ticks\":\"\"},\"colorscale\":[[0.0,\"#0d0887\"],[0.1111111111111111,\"#46039f\"],[0.2222222222222222,\"#7201a8\"],[0.3333333333333333,\"#9c179e\"],[0.4444444444444444,\"#bd3786\"],[0.5555555555555556,\"#d8576b\"],[0.6666666666666666,\"#ed7953\"],[0.7777777777777778,\"#fb9f3a\"],[0.8888888888888888,\"#fdca26\"],[1.0,\"#f0f921\"]],\"type\":\"histogram2d\"}],\"histogram2dcontour\":[{\"colorbar\":{\"outlinewidth\":0,\"ticks\":\"\"},\"colorscale\":[[0.0,\"#0d0887\"],[0.1111111111111111,\"#46039f\"],[0.2222222222222222,\"#7201a8\"],[0.3333333333333333,\"#9c179e\"],[0.4444444444444444,\"#bd3786\"],[0.5555555555555556,\"#d8576b\"],[0.6666666666666666,\"#ed7953\"],[0.7777777777777778,\"#fb9f3a\"],[0.8888888888888888,\"#fdca26\"],[1.0,\"#f0f921\"]],\"type\":\"histogram2dcontour\"}],\"mesh3d\":[{\"colorbar\":{\"outlinewidth\":0,\"ticks\":\"\"},\"type\":\"mesh3d\"}],\"parcoords\":[{\"line\":{\"colorbar\":{\"outlinewidth\":0,\"ticks\":\"\"}},\"type\":\"parcoords\"}],\"pie\":[{\"automargin\":true,\"type\":\"pie\"}],\"scatter\":[{\"marker\":{\"colorbar\":{\"outlinewidth\":0,\"ticks\":\"\"}},\"type\":\"scatter\"}],\"scatter3d\":[{\"line\":{\"colorbar\":{\"outlinewidth\":0,\"ticks\":\"\"}},\"marker\":{\"colorbar\":{\"outlinewidth\":0,\"ticks\":\"\"}},\"type\":\"scatter3d\"}],\"scattercarpet\":[{\"marker\":{\"colorbar\":{\"outlinewidth\":0,\"ticks\":\"\"}},\"type\":\"scattercarpet\"}],\"scattergeo\":[{\"marker\":{\"colorbar\":{\"outlinewidth\":0,\"ticks\":\"\"}},\"type\":\"scattergeo\"}],\"scattergl\":[{\"marker\":{\"colorbar\":{\"outlinewidth\":0,\"ticks\":\"\"}},\"type\":\"scattergl\"}],\"scattermapbox\":[{\"marker\":{\"colorbar\":{\"outlinewidth\":0,\"ticks\":\"\"}},\"type\":\"scattermapbox\"}],\"scatterpolar\":[{\"marker\":{\"colorbar\":{\"outlinewidth\":0,\"ticks\":\"\"}},\"type\":\"scatterpolar\"}],\"scatterpolargl\":[{\"marker\":{\"colorbar\":{\"outlinewidth\":0,\"ticks\":\"\"}},\"type\":\"scatterpolargl\"}],\"scatterternary\":[{\"marker\":{\"colorbar\":{\"outlinewidth\":0,\"ticks\":\"\"}},\"type\":\"scatterternary\"}],\"surface\":[{\"colorbar\":{\"outlinewidth\":0,\"ticks\":\"\"},\"colorscale\":[[0.0,\"#0d0887\"],[0.1111111111111111,\"#46039f\"],[0.2222222222222222,\"#7201a8\"],[0.3333333333333333,\"#9c179e\"],[0.4444444444444444,\"#bd3786\"],[0.5555555555555556,\"#d8576b\"],[0.6666666666666666,\"#ed7953\"],[0.7777777777777778,\"#fb9f3a\"],[0.8888888888888888,\"#fdca26\"],[1.0,\"#f0f921\"]],\"type\":\"surface\"}],\"table\":[{\"cells\":{\"fill\":{\"color\":\"#EBF0F8\"},\"line\":{\"color\":\"white\"}},\"header\":{\"fill\":{\"color\":\"#C8D4E3\"},\"line\":{\"color\":\"white\"}},\"type\":\"table\"}]},\"layout\":{\"annotationdefaults\":{\"arrowcolor\":\"#2a3f5f\",\"arrowhead\":0,\"arrowwidth\":1},\"autotypenumbers\":\"strict\",\"coloraxis\":{\"colorbar\":{\"outlinewidth\":0,\"ticks\":\"\"}},\"colorscale\":{\"diverging\":[[0,\"#8e0152\"],[0.1,\"#c51b7d\"],[0.2,\"#de77ae\"],[0.3,\"#f1b6da\"],[0.4,\"#fde0ef\"],[0.5,\"#f7f7f7\"],[0.6,\"#e6f5d0\"],[0.7,\"#b8e186\"],[0.8,\"#7fbc41\"],[0.9,\"#4d9221\"],[1,\"#276419\"]],\"sequential\":[[0.0,\"#0d0887\"],[0.1111111111111111,\"#46039f\"],[0.2222222222222222,\"#7201a8\"],[0.3333333333333333,\"#9c179e\"],[0.4444444444444444,\"#bd3786\"],[0.5555555555555556,\"#d8576b\"],[0.6666666666666666,\"#ed7953\"],[0.7777777777777778,\"#fb9f3a\"],[0.8888888888888888,\"#fdca26\"],[1.0,\"#f0f921\"]],\"sequentialminus\":[[0.0,\"#0d0887\"],[0.1111111111111111,\"#46039f\"],[0.2222222222222222,\"#7201a8\"],[0.3333333333333333,\"#9c179e\"],[0.4444444444444444,\"#bd3786\"],[0.5555555555555556,\"#d8576b\"],[0.6666666666666666,\"#ed7953\"],[0.7777777777777778,\"#fb9f3a\"],[0.8888888888888888,\"#fdca26\"],[1.0,\"#f0f921\"]]},\"colorway\":[\"#636efa\",\"#EF553B\",\"#00cc96\",\"#ab63fa\",\"#FFA15A\",\"#19d3f3\",\"#FF6692\",\"#B6E880\",\"#FF97FF\",\"#FECB52\"],\"font\":{\"color\":\"#2a3f5f\"},\"geo\":{\"bgcolor\":\"white\",\"lakecolor\":\"white\",\"landcolor\":\"#E5ECF6\",\"showlakes\":true,\"showland\":true,\"subunitcolor\":\"white\"},\"hoverlabel\":{\"align\":\"left\"},\"hovermode\":\"closest\",\"mapbox\":{\"style\":\"light\"},\"paper_bgcolor\":\"white\",\"plot_bgcolor\":\"#E5ECF6\",\"polar\":{\"angularaxis\":{\"gridcolor\":\"white\",\"linecolor\":\"white\",\"ticks\":\"\"},\"bgcolor\":\"#E5ECF6\",\"radialaxis\":{\"gridcolor\":\"white\",\"linecolor\":\"white\",\"ticks\":\"\"}},\"scene\":{\"xaxis\":{\"backgroundcolor\":\"#E5ECF6\",\"gridcolor\":\"white\",\"gridwidth\":2,\"linecolor\":\"white\",\"showbackground\":true,\"ticks\":\"\",\"zerolinecolor\":\"white\"},\"yaxis\":{\"backgroundcolor\":\"#E5ECF6\",\"gridcolor\":\"white\",\"gridwidth\":2,\"linecolor\":\"white\",\"showbackground\":true,\"ticks\":\"\",\"zerolinecolor\":\"white\"},\"zaxis\":{\"backgroundcolor\":\"#E5ECF6\",\"gridcolor\":\"white\",\"gridwidth\":2,\"linecolor\":\"white\",\"showbackground\":true,\"ticks\":\"\",\"zerolinecolor\":\"white\"}},\"shapedefaults\":{\"line\":{\"color\":\"#2a3f5f\"}},\"ternary\":{\"aaxis\":{\"gridcolor\":\"white\",\"linecolor\":\"white\",\"ticks\":\"\"},\"baxis\":{\"gridcolor\":\"white\",\"linecolor\":\"white\",\"ticks\":\"\"},\"bgcolor\":\"#E5ECF6\",\"caxis\":{\"gridcolor\":\"white\",\"linecolor\":\"white\",\"ticks\":\"\"}},\"title\":{\"x\":0.05},\"xaxis\":{\"automargin\":true,\"gridcolor\":\"white\",\"linecolor\":\"white\",\"ticks\":\"\",\"title\":{\"standoff\":15},\"zerolinecolor\":\"white\",\"zerolinewidth\":2},\"yaxis\":{\"automargin\":true,\"gridcolor\":\"white\",\"linecolor\":\"white\",\"ticks\":\"\",\"title\":{\"standoff\":15},\"zerolinecolor\":\"white\",\"zerolinewidth\":2}}},\"height\":500,\"width\":700,\"xaxis\":{\"title\":{\"text\":\"Epoch\"}},\"yaxis\":{\"title\":{\"text\":\"MSE\"}}},                        {\"responsive\": true}                    ).then(function(){\n",
       "                            \n",
       "var gd = document.getElementById('0b48a5bd-020b-4336-be3c-3fdd0fc691e2');\n",
       "var x = new MutationObserver(function (mutations, observer) {{\n",
       "        var display = window.getComputedStyle(gd).display;\n",
       "        if (!display || display === 'none') {{\n",
       "            console.log([gd, 'removed!']);\n",
       "            Plotly.purge(gd);\n",
       "            observer.disconnect();\n",
       "        }}\n",
       "}});\n",
       "\n",
       "// Listen for the removal of the full notebook cells\n",
       "var notebookContainer = gd.closest('#notebook-container');\n",
       "if (notebookContainer) {{\n",
       "    x.observe(notebookContainer, {childList: true});\n",
       "}}\n",
       "\n",
       "// Listen for the clearing of the current output cell\n",
       "var outputEl = gd.closest('.output');\n",
       "if (outputEl) {{\n",
       "    x.observe(outputEl, {childList: true});\n",
       "}}\n",
       "\n",
       "                        })                };                });            </script>        </div>"
      ]
     },
     "metadata": {},
     "output_type": "display_data"
    }
   ],
   "source": [
    "import plotly.graph_objects as go\n",
    "\n",
    "fig = go.Figure()\n",
    "fig.add_trace(go.Scattergl(y=history_bl.history['loss'],\n",
    "                    name='Train'))\n",
    "fig.add_trace(go.Scattergl(y=history_bl.history['val_loss'],\n",
    "                    name='Valid'))\n",
    "fig.update_layout(height=500, width=700,\n",
    "                  xaxis_title='Epoch',\n",
    "                  yaxis_title='MSE')\n",
    "fig.show()"
   ]
  },
  {
   "cell_type": "code",
   "execution_count": 90,
   "id": "da26b91f",
   "metadata": {},
   "outputs": [
    {
     "name": "stdout",
     "output_type": "stream",
     "text": [
      "207/207 [==============================] - 0s 2ms/step - loss: 0.2069 - rmse: 0.3309 - r2: 0.6526\n",
      "Train R-sq:  0.8809\n",
      "Train MSE:  0.0678\n",
      "Val R-sq:  0.6452\n",
      "Val MSE:  0.1895\n",
      "Test R-sq:  0.6526\n",
      "Test MSE:  0.2069\n"
     ]
    }
   ],
   "source": [
    "mse_nn, rmse_nn, r2_nn = model_bl.evaluate(X_test_trfm, y_test)\n",
    "print('Train R-sq: ', round(history_bl.history['r2'][epoch-1],4))\n",
    "print('Train MSE: ', round(history_bl.history['loss'][epoch-1],4))\n",
    "print('Val R-sq: ', round(history_bl.history['val_r2'][epoch-1],4))\n",
    "print('Val MSE: ', round(history_bl.history['val_loss'][epoch-1],4))\n",
    "print('Test R-sq: ', round(r2_nn,4))\n",
    "print('Test MSE: ', round(mse_nn,4))"
   ]
  },
  {
   "cell_type": "markdown",
   "id": "065a44f4",
   "metadata": {},
   "source": [
    "### Deep NN"
   ]
  },
  {
   "cell_type": "code",
   "execution_count": 94,
   "id": "09a63306",
   "metadata": {},
   "outputs": [
    {
     "name": "stdout",
     "output_type": "stream",
     "text": [
      "Model: \"sequential_6\"\n",
      "_________________________________________________________________\n",
      " Layer (type)                Output Shape              Param #   \n",
      "=================================================================\n",
      " dense_13 (Dense)            (None, 120)               14520     \n",
      "                                                                 \n",
      " dense_14 (Dense)            (None, 60)                7260      \n",
      "                                                                 \n",
      " dense_15 (Dense)            (None, 1)                 61        \n",
      "                                                                 \n",
      "=================================================================\n",
      "Total params: 21,841\n",
      "Trainable params: 21,841\n",
      "Non-trainable params: 0\n",
      "_________________________________________________________________\n"
     ]
    }
   ],
   "source": [
    "def deep_model():\n",
    "    # create model\n",
    "    model = Sequential()\n",
    "    model.add(Dense(120, input_dim=120, kernel_initializer='he_normal', activation='relu'))\n",
    "    model.add(Dense(60, kernel_initializer='he_normal', activation='relu'))\n",
    "    model.add(Dense(1, kernel_initializer='he_normal'))\n",
    "    # Compile model\n",
    "    model.compile(loss='mean_squared_error', optimizer='adam', metrics=[rmse,r2])\n",
    "    return model\n",
    "model_dp = deep_model()\n",
    "model_dp.summary()"
   ]
  },
  {
   "cell_type": "code",
   "execution_count": 95,
   "id": "a68a241e",
   "metadata": {},
   "outputs": [
    {
     "name": "stdout",
     "output_type": "stream",
     "text": [
      "Epoch 1/100\n",
      "784/784 [==============================] - 2s 2ms/step - loss: 0.6299 - rmse: 0.5339 - r2: -0.0958 - val_loss: 0.2672 - val_rmse: 0.3938 - val_r2: 0.4871\n",
      "Epoch 2/100\n",
      "784/784 [==============================] - 1s 2ms/step - loss: 0.2377 - rmse: 0.3612 - r2: 0.5853 - val_loss: 0.2206 - val_rmse: 0.3546 - val_r2: 0.5830\n",
      "Epoch 3/100\n",
      "784/784 [==============================] - 1s 2ms/step - loss: 0.1943 - rmse: 0.3265 - r2: 0.6629 - val_loss: 0.1880 - val_rmse: 0.3220 - val_r2: 0.6468\n",
      "Epoch 4/100\n",
      "784/784 [==============================] - 1s 2ms/step - loss: 0.1750 - rmse: 0.3095 - r2: 0.6972 - val_loss: 0.1770 - val_rmse: 0.3137 - val_r2: 0.6659\n",
      "Epoch 5/100\n",
      "784/784 [==============================] - 1s 2ms/step - loss: 0.1621 - rmse: 0.2983 - r2: 0.7207 - val_loss: 0.1788 - val_rmse: 0.3187 - val_r2: 0.6593\n",
      "Epoch 6/100\n",
      "784/784 [==============================] - 1s 2ms/step - loss: 0.1571 - rmse: 0.2905 - r2: 0.7283 - val_loss: 0.1752 - val_rmse: 0.3127 - val_r2: 0.6661\n",
      "Epoch 7/100\n",
      "784/784 [==============================] - 1s 2ms/step - loss: 0.1424 - rmse: 0.2787 - r2: 0.7521 - val_loss: 0.1660 - val_rmse: 0.3010 - val_r2: 0.6869\n",
      "Epoch 8/100\n",
      "784/784 [==============================] - 1s 2ms/step - loss: 0.1402 - rmse: 0.2751 - r2: 0.7578 - val_loss: 0.1672 - val_rmse: 0.2995 - val_r2: 0.6821\n",
      "Epoch 9/100\n",
      "784/784 [==============================] - 1s 2ms/step - loss: 0.1271 - rmse: 0.2641 - r2: 0.7801 - val_loss: 0.1631 - val_rmse: 0.2945 - val_r2: 0.6886\n",
      "Epoch 10/100\n",
      "784/784 [==============================] - 1s 2ms/step - loss: 0.1216 - rmse: 0.2594 - r2: 0.7876 - val_loss: 0.1624 - val_rmse: 0.2987 - val_r2: 0.6895\n",
      "Epoch 11/100\n",
      "784/784 [==============================] - 1s 2ms/step - loss: 0.1169 - rmse: 0.2548 - r2: 0.7965 - val_loss: 0.1683 - val_rmse: 0.3049 - val_r2: 0.6769\n",
      "Epoch 12/100\n",
      "784/784 [==============================] - 1s 2ms/step - loss: 0.1122 - rmse: 0.2493 - r2: 0.8058 - val_loss: 0.1603 - val_rmse: 0.2982 - val_r2: 0.6958\n",
      "Epoch 13/100\n",
      "784/784 [==============================] - 2s 2ms/step - loss: 0.1088 - rmse: 0.2462 - r2: 0.8107 - val_loss: 0.1734 - val_rmse: 0.3033 - val_r2: 0.6801\n",
      "Epoch 14/100\n",
      "784/784 [==============================] - 1s 2ms/step - loss: 0.1054 - rmse: 0.2421 - r2: 0.8145 - val_loss: 0.1624 - val_rmse: 0.2991 - val_r2: 0.6960\n",
      "Epoch 15/100\n",
      "784/784 [==============================] - 1s 2ms/step - loss: 0.1009 - rmse: 0.2380 - r2: 0.8243 - val_loss: 0.1680 - val_rmse: 0.3007 - val_r2: 0.6892\n",
      "Epoch 16/100\n",
      "784/784 [==============================] - 1s 2ms/step - loss: 0.0983 - rmse: 0.2354 - r2: 0.8280 - val_loss: 0.1785 - val_rmse: 0.3154 - val_r2: 0.6664\n",
      "Epoch 17/100\n",
      "784/784 [==============================] - 1s 2ms/step - loss: 0.0948 - rmse: 0.2311 - r2: 0.8329 - val_loss: 0.1763 - val_rmse: 0.3051 - val_r2: 0.6694\n",
      "Epoch 18/100\n",
      "784/784 [==============================] - 1s 2ms/step - loss: 0.0934 - rmse: 0.2294 - r2: 0.8379 - val_loss: 0.1791 - val_rmse: 0.3072 - val_r2: 0.6675\n",
      "Epoch 19/100\n",
      "784/784 [==============================] - 1s 2ms/step - loss: 0.0888 - rmse: 0.2251 - r2: 0.8444 - val_loss: 0.1759 - val_rmse: 0.3064 - val_r2: 0.6717\n",
      "Epoch 20/100\n",
      "784/784 [==============================] - 1s 2ms/step - loss: 0.0872 - rmse: 0.2225 - r2: 0.8442 - val_loss: 0.1683 - val_rmse: 0.3031 - val_r2: 0.6867\n",
      "Epoch 21/100\n",
      "784/784 [==============================] - 2s 2ms/step - loss: 0.0840 - rmse: 0.2180 - r2: 0.8535 - val_loss: 0.1723 - val_rmse: 0.3027 - val_r2: 0.6762\n",
      "Epoch 22/100\n",
      "784/784 [==============================] - 1s 2ms/step - loss: 0.0841 - rmse: 0.2176 - r2: 0.8509 - val_loss: 0.1647 - val_rmse: 0.3009 - val_r2: 0.6922\n",
      "Epoch 23/100\n",
      "784/784 [==============================] - 1s 2ms/step - loss: 0.0813 - rmse: 0.2142 - r2: 0.8588 - val_loss: 0.1785 - val_rmse: 0.3100 - val_r2: 0.6674\n",
      "Epoch 24/100\n",
      "784/784 [==============================] - 1s 2ms/step - loss: 0.0786 - rmse: 0.2114 - r2: 0.8613 - val_loss: 0.1740 - val_rmse: 0.3057 - val_r2: 0.6737\n",
      "Epoch 25/100\n",
      "784/784 [==============================] - 1s 2ms/step - loss: 0.0759 - rmse: 0.2081 - r2: 0.8659 - val_loss: 0.1726 - val_rmse: 0.3073 - val_r2: 0.6805\n",
      "Epoch 26/100\n",
      "784/784 [==============================] - 1s 2ms/step - loss: 0.0763 - rmse: 0.2084 - r2: 0.8653 - val_loss: 0.1805 - val_rmse: 0.3084 - val_r2: 0.6643\n",
      "Epoch 27/100\n",
      "784/784 [==============================] - 1s 2ms/step - loss: 0.0725 - rmse: 0.2037 - r2: 0.8720 - val_loss: 0.1716 - val_rmse: 0.3030 - val_r2: 0.6780\n",
      "Epoch 28/100\n",
      "784/784 [==============================] - 1s 2ms/step - loss: 0.0708 - rmse: 0.2021 - r2: 0.8751 - val_loss: 0.1779 - val_rmse: 0.3133 - val_r2: 0.6690\n",
      "Epoch 29/100\n",
      "784/784 [==============================] - 1s 2ms/step - loss: 0.0714 - rmse: 0.2023 - r2: 0.8747 - val_loss: 0.1763 - val_rmse: 0.3101 - val_r2: 0.6718\n",
      "Epoch 30/100\n",
      "784/784 [==============================] - 1s 2ms/step - loss: 0.0706 - rmse: 0.2008 - r2: 0.8745 - val_loss: 0.1811 - val_rmse: 0.3125 - val_r2: 0.6616\n",
      "Epoch 31/100\n",
      "784/784 [==============================] - 1s 2ms/step - loss: 0.0679 - rmse: 0.1978 - r2: 0.8792 - val_loss: 0.1771 - val_rmse: 0.3083 - val_r2: 0.6679\n",
      "Epoch 32/100\n",
      "784/784 [==============================] - 1s 2ms/step - loss: 0.0671 - rmse: 0.1964 - r2: 0.8805 - val_loss: 0.1771 - val_rmse: 0.3105 - val_r2: 0.6665\n",
      "Epoch 33/100\n",
      "784/784 [==============================] - 2s 2ms/step - loss: 0.0646 - rmse: 0.1925 - r2: 0.8861 - val_loss: 0.1804 - val_rmse: 0.3118 - val_r2: 0.6660\n",
      "Epoch 34/100\n",
      "784/784 [==============================] - 2s 2ms/step - loss: 0.0639 - rmse: 0.1923 - r2: 0.8860 - val_loss: 0.1760 - val_rmse: 0.3105 - val_r2: 0.6698\n",
      "Epoch 35/100\n",
      "784/784 [==============================] - 1s 2ms/step - loss: 0.0630 - rmse: 0.1909 - r2: 0.8884 - val_loss: 0.1825 - val_rmse: 0.3124 - val_r2: 0.6562\n",
      "Epoch 36/100\n",
      "784/784 [==============================] - 1s 2ms/step - loss: 0.0623 - rmse: 0.1898 - r2: 0.8894 - val_loss: 0.1880 - val_rmse: 0.3188 - val_r2: 0.6501\n",
      "Epoch 37/100\n",
      "784/784 [==============================] - 1s 2ms/step - loss: 0.0617 - rmse: 0.1888 - r2: 0.8910 - val_loss: 0.1750 - val_rmse: 0.3109 - val_r2: 0.6716\n",
      "Epoch 38/100\n",
      "784/784 [==============================] - 2s 2ms/step - loss: 0.0588 - rmse: 0.1850 - r2: 0.8963 - val_loss: 0.1910 - val_rmse: 0.3201 - val_r2: 0.6441\n",
      "Epoch 39/100\n",
      "784/784 [==============================] - 2s 2ms/step - loss: 0.0592 - rmse: 0.1858 - r2: 0.8954 - val_loss: 0.1906 - val_rmse: 0.3196 - val_r2: 0.6430\n",
      "Epoch 40/100\n",
      "784/784 [==============================] - 2s 2ms/step - loss: 0.0586 - rmse: 0.1842 - r2: 0.8956 - val_loss: 0.1931 - val_rmse: 0.3239 - val_r2: 0.6356\n",
      "Epoch 41/100\n",
      "784/784 [==============================] - 2s 2ms/step - loss: 0.0569 - rmse: 0.1816 - r2: 0.8988 - val_loss: 0.1927 - val_rmse: 0.3244 - val_r2: 0.6376\n",
      "Epoch 42/100\n",
      "784/784 [==============================] - 2s 2ms/step - loss: 0.0563 - rmse: 0.1812 - r2: 0.8996 - val_loss: 0.1867 - val_rmse: 0.3194 - val_r2: 0.6459\n",
      "Epoch 43/100\n",
      "784/784 [==============================] - 1s 1ms/step - loss: 0.0563 - rmse: 0.1812 - r2: 0.8995 - val_loss: 0.1828 - val_rmse: 0.3119 - val_r2: 0.6550\n",
      "Epoch 44/100\n",
      "784/784 [==============================] - 1s 1ms/step - loss: 0.0539 - rmse: 0.1775 - r2: 0.9042 - val_loss: 0.1972 - val_rmse: 0.3238 - val_r2: 0.6326\n",
      "Epoch 45/100\n",
      "784/784 [==============================] - 1s 1ms/step - loss: 0.0537 - rmse: 0.1777 - r2: 0.9037 - val_loss: 0.1942 - val_rmse: 0.3238 - val_r2: 0.6368\n",
      "Epoch 46/100\n",
      "784/784 [==============================] - 1s 1ms/step - loss: 0.0527 - rmse: 0.1752 - r2: 0.9050 - val_loss: 0.1885 - val_rmse: 0.3189 - val_r2: 0.6457\n",
      "Epoch 47/100\n",
      "784/784 [==============================] - 1s 1ms/step - loss: 0.0518 - rmse: 0.1743 - r2: 0.9068 - val_loss: 0.1959 - val_rmse: 0.3244 - val_r2: 0.6278\n",
      "Epoch 48/100\n",
      "784/784 [==============================] - 1s 2ms/step - loss: 0.0508 - rmse: 0.1727 - r2: 0.9091 - val_loss: 0.1846 - val_rmse: 0.3213 - val_r2: 0.6516\n",
      "Epoch 49/100\n",
      "784/784 [==============================] - 2s 2ms/step - loss: 0.0501 - rmse: 0.1712 - r2: 0.9102 - val_loss: 0.1959 - val_rmse: 0.3290 - val_r2: 0.6296\n",
      "Epoch 50/100\n"
     ]
    },
    {
     "name": "stdout",
     "output_type": "stream",
     "text": [
      "784/784 [==============================] - 2s 2ms/step - loss: 0.0503 - rmse: 0.1716 - r2: 0.9098 - val_loss: 0.2032 - val_rmse: 0.3332 - val_r2: 0.6183\n",
      "Epoch 51/100\n",
      "784/784 [==============================] - 2s 2ms/step - loss: 0.0498 - rmse: 0.1714 - r2: 0.9112 - val_loss: 0.1868 - val_rmse: 0.3145 - val_r2: 0.6486\n",
      "Epoch 52/100\n",
      "784/784 [==============================] - 2s 2ms/step - loss: 0.0490 - rmse: 0.1695 - r2: 0.9128 - val_loss: 0.1933 - val_rmse: 0.3255 - val_r2: 0.6338\n",
      "Epoch 53/100\n",
      "784/784 [==============================] - 2s 2ms/step - loss: 0.0477 - rmse: 0.1679 - r2: 0.9151 - val_loss: 0.1920 - val_rmse: 0.3229 - val_r2: 0.6353\n",
      "Epoch 54/100\n",
      "784/784 [==============================] - 2s 2ms/step - loss: 0.0480 - rmse: 0.1677 - r2: 0.9135 - val_loss: 0.1875 - val_rmse: 0.3209 - val_r2: 0.6411\n",
      "Epoch 55/100\n",
      "784/784 [==============================] - 2s 2ms/step - loss: 0.0470 - rmse: 0.1662 - r2: 0.9155 - val_loss: 0.2001 - val_rmse: 0.3306 - val_r2: 0.6229\n",
      "Epoch 56/100\n",
      "784/784 [==============================] - 2s 2ms/step - loss: 0.0471 - rmse: 0.1664 - r2: 0.9148 - val_loss: 0.1930 - val_rmse: 0.3237 - val_r2: 0.6350\n",
      "Epoch 57/100\n",
      "784/784 [==============================] - 2s 2ms/step - loss: 0.0447 - rmse: 0.1622 - r2: 0.9208 - val_loss: 0.1910 - val_rmse: 0.3271 - val_r2: 0.6390\n",
      "Epoch 58/100\n",
      "784/784 [==============================] - 2s 2ms/step - loss: 0.0455 - rmse: 0.1637 - r2: 0.9190 - val_loss: 0.1951 - val_rmse: 0.3235 - val_r2: 0.6330\n",
      "Epoch 59/100\n",
      "784/784 [==============================] - 2s 2ms/step - loss: 0.0445 - rmse: 0.1621 - r2: 0.9205 - val_loss: 0.1971 - val_rmse: 0.3289 - val_r2: 0.6322\n",
      "Epoch 60/100\n",
      "784/784 [==============================] - 2s 2ms/step - loss: 0.0441 - rmse: 0.1611 - r2: 0.9209 - val_loss: 0.1981 - val_rmse: 0.3314 - val_r2: 0.6270\n",
      "Epoch 61/100\n",
      "784/784 [==============================] - 1s 1ms/step - loss: 0.0434 - rmse: 0.1604 - r2: 0.9220 - val_loss: 0.1953 - val_rmse: 0.3256 - val_r2: 0.6357\n",
      "Epoch 62/100\n",
      "784/784 [==============================] - 1s 1ms/step - loss: 0.0431 - rmse: 0.1593 - r2: 0.9223 - val_loss: 0.1971 - val_rmse: 0.3283 - val_r2: 0.6302\n",
      "Epoch 63/100\n",
      "784/784 [==============================] - 2s 2ms/step - loss: 0.0422 - rmse: 0.1583 - r2: 0.9238 - val_loss: 0.2005 - val_rmse: 0.3353 - val_r2: 0.6193\n",
      "Epoch 64/100\n",
      "784/784 [==============================] - 2s 2ms/step - loss: 0.0429 - rmse: 0.1598 - r2: 0.9231 - val_loss: 0.1940 - val_rmse: 0.3271 - val_r2: 0.6346\n",
      "Epoch 65/100\n",
      "784/784 [==============================] - 2s 2ms/step - loss: 0.0417 - rmse: 0.1564 - r2: 0.9249 - val_loss: 0.1901 - val_rmse: 0.3226 - val_r2: 0.6434\n",
      "Epoch 66/100\n",
      "784/784 [==============================] - 2s 2ms/step - loss: 0.0414 - rmse: 0.1564 - r2: 0.9254 - val_loss: 0.1957 - val_rmse: 0.3317 - val_r2: 0.6302\n",
      "Epoch 67/100\n",
      "784/784 [==============================] - 2s 2ms/step - loss: 0.0414 - rmse: 0.1566 - r2: 0.9257 - val_loss: 0.1910 - val_rmse: 0.3241 - val_r2: 0.6401\n",
      "Epoch 68/100\n",
      "784/784 [==============================] - 2s 2ms/step - loss: 0.0407 - rmse: 0.1545 - r2: 0.9278 - val_loss: 0.1898 - val_rmse: 0.3231 - val_r2: 0.6459\n",
      "Epoch 69/100\n",
      "784/784 [==============================] - 2s 2ms/step - loss: 0.0406 - rmse: 0.1543 - r2: 0.9268 - val_loss: 0.1967 - val_rmse: 0.3294 - val_r2: 0.6319\n",
      "Epoch 70/100\n",
      "784/784 [==============================] - 1s 1ms/step - loss: 0.0399 - rmse: 0.1538 - r2: 0.9287 - val_loss: 0.1929 - val_rmse: 0.3272 - val_r2: 0.6392\n",
      "Epoch 71/100\n",
      "784/784 [==============================] - 1s 1ms/step - loss: 0.0396 - rmse: 0.1529 - r2: 0.9284 - val_loss: 0.1983 - val_rmse: 0.3339 - val_r2: 0.6232\n",
      "Epoch 72/100\n",
      "784/784 [==============================] - 1s 1ms/step - loss: 0.0393 - rmse: 0.1525 - r2: 0.9298 - val_loss: 0.1951 - val_rmse: 0.3266 - val_r2: 0.6353\n",
      "Epoch 73/100\n",
      "784/784 [==============================] - 1s 2ms/step - loss: 0.0384 - rmse: 0.1507 - r2: 0.9305 - val_loss: 0.1978 - val_rmse: 0.3296 - val_r2: 0.6321\n",
      "Epoch 74/100\n",
      "784/784 [==============================] - 1s 2ms/step - loss: 0.0385 - rmse: 0.1509 - r2: 0.9301 - val_loss: 0.1949 - val_rmse: 0.3262 - val_r2: 0.6374\n",
      "Epoch 75/100\n",
      "784/784 [==============================] - 1s 2ms/step - loss: 0.0386 - rmse: 0.1511 - r2: 0.9310 - val_loss: 0.2050 - val_rmse: 0.3331 - val_r2: 0.6147\n",
      "Epoch 76/100\n",
      "784/784 [==============================] - 1s 2ms/step - loss: 0.0369 - rmse: 0.1479 - r2: 0.9332 - val_loss: 0.1989 - val_rmse: 0.3270 - val_r2: 0.6226\n",
      "Epoch 77/100\n",
      "784/784 [==============================] - 2s 2ms/step - loss: 0.0368 - rmse: 0.1482 - r2: 0.9333 - val_loss: 0.1977 - val_rmse: 0.3313 - val_r2: 0.6246\n",
      "Epoch 78/100\n",
      "784/784 [==============================] - 2s 2ms/step - loss: 0.0373 - rmse: 0.1493 - r2: 0.9328 - val_loss: 0.1942 - val_rmse: 0.3292 - val_r2: 0.6281\n",
      "Epoch 79/100\n",
      "784/784 [==============================] - 2s 2ms/step - loss: 0.0378 - rmse: 0.1491 - r2: 0.9320 - val_loss: 0.1938 - val_rmse: 0.3220 - val_r2: 0.6311\n",
      "Epoch 80/100\n",
      "784/784 [==============================] - 2s 2ms/step - loss: 0.0365 - rmse: 0.1472 - r2: 0.9346 - val_loss: 0.2032 - val_rmse: 0.3354 - val_r2: 0.6143\n",
      "Epoch 81/100\n",
      "784/784 [==============================] - 1s 2ms/step - loss: 0.0359 - rmse: 0.1460 - r2: 0.9352 - val_loss: 0.2077 - val_rmse: 0.3399 - val_r2: 0.6076\n",
      "Epoch 82/100\n",
      "784/784 [==============================] - 1s 2ms/step - loss: 0.0361 - rmse: 0.1470 - r2: 0.9348 - val_loss: 0.1962 - val_rmse: 0.3281 - val_r2: 0.6293\n",
      "Epoch 83/100\n",
      "784/784 [==============================] - 1s 2ms/step - loss: 0.0351 - rmse: 0.1447 - r2: 0.9367 - val_loss: 0.1994 - val_rmse: 0.3342 - val_r2: 0.6237\n",
      "Epoch 84/100\n",
      "784/784 [==============================] - 1s 2ms/step - loss: 0.0355 - rmse: 0.1457 - r2: 0.9356 - val_loss: 0.2012 - val_rmse: 0.3345 - val_r2: 0.6202\n",
      "Epoch 85/100\n",
      "784/784 [==============================] - 1s 2ms/step - loss: 0.0348 - rmse: 0.1439 - r2: 0.9377 - val_loss: 0.1927 - val_rmse: 0.3274 - val_r2: 0.6375\n",
      "Epoch 86/100\n",
      "784/784 [==============================] - 1s 2ms/step - loss: 0.0357 - rmse: 0.1453 - r2: 0.9353 - val_loss: 0.1972 - val_rmse: 0.3306 - val_r2: 0.6288\n",
      "Epoch 87/100\n",
      "784/784 [==============================] - 2s 2ms/step - loss: 0.0345 - rmse: 0.1437 - r2: 0.9372 - val_loss: 0.1938 - val_rmse: 0.3316 - val_r2: 0.6330\n",
      "Epoch 88/100\n",
      "784/784 [==============================] - 2s 2ms/step - loss: 0.0349 - rmse: 0.1442 - r2: 0.9368 - val_loss: 0.1998 - val_rmse: 0.3332 - val_r2: 0.6219\n",
      "Epoch 89/100\n",
      "784/784 [==============================] - 1s 2ms/step - loss: 0.0340 - rmse: 0.1425 - r2: 0.9389 - val_loss: 0.2011 - val_rmse: 0.3347 - val_r2: 0.6190\n",
      "Epoch 90/100\n",
      "784/784 [==============================] - 2s 2ms/step - loss: 0.0333 - rmse: 0.1408 - r2: 0.9396 - val_loss: 0.1942 - val_rmse: 0.3304 - val_r2: 0.6338\n",
      "Epoch 91/100\n",
      "784/784 [==============================] - 2s 2ms/step - loss: 0.0341 - rmse: 0.1422 - r2: 0.9385 - val_loss: 0.2026 - val_rmse: 0.3337 - val_r2: 0.6227\n",
      "Epoch 92/100\n",
      "784/784 [==============================] - 1s 2ms/step - loss: 0.0341 - rmse: 0.1416 - r2: 0.9386 - val_loss: 0.2099 - val_rmse: 0.3404 - val_r2: 0.6112\n",
      "Epoch 93/100\n",
      "784/784 [==============================] - 1s 2ms/step - loss: 0.0329 - rmse: 0.1402 - r2: 0.9405 - val_loss: 0.2092 - val_rmse: 0.3407 - val_r2: 0.6099\n",
      "Epoch 94/100\n",
      "784/784 [==============================] - 1s 2ms/step - loss: 0.0321 - rmse: 0.1380 - r2: 0.9425 - val_loss: 0.2077 - val_rmse: 0.3372 - val_r2: 0.6149\n",
      "Epoch 95/100\n",
      "784/784 [==============================] - 2s 2ms/step - loss: 0.0324 - rmse: 0.1389 - r2: 0.9418 - val_loss: 0.2095 - val_rmse: 0.3394 - val_r2: 0.6073\n",
      "Epoch 96/100\n",
      "784/784 [==============================] - 2s 2ms/step - loss: 0.0328 - rmse: 0.1393 - r2: 0.9402 - val_loss: 0.2132 - val_rmse: 0.3398 - val_r2: 0.6004\n",
      "Epoch 97/100\n",
      "784/784 [==============================] - 2s 2ms/step - loss: 0.0322 - rmse: 0.1383 - r2: 0.9420 - val_loss: 0.2101 - val_rmse: 0.3415 - val_r2: 0.6077\n",
      "Epoch 98/100\n",
      "784/784 [==============================] - 2s 2ms/step - loss: 0.0319 - rmse: 0.1378 - r2: 0.9419 - val_loss: 0.2022 - val_rmse: 0.3358 - val_r2: 0.6183\n",
      "Epoch 99/100\n"
     ]
    },
    {
     "name": "stdout",
     "output_type": "stream",
     "text": [
      "784/784 [==============================] - 2s 2ms/step - loss: 0.0313 - rmse: 0.1362 - r2: 0.9433 - val_loss: 0.2060 - val_rmse: 0.3343 - val_r2: 0.6127\n",
      "Epoch 100/100\n",
      "784/784 [==============================] - 2s 2ms/step - loss: 0.0320 - rmse: 0.1381 - r2: 0.9425 - val_loss: 0.2066 - val_rmse: 0.3359 - val_r2: 0.6115\n"
     ]
    }
   ],
   "source": [
    "epoch=100\n",
    "history_dp = model_dp.fit(X_train_trfm, y_train, epochs=epoch, validation_split=0.05)"
   ]
  },
  {
   "cell_type": "code",
   "execution_count": 103,
   "id": "910218c5",
   "metadata": {},
   "outputs": [
    {
     "data": {
      "application/vnd.plotly.v1+json": {
       "config": {
        "plotlyServerURL": "https://plot.ly"
       },
       "data": [
        {
         "name": "Train",
         "type": "scattergl",
         "y": [
          0.6299203038215637,
          0.23772305250167847,
          0.19434630870819092,
          0.17497389018535614,
          0.16205471754074097,
          0.15710532665252686,
          0.1424139440059662,
          0.14015701413154602,
          0.1270890235900879,
          0.1216479241847992,
          0.11687075346708298,
          0.1122448667883873,
          0.10878248512744904,
          0.10543916374444962,
          0.10087712854146957,
          0.0983407124876976,
          0.09484963119029999,
          0.09337154030799866,
          0.088823102414608,
          0.08720646053552628,
          0.08397899568080902,
          0.08406594395637512,
          0.08130677044391632,
          0.07861602306365967,
          0.07592162489891052,
          0.07627713680267334,
          0.07252583652734756,
          0.07079581171274185,
          0.07140521705150604,
          0.07063927501440048,
          0.06791555881500244,
          0.06705467402935028,
          0.06456559151411057,
          0.06391129642724991,
          0.06299228221178055,
          0.06227846071124077,
          0.06174728274345398,
          0.0588487908244133,
          0.05922463908791542,
          0.058603860437870026,
          0.05690562725067139,
          0.05630531162023544,
          0.05627245455980301,
          0.05389544740319252,
          0.05374491959810257,
          0.05270659923553467,
          0.05180458351969719,
          0.05082372948527336,
          0.050071489065885544,
          0.05025326460599899,
          0.049760330468416214,
          0.04900101572275162,
          0.04774973914027214,
          0.0479661263525486,
          0.04698671028017998,
          0.04714464396238327,
          0.04468308016657829,
          0.04551776126027107,
          0.04454845190048218,
          0.04405292123556137,
          0.04338936507701874,
          0.043051738291978836,
          0.04216424375772476,
          0.042889274656772614,
          0.04166024550795555,
          0.041367776691913605,
          0.041442207992076874,
          0.04068053513765335,
          0.04056490957736969,
          0.039911478757858276,
          0.039569463580846786,
          0.03929174691438675,
          0.03838473558425903,
          0.038513701409101486,
          0.038627222180366516,
          0.03689037263393402,
          0.03682304173707962,
          0.0373186431825161,
          0.037750959396362305,
          0.03650488331913948,
          0.03592097386717796,
          0.03606259822845459,
          0.03513675928115845,
          0.03552119433879852,
          0.034788332879543304,
          0.03571711480617523,
          0.034474339336156845,
          0.03494133800268173,
          0.033969808369874954,
          0.03334146365523338,
          0.0340765006840229,
          0.03406829759478569,
          0.03291782736778259,
          0.03209322690963745,
          0.03239550068974495,
          0.03281574323773384,
          0.03215017169713974,
          0.031857218593358994,
          0.031318847090005875,
          0.03197428956627846
         ]
        },
        {
         "name": "Valid",
         "type": "scattergl",
         "y": [
          0.2672414183616638,
          0.22064363956451416,
          0.18797053396701813,
          0.17701898515224457,
          0.17876999080181122,
          0.17524594068527222,
          0.16600804030895233,
          0.16718719899654388,
          0.16306032240390778,
          0.16243116557598114,
          0.16831360757350922,
          0.16028550267219543,
          0.17335736751556396,
          0.16240215301513672,
          0.16799581050872803,
          0.17850925028324127,
          0.17632149159908295,
          0.1791362464427948,
          0.1758766919374466,
          0.1683359593153,
          0.1722802221775055,
          0.16472376883029938,
          0.17850545048713684,
          0.17402219772338867,
          0.17255431413650513,
          0.18054033815860748,
          0.17159435153007507,
          0.17793016135692596,
          0.17632532119750977,
          0.1811380237340927,
          0.1771307736635208,
          0.177077978849411,
          0.1804479956626892,
          0.17598067224025726,
          0.1824873387813568,
          0.18797901272773743,
          0.17504993081092834,
          0.19104596972465515,
          0.19064466655254364,
          0.19313521683216095,
          0.1926870495080948,
          0.18669773638248444,
          0.18284527957439423,
          0.19717192649841309,
          0.19418716430664062,
          0.1885296106338501,
          0.1958814114332199,
          0.18457600474357605,
          0.1958562284708023,
          0.20323392748832703,
          0.186800017952919,
          0.19328220188617706,
          0.19195906817913055,
          0.18749932944774628,
          0.20012739300727844,
          0.19301237165927887,
          0.19104993343353271,
          0.1950797289609909,
          0.1970718502998352,
          0.19809266924858093,
          0.19529397785663605,
          0.19706518948078156,
          0.20049649477005005,
          0.19398106634616852,
          0.1900935024023056,
          0.1956912726163864,
          0.19097179174423218,
          0.18976709246635437,
          0.1966792494058609,
          0.1928834170103073,
          0.1982908844947815,
          0.19509679079055786,
          0.19781728088855743,
          0.19493432343006134,
          0.2049892544746399,
          0.19893880188465118,
          0.19766423106193542,
          0.19415254890918732,
          0.19377011060714722,
          0.20322641730308533,
          0.20774854719638824,
          0.19618916511535645,
          0.19937536120414734,
          0.20118756592273712,
          0.19267113506793976,
          0.19721734523773193,
          0.19379715621471405,
          0.19978077709674835,
          0.20108845829963684,
          0.19419342279434204,
          0.2025562971830368,
          0.20988719165325165,
          0.20917850732803345,
          0.20765936374664307,
          0.2094823569059372,
          0.2131887823343277,
          0.21011318266391754,
          0.20215196907520294,
          0.20599903166294098,
          0.20656824111938477
         ]
        }
       ],
       "layout": {
        "height": 500,
        "template": {
         "data": {
          "bar": [
           {
            "error_x": {
             "color": "#2a3f5f"
            },
            "error_y": {
             "color": "#2a3f5f"
            },
            "marker": {
             "line": {
              "color": "#E5ECF6",
              "width": 0.5
             },
             "pattern": {
              "fillmode": "overlay",
              "size": 10,
              "solidity": 0.2
             }
            },
            "type": "bar"
           }
          ],
          "barpolar": [
           {
            "marker": {
             "line": {
              "color": "#E5ECF6",
              "width": 0.5
             },
             "pattern": {
              "fillmode": "overlay",
              "size": 10,
              "solidity": 0.2
             }
            },
            "type": "barpolar"
           }
          ],
          "carpet": [
           {
            "aaxis": {
             "endlinecolor": "#2a3f5f",
             "gridcolor": "white",
             "linecolor": "white",
             "minorgridcolor": "white",
             "startlinecolor": "#2a3f5f"
            },
            "baxis": {
             "endlinecolor": "#2a3f5f",
             "gridcolor": "white",
             "linecolor": "white",
             "minorgridcolor": "white",
             "startlinecolor": "#2a3f5f"
            },
            "type": "carpet"
           }
          ],
          "choropleth": [
           {
            "colorbar": {
             "outlinewidth": 0,
             "ticks": ""
            },
            "type": "choropleth"
           }
          ],
          "contour": [
           {
            "colorbar": {
             "outlinewidth": 0,
             "ticks": ""
            },
            "colorscale": [
             [
              0,
              "#0d0887"
             ],
             [
              0.1111111111111111,
              "#46039f"
             ],
             [
              0.2222222222222222,
              "#7201a8"
             ],
             [
              0.3333333333333333,
              "#9c179e"
             ],
             [
              0.4444444444444444,
              "#bd3786"
             ],
             [
              0.5555555555555556,
              "#d8576b"
             ],
             [
              0.6666666666666666,
              "#ed7953"
             ],
             [
              0.7777777777777778,
              "#fb9f3a"
             ],
             [
              0.8888888888888888,
              "#fdca26"
             ],
             [
              1,
              "#f0f921"
             ]
            ],
            "type": "contour"
           }
          ],
          "contourcarpet": [
           {
            "colorbar": {
             "outlinewidth": 0,
             "ticks": ""
            },
            "type": "contourcarpet"
           }
          ],
          "heatmap": [
           {
            "colorbar": {
             "outlinewidth": 0,
             "ticks": ""
            },
            "colorscale": [
             [
              0,
              "#0d0887"
             ],
             [
              0.1111111111111111,
              "#46039f"
             ],
             [
              0.2222222222222222,
              "#7201a8"
             ],
             [
              0.3333333333333333,
              "#9c179e"
             ],
             [
              0.4444444444444444,
              "#bd3786"
             ],
             [
              0.5555555555555556,
              "#d8576b"
             ],
             [
              0.6666666666666666,
              "#ed7953"
             ],
             [
              0.7777777777777778,
              "#fb9f3a"
             ],
             [
              0.8888888888888888,
              "#fdca26"
             ],
             [
              1,
              "#f0f921"
             ]
            ],
            "type": "heatmap"
           }
          ],
          "heatmapgl": [
           {
            "colorbar": {
             "outlinewidth": 0,
             "ticks": ""
            },
            "colorscale": [
             [
              0,
              "#0d0887"
             ],
             [
              0.1111111111111111,
              "#46039f"
             ],
             [
              0.2222222222222222,
              "#7201a8"
             ],
             [
              0.3333333333333333,
              "#9c179e"
             ],
             [
              0.4444444444444444,
              "#bd3786"
             ],
             [
              0.5555555555555556,
              "#d8576b"
             ],
             [
              0.6666666666666666,
              "#ed7953"
             ],
             [
              0.7777777777777778,
              "#fb9f3a"
             ],
             [
              0.8888888888888888,
              "#fdca26"
             ],
             [
              1,
              "#f0f921"
             ]
            ],
            "type": "heatmapgl"
           }
          ],
          "histogram": [
           {
            "marker": {
             "pattern": {
              "fillmode": "overlay",
              "size": 10,
              "solidity": 0.2
             }
            },
            "type": "histogram"
           }
          ],
          "histogram2d": [
           {
            "colorbar": {
             "outlinewidth": 0,
             "ticks": ""
            },
            "colorscale": [
             [
              0,
              "#0d0887"
             ],
             [
              0.1111111111111111,
              "#46039f"
             ],
             [
              0.2222222222222222,
              "#7201a8"
             ],
             [
              0.3333333333333333,
              "#9c179e"
             ],
             [
              0.4444444444444444,
              "#bd3786"
             ],
             [
              0.5555555555555556,
              "#d8576b"
             ],
             [
              0.6666666666666666,
              "#ed7953"
             ],
             [
              0.7777777777777778,
              "#fb9f3a"
             ],
             [
              0.8888888888888888,
              "#fdca26"
             ],
             [
              1,
              "#f0f921"
             ]
            ],
            "type": "histogram2d"
           }
          ],
          "histogram2dcontour": [
           {
            "colorbar": {
             "outlinewidth": 0,
             "ticks": ""
            },
            "colorscale": [
             [
              0,
              "#0d0887"
             ],
             [
              0.1111111111111111,
              "#46039f"
             ],
             [
              0.2222222222222222,
              "#7201a8"
             ],
             [
              0.3333333333333333,
              "#9c179e"
             ],
             [
              0.4444444444444444,
              "#bd3786"
             ],
             [
              0.5555555555555556,
              "#d8576b"
             ],
             [
              0.6666666666666666,
              "#ed7953"
             ],
             [
              0.7777777777777778,
              "#fb9f3a"
             ],
             [
              0.8888888888888888,
              "#fdca26"
             ],
             [
              1,
              "#f0f921"
             ]
            ],
            "type": "histogram2dcontour"
           }
          ],
          "mesh3d": [
           {
            "colorbar": {
             "outlinewidth": 0,
             "ticks": ""
            },
            "type": "mesh3d"
           }
          ],
          "parcoords": [
           {
            "line": {
             "colorbar": {
              "outlinewidth": 0,
              "ticks": ""
             }
            },
            "type": "parcoords"
           }
          ],
          "pie": [
           {
            "automargin": true,
            "type": "pie"
           }
          ],
          "scatter": [
           {
            "marker": {
             "colorbar": {
              "outlinewidth": 0,
              "ticks": ""
             }
            },
            "type": "scatter"
           }
          ],
          "scatter3d": [
           {
            "line": {
             "colorbar": {
              "outlinewidth": 0,
              "ticks": ""
             }
            },
            "marker": {
             "colorbar": {
              "outlinewidth": 0,
              "ticks": ""
             }
            },
            "type": "scatter3d"
           }
          ],
          "scattercarpet": [
           {
            "marker": {
             "colorbar": {
              "outlinewidth": 0,
              "ticks": ""
             }
            },
            "type": "scattercarpet"
           }
          ],
          "scattergeo": [
           {
            "marker": {
             "colorbar": {
              "outlinewidth": 0,
              "ticks": ""
             }
            },
            "type": "scattergeo"
           }
          ],
          "scattergl": [
           {
            "marker": {
             "colorbar": {
              "outlinewidth": 0,
              "ticks": ""
             }
            },
            "type": "scattergl"
           }
          ],
          "scattermapbox": [
           {
            "marker": {
             "colorbar": {
              "outlinewidth": 0,
              "ticks": ""
             }
            },
            "type": "scattermapbox"
           }
          ],
          "scatterpolar": [
           {
            "marker": {
             "colorbar": {
              "outlinewidth": 0,
              "ticks": ""
             }
            },
            "type": "scatterpolar"
           }
          ],
          "scatterpolargl": [
           {
            "marker": {
             "colorbar": {
              "outlinewidth": 0,
              "ticks": ""
             }
            },
            "type": "scatterpolargl"
           }
          ],
          "scatterternary": [
           {
            "marker": {
             "colorbar": {
              "outlinewidth": 0,
              "ticks": ""
             }
            },
            "type": "scatterternary"
           }
          ],
          "surface": [
           {
            "colorbar": {
             "outlinewidth": 0,
             "ticks": ""
            },
            "colorscale": [
             [
              0,
              "#0d0887"
             ],
             [
              0.1111111111111111,
              "#46039f"
             ],
             [
              0.2222222222222222,
              "#7201a8"
             ],
             [
              0.3333333333333333,
              "#9c179e"
             ],
             [
              0.4444444444444444,
              "#bd3786"
             ],
             [
              0.5555555555555556,
              "#d8576b"
             ],
             [
              0.6666666666666666,
              "#ed7953"
             ],
             [
              0.7777777777777778,
              "#fb9f3a"
             ],
             [
              0.8888888888888888,
              "#fdca26"
             ],
             [
              1,
              "#f0f921"
             ]
            ],
            "type": "surface"
           }
          ],
          "table": [
           {
            "cells": {
             "fill": {
              "color": "#EBF0F8"
             },
             "line": {
              "color": "white"
             }
            },
            "header": {
             "fill": {
              "color": "#C8D4E3"
             },
             "line": {
              "color": "white"
             }
            },
            "type": "table"
           }
          ]
         },
         "layout": {
          "annotationdefaults": {
           "arrowcolor": "#2a3f5f",
           "arrowhead": 0,
           "arrowwidth": 1
          },
          "autotypenumbers": "strict",
          "coloraxis": {
           "colorbar": {
            "outlinewidth": 0,
            "ticks": ""
           }
          },
          "colorscale": {
           "diverging": [
            [
             0,
             "#8e0152"
            ],
            [
             0.1,
             "#c51b7d"
            ],
            [
             0.2,
             "#de77ae"
            ],
            [
             0.3,
             "#f1b6da"
            ],
            [
             0.4,
             "#fde0ef"
            ],
            [
             0.5,
             "#f7f7f7"
            ],
            [
             0.6,
             "#e6f5d0"
            ],
            [
             0.7,
             "#b8e186"
            ],
            [
             0.8,
             "#7fbc41"
            ],
            [
             0.9,
             "#4d9221"
            ],
            [
             1,
             "#276419"
            ]
           ],
           "sequential": [
            [
             0,
             "#0d0887"
            ],
            [
             0.1111111111111111,
             "#46039f"
            ],
            [
             0.2222222222222222,
             "#7201a8"
            ],
            [
             0.3333333333333333,
             "#9c179e"
            ],
            [
             0.4444444444444444,
             "#bd3786"
            ],
            [
             0.5555555555555556,
             "#d8576b"
            ],
            [
             0.6666666666666666,
             "#ed7953"
            ],
            [
             0.7777777777777778,
             "#fb9f3a"
            ],
            [
             0.8888888888888888,
             "#fdca26"
            ],
            [
             1,
             "#f0f921"
            ]
           ],
           "sequentialminus": [
            [
             0,
             "#0d0887"
            ],
            [
             0.1111111111111111,
             "#46039f"
            ],
            [
             0.2222222222222222,
             "#7201a8"
            ],
            [
             0.3333333333333333,
             "#9c179e"
            ],
            [
             0.4444444444444444,
             "#bd3786"
            ],
            [
             0.5555555555555556,
             "#d8576b"
            ],
            [
             0.6666666666666666,
             "#ed7953"
            ],
            [
             0.7777777777777778,
             "#fb9f3a"
            ],
            [
             0.8888888888888888,
             "#fdca26"
            ],
            [
             1,
             "#f0f921"
            ]
           ]
          },
          "colorway": [
           "#636efa",
           "#EF553B",
           "#00cc96",
           "#ab63fa",
           "#FFA15A",
           "#19d3f3",
           "#FF6692",
           "#B6E880",
           "#FF97FF",
           "#FECB52"
          ],
          "font": {
           "color": "#2a3f5f"
          },
          "geo": {
           "bgcolor": "white",
           "lakecolor": "white",
           "landcolor": "#E5ECF6",
           "showlakes": true,
           "showland": true,
           "subunitcolor": "white"
          },
          "hoverlabel": {
           "align": "left"
          },
          "hovermode": "closest",
          "mapbox": {
           "style": "light"
          },
          "paper_bgcolor": "white",
          "plot_bgcolor": "#E5ECF6",
          "polar": {
           "angularaxis": {
            "gridcolor": "white",
            "linecolor": "white",
            "ticks": ""
           },
           "bgcolor": "#E5ECF6",
           "radialaxis": {
            "gridcolor": "white",
            "linecolor": "white",
            "ticks": ""
           }
          },
          "scene": {
           "xaxis": {
            "backgroundcolor": "#E5ECF6",
            "gridcolor": "white",
            "gridwidth": 2,
            "linecolor": "white",
            "showbackground": true,
            "ticks": "",
            "zerolinecolor": "white"
           },
           "yaxis": {
            "backgroundcolor": "#E5ECF6",
            "gridcolor": "white",
            "gridwidth": 2,
            "linecolor": "white",
            "showbackground": true,
            "ticks": "",
            "zerolinecolor": "white"
           },
           "zaxis": {
            "backgroundcolor": "#E5ECF6",
            "gridcolor": "white",
            "gridwidth": 2,
            "linecolor": "white",
            "showbackground": true,
            "ticks": "",
            "zerolinecolor": "white"
           }
          },
          "shapedefaults": {
           "line": {
            "color": "#2a3f5f"
           }
          },
          "ternary": {
           "aaxis": {
            "gridcolor": "white",
            "linecolor": "white",
            "ticks": ""
           },
           "baxis": {
            "gridcolor": "white",
            "linecolor": "white",
            "ticks": ""
           },
           "bgcolor": "#E5ECF6",
           "caxis": {
            "gridcolor": "white",
            "linecolor": "white",
            "ticks": ""
           }
          },
          "title": {
           "x": 0.05
          },
          "xaxis": {
           "automargin": true,
           "gridcolor": "white",
           "linecolor": "white",
           "ticks": "",
           "title": {
            "standoff": 15
           },
           "zerolinecolor": "white",
           "zerolinewidth": 2
          },
          "yaxis": {
           "automargin": true,
           "gridcolor": "white",
           "linecolor": "white",
           "ticks": "",
           "title": {
            "standoff": 15
           },
           "zerolinecolor": "white",
           "zerolinewidth": 2
          }
         }
        },
        "width": 700,
        "xaxis": {
         "title": {
          "text": "Epoch"
         }
        },
        "yaxis": {
         "title": {
          "text": "MSE"
         }
        }
       }
      },
      "text/html": [
       "<div>                            <div id=\"71a488a7-8c10-4e15-8de0-2812db5ade71\" class=\"plotly-graph-div\" style=\"height:500px; width:700px;\"></div>            <script type=\"text/javascript\">                require([\"plotly\"], function(Plotly) {                    window.PLOTLYENV=window.PLOTLYENV || {};                                    if (document.getElementById(\"71a488a7-8c10-4e15-8de0-2812db5ade71\")) {                    Plotly.newPlot(                        \"71a488a7-8c10-4e15-8de0-2812db5ade71\",                        [{\"name\":\"Train\",\"y\":[0.6299203038215637,0.23772305250167847,0.19434630870819092,0.17497389018535614,0.16205471754074097,0.15710532665252686,0.1424139440059662,0.14015701413154602,0.1270890235900879,0.1216479241847992,0.11687075346708298,0.1122448667883873,0.10878248512744904,0.10543916374444962,0.10087712854146957,0.0983407124876976,0.09484963119029999,0.09337154030799866,0.088823102414608,0.08720646053552628,0.08397899568080902,0.08406594395637512,0.08130677044391632,0.07861602306365967,0.07592162489891052,0.07627713680267334,0.07252583652734756,0.07079581171274185,0.07140521705150604,0.07063927501440048,0.06791555881500244,0.06705467402935028,0.06456559151411057,0.06391129642724991,0.06299228221178055,0.06227846071124077,0.06174728274345398,0.0588487908244133,0.05922463908791542,0.058603860437870026,0.05690562725067139,0.05630531162023544,0.05627245455980301,0.05389544740319252,0.05374491959810257,0.05270659923553467,0.05180458351969719,0.05082372948527336,0.050071489065885544,0.05025326460599899,0.049760330468416214,0.04900101572275162,0.04774973914027214,0.0479661263525486,0.04698671028017998,0.04714464396238327,0.04468308016657829,0.04551776126027107,0.04454845190048218,0.04405292123556137,0.04338936507701874,0.043051738291978836,0.04216424375772476,0.042889274656772614,0.04166024550795555,0.041367776691913605,0.041442207992076874,0.04068053513765335,0.04056490957736969,0.039911478757858276,0.039569463580846786,0.03929174691438675,0.03838473558425903,0.038513701409101486,0.038627222180366516,0.03689037263393402,0.03682304173707962,0.0373186431825161,0.037750959396362305,0.03650488331913948,0.03592097386717796,0.03606259822845459,0.03513675928115845,0.03552119433879852,0.034788332879543304,0.03571711480617523,0.034474339336156845,0.03494133800268173,0.033969808369874954,0.03334146365523338,0.0340765006840229,0.03406829759478569,0.03291782736778259,0.03209322690963745,0.03239550068974495,0.03281574323773384,0.03215017169713974,0.031857218593358994,0.031318847090005875,0.03197428956627846],\"type\":\"scattergl\"},{\"name\":\"Valid\",\"y\":[0.2672414183616638,0.22064363956451416,0.18797053396701813,0.17701898515224457,0.17876999080181122,0.17524594068527222,0.16600804030895233,0.16718719899654388,0.16306032240390778,0.16243116557598114,0.16831360757350922,0.16028550267219543,0.17335736751556396,0.16240215301513672,0.16799581050872803,0.17850925028324127,0.17632149159908295,0.1791362464427948,0.1758766919374466,0.1683359593153,0.1722802221775055,0.16472376883029938,0.17850545048713684,0.17402219772338867,0.17255431413650513,0.18054033815860748,0.17159435153007507,0.17793016135692596,0.17632532119750977,0.1811380237340927,0.1771307736635208,0.177077978849411,0.1804479956626892,0.17598067224025726,0.1824873387813568,0.18797901272773743,0.17504993081092834,0.19104596972465515,0.19064466655254364,0.19313521683216095,0.1926870495080948,0.18669773638248444,0.18284527957439423,0.19717192649841309,0.19418716430664062,0.1885296106338501,0.1958814114332199,0.18457600474357605,0.1958562284708023,0.20323392748832703,0.186800017952919,0.19328220188617706,0.19195906817913055,0.18749932944774628,0.20012739300727844,0.19301237165927887,0.19104993343353271,0.1950797289609909,0.1970718502998352,0.19809266924858093,0.19529397785663605,0.19706518948078156,0.20049649477005005,0.19398106634616852,0.1900935024023056,0.1956912726163864,0.19097179174423218,0.18976709246635437,0.1966792494058609,0.1928834170103073,0.1982908844947815,0.19509679079055786,0.19781728088855743,0.19493432343006134,0.2049892544746399,0.19893880188465118,0.19766423106193542,0.19415254890918732,0.19377011060714722,0.20322641730308533,0.20774854719638824,0.19618916511535645,0.19937536120414734,0.20118756592273712,0.19267113506793976,0.19721734523773193,0.19379715621471405,0.19978077709674835,0.20108845829963684,0.19419342279434204,0.2025562971830368,0.20988719165325165,0.20917850732803345,0.20765936374664307,0.2094823569059372,0.2131887823343277,0.21011318266391754,0.20215196907520294,0.20599903166294098,0.20656824111938477],\"type\":\"scattergl\"}],                        {\"template\":{\"data\":{\"bar\":[{\"error_x\":{\"color\":\"#2a3f5f\"},\"error_y\":{\"color\":\"#2a3f5f\"},\"marker\":{\"line\":{\"color\":\"#E5ECF6\",\"width\":0.5},\"pattern\":{\"fillmode\":\"overlay\",\"size\":10,\"solidity\":0.2}},\"type\":\"bar\"}],\"barpolar\":[{\"marker\":{\"line\":{\"color\":\"#E5ECF6\",\"width\":0.5},\"pattern\":{\"fillmode\":\"overlay\",\"size\":10,\"solidity\":0.2}},\"type\":\"barpolar\"}],\"carpet\":[{\"aaxis\":{\"endlinecolor\":\"#2a3f5f\",\"gridcolor\":\"white\",\"linecolor\":\"white\",\"minorgridcolor\":\"white\",\"startlinecolor\":\"#2a3f5f\"},\"baxis\":{\"endlinecolor\":\"#2a3f5f\",\"gridcolor\":\"white\",\"linecolor\":\"white\",\"minorgridcolor\":\"white\",\"startlinecolor\":\"#2a3f5f\"},\"type\":\"carpet\"}],\"choropleth\":[{\"colorbar\":{\"outlinewidth\":0,\"ticks\":\"\"},\"type\":\"choropleth\"}],\"contour\":[{\"colorbar\":{\"outlinewidth\":0,\"ticks\":\"\"},\"colorscale\":[[0.0,\"#0d0887\"],[0.1111111111111111,\"#46039f\"],[0.2222222222222222,\"#7201a8\"],[0.3333333333333333,\"#9c179e\"],[0.4444444444444444,\"#bd3786\"],[0.5555555555555556,\"#d8576b\"],[0.6666666666666666,\"#ed7953\"],[0.7777777777777778,\"#fb9f3a\"],[0.8888888888888888,\"#fdca26\"],[1.0,\"#f0f921\"]],\"type\":\"contour\"}],\"contourcarpet\":[{\"colorbar\":{\"outlinewidth\":0,\"ticks\":\"\"},\"type\":\"contourcarpet\"}],\"heatmap\":[{\"colorbar\":{\"outlinewidth\":0,\"ticks\":\"\"},\"colorscale\":[[0.0,\"#0d0887\"],[0.1111111111111111,\"#46039f\"],[0.2222222222222222,\"#7201a8\"],[0.3333333333333333,\"#9c179e\"],[0.4444444444444444,\"#bd3786\"],[0.5555555555555556,\"#d8576b\"],[0.6666666666666666,\"#ed7953\"],[0.7777777777777778,\"#fb9f3a\"],[0.8888888888888888,\"#fdca26\"],[1.0,\"#f0f921\"]],\"type\":\"heatmap\"}],\"heatmapgl\":[{\"colorbar\":{\"outlinewidth\":0,\"ticks\":\"\"},\"colorscale\":[[0.0,\"#0d0887\"],[0.1111111111111111,\"#46039f\"],[0.2222222222222222,\"#7201a8\"],[0.3333333333333333,\"#9c179e\"],[0.4444444444444444,\"#bd3786\"],[0.5555555555555556,\"#d8576b\"],[0.6666666666666666,\"#ed7953\"],[0.7777777777777778,\"#fb9f3a\"],[0.8888888888888888,\"#fdca26\"],[1.0,\"#f0f921\"]],\"type\":\"heatmapgl\"}],\"histogram\":[{\"marker\":{\"pattern\":{\"fillmode\":\"overlay\",\"size\":10,\"solidity\":0.2}},\"type\":\"histogram\"}],\"histogram2d\":[{\"colorbar\":{\"outlinewidth\":0,\"ticks\":\"\"},\"colorscale\":[[0.0,\"#0d0887\"],[0.1111111111111111,\"#46039f\"],[0.2222222222222222,\"#7201a8\"],[0.3333333333333333,\"#9c179e\"],[0.4444444444444444,\"#bd3786\"],[0.5555555555555556,\"#d8576b\"],[0.6666666666666666,\"#ed7953\"],[0.7777777777777778,\"#fb9f3a\"],[0.8888888888888888,\"#fdca26\"],[1.0,\"#f0f921\"]],\"type\":\"histogram2d\"}],\"histogram2dcontour\":[{\"colorbar\":{\"outlinewidth\":0,\"ticks\":\"\"},\"colorscale\":[[0.0,\"#0d0887\"],[0.1111111111111111,\"#46039f\"],[0.2222222222222222,\"#7201a8\"],[0.3333333333333333,\"#9c179e\"],[0.4444444444444444,\"#bd3786\"],[0.5555555555555556,\"#d8576b\"],[0.6666666666666666,\"#ed7953\"],[0.7777777777777778,\"#fb9f3a\"],[0.8888888888888888,\"#fdca26\"],[1.0,\"#f0f921\"]],\"type\":\"histogram2dcontour\"}],\"mesh3d\":[{\"colorbar\":{\"outlinewidth\":0,\"ticks\":\"\"},\"type\":\"mesh3d\"}],\"parcoords\":[{\"line\":{\"colorbar\":{\"outlinewidth\":0,\"ticks\":\"\"}},\"type\":\"parcoords\"}],\"pie\":[{\"automargin\":true,\"type\":\"pie\"}],\"scatter\":[{\"marker\":{\"colorbar\":{\"outlinewidth\":0,\"ticks\":\"\"}},\"type\":\"scatter\"}],\"scatter3d\":[{\"line\":{\"colorbar\":{\"outlinewidth\":0,\"ticks\":\"\"}},\"marker\":{\"colorbar\":{\"outlinewidth\":0,\"ticks\":\"\"}},\"type\":\"scatter3d\"}],\"scattercarpet\":[{\"marker\":{\"colorbar\":{\"outlinewidth\":0,\"ticks\":\"\"}},\"type\":\"scattercarpet\"}],\"scattergeo\":[{\"marker\":{\"colorbar\":{\"outlinewidth\":0,\"ticks\":\"\"}},\"type\":\"scattergeo\"}],\"scattergl\":[{\"marker\":{\"colorbar\":{\"outlinewidth\":0,\"ticks\":\"\"}},\"type\":\"scattergl\"}],\"scattermapbox\":[{\"marker\":{\"colorbar\":{\"outlinewidth\":0,\"ticks\":\"\"}},\"type\":\"scattermapbox\"}],\"scatterpolar\":[{\"marker\":{\"colorbar\":{\"outlinewidth\":0,\"ticks\":\"\"}},\"type\":\"scatterpolar\"}],\"scatterpolargl\":[{\"marker\":{\"colorbar\":{\"outlinewidth\":0,\"ticks\":\"\"}},\"type\":\"scatterpolargl\"}],\"scatterternary\":[{\"marker\":{\"colorbar\":{\"outlinewidth\":0,\"ticks\":\"\"}},\"type\":\"scatterternary\"}],\"surface\":[{\"colorbar\":{\"outlinewidth\":0,\"ticks\":\"\"},\"colorscale\":[[0.0,\"#0d0887\"],[0.1111111111111111,\"#46039f\"],[0.2222222222222222,\"#7201a8\"],[0.3333333333333333,\"#9c179e\"],[0.4444444444444444,\"#bd3786\"],[0.5555555555555556,\"#d8576b\"],[0.6666666666666666,\"#ed7953\"],[0.7777777777777778,\"#fb9f3a\"],[0.8888888888888888,\"#fdca26\"],[1.0,\"#f0f921\"]],\"type\":\"surface\"}],\"table\":[{\"cells\":{\"fill\":{\"color\":\"#EBF0F8\"},\"line\":{\"color\":\"white\"}},\"header\":{\"fill\":{\"color\":\"#C8D4E3\"},\"line\":{\"color\":\"white\"}},\"type\":\"table\"}]},\"layout\":{\"annotationdefaults\":{\"arrowcolor\":\"#2a3f5f\",\"arrowhead\":0,\"arrowwidth\":1},\"autotypenumbers\":\"strict\",\"coloraxis\":{\"colorbar\":{\"outlinewidth\":0,\"ticks\":\"\"}},\"colorscale\":{\"diverging\":[[0,\"#8e0152\"],[0.1,\"#c51b7d\"],[0.2,\"#de77ae\"],[0.3,\"#f1b6da\"],[0.4,\"#fde0ef\"],[0.5,\"#f7f7f7\"],[0.6,\"#e6f5d0\"],[0.7,\"#b8e186\"],[0.8,\"#7fbc41\"],[0.9,\"#4d9221\"],[1,\"#276419\"]],\"sequential\":[[0.0,\"#0d0887\"],[0.1111111111111111,\"#46039f\"],[0.2222222222222222,\"#7201a8\"],[0.3333333333333333,\"#9c179e\"],[0.4444444444444444,\"#bd3786\"],[0.5555555555555556,\"#d8576b\"],[0.6666666666666666,\"#ed7953\"],[0.7777777777777778,\"#fb9f3a\"],[0.8888888888888888,\"#fdca26\"],[1.0,\"#f0f921\"]],\"sequentialminus\":[[0.0,\"#0d0887\"],[0.1111111111111111,\"#46039f\"],[0.2222222222222222,\"#7201a8\"],[0.3333333333333333,\"#9c179e\"],[0.4444444444444444,\"#bd3786\"],[0.5555555555555556,\"#d8576b\"],[0.6666666666666666,\"#ed7953\"],[0.7777777777777778,\"#fb9f3a\"],[0.8888888888888888,\"#fdca26\"],[1.0,\"#f0f921\"]]},\"colorway\":[\"#636efa\",\"#EF553B\",\"#00cc96\",\"#ab63fa\",\"#FFA15A\",\"#19d3f3\",\"#FF6692\",\"#B6E880\",\"#FF97FF\",\"#FECB52\"],\"font\":{\"color\":\"#2a3f5f\"},\"geo\":{\"bgcolor\":\"white\",\"lakecolor\":\"white\",\"landcolor\":\"#E5ECF6\",\"showlakes\":true,\"showland\":true,\"subunitcolor\":\"white\"},\"hoverlabel\":{\"align\":\"left\"},\"hovermode\":\"closest\",\"mapbox\":{\"style\":\"light\"},\"paper_bgcolor\":\"white\",\"plot_bgcolor\":\"#E5ECF6\",\"polar\":{\"angularaxis\":{\"gridcolor\":\"white\",\"linecolor\":\"white\",\"ticks\":\"\"},\"bgcolor\":\"#E5ECF6\",\"radialaxis\":{\"gridcolor\":\"white\",\"linecolor\":\"white\",\"ticks\":\"\"}},\"scene\":{\"xaxis\":{\"backgroundcolor\":\"#E5ECF6\",\"gridcolor\":\"white\",\"gridwidth\":2,\"linecolor\":\"white\",\"showbackground\":true,\"ticks\":\"\",\"zerolinecolor\":\"white\"},\"yaxis\":{\"backgroundcolor\":\"#E5ECF6\",\"gridcolor\":\"white\",\"gridwidth\":2,\"linecolor\":\"white\",\"showbackground\":true,\"ticks\":\"\",\"zerolinecolor\":\"white\"},\"zaxis\":{\"backgroundcolor\":\"#E5ECF6\",\"gridcolor\":\"white\",\"gridwidth\":2,\"linecolor\":\"white\",\"showbackground\":true,\"ticks\":\"\",\"zerolinecolor\":\"white\"}},\"shapedefaults\":{\"line\":{\"color\":\"#2a3f5f\"}},\"ternary\":{\"aaxis\":{\"gridcolor\":\"white\",\"linecolor\":\"white\",\"ticks\":\"\"},\"baxis\":{\"gridcolor\":\"white\",\"linecolor\":\"white\",\"ticks\":\"\"},\"bgcolor\":\"#E5ECF6\",\"caxis\":{\"gridcolor\":\"white\",\"linecolor\":\"white\",\"ticks\":\"\"}},\"title\":{\"x\":0.05},\"xaxis\":{\"automargin\":true,\"gridcolor\":\"white\",\"linecolor\":\"white\",\"ticks\":\"\",\"title\":{\"standoff\":15},\"zerolinecolor\":\"white\",\"zerolinewidth\":2},\"yaxis\":{\"automargin\":true,\"gridcolor\":\"white\",\"linecolor\":\"white\",\"ticks\":\"\",\"title\":{\"standoff\":15},\"zerolinecolor\":\"white\",\"zerolinewidth\":2}}},\"height\":500,\"width\":700,\"xaxis\":{\"title\":{\"text\":\"Epoch\"}},\"yaxis\":{\"title\":{\"text\":\"MSE\"}}},                        {\"responsive\": true}                    ).then(function(){\n",
       "                            \n",
       "var gd = document.getElementById('71a488a7-8c10-4e15-8de0-2812db5ade71');\n",
       "var x = new MutationObserver(function (mutations, observer) {{\n",
       "        var display = window.getComputedStyle(gd).display;\n",
       "        if (!display || display === 'none') {{\n",
       "            console.log([gd, 'removed!']);\n",
       "            Plotly.purge(gd);\n",
       "            observer.disconnect();\n",
       "        }}\n",
       "}});\n",
       "\n",
       "// Listen for the removal of the full notebook cells\n",
       "var notebookContainer = gd.closest('#notebook-container');\n",
       "if (notebookContainer) {{\n",
       "    x.observe(notebookContainer, {childList: true});\n",
       "}}\n",
       "\n",
       "// Listen for the clearing of the current output cell\n",
       "var outputEl = gd.closest('.output');\n",
       "if (outputEl) {{\n",
       "    x.observe(outputEl, {childList: true});\n",
       "}}\n",
       "\n",
       "                        })                };                });            </script>        </div>"
      ]
     },
     "metadata": {},
     "output_type": "display_data"
    }
   ],
   "source": [
    "import plotly.graph_objects as go\n",
    "\n",
    "fig = go.Figure()\n",
    "fig.add_trace(go.Scattergl(y=history_dp.history['loss'],\n",
    "                    name='Train'))\n",
    "fig.add_trace(go.Scattergl(y=history_dp.history['val_loss'],\n",
    "                    name='Valid'))\n",
    "fig.update_layout(height=500, width=700,\n",
    "                  xaxis_title='Epoch',\n",
    "                  yaxis_title='MSE')\n",
    "fig.show()"
   ]
  },
  {
   "cell_type": "code",
   "execution_count": 97,
   "id": "db41ae76",
   "metadata": {},
   "outputs": [
    {
     "name": "stdout",
     "output_type": "stream",
     "text": [
      "207/207 [==============================] - 0s 1ms/step - loss: 0.2290 - rmse: 0.3497 - r2: 0.6107\n",
      "Train R-sq:  0.9425\n",
      "Train MSE:  0.032\n",
      "Val R-sq:  0.6115\n",
      "Val MSE:  0.2066\n",
      "Test R-sq:  0.6107\n",
      "Test MSE:  0.229\n"
     ]
    }
   ],
   "source": [
    "mse_nn, rmse_nn, r2_nn = model_dp.evaluate(X_test_trfm, y_test)\n",
    "print('Train R-sq: ', round(history_dp.history['r2'][epoch-1],4))\n",
    "print('Train MSE: ', round(history_dp.history['loss'][epoch-1],4))\n",
    "print('Val R-sq: ', round(history_dp.history['val_r2'][epoch-1],4))\n",
    "print('Val MSE: ', round(history_dp.history['val_loss'][epoch-1],4))\n",
    "print('Test R-sq: ', round(r2_nn,4))\n",
    "print('Test MSE: ', round(mse_nn,4))"
   ]
  },
  {
   "cell_type": "markdown",
   "id": "d43eac09",
   "metadata": {},
   "source": [
    "### Wide NN"
   ]
  },
  {
   "cell_type": "code",
   "execution_count": 98,
   "id": "ad75b5cb",
   "metadata": {},
   "outputs": [
    {
     "name": "stdout",
     "output_type": "stream",
     "text": [
      "Model: \"sequential_7\"\n",
      "_________________________________________________________________\n",
      " Layer (type)                Output Shape              Param #   \n",
      "=================================================================\n",
      " dense_16 (Dense)            (None, 200)               24200     \n",
      "                                                                 \n",
      " dense_17 (Dense)            (None, 1)                 201       \n",
      "                                                                 \n",
      "=================================================================\n",
      "Total params: 24,401\n",
      "Trainable params: 24,401\n",
      "Non-trainable params: 0\n",
      "_________________________________________________________________\n"
     ]
    }
   ],
   "source": [
    "def wide_model():\n",
    "    # create model\n",
    "    model = Sequential()\n",
    "    model.add(Dense(200, input_dim=120, kernel_initializer='he_normal', activation='relu'))\n",
    "    model.add(Dense(1, kernel_initializer='he_normal'))\n",
    "    # Compile model\n",
    "    model.compile(loss='mean_squared_error', optimizer='adam', metrics=[rmse,r2])\n",
    "    return model\n",
    "model_wd = wide_model()\n",
    "model_wd.summary()"
   ]
  },
  {
   "cell_type": "code",
   "execution_count": 99,
   "id": "e32999c6",
   "metadata": {},
   "outputs": [
    {
     "name": "stdout",
     "output_type": "stream",
     "text": [
      "Epoch 1/100\n",
      "784/784 [==============================] - 1s 1ms/step - loss: 0.7048 - rmse: 0.5711 - r2: -0.2780 - val_loss: 0.3191 - val_rmse: 0.4117 - val_r2: 0.3924\n",
      "Epoch 2/100\n",
      "784/784 [==============================] - 1s 1ms/step - loss: 0.2546 - rmse: 0.3779 - r2: 0.5539 - val_loss: 0.2296 - val_rmse: 0.3481 - val_r2: 0.5695\n",
      "Epoch 3/100\n",
      "784/784 [==============================] - 1s 1ms/step - loss: 0.1983 - rmse: 0.3302 - r2: 0.6606 - val_loss: 0.1908 - val_rmse: 0.3206 - val_r2: 0.6396\n",
      "Epoch 4/100\n",
      "784/784 [==============================] - 1s 2ms/step - loss: 0.1781 - rmse: 0.3100 - r2: 0.6914 - val_loss: 0.1845 - val_rmse: 0.3089 - val_r2: 0.6586\n",
      "Epoch 5/100\n",
      "784/784 [==============================] - 2s 2ms/step - loss: 0.1570 - rmse: 0.2935 - r2: 0.7270 - val_loss: 0.1692 - val_rmse: 0.2974 - val_r2: 0.6874\n",
      "Epoch 6/100\n",
      "784/784 [==============================] - 2s 2ms/step - loss: 0.1506 - rmse: 0.2871 - r2: 0.7396 - val_loss: 0.1762 - val_rmse: 0.3063 - val_r2: 0.6747\n",
      "Epoch 7/100\n",
      "784/784 [==============================] - 1s 2ms/step - loss: 0.1481 - rmse: 0.2814 - r2: 0.7458 - val_loss: 0.1729 - val_rmse: 0.3046 - val_r2: 0.6780\n",
      "Epoch 8/100\n",
      "784/784 [==============================] - 1s 2ms/step - loss: 0.1364 - rmse: 0.2721 - r2: 0.7649 - val_loss: 0.1711 - val_rmse: 0.3005 - val_r2: 0.6806\n",
      "Epoch 9/100\n",
      "784/784 [==============================] - 1s 1ms/step - loss: 0.1322 - rmse: 0.2662 - r2: 0.7691 - val_loss: 0.1585 - val_rmse: 0.2897 - val_r2: 0.7061\n",
      "Epoch 10/100\n",
      "784/784 [==============================] - 1s 1ms/step - loss: 0.1301 - rmse: 0.2648 - r2: 0.7771 - val_loss: 0.1696 - val_rmse: 0.2974 - val_r2: 0.6882\n",
      "Epoch 11/100\n",
      "784/784 [==============================] - 1s 1ms/step - loss: 0.1230 - rmse: 0.2581 - r2: 0.7865 - val_loss: 0.1815 - val_rmse: 0.3220 - val_r2: 0.6607\n",
      "Epoch 12/100\n",
      "784/784 [==============================] - 1s 1ms/step - loss: 0.1255 - rmse: 0.2577 - r2: 0.7825 - val_loss: 0.1655 - val_rmse: 0.3004 - val_r2: 0.6944\n",
      "Epoch 13/100\n",
      "784/784 [==============================] - 1s 2ms/step - loss: 0.1238 - rmse: 0.2542 - r2: 0.7887 - val_loss: 0.1614 - val_rmse: 0.2992 - val_r2: 0.6960\n",
      "Epoch 14/100\n",
      "784/784 [==============================] - 2s 2ms/step - loss: 0.1142 - rmse: 0.2491 - r2: 0.8044 - val_loss: 0.1725 - val_rmse: 0.3058 - val_r2: 0.6708\n",
      "Epoch 15/100\n",
      "784/784 [==============================] - 2s 2ms/step - loss: 0.1119 - rmse: 0.2462 - r2: 0.8066 - val_loss: 0.1621 - val_rmse: 0.3014 - val_r2: 0.6971\n",
      "Epoch 16/100\n",
      "784/784 [==============================] - 1s 2ms/step - loss: 0.1131 - rmse: 0.2452 - r2: 0.8034 - val_loss: 0.1651 - val_rmse: 0.3002 - val_r2: 0.6863\n",
      "Epoch 17/100\n",
      "784/784 [==============================] - 2s 2ms/step - loss: 0.1065 - rmse: 0.2399 - r2: 0.8154 - val_loss: 0.1661 - val_rmse: 0.3023 - val_r2: 0.6879\n",
      "Epoch 18/100\n",
      "784/784 [==============================] - 2s 2ms/step - loss: 0.1023 - rmse: 0.2363 - r2: 0.8222 - val_loss: 0.1691 - val_rmse: 0.3020 - val_r2: 0.6862\n",
      "Epoch 19/100\n",
      "784/784 [==============================] - 2s 2ms/step - loss: 0.1029 - rmse: 0.2369 - r2: 0.8209 - val_loss: 0.1616 - val_rmse: 0.2955 - val_r2: 0.6950\n",
      "Epoch 20/100\n",
      "784/784 [==============================] - 2s 2ms/step - loss: 0.1045 - rmse: 0.2379 - r2: 0.8194 - val_loss: 0.1555 - val_rmse: 0.2867 - val_r2: 0.7115\n",
      "Epoch 21/100\n",
      "784/784 [==============================] - 2s 2ms/step - loss: 0.1037 - rmse: 0.2356 - r2: 0.8185 - val_loss: 0.1632 - val_rmse: 0.2981 - val_r2: 0.6946\n",
      "Epoch 22/100\n",
      "784/784 [==============================] - 2s 2ms/step - loss: 0.0995 - rmse: 0.2311 - r2: 0.8280 - val_loss: 0.1572 - val_rmse: 0.2956 - val_r2: 0.7091\n",
      "Epoch 23/100\n",
      "784/784 [==============================] - 2s 2ms/step - loss: 0.0962 - rmse: 0.2286 - r2: 0.8317 - val_loss: 0.1661 - val_rmse: 0.3026 - val_r2: 0.6923\n",
      "Epoch 24/100\n",
      "784/784 [==============================] - 2s 2ms/step - loss: 0.0940 - rmse: 0.2268 - r2: 0.8355 - val_loss: 0.1944 - val_rmse: 0.3263 - val_r2: 0.6306\n",
      "Epoch 25/100\n",
      "784/784 [==============================] - 2s 2ms/step - loss: 0.1012 - rmse: 0.2318 - r2: 0.8215 - val_loss: 0.1722 - val_rmse: 0.3029 - val_r2: 0.6811\n",
      "Epoch 26/100\n",
      "784/784 [==============================] - 2s 2ms/step - loss: 0.0989 - rmse: 0.2290 - r2: 0.8264 - val_loss: 0.1668 - val_rmse: 0.3013 - val_r2: 0.6881\n",
      "Epoch 27/100\n",
      "784/784 [==============================] - 1s 1ms/step - loss: 0.0932 - rmse: 0.2231 - r2: 0.8370 - val_loss: 0.1578 - val_rmse: 0.2966 - val_r2: 0.7056\n",
      "Epoch 28/100\n",
      "784/784 [==============================] - 1s 1ms/step - loss: 0.0885 - rmse: 0.2206 - r2: 0.8451 - val_loss: 0.1585 - val_rmse: 0.2935 - val_r2: 0.7021\n",
      "Epoch 29/100\n",
      "784/784 [==============================] - 1s 1ms/step - loss: 0.0855 - rmse: 0.2175 - r2: 0.8508 - val_loss: 0.1716 - val_rmse: 0.3060 - val_r2: 0.6723\n",
      "Epoch 30/100\n",
      "784/784 [==============================] - 1s 2ms/step - loss: 0.0882 - rmse: 0.2200 - r2: 0.8452 - val_loss: 0.1712 - val_rmse: 0.3095 - val_r2: 0.6745\n",
      "Epoch 31/100\n",
      "784/784 [==============================] - 1s 2ms/step - loss: 0.0879 - rmse: 0.2191 - r2: 0.8477 - val_loss: 0.1660 - val_rmse: 0.2984 - val_r2: 0.6884\n",
      "Epoch 32/100\n",
      "784/784 [==============================] - 1s 2ms/step - loss: 0.0860 - rmse: 0.2161 - r2: 0.8480 - val_loss: 0.1755 - val_rmse: 0.3100 - val_r2: 0.6737\n",
      "Epoch 33/100\n",
      "784/784 [==============================] - 1s 2ms/step - loss: 0.0879 - rmse: 0.2188 - r2: 0.8427 - val_loss: 0.1745 - val_rmse: 0.3093 - val_r2: 0.6689\n",
      "Epoch 34/100\n",
      "784/784 [==============================] - 2s 2ms/step - loss: 0.0816 - rmse: 0.2115 - r2: 0.8581 - val_loss: 0.1687 - val_rmse: 0.3023 - val_r2: 0.6861\n",
      "Epoch 35/100\n",
      "784/784 [==============================] - 1s 2ms/step - loss: 0.0814 - rmse: 0.2106 - r2: 0.8569 - val_loss: 0.1677 - val_rmse: 0.3085 - val_r2: 0.6850\n",
      "Epoch 36/100\n",
      "784/784 [==============================] - 1s 2ms/step - loss: 0.0808 - rmse: 0.2102 - r2: 0.8587 - val_loss: 0.1660 - val_rmse: 0.3008 - val_r2: 0.6874\n",
      "Epoch 37/100\n",
      "784/784 [==============================] - 1s 2ms/step - loss: 0.0799 - rmse: 0.2096 - r2: 0.8611 - val_loss: 0.1704 - val_rmse: 0.3080 - val_r2: 0.6768\n",
      "Epoch 38/100\n",
      "784/784 [==============================] - 2s 2ms/step - loss: 0.0874 - rmse: 0.2141 - r2: 0.8489 - val_loss: 0.1697 - val_rmse: 0.3079 - val_r2: 0.6798\n",
      "Epoch 39/100\n",
      "784/784 [==============================] - 2s 2ms/step - loss: 0.0807 - rmse: 0.2079 - r2: 0.8590 - val_loss: 0.1718 - val_rmse: 0.3100 - val_r2: 0.6796\n",
      "Epoch 40/100\n",
      "784/784 [==============================] - 1s 2ms/step - loss: 0.0773 - rmse: 0.2059 - r2: 0.8649 - val_loss: 0.1677 - val_rmse: 0.2999 - val_r2: 0.6887\n",
      "Epoch 41/100\n",
      "784/784 [==============================] - 1s 2ms/step - loss: 0.0773 - rmse: 0.2065 - r2: 0.8625 - val_loss: 0.1728 - val_rmse: 0.3115 - val_r2: 0.6727\n",
      "Epoch 42/100\n",
      "784/784 [==============================] - 1s 2ms/step - loss: 0.0780 - rmse: 0.2052 - r2: 0.8630 - val_loss: 0.1776 - val_rmse: 0.3126 - val_r2: 0.6622\n",
      "Epoch 43/100\n",
      "784/784 [==============================] - 1s 2ms/step - loss: 0.0755 - rmse: 0.2037 - r2: 0.8671 - val_loss: 0.1763 - val_rmse: 0.3153 - val_r2: 0.6713\n",
      "Epoch 44/100\n",
      "784/784 [==============================] - 1s 2ms/step - loss: 0.0741 - rmse: 0.2027 - r2: 0.8696 - val_loss: 0.1659 - val_rmse: 0.3005 - val_r2: 0.6897\n",
      "Epoch 45/100\n",
      "784/784 [==============================] - 1s 2ms/step - loss: 0.0719 - rmse: 0.2011 - r2: 0.8736 - val_loss: 0.1840 - val_rmse: 0.3233 - val_r2: 0.6550\n",
      "Epoch 46/100\n",
      "784/784 [==============================] - 1s 2ms/step - loss: 0.0759 - rmse: 0.2037 - r2: 0.8677 - val_loss: 0.1744 - val_rmse: 0.3088 - val_r2: 0.6693\n",
      "Epoch 47/100\n",
      "784/784 [==============================] - 1s 2ms/step - loss: 0.0749 - rmse: 0.2031 - r2: 0.8702 - val_loss: 0.1760 - val_rmse: 0.3134 - val_r2: 0.6662\n",
      "Epoch 48/100\n",
      "784/784 [==============================] - 1s 2ms/step - loss: 0.0730 - rmse: 0.1998 - r2: 0.8713 - val_loss: 0.1730 - val_rmse: 0.3098 - val_r2: 0.6747\n",
      "Epoch 49/100\n",
      "784/784 [==============================] - 1s 2ms/step - loss: 0.0768 - rmse: 0.2009 - r2: 0.8645 - val_loss: 0.1763 - val_rmse: 0.3158 - val_r2: 0.6637\n",
      "Epoch 50/100\n"
     ]
    },
    {
     "name": "stdout",
     "output_type": "stream",
     "text": [
      "784/784 [==============================] - 1s 2ms/step - loss: 0.0733 - rmse: 0.1991 - r2: 0.8723 - val_loss: 0.1781 - val_rmse: 0.3118 - val_r2: 0.6618\n",
      "Epoch 51/100\n",
      "784/784 [==============================] - 2s 2ms/step - loss: 0.0697 - rmse: 0.1951 - r2: 0.8771 - val_loss: 0.1848 - val_rmse: 0.3206 - val_r2: 0.6527\n",
      "Epoch 52/100\n",
      "784/784 [==============================] - 2s 2ms/step - loss: 0.0710 - rmse: 0.1978 - r2: 0.8745 - val_loss: 0.1750 - val_rmse: 0.3160 - val_r2: 0.6681\n",
      "Epoch 53/100\n",
      "784/784 [==============================] - 2s 2ms/step - loss: 0.0735 - rmse: 0.1972 - r2: 0.8731 - val_loss: 0.1721 - val_rmse: 0.3115 - val_r2: 0.6722\n",
      "Epoch 54/100\n",
      "784/784 [==============================] - 1s 2ms/step - loss: 0.0696 - rmse: 0.1964 - r2: 0.8755 - val_loss: 0.1738 - val_rmse: 0.3119 - val_r2: 0.6670\n",
      "Epoch 55/100\n",
      "784/784 [==============================] - 1s 2ms/step - loss: 0.0715 - rmse: 0.1958 - r2: 0.8747 - val_loss: 0.1740 - val_rmse: 0.3129 - val_r2: 0.6703\n",
      "Epoch 56/100\n",
      "784/784 [==============================] - 1s 2ms/step - loss: 0.0728 - rmse: 0.1964 - r2: 0.8730 - val_loss: 0.1744 - val_rmse: 0.3092 - val_r2: 0.6700\n",
      "Epoch 57/100\n",
      "784/784 [==============================] - 1s 2ms/step - loss: 0.0650 - rmse: 0.1909 - r2: 0.8852 - val_loss: 0.1779 - val_rmse: 0.3173 - val_r2: 0.6607\n",
      "Epoch 58/100\n",
      "784/784 [==============================] - 1s 2ms/step - loss: 0.0651 - rmse: 0.1916 - r2: 0.8852 - val_loss: 0.1839 - val_rmse: 0.3271 - val_r2: 0.6525\n",
      "Epoch 59/100\n",
      "784/784 [==============================] - 1s 2ms/step - loss: 0.0668 - rmse: 0.1925 - r2: 0.8805 - val_loss: 0.1808 - val_rmse: 0.3164 - val_r2: 0.6646\n",
      "Epoch 60/100\n",
      "784/784 [==============================] - 1s 2ms/step - loss: 0.0684 - rmse: 0.1935 - r2: 0.8792 - val_loss: 0.1900 - val_rmse: 0.3299 - val_r2: 0.6402\n",
      "Epoch 61/100\n",
      "784/784 [==============================] - 1s 2ms/step - loss: 0.0674 - rmse: 0.1930 - r2: 0.8840 - val_loss: 0.1874 - val_rmse: 0.3225 - val_r2: 0.6445\n",
      "Epoch 62/100\n",
      "784/784 [==============================] - 1s 2ms/step - loss: 0.0649 - rmse: 0.1902 - r2: 0.8862 - val_loss: 0.1836 - val_rmse: 0.3174 - val_r2: 0.6467\n",
      "Epoch 63/100\n",
      "784/784 [==============================] - 2s 2ms/step - loss: 0.0697 - rmse: 0.1918 - r2: 0.8772 - val_loss: 0.1773 - val_rmse: 0.3191 - val_r2: 0.6610\n",
      "Epoch 64/100\n",
      "784/784 [==============================] - 2s 2ms/step - loss: 0.0631 - rmse: 0.1876 - r2: 0.8891 - val_loss: 0.1860 - val_rmse: 0.3218 - val_r2: 0.6489\n",
      "Epoch 65/100\n",
      "784/784 [==============================] - 2s 2ms/step - loss: 0.0653 - rmse: 0.1880 - r2: 0.8827 - val_loss: 0.1765 - val_rmse: 0.3165 - val_r2: 0.6611\n",
      "Epoch 66/100\n",
      "784/784 [==============================] - 2s 2ms/step - loss: 0.0656 - rmse: 0.1897 - r2: 0.8847 - val_loss: 0.1931 - val_rmse: 0.3276 - val_r2: 0.6268\n",
      "Epoch 67/100\n",
      "784/784 [==============================] - 2s 2ms/step - loss: 0.0627 - rmse: 0.1863 - r2: 0.8894 - val_loss: 0.2128 - val_rmse: 0.3444 - val_r2: 0.5843\n",
      "Epoch 68/100\n",
      "784/784 [==============================] - 1s 2ms/step - loss: 0.0664 - rmse: 0.1906 - r2: 0.8790 - val_loss: 0.1711 - val_rmse: 0.3081 - val_r2: 0.6741\n",
      "Epoch 69/100\n",
      "784/784 [==============================] - 2s 2ms/step - loss: 0.0642 - rmse: 0.1870 - r2: 0.8859 - val_loss: 0.1805 - val_rmse: 0.3183 - val_r2: 0.6549\n",
      "Epoch 70/100\n",
      "784/784 [==============================] - 2s 2ms/step - loss: 0.0689 - rmse: 0.1909 - r2: 0.8808 - val_loss: 0.1818 - val_rmse: 0.3148 - val_r2: 0.6595\n",
      "Epoch 71/100\n",
      "784/784 [==============================] - 1s 2ms/step - loss: 0.0697 - rmse: 0.1890 - r2: 0.8777 - val_loss: 0.1778 - val_rmse: 0.3144 - val_r2: 0.6582\n",
      "Epoch 72/100\n",
      "784/784 [==============================] - 1s 2ms/step - loss: 0.0578 - rmse: 0.1800 - r2: 0.8985 - val_loss: 0.1850 - val_rmse: 0.3228 - val_r2: 0.6472\n",
      "Epoch 73/100\n",
      "784/784 [==============================] - 1s 2ms/step - loss: 0.0590 - rmse: 0.1820 - r2: 0.8955 - val_loss: 0.1827 - val_rmse: 0.3197 - val_r2: 0.6559\n",
      "Epoch 74/100\n",
      "784/784 [==============================] - 1s 2ms/step - loss: 0.0623 - rmse: 0.1870 - r2: 0.8889 - val_loss: 0.1856 - val_rmse: 0.3224 - val_r2: 0.6463\n",
      "Epoch 75/100\n",
      "784/784 [==============================] - 2s 2ms/step - loss: 0.0588 - rmse: 0.1821 - r2: 0.8960 - val_loss: 0.1895 - val_rmse: 0.3280 - val_r2: 0.6406\n",
      "Epoch 76/100\n",
      "784/784 [==============================] - 1s 2ms/step - loss: 0.0605 - rmse: 0.1830 - r2: 0.8935 - val_loss: 0.1843 - val_rmse: 0.3229 - val_r2: 0.6507\n",
      "Epoch 77/100\n",
      "784/784 [==============================] - 2s 2ms/step - loss: 0.0605 - rmse: 0.1832 - r2: 0.8922 - val_loss: 0.1748 - val_rmse: 0.3156 - val_r2: 0.6655\n",
      "Epoch 78/100\n",
      "784/784 [==============================] - 1s 2ms/step - loss: 0.0611 - rmse: 0.1836 - r2: 0.8920 - val_loss: 0.1910 - val_rmse: 0.3275 - val_r2: 0.6336\n",
      "Epoch 79/100\n",
      "784/784 [==============================] - 1s 2ms/step - loss: 0.0609 - rmse: 0.1827 - r2: 0.8935 - val_loss: 0.1776 - val_rmse: 0.3146 - val_r2: 0.6652\n",
      "Epoch 80/100\n",
      "784/784 [==============================] - 1s 2ms/step - loss: 0.0613 - rmse: 0.1831 - r2: 0.8912 - val_loss: 0.1859 - val_rmse: 0.3245 - val_r2: 0.6476\n",
      "Epoch 81/100\n",
      "784/784 [==============================] - 1s 2ms/step - loss: 0.0576 - rmse: 0.1782 - r2: 0.8963 - val_loss: 0.2067 - val_rmse: 0.3374 - val_r2: 0.6012\n",
      "Epoch 82/100\n",
      "784/784 [==============================] - 1s 2ms/step - loss: 0.0603 - rmse: 0.1833 - r2: 0.8947 - val_loss: 0.1845 - val_rmse: 0.3237 - val_r2: 0.6462\n",
      "Epoch 83/100\n",
      "784/784 [==============================] - 2s 2ms/step - loss: 0.0595 - rmse: 0.1816 - r2: 0.8955 - val_loss: 0.1949 - val_rmse: 0.3276 - val_r2: 0.6334\n",
      "Epoch 84/100\n",
      "784/784 [==============================] - 2s 2ms/step - loss: 0.0659 - rmse: 0.1849 - r2: 0.8801 - val_loss: 0.1802 - val_rmse: 0.3191 - val_r2: 0.6554\n",
      "Epoch 85/100\n",
      "784/784 [==============================] - 2s 2ms/step - loss: 0.0591 - rmse: 0.1796 - r2: 0.8957 - val_loss: 0.1875 - val_rmse: 0.3204 - val_r2: 0.6434\n",
      "Epoch 86/100\n",
      "784/784 [==============================] - 2s 2ms/step - loss: 0.0572 - rmse: 0.1767 - r2: 0.8989 - val_loss: 0.1950 - val_rmse: 0.3342 - val_r2: 0.6271\n",
      "Epoch 87/100\n",
      "784/784 [==============================] - 2s 2ms/step - loss: 0.0573 - rmse: 0.1781 - r2: 0.8994 - val_loss: 0.1882 - val_rmse: 0.3235 - val_r2: 0.6381\n",
      "Epoch 88/100\n",
      "784/784 [==============================] - 2s 2ms/step - loss: 0.0578 - rmse: 0.1781 - r2: 0.8970 - val_loss: 0.1881 - val_rmse: 0.3251 - val_r2: 0.6366\n",
      "Epoch 89/100\n",
      "784/784 [==============================] - 2s 2ms/step - loss: 0.0608 - rmse: 0.1811 - r2: 0.8899 - val_loss: 0.1854 - val_rmse: 0.3214 - val_r2: 0.6439\n",
      "Epoch 90/100\n",
      "784/784 [==============================] - 1s 2ms/step - loss: 0.0564 - rmse: 0.1766 - r2: 0.9000 - val_loss: 0.1810 - val_rmse: 0.3185 - val_r2: 0.6542\n",
      "Epoch 91/100\n",
      "784/784 [==============================] - 1s 2ms/step - loss: 0.0552 - rmse: 0.1759 - r2: 0.9016 - val_loss: 0.1889 - val_rmse: 0.3230 - val_r2: 0.6341\n",
      "Epoch 92/100\n",
      "784/784 [==============================] - 1s 2ms/step - loss: 0.0571 - rmse: 0.1784 - r2: 0.9000 - val_loss: 0.1930 - val_rmse: 0.3283 - val_r2: 0.6284\n",
      "Epoch 93/100\n",
      "784/784 [==============================] - 1s 2ms/step - loss: 0.0589 - rmse: 0.1799 - r2: 0.8931 - val_loss: 0.1972 - val_rmse: 0.3273 - val_r2: 0.6235\n",
      "Epoch 94/100\n",
      "784/784 [==============================] - 2s 2ms/step - loss: 0.0578 - rmse: 0.1777 - r2: 0.8981 - val_loss: 0.1826 - val_rmse: 0.3183 - val_r2: 0.6493\n",
      "Epoch 95/100\n",
      "784/784 [==============================] - 2s 2ms/step - loss: 0.0626 - rmse: 0.1796 - r2: 0.8870 - val_loss: 0.1907 - val_rmse: 0.3300 - val_r2: 0.6294\n",
      "Epoch 96/100\n",
      "784/784 [==============================] - 2s 2ms/step - loss: 0.0559 - rmse: 0.1746 - r2: 0.9024 - val_loss: 0.1865 - val_rmse: 0.3204 - val_r2: 0.6426\n",
      "Epoch 97/100\n",
      "784/784 [==============================] - 1s 2ms/step - loss: 0.0520 - rmse: 0.1721 - r2: 0.9081 - val_loss: 0.1972 - val_rmse: 0.3350 - val_r2: 0.6207\n",
      "Epoch 98/100\n",
      "784/784 [==============================] - 1s 2ms/step - loss: 0.0499 - rmse: 0.1692 - r2: 0.9113 - val_loss: 0.1960 - val_rmse: 0.3302 - val_r2: 0.6250\n",
      "Epoch 99/100\n"
     ]
    },
    {
     "name": "stdout",
     "output_type": "stream",
     "text": [
      "784/784 [==============================] - 1s 2ms/step - loss: 0.0531 - rmse: 0.1743 - r2: 0.9062 - val_loss: 0.1933 - val_rmse: 0.3286 - val_r2: 0.6293\n",
      "Epoch 100/100\n",
      "784/784 [==============================] - 1s 2ms/step - loss: 0.0542 - rmse: 0.1758 - r2: 0.9032 - val_loss: 0.1905 - val_rmse: 0.3237 - val_r2: 0.6336\n"
     ]
    }
   ],
   "source": [
    "epoch=100\n",
    "history_wd = model_wd.fit(X_train_trfm, y_train, epochs=epoch, validation_split=0.05)"
   ]
  },
  {
   "cell_type": "code",
   "execution_count": 104,
   "id": "09109d36",
   "metadata": {},
   "outputs": [
    {
     "data": {
      "application/vnd.plotly.v1+json": {
       "config": {
        "plotlyServerURL": "https://plot.ly"
       },
       "data": [
        {
         "name": "Train",
         "type": "scattergl",
         "y": [
          0.7047556638717651,
          0.2545887529850006,
          0.19828897714614868,
          0.1780799925327301,
          0.1569625586271286,
          0.15055039525032043,
          0.14810365438461304,
          0.1364351212978363,
          0.13219861686229706,
          0.13014528155326843,
          0.12295561283826828,
          0.12550146877765656,
          0.123772993683815,
          0.11416793614625931,
          0.1118631586432457,
          0.11313708126544952,
          0.10650034248828888,
          0.10233739763498306,
          0.1029045507311821,
          0.10451027005910873,
          0.10371847450733185,
          0.09948859363794327,
          0.09617152065038681,
          0.09397391974925995,
          0.10119687020778656,
          0.09889525920152664,
          0.09315263479948044,
          0.08852533251047134,
          0.08552766591310501,
          0.08818081766366959,
          0.08794863522052765,
          0.08596286177635193,
          0.08786190301179886,
          0.08161909878253937,
          0.08144833892583847,
          0.0808156356215477,
          0.07985316962003708,
          0.08737944811582565,
          0.08070486783981323,
          0.07726837694644928,
          0.07729887217283249,
          0.07796069234609604,
          0.07547587156295776,
          0.07412243634462357,
          0.07189789414405823,
          0.07594342529773712,
          0.07494252920150757,
          0.07297218590974808,
          0.07678253203630447,
          0.07334517687559128,
          0.06965518742799759,
          0.07101906090974808,
          0.07351970672607422,
          0.0696302130818367,
          0.07148618251085281,
          0.07276225835084915,
          0.0649893581867218,
          0.06508539617061615,
          0.0667814314365387,
          0.0683666467666626,
          0.0674121230840683,
          0.06485411524772644,
          0.06969678401947021,
          0.06306955218315125,
          0.06529533863067627,
          0.0656386986374855,
          0.06269334256649017,
          0.06636665016412735,
          0.06417030841112137,
          0.06892142444849014,
          0.06968814134597778,
          0.057793594896793365,
          0.058998074382543564,
          0.0622837208211422,
          0.058817308396101,
          0.060458626598119736,
          0.06049541383981705,
          0.06105618551373482,
          0.06094555929303169,
          0.06127115711569786,
          0.05758240073919296,
          0.06029480695724487,
          0.05950656533241272,
          0.06590142101049423,
          0.05914882943034172,
          0.05721836909651756,
          0.057322002947330475,
          0.05777719244360924,
          0.06081005185842514,
          0.05642177537083626,
          0.055242106318473816,
          0.05714535340666771,
          0.058932848274707794,
          0.05782940611243248,
          0.06256851553916931,
          0.0559137761592865,
          0.051996078342199326,
          0.04988912120461464,
          0.05305108428001404,
          0.05421523377299309
         ]
        },
        {
         "name": "Valid",
         "type": "scattergl",
         "y": [
          0.31912338733673096,
          0.22960057854652405,
          0.19083848595619202,
          0.18449248373508453,
          0.16918033361434937,
          0.17615550756454468,
          0.1729237139225006,
          0.17106445133686066,
          0.1585099846124649,
          0.16961878538131714,
          0.1815345585346222,
          0.16545015573501587,
          0.16141079366207123,
          0.17253580689430237,
          0.16207566857337952,
          0.16505716741085052,
          0.16608528792858124,
          0.16911493241786957,
          0.16157442331314087,
          0.15550711750984192,
          0.16321811079978943,
          0.15723565220832825,
          0.1661171019077301,
          0.19438938796520233,
          0.1722021847963333,
          0.16678890585899353,
          0.15780632197856903,
          0.1584501564502716,
          0.17162851989269257,
          0.17123430967330933,
          0.16596965491771698,
          0.17551222443580627,
          0.17446671426296234,
          0.16868115961551666,
          0.16767574846744537,
          0.16601257026195526,
          0.17035087943077087,
          0.16972927749156952,
          0.1717538833618164,
          0.1677267849445343,
          0.1727890521287918,
          0.17763569951057434,
          0.1763221174478531,
          0.1659398376941681,
          0.18396559357643127,
          0.17436431348323822,
          0.1759507656097412,
          0.1729820817708969,
          0.17632143199443817,
          0.1781298667192459,
          0.18483112752437592,
          0.17502766847610474,
          0.17214038968086243,
          0.17375652492046356,
          0.17401385307312012,
          0.17436335980892181,
          0.1778915375471115,
          0.1839132457971573,
          0.1807810664176941,
          0.18995428085327148,
          0.18738090991973877,
          0.18364235758781433,
          0.17731842398643494,
          0.18596982955932617,
          0.1765439361333847,
          0.19307063519954681,
          0.21284636855125427,
          0.1711173802614212,
          0.18047471344470978,
          0.18184618651866913,
          0.1777815967798233,
          0.18501903116703033,
          0.1826837956905365,
          0.18555974960327148,
          0.18950800597667694,
          0.18425564467906952,
          0.17478026449680328,
          0.1909833401441574,
          0.17761506140232086,
          0.1858535259962082,
          0.20673882961273193,
          0.18447056412696838,
          0.194921612739563,
          0.1802108734846115,
          0.18745572865009308,
          0.19495658576488495,
          0.1882285326719284,
          0.18808314204216003,
          0.18540538847446442,
          0.18103858828544617,
          0.18885299563407898,
          0.19303905963897705,
          0.19724328815937042,
          0.18258273601531982,
          0.1906997114419937,
          0.18652713298797607,
          0.19716203212738037,
          0.19597548246383667,
          0.19325627386569977,
          0.19050315022468567
         ]
        }
       ],
       "layout": {
        "height": 500,
        "template": {
         "data": {
          "bar": [
           {
            "error_x": {
             "color": "#2a3f5f"
            },
            "error_y": {
             "color": "#2a3f5f"
            },
            "marker": {
             "line": {
              "color": "#E5ECF6",
              "width": 0.5
             },
             "pattern": {
              "fillmode": "overlay",
              "size": 10,
              "solidity": 0.2
             }
            },
            "type": "bar"
           }
          ],
          "barpolar": [
           {
            "marker": {
             "line": {
              "color": "#E5ECF6",
              "width": 0.5
             },
             "pattern": {
              "fillmode": "overlay",
              "size": 10,
              "solidity": 0.2
             }
            },
            "type": "barpolar"
           }
          ],
          "carpet": [
           {
            "aaxis": {
             "endlinecolor": "#2a3f5f",
             "gridcolor": "white",
             "linecolor": "white",
             "minorgridcolor": "white",
             "startlinecolor": "#2a3f5f"
            },
            "baxis": {
             "endlinecolor": "#2a3f5f",
             "gridcolor": "white",
             "linecolor": "white",
             "minorgridcolor": "white",
             "startlinecolor": "#2a3f5f"
            },
            "type": "carpet"
           }
          ],
          "choropleth": [
           {
            "colorbar": {
             "outlinewidth": 0,
             "ticks": ""
            },
            "type": "choropleth"
           }
          ],
          "contour": [
           {
            "colorbar": {
             "outlinewidth": 0,
             "ticks": ""
            },
            "colorscale": [
             [
              0,
              "#0d0887"
             ],
             [
              0.1111111111111111,
              "#46039f"
             ],
             [
              0.2222222222222222,
              "#7201a8"
             ],
             [
              0.3333333333333333,
              "#9c179e"
             ],
             [
              0.4444444444444444,
              "#bd3786"
             ],
             [
              0.5555555555555556,
              "#d8576b"
             ],
             [
              0.6666666666666666,
              "#ed7953"
             ],
             [
              0.7777777777777778,
              "#fb9f3a"
             ],
             [
              0.8888888888888888,
              "#fdca26"
             ],
             [
              1,
              "#f0f921"
             ]
            ],
            "type": "contour"
           }
          ],
          "contourcarpet": [
           {
            "colorbar": {
             "outlinewidth": 0,
             "ticks": ""
            },
            "type": "contourcarpet"
           }
          ],
          "heatmap": [
           {
            "colorbar": {
             "outlinewidth": 0,
             "ticks": ""
            },
            "colorscale": [
             [
              0,
              "#0d0887"
             ],
             [
              0.1111111111111111,
              "#46039f"
             ],
             [
              0.2222222222222222,
              "#7201a8"
             ],
             [
              0.3333333333333333,
              "#9c179e"
             ],
             [
              0.4444444444444444,
              "#bd3786"
             ],
             [
              0.5555555555555556,
              "#d8576b"
             ],
             [
              0.6666666666666666,
              "#ed7953"
             ],
             [
              0.7777777777777778,
              "#fb9f3a"
             ],
             [
              0.8888888888888888,
              "#fdca26"
             ],
             [
              1,
              "#f0f921"
             ]
            ],
            "type": "heatmap"
           }
          ],
          "heatmapgl": [
           {
            "colorbar": {
             "outlinewidth": 0,
             "ticks": ""
            },
            "colorscale": [
             [
              0,
              "#0d0887"
             ],
             [
              0.1111111111111111,
              "#46039f"
             ],
             [
              0.2222222222222222,
              "#7201a8"
             ],
             [
              0.3333333333333333,
              "#9c179e"
             ],
             [
              0.4444444444444444,
              "#bd3786"
             ],
             [
              0.5555555555555556,
              "#d8576b"
             ],
             [
              0.6666666666666666,
              "#ed7953"
             ],
             [
              0.7777777777777778,
              "#fb9f3a"
             ],
             [
              0.8888888888888888,
              "#fdca26"
             ],
             [
              1,
              "#f0f921"
             ]
            ],
            "type": "heatmapgl"
           }
          ],
          "histogram": [
           {
            "marker": {
             "pattern": {
              "fillmode": "overlay",
              "size": 10,
              "solidity": 0.2
             }
            },
            "type": "histogram"
           }
          ],
          "histogram2d": [
           {
            "colorbar": {
             "outlinewidth": 0,
             "ticks": ""
            },
            "colorscale": [
             [
              0,
              "#0d0887"
             ],
             [
              0.1111111111111111,
              "#46039f"
             ],
             [
              0.2222222222222222,
              "#7201a8"
             ],
             [
              0.3333333333333333,
              "#9c179e"
             ],
             [
              0.4444444444444444,
              "#bd3786"
             ],
             [
              0.5555555555555556,
              "#d8576b"
             ],
             [
              0.6666666666666666,
              "#ed7953"
             ],
             [
              0.7777777777777778,
              "#fb9f3a"
             ],
             [
              0.8888888888888888,
              "#fdca26"
             ],
             [
              1,
              "#f0f921"
             ]
            ],
            "type": "histogram2d"
           }
          ],
          "histogram2dcontour": [
           {
            "colorbar": {
             "outlinewidth": 0,
             "ticks": ""
            },
            "colorscale": [
             [
              0,
              "#0d0887"
             ],
             [
              0.1111111111111111,
              "#46039f"
             ],
             [
              0.2222222222222222,
              "#7201a8"
             ],
             [
              0.3333333333333333,
              "#9c179e"
             ],
             [
              0.4444444444444444,
              "#bd3786"
             ],
             [
              0.5555555555555556,
              "#d8576b"
             ],
             [
              0.6666666666666666,
              "#ed7953"
             ],
             [
              0.7777777777777778,
              "#fb9f3a"
             ],
             [
              0.8888888888888888,
              "#fdca26"
             ],
             [
              1,
              "#f0f921"
             ]
            ],
            "type": "histogram2dcontour"
           }
          ],
          "mesh3d": [
           {
            "colorbar": {
             "outlinewidth": 0,
             "ticks": ""
            },
            "type": "mesh3d"
           }
          ],
          "parcoords": [
           {
            "line": {
             "colorbar": {
              "outlinewidth": 0,
              "ticks": ""
             }
            },
            "type": "parcoords"
           }
          ],
          "pie": [
           {
            "automargin": true,
            "type": "pie"
           }
          ],
          "scatter": [
           {
            "marker": {
             "colorbar": {
              "outlinewidth": 0,
              "ticks": ""
             }
            },
            "type": "scatter"
           }
          ],
          "scatter3d": [
           {
            "line": {
             "colorbar": {
              "outlinewidth": 0,
              "ticks": ""
             }
            },
            "marker": {
             "colorbar": {
              "outlinewidth": 0,
              "ticks": ""
             }
            },
            "type": "scatter3d"
           }
          ],
          "scattercarpet": [
           {
            "marker": {
             "colorbar": {
              "outlinewidth": 0,
              "ticks": ""
             }
            },
            "type": "scattercarpet"
           }
          ],
          "scattergeo": [
           {
            "marker": {
             "colorbar": {
              "outlinewidth": 0,
              "ticks": ""
             }
            },
            "type": "scattergeo"
           }
          ],
          "scattergl": [
           {
            "marker": {
             "colorbar": {
              "outlinewidth": 0,
              "ticks": ""
             }
            },
            "type": "scattergl"
           }
          ],
          "scattermapbox": [
           {
            "marker": {
             "colorbar": {
              "outlinewidth": 0,
              "ticks": ""
             }
            },
            "type": "scattermapbox"
           }
          ],
          "scatterpolar": [
           {
            "marker": {
             "colorbar": {
              "outlinewidth": 0,
              "ticks": ""
             }
            },
            "type": "scatterpolar"
           }
          ],
          "scatterpolargl": [
           {
            "marker": {
             "colorbar": {
              "outlinewidth": 0,
              "ticks": ""
             }
            },
            "type": "scatterpolargl"
           }
          ],
          "scatterternary": [
           {
            "marker": {
             "colorbar": {
              "outlinewidth": 0,
              "ticks": ""
             }
            },
            "type": "scatterternary"
           }
          ],
          "surface": [
           {
            "colorbar": {
             "outlinewidth": 0,
             "ticks": ""
            },
            "colorscale": [
             [
              0,
              "#0d0887"
             ],
             [
              0.1111111111111111,
              "#46039f"
             ],
             [
              0.2222222222222222,
              "#7201a8"
             ],
             [
              0.3333333333333333,
              "#9c179e"
             ],
             [
              0.4444444444444444,
              "#bd3786"
             ],
             [
              0.5555555555555556,
              "#d8576b"
             ],
             [
              0.6666666666666666,
              "#ed7953"
             ],
             [
              0.7777777777777778,
              "#fb9f3a"
             ],
             [
              0.8888888888888888,
              "#fdca26"
             ],
             [
              1,
              "#f0f921"
             ]
            ],
            "type": "surface"
           }
          ],
          "table": [
           {
            "cells": {
             "fill": {
              "color": "#EBF0F8"
             },
             "line": {
              "color": "white"
             }
            },
            "header": {
             "fill": {
              "color": "#C8D4E3"
             },
             "line": {
              "color": "white"
             }
            },
            "type": "table"
           }
          ]
         },
         "layout": {
          "annotationdefaults": {
           "arrowcolor": "#2a3f5f",
           "arrowhead": 0,
           "arrowwidth": 1
          },
          "autotypenumbers": "strict",
          "coloraxis": {
           "colorbar": {
            "outlinewidth": 0,
            "ticks": ""
           }
          },
          "colorscale": {
           "diverging": [
            [
             0,
             "#8e0152"
            ],
            [
             0.1,
             "#c51b7d"
            ],
            [
             0.2,
             "#de77ae"
            ],
            [
             0.3,
             "#f1b6da"
            ],
            [
             0.4,
             "#fde0ef"
            ],
            [
             0.5,
             "#f7f7f7"
            ],
            [
             0.6,
             "#e6f5d0"
            ],
            [
             0.7,
             "#b8e186"
            ],
            [
             0.8,
             "#7fbc41"
            ],
            [
             0.9,
             "#4d9221"
            ],
            [
             1,
             "#276419"
            ]
           ],
           "sequential": [
            [
             0,
             "#0d0887"
            ],
            [
             0.1111111111111111,
             "#46039f"
            ],
            [
             0.2222222222222222,
             "#7201a8"
            ],
            [
             0.3333333333333333,
             "#9c179e"
            ],
            [
             0.4444444444444444,
             "#bd3786"
            ],
            [
             0.5555555555555556,
             "#d8576b"
            ],
            [
             0.6666666666666666,
             "#ed7953"
            ],
            [
             0.7777777777777778,
             "#fb9f3a"
            ],
            [
             0.8888888888888888,
             "#fdca26"
            ],
            [
             1,
             "#f0f921"
            ]
           ],
           "sequentialminus": [
            [
             0,
             "#0d0887"
            ],
            [
             0.1111111111111111,
             "#46039f"
            ],
            [
             0.2222222222222222,
             "#7201a8"
            ],
            [
             0.3333333333333333,
             "#9c179e"
            ],
            [
             0.4444444444444444,
             "#bd3786"
            ],
            [
             0.5555555555555556,
             "#d8576b"
            ],
            [
             0.6666666666666666,
             "#ed7953"
            ],
            [
             0.7777777777777778,
             "#fb9f3a"
            ],
            [
             0.8888888888888888,
             "#fdca26"
            ],
            [
             1,
             "#f0f921"
            ]
           ]
          },
          "colorway": [
           "#636efa",
           "#EF553B",
           "#00cc96",
           "#ab63fa",
           "#FFA15A",
           "#19d3f3",
           "#FF6692",
           "#B6E880",
           "#FF97FF",
           "#FECB52"
          ],
          "font": {
           "color": "#2a3f5f"
          },
          "geo": {
           "bgcolor": "white",
           "lakecolor": "white",
           "landcolor": "#E5ECF6",
           "showlakes": true,
           "showland": true,
           "subunitcolor": "white"
          },
          "hoverlabel": {
           "align": "left"
          },
          "hovermode": "closest",
          "mapbox": {
           "style": "light"
          },
          "paper_bgcolor": "white",
          "plot_bgcolor": "#E5ECF6",
          "polar": {
           "angularaxis": {
            "gridcolor": "white",
            "linecolor": "white",
            "ticks": ""
           },
           "bgcolor": "#E5ECF6",
           "radialaxis": {
            "gridcolor": "white",
            "linecolor": "white",
            "ticks": ""
           }
          },
          "scene": {
           "xaxis": {
            "backgroundcolor": "#E5ECF6",
            "gridcolor": "white",
            "gridwidth": 2,
            "linecolor": "white",
            "showbackground": true,
            "ticks": "",
            "zerolinecolor": "white"
           },
           "yaxis": {
            "backgroundcolor": "#E5ECF6",
            "gridcolor": "white",
            "gridwidth": 2,
            "linecolor": "white",
            "showbackground": true,
            "ticks": "",
            "zerolinecolor": "white"
           },
           "zaxis": {
            "backgroundcolor": "#E5ECF6",
            "gridcolor": "white",
            "gridwidth": 2,
            "linecolor": "white",
            "showbackground": true,
            "ticks": "",
            "zerolinecolor": "white"
           }
          },
          "shapedefaults": {
           "line": {
            "color": "#2a3f5f"
           }
          },
          "ternary": {
           "aaxis": {
            "gridcolor": "white",
            "linecolor": "white",
            "ticks": ""
           },
           "baxis": {
            "gridcolor": "white",
            "linecolor": "white",
            "ticks": ""
           },
           "bgcolor": "#E5ECF6",
           "caxis": {
            "gridcolor": "white",
            "linecolor": "white",
            "ticks": ""
           }
          },
          "title": {
           "x": 0.05
          },
          "xaxis": {
           "automargin": true,
           "gridcolor": "white",
           "linecolor": "white",
           "ticks": "",
           "title": {
            "standoff": 15
           },
           "zerolinecolor": "white",
           "zerolinewidth": 2
          },
          "yaxis": {
           "automargin": true,
           "gridcolor": "white",
           "linecolor": "white",
           "ticks": "",
           "title": {
            "standoff": 15
           },
           "zerolinecolor": "white",
           "zerolinewidth": 2
          }
         }
        },
        "width": 700,
        "xaxis": {
         "title": {
          "text": "Epoch"
         }
        },
        "yaxis": {
         "title": {
          "text": "MSE"
         }
        }
       }
      },
      "text/html": [
       "<div>                            <div id=\"51239164-0779-44e8-aac2-1295d7d82ceb\" class=\"plotly-graph-div\" style=\"height:500px; width:700px;\"></div>            <script type=\"text/javascript\">                require([\"plotly\"], function(Plotly) {                    window.PLOTLYENV=window.PLOTLYENV || {};                                    if (document.getElementById(\"51239164-0779-44e8-aac2-1295d7d82ceb\")) {                    Plotly.newPlot(                        \"51239164-0779-44e8-aac2-1295d7d82ceb\",                        [{\"name\":\"Train\",\"y\":[0.7047556638717651,0.2545887529850006,0.19828897714614868,0.1780799925327301,0.1569625586271286,0.15055039525032043,0.14810365438461304,0.1364351212978363,0.13219861686229706,0.13014528155326843,0.12295561283826828,0.12550146877765656,0.123772993683815,0.11416793614625931,0.1118631586432457,0.11313708126544952,0.10650034248828888,0.10233739763498306,0.1029045507311821,0.10451027005910873,0.10371847450733185,0.09948859363794327,0.09617152065038681,0.09397391974925995,0.10119687020778656,0.09889525920152664,0.09315263479948044,0.08852533251047134,0.08552766591310501,0.08818081766366959,0.08794863522052765,0.08596286177635193,0.08786190301179886,0.08161909878253937,0.08144833892583847,0.0808156356215477,0.07985316962003708,0.08737944811582565,0.08070486783981323,0.07726837694644928,0.07729887217283249,0.07796069234609604,0.07547587156295776,0.07412243634462357,0.07189789414405823,0.07594342529773712,0.07494252920150757,0.07297218590974808,0.07678253203630447,0.07334517687559128,0.06965518742799759,0.07101906090974808,0.07351970672607422,0.0696302130818367,0.07148618251085281,0.07276225835084915,0.0649893581867218,0.06508539617061615,0.0667814314365387,0.0683666467666626,0.0674121230840683,0.06485411524772644,0.06969678401947021,0.06306955218315125,0.06529533863067627,0.0656386986374855,0.06269334256649017,0.06636665016412735,0.06417030841112137,0.06892142444849014,0.06968814134597778,0.057793594896793365,0.058998074382543564,0.0622837208211422,0.058817308396101,0.060458626598119736,0.06049541383981705,0.06105618551373482,0.06094555929303169,0.06127115711569786,0.05758240073919296,0.06029480695724487,0.05950656533241272,0.06590142101049423,0.05914882943034172,0.05721836909651756,0.057322002947330475,0.05777719244360924,0.06081005185842514,0.05642177537083626,0.055242106318473816,0.05714535340666771,0.058932848274707794,0.05782940611243248,0.06256851553916931,0.0559137761592865,0.051996078342199326,0.04988912120461464,0.05305108428001404,0.05421523377299309],\"type\":\"scattergl\"},{\"name\":\"Valid\",\"y\":[0.31912338733673096,0.22960057854652405,0.19083848595619202,0.18449248373508453,0.16918033361434937,0.17615550756454468,0.1729237139225006,0.17106445133686066,0.1585099846124649,0.16961878538131714,0.1815345585346222,0.16545015573501587,0.16141079366207123,0.17253580689430237,0.16207566857337952,0.16505716741085052,0.16608528792858124,0.16911493241786957,0.16157442331314087,0.15550711750984192,0.16321811079978943,0.15723565220832825,0.1661171019077301,0.19438938796520233,0.1722021847963333,0.16678890585899353,0.15780632197856903,0.1584501564502716,0.17162851989269257,0.17123430967330933,0.16596965491771698,0.17551222443580627,0.17446671426296234,0.16868115961551666,0.16767574846744537,0.16601257026195526,0.17035087943077087,0.16972927749156952,0.1717538833618164,0.1677267849445343,0.1727890521287918,0.17763569951057434,0.1763221174478531,0.1659398376941681,0.18396559357643127,0.17436431348323822,0.1759507656097412,0.1729820817708969,0.17632143199443817,0.1781298667192459,0.18483112752437592,0.17502766847610474,0.17214038968086243,0.17375652492046356,0.17401385307312012,0.17436335980892181,0.1778915375471115,0.1839132457971573,0.1807810664176941,0.18995428085327148,0.18738090991973877,0.18364235758781433,0.17731842398643494,0.18596982955932617,0.1765439361333847,0.19307063519954681,0.21284636855125427,0.1711173802614212,0.18047471344470978,0.18184618651866913,0.1777815967798233,0.18501903116703033,0.1826837956905365,0.18555974960327148,0.18950800597667694,0.18425564467906952,0.17478026449680328,0.1909833401441574,0.17761506140232086,0.1858535259962082,0.20673882961273193,0.18447056412696838,0.194921612739563,0.1802108734846115,0.18745572865009308,0.19495658576488495,0.1882285326719284,0.18808314204216003,0.18540538847446442,0.18103858828544617,0.18885299563407898,0.19303905963897705,0.19724328815937042,0.18258273601531982,0.1906997114419937,0.18652713298797607,0.19716203212738037,0.19597548246383667,0.19325627386569977,0.19050315022468567],\"type\":\"scattergl\"}],                        {\"template\":{\"data\":{\"bar\":[{\"error_x\":{\"color\":\"#2a3f5f\"},\"error_y\":{\"color\":\"#2a3f5f\"},\"marker\":{\"line\":{\"color\":\"#E5ECF6\",\"width\":0.5},\"pattern\":{\"fillmode\":\"overlay\",\"size\":10,\"solidity\":0.2}},\"type\":\"bar\"}],\"barpolar\":[{\"marker\":{\"line\":{\"color\":\"#E5ECF6\",\"width\":0.5},\"pattern\":{\"fillmode\":\"overlay\",\"size\":10,\"solidity\":0.2}},\"type\":\"barpolar\"}],\"carpet\":[{\"aaxis\":{\"endlinecolor\":\"#2a3f5f\",\"gridcolor\":\"white\",\"linecolor\":\"white\",\"minorgridcolor\":\"white\",\"startlinecolor\":\"#2a3f5f\"},\"baxis\":{\"endlinecolor\":\"#2a3f5f\",\"gridcolor\":\"white\",\"linecolor\":\"white\",\"minorgridcolor\":\"white\",\"startlinecolor\":\"#2a3f5f\"},\"type\":\"carpet\"}],\"choropleth\":[{\"colorbar\":{\"outlinewidth\":0,\"ticks\":\"\"},\"type\":\"choropleth\"}],\"contour\":[{\"colorbar\":{\"outlinewidth\":0,\"ticks\":\"\"},\"colorscale\":[[0.0,\"#0d0887\"],[0.1111111111111111,\"#46039f\"],[0.2222222222222222,\"#7201a8\"],[0.3333333333333333,\"#9c179e\"],[0.4444444444444444,\"#bd3786\"],[0.5555555555555556,\"#d8576b\"],[0.6666666666666666,\"#ed7953\"],[0.7777777777777778,\"#fb9f3a\"],[0.8888888888888888,\"#fdca26\"],[1.0,\"#f0f921\"]],\"type\":\"contour\"}],\"contourcarpet\":[{\"colorbar\":{\"outlinewidth\":0,\"ticks\":\"\"},\"type\":\"contourcarpet\"}],\"heatmap\":[{\"colorbar\":{\"outlinewidth\":0,\"ticks\":\"\"},\"colorscale\":[[0.0,\"#0d0887\"],[0.1111111111111111,\"#46039f\"],[0.2222222222222222,\"#7201a8\"],[0.3333333333333333,\"#9c179e\"],[0.4444444444444444,\"#bd3786\"],[0.5555555555555556,\"#d8576b\"],[0.6666666666666666,\"#ed7953\"],[0.7777777777777778,\"#fb9f3a\"],[0.8888888888888888,\"#fdca26\"],[1.0,\"#f0f921\"]],\"type\":\"heatmap\"}],\"heatmapgl\":[{\"colorbar\":{\"outlinewidth\":0,\"ticks\":\"\"},\"colorscale\":[[0.0,\"#0d0887\"],[0.1111111111111111,\"#46039f\"],[0.2222222222222222,\"#7201a8\"],[0.3333333333333333,\"#9c179e\"],[0.4444444444444444,\"#bd3786\"],[0.5555555555555556,\"#d8576b\"],[0.6666666666666666,\"#ed7953\"],[0.7777777777777778,\"#fb9f3a\"],[0.8888888888888888,\"#fdca26\"],[1.0,\"#f0f921\"]],\"type\":\"heatmapgl\"}],\"histogram\":[{\"marker\":{\"pattern\":{\"fillmode\":\"overlay\",\"size\":10,\"solidity\":0.2}},\"type\":\"histogram\"}],\"histogram2d\":[{\"colorbar\":{\"outlinewidth\":0,\"ticks\":\"\"},\"colorscale\":[[0.0,\"#0d0887\"],[0.1111111111111111,\"#46039f\"],[0.2222222222222222,\"#7201a8\"],[0.3333333333333333,\"#9c179e\"],[0.4444444444444444,\"#bd3786\"],[0.5555555555555556,\"#d8576b\"],[0.6666666666666666,\"#ed7953\"],[0.7777777777777778,\"#fb9f3a\"],[0.8888888888888888,\"#fdca26\"],[1.0,\"#f0f921\"]],\"type\":\"histogram2d\"}],\"histogram2dcontour\":[{\"colorbar\":{\"outlinewidth\":0,\"ticks\":\"\"},\"colorscale\":[[0.0,\"#0d0887\"],[0.1111111111111111,\"#46039f\"],[0.2222222222222222,\"#7201a8\"],[0.3333333333333333,\"#9c179e\"],[0.4444444444444444,\"#bd3786\"],[0.5555555555555556,\"#d8576b\"],[0.6666666666666666,\"#ed7953\"],[0.7777777777777778,\"#fb9f3a\"],[0.8888888888888888,\"#fdca26\"],[1.0,\"#f0f921\"]],\"type\":\"histogram2dcontour\"}],\"mesh3d\":[{\"colorbar\":{\"outlinewidth\":0,\"ticks\":\"\"},\"type\":\"mesh3d\"}],\"parcoords\":[{\"line\":{\"colorbar\":{\"outlinewidth\":0,\"ticks\":\"\"}},\"type\":\"parcoords\"}],\"pie\":[{\"automargin\":true,\"type\":\"pie\"}],\"scatter\":[{\"marker\":{\"colorbar\":{\"outlinewidth\":0,\"ticks\":\"\"}},\"type\":\"scatter\"}],\"scatter3d\":[{\"line\":{\"colorbar\":{\"outlinewidth\":0,\"ticks\":\"\"}},\"marker\":{\"colorbar\":{\"outlinewidth\":0,\"ticks\":\"\"}},\"type\":\"scatter3d\"}],\"scattercarpet\":[{\"marker\":{\"colorbar\":{\"outlinewidth\":0,\"ticks\":\"\"}},\"type\":\"scattercarpet\"}],\"scattergeo\":[{\"marker\":{\"colorbar\":{\"outlinewidth\":0,\"ticks\":\"\"}},\"type\":\"scattergeo\"}],\"scattergl\":[{\"marker\":{\"colorbar\":{\"outlinewidth\":0,\"ticks\":\"\"}},\"type\":\"scattergl\"}],\"scattermapbox\":[{\"marker\":{\"colorbar\":{\"outlinewidth\":0,\"ticks\":\"\"}},\"type\":\"scattermapbox\"}],\"scatterpolar\":[{\"marker\":{\"colorbar\":{\"outlinewidth\":0,\"ticks\":\"\"}},\"type\":\"scatterpolar\"}],\"scatterpolargl\":[{\"marker\":{\"colorbar\":{\"outlinewidth\":0,\"ticks\":\"\"}},\"type\":\"scatterpolargl\"}],\"scatterternary\":[{\"marker\":{\"colorbar\":{\"outlinewidth\":0,\"ticks\":\"\"}},\"type\":\"scatterternary\"}],\"surface\":[{\"colorbar\":{\"outlinewidth\":0,\"ticks\":\"\"},\"colorscale\":[[0.0,\"#0d0887\"],[0.1111111111111111,\"#46039f\"],[0.2222222222222222,\"#7201a8\"],[0.3333333333333333,\"#9c179e\"],[0.4444444444444444,\"#bd3786\"],[0.5555555555555556,\"#d8576b\"],[0.6666666666666666,\"#ed7953\"],[0.7777777777777778,\"#fb9f3a\"],[0.8888888888888888,\"#fdca26\"],[1.0,\"#f0f921\"]],\"type\":\"surface\"}],\"table\":[{\"cells\":{\"fill\":{\"color\":\"#EBF0F8\"},\"line\":{\"color\":\"white\"}},\"header\":{\"fill\":{\"color\":\"#C8D4E3\"},\"line\":{\"color\":\"white\"}},\"type\":\"table\"}]},\"layout\":{\"annotationdefaults\":{\"arrowcolor\":\"#2a3f5f\",\"arrowhead\":0,\"arrowwidth\":1},\"autotypenumbers\":\"strict\",\"coloraxis\":{\"colorbar\":{\"outlinewidth\":0,\"ticks\":\"\"}},\"colorscale\":{\"diverging\":[[0,\"#8e0152\"],[0.1,\"#c51b7d\"],[0.2,\"#de77ae\"],[0.3,\"#f1b6da\"],[0.4,\"#fde0ef\"],[0.5,\"#f7f7f7\"],[0.6,\"#e6f5d0\"],[0.7,\"#b8e186\"],[0.8,\"#7fbc41\"],[0.9,\"#4d9221\"],[1,\"#276419\"]],\"sequential\":[[0.0,\"#0d0887\"],[0.1111111111111111,\"#46039f\"],[0.2222222222222222,\"#7201a8\"],[0.3333333333333333,\"#9c179e\"],[0.4444444444444444,\"#bd3786\"],[0.5555555555555556,\"#d8576b\"],[0.6666666666666666,\"#ed7953\"],[0.7777777777777778,\"#fb9f3a\"],[0.8888888888888888,\"#fdca26\"],[1.0,\"#f0f921\"]],\"sequentialminus\":[[0.0,\"#0d0887\"],[0.1111111111111111,\"#46039f\"],[0.2222222222222222,\"#7201a8\"],[0.3333333333333333,\"#9c179e\"],[0.4444444444444444,\"#bd3786\"],[0.5555555555555556,\"#d8576b\"],[0.6666666666666666,\"#ed7953\"],[0.7777777777777778,\"#fb9f3a\"],[0.8888888888888888,\"#fdca26\"],[1.0,\"#f0f921\"]]},\"colorway\":[\"#636efa\",\"#EF553B\",\"#00cc96\",\"#ab63fa\",\"#FFA15A\",\"#19d3f3\",\"#FF6692\",\"#B6E880\",\"#FF97FF\",\"#FECB52\"],\"font\":{\"color\":\"#2a3f5f\"},\"geo\":{\"bgcolor\":\"white\",\"lakecolor\":\"white\",\"landcolor\":\"#E5ECF6\",\"showlakes\":true,\"showland\":true,\"subunitcolor\":\"white\"},\"hoverlabel\":{\"align\":\"left\"},\"hovermode\":\"closest\",\"mapbox\":{\"style\":\"light\"},\"paper_bgcolor\":\"white\",\"plot_bgcolor\":\"#E5ECF6\",\"polar\":{\"angularaxis\":{\"gridcolor\":\"white\",\"linecolor\":\"white\",\"ticks\":\"\"},\"bgcolor\":\"#E5ECF6\",\"radialaxis\":{\"gridcolor\":\"white\",\"linecolor\":\"white\",\"ticks\":\"\"}},\"scene\":{\"xaxis\":{\"backgroundcolor\":\"#E5ECF6\",\"gridcolor\":\"white\",\"gridwidth\":2,\"linecolor\":\"white\",\"showbackground\":true,\"ticks\":\"\",\"zerolinecolor\":\"white\"},\"yaxis\":{\"backgroundcolor\":\"#E5ECF6\",\"gridcolor\":\"white\",\"gridwidth\":2,\"linecolor\":\"white\",\"showbackground\":true,\"ticks\":\"\",\"zerolinecolor\":\"white\"},\"zaxis\":{\"backgroundcolor\":\"#E5ECF6\",\"gridcolor\":\"white\",\"gridwidth\":2,\"linecolor\":\"white\",\"showbackground\":true,\"ticks\":\"\",\"zerolinecolor\":\"white\"}},\"shapedefaults\":{\"line\":{\"color\":\"#2a3f5f\"}},\"ternary\":{\"aaxis\":{\"gridcolor\":\"white\",\"linecolor\":\"white\",\"ticks\":\"\"},\"baxis\":{\"gridcolor\":\"white\",\"linecolor\":\"white\",\"ticks\":\"\"},\"bgcolor\":\"#E5ECF6\",\"caxis\":{\"gridcolor\":\"white\",\"linecolor\":\"white\",\"ticks\":\"\"}},\"title\":{\"x\":0.05},\"xaxis\":{\"automargin\":true,\"gridcolor\":\"white\",\"linecolor\":\"white\",\"ticks\":\"\",\"title\":{\"standoff\":15},\"zerolinecolor\":\"white\",\"zerolinewidth\":2},\"yaxis\":{\"automargin\":true,\"gridcolor\":\"white\",\"linecolor\":\"white\",\"ticks\":\"\",\"title\":{\"standoff\":15},\"zerolinecolor\":\"white\",\"zerolinewidth\":2}}},\"height\":500,\"width\":700,\"xaxis\":{\"title\":{\"text\":\"Epoch\"}},\"yaxis\":{\"title\":{\"text\":\"MSE\"}}},                        {\"responsive\": true}                    ).then(function(){\n",
       "                            \n",
       "var gd = document.getElementById('51239164-0779-44e8-aac2-1295d7d82ceb');\n",
       "var x = new MutationObserver(function (mutations, observer) {{\n",
       "        var display = window.getComputedStyle(gd).display;\n",
       "        if (!display || display === 'none') {{\n",
       "            console.log([gd, 'removed!']);\n",
       "            Plotly.purge(gd);\n",
       "            observer.disconnect();\n",
       "        }}\n",
       "}});\n",
       "\n",
       "// Listen for the removal of the full notebook cells\n",
       "var notebookContainer = gd.closest('#notebook-container');\n",
       "if (notebookContainer) {{\n",
       "    x.observe(notebookContainer, {childList: true});\n",
       "}}\n",
       "\n",
       "// Listen for the clearing of the current output cell\n",
       "var outputEl = gd.closest('.output');\n",
       "if (outputEl) {{\n",
       "    x.observe(outputEl, {childList: true});\n",
       "}}\n",
       "\n",
       "                        })                };                });            </script>        </div>"
      ]
     },
     "metadata": {},
     "output_type": "display_data"
    }
   ],
   "source": [
    "import plotly.graph_objects as go\n",
    "\n",
    "fig = go.Figure()\n",
    "fig.add_trace(go.Scattergl(y=history_wd.history['loss'],\n",
    "                    name='Train'))\n",
    "fig.add_trace(go.Scattergl(y=history_wd.history['val_loss'],\n",
    "                    name='Valid'))\n",
    "fig.update_layout(height=500, width=700,\n",
    "                  xaxis_title='Epoch',\n",
    "                  yaxis_title='MSE')\n",
    "fig.show()"
   ]
  },
  {
   "cell_type": "code",
   "execution_count": 101,
   "id": "20c21d50",
   "metadata": {},
   "outputs": [
    {
     "name": "stdout",
     "output_type": "stream",
     "text": [
      "207/207 [==============================] - 0s 2ms/step - loss: 0.2173 - rmse: 0.3386 - r2: 0.6320\n",
      "Train R-sq:  0.9032\n",
      "Train MSE:  0.0542\n",
      "Val R-sq:  0.6336\n",
      "Val MSE:  0.1905\n",
      "Test R-sq:  0.632\n",
      "Test MSE:  0.2173\n"
     ]
    }
   ],
   "source": [
    "mse_nn, rmse_nn, r2_nn = model_wd.evaluate(X_test_trfm, y_test)\n",
    "print('Train R-sq: ', round(history_wd.history['r2'][epoch-1],4))\n",
    "print('Train MSE: ', round(history_wd.history['loss'][epoch-1],4))\n",
    "print('Val R-sq: ', round(history_wd.history['val_r2'][epoch-1],4))\n",
    "print('Val MSE: ', round(history_wd.history['val_loss'][epoch-1],4))\n",
    "print('Test R-sq: ', round(r2_nn,4))\n",
    "print('Test MSE: ', round(mse_nn,4))"
   ]
  },
  {
   "cell_type": "code",
   "execution_count": null,
   "id": "1cd94608",
   "metadata": {},
   "outputs": [],
   "source": []
  },
  {
   "cell_type": "markdown",
   "id": "26d5f461-828d-436d-b403-d3946f636966",
   "metadata": {
    "id": "26d5f461-828d-436d-b403-d3946f636966"
   },
   "source": [
    "### 5.3 Actual vs Predicted"
   ]
  },
  {
   "cell_type": "code",
   "execution_count": 117,
   "id": "18d1a4f2-a769-452c-9168-682c7ea75781",
   "metadata": {
    "id": "18d1a4f2-a769-452c-9168-682c7ea75781"
   },
   "outputs": [],
   "source": [
    "import matplotlib.cm as cm\n",
    "sns.set_style(\"whitegrid\")\n",
    "import matplotlib.colors as mcolors"
   ]
  },
  {
   "cell_type": "code",
   "execution_count": 119,
   "id": "a7235f7f-e45b-4af2-99ef-6b04a632db81",
   "metadata": {
    "id": "a7235f7f-e45b-4af2-99ef-6b04a632db81",
    "outputId": "03d97570-0d9c-4217-c373-da16bc32368e"
   },
   "outputs": [
    {
     "data": {
      "image/png": "[encoded data removed]",
      "text/plain": [
       "<Figure size 576x360 with 2 Axes>"
      ]
     },
     "metadata": {},
     "output_type": "display_data"
    }
   ],
   "source": [
    "pred = model_bl.predict(X_test_trfm)[:,0]\n",
    "df_pred = pd.DataFrame.from_dict({'y_pred': pred, 'y_true': y_test})\n",
    "df_pred['deviation'] = df_pred['y_pred'] - df_pred['y_true']\n",
    "\n",
    "# Get/set params for the colour mapping\n",
    "vcenter = 0\n",
    "vmin, vmax = df_pred['deviation'].min(), df_pred['deviation'].max()\n",
    "normalize = mcolors.TwoSlopeNorm(vcenter=vcenter, vmin=vmin, vmax=vmax)\n",
    "colormap = cm.coolwarm_r\n",
    "\n",
    "plt.figure(figsize = (8,5))\n",
    "sns.scatterplot(x = 'y_true', y = 'y_pred', data = df_pred,  \n",
    "                cmap=colormap, c=df_pred['deviation'], norm=normalize)\n",
    "\n",
    "scalarmappaple = cm.ScalarMappable(norm=normalize, cmap=colormap)\n",
    "scalarmappaple.set_array(df_pred['deviation'])\n",
    "plt.colorbar(scalarmappaple)\n",
    "plt.ylim(2,9)\n",
    "plt.xlim(2,9)\n",
    "plt.title('Baseline Neural Net Predicted vs True Log Price', fontsize = 15)\n",
    "plt.show()"
   ]
  },
  {
   "cell_type": "code",
   "execution_count": 120,
   "id": "666d8496-0367-4f78-86f7-77b0c437eca9",
   "metadata": {
    "id": "666d8496-0367-4f78-86f7-77b0c437eca9",
    "outputId": "bd68b11b-07e1-4bf9-cc4d-609580d417ca"
   },
   "outputs": [
    {
     "data": {
      "image/png": "[encoded data removed]",
      "text/plain": [
       "<Figure size 432x288 with 1 Axes>"
      ]
     },
     "metadata": {},
     "output_type": "display_data"
    }
   ],
   "source": [
    "sns.histplot(df_pred['deviation'])\n",
    "plt.xlabel('Error (Log Price)')\n",
    "plt.ylabel('Number of Observations')\n",
    "plt.title('Distribution of Prediction Error (Baseline Neural Net)', fontsize = 15)\n",
    "plt.xlim(-2, 2)\n",
    "plt.show()"
   ]
  },
  {
   "cell_type": "code",
   "execution_count": 121,
   "id": "de1d5d94-b4dc-4cb3-82d9-2bf4c713fb02",
   "metadata": {
    "id": "de1d5d94-b4dc-4cb3-82d9-2bf4c713fb02"
   },
   "outputs": [
    {
     "data": {
      "image/png": "[encoded data removed]",
      "text/plain": [
       "<Figure size 576x360 with 2 Axes>"
      ]
     },
     "metadata": {},
     "output_type": "display_data"
    }
   ],
   "source": [
    "pred = model_dp.predict(X_test_trfm)[:,0]\n",
    "df_pred = pd.DataFrame.from_dict({'y_pred': pred, 'y_true': y_test})\n",
    "df_pred['deviation'] = df_pred['y_pred'] - df_pred['y_true']\n",
    "\n",
    "# Get/set params for the colour mapping\n",
    "vcenter = 0\n",
    "vmin, vmax = df_pred['deviation'].min(), df_pred['deviation'].max()\n",
    "normalize = mcolors.TwoSlopeNorm(vcenter=vcenter, vmin=vmin, vmax=vmax)\n",
    "colormap = cm.coolwarm_r\n",
    "\n",
    "plt.figure(figsize = (8,5))\n",
    "sns.scatterplot(x = 'y_true', y = 'y_pred', data = df_pred,  \n",
    "                cmap=colormap, c=df_pred['deviation'], norm=normalize)\n",
    "\n",
    "scalarmappaple = cm.ScalarMappable(norm=normalize, cmap=colormap)\n",
    "scalarmappaple.set_array(df_pred['deviation'])\n",
    "plt.colorbar(scalarmappaple)\n",
    "plt.ylim(2,9)\n",
    "plt.xlim(2,9)\n",
    "plt.title('Deep Neural Net Predicted vs True Log Price', fontsize = 15)\n",
    "plt.show()"
   ]
  },
  {
   "cell_type": "code",
   "execution_count": 122,
   "id": "1276c8b9",
   "metadata": {},
   "outputs": [
    {
     "data": {
      "image/png": "[encoded data removed]",
      "text/plain": [
       "<Figure size 432x288 with 1 Axes>"
      ]
     },
     "metadata": {},
     "output_type": "display_data"
    }
   ],
   "source": [
    "sns.histplot(df_pred['deviation'])\n",
    "plt.xlabel('Error (Log Price)')\n",
    "plt.ylabel('Number of Observations')\n",
    "plt.title('Distribution of Prediction Error (Deep Neural Net)', fontsize = 15)\n",
    "plt.xlim(-2, 2)\n",
    "plt.show()"
   ]
  },
  {
   "cell_type": "code",
   "execution_count": 123,
   "id": "20742792",
   "metadata": {},
   "outputs": [
    {
     "data": {
      "image/png": "[encoded data removed]",
      "text/plain": [
       "<Figure size 576x360 with 2 Axes>"
      ]
     },
     "metadata": {},
     "output_type": "display_data"
    }
   ],
   "source": [
    "pred = model_wd.predict(X_test_trfm)[:,0]\n",
    "df_pred = pd.DataFrame.from_dict({'y_pred': pred, 'y_true': y_test})\n",
    "df_pred['deviation'] = df_pred['y_pred'] - df_pred['y_true']\n",
    "\n",
    "# Get/set params for the colour mapping\n",
    "vcenter = 0\n",
    "vmin, vmax = df_pred['deviation'].min(), df_pred['deviation'].max()\n",
    "normalize = mcolors.TwoSlopeNorm(vcenter=vcenter, vmin=vmin, vmax=vmax)\n",
    "colormap = cm.coolwarm_r\n",
    "\n",
    "plt.figure(figsize = (8,5))\n",
    "sns.scatterplot(x = 'y_true', y = 'y_pred', data = df_pred,  \n",
    "                cmap=colormap, c=df_pred['deviation'], norm=normalize)\n",
    "\n",
    "scalarmappaple = cm.ScalarMappable(norm=normalize, cmap=colormap)\n",
    "scalarmappaple.set_array(df_pred['deviation'])\n",
    "plt.colorbar(scalarmappaple)\n",
    "plt.ylim(2,9)\n",
    "plt.xlim(2,9)\n",
    "plt.title('Wide Neural Net Predicted vs True Log Price', fontsize = 15)\n",
    "plt.show()"
   ]
  },
  {
   "cell_type": "code",
   "execution_count": 124,
   "id": "aa7067b5",
   "metadata": {},
   "outputs": [
    {
     "data": {
      "image/png": "[encoded data removed]",
      "text/plain": [
       "<Figure size 432x288 with 1 Axes>"
      ]
     },
     "metadata": {},
     "output_type": "display_data"
    }
   ],
   "source": [
    "sns.histplot(df_pred['deviation'])\n",
    "plt.xlabel('Error (Log Price)')\n",
    "plt.ylabel('Number of Observations')\n",
    "plt.title('Distribution of Prediction Error (Wide Neural Net)', fontsize = 15)\n",
    "plt.xlim(-2, 2)\n",
    "plt.show()"
   ]
  },
  {
   "cell_type": "code",
   "execution_count": null,
   "id": "8fe6c5fd",
   "metadata": {},
   "outputs": [],
   "source": []
  }
 ],
 "metadata": {
  "colab": {
   "collapsed_sections": [],
   "name": "2.Modelling_Code.ipynb",
   "provenance": []
  },
  "kernelspec": {
   "display_name": "Python 3 (ipykernel)",
   "language": "python",
   "name": "python3"
  },
  "language_info": {
   "codemirror_mode": {
    "name": "ipython",
    "version": 3
   },
   "file_extension": ".py",
   "mimetype": "text/x-python",
   "name": "python",
   "nbconvert_exporter": "python",
   "pygments_lexer": "ipython3",
   "version": "3.9.6"
  }
 },
 "nbformat": 4,
 "nbformat_minor": 5
}
