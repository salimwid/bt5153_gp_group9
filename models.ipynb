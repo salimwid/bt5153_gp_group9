{
 "cells": [
  {
   "cell_type": "markdown",
   "id": "cce8321d-6519-46f1-9487-fb3046614b35",
   "metadata": {
    "id": "cce8321d-6519-46f1-9487-fb3046614b35"
   },
   "source": [
    "# Modelling\n",
    "\n",
    "Feature engineering, model training, tuning, selection and explanability."
   ]
  },
  {
   "cell_type": "markdown",
   "id": "002dbab7-58dd-4ba0-8481-7821e28aae8a",
   "metadata": {
    "id": "002dbab7-58dd-4ba0-8481-7821e28aae8a"
   },
   "source": [
    "# 0. Load Packages and Define Helper Functions"
   ]
  },
  {
   "cell_type": "code",
   "execution_count": 1,
   "id": "4569f689-b6f1-4bfc-af64-7d0fe9a0850c",
   "metadata": {
    "id": "4569f689-b6f1-4bfc-af64-7d0fe9a0850c"
   },
   "outputs": [],
   "source": [
    "import pandas as pd\n",
    "import numpy as np\n",
    "import matplotlib.pyplot as plt\n",
    "import seaborn as sns\n",
    "from preprocessing import preprocess_df, clean_amenities\n",
    "random_state = 42\n",
    "\n",
    "import warnings\n",
    "warnings.filterwarnings('ignore')"
   ]
  },
  {
   "cell_type": "code",
   "execution_count": 2,
   "id": "9a922dad-858a-4ee9-9ac9-fd1ed80b3bab",
   "metadata": {
    "id": "9a922dad-858a-4ee9-9ac9-fd1ed80b3bab"
   },
   "outputs": [
    {
     "name": "stdout",
     "output_type": "stream",
     "text": [
      "WARNING:tensorflow:From C:\\Users\\ggary\\AppData\\Local\\Programs\\Python\\Python39\\lib\\site-packages\\tensorflow\\python\\compat\\v2_compat.py:107: disable_resource_variables (from tensorflow.python.ops.variable_scope) is deprecated and will be removed in a future version.\n",
      "Instructions for updating:\n",
      "non-resource variables are not supported in the long term\n"
     ]
    }
   ],
   "source": [
    "from sklearn.linear_model import LinearRegression\n",
    "from sklearn.tree import DecisionTreeRegressor\n",
    "\n",
    "\n",
    "from lightgbm import LGBMRegressor\n",
    "from lightgbm import plot_importance\n",
    "from sklearn.preprocessing import LabelEncoder\n",
    "\n",
    "from sklearn.feature_selection import SelectFromModel\n",
    "from sklearn.ensemble import RandomForestRegressor\n",
    "from xgboost import XGBRegressor\n",
    "from lightgbm import LGBMRegressor\n",
    "\n",
    "from sklearn.pipeline import Pipeline\n",
    "from sklearn.inspection import permutation_importance\n",
    "from sklearn.ensemble import StackingRegressor\n",
    "\n",
    "from sklearn.pipeline import Pipeline\n",
    "from sklearn.preprocessing import StandardScaler,OneHotEncoder, RobustScaler, QuantileTransformer\n",
    "from sklearn.compose import ColumnTransformer\n",
    "from sklearn import set_config\n",
    "set_config(display=\"diagram\")\n",
    "\n",
    "from sklearn.model_selection import train_test_split, cross_validate, GridSearchCV, RandomizedSearchCV\n",
    "from sklearn.metrics import mean_squared_error\n",
    "\n",
    "from keras.models import Sequential\n",
    "from keras.layers import Dense, Activation, BatchNormalization\n",
    "from sklearn.metrics import mean_squared_error\n",
    "from keras import backend\n",
    "import shap\n",
    "import tensorflow as tf\n",
    "tf.compat.v1.disable_eager_execution()\n",
    "tf.compat.v1.disable_v2_behavior()"
   ]
  },
  {
   "cell_type": "code",
   "execution_count": 3,
   "id": "e7162e3f-b50c-4bfd-a76d-7459f22dc28c",
   "metadata": {
    "id": "e7162e3f-b50c-4bfd-a76d-7459f22dc28c"
   },
   "outputs": [],
   "source": [
    "def fit_and_score(model, X_train, X_test, y_train, y_test):\n",
    "    \n",
    "    model.fit(X_train, y_train)\n",
    "    \n",
    "    # Train metrics\n",
    "    pred_train= model.predict(X_train)\n",
    "    train_MSE = mean_squared_error(y_train, pred_train)\n",
    "    \n",
    "    # Cross validated metrics\n",
    "    cv_score = cross_validate(model, X_train, y_train, scoring=['r2', 'neg_mean_squared_error'],n_jobs=2, verbose=1, cv = 5) \n",
    "    \n",
    "    # Test metrics\n",
    "    pred_test= model.predict(X_test)\n",
    "    test_MSE = mean_squared_error(y_test, pred_test)\n",
    "    \n",
    "    print('Train R-sq', round(model.score(X_train, y_train),4))\n",
    "    print('Train MSE:', round(train_MSE,4))\n",
    "    print('')\n",
    "    print('CV R-sq', round(np.mean(cv_score['test_r2']),4))\n",
    "    print('CV MSE:', round(-np.mean(cv_score['test_neg_mean_squared_error']),4))\n",
    "    print('')\n",
    "    print('Test R-sq', round(model.score(X_test, y_test),4))\n",
    "    print('Test MSE:', round(test_MSE,4))\n",
    "    \n",
    "    return model\n",
    "\n",
    "def grid_search_pipe(model, grid, X_train, y_train):\n",
    "    \n",
    "    search = GridSearchCV(model, grid, cv=5,n_jobs=2, scoring='r2', verbose=1)\n",
    "    search.fit(X_train, y_train)\n",
    "    \n",
    "    print(\"Best params:\\n{}\".format(search.best_params_))\n",
    "    print(\"Best score:\\n{}\".format(search.best_score_)) #Mean cross-validated score of the best_estimator\n",
    "    \n",
    "    return search"
   ]
  },
  {
   "cell_type": "markdown",
   "id": "b17ca18c-c8be-48a8-9a85-2bc1acbec670",
   "metadata": {
    "id": "b17ca18c-c8be-48a8-9a85-2bc1acbec670",
    "tags": []
   },
   "source": [
    "# 1. Load and Preprocess"
   ]
  },
  {
   "cell_type": "code",
   "execution_count": 4,
   "id": "1cec108c-c7b6-4139-8cd0-a1de147c5bd0",
   "metadata": {
    "id": "1cec108c-c7b6-4139-8cd0-a1de147c5bd0",
    "outputId": "a3c77061-edf5-4ca6-e99d-e2000ec8dc4c"
   },
   "outputs": [],
   "source": [
    "data = pd.read_csv('data/listings.csv.gz')\n"
   ]
  },
  {
   "cell_type": "code",
   "execution_count": 5,
   "id": "4183283e",
   "metadata": {},
   "outputs": [
    {
     "data": {
      "text/plain": [
       "<AxesSubplot:>"
      ]
     },
     "execution_count": 5,
     "metadata": {},
     "output_type": "execute_result"
    },
    {
     "data": {
      "image/png": "[encoded data removed]",
      "text/plain": [
       "<Figure size 432x288 with 1 Axes>"
      ]
     },
     "metadata": {
      "needs_background": "light"
     },
     "output_type": "display_data"
    }
   ],
   "source": [
    "data['reviews_per_month'].plot(kind='box')"
   ]
  },
  {
   "cell_type": "code",
   "execution_count": 6,
   "id": "8ac41126",
   "metadata": {},
   "outputs": [
    {
     "data": {
      "text/plain": [
       "count    48082.000000\n",
       "mean         0.635780\n",
       "std          1.037195\n",
       "min          0.010000\n",
       "25%          0.090000\n",
       "50%          0.290000\n",
       "75%          0.790000\n",
       "max         57.660000\n",
       "Name: reviews_per_month, dtype: float64"
      ]
     },
     "execution_count": 6,
     "metadata": {},
     "output_type": "execute_result"
    }
   ],
   "source": [
    "data['reviews_per_month'].describe()"
   ]
  },
  {
   "cell_type": "code",
   "execution_count": 7,
   "id": "5543a554",
   "metadata": {},
   "outputs": [
    {
     "name": "stdout",
     "output_type": "stream",
     "text": [
      "bedrooms: 368 values above cutoff, value_cutoff = 4.669999999998254\n",
      "minimum_nights: 145 values above cutoff, value_cutoff = 90.0\n",
      "maximum_nights: 13 values above cutoff, value_cutoff = 1125.0\n",
      "minimum_nights_avg_ntm: 177 values above cutoff, value_cutoff = 90.0\n"
     ]
    }
   ],
   "source": [
    "df = preprocess_df(data = data, verbose = True)"
   ]
  },
  {
   "cell_type": "code",
   "execution_count": 8,
   "id": "a4467a62-6c91-4581-bdb6-7e49939a36a0",
   "metadata": {
    "id": "a4467a62-6c91-4581-bdb6-7e49939a36a0",
    "outputId": "76f60952-3a49-436b-a71e-431376d13d38"
   },
   "outputs": [
    {
     "data": {
      "text/plain": [
       "Index(['id', 'host_id', 'host_since', 'host_is_superhost',\n",
       "       'host_total_listings_count', 'host_has_profile_pic',\n",
       "       'host_identity_verified', 'neighbourhood_group_cleansed', 'latitude',\n",
       "       'longitude', 'property_type', 'room_type', 'accommodates', 'bedrooms',\n",
       "       'amenities', 'price', 'minimum_nights', 'maximum_nights',\n",
       "       'minimum_nights_avg_ntm', 'maximum_nights_avg_ntm', 'has_availability',\n",
       "       'availability_30', 'availability_60', 'availability_90',\n",
       "       'availability_365', 'number_of_reviews', 'number_of_reviews_ltm',\n",
       "       'number_of_reviews_l30d', 'first_review', 'last_review',\n",
       "       'review_scores_rating', 'review_scores_accuracy',\n",
       "       'review_scores_cleanliness', 'review_scores_checkin',\n",
       "       'review_scores_communication', 'review_scores_location',\n",
       "       'review_scores_value', 'instant_bookable', 'reviews_per_month',\n",
       "       'bathroom_num', 'bathroom_sharing', 'price_log'],\n",
       "      dtype='object')"
      ]
     },
     "execution_count": 8,
     "metadata": {},
     "output_type": "execute_result"
    }
   ],
   "source": [
    "df.columns"
   ]
  },
  {
   "cell_type": "code",
   "execution_count": 9,
   "id": "47cff3f3-8d46-4a99-8229-c42950bf4a89",
   "metadata": {
    "id": "47cff3f3-8d46-4a99-8229-c42950bf4a89",
    "outputId": "12789ae1-7488-44ab-fb23-d0fed31089f2"
   },
   "outputs": [],
   "source": [
    "df = clean_amenities(data = df, num_amenities =80, verbose = True)"
   ]
  },
  {
   "cell_type": "code",
   "execution_count": 10,
   "id": "c70f530f-e242-4c05-8442-29d0644831c4",
   "metadata": {
    "id": "c70f530f-e242-4c05-8442-29d0644831c4",
    "outputId": "fdbdba12-20c8-4497-c426-a1e26f797d43"
   },
   "outputs": [
    {
     "data": {
      "text/html": [
       "<div>\n",
       "<style scoped>\n",
       "    .dataframe tbody tr th:only-of-type {\n",
       "        vertical-align: middle;\n",
       "    }\n",
       "\n",
       "    .dataframe tbody tr th {\n",
       "        vertical-align: top;\n",
       "    }\n",
       "\n",
       "    .dataframe thead th {\n",
       "        text-align: right;\n",
       "    }\n",
       "</style>\n",
       "<table border=\"1\" class=\"dataframe\">\n",
       "  <thead>\n",
       "    <tr style=\"text-align: right;\">\n",
       "      <th></th>\n",
       "      <th>id</th>\n",
       "      <th>host_id</th>\n",
       "      <th>host_since</th>\n",
       "      <th>host_is_superhost</th>\n",
       "      <th>host_total_listings_count</th>\n",
       "      <th>host_has_profile_pic</th>\n",
       "      <th>host_identity_verified</th>\n",
       "      <th>neighbourhood_group_cleansed</th>\n",
       "      <th>latitude</th>\n",
       "      <th>longitude</th>\n",
       "      <th>...</th>\n",
       "      <th>amenities_central heating</th>\n",
       "      <th>amenities_outdoor dining area</th>\n",
       "      <th>amenities_cleaning before checkout</th>\n",
       "      <th>amenities_clothing storage</th>\n",
       "      <th>amenities_clothing storage: closet</th>\n",
       "      <th>amenities_mini fridge</th>\n",
       "      <th>amenities_building staff</th>\n",
       "      <th>amenities_private fenced garden or backyard</th>\n",
       "      <th>amenities_gym</th>\n",
       "      <th>amenities_children’s dinnerware</th>\n",
       "    </tr>\n",
       "  </thead>\n",
       "  <tbody>\n",
       "    <tr>\n",
       "      <th>1</th>\n",
       "      <td>15400</td>\n",
       "      <td>60302</td>\n",
       "      <td>2020-03-16</td>\n",
       "      <td>0</td>\n",
       "      <td>1.0</td>\n",
       "      <td>1</td>\n",
       "      <td>1</td>\n",
       "      <td>0.0</td>\n",
       "      <td>51.48780</td>\n",
       "      <td>-0.16813</td>\n",
       "      <td>...</td>\n",
       "      <td>0</td>\n",
       "      <td>0</td>\n",
       "      <td>0</td>\n",
       "      <td>0</td>\n",
       "      <td>0</td>\n",
       "      <td>0</td>\n",
       "      <td>0</td>\n",
       "      <td>0</td>\n",
       "      <td>0</td>\n",
       "      <td>0</td>\n",
       "    </tr>\n",
       "    <tr>\n",
       "      <th>4</th>\n",
       "      <td>25123</td>\n",
       "      <td>103583</td>\n",
       "      <td>2020-03-15</td>\n",
       "      <td>0</td>\n",
       "      <td>3.0</td>\n",
       "      <td>1</td>\n",
       "      <td>1</td>\n",
       "      <td>0.0</td>\n",
       "      <td>51.57438</td>\n",
       "      <td>-0.21081</td>\n",
       "      <td>...</td>\n",
       "      <td>0</td>\n",
       "      <td>0</td>\n",
       "      <td>0</td>\n",
       "      <td>0</td>\n",
       "      <td>0</td>\n",
       "      <td>0</td>\n",
       "      <td>0</td>\n",
       "      <td>0</td>\n",
       "      <td>0</td>\n",
       "      <td>0</td>\n",
       "    </tr>\n",
       "    <tr>\n",
       "      <th>9</th>\n",
       "      <td>38610</td>\n",
       "      <td>165579</td>\n",
       "      <td>2020-08-12</td>\n",
       "      <td>1</td>\n",
       "      <td>2.0</td>\n",
       "      <td>1</td>\n",
       "      <td>1</td>\n",
       "      <td>0.0</td>\n",
       "      <td>51.50701</td>\n",
       "      <td>-0.23362</td>\n",
       "      <td>...</td>\n",
       "      <td>0</td>\n",
       "      <td>0</td>\n",
       "      <td>1</td>\n",
       "      <td>0</td>\n",
       "      <td>0</td>\n",
       "      <td>0</td>\n",
       "      <td>0</td>\n",
       "      <td>1</td>\n",
       "      <td>0</td>\n",
       "      <td>0</td>\n",
       "    </tr>\n",
       "    <tr>\n",
       "      <th>11</th>\n",
       "      <td>38995</td>\n",
       "      <td>167281</td>\n",
       "      <td>2020-02-21</td>\n",
       "      <td>0</td>\n",
       "      <td>1.0</td>\n",
       "      <td>1</td>\n",
       "      <td>1</td>\n",
       "      <td>0.0</td>\n",
       "      <td>51.47860</td>\n",
       "      <td>-0.06114</td>\n",
       "      <td>...</td>\n",
       "      <td>0</td>\n",
       "      <td>0</td>\n",
       "      <td>0</td>\n",
       "      <td>0</td>\n",
       "      <td>0</td>\n",
       "      <td>0</td>\n",
       "      <td>0</td>\n",
       "      <td>0</td>\n",
       "      <td>0</td>\n",
       "      <td>0</td>\n",
       "    </tr>\n",
       "    <tr>\n",
       "      <th>12</th>\n",
       "      <td>39387</td>\n",
       "      <td>168920</td>\n",
       "      <td>2019-11-03</td>\n",
       "      <td>0</td>\n",
       "      <td>1.0</td>\n",
       "      <td>1</td>\n",
       "      <td>0</td>\n",
       "      <td>0.0</td>\n",
       "      <td>51.52605</td>\n",
       "      <td>-0.19942</td>\n",
       "      <td>...</td>\n",
       "      <td>0</td>\n",
       "      <td>0</td>\n",
       "      <td>0</td>\n",
       "      <td>1</td>\n",
       "      <td>0</td>\n",
       "      <td>0</td>\n",
       "      <td>0</td>\n",
       "      <td>0</td>\n",
       "      <td>0</td>\n",
       "      <td>0</td>\n",
       "    </tr>\n",
       "  </tbody>\n",
       "</table>\n",
       "<p>5 rows × 121 columns</p>\n",
       "</div>"
      ],
      "text/plain": [
       "       id  host_id host_since  host_is_superhost  host_total_listings_count  \\\n",
       "1   15400    60302 2020-03-16                  0                        1.0   \n",
       "4   25123   103583 2020-03-15                  0                        3.0   \n",
       "9   38610   165579 2020-08-12                  1                        2.0   \n",
       "11  38995   167281 2020-02-21                  0                        1.0   \n",
       "12  39387   168920 2019-11-03                  0                        1.0   \n",
       "\n",
       "    host_has_profile_pic  host_identity_verified  \\\n",
       "1                      1                       1   \n",
       "4                      1                       1   \n",
       "9                      1                       1   \n",
       "11                     1                       1   \n",
       "12                     1                       0   \n",
       "\n",
       "    neighbourhood_group_cleansed  latitude  longitude  ...  \\\n",
       "1                            0.0  51.48780   -0.16813  ...   \n",
       "4                            0.0  51.57438   -0.21081  ...   \n",
       "9                            0.0  51.50701   -0.23362  ...   \n",
       "11                           0.0  51.47860   -0.06114  ...   \n",
       "12                           0.0  51.52605   -0.19942  ...   \n",
       "\n",
       "   amenities_central heating amenities_outdoor dining area  \\\n",
       "1                          0                             0   \n",
       "4                          0                             0   \n",
       "9                          0                             0   \n",
       "11                         0                             0   \n",
       "12                         0                             0   \n",
       "\n",
       "    amenities_cleaning before checkout  amenities_clothing storage  \\\n",
       "1                                    0                           0   \n",
       "4                                    0                           0   \n",
       "9                                    1                           0   \n",
       "11                                   0                           0   \n",
       "12                                   0                           1   \n",
       "\n",
       "    amenities_clothing storage: closet  amenities_mini fridge  \\\n",
       "1                                    0                      0   \n",
       "4                                    0                      0   \n",
       "9                                    0                      0   \n",
       "11                                   0                      0   \n",
       "12                                   0                      0   \n",
       "\n",
       "    amenities_building staff  amenities_private fenced garden or backyard  \\\n",
       "1                          0                                            0   \n",
       "4                          0                                            0   \n",
       "9                          0                                            1   \n",
       "11                         0                                            0   \n",
       "12                         0                                            0   \n",
       "\n",
       "    amenities_gym  amenities_children’s dinnerware  \n",
       "1               0                                0  \n",
       "4               0                                0  \n",
       "9               0                                0  \n",
       "11              0                                0  \n",
       "12              0                                0  \n",
       "\n",
       "[5 rows x 121 columns]"
      ]
     },
     "execution_count": 10,
     "metadata": {},
     "output_type": "execute_result"
    }
   ],
   "source": [
    "df.head()"
   ]
  },
  {
   "cell_type": "code",
   "execution_count": 11,
   "id": "b3cc625a-ce6d-4364-9aac-73a232d0311b",
   "metadata": {
    "id": "b3cc625a-ce6d-4364-9aac-73a232d0311b",
    "outputId": "dd640d5d-6423-4277-8a86-160a1c89cf97"
   },
   "outputs": [
    {
     "data": {
      "text/plain": [
       "Entire home/apt    22273\n",
       "Private room       14119\n",
       "Shared room          163\n",
       "Hotel room           150\n",
       "Name: room_type, dtype: int64"
      ]
     },
     "execution_count": 11,
     "metadata": {},
     "output_type": "execute_result"
    }
   ],
   "source": [
    "df['room_type'].value_counts()"
   ]
  },
  {
   "cell_type": "markdown",
   "id": "2df2543a-9ea3-4eaa-8591-b40b754837a2",
   "metadata": {
    "id": "2df2543a-9ea3-4eaa-8591-b40b754837a2",
    "jp-MarkdownHeadingCollapsed": true,
    "tags": []
   },
   "source": [
    "# 1. Feature Engineering"
   ]
  },
  {
   "cell_type": "markdown",
   "id": "d6bb4511-1e54-4433-b47f-93ecd80eb1a6",
   "metadata": {
    "id": "d6bb4511-1e54-4433-b47f-93ecd80eb1a6"
   },
   "source": [
    "## Host Duration"
   ]
  },
  {
   "cell_type": "code",
   "execution_count": 12,
   "id": "3f72504c-4a94-43e9-ae31-189aafcb5366",
   "metadata": {
    "id": "3f72504c-4a94-43e9-ae31-189aafcb5366"
   },
   "outputs": [],
   "source": [
    "# Last scraped date = 2021-12-07 (7th Dec)\n",
    "df['host_duration'] = (pd.to_datetime('2021-12-10') - df['host_since']).dt.days"
   ]
  },
  {
   "cell_type": "code",
   "execution_count": 13,
   "id": "1fed5c80-90f5-4ead-8a5b-de602aa241d0",
   "metadata": {
    "id": "1fed5c80-90f5-4ead-8a5b-de602aa241d0",
    "outputId": "41eb6bf0-d3ce-4e49-86f7-9d23844de7b9"
   },
   "outputs": [
    {
     "data": {
      "image/png": "[encoded data removed]",
      "text/plain": [
       "<Figure size 432x288 with 1 Axes>"
      ]
     },
     "metadata": {
      "needs_background": "light"
     },
     "output_type": "display_data"
    }
   ],
   "source": [
    "sns.histplot(df['host_duration'])\n",
    "plt.show()"
   ]
  },
  {
   "cell_type": "markdown",
   "id": "NL4KuH9r8MS9",
   "metadata": {
    "id": "NL4KuH9r8MS9"
   },
   "source": [
    "## Managed_property"
   ]
  },
  {
   "cell_type": "code",
   "execution_count": 14,
   "id": "D6UBXhAu8BUA",
   "metadata": {
    "id": "D6UBXhAu8BUA",
    "outputId": "d09f6820-e1e6-4812-e963-8e8ee704a721"
   },
   "outputs": [
    {
     "name": "stdout",
     "output_type": "stream",
     "text": [
      "Understand managed property percentiles beyond P75\n",
      "\n",
      "   percentile  rooms_threshold\n",
      "0        0.80              1.0\n",
      "1        0.85              2.0\n",
      "2        0.90              2.0\n",
      "3        0.95              3.0\n"
     ]
    },
    {
     "data": {
      "text/html": [
       "<div>\n",
       "<style scoped>\n",
       "    .dataframe tbody tr th:only-of-type {\n",
       "        vertical-align: middle;\n",
       "    }\n",
       "\n",
       "    .dataframe tbody tr th {\n",
       "        vertical-align: top;\n",
       "    }\n",
       "\n",
       "    .dataframe thead th {\n",
       "        text-align: right;\n",
       "    }\n",
       "</style>\n",
       "<table border=\"1\" class=\"dataframe\">\n",
       "  <thead>\n",
       "    <tr style=\"text-align: right;\">\n",
       "      <th></th>\n",
       "      <th>properties</th>\n",
       "    </tr>\n",
       "    <tr>\n",
       "      <th>host_id</th>\n",
       "      <th></th>\n",
       "    </tr>\n",
       "  </thead>\n",
       "  <tbody>\n",
       "    <tr>\n",
       "      <th>4775</th>\n",
       "      <td>7</td>\n",
       "    </tr>\n",
       "    <tr>\n",
       "      <th>5653</th>\n",
       "      <td>1</td>\n",
       "    </tr>\n",
       "    <tr>\n",
       "      <th>6774</th>\n",
       "      <td>3</td>\n",
       "    </tr>\n",
       "    <tr>\n",
       "      <th>9323</th>\n",
       "      <td>1</td>\n",
       "    </tr>\n",
       "    <tr>\n",
       "      <th>10657</th>\n",
       "      <td>2</td>\n",
       "    </tr>\n",
       "    <tr>\n",
       "      <th>...</th>\n",
       "      <td>...</td>\n",
       "    </tr>\n",
       "    <tr>\n",
       "      <th>433334823</th>\n",
       "      <td>1</td>\n",
       "    </tr>\n",
       "    <tr>\n",
       "      <th>433435234</th>\n",
       "      <td>2</td>\n",
       "    </tr>\n",
       "    <tr>\n",
       "      <th>433572694</th>\n",
       "      <td>1</td>\n",
       "    </tr>\n",
       "    <tr>\n",
       "      <th>433837373</th>\n",
       "      <td>1</td>\n",
       "    </tr>\n",
       "    <tr>\n",
       "      <th>434015315</th>\n",
       "      <td>2</td>\n",
       "    </tr>\n",
       "  </tbody>\n",
       "</table>\n",
       "<p>24651 rows × 1 columns</p>\n",
       "</div>"
      ],
      "text/plain": [
       "           properties\n",
       "host_id              \n",
       "4775                7\n",
       "5653                1\n",
       "6774                3\n",
       "9323                1\n",
       "10657               2\n",
       "...               ...\n",
       "433334823           1\n",
       "433435234           2\n",
       "433572694           1\n",
       "433837373           1\n",
       "434015315           2\n",
       "\n",
       "[24651 rows x 1 columns]"
      ]
     },
     "execution_count": 14,
     "metadata": {},
     "output_type": "execute_result"
    }
   ],
   "source": [
    "# Understand how many properties are potentially property managed\n",
    "\n",
    "percentiles=[0.80,0.85,0.90,0.95]\n",
    "percentile_rooms=[]\n",
    "room_above=[]\n",
    "\n",
    "for p in percentiles:\n",
    "   percentile_rooms.append(df.host_id.value_counts().quantile(p))\n",
    "\n",
    "print('Understand managed property percentiles beyond P75\\n')\n",
    "print(pd.DataFrame({'percentile':percentiles,'rooms_threshold':percentile_rooms}))\n",
    "\n",
    "property_count=pd.DataFrame(df.groupby(['host_id'])['host_id'].count())\n",
    "property_count.columns=['properties']\n",
    "property_count"
   ]
  },
  {
   "cell_type": "code",
   "execution_count": 15,
   "id": "sYrGpc78Xb2u",
   "metadata": {
    "id": "sYrGpc78Xb2u",
    "outputId": "c2bcd085-9da5-40c8-8366-c1722876ed96"
   },
   "outputs": [
    {
     "data": {
      "text/plain": [
       "0    25508\n",
       "1    11197\n",
       "Name: prop_managed, dtype: int64"
      ]
     },
     "execution_count": 15,
     "metadata": {},
     "output_type": "execute_result"
    }
   ],
   "source": [
    "property_count['prop_managed']=property_count['properties'].map(lambda x: 1 if x>=percentile_rooms[3] else 0)\n",
    "df=pd.merge(df,property_count,on='host_id',how='inner')\n",
    "df.prop_managed.value_counts()"
   ]
  },
  {
   "cell_type": "markdown",
   "id": "LL3VvIjn8Vr_",
   "metadata": {
    "id": "LL3VvIjn8Vr_"
   },
   "source": [
    "## Occupancy Rate"
   ]
  },
  {
   "cell_type": "code",
   "execution_count": 16,
   "id": "eFjbhhln8VJH",
   "metadata": {
    "id": "eFjbhhln8VJH",
    "outputId": "c4a7ea4c-b423-418d-9a48-3e8a896aeed7"
   },
   "outputs": [
    {
     "data": {
      "text/html": [
       "<div>\n",
       "<style scoped>\n",
       "    .dataframe tbody tr th:only-of-type {\n",
       "        vertical-align: middle;\n",
       "    }\n",
       "\n",
       "    .dataframe tbody tr th {\n",
       "        vertical-align: top;\n",
       "    }\n",
       "\n",
       "    .dataframe thead th {\n",
       "        text-align: right;\n",
       "    }\n",
       "</style>\n",
       "<table border=\"1\" class=\"dataframe\">\n",
       "  <thead>\n",
       "    <tr style=\"text-align: right;\">\n",
       "      <th></th>\n",
       "      <th>availability_30</th>\n",
       "      <th>availability_60</th>\n",
       "      <th>availability_90</th>\n",
       "      <th>availability_365</th>\n",
       "    </tr>\n",
       "  </thead>\n",
       "  <tbody>\n",
       "    <tr>\n",
       "      <th>count</th>\n",
       "      <td>36705.000000</td>\n",
       "      <td>36705.000000</td>\n",
       "      <td>36705.000000</td>\n",
       "      <td>36705.000000</td>\n",
       "    </tr>\n",
       "    <tr>\n",
       "      <th>mean</th>\n",
       "      <td>6.451819</td>\n",
       "      <td>17.362730</td>\n",
       "      <td>29.587985</td>\n",
       "      <td>113.895273</td>\n",
       "    </tr>\n",
       "    <tr>\n",
       "      <th>std</th>\n",
       "      <td>9.166336</td>\n",
       "      <td>20.781427</td>\n",
       "      <td>33.256069</td>\n",
       "      <td>133.304336</td>\n",
       "    </tr>\n",
       "    <tr>\n",
       "      <th>min</th>\n",
       "      <td>0.000000</td>\n",
       "      <td>0.000000</td>\n",
       "      <td>0.000000</td>\n",
       "      <td>0.000000</td>\n",
       "    </tr>\n",
       "    <tr>\n",
       "      <th>25%</th>\n",
       "      <td>0.000000</td>\n",
       "      <td>0.000000</td>\n",
       "      <td>0.000000</td>\n",
       "      <td>0.000000</td>\n",
       "    </tr>\n",
       "    <tr>\n",
       "      <th>50%</th>\n",
       "      <td>0.000000</td>\n",
       "      <td>5.000000</td>\n",
       "      <td>9.000000</td>\n",
       "      <td>52.000000</td>\n",
       "    </tr>\n",
       "    <tr>\n",
       "      <th>75%</th>\n",
       "      <td>11.000000</td>\n",
       "      <td>36.000000</td>\n",
       "      <td>64.000000</td>\n",
       "      <td>231.000000</td>\n",
       "    </tr>\n",
       "    <tr>\n",
       "      <th>max</th>\n",
       "      <td>30.000000</td>\n",
       "      <td>60.000000</td>\n",
       "      <td>90.000000</td>\n",
       "      <td>365.000000</td>\n",
       "    </tr>\n",
       "  </tbody>\n",
       "</table>\n",
       "</div>"
      ],
      "text/plain": [
       "       availability_30  availability_60  availability_90  availability_365\n",
       "count     36705.000000     36705.000000     36705.000000      36705.000000\n",
       "mean          6.451819        17.362730        29.587985        113.895273\n",
       "std           9.166336        20.781427        33.256069        133.304336\n",
       "min           0.000000         0.000000         0.000000          0.000000\n",
       "25%           0.000000         0.000000         0.000000          0.000000\n",
       "50%           0.000000         5.000000         9.000000         52.000000\n",
       "75%          11.000000        36.000000        64.000000        231.000000\n",
       "max          30.000000        60.000000        90.000000        365.000000"
      ]
     },
     "execution_count": 16,
     "metadata": {},
     "output_type": "execute_result"
    }
   ],
   "source": [
    "cols=['availability_30','availability_60', 'availability_90','availability_365']\n",
    "df[cols].describe()"
   ]
  },
  {
   "cell_type": "code",
   "execution_count": 17,
   "id": "fXe5XR0M_aA6",
   "metadata": {
    "id": "fXe5XR0M_aA6"
   },
   "outputs": [],
   "source": [
    "df['occ_30D']=1-round(df.availability_30/30,2)\n",
    "df['occ_6090D']=((1-round(df.availability_60/60,2))+(1-round(df.availability_90/90,2)))/2\n",
    "df['occ_365']=1-round(df.availability_365/365,2)\n",
    "\n",
    "df=df.drop(cols,axis=1) # do not drop"
   ]
  },
  {
   "cell_type": "code",
   "execution_count": 18,
   "id": "dee9bc75-4327-43aa-8f49-42fd4ba0cc2e",
   "metadata": {
    "id": "dee9bc75-4327-43aa-8f49-42fd4ba0cc2e",
    "outputId": "a1ebc58c-0f52-4728-a474-cf868fe9e17b"
   },
   "outputs": [
    {
     "data": {
      "text/plain": [
       "Index(['id', 'host_id', 'host_since', 'host_is_superhost',\n",
       "       'host_total_listings_count', 'host_has_profile_pic',\n",
       "       'host_identity_verified', 'neighbourhood_group_cleansed', 'latitude',\n",
       "       'longitude',\n",
       "       ...\n",
       "       'amenities_building staff',\n",
       "       'amenities_private fenced garden or backyard', 'amenities_gym',\n",
       "       'amenities_children’s dinnerware', 'host_duration', 'properties',\n",
       "       'prop_managed', 'occ_30D', 'occ_6090D', 'occ_365'],\n",
       "      dtype='object', length=123)"
      ]
     },
     "execution_count": 18,
     "metadata": {},
     "output_type": "execute_result"
    }
   ],
   "source": [
    "df.columns"
   ]
  },
  {
   "cell_type": "markdown",
   "id": "612jmldhWpUF",
   "metadata": {
    "id": "612jmldhWpUF"
   },
   "source": [
    "## Location Variables"
   ]
  },
  {
   "cell_type": "code",
   "execution_count": 19,
   "id": "d9irpfFJWwxk",
   "metadata": {
    "id": "d9irpfFJWwxk",
    "outputId": "d3d5833a-f134-43c8-f989-bc4a151cb74e"
   },
   "outputs": [
    {
     "data": {
      "text/html": [
       "<div>\n",
       "<style scoped>\n",
       "    .dataframe tbody tr th:only-of-type {\n",
       "        vertical-align: middle;\n",
       "    }\n",
       "\n",
       "    .dataframe tbody tr th {\n",
       "        vertical-align: top;\n",
       "    }\n",
       "\n",
       "    .dataframe thead th {\n",
       "        text-align: right;\n",
       "    }\n",
       "</style>\n",
       "<table border=\"1\" class=\"dataframe\">\n",
       "  <thead>\n",
       "    <tr style=\"text-align: right;\">\n",
       "      <th></th>\n",
       "      <th>id</th>\n",
       "      <th>host_id</th>\n",
       "      <th>host_since</th>\n",
       "      <th>host_is_superhost</th>\n",
       "      <th>host_total_listings_count</th>\n",
       "      <th>host_has_profile_pic</th>\n",
       "      <th>host_identity_verified</th>\n",
       "      <th>neighbourhood_group_cleansed</th>\n",
       "      <th>latitude</th>\n",
       "      <th>longitude</th>\n",
       "      <th>...</th>\n",
       "      <th>amenities_children’s dinnerware</th>\n",
       "      <th>host_duration</th>\n",
       "      <th>properties</th>\n",
       "      <th>prop_managed</th>\n",
       "      <th>occ_30D</th>\n",
       "      <th>occ_6090D</th>\n",
       "      <th>occ_365</th>\n",
       "      <th>station</th>\n",
       "      <th>station_dist</th>\n",
       "      <th>walking_distance</th>\n",
       "    </tr>\n",
       "  </thead>\n",
       "  <tbody>\n",
       "    <tr>\n",
       "      <th>0</th>\n",
       "      <td>15400</td>\n",
       "      <td>60302</td>\n",
       "      <td>2020-03-16</td>\n",
       "      <td>0</td>\n",
       "      <td>1.0</td>\n",
       "      <td>1</td>\n",
       "      <td>1</td>\n",
       "      <td>0.0</td>\n",
       "      <td>51.48780</td>\n",
       "      <td>-0.16813</td>\n",
       "      <td>...</td>\n",
       "      <td>0</td>\n",
       "      <td>634</td>\n",
       "      <td>1</td>\n",
       "      <td>0</td>\n",
       "      <td>1.0</td>\n",
       "      <td>1.000</td>\n",
       "      <td>0.99</td>\n",
       "      <td>South Kensington</td>\n",
       "      <td>805.406363</td>\n",
       "      <td>0.0</td>\n",
       "    </tr>\n",
       "    <tr>\n",
       "      <th>1</th>\n",
       "      <td>25123</td>\n",
       "      <td>103583</td>\n",
       "      <td>2020-03-15</td>\n",
       "      <td>0</td>\n",
       "      <td>3.0</td>\n",
       "      <td>1</td>\n",
       "      <td>1</td>\n",
       "      <td>0.0</td>\n",
       "      <td>51.57438</td>\n",
       "      <td>-0.21081</td>\n",
       "      <td>...</td>\n",
       "      <td>0</td>\n",
       "      <td>635</td>\n",
       "      <td>3</td>\n",
       "      <td>1</td>\n",
       "      <td>1.0</td>\n",
       "      <td>1.000</td>\n",
       "      <td>1.00</td>\n",
       "      <td>Brent Cross</td>\n",
       "      <td>302.665825</td>\n",
       "      <td>1.0</td>\n",
       "    </tr>\n",
       "    <tr>\n",
       "      <th>2</th>\n",
       "      <td>41311</td>\n",
       "      <td>103583</td>\n",
       "      <td>2020-01-18</td>\n",
       "      <td>0</td>\n",
       "      <td>3.0</td>\n",
       "      <td>1</td>\n",
       "      <td>1</td>\n",
       "      <td>0.0</td>\n",
       "      <td>51.57400</td>\n",
       "      <td>-0.21058</td>\n",
       "      <td>...</td>\n",
       "      <td>0</td>\n",
       "      <td>692</td>\n",
       "      <td>3</td>\n",
       "      <td>1</td>\n",
       "      <td>0.9</td>\n",
       "      <td>0.960</td>\n",
       "      <td>0.99</td>\n",
       "      <td>Brent Cross</td>\n",
       "      <td>346.564965</td>\n",
       "      <td>1.0</td>\n",
       "    </tr>\n",
       "    <tr>\n",
       "      <th>3</th>\n",
       "      <td>19516454</td>\n",
       "      <td>103583</td>\n",
       "      <td>2020-03-20</td>\n",
       "      <td>0</td>\n",
       "      <td>3.0</td>\n",
       "      <td>1</td>\n",
       "      <td>1</td>\n",
       "      <td>0.0</td>\n",
       "      <td>51.57466</td>\n",
       "      <td>-0.20916</td>\n",
       "      <td>...</td>\n",
       "      <td>0</td>\n",
       "      <td>630</td>\n",
       "      <td>3</td>\n",
       "      <td>1</td>\n",
       "      <td>1.0</td>\n",
       "      <td>1.000</td>\n",
       "      <td>1.00</td>\n",
       "      <td>Brent Cross</td>\n",
       "      <td>361.025714</td>\n",
       "      <td>1.0</td>\n",
       "    </tr>\n",
       "    <tr>\n",
       "      <th>4</th>\n",
       "      <td>38610</td>\n",
       "      <td>165579</td>\n",
       "      <td>2020-08-12</td>\n",
       "      <td>1</td>\n",
       "      <td>2.0</td>\n",
       "      <td>1</td>\n",
       "      <td>1</td>\n",
       "      <td>0.0</td>\n",
       "      <td>51.50701</td>\n",
       "      <td>-0.23362</td>\n",
       "      <td>...</td>\n",
       "      <td>0</td>\n",
       "      <td>485</td>\n",
       "      <td>1</td>\n",
       "      <td>0</td>\n",
       "      <td>0.8</td>\n",
       "      <td>0.335</td>\n",
       "      <td>0.07</td>\n",
       "      <td>Shepherds Bush Market</td>\n",
       "      <td>449.743591</td>\n",
       "      <td>3.0</td>\n",
       "    </tr>\n",
       "  </tbody>\n",
       "</table>\n",
       "<p>5 rows × 126 columns</p>\n",
       "</div>"
      ],
      "text/plain": [
       "         id  host_id host_since  host_is_superhost  host_total_listings_count  \\\n",
       "0     15400    60302 2020-03-16                  0                        1.0   \n",
       "1     25123   103583 2020-03-15                  0                        3.0   \n",
       "2     41311   103583 2020-01-18                  0                        3.0   \n",
       "3  19516454   103583 2020-03-20                  0                        3.0   \n",
       "4     38610   165579 2020-08-12                  1                        2.0   \n",
       "\n",
       "   host_has_profile_pic  host_identity_verified  neighbourhood_group_cleansed  \\\n",
       "0                     1                       1                           0.0   \n",
       "1                     1                       1                           0.0   \n",
       "2                     1                       1                           0.0   \n",
       "3                     1                       1                           0.0   \n",
       "4                     1                       1                           0.0   \n",
       "\n",
       "   latitude  longitude  ... amenities_children’s dinnerware host_duration  \\\n",
       "0  51.48780   -0.16813  ...                               0           634   \n",
       "1  51.57438   -0.21081  ...                               0           635   \n",
       "2  51.57400   -0.21058  ...                               0           692   \n",
       "3  51.57466   -0.20916  ...                               0           630   \n",
       "4  51.50701   -0.23362  ...                               0           485   \n",
       "\n",
       "   properties  prop_managed  occ_30D  occ_6090D  occ_365  \\\n",
       "0           1             0      1.0      1.000     0.99   \n",
       "1           3             1      1.0      1.000     1.00   \n",
       "2           3             1      0.9      0.960     0.99   \n",
       "3           3             1      1.0      1.000     1.00   \n",
       "4           1             0      0.8      0.335     0.07   \n",
       "\n",
       "                 station  station_dist  walking_distance  \n",
       "0       South Kensington    805.406363               0.0  \n",
       "1            Brent Cross    302.665825               1.0  \n",
       "2            Brent Cross    346.564965               1.0  \n",
       "3            Brent Cross    361.025714               1.0  \n",
       "4  Shepherds Bush Market    449.743591               3.0  \n",
       "\n",
       "[5 rows x 126 columns]"
      ]
     },
     "execution_count": 19,
     "metadata": {},
     "output_type": "execute_result"
    }
   ],
   "source": [
    "# Load computed location features\n",
    "location_features = ['station', 'station_dist','walking_distance']\n",
    "df = df.merge(pd.read_csv('computed_features/london_nearest_tube.csv')[['id']+location_features],left_on='id', right_on='id',how='left')\n",
    "df.head()"
   ]
  },
  {
   "cell_type": "markdown",
   "id": "e6dbfe5c-e700-4844-bc9e-c630bd53949b",
   "metadata": {
    "id": "e6dbfe5c-e700-4844-bc9e-c630bd53949b"
   },
   "source": [
    "## Sentiment"
   ]
  },
  {
   "cell_type": "code",
   "execution_count": 20,
   "id": "d81a39ef-a695-45a7-a9a4-9452038a4c86",
   "metadata": {
    "id": "d81a39ef-a695-45a7-a9a4-9452038a4c86",
    "outputId": "5ecbf465-b597-49fd-d4aa-85f54a1d56e9"
   },
   "outputs": [
    {
     "data": {
      "text/html": [
       "<div>\n",
       "<style scoped>\n",
       "    .dataframe tbody tr th:only-of-type {\n",
       "        vertical-align: middle;\n",
       "    }\n",
       "\n",
       "    .dataframe tbody tr th {\n",
       "        vertical-align: top;\n",
       "    }\n",
       "\n",
       "    .dataframe thead th {\n",
       "        text-align: right;\n",
       "    }\n",
       "</style>\n",
       "<table border=\"1\" class=\"dataframe\">\n",
       "  <thead>\n",
       "    <tr style=\"text-align: right;\">\n",
       "      <th></th>\n",
       "      <th>id_x</th>\n",
       "      <th>host_id</th>\n",
       "      <th>host_since</th>\n",
       "      <th>host_is_superhost</th>\n",
       "      <th>host_total_listings_count</th>\n",
       "      <th>host_has_profile_pic</th>\n",
       "      <th>host_identity_verified</th>\n",
       "      <th>neighbourhood_group_cleansed</th>\n",
       "      <th>latitude</th>\n",
       "      <th>longitude</th>\n",
       "      <th>...</th>\n",
       "      <th>walking_distance</th>\n",
       "      <th>Unnamed: 0</th>\n",
       "      <th>id_y</th>\n",
       "      <th>reviewer_id</th>\n",
       "      <th>comments_len</th>\n",
       "      <th>key_reviewer</th>\n",
       "      <th>negative</th>\n",
       "      <th>neutral</th>\n",
       "      <th>positive</th>\n",
       "      <th>compound</th>\n",
       "    </tr>\n",
       "  </thead>\n",
       "  <tbody>\n",
       "    <tr>\n",
       "      <th>0</th>\n",
       "      <td>15400</td>\n",
       "      <td>60302</td>\n",
       "      <td>2020-03-16</td>\n",
       "      <td>0</td>\n",
       "      <td>1.0</td>\n",
       "      <td>1</td>\n",
       "      <td>1</td>\n",
       "      <td>0.0</td>\n",
       "      <td>51.48780</td>\n",
       "      <td>-0.16813</td>\n",
       "      <td>...</td>\n",
       "      <td>0.0</td>\n",
       "      <td>1.0</td>\n",
       "      <td>8.029375e+07</td>\n",
       "      <td>2.695406e+07</td>\n",
       "      <td>78.062500</td>\n",
       "      <td>0.075000</td>\n",
       "      <td>0.016000</td>\n",
       "      <td>0.682400</td>\n",
       "      <td>0.301550</td>\n",
       "      <td>0.900261</td>\n",
       "    </tr>\n",
       "    <tr>\n",
       "      <th>1</th>\n",
       "      <td>25123</td>\n",
       "      <td>103583</td>\n",
       "      <td>2020-03-15</td>\n",
       "      <td>0</td>\n",
       "      <td>3.0</td>\n",
       "      <td>1</td>\n",
       "      <td>1</td>\n",
       "      <td>0.0</td>\n",
       "      <td>51.57438</td>\n",
       "      <td>-0.21081</td>\n",
       "      <td>...</td>\n",
       "      <td>1.0</td>\n",
       "      <td>3.0</td>\n",
       "      <td>8.898858e+07</td>\n",
       "      <td>3.434179e+07</td>\n",
       "      <td>61.970588</td>\n",
       "      <td>0.127451</td>\n",
       "      <td>0.011020</td>\n",
       "      <td>0.607324</td>\n",
       "      <td>0.381667</td>\n",
       "      <td>0.941062</td>\n",
       "    </tr>\n",
       "    <tr>\n",
       "      <th>2</th>\n",
       "      <td>41311</td>\n",
       "      <td>103583</td>\n",
       "      <td>2020-01-18</td>\n",
       "      <td>0</td>\n",
       "      <td>3.0</td>\n",
       "      <td>1</td>\n",
       "      <td>1</td>\n",
       "      <td>0.0</td>\n",
       "      <td>51.57400</td>\n",
       "      <td>-0.21058</td>\n",
       "      <td>...</td>\n",
       "      <td>1.0</td>\n",
       "      <td>10.0</td>\n",
       "      <td>1.066726e+08</td>\n",
       "      <td>3.536433e+07</td>\n",
       "      <td>71.552239</td>\n",
       "      <td>0.074627</td>\n",
       "      <td>0.007433</td>\n",
       "      <td>0.627463</td>\n",
       "      <td>0.365134</td>\n",
       "      <td>0.961803</td>\n",
       "    </tr>\n",
       "    <tr>\n",
       "      <th>3</th>\n",
       "      <td>19516454</td>\n",
       "      <td>103583</td>\n",
       "      <td>2020-03-20</td>\n",
       "      <td>0</td>\n",
       "      <td>3.0</td>\n",
       "      <td>1</td>\n",
       "      <td>1</td>\n",
       "      <td>0.0</td>\n",
       "      <td>51.57466</td>\n",
       "      <td>-0.20916</td>\n",
       "      <td>...</td>\n",
       "      <td>1.0</td>\n",
       "      <td>16621.0</td>\n",
       "      <td>4.596262e+08</td>\n",
       "      <td>1.034197e+08</td>\n",
       "      <td>44.500000</td>\n",
       "      <td>0.136364</td>\n",
       "      <td>0.003682</td>\n",
       "      <td>0.558909</td>\n",
       "      <td>0.437409</td>\n",
       "      <td>0.953786</td>\n",
       "    </tr>\n",
       "    <tr>\n",
       "      <th>4</th>\n",
       "      <td>38610</td>\n",
       "      <td>165579</td>\n",
       "      <td>2020-08-12</td>\n",
       "      <td>1</td>\n",
       "      <td>2.0</td>\n",
       "      <td>1</td>\n",
       "      <td>1</td>\n",
       "      <td>0.0</td>\n",
       "      <td>51.50701</td>\n",
       "      <td>-0.23362</td>\n",
       "      <td>...</td>\n",
       "      <td>3.0</td>\n",
       "      <td>7.0</td>\n",
       "      <td>3.235218e+08</td>\n",
       "      <td>8.901368e+07</td>\n",
       "      <td>86.068966</td>\n",
       "      <td>0.000000</td>\n",
       "      <td>0.007931</td>\n",
       "      <td>0.707483</td>\n",
       "      <td>0.284621</td>\n",
       "      <td>0.927310</td>\n",
       "    </tr>\n",
       "  </tbody>\n",
       "</table>\n",
       "<p>5 rows × 135 columns</p>\n",
       "</div>"
      ],
      "text/plain": [
       "       id_x  host_id host_since  host_is_superhost  host_total_listings_count  \\\n",
       "0     15400    60302 2020-03-16                  0                        1.0   \n",
       "1     25123   103583 2020-03-15                  0                        3.0   \n",
       "2     41311   103583 2020-01-18                  0                        3.0   \n",
       "3  19516454   103583 2020-03-20                  0                        3.0   \n",
       "4     38610   165579 2020-08-12                  1                        2.0   \n",
       "\n",
       "   host_has_profile_pic  host_identity_verified  neighbourhood_group_cleansed  \\\n",
       "0                     1                       1                           0.0   \n",
       "1                     1                       1                           0.0   \n",
       "2                     1                       1                           0.0   \n",
       "3                     1                       1                           0.0   \n",
       "4                     1                       1                           0.0   \n",
       "\n",
       "   latitude  longitude  ... walking_distance Unnamed: 0          id_y  \\\n",
       "0  51.48780   -0.16813  ...              0.0        1.0  8.029375e+07   \n",
       "1  51.57438   -0.21081  ...              1.0        3.0  8.898858e+07   \n",
       "2  51.57400   -0.21058  ...              1.0       10.0  1.066726e+08   \n",
       "3  51.57466   -0.20916  ...              1.0    16621.0  4.596262e+08   \n",
       "4  51.50701   -0.23362  ...              3.0        7.0  3.235218e+08   \n",
       "\n",
       "    reviewer_id  comments_len  key_reviewer  negative   neutral  positive  \\\n",
       "0  2.695406e+07     78.062500      0.075000  0.016000  0.682400  0.301550   \n",
       "1  3.434179e+07     61.970588      0.127451  0.011020  0.607324  0.381667   \n",
       "2  3.536433e+07     71.552239      0.074627  0.007433  0.627463  0.365134   \n",
       "3  1.034197e+08     44.500000      0.136364  0.003682  0.558909  0.437409   \n",
       "4  8.901368e+07     86.068966      0.000000  0.007931  0.707483  0.284621   \n",
       "\n",
       "   compound  \n",
       "0  0.900261  \n",
       "1  0.941062  \n",
       "2  0.961803  \n",
       "3  0.953786  \n",
       "4  0.927310  \n",
       "\n",
       "[5 rows x 135 columns]"
      ]
     },
     "execution_count": 20,
     "metadata": {},
     "output_type": "execute_result"
    }
   ],
   "source": [
    "import pandas as pd\n",
    "df_sentiment = pd.read_csv('computed_features/nc_eng_with_sent.csv')\n",
    "\n",
    "df=pd.merge(df,df_sentiment,left_on='id', right_on='listing_id',how='left')\n",
    "df = df.drop(['listing_id'], axis = 1)\n",
    "df = df.fillna(df.mean())\n",
    "df.head()"
   ]
  },
  {
   "cell_type": "code",
   "execution_count": 21,
   "id": "e141f738",
   "metadata": {},
   "outputs": [
    {
     "data": {
      "text/html": [
       "<div>\n",
       "<style scoped>\n",
       "    .dataframe tbody tr th:only-of-type {\n",
       "        vertical-align: middle;\n",
       "    }\n",
       "\n",
       "    .dataframe tbody tr th {\n",
       "        vertical-align: top;\n",
       "    }\n",
       "\n",
       "    .dataframe thead th {\n",
       "        text-align: right;\n",
       "    }\n",
       "</style>\n",
       "<table border=\"1\" class=\"dataframe\">\n",
       "  <thead>\n",
       "    <tr style=\"text-align: right;\">\n",
       "      <th></th>\n",
       "      <th>id_x</th>\n",
       "      <th>host_id</th>\n",
       "      <th>host_since</th>\n",
       "      <th>host_is_superhost</th>\n",
       "      <th>host_total_listings_count</th>\n",
       "      <th>host_has_profile_pic</th>\n",
       "      <th>host_identity_verified</th>\n",
       "      <th>neighbourhood_group_cleansed</th>\n",
       "      <th>property_type</th>\n",
       "      <th>room_type</th>\n",
       "      <th>...</th>\n",
       "      <th>reviewer_id</th>\n",
       "      <th>comments_len</th>\n",
       "      <th>key_reviewer</th>\n",
       "      <th>negative</th>\n",
       "      <th>neutral</th>\n",
       "      <th>positive</th>\n",
       "      <th>compound</th>\n",
       "      <th>x</th>\n",
       "      <th>y</th>\n",
       "      <th>z</th>\n",
       "    </tr>\n",
       "  </thead>\n",
       "  <tbody>\n",
       "    <tr>\n",
       "      <th>0</th>\n",
       "      <td>15400</td>\n",
       "      <td>60302</td>\n",
       "      <td>2020-03-16</td>\n",
       "      <td>0</td>\n",
       "      <td>1.0</td>\n",
       "      <td>1</td>\n",
       "      <td>1</td>\n",
       "      <td>0.0</td>\n",
       "      <td>Entire rental unit</td>\n",
       "      <td>Entire home/apt</td>\n",
       "      <td>...</td>\n",
       "      <td>2.695406e+07</td>\n",
       "      <td>78.062500</td>\n",
       "      <td>0.075000</td>\n",
       "      <td>0.016000</td>\n",
       "      <td>0.682400</td>\n",
       "      <td>0.301550</td>\n",
       "      <td>0.900261</td>\n",
       "      <td>0.336654</td>\n",
       "      <td>-0.057141</td>\n",
       "      <td>0.939893</td>\n",
       "    </tr>\n",
       "    <tr>\n",
       "      <th>1</th>\n",
       "      <td>25123</td>\n",
       "      <td>103583</td>\n",
       "      <td>2020-03-15</td>\n",
       "      <td>0</td>\n",
       "      <td>3.0</td>\n",
       "      <td>1</td>\n",
       "      <td>1</td>\n",
       "      <td>0.0</td>\n",
       "      <td>Private room in residential home</td>\n",
       "      <td>Private room</td>\n",
       "      <td>...</td>\n",
       "      <td>3.434179e+07</td>\n",
       "      <td>61.970588</td>\n",
       "      <td>0.127451</td>\n",
       "      <td>0.011020</td>\n",
       "      <td>0.607324</td>\n",
       "      <td>0.381667</td>\n",
       "      <td>0.941062</td>\n",
       "      <td>0.253183</td>\n",
       "      <td>-0.054179</td>\n",
       "      <td>0.965900</td>\n",
       "    </tr>\n",
       "    <tr>\n",
       "      <th>2</th>\n",
       "      <td>41311</td>\n",
       "      <td>103583</td>\n",
       "      <td>2020-01-18</td>\n",
       "      <td>0</td>\n",
       "      <td>3.0</td>\n",
       "      <td>1</td>\n",
       "      <td>1</td>\n",
       "      <td>0.0</td>\n",
       "      <td>Private room in residential home</td>\n",
       "      <td>Private room</td>\n",
       "      <td>...</td>\n",
       "      <td>3.536433e+07</td>\n",
       "      <td>71.552239</td>\n",
       "      <td>0.074627</td>\n",
       "      <td>0.007433</td>\n",
       "      <td>0.627463</td>\n",
       "      <td>0.365134</td>\n",
       "      <td>0.961803</td>\n",
       "      <td>0.253554</td>\n",
       "      <td>-0.054197</td>\n",
       "      <td>0.965802</td>\n",
       "    </tr>\n",
       "    <tr>\n",
       "      <th>3</th>\n",
       "      <td>19516454</td>\n",
       "      <td>103583</td>\n",
       "      <td>2020-03-20</td>\n",
       "      <td>0</td>\n",
       "      <td>3.0</td>\n",
       "      <td>1</td>\n",
       "      <td>1</td>\n",
       "      <td>0.0</td>\n",
       "      <td>Private room in residential home</td>\n",
       "      <td>Private room</td>\n",
       "      <td>...</td>\n",
       "      <td>1.034197e+08</td>\n",
       "      <td>44.500000</td>\n",
       "      <td>0.136364</td>\n",
       "      <td>0.003682</td>\n",
       "      <td>0.558909</td>\n",
       "      <td>0.437409</td>\n",
       "      <td>0.953786</td>\n",
       "      <td>0.253008</td>\n",
       "      <td>-0.053705</td>\n",
       "      <td>0.965973</td>\n",
       "    </tr>\n",
       "    <tr>\n",
       "      <th>4</th>\n",
       "      <td>38610</td>\n",
       "      <td>165579</td>\n",
       "      <td>2020-08-12</td>\n",
       "      <td>1</td>\n",
       "      <td>2.0</td>\n",
       "      <td>1</td>\n",
       "      <td>1</td>\n",
       "      <td>0.0</td>\n",
       "      <td>Entire townhouse</td>\n",
       "      <td>Entire home/apt</td>\n",
       "      <td>...</td>\n",
       "      <td>8.901368e+07</td>\n",
       "      <td>86.068966</td>\n",
       "      <td>0.000000</td>\n",
       "      <td>0.007931</td>\n",
       "      <td>0.707483</td>\n",
       "      <td>0.284621</td>\n",
       "      <td>0.927310</td>\n",
       "      <td>0.314567</td>\n",
       "      <td>-0.074856</td>\n",
       "      <td>0.946279</td>\n",
       "    </tr>\n",
       "    <tr>\n",
       "      <th>...</th>\n",
       "      <td>...</td>\n",
       "      <td>...</td>\n",
       "      <td>...</td>\n",
       "      <td>...</td>\n",
       "      <td>...</td>\n",
       "      <td>...</td>\n",
       "      <td>...</td>\n",
       "      <td>...</td>\n",
       "      <td>...</td>\n",
       "      <td>...</td>\n",
       "      <td>...</td>\n",
       "      <td>...</td>\n",
       "      <td>...</td>\n",
       "      <td>...</td>\n",
       "      <td>...</td>\n",
       "      <td>...</td>\n",
       "      <td>...</td>\n",
       "      <td>...</td>\n",
       "      <td>...</td>\n",
       "      <td>...</td>\n",
       "      <td>...</td>\n",
       "    </tr>\n",
       "    <tr>\n",
       "      <th>36700</th>\n",
       "      <td>53606541</td>\n",
       "      <td>52745934</td>\n",
       "      <td>2021-12-03</td>\n",
       "      <td>0</td>\n",
       "      <td>2.0</td>\n",
       "      <td>1</td>\n",
       "      <td>1</td>\n",
       "      <td>0.0</td>\n",
       "      <td>Entire condominium (condo)</td>\n",
       "      <td>Entire home/apt</td>\n",
       "      <td>...</td>\n",
       "      <td>2.304489e+06</td>\n",
       "      <td>42.000000</td>\n",
       "      <td>0.000000</td>\n",
       "      <td>0.000000</td>\n",
       "      <td>0.666000</td>\n",
       "      <td>0.334000</td>\n",
       "      <td>0.955800</td>\n",
       "      <td>0.312520</td>\n",
       "      <td>-0.055811</td>\n",
       "      <td>0.948270</td>\n",
       "    </tr>\n",
       "    <tr>\n",
       "      <th>36701</th>\n",
       "      <td>53618701</td>\n",
       "      <td>433572694</td>\n",
       "      <td>2021-12-06</td>\n",
       "      <td>0</td>\n",
       "      <td>1.0</td>\n",
       "      <td>0</td>\n",
       "      <td>1</td>\n",
       "      <td>0.0</td>\n",
       "      <td>Entire condominium (condo)</td>\n",
       "      <td>Entire home/apt</td>\n",
       "      <td>...</td>\n",
       "      <td>1.201104e+08</td>\n",
       "      <td>46.173024</td>\n",
       "      <td>0.110482</td>\n",
       "      <td>0.014050</td>\n",
       "      <td>0.641245</td>\n",
       "      <td>0.344704</td>\n",
       "      <td>0.811415</td>\n",
       "      <td>0.309724</td>\n",
       "      <td>-0.085197</td>\n",
       "      <td>0.947002</td>\n",
       "    </tr>\n",
       "    <tr>\n",
       "      <th>36702</th>\n",
       "      <td>53629457</td>\n",
       "      <td>314377938</td>\n",
       "      <td>2021-12-04</td>\n",
       "      <td>0</td>\n",
       "      <td>0.0</td>\n",
       "      <td>1</td>\n",
       "      <td>0</td>\n",
       "      <td>0.0</td>\n",
       "      <td>Private room in rental unit</td>\n",
       "      <td>Private room</td>\n",
       "      <td>...</td>\n",
       "      <td>3.227269e+08</td>\n",
       "      <td>74.000000</td>\n",
       "      <td>1.000000</td>\n",
       "      <td>0.027000</td>\n",
       "      <td>0.819000</td>\n",
       "      <td>0.154000</td>\n",
       "      <td>0.894600</td>\n",
       "      <td>0.372747</td>\n",
       "      <td>-0.045520</td>\n",
       "      <td>0.926816</td>\n",
       "    </tr>\n",
       "    <tr>\n",
       "      <th>36703</th>\n",
       "      <td>53656459</td>\n",
       "      <td>50739127</td>\n",
       "      <td>2021-12-06</td>\n",
       "      <td>0</td>\n",
       "      <td>0.0</td>\n",
       "      <td>1</td>\n",
       "      <td>0</td>\n",
       "      <td>0.0</td>\n",
       "      <td>Private room in residential home</td>\n",
       "      <td>Private room</td>\n",
       "      <td>...</td>\n",
       "      <td>3.765545e+06</td>\n",
       "      <td>41.000000</td>\n",
       "      <td>0.000000</td>\n",
       "      <td>0.265000</td>\n",
       "      <td>0.735000</td>\n",
       "      <td>0.000000</td>\n",
       "      <td>-0.904800</td>\n",
       "      <td>0.204138</td>\n",
       "      <td>-0.106241</td>\n",
       "      <td>0.973160</td>\n",
       "    </tr>\n",
       "    <tr>\n",
       "      <th>36704</th>\n",
       "      <td>53673183</td>\n",
       "      <td>23747528</td>\n",
       "      <td>2021-12-06</td>\n",
       "      <td>0</td>\n",
       "      <td>0.0</td>\n",
       "      <td>1</td>\n",
       "      <td>1</td>\n",
       "      <td>0.0</td>\n",
       "      <td>Private room in cottage</td>\n",
       "      <td>Private room</td>\n",
       "      <td>...</td>\n",
       "      <td>6.900929e+07</td>\n",
       "      <td>66.000000</td>\n",
       "      <td>0.000000</td>\n",
       "      <td>0.064000</td>\n",
       "      <td>0.701000</td>\n",
       "      <td>0.235000</td>\n",
       "      <td>0.932300</td>\n",
       "      <td>0.358130</td>\n",
       "      <td>-0.046668</td>\n",
       "      <td>0.932505</td>\n",
       "    </tr>\n",
       "  </tbody>\n",
       "</table>\n",
       "<p>36705 rows × 136 columns</p>\n",
       "</div>"
      ],
      "text/plain": [
       "           id_x    host_id host_since  host_is_superhost  \\\n",
       "0         15400      60302 2020-03-16                  0   \n",
       "1         25123     103583 2020-03-15                  0   \n",
       "2         41311     103583 2020-01-18                  0   \n",
       "3      19516454     103583 2020-03-20                  0   \n",
       "4         38610     165579 2020-08-12                  1   \n",
       "...         ...        ...        ...                ...   \n",
       "36700  53606541   52745934 2021-12-03                  0   \n",
       "36701  53618701  433572694 2021-12-06                  0   \n",
       "36702  53629457  314377938 2021-12-04                  0   \n",
       "36703  53656459   50739127 2021-12-06                  0   \n",
       "36704  53673183   23747528 2021-12-06                  0   \n",
       "\n",
       "       host_total_listings_count  host_has_profile_pic  \\\n",
       "0                            1.0                     1   \n",
       "1                            3.0                     1   \n",
       "2                            3.0                     1   \n",
       "3                            3.0                     1   \n",
       "4                            2.0                     1   \n",
       "...                          ...                   ...   \n",
       "36700                        2.0                     1   \n",
       "36701                        1.0                     0   \n",
       "36702                        0.0                     1   \n",
       "36703                        0.0                     1   \n",
       "36704                        0.0                     1   \n",
       "\n",
       "       host_identity_verified  neighbourhood_group_cleansed  \\\n",
       "0                           1                           0.0   \n",
       "1                           1                           0.0   \n",
       "2                           1                           0.0   \n",
       "3                           1                           0.0   \n",
       "4                           1                           0.0   \n",
       "...                       ...                           ...   \n",
       "36700                       1                           0.0   \n",
       "36701                       1                           0.0   \n",
       "36702                       0                           0.0   \n",
       "36703                       0                           0.0   \n",
       "36704                       1                           0.0   \n",
       "\n",
       "                          property_type        room_type  ...   reviewer_id  \\\n",
       "0                    Entire rental unit  Entire home/apt  ...  2.695406e+07   \n",
       "1      Private room in residential home     Private room  ...  3.434179e+07   \n",
       "2      Private room in residential home     Private room  ...  3.536433e+07   \n",
       "3      Private room in residential home     Private room  ...  1.034197e+08   \n",
       "4                      Entire townhouse  Entire home/apt  ...  8.901368e+07   \n",
       "...                                 ...              ...  ...           ...   \n",
       "36700        Entire condominium (condo)  Entire home/apt  ...  2.304489e+06   \n",
       "36701        Entire condominium (condo)  Entire home/apt  ...  1.201104e+08   \n",
       "36702       Private room in rental unit     Private room  ...  3.227269e+08   \n",
       "36703  Private room in residential home     Private room  ...  3.765545e+06   \n",
       "36704           Private room in cottage     Private room  ...  6.900929e+07   \n",
       "\n",
       "       comments_len  key_reviewer  negative   neutral  positive  compound  \\\n",
       "0         78.062500      0.075000  0.016000  0.682400  0.301550  0.900261   \n",
       "1         61.970588      0.127451  0.011020  0.607324  0.381667  0.941062   \n",
       "2         71.552239      0.074627  0.007433  0.627463  0.365134  0.961803   \n",
       "3         44.500000      0.136364  0.003682  0.558909  0.437409  0.953786   \n",
       "4         86.068966      0.000000  0.007931  0.707483  0.284621  0.927310   \n",
       "...             ...           ...       ...       ...       ...       ...   \n",
       "36700     42.000000      0.000000  0.000000  0.666000  0.334000  0.955800   \n",
       "36701     46.173024      0.110482  0.014050  0.641245  0.344704  0.811415   \n",
       "36702     74.000000      1.000000  0.027000  0.819000  0.154000  0.894600   \n",
       "36703     41.000000      0.000000  0.265000  0.735000  0.000000 -0.904800   \n",
       "36704     66.000000      0.000000  0.064000  0.701000  0.235000  0.932300   \n",
       "\n",
       "              x         y         z  \n",
       "0      0.336654 -0.057141  0.939893  \n",
       "1      0.253183 -0.054179  0.965900  \n",
       "2      0.253554 -0.054197  0.965802  \n",
       "3      0.253008 -0.053705  0.965973  \n",
       "4      0.314567 -0.074856  0.946279  \n",
       "...         ...       ...       ...  \n",
       "36700  0.312520 -0.055811  0.948270  \n",
       "36701  0.309724 -0.085197  0.947002  \n",
       "36702  0.372747 -0.045520  0.926816  \n",
       "36703  0.204138 -0.106241  0.973160  \n",
       "36704  0.358130 -0.046668  0.932505  \n",
       "\n",
       "[36705 rows x 136 columns]"
      ]
     },
     "execution_count": 21,
     "metadata": {},
     "output_type": "execute_result"
    }
   ],
   "source": [
    "df['x'] = np.cos(df['latitude']) * np.cos(df['longitude'])\n",
    "df['y'] = np.cos(df['latitude']) * np.sin(df['longitude'])\n",
    "df['z'] = np.sin(df['latitude'])\n",
    "\n",
    "df.drop(['latitude', 'longitude'], axis = 1, inplace = True)\n",
    "df"
   ]
  },
  {
   "cell_type": "markdown",
   "id": "0257fe2b",
   "metadata": {},
   "source": [
    "# 2. Feature selection"
   ]
  },
  {
   "cell_type": "code",
   "execution_count": 22,
   "id": "5c00afa3-4071-473c-a410-0edcddcb2795",
   "metadata": {
    "id": "5c00afa3-4071-473c-a410-0edcddcb2795"
   },
   "outputs": [],
   "source": [
    "# Format columns\n",
    "import re\n",
    "df = df.rename(columns = lambda x:re.sub('[^A-Za-z0-9_]+', '', x))"
   ]
  },
  {
   "cell_type": "code",
   "execution_count": 23,
   "id": "216921e7",
   "metadata": {},
   "outputs": [
    {
     "data": {
      "text/plain": [
       "['id_x',\n",
       " 'host_id',\n",
       " 'host_since',\n",
       " 'host_is_superhost',\n",
       " 'host_total_listings_count',\n",
       " 'host_has_profile_pic',\n",
       " 'host_identity_verified',\n",
       " 'neighbourhood_group_cleansed',\n",
       " 'property_type',\n",
       " 'room_type',\n",
       " 'accommodates',\n",
       " 'bedrooms',\n",
       " 'price',\n",
       " 'minimum_nights',\n",
       " 'maximum_nights',\n",
       " 'minimum_nights_avg_ntm',\n",
       " 'maximum_nights_avg_ntm',\n",
       " 'has_availability',\n",
       " 'number_of_reviews',\n",
       " 'number_of_reviews_ltm',\n",
       " 'number_of_reviews_l30d',\n",
       " 'first_review',\n",
       " 'last_review',\n",
       " 'review_scores_rating',\n",
       " 'review_scores_accuracy',\n",
       " 'review_scores_cleanliness',\n",
       " 'review_scores_checkin',\n",
       " 'review_scores_communication',\n",
       " 'review_scores_location',\n",
       " 'review_scores_value',\n",
       " 'instant_bookable',\n",
       " 'reviews_per_month',\n",
       " 'bathroom_num',\n",
       " 'bathroom_sharing',\n",
       " 'price_log',\n",
       " 'amenities_wifi',\n",
       " 'amenities_essentials',\n",
       " 'amenities_smokealarm',\n",
       " 'amenities_heating',\n",
       " 'amenities_kitchen',\n",
       " 'amenities_hangers',\n",
       " 'amenities_longtermstaysallowed',\n",
       " 'amenities_iron',\n",
       " 'amenities_washer',\n",
       " 'amenities_hairdryer',\n",
       " 'amenities_hotwater',\n",
       " 'amenities_shampoo',\n",
       " 'amenities_dedicatedworkspace',\n",
       " 'amenities_carbonmonoxidealarm',\n",
       " 'amenities_dishesandsilverware',\n",
       " 'amenities_refrigerator',\n",
       " 'amenities_cookingbasics',\n",
       " 'amenities_tv',\n",
       " 'amenities_bedlinens',\n",
       " 'amenities_microwave',\n",
       " 'amenities_oven',\n",
       " 'amenities_stove',\n",
       " 'amenities_dryer',\n",
       " 'amenities_firstaidkit',\n",
       " 'amenities_fireextinguisher',\n",
       " 'amenities_coffeemaker',\n",
       " 'amenities_dishwasher',\n",
       " 'amenities_privateentrance',\n",
       " 'amenities_extrapillowsandblankets',\n",
       " 'amenities_luggagedropoffallowed',\n",
       " 'amenities_hostgreetsyou',\n",
       " 'amenities_elevator',\n",
       " 'amenities_lockbox',\n",
       " 'amenities_bathtub',\n",
       " 'amenities_freeparkingonpremises',\n",
       " 'amenities_showergel',\n",
       " 'amenities_backyard',\n",
       " 'amenities_paidparkingoffpremises',\n",
       " 'amenities_freestreetparking',\n",
       " 'amenities_lockonbedroomdoor',\n",
       " 'amenities_cabletv',\n",
       " 'amenities_patioorbalcony',\n",
       " 'amenities_hotwaterkettle',\n",
       " 'amenities_tvwithstandardcable',\n",
       " 'amenities_freezer',\n",
       " 'amenities_cleaningproducts',\n",
       " 'amenities_toaster',\n",
       " 'amenities_diningtable',\n",
       " 'amenities_breakfast',\n",
       " 'amenities_roomdarkeningshades',\n",
       " 'amenities_wineglasses',\n",
       " 'amenities_bodysoap',\n",
       " 'amenities_dryingrackforclothing',\n",
       " 'amenities_singlelevelhome',\n",
       " 'amenities_securitycamerasonproperty',\n",
       " 'amenities_indoorfireplace',\n",
       " 'amenities_conditioner',\n",
       " 'amenities_ethernetconnection',\n",
       " 'amenities_portablefans',\n",
       " 'amenities_packnplaytravelcrib',\n",
       " 'amenities_outdoorfurniture',\n",
       " 'amenities_crib',\n",
       " 'amenities_laundromatnearby',\n",
       " 'amenities_airconditioning',\n",
       " 'amenities_highchair',\n",
       " 'amenities_bakingsheet',\n",
       " 'amenities_bbqgrill',\n",
       " 'amenities_paidparkingonpremises',\n",
       " 'amenities_privatepatioorbalcony',\n",
       " 'amenities_childrensbooksandtoys',\n",
       " 'amenities_centralheating',\n",
       " 'amenities_outdoordiningarea',\n",
       " 'amenities_cleaningbeforecheckout',\n",
       " 'amenities_clothingstorage',\n",
       " 'amenities_clothingstoragecloset',\n",
       " 'amenities_minifridge',\n",
       " 'amenities_buildingstaff',\n",
       " 'amenities_privatefencedgardenorbackyard',\n",
       " 'amenities_gym',\n",
       " 'amenities_childrensdinnerware',\n",
       " 'host_duration',\n",
       " 'properties',\n",
       " 'prop_managed',\n",
       " 'occ_30D',\n",
       " 'occ_6090D',\n",
       " 'occ_365',\n",
       " 'station',\n",
       " 'station_dist',\n",
       " 'walking_distance',\n",
       " 'Unnamed0',\n",
       " 'id_y',\n",
       " 'reviewer_id',\n",
       " 'comments_len',\n",
       " 'key_reviewer',\n",
       " 'negative',\n",
       " 'neutral',\n",
       " 'positive',\n",
       " 'compound',\n",
       " 'x',\n",
       " 'y',\n",
       " 'z']"
      ]
     },
     "execution_count": 23,
     "metadata": {},
     "output_type": "execute_result"
    }
   ],
   "source": [
    "df.columns.tolist()"
   ]
  },
  {
   "cell_type": "code",
   "execution_count": 24,
   "id": "139c0fc2-0338-4291-b2d4-4240fa34e303",
   "metadata": {
    "id": "139c0fc2-0338-4291-b2d4-4240fa34e303"
   },
   "outputs": [],
   "source": [
    "sentiment_features = [   'comments_len',\n",
    "                         'neutral',\n",
    "                         'negative',\n",
    "                         'positive']\n",
    "\n",
    "features_selected = ['host_total_listings_count',\n",
    "                         'neighbourhood_group_cleansed',\n",
    "                         'room_type',\n",
    "                         'accommodates',\n",
    "                         'bedrooms',\n",
    "                         'minimum_nights',\n",
    "                         'maximum_nights',\n",
    "                         'minimum_nights_avg_ntm',\n",
    "                         'maximum_nights_avg_ntm',\n",
    "                         'number_of_reviews',\n",
    "                         'number_of_reviews_ltm',\n",
    "                         'number_of_reviews_l30d',\n",
    "                         'review_scores_rating',\n",
    "                         'review_scores_accuracy',\n",
    "                         'review_scores_cleanliness',\n",
    "                         'review_scores_checkin',\n",
    "                         'review_scores_communication',\n",
    "                         'review_scores_location',\n",
    "                         'review_scores_value',\n",
    "                         'reviews_per_month',\n",
    "                         'bathroom_num',\n",
    "                         'bathroom_sharing',\n",
    "                        'amenities_wifi',\n",
    "                        'amenities_essentials',\n",
    "                        'amenities_smokealarm',\n",
    "                        'amenities_heating',\n",
    "                        'amenities_kitchen',\n",
    "                        'amenities_hangers',\n",
    "                        'amenities_longtermstaysallowed',\n",
    "                        'amenities_iron',\n",
    "                        'amenities_washer',\n",
    "                        'amenities_hairdryer',\n",
    "                        'amenities_hotwater',\n",
    "                        'amenities_shampoo',\n",
    "                        'amenities_carbonmonoxidealarm',\n",
    "                        'amenities_dedicatedworkspace',\n",
    "                        'amenities_dishesandsilverware',\n",
    "                        'amenities_cookingbasics',\n",
    "                        'amenities_refrigerator',\n",
    "                        'amenities_bedlinens',\n",
    "                        'amenities_tv',\n",
    "                        'amenities_microwave',\n",
    "                        'amenities_oven',\n",
    "                        'amenities_stove',\n",
    "                        'amenities_dryer',\n",
    "                        'amenities_firstaidkit',\n",
    "                        'amenities_fireextinguisher',\n",
    "                        'amenities_coffeemaker',\n",
    "                        'amenities_dishwasher',\n",
    "                        'amenities_privateentrance',\n",
    "                        'amenities_extrapillowsandblankets',\n",
    "                        'amenities_luggagedropoffallowed',\n",
    "                        'amenities_hostgreetsyou',\n",
    "                        'amenities_lockbox',\n",
    "                        'amenities_bathtub',\n",
    "                        'amenities_elevator',\n",
    "                        'amenities_freeparkingonpremises',\n",
    "                        'amenities_showergel',\n",
    "                        'amenities_paidparkingoffpremises',\n",
    "                        'amenities_hotwaterkettle',\n",
    "                        'amenities_backyard',\n",
    "                        'amenities_freestreetparking',\n",
    "                        'amenities_lockonbedroomdoor',\n",
    "                        'amenities_cabletv',\n",
    "                        'amenities_patioorbalcony',\n",
    "                        'amenities_freezer',\n",
    "                        'amenities_tvwithstandardcable',\n",
    "                        'amenities_cleaningproducts',\n",
    "                        'amenities_toaster',\n",
    "                        'amenities_diningtable',\n",
    "                        'amenities_wineglasses',\n",
    "                        'amenities_roomdarkeningshades',\n",
    "                        'amenities_bodysoap',\n",
    "                        'amenities_breakfast',\n",
    "                        'amenities_dryingrackforclothing',\n",
    "                        'amenities_singlelevelhome',\n",
    "                        'amenities_securitycamerasonproperty',\n",
    "                        'amenities_conditioner',\n",
    "                        'amenities_indoorfireplace',\n",
    "                        'amenities_portablefans',\n",
    "                        'amenities_ethernetconnection',\n",
    "                        'amenities_outdoorfurniture',\n",
    "                        'amenities_laundromatnearby',\n",
    "                        'amenities_packnplaytravelcrib',\n",
    "                        'amenities_crib',\n",
    "                        'amenities_airconditioning',\n",
    "                        'amenities_highchair',\n",
    "                        'amenities_bakingsheet',\n",
    "                        'amenities_bbqgrill',\n",
    "                        'amenities_paidparkingonpremises',\n",
    "                        'amenities_privatepatioorbalcony',\n",
    "                        'amenities_centralheating',\n",
    "                        'amenities_outdoordiningarea',\n",
    "                        'amenities_childrensbooksandtoys',\n",
    "                        'amenities_cleaningbeforecheckout',\n",
    "                        'amenities_clothingstorage',\n",
    "                        'amenities_clothingstoragecloset',\n",
    "                        'amenities_minifridge',\n",
    "                        'amenities_privatefencedgardenorbackyard',\n",
    "                        'amenities_buildingstaff',\n",
    "                         'host_duration',\n",
    "                         'properties',\n",
    "                         'x',\n",
    "                         'y',\n",
    "                         'z',\n",
    "                         'occ_30D',\n",
    "                         'occ_6090D',\n",
    "                         'occ_365'] + location_features + sentiment_features"
   ]
  },
  {
   "cell_type": "code",
   "execution_count": 25,
   "id": "64fd8d36",
   "metadata": {},
   "outputs": [],
   "source": [
    "def run_SFM_rfr(X,y,n=65):\n",
    "    # Categorical features encoding    \n",
    "    X = pd.get_dummies(X, columns=cat_cols)\n",
    "\n",
    "    # Train-Test split\n",
    "    X_train, X_test, y_train, y_test = train_test_split(X, y, test_size=0.2, random_state=random_state)\n",
    "    \n",
    "    \n",
    "    feature_selector = SelectFromModel(estimator=LGBMRegressor(random_state = random_state),\n",
    "                                       threshold='0.1*mean',\n",
    "                                       max_features=n)\n",
    "\n",
    "    X_train_sfm = feature_selector.fit_transform(X_train, y_train)\n",
    "    X_test_sfm = feature_selector.transform(X_test)\n",
    "    \n",
    "    print('New shape: ',X_train_sfm.shape)\n",
    "    print('Dropped ', X_train.shape[1]-X_train_sfm.shape[1], ' features')\n",
    "    \n",
    "    include=feature_selector.get_support()\n",
    "    headers=X_train.columns\n",
    "\n",
    "    fs=pd.DataFrame({'cols':headers,'include':include})\n",
    "    filters=(fs.include==True)\n",
    "    ncols=fs[filters].cols.to_list()\n",
    "\n",
    "    X_train_sfm = pd.DataFrame(X_train_sfm, columns=ncols)\n",
    "    X_test_sfm =pd.DataFrame(X_test_sfm, columns=ncols)\n",
    "    \n",
    "    cols = X_train_sfm.columns\n",
    "    \n",
    "    stdscaler = StandardScaler()\n",
    "    X_train_trfm = stdscaler.fit_transform(X_train_sfm)\n",
    "    X_test_trfm = stdscaler.transform(X_test_sfm)\n",
    "    \n",
    "    X_train_trfm = pd.DataFrame(X_train_trfm)\n",
    "    X_train_trfm = X_train_trfm.set_axis(cols, axis=1, inplace=False)\n",
    "    X_test_trfm = pd.DataFrame(X_test_trfm)\n",
    "    X_test_trfm = X_test_trfm.set_axis(cols, axis=1, inplace=False)\n",
    "    \n",
    "    return X_train_trfm, X_test_trfm, y_train, y_test"
   ]
  },
  {
   "cell_type": "code",
   "execution_count": 26,
   "id": "38c13851",
   "metadata": {},
   "outputs": [],
   "source": [
    "y_variable = ['price_log']\n",
    "\n",
    "# Set X and y features\n",
    "X = df[features_selected]\n",
    "X = X.drop(['station'],axis=1)\n",
    "y = df[y_variable[0]].ravel()"
   ]
  },
  {
   "cell_type": "code",
   "execution_count": 27,
   "id": "5330a47d",
   "metadata": {},
   "outputs": [
    {
     "name": "stdout",
     "output_type": "stream",
     "text": [
      "X shape: (36705, 114)\n",
      "y shape: (36705,)\n",
      "['bathroom_sharing', 'room_type']\n"
     ]
    }
   ],
   "source": [
    "# Numercial and categorical columns to process\n",
    "num_cols = list(X.select_dtypes(include=np.number).columns)\n",
    "cat_cols = list(set(X.columns)-set(X[num_cols].columns))\n",
    "\n",
    "print('X shape: {}'.format(np.shape(X)))\n",
    "print('y shape: {}'.format(np.shape(y)))\n",
    "print(cat_cols)"
   ]
  },
  {
   "cell_type": "code",
   "execution_count": 28,
   "id": "27c008b1",
   "metadata": {},
   "outputs": [
    {
     "name": "stdout",
     "output_type": "stream",
     "text": [
      "New shape:  (29364, 65)\n",
      "Dropped  54  features\n"
     ]
    }
   ],
   "source": [
    "X_train, X_test, y_train, y_test = run_SFM_rfr(X,y)"
   ]
  },
  {
   "cell_type": "code",
   "execution_count": 29,
   "id": "1ed9373b",
   "metadata": {},
   "outputs": [
    {
     "name": "stdout",
     "output_type": "stream",
     "text": [
      "X shape: (29364, 65)\n",
      "y shape: (29364,)\n",
      "[]\n"
     ]
    }
   ],
   "source": [
    "# Numercial and categorical columns to process\n",
    "num_cols = list(X_train.select_dtypes(include=np.number).columns)\n",
    "cat_cols = list(set(X_train.columns)-set(X_train[num_cols].columns))\n",
    "\n",
    "print('X shape: {}'.format(np.shape(X_train)))\n",
    "print('y shape: {}'.format(np.shape(y_train)))\n",
    "print(cat_cols)"
   ]
  },
  {
   "cell_type": "markdown",
   "id": "NQGfGbAJDozM",
   "metadata": {
    "id": "NQGfGbAJDozM",
    "tags": []
   },
   "source": [
    "# 3. Models"
   ]
  },
  {
   "cell_type": "markdown",
   "id": "ab3b319a",
   "metadata": {},
   "source": [
    "## Additional EDA"
   ]
  },
  {
   "cell_type": "code",
   "execution_count": 30,
   "id": "d0f1d970",
   "metadata": {},
   "outputs": [
    {
     "data": {
      "text/plain": [
       "<matplotlib.legend.Legend at 0x20e299959d0>"
      ]
     },
     "execution_count": 30,
     "metadata": {},
     "output_type": "execute_result"
    },
    {
     "data": {
      "image/png": "[encoded data removed]",
      "text/plain": [
       "<Figure size 540x540 with 12 Axes>"
      ]
     },
     "metadata": {
      "needs_background": "light"
     },
     "output_type": "display_data"
    }
   ],
   "source": [
    "g = sns.PairGrid(df, vars=[\"station_dist\", \"positive\", \"reviews_per_month\"])\n",
    "g.map_diag(sns.kdeplot, color=\".2\")\n",
    "g.map_offdiag(sns.scatterplot, hue=df[\"price_log\"], s=5, linewidth=0)\n",
    "g.axes[1, -1].legend(loc=\"center left\", bbox_to_anchor=(.7, .5))"
   ]
  },
  {
   "cell_type": "markdown",
   "id": "a03e1953-f316-49cc-ac1c-481ccb958eca",
   "metadata": {
    "id": "a03e1953-f316-49cc-ac1c-481ccb958eca",
    "jp-MarkdownHeadingCollapsed": true,
    "tags": []
   },
   "source": [
    "## Linear Regression (Baseline)"
   ]
  },
  {
   "cell_type": "code",
   "execution_count": 31,
   "id": "021a2d43",
   "metadata": {},
   "outputs": [
    {
     "data": {
      "text/html": [
       "<table class=\"simpletable\">\n",
       "<caption>OLS Regression Results</caption>\n",
       "<tr>\n",
       "  <th>Dep. Variable:</th>            <td>y</td>        <th>  R-squared (uncentered):</th>      <td>   0.021</td> \n",
       "</tr>\n",
       "<tr>\n",
       "  <th>Model:</th>                   <td>OLS</td>       <th>  Adj. R-squared (uncentered):</th> <td>   0.018</td> \n",
       "</tr>\n",
       "<tr>\n",
       "  <th>Method:</th>             <td>Least Squares</td>  <th>  F-statistic:       </th>          <td>   9.622</td> \n",
       "</tr>\n",
       "<tr>\n",
       "  <th>Date:</th>             <td>Sat, 23 Apr 2022</td> <th>  Prob (F-statistic):</th>          <td>4.69e-90</td> \n",
       "</tr>\n",
       "<tr>\n",
       "  <th>Time:</th>                 <td>00:21:57</td>     <th>  Log-Likelihood:    </th>          <td> -85763.</td> \n",
       "</tr>\n",
       "<tr>\n",
       "  <th>No. Observations:</th>      <td> 29364</td>      <th>  AIC:               </th>          <td>1.717e+05</td>\n",
       "</tr>\n",
       "<tr>\n",
       "  <th>Df Residuals:</th>          <td> 29300</td>      <th>  BIC:               </th>          <td>1.722e+05</td>\n",
       "</tr>\n",
       "<tr>\n",
       "  <th>Df Model:</th>              <td>    64</td>      <th>                     </th>              <td> </td>    \n",
       "</tr>\n",
       "<tr>\n",
       "  <th>Covariance Type:</th>      <td>nonrobust</td>    <th>                     </th>              <td> </td>    \n",
       "</tr>\n",
       "</table>\n",
       "<table class=\"simpletable\">\n",
       "<tr>\n",
       "                <td></td>                   <th>coef</th>     <th>std err</th>      <th>t</th>      <th>P>|t|</th>  <th>[0.025</th>    <th>0.975]</th>  \n",
       "</tr>\n",
       "<tr>\n",
       "  <th>host_total_listings_count</th>     <td>    0.1259</td> <td>    0.032</td> <td>    3.974</td> <td> 0.000</td> <td>    0.064</td> <td>    0.188</td>\n",
       "</tr>\n",
       "<tr>\n",
       "  <th>accommodates</th>                  <td>    0.1395</td> <td>    0.048</td> <td>    2.914</td> <td> 0.004</td> <td>    0.046</td> <td>    0.233</td>\n",
       "</tr>\n",
       "<tr>\n",
       "  <th>bedrooms</th>                      <td>    0.1191</td> <td>    0.045</td> <td>    2.625</td> <td> 0.009</td> <td>    0.030</td> <td>    0.208</td>\n",
       "</tr>\n",
       "<tr>\n",
       "  <th>minimum_nights</th>                <td>   -0.0273</td> <td>    0.056</td> <td>   -0.490</td> <td> 0.624</td> <td>   -0.137</td> <td>    0.082</td>\n",
       "</tr>\n",
       "<tr>\n",
       "  <th>maximum_nights</th>                <td>   -0.0026</td> <td>    0.027</td> <td>   -0.098</td> <td> 0.922</td> <td>   -0.055</td> <td>    0.050</td>\n",
       "</tr>\n",
       "<tr>\n",
       "  <th>minimum_nights_avg_ntm</th>        <td>    0.0090</td> <td>    0.056</td> <td>    0.160</td> <td> 0.873</td> <td>   -0.101</td> <td>    0.119</td>\n",
       "</tr>\n",
       "<tr>\n",
       "  <th>maximum_nights_avg_ntm</th>        <td>    0.0086</td> <td>    0.027</td> <td>    0.325</td> <td> 0.745</td> <td>   -0.043</td> <td>    0.061</td>\n",
       "</tr>\n",
       "<tr>\n",
       "  <th>number_of_reviews</th>             <td>   -0.0203</td> <td>    0.033</td> <td>   -0.606</td> <td> 0.544</td> <td>   -0.086</td> <td>    0.045</td>\n",
       "</tr>\n",
       "<tr>\n",
       "  <th>number_of_reviews_ltm</th>         <td>    0.0069</td> <td>    0.039</td> <td>    0.176</td> <td> 0.860</td> <td>   -0.070</td> <td>    0.083</td>\n",
       "</tr>\n",
       "<tr>\n",
       "  <th>number_of_reviews_l30d</th>        <td>   -0.0250</td> <td>    0.039</td> <td>   -0.648</td> <td> 0.517</td> <td>   -0.101</td> <td>    0.051</td>\n",
       "</tr>\n",
       "<tr>\n",
       "  <th>review_scores_rating</th>          <td>    0.0539</td> <td>    0.066</td> <td>    0.816</td> <td> 0.414</td> <td>   -0.076</td> <td>    0.183</td>\n",
       "</tr>\n",
       "<tr>\n",
       "  <th>review_scores_accuracy</th>        <td>   -0.0167</td> <td>    0.056</td> <td>   -0.300</td> <td> 0.764</td> <td>   -0.126</td> <td>    0.092</td>\n",
       "</tr>\n",
       "<tr>\n",
       "  <th>review_scores_cleanliness</th>     <td>    0.0540</td> <td>    0.045</td> <td>    1.195</td> <td> 0.232</td> <td>   -0.035</td> <td>    0.143</td>\n",
       "</tr>\n",
       "<tr>\n",
       "  <th>review_scores_checkin</th>         <td>   -0.0304</td> <td>    0.046</td> <td>   -0.655</td> <td> 0.512</td> <td>   -0.121</td> <td>    0.060</td>\n",
       "</tr>\n",
       "<tr>\n",
       "  <th>review_scores_communication</th>   <td>   -0.0512</td> <td>    0.051</td> <td>   -1.009</td> <td> 0.313</td> <td>   -0.151</td> <td>    0.048</td>\n",
       "</tr>\n",
       "<tr>\n",
       "  <th>review_scores_location</th>        <td>    0.0830</td> <td>    0.037</td> <td>    2.216</td> <td> 0.027</td> <td>    0.010</td> <td>    0.156</td>\n",
       "</tr>\n",
       "<tr>\n",
       "  <th>review_scores_value</th>           <td>   -0.0699</td> <td>    0.055</td> <td>   -1.266</td> <td> 0.205</td> <td>   -0.178</td> <td>    0.038</td>\n",
       "</tr>\n",
       "<tr>\n",
       "  <th>reviews_per_month</th>             <td>   -0.0018</td> <td>    0.045</td> <td>   -0.040</td> <td> 0.968</td> <td>   -0.090</td> <td>    0.086</td>\n",
       "</tr>\n",
       "<tr>\n",
       "  <th>bathroom_num</th>                  <td>    0.0424</td> <td>    0.033</td> <td>    1.290</td> <td> 0.197</td> <td>   -0.022</td> <td>    0.107</td>\n",
       "</tr>\n",
       "<tr>\n",
       "  <th>amenities_smokealarm</th>          <td>   -0.0095</td> <td>    0.029</td> <td>   -0.331</td> <td> 0.740</td> <td>   -0.066</td> <td>    0.047</td>\n",
       "</tr>\n",
       "<tr>\n",
       "  <th>amenities_kitchen</th>             <td>   -0.0147</td> <td>    0.029</td> <td>   -0.503</td> <td> 0.615</td> <td>   -0.072</td> <td>    0.043</td>\n",
       "</tr>\n",
       "<tr>\n",
       "  <th>amenities_hangers</th>             <td>   -0.0019</td> <td>    0.030</td> <td>   -0.064</td> <td> 0.949</td> <td>   -0.060</td> <td>    0.056</td>\n",
       "</tr>\n",
       "<tr>\n",
       "  <th>amenities_iron</th>                <td>   -0.0113</td> <td>    0.031</td> <td>   -0.368</td> <td> 0.713</td> <td>   -0.071</td> <td>    0.049</td>\n",
       "</tr>\n",
       "<tr>\n",
       "  <th>amenities_hotwater</th>            <td>   -0.0090</td> <td>    0.034</td> <td>   -0.267</td> <td> 0.790</td> <td>   -0.075</td> <td>    0.057</td>\n",
       "</tr>\n",
       "<tr>\n",
       "  <th>amenities_shampoo</th>             <td>    0.0356</td> <td>    0.028</td> <td>    1.255</td> <td> 0.209</td> <td>   -0.020</td> <td>    0.091</td>\n",
       "</tr>\n",
       "<tr>\n",
       "  <th>amenities_carbonmonoxidealarm</th> <td>    0.0186</td> <td>    0.029</td> <td>    0.647</td> <td> 0.518</td> <td>   -0.038</td> <td>    0.075</td>\n",
       "</tr>\n",
       "<tr>\n",
       "  <th>amenities_bedlinens</th>           <td>   -0.0019</td> <td>    0.034</td> <td>   -0.058</td> <td> 0.954</td> <td>   -0.068</td> <td>    0.064</td>\n",
       "</tr>\n",
       "<tr>\n",
       "  <th>amenities_tv</th>                  <td>    0.0350</td> <td>    0.030</td> <td>    1.175</td> <td> 0.240</td> <td>   -0.023</td> <td>    0.093</td>\n",
       "</tr>\n",
       "<tr>\n",
       "  <th>amenities_microwave</th>           <td>   -0.0216</td> <td>    0.033</td> <td>   -0.650</td> <td> 0.516</td> <td>   -0.087</td> <td>    0.043</td>\n",
       "</tr>\n",
       "<tr>\n",
       "  <th>amenities_dryer</th>               <td>    0.0055</td> <td>    0.030</td> <td>    0.183</td> <td> 0.855</td> <td>   -0.053</td> <td>    0.064</td>\n",
       "</tr>\n",
       "<tr>\n",
       "  <th>amenities_coffeemaker</th>         <td>    0.0259</td> <td>    0.031</td> <td>    0.838</td> <td> 0.402</td> <td>   -0.035</td> <td>    0.087</td>\n",
       "</tr>\n",
       "<tr>\n",
       "  <th>amenities_dishwasher</th>          <td>    0.0458</td> <td>    0.033</td> <td>    1.398</td> <td> 0.162</td> <td>   -0.018</td> <td>    0.110</td>\n",
       "</tr>\n",
       "<tr>\n",
       "  <th>amenities_privateentrance</th>     <td>    0.0106</td> <td>    0.028</td> <td>    0.373</td> <td> 0.709</td> <td>   -0.045</td> <td>    0.066</td>\n",
       "</tr>\n",
       "<tr>\n",
       "  <th>amenities_hostgreetsyou</th>       <td>   -0.0062</td> <td>    0.028</td> <td>   -0.223</td> <td> 0.823</td> <td>   -0.061</td> <td>    0.048</td>\n",
       "</tr>\n",
       "<tr>\n",
       "  <th>amenities_elevator</th>            <td>    0.0287</td> <td>    0.028</td> <td>    1.016</td> <td> 0.310</td> <td>   -0.027</td> <td>    0.084</td>\n",
       "</tr>\n",
       "<tr>\n",
       "  <th>amenities_freestreetparking</th>   <td>   -0.0270</td> <td>    0.029</td> <td>   -0.924</td> <td> 0.356</td> <td>   -0.084</td> <td>    0.030</td>\n",
       "</tr>\n",
       "<tr>\n",
       "  <th>amenities_lockonbedroomdoor</th>   <td>    0.0019</td> <td>    0.033</td> <td>    0.057</td> <td> 0.954</td> <td>   -0.062</td> <td>    0.066</td>\n",
       "</tr>\n",
       "<tr>\n",
       "  <th>amenities_cabletv</th>             <td>    0.0151</td> <td>    0.028</td> <td>    0.533</td> <td> 0.594</td> <td>   -0.040</td> <td>    0.071</td>\n",
       "</tr>\n",
       "<tr>\n",
       "  <th>amenities_patioorbalcony</th>      <td>   -0.0002</td> <td>    0.030</td> <td>   -0.007</td> <td> 0.994</td> <td>   -0.059</td> <td>    0.059</td>\n",
       "</tr>\n",
       "<tr>\n",
       "  <th>amenities_indoorfireplace</th>     <td>    0.0232</td> <td>    0.027</td> <td>    0.849</td> <td> 0.396</td> <td>   -0.030</td> <td>    0.077</td>\n",
       "</tr>\n",
       "<tr>\n",
       "  <th>amenities_outdoorfurniture</th>    <td>    0.0097</td> <td>    0.029</td> <td>    0.340</td> <td> 0.734</td> <td>   -0.046</td> <td>    0.066</td>\n",
       "</tr>\n",
       "<tr>\n",
       "  <th>amenities_crib</th>                <td>    0.0188</td> <td>    0.029</td> <td>    0.656</td> <td> 0.512</td> <td>   -0.037</td> <td>    0.075</td>\n",
       "</tr>\n",
       "<tr>\n",
       "  <th>amenities_airconditioning</th>     <td>    0.0400</td> <td>    0.027</td> <td>    1.458</td> <td> 0.145</td> <td>   -0.014</td> <td>    0.094</td>\n",
       "</tr>\n",
       "<tr>\n",
       "  <th>amenities_minifridge</th>          <td>   -0.0145</td> <td>    0.027</td> <td>   -0.534</td> <td> 0.593</td> <td>   -0.068</td> <td>    0.039</td>\n",
       "</tr>\n",
       "<tr>\n",
       "  <th>amenities_buildingstaff</th>       <td>    0.0040</td> <td>    0.027</td> <td>    0.149</td> <td> 0.882</td> <td>   -0.049</td> <td>    0.057</td>\n",
       "</tr>\n",
       "<tr>\n",
       "  <th>host_duration</th>                 <td>   -0.0009</td> <td>    0.034</td> <td>   -0.025</td> <td> 0.980</td> <td>   -0.068</td> <td>    0.066</td>\n",
       "</tr>\n",
       "<tr>\n",
       "  <th>properties</th>                    <td>   -0.0204</td> <td>    0.033</td> <td>   -0.621</td> <td> 0.535</td> <td>   -0.085</td> <td>    0.044</td>\n",
       "</tr>\n",
       "<tr>\n",
       "  <th>x</th>                             <td>    0.7558</td> <td>    0.209</td> <td>    3.617</td> <td> 0.000</td> <td>    0.346</td> <td>    1.165</td>\n",
       "</tr>\n",
       "<tr>\n",
       "  <th>y</th>                             <td>   -0.1091</td> <td>    0.034</td> <td>   -3.196</td> <td> 0.001</td> <td>   -0.176</td> <td>   -0.042</td>\n",
       "</tr>\n",
       "<tr>\n",
       "  <th>z</th>                             <td>    0.7828</td> <td>    0.215</td> <td>    3.633</td> <td> 0.000</td> <td>    0.360</td> <td>    1.205</td>\n",
       "</tr>\n",
       "<tr>\n",
       "  <th>occ_30D</th>                       <td>   -0.0507</td> <td>    0.054</td> <td>   -0.944</td> <td> 0.345</td> <td>   -0.156</td> <td>    0.055</td>\n",
       "</tr>\n",
       "<tr>\n",
       "  <th>occ_6090D</th>                     <td>   -0.0590</td> <td>    0.065</td> <td>   -0.913</td> <td> 0.361</td> <td>   -0.186</td> <td>    0.068</td>\n",
       "</tr>\n",
       "<tr>\n",
       "  <th>occ_365</th>                       <td>   -0.0358</td> <td>    0.040</td> <td>   -0.905</td> <td> 0.365</td> <td>   -0.113</td> <td>    0.042</td>\n",
       "</tr>\n",
       "<tr>\n",
       "  <th>station_dist</th>                  <td>    0.0110</td> <td>    0.032</td> <td>    0.341</td> <td> 0.733</td> <td>   -0.052</td> <td>    0.074</td>\n",
       "</tr>\n",
       "<tr>\n",
       "  <th>walking_distance</th>              <td>    0.0768</td> <td>    0.033</td> <td>    2.296</td> <td> 0.022</td> <td>    0.011</td> <td>    0.142</td>\n",
       "</tr>\n",
       "<tr>\n",
       "  <th>comments_len</th>                  <td>    0.0068</td> <td>    0.030</td> <td>    0.228</td> <td> 0.820</td> <td>   -0.051</td> <td>    0.065</td>\n",
       "</tr>\n",
       "<tr>\n",
       "  <th>neutral</th>                       <td>   -2.2506</td> <td>   19.889</td> <td>   -0.113</td> <td> 0.910</td> <td>  -41.235</td> <td>   36.733</td>\n",
       "</tr>\n",
       "<tr>\n",
       "  <th>negative</th>                      <td>   -0.6071</td> <td>    5.451</td> <td>   -0.111</td> <td> 0.911</td> <td>  -11.291</td> <td>   10.077</td>\n",
       "</tr>\n",
       "<tr>\n",
       "  <th>positive</th>                      <td>   -2.3954</td> <td>   21.302</td> <td>   -0.112</td> <td> 0.910</td> <td>  -44.148</td> <td>   39.357</td>\n",
       "</tr>\n",
       "<tr>\n",
       "  <th>bathroom_sharing_0</th>            <td>   -0.0750</td> <td>    0.069</td> <td>   -1.084</td> <td> 0.278</td> <td>   -0.211</td> <td>    0.061</td>\n",
       "</tr>\n",
       "<tr>\n",
       "  <th>bathroom_sharing_shared</th>       <td>   -0.1472</td> <td>    0.046</td> <td>   -3.233</td> <td> 0.001</td> <td>   -0.237</td> <td>   -0.058</td>\n",
       "</tr>\n",
       "<tr>\n",
       "  <th>room_type_Entire home/apt</th>     <td>    0.1365</td> <td>    0.033</td> <td>    4.198</td> <td> 0.000</td> <td>    0.073</td> <td>    0.200</td>\n",
       "</tr>\n",
       "<tr>\n",
       "  <th>room_type_Hotel room</th>          <td>    0.0091</td> <td>    0.026</td> <td>    0.344</td> <td> 0.731</td> <td>   -0.043</td> <td>    0.061</td>\n",
       "</tr>\n",
       "<tr>\n",
       "  <th>room_type_Private room</th>        <td>   -0.1309</td> <td>    0.032</td> <td>   -4.090</td> <td> 0.000</td> <td>   -0.194</td> <td>   -0.068</td>\n",
       "</tr>\n",
       "<tr>\n",
       "  <th>room_type_Shared room</th>         <td>   -0.0532</td> <td>    0.027</td> <td>   -1.982</td> <td> 0.048</td> <td>   -0.106</td> <td>   -0.001</td>\n",
       "</tr>\n",
       "</table>\n",
       "<table class=\"simpletable\">\n",
       "<tr>\n",
       "  <th>Omnibus:</th>       <td>11859.708</td> <th>  Durbin-Watson:     </th>  <td>   0.020</td> \n",
       "</tr>\n",
       "<tr>\n",
       "  <th>Prob(Omnibus):</th>  <td> 0.000</td>   <th>  Jarque-Bera (JB):  </th> <td>244987.418</td>\n",
       "</tr>\n",
       "<tr>\n",
       "  <th>Skew:</th>           <td> 1.441</td>   <th>  Prob(JB):          </th>  <td>    0.00</td> \n",
       "</tr>\n",
       "<tr>\n",
       "  <th>Kurtosis:</th>       <td>16.854</td>   <th>  Cond. No.          </th>  <td>2.25e+15</td> \n",
       "</tr>\n",
       "</table><br/><br/>Notes:<br/>[1] R² is computed without centering (uncentered) since the model does not contain a constant.<br/>[2] Standard Errors assume that the covariance matrix of the errors is correctly specified.<br/>[3] The smallest eigenvalue is 3.62e-26. This might indicate that there are<br/>strong multicollinearity problems or that the design matrix is singular."
      ],
      "text/plain": [
       "<class 'statsmodels.iolib.summary.Summary'>\n",
       "\"\"\"\n",
       "                                 OLS Regression Results                                \n",
       "=======================================================================================\n",
       "Dep. Variable:                      y   R-squared (uncentered):                   0.021\n",
       "Model:                            OLS   Adj. R-squared (uncentered):              0.018\n",
       "Method:                 Least Squares   F-statistic:                              9.622\n",
       "Date:                Sat, 23 Apr 2022   Prob (F-statistic):                    4.69e-90\n",
       "Time:                        00:21:57   Log-Likelihood:                         -85763.\n",
       "No. Observations:               29364   AIC:                                  1.717e+05\n",
       "Df Residuals:                   29300   BIC:                                  1.722e+05\n",
       "Df Model:                          64                                                  \n",
       "Covariance Type:            nonrobust                                                  \n",
       "=================================================================================================\n",
       "                                    coef    std err          t      P>|t|      [0.025      0.975]\n",
       "-------------------------------------------------------------------------------------------------\n",
       "host_total_listings_count         0.1259      0.032      3.974      0.000       0.064       0.188\n",
       "accommodates                      0.1395      0.048      2.914      0.004       0.046       0.233\n",
       "bedrooms                          0.1191      0.045      2.625      0.009       0.030       0.208\n",
       "minimum_nights                   -0.0273      0.056     -0.490      0.624      -0.137       0.082\n",
       "maximum_nights                   -0.0026      0.027     -0.098      0.922      -0.055       0.050\n",
       "minimum_nights_avg_ntm            0.0090      0.056      0.160      0.873      -0.101       0.119\n",
       "maximum_nights_avg_ntm            0.0086      0.027      0.325      0.745      -0.043       0.061\n",
       "number_of_reviews                -0.0203      0.033     -0.606      0.544      -0.086       0.045\n",
       "number_of_reviews_ltm             0.0069      0.039      0.176      0.860      -0.070       0.083\n",
       "number_of_reviews_l30d           -0.0250      0.039     -0.648      0.517      -0.101       0.051\n",
       "review_scores_rating              0.0539      0.066      0.816      0.414      -0.076       0.183\n",
       "review_scores_accuracy           -0.0167      0.056     -0.300      0.764      -0.126       0.092\n",
       "review_scores_cleanliness         0.0540      0.045      1.195      0.232      -0.035       0.143\n",
       "review_scores_checkin            -0.0304      0.046     -0.655      0.512      -0.121       0.060\n",
       "review_scores_communication      -0.0512      0.051     -1.009      0.313      -0.151       0.048\n",
       "review_scores_location            0.0830      0.037      2.216      0.027       0.010       0.156\n",
       "review_scores_value              -0.0699      0.055     -1.266      0.205      -0.178       0.038\n",
       "reviews_per_month                -0.0018      0.045     -0.040      0.968      -0.090       0.086\n",
       "bathroom_num                      0.0424      0.033      1.290      0.197      -0.022       0.107\n",
       "amenities_smokealarm             -0.0095      0.029     -0.331      0.740      -0.066       0.047\n",
       "amenities_kitchen                -0.0147      0.029     -0.503      0.615      -0.072       0.043\n",
       "amenities_hangers                -0.0019      0.030     -0.064      0.949      -0.060       0.056\n",
       "amenities_iron                   -0.0113      0.031     -0.368      0.713      -0.071       0.049\n",
       "amenities_hotwater               -0.0090      0.034     -0.267      0.790      -0.075       0.057\n",
       "amenities_shampoo                 0.0356      0.028      1.255      0.209      -0.020       0.091\n",
       "amenities_carbonmonoxidealarm     0.0186      0.029      0.647      0.518      -0.038       0.075\n",
       "amenities_bedlinens              -0.0019      0.034     -0.058      0.954      -0.068       0.064\n",
       "amenities_tv                      0.0350      0.030      1.175      0.240      -0.023       0.093\n",
       "amenities_microwave              -0.0216      0.033     -0.650      0.516      -0.087       0.043\n",
       "amenities_dryer                   0.0055      0.030      0.183      0.855      -0.053       0.064\n",
       "amenities_coffeemaker             0.0259      0.031      0.838      0.402      -0.035       0.087\n",
       "amenities_dishwasher              0.0458      0.033      1.398      0.162      -0.018       0.110\n",
       "amenities_privateentrance         0.0106      0.028      0.373      0.709      -0.045       0.066\n",
       "amenities_hostgreetsyou          -0.0062      0.028     -0.223      0.823      -0.061       0.048\n",
       "amenities_elevator                0.0287      0.028      1.016      0.310      -0.027       0.084\n",
       "amenities_freestreetparking      -0.0270      0.029     -0.924      0.356      -0.084       0.030\n",
       "amenities_lockonbedroomdoor       0.0019      0.033      0.057      0.954      -0.062       0.066\n",
       "amenities_cabletv                 0.0151      0.028      0.533      0.594      -0.040       0.071\n",
       "amenities_patioorbalcony         -0.0002      0.030     -0.007      0.994      -0.059       0.059\n",
       "amenities_indoorfireplace         0.0232      0.027      0.849      0.396      -0.030       0.077\n",
       "amenities_outdoorfurniture        0.0097      0.029      0.340      0.734      -0.046       0.066\n",
       "amenities_crib                    0.0188      0.029      0.656      0.512      -0.037       0.075\n",
       "amenities_airconditioning         0.0400      0.027      1.458      0.145      -0.014       0.094\n",
       "amenities_minifridge             -0.0145      0.027     -0.534      0.593      -0.068       0.039\n",
       "amenities_buildingstaff           0.0040      0.027      0.149      0.882      -0.049       0.057\n",
       "host_duration                    -0.0009      0.034     -0.025      0.980      -0.068       0.066\n",
       "properties                       -0.0204      0.033     -0.621      0.535      -0.085       0.044\n",
       "x                                 0.7558      0.209      3.617      0.000       0.346       1.165\n",
       "y                                -0.1091      0.034     -3.196      0.001      -0.176      -0.042\n",
       "z                                 0.7828      0.215      3.633      0.000       0.360       1.205\n",
       "occ_30D                          -0.0507      0.054     -0.944      0.345      -0.156       0.055\n",
       "occ_6090D                        -0.0590      0.065     -0.913      0.361      -0.186       0.068\n",
       "occ_365                          -0.0358      0.040     -0.905      0.365      -0.113       0.042\n",
       "station_dist                      0.0110      0.032      0.341      0.733      -0.052       0.074\n",
       "walking_distance                  0.0768      0.033      2.296      0.022       0.011       0.142\n",
       "comments_len                      0.0068      0.030      0.228      0.820      -0.051       0.065\n",
       "neutral                          -2.2506     19.889     -0.113      0.910     -41.235      36.733\n",
       "negative                         -0.6071      5.451     -0.111      0.911     -11.291      10.077\n",
       "positive                         -2.3954     21.302     -0.112      0.910     -44.148      39.357\n",
       "bathroom_sharing_0               -0.0750      0.069     -1.084      0.278      -0.211       0.061\n",
       "bathroom_sharing_shared          -0.1472      0.046     -3.233      0.001      -0.237      -0.058\n",
       "room_type_Entire home/apt         0.1365      0.033      4.198      0.000       0.073       0.200\n",
       "room_type_Hotel room              0.0091      0.026      0.344      0.731      -0.043       0.061\n",
       "room_type_Private room           -0.1309      0.032     -4.090      0.000      -0.194      -0.068\n",
       "room_type_Shared room            -0.0532      0.027     -1.982      0.048      -0.106      -0.001\n",
       "==============================================================================\n",
       "Omnibus:                    11859.708   Durbin-Watson:                   0.020\n",
       "Prob(Omnibus):                  0.000   Jarque-Bera (JB):           244987.418\n",
       "Skew:                           1.441   Prob(JB):                         0.00\n",
       "Kurtosis:                      16.854   Cond. No.                     2.25e+15\n",
       "==============================================================================\n",
       "\n",
       "Notes:\n",
       "[1] R² is computed without centering (uncentered) since the model does not contain a constant.\n",
       "[2] Standard Errors assume that the covariance matrix of the errors is correctly specified.\n",
       "[3] The smallest eigenvalue is 3.62e-26. This might indicate that there are\n",
       "strong multicollinearity problems or that the design matrix is singular.\n",
       "\"\"\""
      ]
     },
     "execution_count": 31,
     "metadata": {},
     "output_type": "execute_result"
    }
   ],
   "source": [
    "import statsmodels.api as sm\n",
    "import matplotlib.pyplot as plt\n",
    "lr = sm.OLS(y_train,X_train)\n",
    "results = lr.fit()\n",
    "results.summary()"
   ]
  },
  {
   "cell_type": "code",
   "execution_count": 32,
   "id": "1864786b",
   "metadata": {},
   "outputs": [
    {
     "data": {
      "text/plain": [
       "194.36733576869665"
      ]
     },
     "execution_count": 32,
     "metadata": {},
     "output_type": "execute_result"
    }
   ],
   "source": [
    "results.mse_model"
   ]
  },
  {
   "cell_type": "markdown",
   "id": "7a4a9945",
   "metadata": {},
   "source": [
    "## Decision Tree (Baseline)"
   ]
  },
  {
   "cell_type": "code",
   "execution_count": 33,
   "id": "4a8a61b3",
   "metadata": {},
   "outputs": [
    {
     "name": "stderr",
     "output_type": "stream",
     "text": [
      "[Parallel(n_jobs=2)]: Using backend LokyBackend with 2 concurrent workers.\n",
      "[Parallel(n_jobs=2)]: Done   5 out of   5 | elapsed:    4.3s finished\n"
     ]
    },
    {
     "name": "stdout",
     "output_type": "stream",
     "text": [
      "Train R-sq 1.0\n",
      "Train MSE: 0.0\n",
      "\n",
      "CV R-sq 0.4697\n",
      "CV MSE: 0.3298\n",
      "\n",
      "Test R-sq 0.4938\n",
      "Test MSE: 0.3051\n"
     ]
    }
   ],
   "source": [
    "dt = DecisionTreeRegressor()\n",
    "\n",
    "dt_model = fit_and_score(model = dt, \n",
    "                             X_train = X_train, \n",
    "                             X_test = X_test,\n",
    "                             y_train = y_train,\n",
    "                             y_test = y_test)"
   ]
  },
  {
   "cell_type": "markdown",
   "id": "4a9f7e7c-2834-4c86-a109-abb37897a5b8",
   "metadata": {
    "id": "4a9f7e7c-2834-4c86-a109-abb37897a5b8",
    "tags": []
   },
   "source": [
    "## XGB Regressor"
   ]
  },
  {
   "cell_type": "markdown",
   "id": "af2d77e3-9cc5-4033-a1e3-e3461dd2d93f",
   "metadata": {
    "id": "af2d77e3-9cc5-4033-a1e3-e3461dd2d93f",
    "jp-MarkdownHeadingCollapsed": true,
    "tags": []
   },
   "source": [
    "### Tuning XGB\n",
    "\n",
    "RandomizedSearch then GridSearch"
   ]
  },
  {
   "cell_type": "code",
   "execution_count": null,
   "id": "8463f499",
   "metadata": {
    "colab": {
     "base_uri": "https://localhost:8080/"
    },
    "executionInfo": {
     "elapsed": 3129294,
     "status": "ok",
     "timestamp": 1649494830497,
     "user": {
      "displayName": "Hpone Myat Khine",
      "userId": "13391990417136282456"
     },
     "user_tz": -480
    },
    "id": "b76cb67c-26ad-40a2-b957-341019176dd4",
    "outputId": "e8b38f3a-22ff-4b68-bf17-29e648b03a7e"
   },
   "outputs": [],
   "source": [
    "xgb = XGBRegressor(random_state = random_state, use_label_encoder=False)\n",
    "\n",
    "random_grid = {\n",
    "    \"xgbregressor__n_estimators\": range(50, 500, 50),\n",
    "    \"xgbregressor__max_depth\": range(2,20,2),\n",
    "    'xgbregressor__subsample': np.linspace(0.3, 1, 10),\n",
    "    'xgbregressor__colsample_bytree': np.linspace(0.2, 1, 5),\n",
    "    'xgbregressor__reg_lambda': np.linspace(0, 5, 11),\n",
    "    'xgbregressor__reg_alpha': np.linspace(0, 5, 11),\n",
    "    'xgbregressor__gamma': np.linspace(0, 5, 5)\n",
    "}\n",
    "\n",
    "rsearch_xgb = RandomizedSearchCV(xgb, random_grid, cv=5,n_jobs=2, scoring='r2', n_iter = 100, verbose=1)\n",
    "rsearch_xgb.fit(X_train, y_train)\n",
    "\n",
    "print(\"Best params:\\n{}\".format(rsearch_xgb.best_params_))\n",
    "print(\"Best score:\\n{}\".format(rsearch_xgb.best_score_)) "
   ]
  },
  {
   "cell_type": "code",
   "execution_count": null,
   "id": "ee79c068",
   "metadata": {
    "colab": {
     "base_uri": "https://localhost:8080/"
    },
    "executionInfo": {
     "elapsed": 3980545,
     "status": "ok",
     "timestamp": 1649498955457,
     "user": {
      "displayName": "Hpone Myat Khine",
      "userId": "13391990417136282456"
     },
     "user_tz": -480
    },
    "id": "e58204f3-9be9-47ab-a7b2-ccedd2159bc2",
    "outputId": "677d76fc-ca47-4d14-a2dc-66b22c9570b0"
   },
   "outputs": [],
   "source": [
    "grid = {\n",
    "    \"xgbregressor__n_estimators\": [350,400,450],\n",
    "    \"xgbregressor__max_depth\": [6,8,10],\n",
    "    'xgbregressor__subsample': [0.9],\n",
    "    'xgbregressor__colsample_bytree': [0.6],\n",
    "    'xgbregressor__reg_lambda': [1,2,3],\n",
    "    'xgbregressor__reg_alpha': [2,3.5,4.5],\n",
    "    'xgbregressor__gamma': [2,3.75]\n",
    "}\n",
    "\n",
    "gsearch_xgb = grid_search_pipe(xgb, grid, X_train, y_train)"
   ]
  },
  {
   "cell_type": "markdown",
   "id": "2ebb208d-a9b0-49ae-9ef9-2aef3c3b02e1",
   "metadata": {
    "id": "2ebb208d-a9b0-49ae-9ef9-2aef3c3b02e1"
   },
   "source": [
    "### XGB Best"
   ]
  },
  {
   "cell_type": "code",
   "execution_count": null,
   "id": "32030c34-ad07-4b79-a661-dfff5bdd427a",
   "metadata": {
    "id": "32030c34-ad07-4b79-a661-dfff5bdd427a",
    "outputId": "c148f152-b435-4f4e-f629-10a3db61ae4a"
   },
   "outputs": [
    {
     "name": "stderr",
     "output_type": "stream",
     "text": [
      "[Parallel(n_jobs=2)]: Using backend LokyBackend with 2 concurrent workers.\n"
     ]
    }
   ],
   "source": [
    "xgb_best = XGBRegressor(random_state = random_state,\n",
    "                        use_label_encoder=False,\n",
    "                        subsample = 0.9,\n",
    "                        reg_alpha = 2,\n",
    "                        n_estimators = 450, \n",
    "                        max_depth = 8, \n",
    "                        gamma = 2,\n",
    "                        colsample_bytree = 0.6\n",
    "                        )\n",
    "\n",
    "xgb_model = fit_and_score(model = xgb_best, \n",
    "                         X_train = X_train, \n",
    "                         X_test = X_test,\n",
    "                         y_train = y_train,\n",
    "                         y_test = y_test)"
   ]
  },
  {
   "cell_type": "markdown",
   "id": "6259df19",
   "metadata": {
    "id": "6259df19"
   },
   "source": [
    "## LGBM Regressor"
   ]
  },
  {
   "cell_type": "markdown",
   "id": "ca51ee57-9fd5-4024-b093-464d59de194a",
   "metadata": {
    "id": "ca51ee57-9fd5-4024-b093-464d59de194a",
    "jp-MarkdownHeadingCollapsed": true,
    "tags": []
   },
   "source": [
    "### Tuning LGBM"
   ]
  },
  {
   "cell_type": "code",
   "execution_count": null,
   "id": "fe9a3edd",
   "metadata": {
    "id": "b7c28960",
    "outputId": "dcbc0dd7-1c75-46b8-a377-0e851cf16cc4"
   },
   "outputs": [],
   "source": [
    "lgb = LGBMRegressor(random_state = random_state)\n",
    "                    \n",
    "random_grid = { 'lgbmregressor__boosting_type': ['gbdt','dart','goss'],\n",
    "                'lgbmregressor__n_estimators': range(50, 500, 50),\n",
    "                'lgbmregressor__max_bin':range(2, 20, 2),\n",
    "                'lgbmregressor__num_leaves':range(10, 200, 10),\n",
    "                'lgbmregressor__max_depth': np.arange(2,20,2).tolist(),\n",
    "                'lgbmregressor__colsample_bytree' : np.linspace(0.2, 1, 5),\n",
    "                'lgbmregressor__subsample' : np.linspace(0.3, 1, 10)}\n",
    "\n",
    "\n",
    "rsearch_lgb = RandomizedSearchCV(lgb, random_grid, cv=5,n_jobs=2, scoring='r2', n_iter = 100, verbose=1)\n",
    "rsearch_lgb.fit(X_train, y_train)\n",
    "\n",
    "print(\"Best params:\\n{}\".format(rsearch_lgb.best_params_))\n",
    "print(\"Best score:\\n{}\".format(rsearch_lgb.best_score_)) "
   ]
  },
  {
   "cell_type": "code",
   "execution_count": null,
   "id": "1043b9cc",
   "metadata": {
    "id": "056edbf6",
    "outputId": "3956f4cb-32c7-4a13-de53-65301e843ed7"
   },
   "outputs": [],
   "source": [
    "grid= {  'lgbmregressor__boosting_type': ['gbdt'],\n",
    "         'lgbmregressor__n_estimators': [250,300,350],\n",
    "         'lgbmregressor__max_bin':[10],\n",
    "         'lgbmregressor__num_leaves': [25,30,35],\n",
    "         'lgbmregressor__max_depth': [12,14,16],\n",
    "         'lgbmregressor__colsample_bytree' : [0.3,0.4,0.5],\n",
    "         'lgbmregressor__subsample' : [0.50,0.55,0.60]}\n",
    "\n",
    "gsearch_lgb = grid_search_pipe(lgb, grid, X_train, y_train)"
   ]
  },
  {
   "cell_type": "markdown",
   "id": "510bbcf9-c3c1-417d-89ce-c994878cbba5",
   "metadata": {
    "id": "510bbcf9-c3c1-417d-89ce-c994878cbba5"
   },
   "source": [
    "### Best LGBM"
   ]
  },
  {
   "cell_type": "code",
   "execution_count": null,
   "id": "1900d972-9959-4b59-adbb-659e474fbaba",
   "metadata": {
    "id": "1900d972-9959-4b59-adbb-659e474fbaba",
    "outputId": "604001d8-e2db-40d1-efe4-41d23e1d1353"
   },
   "outputs": [],
   "source": [
    "lgbm_best = LGBMRegressor(random_state = random_state,\n",
    "                        boosting_type = 'gbdt',\n",
    "                        colsample_bytree = 0.4,\n",
    "                        max_bin = 10,\n",
    "                        max_depth = 12,\n",
    "                        n_estimators = 350,\n",
    "                        num_leaves = 35,\n",
    "                        subsample = 0.50)\n",
    "        \n",
    "lgb_model_tuned = fit_and_score(model = lgbm_best, \n",
    "                         X_train = X_train, \n",
    "                         X_test = X_test,\n",
    "                         y_train = y_train,\n",
    "                         y_test = y_test)"
   ]
  },
  {
   "cell_type": "markdown",
   "id": "b8f50666",
   "metadata": {
    "id": "b8f50666"
   },
   "source": [
    "## Random Forest Regressor"
   ]
  },
  {
   "cell_type": "markdown",
   "id": "6298dbc3-0949-463b-bf3b-d47ee1a0fee2",
   "metadata": {
    "id": "6298dbc3-0949-463b-bf3b-d47ee1a0fee2",
    "jp-MarkdownHeadingCollapsed": true,
    "tags": []
   },
   "source": [
    "### Tuning RFR"
   ]
  },
  {
   "cell_type": "code",
   "execution_count": null,
   "id": "ee8be12a",
   "metadata": {
    "id": "2315edad",
    "outputId": "7d37aa7d-4a55-4c93-9efe-4482971234bc"
   },
   "outputs": [],
   "source": [
    "rf = RandomForestRegressor(random_state = random_state)\n",
    "\n",
    "random_grid = {'randomforestregressor__max_features':['auto','sqrt','log2'],\n",
    "                'randomforestregressor__n_estimators': range(100,500,50),\n",
    "                'randomforestregressor__bootstrap': [True,False],\n",
    "                'randomforestregressor__oob_score':[True,False],\n",
    "                'randomforestregressor__max_depth': range(2, 20, 2),\n",
    "                'randomforestregressor__ccp_alpha' : np.arange(0.01, 0.30,0.02).tolist(),\n",
    "              'randomforestregressor__min_samples_split' : range(1,5,1)}\n",
    "\n",
    "\n",
    "rsearch_rf = RandomizedSearchCV(rf, random_grid, cv=5,n_jobs=2, scoring='r2', n_iter = 100, verbose=1)\n",
    "rsearch_rf.fit(X_train, y_train)\n",
    "\n",
    "print(\"Best params:\\n{}\".format(rsearch_rf.best_params_))\n",
    "print(\"Best score:\\n{}\".format(rsearch_rf.best_score_))"
   ]
  },
  {
   "cell_type": "code",
   "execution_count": null,
   "id": "2cf774fa",
   "metadata": {
    "id": "3419e636",
    "outputId": "b4f6a367-2a82-4b6d-8c5e-dcc4c6a98a76"
   },
   "outputs": [],
   "source": [
    "grid = {'randomforestregressor__max_features':['log2'],\n",
    "        'randomforestregressor__n_estimators': [200, 250, 300, 350],\n",
    "        'randomforestregressor__bootstrap': [True],\n",
    "        'randomforestregressor__oob_score':[False],\n",
    "        'randomforestregressor__max_depth': [14, 18, 22],\n",
    "        'randomforestregressor__ccp_alpha' : [0.0, 0.01, 0.05],\n",
    "        'randomforestregressor__min_samples_split' : [2, 3, 4]}\n",
    "\n",
    "gsearch_rf = grid_search_pipe(rf, grid, X_train, y_train)"
   ]
  },
  {
   "cell_type": "markdown",
   "id": "72f9ba07-ed62-4176-bbe3-85c79f451c8f",
   "metadata": {
    "id": "72f9ba07-ed62-4176-bbe3-85c79f451c8f"
   },
   "source": [
    "### Best RFR"
   ]
  },
  {
   "cell_type": "code",
   "execution_count": null,
   "id": "35398810-cba4-485c-b614-0af3461d3874",
   "metadata": {
    "id": "35398810-cba4-485c-b614-0af3461d3874",
    "outputId": "c341776b-3fec-48ca-8b71-798609f8e01b"
   },
   "outputs": [],
   "source": [
    "rf_best = RandomForestRegressor(random_state = random_state,\n",
    "                                max_features = 'log2',\n",
    "                                n_estimators = 250,\n",
    "                                bootstrap = True,\n",
    "                                oob_score = False,\n",
    "                                max_depth = 22,\n",
    "                                ccp_alpha = 0.0,\n",
    "                                min_samples_split = 2\n",
    "                                )\n",
    "\n",
    "rf_model_tuned = fit_and_score(model = rf_best, \n",
    "                         X_train = X_train, \n",
    "                         X_test = X_test,\n",
    "                         y_train = y_train,\n",
    "                         y_test = y_test)"
   ]
  },
  {
   "cell_type": "markdown",
   "id": "604862ec-5363-4daa-85a2-229976c5bb84",
   "metadata": {
    "id": "604862ec-5363-4daa-85a2-229976c5bb84",
    "tags": []
   },
   "source": [
    "## Stacking Regressor"
   ]
  },
  {
   "cell_type": "code",
   "execution_count": null,
   "id": "5cda6b67-1537-40df-8e7c-498a72d30363",
   "metadata": {
    "id": "5cda6b67-1537-40df-8e7c-498a72d30363",
    "outputId": "e562cfe8-3d4e-47d1-e960-1b8aba79fa4b"
   },
   "outputs": [],
   "source": [
    "estimators = [\n",
    "    (\"XGBoost Classifier\", xgb_best),\n",
    "    (\"LGBM Classifier\", lgbm_best),\n",
    "    (\"Random Forest Classifier\", rf_best)\n",
    "]\n",
    "\n",
    "stacking_regressor = StackingRegressor(estimators=estimators, \n",
    "                                         final_estimator=LGBMRegressor(random_state=random_state))\n",
    "stacking_regressor"
   ]
  },
  {
   "cell_type": "code",
   "execution_count": null,
   "id": "ab062012-8421-4296-92b3-bb6afd0ee4c7",
   "metadata": {
    "id": "ab062012-8421-4296-92b3-bb6afd0ee4c7",
    "outputId": "db4097d6-7412-4cfd-b408-7388230b9f9d"
   },
   "outputs": [],
   "source": [
    "stacking_regressor_base = fit_and_score(model = stacking_regressor, \n",
    "                         X_train = X_train, \n",
    "                         X_test = X_test,\n",
    "                         y_train = y_train,\n",
    "                         y_test = y_test)"
   ]
  },
  {
   "cell_type": "markdown",
   "id": "02b51f7c-ea0b-4ac4-89c1-1b4bba62454b",
   "metadata": {
    "id": "02b51f7c-ea0b-4ac4-89c1-1b4bba62454b",
    "jp-MarkdownHeadingCollapsed": true,
    "tags": []
   },
   "source": [
    "### Stacking L1 Tuning\n",
    "\n",
    "GridSearch only"
   ]
  },
  {
   "cell_type": "code",
   "execution_count": null,
   "id": "a4c3cc7b-684c-4318-83d7-24aebde52ae3",
   "metadata": {
    "id": "a4c3cc7b-684c-4318-83d7-24aebde52ae3",
    "outputId": "ed4f8d2e-98ce-460a-a3f6-93243f7400db"
   },
   "outputs": [],
   "source": [
    "# Tune LightGBM at Level 1\n",
    "grid = {'final_estimator__n_estimators': [50, 100, 150, 200, 250],\n",
    "               'final_estimator__max_depth': [2, 4, 6, 8, 10]}\n",
    "\n",
    "search = grid_search_pipe(model = stacking_regressor, \n",
    "                            grid = grid, \n",
    "                            X_train = X_train, \n",
    "                            y_train = y_train) "
   ]
  },
  {
   "cell_type": "markdown",
   "id": "1e8048e8-7a0c-479c-8fe1-2e6239a76606",
   "metadata": {
    "id": "1e8048e8-7a0c-479c-8fe1-2e6239a76606"
   },
   "source": [
    "### Best Stacker"
   ]
  },
  {
   "cell_type": "code",
   "execution_count": null,
   "id": "f7d21f6d-a60d-4b8e-98c7-cc46c2d5c72d",
   "metadata": {
    "id": "f7d21f6d-a60d-4b8e-98c7-cc46c2d5c72d",
    "outputId": "eceecb37-04a5-461d-9d45-17670a3305af"
   },
   "outputs": [],
   "source": [
    "estimators = [\n",
    "    (\"LGBM Classifier\", lgbm_best),\n",
    "    (\"XGBoost Classifier\", xgb_best),\n",
    "    (\"Random Forest Classifier\", rf_best)\n",
    "]\n",
    "\n",
    "stacking_regressor_best = StackingRegressor(estimators=estimators, final_estimator=LGBMRegressor(random_state=random_state, max_depth = 4, n_estimators = 50))\n",
    "stacking_regressor_best"
   ]
  },
  {
   "cell_type": "code",
   "execution_count": null,
   "id": "4fab9d9e-339b-445b-a4f2-169f676591c2",
   "metadata": {
    "id": "4fab9d9e-339b-445b-a4f2-169f676591c2",
    "outputId": "2ea48ddd-5d9e-4a7b-9d53-bdba8d70c599"
   },
   "outputs": [],
   "source": [
    "stacking_regressor_best = fit_and_score(model = stacking_regressor_best, \n",
    "                         X_train = X_train, \n",
    "                         X_test = X_test,\n",
    "                         y_train = y_train,\n",
    "                         y_test = y_test)"
   ]
  },
  {
   "cell_type": "markdown",
   "id": "e7af4860",
   "metadata": {},
   "source": [
    "## Neural Network"
   ]
  },
  {
   "cell_type": "code",
   "execution_count": null,
   "id": "1e447768",
   "metadata": {},
   "outputs": [],
   "source": [
    "def rmse(y_true, y_pred):\n",
    "    return backend.sqrt(backend.mean(backend.square(y_pred - y_true), axis=-1))\n",
    "\n",
    "def r2(y_true, y_pred):\n",
    "    SS_res =  backend.sum(backend.square( y_true-y_pred )) \n",
    "    SS_tot = backend.sum(backend.square( y_true - backend.mean(y_true) ) ) \n",
    "    return ( 1 - SS_res/(SS_tot + backend.epsilon()) )"
   ]
  },
  {
   "cell_type": "markdown",
   "id": "ccb8969b",
   "metadata": {},
   "source": [
    "### Baseline NN"
   ]
  },
  {
   "cell_type": "code",
   "execution_count": null,
   "id": "4bb17cd4",
   "metadata": {},
   "outputs": [],
   "source": [
    "# define base model\n",
    "def baseline_model():\n",
    "    # create model\n",
    "    model = Sequential()\n",
    "    model.add(Dense(65, input_dim=65, kernel_initializer='normal'))\n",
    "    model.add(BatchNormalization())\n",
    "    model.add(Activation('relu'))\n",
    "    model.add(Dense(1, kernel_initializer='normal'))\n",
    "    # Compile model\n",
    "    model.compile(loss='mean_squared_error', optimizer='adam', metrics=[rmse,r2])\n",
    "    return model\n",
    "model_bl = baseline_model()\n",
    "model_bl.summary()"
   ]
  },
  {
   "cell_type": "code",
   "execution_count": null,
   "id": "392a1400",
   "metadata": {},
   "outputs": [],
   "source": [
    "epoch=100\n",
    "history_bl = model_bl.fit(X_train, y_train, epochs=epoch, validation_split=0.05, verbose=1)"
   ]
  },
  {
   "cell_type": "code",
   "execution_count": null,
   "id": "79c1eaaa",
   "metadata": {},
   "outputs": [],
   "source": [
    "import plotly.graph_objects as go\n",
    "\n",
    "fig = go.Figure()\n",
    "fig.add_trace(go.Scattergl(y=history_bl.history['loss'],\n",
    "                    name='Train'))\n",
    "fig.add_trace(go.Scattergl(y=history_bl.history['val_loss'],\n",
    "                    name='Valid'))\n",
    "fig.update_layout(height=500, width=700,\n",
    "                  xaxis_title='Epoch',\n",
    "                  yaxis_title='MSE')\n",
    "fig.show()"
   ]
  },
  {
   "cell_type": "markdown",
   "id": "ef66c3ba",
   "metadata": {},
   "source": [
    "### Best Baseline NN"
   ]
  },
  {
   "cell_type": "code",
   "execution_count": null,
   "id": "2cd6f031",
   "metadata": {},
   "outputs": [],
   "source": [
    "best_model_bl = baseline_model()\n",
    "best_model_bl.summary()\n",
    "epoch=50\n",
    "best_history_bl = best_model_bl.fit(X_train, y_train, epochs=epoch, validation_split=0.05, verbose=0)"
   ]
  },
  {
   "cell_type": "code",
   "execution_count": null,
   "id": "4e53f019",
   "metadata": {},
   "outputs": [],
   "source": [
    "from sklearn.model_selection import KFold\n",
    "# Define the K-fold Cross Validator\n",
    "kfold = KFold(n_splits=5, shuffle=True, random_state=random_state)\n",
    "mse_per_fold = []\n",
    "r2_per_fold = []\n",
    "# K-fold Cross Validation model evaluation\n",
    "for train, test in kfold.split(X_train, y_train):\n",
    "    X_val = X_train.iloc[test]\n",
    "    y_val = y_train[test]\n",
    "    # Define the model architecture\n",
    "    model = baseline_model()\n",
    "\n",
    "    # Fit data to model\n",
    "    history = model.fit(X_train.iloc[train], y_train[train],\n",
    "              epochs=epoch,\n",
    "              verbose=0,\n",
    "              validation_data=(X_val,y_val))\n",
    "\n",
    "    # Generate generalization metrics\n",
    "    mse_per_fold.append(history.history['val_loss'][epoch-1])\n",
    "    r2_per_fold.append(history.history['val_r2'][epoch-1])\n",
    "\n",
    "print('CV R-sq: ', round(np.mean(r2_per_fold),4))\n",
    "print('CV MSE: ', round(np.mean(mse_per_fold),4))"
   ]
  },
  {
   "cell_type": "code",
   "execution_count": null,
   "id": "8b73c4e3",
   "metadata": {},
   "outputs": [],
   "source": [
    "mse_nn, rmse_nn, r2_nn = best_model_bl.evaluate(X_test, y_test)\n",
    "print('Train R-sq: ', round(best_history_bl.history['r2'][epoch-1],4))\n",
    "print('Train MSE: ', round(best_history_bl.history['loss'][epoch-1],4))\n",
    "print('Val R-sq: ', round(best_history_bl.history['val_r2'][epoch-1],4))\n",
    "print('Val MSE: ', round(best_history_bl.history['val_loss'][epoch-1],4))\n",
    "print('Test R-sq: ', round(r2_nn,4))\n",
    "print('Test MSE: ', round(mse_nn,4))"
   ]
  },
  {
   "cell_type": "markdown",
   "id": "3bafe8c5",
   "metadata": {},
   "source": [
    "### Deep NN"
   ]
  },
  {
   "cell_type": "code",
   "execution_count": null,
   "id": "9dc3322a",
   "metadata": {},
   "outputs": [],
   "source": [
    "def deep_model():\n",
    "    # create model\n",
    "    model = Sequential()\n",
    "    model.add(Dense(65, input_dim=65, kernel_initializer='normal'))\n",
    "    model.add(BatchNormalization())\n",
    "    model.add(Activation('relu'))\n",
    "    model.add(Dense(32, kernel_initializer='normal'))\n",
    "    model.add(BatchNormalization())\n",
    "    model.add(Activation('relu'))\n",
    "    model.add(Dense(16, kernel_initializer='normal'))\n",
    "    model.add(BatchNormalization())\n",
    "    model.add(Activation('relu'))\n",
    "    model.add(Dense(1, kernel_initializer='normal'))\n",
    "    # Compile model\n",
    "    model.compile(loss='mean_squared_error', optimizer='adam', metrics=[rmse,r2])\n",
    "    return model\n",
    "model_dp = deep_model()\n",
    "model_dp.summary()"
   ]
  },
  {
   "cell_type": "code",
   "execution_count": null,
   "id": "270d96cf",
   "metadata": {},
   "outputs": [],
   "source": [
    "epoch=100\n",
    "history_dp = model_dp.fit(X_train, y_train, epochs=epoch, validation_split=0.05, verbose=0)"
   ]
  },
  {
   "cell_type": "code",
   "execution_count": null,
   "id": "da1d2221",
   "metadata": {},
   "outputs": [],
   "source": [
    "import plotly.graph_objects as go\n",
    "\n",
    "fig = go.Figure()\n",
    "fig.add_trace(go.Scattergl(y=history_dp.history['loss'],\n",
    "                    name='Train'))\n",
    "fig.add_trace(go.Scattergl(y=history_dp.history['val_loss'],\n",
    "                    name='Valid'))\n",
    "fig.update_layout(height=500, width=700,\n",
    "                  xaxis_title='Epoch',\n",
    "                  yaxis_title='MSE')\n",
    "fig.show()"
   ]
  },
  {
   "cell_type": "markdown",
   "id": "0a1fd998",
   "metadata": {},
   "source": [
    "### Best Deep NN"
   ]
  },
  {
   "cell_type": "code",
   "execution_count": null,
   "id": "c6b34312",
   "metadata": {},
   "outputs": [],
   "source": [
    "best_model_dp = deep_model()\n",
    "best_model_dp.summary()\n",
    "epoch=50\n",
    "best_history_dp = best_model_dp.fit(X_train, y_train, epochs=epoch, validation_split=0.05, verbose=0)"
   ]
  },
  {
   "cell_type": "code",
   "execution_count": null,
   "id": "ef787cef",
   "metadata": {},
   "outputs": [],
   "source": [
    "from sklearn.model_selection import KFold\n",
    "# Define the K-fold Cross Validator\n",
    "kfold = KFold(n_splits=5, shuffle=True, random_state=random_state)\n",
    "mse_per_fold = []\n",
    "r2_per_fold = []\n",
    "# K-fold Cross Validation model evaluation\n",
    "for train, test in kfold.split(X_train, y_train):\n",
    "    X_val = X_train.iloc[test]\n",
    "    y_val = y_train[test]\n",
    "    # Define the model architecture\n",
    "    model = deep_model()\n",
    "\n",
    "    # Fit data to model\n",
    "    history = model.fit(X_train.iloc[train], y_train[train],\n",
    "              epochs=epoch,\n",
    "              verbose=0,\n",
    "              validation_data=(X_val,y_val))\n",
    "\n",
    "    # Generate generalization metrics\n",
    "    mse_per_fold.append(history.history['val_loss'][epoch-1])\n",
    "    r2_per_fold.append(history.history['val_r2'][epoch-1])\n",
    "\n",
    "print('CV R-sq: ', round(np.mean(r2_per_fold),4))\n",
    "print('CV MSE: ', round(np.mean(mse_per_fold),4))"
   ]
  },
  {
   "cell_type": "code",
   "execution_count": null,
   "id": "edf9c2e1",
   "metadata": {},
   "outputs": [],
   "source": [
    "mse_nn, rmse_nn, r2_nn = best_model_dp.evaluate(X_test, y_test)\n",
    "print('Train R-sq: ', round(best_history_dp.history['r2'][epoch-1],4))\n",
    "print('Train MSE: ', round(best_history_dp.history['loss'][epoch-1],4))\n",
    "print('Val R-sq: ', round(best_history_dp.history['val_r2'][epoch-1],4))\n",
    "print('Val MSE: ', round(best_history_dp.history['val_loss'][epoch-1],4))\n",
    "print('Test R-sq: ', round(r2_nn,4))\n",
    "print('Test MSE: ', round(mse_nn,4))"
   ]
  },
  {
   "cell_type": "markdown",
   "id": "b186d717",
   "metadata": {},
   "source": [
    "### Wide NN"
   ]
  },
  {
   "cell_type": "code",
   "execution_count": null,
   "id": "d52a926c",
   "metadata": {},
   "outputs": [],
   "source": [
    "def wide_model():\n",
    "    # create model\n",
    "    model = Sequential()\n",
    "    model.add(Dense(128, input_dim=65, kernel_initializer='normal'))\n",
    "    model.add(BatchNormalization())\n",
    "    model.add(Activation('relu'))\n",
    "    model.add(Dense(1, kernel_initializer='normal'))\n",
    "    # Compile model\n",
    "    model.compile(loss='mean_squared_error', optimizer='adam', metrics=[rmse,r2])\n",
    "    return model\n",
    "model_wd = wide_model()\n",
    "model_wd.summary()"
   ]
  },
  {
   "cell_type": "code",
   "execution_count": null,
   "id": "7be49b0d",
   "metadata": {},
   "outputs": [],
   "source": [
    "epoch=100\n",
    "history_wd = model_wd.fit(X_train, y_train, epochs=epoch, validation_split=0.05, verbose=0)"
   ]
  },
  {
   "cell_type": "code",
   "execution_count": null,
   "id": "43eabb66",
   "metadata": {},
   "outputs": [],
   "source": [
    "import plotly.graph_objects as go\n",
    "\n",
    "fig = go.Figure()\n",
    "fig.add_trace(go.Scattergl(y=history_wd.history['loss'],\n",
    "                    name='Train'))\n",
    "fig.add_trace(go.Scattergl(y=history_wd.history['val_loss'],\n",
    "                    name='Valid'))\n",
    "fig.update_layout(height=500, width=700,\n",
    "                  xaxis_title='Epoch',\n",
    "                  yaxis_title='MSE')\n",
    "fig.show()"
   ]
  },
  {
   "cell_type": "markdown",
   "id": "0088f92c",
   "metadata": {},
   "source": [
    "### Best Wide NN"
   ]
  },
  {
   "cell_type": "code",
   "execution_count": null,
   "id": "fc82a618",
   "metadata": {},
   "outputs": [],
   "source": [
    "best_model_wd = wide_model()\n",
    "best_model_wd.summary()\n",
    "epoch=30\n",
    "best_history_wd = best_model_wd.fit(X_train, y_train, epochs=epoch, validation_split=0.05, verbose=0)"
   ]
  },
  {
   "cell_type": "code",
   "execution_count": null,
   "id": "771fbfcb",
   "metadata": {},
   "outputs": [],
   "source": [
    "from sklearn.model_selection import KFold\n",
    "# Define the K-fold Cross Validator\n",
    "kfold = KFold(n_splits=5, shuffle=True, random_state=random_state)\n",
    "mse_per_fold = []\n",
    "r2_per_fold = []\n",
    "# K-fold Cross Validation model evaluation\n",
    "for train, test in kfold.split(X_train, y_train):\n",
    "    X_val = X_train.iloc[test]\n",
    "    y_val = y_train[test]\n",
    "    # Define the model architecture\n",
    "    model = wide_model()\n",
    "\n",
    "    # Fit data to model\n",
    "    history = model.fit(X_train.iloc[train], y_train[train],\n",
    "              epochs=epoch,\n",
    "              verbose=0,\n",
    "              validation_data=(X_val,y_val))\n",
    "\n",
    "    # Generate generalization metrics\n",
    "    mse_per_fold.append(history.history['val_loss'][epoch-1])\n",
    "    r2_per_fold.append(history.history['val_r2'][epoch-1])\n",
    "\n",
    "print('CV R-sq: ', round(np.mean(r2_per_fold),4))\n",
    "print('CV MSE: ', round(np.mean(mse_per_fold),4))"
   ]
  },
  {
   "cell_type": "code",
   "execution_count": null,
   "id": "4e790062",
   "metadata": {},
   "outputs": [],
   "source": [
    "mse_nn, rmse_nn, r2_nn = best_model_wd.evaluate(X_test, y_test)\n",
    "print('Train R-sq: ', round(best_history_wd.history['r2'][epoch-1],4))\n",
    "print('Train MSE: ', round(best_history_wd.history['loss'][epoch-1],4))\n",
    "print('Val R-sq: ', round(best_history_wd.history['val_r2'][epoch-1],4))\n",
    "print('Val MSE: ', round(best_history_wd.history['val_loss'][epoch-1],4))\n",
    "print('Test R-sq: ', round(r2_nn,4))\n",
    "print('Test MSE: ', round(mse_nn,4))"
   ]
  },
  {
   "cell_type": "markdown",
   "id": "NP14hE61EBHX",
   "metadata": {
    "id": "NP14hE61EBHX"
   },
   "source": [
    "# 4. Explainability and Feature Importance\n"
   ]
  },
  {
   "cell_type": "markdown",
   "id": "a3b99a40-2268-4752-ba89-efebd4f23d76",
   "metadata": {
    "id": "a3b99a40-2268-4752-ba89-efebd4f23d76"
   },
   "source": [
    "### Permutation Feature Importance"
   ]
  },
  {
   "cell_type": "code",
   "execution_count": null,
   "id": "gk-DtSeID_yQ",
   "metadata": {
    "id": "gk-DtSeID_yQ"
   },
   "outputs": [],
   "source": [
    "def plot_feature_importance(name, model_pipeline):\n",
    "    \n",
    "    result = permutation_importance(model_pipeline, X_test, y_test, n_repeats=50, random_state=42)\n",
    "\n",
    "    feature_names = [f\"{i}\" for i in X.columns]\n",
    "    importances = result.importances_mean\n",
    "    std = result.importances_std\n",
    "\n",
    "    my_dict = {'feature_names': feature_names, 'feature_impt': importances, 'std': std}\n",
    "\n",
    "    pi = pd.DataFrame.from_dict(my_dict)\n",
    "    pi.sort_values(by = 'feature_impt', ascending = False, inplace = True)\n",
    "    \n",
    "    return pi\n",
    "\n",
    "# to plot the feature importance for the best model \n",
    "pi = plot_feature_importance(name = 'Stacking Regressor', model_pipeline = stacking_regressor_best)\n",
    "pi.to_csv('output/feature_importances.csv')"
   ]
  },
  {
   "cell_type": "code",
   "execution_count": null,
   "id": "6cbf9118-97ea-4058-969d-147cce3a1529",
   "metadata": {
    "id": "6cbf9118-97ea-4058-969d-147cce3a1529"
   },
   "outputs": [],
   "source": [
    "# Load pre-computed feature_importances from best stacker\n",
    "pi = pd.read_csv('output/feature_importances.csv')"
   ]
  },
  {
   "cell_type": "code",
   "execution_count": null,
   "id": "d0f1b631-9723-42e6-a25e-aeb9b9697bd4",
   "metadata": {
    "id": "d0f1b631-9723-42e6-a25e-aeb9b9697bd4",
    "outputId": "1545cf31-58e7-4a45-a5d8-adf73a3c53ae"
   },
   "outputs": [],
   "source": [
    "# Visualize feature importances\n",
    "pi_top20 = pi[0:20]\n",
    "name = 'Stacking Regressor'\n",
    "fig, ax = plt.subplots(figsize=[7,7])\n",
    "plt.barh(y = pi_top20['feature_names'], width = pi_top20['feature_impt'], xerr=pi_top20['std'], height = 0.7)\n",
    "ax.set_title(\"Permutation Feature Importance ({})\".format(name), fontsize = 15)\n",
    "ax.set_xlabel(\"Mean accuracy decrease\")\n",
    "ax.invert_yaxis()  # labels read top-to-bottom\n",
    "fig.tight_layout()\n",
    "plt.show()"
   ]
  },
  {
   "cell_type": "markdown",
   "id": "9bd0995e-500c-4ca4-8850-b2b20bf05c94",
   "metadata": {
    "id": "9bd0995e-500c-4ca4-8850-b2b20bf05c94"
   },
   "source": [
    "### SHAP Values"
   ]
  },
  {
   "cell_type": "code",
   "execution_count": null,
   "id": "899b796a-54ff-4390-81a0-b427b33cb9e7",
   "metadata": {
    "id": "899b796a-54ff-4390-81a0-b427b33cb9e7"
   },
   "outputs": [],
   "source": [
    "import shap"
   ]
  },
  {
   "cell_type": "code",
   "execution_count": null,
   "id": "90ffa2e6-8321-4343-93d5-66390b574dbd",
   "metadata": {
    "id": "90ffa2e6-8321-4343-93d5-66390b574dbd",
    "outputId": "0d7fb4ca-5c27-4491-f066-b48754b0b9f9"
   },
   "outputs": [],
   "source": [
    "explainer = shap.TreeExplainer(lgbm_best.named_steps[\"regressor\"])\n",
    "shap_values = explainer.shap_values(lgbm_best[:-1].transform(X_train))\n",
    "np.shape(shap_values)"
   ]
  },
  {
   "cell_type": "code",
   "execution_count": null,
   "id": "6b301108-f2f9-47bf-8637-15fcad0e35cd",
   "metadata": {
    "id": "6b301108-f2f9-47bf-8637-15fcad0e35cd",
    "outputId": "af808019-b135-4032-d22b-35b4b91d5195"
   },
   "outputs": [],
   "source": [
    "plt.figure(figsize = (8,5))\n",
    "shap.summary_plot(shap_values, X_train)\n",
    "plt.show()"
   ]
  },
  {
   "cell_type": "markdown",
   "id": "b17ff0e9",
   "metadata": {},
   "source": [
    "### Neural Network SHAP"
   ]
  },
  {
   "cell_type": "code",
   "execution_count": null,
   "id": "19fb6865",
   "metadata": {},
   "outputs": [],
   "source": [
    "explainer = shap.DeepExplainer(best_model_bl,X_train[:100])\n",
    "shap_values = explainer.shap_values(X_train.values)\n",
    "plt.figure(figsize = (8,5))\n",
    "shap.summary_plot(shap_values, X_train, show=False)\n",
    "plt.title(\"Baseline NN SHAP values\",size=30)\n",
    "plt.show()"
   ]
  },
  {
   "cell_type": "code",
   "execution_count": null,
   "id": "45ee92d2",
   "metadata": {},
   "outputs": [],
   "source": [
    "explainer = shap.DeepExplainer(best_model_dp,X_train[:100])\n",
    "shap_values = explainer.shap_values(X_train.values)\n",
    "plt.figure(figsize = (8,5))\n",
    "shap.summary_plot(shap_values, X_train, show=False)\n",
    "plt.title(\"Deep NN SHAP values\",size=30)\n",
    "plt.show()"
   ]
  },
  {
   "cell_type": "code",
   "execution_count": null,
   "id": "c9ee601b",
   "metadata": {},
   "outputs": [],
   "source": [
    "explainer = shap.DeepExplainer(best_model_wd,X_train[:100])\n",
    "shap_values = explainer.shap_values(X_train.values)\n",
    "plt.figure(figsize = (8,5))\n",
    "shap.summary_plot(shap_values, X_train, show=False)\n",
    "plt.title(\"Wide NN SHAP values\",size=30)\n",
    "plt.show()"
   ]
  },
  {
   "cell_type": "markdown",
   "id": "26d5f461-828d-436d-b403-d3946f636966",
   "metadata": {
    "id": "26d5f461-828d-436d-b403-d3946f636966"
   },
   "source": [
    "### Actual vs Predicted"
   ]
  },
  {
   "cell_type": "code",
   "execution_count": null,
   "id": "18d1a4f2-a769-452c-9168-682c7ea75781",
   "metadata": {
    "id": "18d1a4f2-a769-452c-9168-682c7ea75781"
   },
   "outputs": [],
   "source": [
    "import matplotlib.cm as cm\n",
    "sns.set_style(\"whitegrid\")"
   ]
  },
  {
   "cell_type": "code",
   "execution_count": null,
   "id": "a7235f7f-e45b-4af2-99ef-6b04a632db81",
   "metadata": {
    "id": "a7235f7f-e45b-4af2-99ef-6b04a632db81",
    "outputId": "03d97570-0d9c-4217-c373-da16bc32368e"
   },
   "outputs": [],
   "source": [
    "stacking_regressor_best.fit(X_train, y_train)\n",
    "pred = stacking_regressor_best.predict(X_test)\n",
    "df_pred = pd.DataFrame.from_dict({'y_pred': pred, 'y_true': y_test})\n",
    "df_pred['deviation'] = df_pred['y_pred'] - df_pred['y_true']\n",
    "\n",
    "# Get/set params for the colour mapping\n",
    "vcenter = 0\n",
    "vmin, vmax = df_pred['deviation'].min(), df_pred['deviation'].max()\n",
    "normalize = mcolors.TwoSlopeNorm(vcenter=vcenter, vmin=vmin, vmax=vmax)\n",
    "colormap = cm.coolwarm_r\n",
    "\n",
    "plt.figure(figsize = (8,5))\n",
    "sns.scatterplot(x = 'y_true', y = 'y_pred', data = df_pred,  \n",
    "                cmap=colormap, c=df_pred['deviation'], norm=normalize)\n",
    "\n",
    "scalarmappaple = cm.ScalarMappable(norm=normalize, cmap=colormap)\n",
    "scalarmappaple.set_array(df_pred['deviation'])\n",
    "plt.colorbar(scalarmappaple)\n",
    "plt.ylim(2,9)\n",
    "plt.xlim(2,9)\n",
    "plt.title('Stacking Regressor Predicted vs True Log Price', fontsize = 15)\n",
    "plt.show()"
   ]
  },
  {
   "cell_type": "code",
   "execution_count": null,
   "id": "666d8496-0367-4f78-86f7-77b0c437eca9",
   "metadata": {
    "id": "666d8496-0367-4f78-86f7-77b0c437eca9",
    "outputId": "bd68b11b-07e1-4bf9-cc4d-609580d417ca"
   },
   "outputs": [],
   "source": [
    "sns.histplot(df_pred['deviation'])\n",
    "plt.xlabel('Error (Log Price)')\n",
    "plt.ylabel('Number of Observations')\n",
    "plt.title('Distribution of Prediction Error (Stacking)', fontsize = 15)\n",
    "plt.xlim(-2, 2)\n",
    "plt.show()"
   ]
  },
  {
   "cell_type": "code",
   "execution_count": null,
   "id": "57ca6416-2145-4ec3-999f-1162cd1a766d",
   "metadata": {
    "id": "57ca6416-2145-4ec3-999f-1162cd1a766d",
    "outputId": "fc37ba60-b33a-4279-9ec2-510f1dd72da0"
   },
   "outputs": [],
   "source": [
    "\n",
    "lgbm_best.fit(X_train, y_train)\n",
    "pred = lgbm_best.predict(X_test)\n",
    "df_pred = pd.DataFrame.from_dict({'y_pred': pred, 'y_true': y_test})\n",
    "df_pred['deviation'] = df_pred['y_pred'] - df_pred['y_true']\n",
    "\n",
    "# Get/set params for the colour mapping\n",
    "vcenter = 0\n",
    "vmin, vmax = df_pred['deviation'].min(), df_pred['deviation'].max()\n",
    "normalize = mcolors.TwoSlopeNorm(vcenter=vcenter, vmin=vmin, vmax=vmax)\n",
    "colormap = cm.coolwarm_r\n",
    "\n",
    "plt.figure(figsize = (8,5))\n",
    "sns.scatterplot(x = 'y_true', y = 'y_pred', data = df_pred,  \n",
    "                cmap=colormap, c=df_pred['deviation'], norm=normalize)\n",
    "\n",
    "scalarmappaple = cm.ScalarMappable(norm=normalize, cmap=colormap)\n",
    "scalarmappaple.set_array(df_pred['deviation'])\n",
    "plt.colorbar(scalarmappaple)\n",
    "plt.ylim(2,9)\n",
    "plt.xlim(2,9)\n",
    "plt.title('LGBM Predicted vs True Log Price', fontsize = 15)\n",
    "plt.show()"
   ]
  },
  {
   "cell_type": "code",
   "execution_count": null,
   "id": "09c71f7b-d34e-4bdc-aa0f-d6b45f7ff1bb",
   "metadata": {
    "id": "09c71f7b-d34e-4bdc-aa0f-d6b45f7ff1bb",
    "outputId": "0b8ebff5-0b9f-4f7f-9f04-08eb21c45e38"
   },
   "outputs": [],
   "source": [
    "rf_best.fit(X_train, y_train)\n",
    "pred = rf_best.predict(X_test)\n",
    "df_pred = pd.DataFrame.from_dict({'y_pred': pred, 'y_true': y_test})\n",
    "df_pred['deviation'] = df_pred['y_pred'] - df_pred['y_true']\n",
    "\n",
    "# Get/set params for the colour mapping\n",
    "vcenter = 0\n",
    "vmin, vmax = df_pred['deviation'].min(), df_pred['deviation'].max()\n",
    "normalize = mcolors.TwoSlopeNorm(vcenter=vcenter, vmin=vmin, vmax=vmax)\n",
    "colormap = cm.coolwarm_r\n",
    "\n",
    "plt.figure(figsize = (8,5))\n",
    "sns.scatterplot(x = 'y_true', y = 'y_pred', data = df_pred,  \n",
    "                cmap=colormap, c=df_pred['deviation'], norm=normalize)\n",
    "\n",
    "scalarmappaple = cm.ScalarMappable(norm=normalize, cmap=colormap)\n",
    "scalarmappaple.set_array(df_pred['deviation'])\n",
    "plt.colorbar(scalarmappaple)\n",
    "plt.ylim(2,9)\n",
    "plt.xlim(2,9)\n",
    "plt.title('Random Forest Predicted vs True Log Price', fontsize = 15)\n",
    "plt.show()"
   ]
  },
  {
   "cell_type": "code",
   "execution_count": null,
   "id": "098672f4-f48e-4d2a-b489-73a6b2ce2514",
   "metadata": {
    "id": "098672f4-f48e-4d2a-b489-73a6b2ce2514",
    "outputId": "2d2f3698-a3d7-4056-ee27-114ec0cb1f89"
   },
   "outputs": [],
   "source": [
    "xgb_best.fit(X_train, y_train)\n",
    "pred = xgb_best.predict(X_test)\n",
    "df_pred = pd.DataFrame.from_dict({'y_pred': pred, 'y_true': y_test})\n",
    "df_pred['deviation'] = df_pred['y_pred'] - df_pred['y_true']\n",
    "\n",
    "# Get/set params for the colour mapping\n",
    "vcenter = 0\n",
    "vmin, vmax = df_pred['deviation'].min(), df_pred['deviation'].max()\n",
    "normalize = mcolors.TwoSlopeNorm(vcenter=vcenter, vmin=vmin, vmax=vmax)\n",
    "colormap = cm.coolwarm_r\n",
    "\n",
    "plt.figure(figsize = (8,5))\n",
    "sns.scatterplot(x = 'y_true', y = 'y_pred', data = df_pred,  \n",
    "                cmap=colormap, c=df_pred['deviation'], norm=normalize)\n",
    "\n",
    "scalarmappaple = cm.ScalarMappable(norm=normalize, cmap=colormap)\n",
    "scalarmappaple.set_array(df_pred['deviation'])\n",
    "plt.colorbar(scalarmappaple)\n",
    "plt.ylim(2,9)\n",
    "plt.xlim(2,9)\n",
    "plt.title('XGBoost Predicted vs True Log Price', fontsize = 15)\n",
    "plt.show()"
   ]
  },
  {
   "cell_type": "markdown",
   "id": "a6512e35",
   "metadata": {},
   "source": [
    "### Neural Network Actual VS Predicted"
   ]
  },
  {
   "cell_type": "code",
   "execution_count": null,
   "id": "20da51ae",
   "metadata": {},
   "outputs": [],
   "source": [
    "import matplotlib.cm as cm\n",
    "sns.set_style(\"whitegrid\")\n",
    "import matplotlib.colors as mcolors"
   ]
  },
  {
   "cell_type": "code",
   "execution_count": null,
   "id": "188739a2",
   "metadata": {},
   "outputs": [],
   "source": [
    "pred = best_model_bl.predict(X_test_trfm)[:,0]\n",
    "df_pred = pd.DataFrame.from_dict({'y_pred': pred, 'y_true': y_test})\n",
    "df_pred['deviation'] = df_pred['y_pred'] - df_pred['y_true']\n",
    "\n",
    "# Get/set params for the colour mapping\n",
    "vcenter = 0\n",
    "vmin, vmax = df_pred['deviation'].min(), df_pred['deviation'].max()\n",
    "normalize = mcolors.TwoSlopeNorm(vcenter=vcenter, vmin=vmin, vmax=vmax)\n",
    "colormap = cm.coolwarm_r\n",
    "\n",
    "plt.figure(figsize = (8,5))\n",
    "sns.scatterplot(x = 'y_true', y = 'y_pred', data = df_pred,  \n",
    "                cmap=colormap, c=df_pred['deviation'], norm=normalize)\n",
    "\n",
    "scalarmappaple = cm.ScalarMappable(norm=normalize, cmap=colormap)\n",
    "scalarmappaple.set_array(df_pred['deviation'])\n",
    "plt.colorbar(scalarmappaple)\n",
    "plt.ylim(2,9)\n",
    "plt.xlim(2,9)\n",
    "plt.title('Baseline Neural Net Predicted vs True Log Price', fontsize = 15)\n",
    "plt.show()"
   ]
  },
  {
   "cell_type": "code",
   "execution_count": null,
   "id": "64b3775f",
   "metadata": {},
   "outputs": [],
   "source": [
    "sns.histplot(df_pred['deviation'])\n",
    "plt.xlabel('Error (Log Price)')\n",
    "plt.ylabel('Number of Observations')\n",
    "plt.title('Distribution of Prediction Error (Baseline Neural Net)', fontsize = 15)\n",
    "plt.xlim(-2, 2)\n",
    "plt.show()"
   ]
  },
  {
   "cell_type": "code",
   "execution_count": null,
   "id": "0f931dfe",
   "metadata": {},
   "outputs": [],
   "source": [
    "pred = best_model_dp.predict(X_test_trfm)[:,0]\n",
    "df_pred = pd.DataFrame.from_dict({'y_pred': pred, 'y_true': y_test})\n",
    "df_pred['deviation'] = df_pred['y_pred'] - df_pred['y_true']\n",
    "\n",
    "# Get/set params for the colour mapping\n",
    "vcenter = 0\n",
    "vmin, vmax = df_pred['deviation'].min(), df_pred['deviation'].max()\n",
    "normalize = mcolors.TwoSlopeNorm(vcenter=vcenter, vmin=vmin, vmax=vmax)\n",
    "colormap = cm.coolwarm_r\n",
    "\n",
    "plt.figure(figsize = (8,5))\n",
    "sns.scatterplot(x = 'y_true', y = 'y_pred', data = df_pred,  \n",
    "                cmap=colormap, c=df_pred['deviation'], norm=normalize)\n",
    "\n",
    "scalarmappaple = cm.ScalarMappable(norm=normalize, cmap=colormap)\n",
    "scalarmappaple.set_array(df_pred['deviation'])\n",
    "plt.colorbar(scalarmappaple)\n",
    "plt.ylim(2,9)\n",
    "plt.xlim(2,9)\n",
    "plt.title('Deep Neural Net Predicted vs True Log Price', fontsize = 15)\n",
    "plt.show()"
   ]
  },
  {
   "cell_type": "code",
   "execution_count": null,
   "id": "177e22eb",
   "metadata": {},
   "outputs": [],
   "source": [
    "sns.histplot(df_pred['deviation'])\n",
    "plt.xlabel('Error (Log Price)')\n",
    "plt.ylabel('Number of Observations')\n",
    "plt.title('Distribution of Prediction Error (Deep Neural Net)', fontsize = 15)\n",
    "plt.xlim(-2, 2)\n",
    "plt.show()"
   ]
  },
  {
   "cell_type": "code",
   "execution_count": null,
   "id": "84c2e65a",
   "metadata": {},
   "outputs": [],
   "source": [
    "pred = best_model_wd.predict(X_test_trfm)[:,0]\n",
    "df_pred = pd.DataFrame.from_dict({'y_pred': pred, 'y_true': y_test})\n",
    "df_pred['deviation'] = df_pred['y_pred'] - df_pred['y_true']\n",
    "\n",
    "# Get/set params for the colour mapping\n",
    "vcenter = 0\n",
    "vmin, vmax = df_pred['deviation'].min(), df_pred['deviation'].max()\n",
    "normalize = mcolors.TwoSlopeNorm(vcenter=vcenter, vmin=vmin, vmax=vmax)\n",
    "colormap = cm.coolwarm_r\n",
    "\n",
    "plt.figure(figsize = (8,5))\n",
    "sns.scatterplot(x = 'y_true', y = 'y_pred', data = df_pred,  \n",
    "                cmap=colormap, c=df_pred['deviation'], norm=normalize)\n",
    "\n",
    "scalarmappaple = cm.ScalarMappable(norm=normalize, cmap=colormap)\n",
    "scalarmappaple.set_array(df_pred['deviation'])\n",
    "plt.colorbar(scalarmappaple)\n",
    "plt.ylim(2,9)\n",
    "plt.xlim(2,9)\n",
    "plt.title('Wide Neural Net Predicted vs True Log Price', fontsize = 15)\n",
    "plt.show()"
   ]
  },
  {
   "cell_type": "code",
   "execution_count": null,
   "id": "eee0075b",
   "metadata": {},
   "outputs": [],
   "source": [
    "sns.histplot(df_pred['deviation'])\n",
    "plt.xlabel('Error (Log Price)')\n",
    "plt.ylabel('Number of Observations')\n",
    "plt.title('Distribution of Prediction Error (Wide Neural Net)', fontsize = 15)\n",
    "plt.xlim(-2, 2)\n",
    "plt.show()"
   ]
  },
  {
   "cell_type": "code",
   "execution_count": null,
   "id": "4ca259a2",
   "metadata": {},
   "outputs": [],
   "source": []
  }
 ],
 "metadata": {
  "colab": {
   "collapsed_sections": [],
   "name": "2.Modelling_Code.ipynb",
   "provenance": []
  },
  "kernelspec": {
   "display_name": "Python 3 (ipykernel)",
   "language": "python",
   "name": "python3"
  },
  "language_info": {
   "codemirror_mode": {
    "name": "ipython",
    "version": 3
   },
   "file_extension": ".py",
   "mimetype": "text/x-python",
   "name": "python",
   "nbconvert_exporter": "python",
   "pygments_lexer": "ipython3",
   "version": "3.9.6"
  }
 },
 "nbformat": 4,
 "nbformat_minor": 5
}
